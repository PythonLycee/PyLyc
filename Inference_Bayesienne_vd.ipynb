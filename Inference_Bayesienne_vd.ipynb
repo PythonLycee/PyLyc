{
 "cells": [
  {
   "cell_type": "markdown",
   "metadata": {},
   "source": [
    "![En tête general](https://raw.githubusercontent.com/PythonLycee/PyLyc/master/img/En_tete_general.png)\n",
    "\n",
    "\n",
    "<i>© Copyright Franck CHEVRIER 2019-2021 https://www.python-lycee.com.</i><br>\n",
    "<i>Les activités partagées sur <a href=\"https://capytale2.ac-paris.fr/web/accueil\"><strong>Capytale</strong></a> sont sous licence <a href=\"https://creativecommons.org/licenses/by-sa/3.0/fr/\">Creative Commons</a>.</i>\n",
    "\n",
    "<span style=\"color: #9317B4\"> Pour exécuter une saisie Python, sélectionner la cellule et valider avec </span><span style=\"color: #B317B4\"><strong>SHIFT+Entrée</strong></span>.\n"
   ]
  },
  {
   "cell_type": "markdown",
   "metadata": {},
   "source": [
    "# <span style=\"color:#6C3483\">Inférence bayésienne </span>\n"
   ]
  },
  {
   "cell_type": "markdown",
   "metadata": {},
   "source": [
    "### <span style=\"color:#8E44AD\">Sommaire</span> \n",
    "\n",
    "<span style=\"color:#8E44AD\">1.</span> <a href=\"#1\">De cause à effet...</a><br>\n",
    "<span style=\"color:#8E44AD\">2.</span> <a href=\"#2\">...et de l'effet à la cause.</a><br>\n"
   ]
  },
  {
   "cell_type": "markdown",
   "metadata": {},
   "source": [
    "## <span style=\"color:#8E44AD\" id=\"1\">1. De cause à effet...</span>"
   ]
  },
  {
   "cell_type": "markdown",
   "metadata": {},
   "source": [
    "<figure style=\"float: right;\">\n",
    "    <img src=\"https://raw.githubusercontent.com/PythonLycee/PyLyc/master/img/Urnes_Bayes.gif\">\n",
    "</figure>\n",
    "On dispose de deux urnes, numérotées 1 et 2 :<br>\n",
    "<ul>\n",
    "    <li>L'<strong>urne n°1</strong> contient <strong>7 boules rouges</strong> et <strong>3 boules vertes</strong>.</li>\n",
    "    <li>L'<strong>urne n°2</strong> contient <strong>2 boules rouges</strong> et <strong>3 boules vertes</strong>.</li>\n",
    "</ul>\n",
    "L'expérience étudiée dans cette activité consiste à lancer une pièce de monnaie équilibrée, puis :<br>\n",
    "<ul>\n",
    "    <li>Si on a obtenu <strong>Pile</strong>, on tire au hasard de façon équiprobable une boule de l'<strong>urne n°1</strong>.</li>\n",
    "    <li>Si on a obtenu <strong>Face</strong>, on tire au hasard de façon équiprobable une boule de l'<strong>urne n°2</strong>.</li>\n",
    "</ul>\n",
    "\n",
    "<i>Lorsqu'on souhaite répéter l'expérience, on remet la boule tirée précédemment dans l'urne avant chaque nouveau tirage.<br>\n",
    "On donnera les résultats sous la forme de fractions irréductibles.</i>"
   ]
  },
  {
   "cell_type": "markdown",
   "metadata": {},
   "source": [
    "__1.1. On fournit la fonction Python <mark>Piece</mark> ci-dessous, permettant de simuler le lancer d'une pièce de monnaie équilibrée.__<br>\n",
    "$\\quad\\;\\;$__Tester cette fonction et expliquer brièvement son fonctionnement.__<br>\n",
    "$\\quad\\;\\;$On conviendra que la fonction renvoie <mark>True</mark> si on obtient \"Pile\" et <mark>False</mark> sinon."
   ]
  },
  {
   "cell_type": "code",
   "execution_count": null,
   "metadata": {},
   "outputs": [],
   "source": [
    "# Exécuter cette cellule pour tester la fonction Piece\n",
    "\n",
    "from random import*\n",
    "\n",
    "def Piece():\n",
    "    \"fonction qui simule le lancer d'une pièce équilibrée\"\n",
    "    return random()<0.5\n",
    "\n",
    "Piece()"
   ]
  },
  {
   "cell_type": "markdown",
   "metadata": {},
   "source": [
    "__1.2. a. On tire une boule de l'urne n°1. Quelle est la probabilité qu'elle soit rouge ?__<br>\n",
    "$\\quad\\;\\;$__b. Écrire une fonction Python <mark>urne_1</mark> permettant de simuler le tirage aléatoire d'une boule de l'urne n°1.__<br>\n",
    "$\\quad\\quad\\;$__La fonction renverra <mark>True</mark> si la boule est rouge et <mark>False</mark> sinon.__"
   ]
  },
  {
   "cell_type": "code",
   "execution_count": null,
   "metadata": {},
   "outputs": [],
   "source": [
    "# Écrire ici la fonction urne_1\n"
   ]
  },
  {
   "cell_type": "code",
   "execution_count": null,
   "metadata": {},
   "outputs": [],
   "source": [
    "# Exécuter cette cellule pour tester la fonction urne_1\n"
   ]
  },
  {
   "cell_type": "markdown",
   "metadata": {},
   "source": [
    "$\\quad\\;\\;$__c. On tire une boule de l'urne n°2. Quelle est la probabilité qu'elle soit rouge?__<br>\n",
    "<br>\n",
    "$\\quad\\;\\;$__d. Écrire une fonction Python <mark>urne_2</mark> permettant de simuler le tirage aléatoire d'une boule de l'urne n°2.__<br>\n",
    "$\\quad\\quad\\;\\;$On utilisera la même convention pour les couleurs que dans la fonction <mark>urne_1</mark>."
   ]
  },
  {
   "cell_type": "code",
   "execution_count": null,
   "metadata": {},
   "outputs": [],
   "source": [
    "# Écrire ici la fonction urne_2\n"
   ]
  },
  {
   "cell_type": "code",
   "execution_count": null,
   "metadata": {},
   "outputs": [],
   "source": [
    "# Exécuter cette cellule pour tester la fonction urne_2\n"
   ]
  },
  {
   "cell_type": "markdown",
   "metadata": {},
   "source": [
    "__1.3. a. Écrire une fonction Python <mark>experience</mark> qui simule le protocole de l'expérience :__<br>\n",
    "$\\quad\\quad\\;$__Lancer d'une pièce de monnaie puis tirage aléatoire d'une boule dans l'urne correspondante.__<br>\n",
    "$\\quad\\quad\\;$__La fonction renverra le booléen <mark>True</mark> ou <mark>False</mark> correspondant à la couleur de la boule obtenue.__<br>\n",
    "$\\quad\\quad\\;$On utilisera la même convention pour les couleurs que dans les fonctions <mark>urne_1</mark> et <mark>urne_2</mark>.<br>\n",
    "$\\quad\\;$__b. Tester cette fonction.__"
   ]
  },
  {
   "cell_type": "code",
   "execution_count": null,
   "metadata": {},
   "outputs": [],
   "source": [
    "# Écrire ici la fonction experience\n"
   ]
  },
  {
   "cell_type": "code",
   "execution_count": null,
   "metadata": {},
   "outputs": [],
   "source": [
    "# Tester la fonction ici\n"
   ]
  },
  {
   "cell_type": "markdown",
   "metadata": {},
   "source": [
    "__1.5. a. Écrire une fonction Python <mark>repetition</mark> qui simule successivement 100 fois l'expérience et renvoie le nombre de boules rouges obtenues.__<br>\n",
    "$\\quad\\;\\;$__b. Tester cette fonction.__"
   ]
  },
  {
   "cell_type": "code",
   "execution_count": null,
   "metadata": {},
   "outputs": [],
   "source": [
    "# Écrire ici la fonction\n"
   ]
  },
  {
   "cell_type": "code",
   "execution_count": null,
   "metadata": {},
   "outputs": [],
   "source": [
    "# Tester la fonction ici\n"
   ]
  },
  {
   "cell_type": "markdown",
   "metadata": {},
   "source": [
    "__1.6. a. Adapter la fonction <mark>repetition</mark> pour qu'elle reçoive <mark>n</mark> en argument et renvoie la <u>fréquence</u> de boules rouges obtenues lors de $n$ expériences.__"
   ]
  },
  {
   "cell_type": "code",
   "execution_count": null,
   "metadata": {},
   "outputs": [],
   "source": [
    "# Écrire ici la fonction modifiée\n"
   ]
  },
  {
   "cell_type": "markdown",
   "metadata": {},
   "source": [
    "$\\quad$__b. Tester cette fonction pour obtenir les fréquences de boules rouges pour $1000$ puis $10000$ expériences successives.__"
   ]
  },
  {
   "cell_type": "code",
   "execution_count": null,
   "metadata": {},
   "outputs": [],
   "source": [
    "# Tester la fonction ici\n"
   ]
  },
  {
   "cell_type": "code",
   "execution_count": null,
   "metadata": {},
   "outputs": [],
   "source": [
    "# Tester la fonction ici\n"
   ]
  },
  {
   "cell_type": "markdown",
   "metadata": {},
   "source": [
    "__1.7. a. Réaliser un arbre de probabilités pour modéliser la situation étudiée.__<br>\n",
    "$\\quad\\;\\;$On pourra noter respectivement $U_1$ et $R$ les événements \"On a tiré la boule de l'urne n°1\" et \"La boule tirée est Rouge\".<br>\n",
    "$\\quad\\;\\;$__b. Calculer la probabilité que la boule obtenue soit rouge. Comparer avec les fréquences obtenues en 1.7.b.__\n",
    "\n"
   ]
  },
  {
   "cell_type": "markdown",
   "metadata": {},
   "source": [
    "## <span style=\"color:#8E44AD\" id=\"2\">2. ... et de l'effet à la cause.</span>\n",
    "\n",
    "Dans cette partie, on va évaluer la probabilité d'une cause connaissant le résultat de l'expérience.<br>\n",
    "Ainsi, sachant qu'une boule rouge a été tirée, on souhaite évaluer la probabilité que cette boule ait été tirée de l'urne n°1, c'est à dire la probabilité qu'on ait obtenu \"Pile\" lors du lancer de la pièce de monnaie."
   ]
  },
  {
   "cell_type": "markdown",
   "metadata": {},
   "source": [
    "__2.1. Démontrer le théorème suivant :__<br><br>\n",
    "\n",
    "<BLOCKQUOTE style='background-color:#DFF2FF;'>\n",
    "    <strong>Théorème de Bayes:</strong><br><br>\n",
    "    Étant donné $A$ et $B$ deux événements de probabilités non nulles, on a :<br><br>\n",
    "    $$\\displaystyle p_B(A)=\\frac{p_A(B)\\;p(A)}{p(B)}=\\frac{p_A(B)\\;p(A)}{p_A(B)\\;p(A)+p_{\\bar{A}}(B)\\;p(\\bar{A})}$$\n",
    "</BLOCKQUOTE>  \n",
    "\n"
   ]
  },
  {
   "cell_type": "markdown",
   "metadata": {},
   "source": [
    "__2.2. À l'aide du théorème de Bayes, déterminer la probabilité que la boule ait été tirée de l'urne n°1 sachant qu'elle est rouge.__\n",
    "<br>"
   ]
  },
  {
   "cell_type": "markdown",
   "metadata": {},
   "source": [
    "__2.3 On souhaite maintenant vérifier expérimentalement les résultats précédents. La fonction Python <mark>Synthese</mark> donnée ci-dessous permet d'effectuer une répétition de l'expérience et renvoie un tableau consignant une synthèse des résultats obtenus.__<br><br>\n",
    "\n",
    "$\\quad$__a. Exécuter cette cellule.__<br>\n",
    "$\\quad\\;\\;\\;$Attention, l'exécution de cette cellule nécessite que les fonctions <mark>Piece</mark>, <mark>urne_1</mark> et <mark>urne_2</mark> aient été définies précédemment.<br>"
   ]
  },
  {
   "cell_type": "code",
   "execution_count": null,
   "metadata": {},
   "outputs": [],
   "source": [
    "import IPython ; from IPython.display import display, HTML \n",
    "\n",
    "def Synthese(n=500,f=[urne_2,urne_1]):    \n",
    "    \"\"\"\n",
    "    Fonction qui génère une liste de n couples contenant chacun :\n",
    "    - une information Pile/Face (True/False)\n",
    "    - une information Rouge/Vert (True/False)\n",
    "    \"\"\"\n",
    "    #f est la  liste des fonctions de simulations de tirages dans les urnes\n",
    "    res=[] # stockage des résultats (True pour urne n°1, False pour urne n°2)\n",
    "    \n",
    "    for k in range(n):   \n",
    "        Choix=Piece()                          # lancer d'une pièce\n",
    "        res.append((Choix,(f[Choix]())))       # ajout du couple pièce/boule dans la liste des résultats\n",
    "    \n",
    "    return res\n",
    "        \n",
    "    \n",
    "def Genere_html(res):\n",
    "    \"\"\"\n",
    "    Fonction qui génère un affichage de la liste des résultats (format html)\n",
    "    \"\"\"\n",
    "        \n",
    "    #code html pour la pièce (Face et Pile)\n",
    "    Piece_img=\"<img src='https://raw.githubusercontent.com/PythonLycee/PyLyc/master/img/Face.png'/ style='display:inline-block;'>\",\"<img src='https://raw.githubusercontent.com/PythonLycee/PyLyc/master/img/Pile.png'/ style='display:inline-block;'>\"\n",
    "            \n",
    "    #code html pour les boules colorées (Rouges et vertes)\n",
    "    boule_coloree_img = \"<img src='https://raw.githubusercontent.com/PythonLycee/PyLyc/master/img/Boule_Verte.png' style='display:inline-block;'>\",\"<img src='https://raw.githubusercontent.com/PythonLycee/PyLyc/master/img/Boule_Rouge.png' style='display:inline-block;'>\"\n",
    "    \n",
    "    #calculs et génération des affichages (pièces et boules):\n",
    "    pieces=\"\"\n",
    "    contenu_urne={True:\"\",False:\"\"}\n",
    "    nb_faces=0\n",
    "    nb_rouges=[0,0]\n",
    "    for couple in res:\n",
    "        piece,couleur=couple\n",
    "        pieces+=Piece_img[piece]\n",
    "        contenu_urne[piece]+=boule_coloree_img[couleur]\n",
    "        nb_rouges[piece]+=couleur\n",
    "        nb_faces+=piece\n",
    "    nb_piles=len(res)-nb_faces\n",
    "    \n",
    "    #en-tête du rendu html (avec balise de style)  \n",
    "    html=\"<html>\"\n",
    "    html+=\"\"\" \n",
    "      <head>\n",
    "        <meta charset=\"UTF-8\">\n",
    "        <style>\n",
    "          td {   font-size: 18px;\n",
    "                 background-color: #FFFFFF;\n",
    "             }       \n",
    "        </style>\n",
    "      </head>   \n",
    "    \"\"\"\n",
    "    #corps du rendu html\n",
    "    html+=\"\"\"\n",
    "    <body>\n",
    "    <table>\n",
    "        <tr>    \n",
    "            <td><center>Lancers de pièces</center></td>\n",
    "            <td colspan=2 style='border: 2px solid black;'><br/>\"\"\"+pieces+\"<br/><br/><center>\"+str(nb_piles)+\" Piles et \"+str(nb_faces)+\"\"\" Faces</center></td>\n",
    "\n",
    "        </tr>\n",
    "        <tr>\n",
    "            <td></td>\n",
    "            <td><br/><center>Urne n°1</center></td>\n",
    "            <td><br/><center>Urne n°2</center></td>\n",
    "        </tr>\n",
    "    \n",
    "        <tr>\n",
    "            <td><center>Tirages des boules</center></td>\n",
    "            <td style='border: 2px solid black;'><br/>\"\"\"+contenu_urne[True]+\"<br/><br/><center>\"+str(nb_rouges[True])+\" boules rouges et \"+str(nb_piles-nb_rouges[True])+\"\"\" boules vertes</center></td>\n",
    "            <td style='border: 2px solid black;'><br/>\"\"\"+contenu_urne[False]+\"<br/><br/><center>\"+str(nb_rouges[False])+\" boules rouges et \"+str(nb_faces-nb_rouges[False])+\"\"\" boules vertes</center></td>\n",
    "        </tr>    \n",
    "        <tr>\n",
    "            <td><center> Total </center></td>\n",
    "            <td colspan=2 style='border: 2px solid black;'><br/><center>\"\"\"+str(sum(nb_rouges))+\" boules rouges et \"+str(len(res)-sum(nb_rouges))+\"\"\" boules vertes</center></td>\n",
    "        </tr>\n",
    "    </table>\n",
    "    </body>\n",
    "    \"\"\"\n",
    "    html+=\"</html>\"\n",
    "    return html\n",
    "    \n",
    "display(HTML(Genere_html(Synthese())))"
   ]
  },
  {
   "cell_type": "markdown",
   "metadata": {},
   "source": [
    "$\\quad$__b. Calculer, parmi les boules tirées de l'urne n°1, la fréquence de celles qui sont rouges. Comparer avec la réponse à la question 1.2.a.__<br>\n",
    "$\\quad$__c. Calculer la fréquence de boules rouges parmi toutes les boules tirées. Comparer avec la réponse à la question 1.7.b.__<br>\n",
    "$\\quad$__d. Calculer, parmi les boules rouges tirées, la fréquence de celles qui ont été tirées de l'urne n°1. Comparer avec la réponse à la question 2.2.__<br>"
   ]
  },
  {
   "cell_type": "markdown",
   "metadata": {},
   "source": [
    "![Thomas_Bayes](https://raw.githubusercontent.com/PythonLycee/PyLyc/master/img/Thomas_Bayes.png)\n",
    "\n",
    "<center> <a href=\"https://fr.wikipedia.org/wiki/Thomas_Bayes\">Thomas Bayes</a> (1702-1761) </center>"
   ]
  },
  {
   "cell_type": "markdown",
   "metadata": {},
   "source": [
    "<i>© Copyright Franck CHEVRIER 2019-2021 https://www.python-lycee.com.</i><br>\n",
    "<i>Les activités partagées sur <a href=\"https://capytale2.ac-paris.fr/web/accueil\"><strong>Capytale</strong></a> sont sous licence <a href=\"https://creativecommons.org/licenses/by-sa/3.0/fr/\">Creative Commons</a>.</i>"
   ]
  }
 ],
 "metadata": {
  "celltoolbar": "Raw Cell Format",
  "kernelspec": {
   "display_name": "Python 3",
   "language": "python",
   "name": "python3"
  },
  "language_info": {
   "codemirror_mode": {
    "name": "ipython",
    "version": 3
   },
   "file_extension": ".py",
   "mimetype": "text/x-python",
   "name": "python",
   "nbconvert_exporter": "python",
   "pygments_lexer": "ipython3",
   "version": "3.7.10"
  }
 },
 "nbformat": 4,
 "nbformat_minor": 2
}
