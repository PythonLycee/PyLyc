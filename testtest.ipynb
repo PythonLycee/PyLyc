{
 "cells": [
  {
   "cell_type": "code",
   "execution_count": 1,
   "metadata": {
    "scrolled": true
   },
   "outputs": [
    {
     "data": {
      "application/vnd.jupyter.widget-view+json": {
       "model_id": "a7906ffc978647bdb48d4cccdcaafa18",
       "version_major": 2,
       "version_minor": 0
      },
      "text/plain": [
       "Accordion(children=(SelectMultiple(description='Coefficients', index=(1,), options=('Coefficients entiers', 'C…"
      ]
     },
     "metadata": {},
     "output_type": "display_data"
    }
   ],
   "source": [
    "\n",
    "from ipywidgets import widgets\n",
    "\n",
    "\n",
    "\n",
    "#Menu Coefficients\n",
    "Menu_Coefficients = widgets.SelectMultiple (\n",
    "    description = \"Coefficients\",\n",
    "    options=['Coefficients entiers', 'Coefficients rationnels'],\n",
    "    value=['Coefficients rationnels'],\n",
    "    #rows=10,\n",
    "    disabled=False\n",
    "    )    \n",
    "#Menu Fonctions\n",
    "Menu_Fonctions = widgets.SelectMultiple (\n",
    "    description = \"Fonctions utilisées\",\n",
    "    options=['puissances positives', 'puissances négatives', 'racine carrée', 'cosinus et sinus','exponentielle', 'logarithme népérien'],\n",
    "    value=['puissances positives', 'puissances négatives', 'racine carrée'],\n",
    "    #rows=10,\n",
    "    disabled=False\n",
    "    ) \n",
    "#Menu Formules utilisées\n",
    "Menu_Formules = widgets.SelectMultiple (\n",
    "    description = \"Formules utilisées\",\n",
    "    options=['Produit par un scalaire', 'Somme de fonctions', 'Produit de fonctions', 'Quotient de fonctions','Composition par un polynôme'],\n",
    "    value=['Produit par un scalaire', 'Somme de fonctions', 'Produit de fonctions', 'Quotient de fonctions'],\n",
    "    #rows=10,\n",
    "    disabled=False\n",
    "    ) \n",
    "\n",
    "Menu_accordeon = widgets.Accordion(children = [Menu_Coefficients, Menu_Fonctions, Menu_Formules])\n",
    "\n",
    "Menu_accordeon.titles = (children.description for children in Menu_accordeon.children)\n",
    "\n",
    "#titles = (\"Coefficients\",\"Fonctions utilisées\",\"Formules utilisées\")                          \n",
    "                         \n",
    "                          \n",
    "Menu_accordeon       "
   ]
  }
 ],
 "metadata": {
  "celltoolbar": "Raw Cell Format",
  "kernelspec": {
   "display_name": "Python 3",
   "language": "python",
   "name": "python3"
  },
  "language_info": {
   "codemirror_mode": {
    "name": "ipython",
    "version": 3
   },
   "file_extension": ".py",
   "mimetype": "text/x-python",
   "name": "python",
   "nbconvert_exporter": "python",
   "pygments_lexer": "ipython3",
   "version": "3.7.10"
  }
 },
 "nbformat": 4,
 "nbformat_minor": 2
}
