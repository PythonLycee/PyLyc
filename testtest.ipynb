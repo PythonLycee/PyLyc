{
 "cells": [
  {
   "cell_type": "markdown",
   "metadata": {},
   "source": [
    "![En tête general](img/En_tete_general.png)\n",
    "\n",
    "\n",
    "*(C) Copyright Franck CHEVRIER 2019-2020 http://www.python-lycee.com/*\n",
    "\n",
    "<span style=\"color: #9317B4\"> Pour exécuter une saisie Python, sélectionner la cellule et valider avec </span><span style=\"color: #B317B4\"><strong>SHIFT+Entrée</strong></span>."
   ]
  },
  {
   "cell_type": "markdown",
   "metadata": {},
   "source": [
    "# Exerciseur : Calculs de dérivées"
   ]
  },
  {
   "cell_type": "code",
   "execution_count": null,
   "metadata": {},
   "outputs": [],
   "source": []
  },
  {
   "cell_type": "code",
   "execution_count": null,
   "metadata": {},
   "outputs": [],
   "source": [
    "\n",
    "# GENERATION DES LISTES DE FONCTIONS USUELLES\n",
    "\n",
    "\n",
    "\n",
    "\n",
    "f_trigo         = [ 'cos(x)','sin(x)' ]\n",
    "f_puissance_pos = [ 'x**'+str(k) for k in range(1,4) ]\n",
    "f_puissance_neg = [ 'x**'+str(k) for k in range(-3,0) ]\n",
    "f_racine        = [ 'sqrt(x)']\n",
    "f_exp           = [ 'exp(x)' ]\n",
    "f_ln            = [ 'ln(x)' ]\n",
    "\n",
    "def f_polynome(deg, withrat=True):\n",
    "    \"\"\"\n",
    "    génère un polynôme\n",
    "    deg : degré du polynôme\n",
    "    withrat : autorise les coefficients rationnels (entiers sinon)\n",
    "    \"\"\"\n",
    "    f = \"\"\n",
    "    for k in range(deg+1):\n",
    "        f += choice([\"+\",\"-\"])+str(Rational(randint(0 if k<deg else 1,10),randint(1,10)) if withrat else randint(0 if k<deg else 1,10))+\"*x**\"+str(k)\n",
    "    return parse_expr(f)\n",
    "\n",
    "\n",
    "\n",
    "\n",
    "\n",
    "from sympy import *                                         # import du module sympy\n",
    "from random import randint,choice                           # import des fonctions générant l'aléatoire\n",
    "import IPython ; from IPython.display import display, HTML  # pour la génération des écritures latex en htmlµ\n",
    "from time import sleep\n",
    "\n",
    "x=symbols('x')\n",
    "\n",
    "\n",
    "\n",
    "\n",
    "\n",
    "\n",
    "def par(expr,gauche=True):\n",
    "    \"\"\"\n",
    "    génère une parenthèse latex si l'expression démarre par -\n",
    "    ( si gauche=True\n",
    "    ) si gauche= False\n",
    "    \"\"\"\n",
    "    return \"\" if expr[0]!=\"-\" else (\"\\\\left( \" if gauche else \"\\\\right) \")\n",
    "\n",
    "def sig(expr):\n",
    "    \"\"\"\n",
    "    génère un + si l'expression ne démarre pas par -\n",
    "    \"\"\"\n",
    "    return \"\" if expr[0]==\"-\" else \"+\"\n",
    "\n",
    "def rempl(expr):\n",
    "    \"\"\"\n",
    "    remplace log par ln dans une chaine\n",
    "    remplace les puissances à coeff 1/2 par des racines carrées\n",
    "    \"\"\"\n",
    "    expr=expr.replace(\"log\",\"ln\")\n",
    "    for k in range(20):\n",
    "            expr=expr.replace(\"x^{\\\\frac{\"+str(k)+\"}{2}}\",\"x^{\"+str(k//2)+\"} \\\\sqrt{x} \")\n",
    "            expr=expr.replace(\"x^{\"+str(k)+\".5}\",\"x^{\"+str(k)+\"} \\\\sqrt{x} \")\n",
    "    return expr\n",
    "\n",
    "\n",
    "\n",
    "# LES FONCTIONS QUI GENERENT UN EXERCICE (càd UNE FONCTION A DERIVER)\n",
    "# RECOIVENT EN ARGUMENT UNE LISTE DE LISTES DE FONCTIONS\n",
    "# (UNIFORMISATION POUR L'APPEL)\n",
    "\n",
    "\n",
    "\n",
    "\n",
    "\n",
    "\n",
    "\n",
    "def derivee_produit_par_scalaire(l=[liste_fonc]):\n",
    "    \"\"\"\n",
    "    génère une fonction produit d'un coefficient rationnel et d'une fonction usuelle\n",
    "    renvoie :\n",
    "    le titre de l'exercice\n",
    "    la consigne (str)\n",
    "    la solution\n",
    "    la liste des détails de calcul (liste de str)\n",
    "    la liste des feedback (juste, faux 1er essai, faux 2e essai) chacun de type liste de str\n",
    "    la liste des lignes d'aide (liste de str)\n",
    "    \"\"\"\n",
    "    Coeff = choice([-1,1])*Rational(randint(1,10),randint(1,10)) # génération d'un coefficient fractionnaire\n",
    "    f_usuelle = eval(choice(l[0])) # génération d'une fonction usuelle\n",
    "    \n",
    "    f = Coeff*f_usuelle \n",
    "    \n",
    "    correction=[\"f(x)=\"+latex(f)]\n",
    "    \n",
    "    etape = \"f(x)=\"+latex(Coeff)+\"\\\\times \"+latex(f_usuelle)\n",
    "    if etape!=correction[-1]: correction.append(etape)\n",
    "    \n",
    "    correction.append(\" \\\\text{ a pour dérivée : }\")\n",
    "    \n",
    "    f_usuelle_der = simplify(diff(f_usuelle,x))\n",
    "    etape = \"f'(x)=\"+latex(Coeff)+\"\\\\times \"+par(latex(f_usuelle_der))+latex(f_usuelle_der)+par(latex(f_usuelle_der),False)\n",
    "    correction.append(etape) \n",
    "    \n",
    "    etape = \"f'(x)=\"+latex(Coeff*f_usuelle_der)\n",
    "    if etape!=correction[-1]: correction.append(etape)\n",
    "    \n",
    "    sol = diff(f,x)\n",
    "    etape = \"f'(x)=\"+latex(sol)\n",
    "    if etape!=correction[-1]: correction.append(etape)\n",
    "    \n",
    "    sol=factor(sol)\n",
    "    etape = \"f'(x)=\"+latex(sol)\n",
    "    if etape!=correction[-1]: correction.append(etape)\n",
    "    \n",
    "    sol=simplify(sol)\n",
    "    etape = \"f'(x)=\"+latex(sol)\n",
    "    if etape!=correction[-1]: correction.append(etape)    \n",
    "    \n",
    "    consigne = \"<latex> \\[ \\\\text{Donner l'expression de la dérivée de } f \\\\text{ définie par } f(x)= \"+latex(f)+\"  \\\\text{.} \\] </latex>\"\n",
    "    \n",
    "    L_feedback = [  [\" \\\\color{#239B56}{\\\\text{Réponse correcte.}}\",\n",
    "                     \" \\\\color{#239B56}{\\\\text{La réponse attendue était } f'(x)=\"+latex(sol)+\"\\\\text{.}}\"\n",
    "                    ],\n",
    "                    [\" \\\\color{#D35400}{\\\\text{Réponse fausse.}}\",\n",
    "                     \" \\\\color{#D35400}{\\\\text{Une aide est disponible pour le 2}^{\\\\text{ème}} \\\\text{ essai.}}\"\n",
    "                    ],\n",
    "                    [\" \\\\color{#E71212}{\\\\text{Réponse fausse.}}\",\n",
    "                     \" \\\\color{#E71212}{\\\\text{La réponse attendue était } f'(x)=\"+latex(sol)+\"\\\\text{. Voir correction ci-dessus.}}\"\n",
    "                    ]\n",
    "                    ]\n",
    "                        \n",
    "\n",
    "    L_aide = [\"\\\\text{ La formule à appliquer est :} \",\n",
    "                \"\\\\; \\\\left( k \\\\times u \\\\right)' = k \\\\times u' \\\\;\",\n",
    "                \"\\\\text{ où } k \\\\text{ constante et } u \\\\text{ fonction dérivable. }  \"\n",
    "              ]\n",
    "    \n",
    "    return consigne,sol,correction,L_feedback,L_aide\n",
    "\n",
    "\n",
    "    \n",
    "def derivee_somme(l=[liste_fonc,liste_fonc]):\n",
    "    \"\"\"\n",
    "    génère une fonction somme de deux fonctions usuelles (avec coefficients multiplicatifs rationnels)\n",
    "    renvoie :\n",
    "    le titre de l'exercice\n",
    "    la consigne (str)\n",
    "    la solution\n",
    "    la liste des détails de calcul (liste de str)\n",
    "    la liste des feedback (juste, faux 1er essai, faux 2e essai) chacun de type liste de str\n",
    "    la liste des lignes d'aide (liste de str)\n",
    "    \"\"\"\n",
    "    Coeff1 = choice([-1,1])*Rational(randint(1,10),randint(1,10)) # génération d'un coefficient fractionnaire    \n",
    "    f_usuelle1 = eval(choice(l[0])) # génération d'une fonction usuelle\n",
    "    \n",
    "    Coeff2 = choice([-1,1])*Rational(randint(1,10),randint(1,10)) # génération d'un coefficient fractionnaire    \n",
    "    \n",
    "    f_usuelle2 = f_usuelle1\n",
    "    while f_usuelle2==f_usuelle1: # génération d'une AUTRE fonction usuelle\n",
    "        f_usuelle2 = eval(choice(l[1]))     \n",
    "    \n",
    "    f = Coeff1*f_usuelle1+Coeff2*f_usuelle2 \n",
    "    \n",
    "    correction=[\"f(x)=\"+latex(f)]\n",
    "    \n",
    "    etape=\"f(x)=\"+latex(Coeff1)+\"\\\\times \"+latex(f_usuelle1)+sig(latex(Coeff2))+latex(Coeff2)+\"\\\\times \"+latex(f_usuelle2)\n",
    "    if etape!=correction[-1]: correction.append(etape)\n",
    "    \n",
    "    correction.append(\" \\\\text{ a pour dérivée : }\")\n",
    "    \n",
    "    f_usuelle1_der = simplify(diff(f_usuelle1,x))\n",
    "    f_usuelle2_der = simplify(diff(f_usuelle2,x))\n",
    "    \n",
    "    etape=\"f'(x)=\"+latex(Coeff1)+\"\\\\times \"+par(latex(f_usuelle1_der))+latex(f_usuelle1_der)+par(latex(f_usuelle1_der),False)+sig(latex(Coeff2))+latex(Coeff2)+\"\\\\times \"+par(latex(f_usuelle2_der))+latex(f_usuelle2_der)+par(latex(f_usuelle2_der),False)\n",
    "    if etape!=correction[-1]: correction.append(etape)\n",
    "    \n",
    "    #etape=\"f'(x)=\"+latex(Coeff1*f_usuelle1_der)+\"+\"+(\"\\\\left( \" if latex(Coeff2*f_usuelle2_der)[0]==\"-\" else \"\")+latex(Coeff2*f_usuelle2_der)+(\"\\\\right) \" if latex(Coeff2*f_usuelle2_der)[0]==\"-\" else \"\")\n",
    "    #if etape!=correction[-1]: correction.append(etape)\n",
    "    \n",
    "    etape=\"f'(x)=\"+latex(simplify(Coeff1*f_usuelle1_der+Coeff2*f_usuelle2_der))\n",
    "    if etape!=correction[-1]: correction.append(etape)\n",
    "    \n",
    "    sol=simplify(diff(f,x))\n",
    "    etape=\"f'(x)=\"+latex(sol)\n",
    "    if etape!=correction[-1]: correction.append(etape)\n",
    "    \n",
    "    sol=factor(sol)\n",
    "    etape=\"f'(x)=\"+latex(sol)\n",
    "    if etape!=correction[-1]: correction.append(etape)    \n",
    "    \n",
    "    consigne = \"<latex> \\[ \\\\text{Donner l'expression de la dérivée de } f \\\\text{ définie par } f(x)= \"+latex(f)+\"  \\\\text{.} \\] </latex>\"\n",
    "    \n",
    "    L_feedback = [  [\" \\\\color{#239B56}{\\\\text{Réponse correcte.}}\",\n",
    "                     \" \\\\color{#239B56}{\\\\text{La réponse attendue était } f'(x)=\"+latex(sol)+\"\\\\text{.}}\"\n",
    "                    ],\n",
    "                    [\" \\\\color{#D35400}{\\\\text{Réponse fausse.}}\",\n",
    "                     \" \\\\color{#D35400}{\\\\text{Une aide est disponible pour le 2}^{\\\\text{ème}} \\\\text{ essai.}}\"\n",
    "                    ],\n",
    "                    [\" \\\\color{#E71212}{\\\\text{Réponse fausse.}}\",\n",
    "                     \" \\\\color{#E71212}{\\\\text{La réponse attendue était } f'(x)=\"+latex(sol)+\"\\\\text{. Voir correction ci-dessus.}}\"\n",
    "                    ]\n",
    "                    ]\n",
    "                        \n",
    "\n",
    "    L_aide = [\"\\\\text{ La formule à appliquer est :} \",\n",
    "                \"\\\\; \\\\left( u + v \\\\right)' =  u' + v' \\\\;\",\n",
    "                \"\\\\text{ où } u \\\\text{ et } v \\\\text{ fonctions dérivables. }  \"\n",
    "             ]\n",
    "    \n",
    "    return consigne,sol,correction,L_feedback,L_aide\n",
    "\n",
    "\n",
    "\n",
    "    \n",
    "    \n",
    "    \n",
    "    \n",
    "    \n",
    "    \n",
    "    \n",
    "def derivee_produit(l=liste_fonc):\n",
    "    \"\"\"\n",
    "    génère une fonction produit d'un polynôme (avec coefficients multiplicatifs rationnels) et d'une fonction usuelle\n",
    "    renvoie :\n",
    "    le titre de l'exercice\n",
    "    la consigne (str)\n",
    "    la solution\n",
    "    la liste des détails de calcul (liste de str)\n",
    "    la liste des feedback (juste, faux 1er essai, faux 2e essai) chacun de type liste de str\n",
    "    la liste des lignes d'aide (liste de str)\n",
    "    \"\"\"\n",
    "    \n",
    "    Coeff1 = choice([-1,1])*Rational(randint(1,10),randint(1,10)) # génération d'un coefficient fractionnaire    \n",
    "    # le coeff est rattaché à la fonction 1 \n",
    "    \n",
    "    f_usuelle1 = eval(choice(l[0])) # génération d'une fonction usuelle\n",
    "        \n",
    "    f_usuelle2 = eval(choice(l[1])) # génération d'un polynôme\n",
    "     \n",
    "    f = (Coeff1*f_usuelle1)*f_usuelle2 \n",
    "        \n",
    "    correction=[\"f(x)=\"+latex(f)]\n",
    "    \n",
    "    etape=\"f(x)=\"+latex(simplify(Coeff1*f_usuelle1))+\" \\\\times \"+latex(f_usuelle2)\n",
    "    if etape!=correction[-1]: correction.append(etape)\n",
    "    \n",
    "    correction.append(\" \\\\text{ a pour dérivée : }\")\n",
    "    \n",
    "    f_usuelle1_der = simplify(diff(f_usuelle1,x))\n",
    "    f_usuelle2_der = simplify(diff(f_usuelle2,x))\n",
    "    \n",
    "    etape=\"f'(x)=\"+latex(simplify(Coeff1*f_usuelle1_der))+\" \\\\times \"+latex(f_usuelle2)+\"+\"+latex(simplify(Coeff1*f_usuelle1))+\" \\\\times \"+latex(f_usuelle2_der)\n",
    "    if etape!=correction[-1]: correction.append(etape)\n",
    "    \n",
    "    etape=\"f'(x)=\"+latex(simplify(Coeff1*f_usuelle1_der*f_usuelle2))+\"+\"+latex(simplify(Coeff1*f_usuelle1*f_usuelle2_der))\n",
    "    if etape!=correction[-1]: correction.append(etape)\n",
    "    \n",
    "    etape=\"f'(x)=\"+latex(simplify(Coeff1*f_usuelle1_der*f_usuelle2+Coeff1*f_usuelle1*f_usuelle2_der))\n",
    "    if etape!=correction[-1]: correction.append(etape)\n",
    "    \n",
    "    sol=simplify(diff(f,x))\n",
    "    etape=\"f'(x)=\"+latex(sol)\n",
    "    if etape!=correction[-1]: correction.append(etape)                     \n",
    "                         \n",
    "    sol=factor(sol)\n",
    "    etape=\"f'(x)=\"+latex(sol)\n",
    "    if etape!=correction[-1]: correction.append(etape)    \n",
    "    \n",
    "    consigne = \"<latex> \\[ \\\\text{Donner l'expression de la dérivée de } f \\\\text{ définie par } f(x)= \"+latex(simplify(Coeff1*f_usuelle1))+\" \\\\times \"+latex(f_usuelle2)+\"  \\\\text{.} \\] </latex>\"\n",
    "    \n",
    "    L_feedback = [  [\" \\\\color{#239B56}{\\\\text{Réponse correcte.}}\",\n",
    "                     \" \\\\color{#239B56}{\\\\text{La réponse attendue était } f'(x)=\"+latex(sol)+\"\\\\text{.}}\"\n",
    "                    ],\n",
    "                    [\" \\\\color{#D35400}{\\\\text{Réponse fausse.}}\",\n",
    "                     \" \\\\color{#D35400}{\\\\text{Une aide est disponible pour le 2}^{\\\\text{ème}} \\\\text{ essai.}}\"\n",
    "                    ],\n",
    "                    [\" \\\\color{#E71212}{\\\\text{Réponse fausse.}}\",\n",
    "                     \" \\\\color{#E71212}{\\\\text{La réponse attendue était } f'(x)=\"+latex(sol)+\"\\\\text{. Voir correction ci-dessus.}}\"\n",
    "                    ]\n",
    "                    ]\n",
    "                        \n",
    "\n",
    "    L_aide = [\"\\\\text{ La formule à appliquer est :} \",\n",
    "                \"\\\\; \\\\left( u \\times v \\\\right)' =  u' \\times v + u \\times v' \\\\;\",\n",
    "                \"\\\\text{ où } u \\\\text{ et } v \\\\text{ fonctions dérivables. }  \"\n",
    "             ]\n",
    "    \n",
    "    return consigne,sol,correction,L_feedback,L_aide\n",
    "\n",
    "\n",
    "\n",
    "\n",
    "\n",
    "\n",
    "\n",
    "\n",
    "\n",
    "\n",
    "\n",
    "\n",
    "\n",
    "\n",
    "\n",
    "\n",
    "\n",
    "def html_presentation(titre_exercice=\"\",decompte_reponses=[0,0,0],insert_html='',align='center',width=800,height=70,backcolor='#FAE5D3',padding=0.5,margin=0.1):\n",
    "    \"\"\"\n",
    "    création de la boîte du titre \n",
    "    \"\"\"   \n",
    "    insert_html += '<div id=\"presentation\" style=\"float: '+align+'; width: '+str(width)+'px; height: '+str(height)+'px; background-color: '+backcolor+'; padding:'+str(padding)+'em; ;margin: '+str(margin)+'em;\">'\n",
    "    \n",
    "    # score\n",
    "    \n",
    "    insert_html += \"\"\"\n",
    "    \n",
    "    <table style=\"float: right;\">\n",
    "    <tr style=\"padding=0.1em; background-color:#EDBB99; \">\n",
    "        <td style=\"text-align:left; font-size: 14px; text-align:center;\"><strong>Score :</strong></td>\n",
    "        <td style=\"text-align:left; font-size: 14px; text-align:center;\"><strong>\n",
    "    \"\"\"    \n",
    "    \n",
    "    if decompte_reponses[0]!=0:\n",
    "        doublenote=2*decompte_reponses[1]+decompte_reponses[2]\n",
    "        pair=doublenote%2==0\n",
    "        insert_html += \"<latex> \\\\[ \\\\frac{\"+str((doublenote)//2)+(\"\" if pair else \",5\")+\"}{\"+str(decompte_reponses[0])+\"} \\\\] </latex>\"\n",
    "    else:\n",
    "        insert_html += \"Pas de note\"\n",
    "        \n",
    "    insert_html += \"\"\"    \n",
    "        </strong></td>\n",
    "    </tr>\n",
    "    <tr style=\"padding=0.1em; background-color:#F6DDCC;\">\n",
    "        <td style=\"text-align:left; font-size: 10px; text-align:left;\">Juste 1<sup>er</sup> essai :</td>\n",
    "        <td style=\"text-align:left; font-size: 10px; text-align:center;\">\n",
    "    \"\"\" \n",
    "    insert_html += str(decompte_reponses[1])\n",
    "    insert_html += \"\"\"    \n",
    "        </td>\n",
    "    </tr>\n",
    "    <tr style=\"padding=0.1em; background-color:#F6DDCC;\">\n",
    "        <td style=\"text-align:left; font-size: 10px; text-align:left;\">Juste 2<sup>ème</sup> essai :</td>\n",
    "        <td style=\"text-align:left; font-size: 10px; text-align:center;\">\n",
    "    \"\"\"\n",
    "    insert_html += str(decompte_reponses[2])\n",
    "    insert_html += \"\"\"    \n",
    "        </td>\n",
    "    </tr>\n",
    "    <tr style=\"padding=0.1em; background-color:#F6DDCC;\">\n",
    "        <td style=\"text-align:left; font-size: 10px; text-align:left;\">Faux :</td>\n",
    "        <td style=\"text-align:left; font-size: 10px; text-align:center;\">\n",
    "    \"\"\"    \n",
    "    insert_html += str(decompte_reponses[0]-(decompte_reponses[1]+decompte_reponses[2]))   \n",
    "    insert_html += \"\"\"     \n",
    "        </td>\n",
    "    </tr>\n",
    "    </table>\n",
    "    \"\"\"\n",
    "        \n",
    "    # titre\n",
    "    insert_html += '<p>'\n",
    "    insert_html += '<span style=\"color:#123456; font-size: 8px;  text-align:center;\">&copy www.python-lycee.com</span></br>'\n",
    "    insert_html += '<span style=\"color:#123456; font-size: 16px; text-align:center;\"><strong>Exercice : '+titre_exercice+'</strong></span>'\n",
    "    insert_html += '</p>'\n",
    "        \n",
    "    insert_html += '</div>'\n",
    "    \n",
    "    \n",
    "    return insert_html\n",
    "\n",
    "def html_consigne(entete=\"\",consigne=\"\",insert_html='',align='center',width=800,height=75,backcolor='#FDF2E9',padding=0.5,margin=0.1):\n",
    "    \"\"\"\n",
    "    création de la boîte de consigne\n",
    "    entete,consigne de type str\n",
    "    \"\"\"\n",
    "    insert_html += '<div id=\"consigne\" style=\"float: '+align+'; width: '+str(width)+'px; height: '+str(height)+'px; background-color: '+backcolor+'; padding:'+str(padding)+'em; ;margin: '+str(margin)+'em;\">'\n",
    "    insert_html += '<h2 style=\"color:#123456; font-size: 14px; text-align:left;\"><strong>'+entete+'</strong><br>'\n",
    "    insert_html += rempl(consigne)+'</h2>'\n",
    "    insert_html += '</div>'\n",
    "    return insert_html\n",
    "\n",
    "def html_correction(entete=\"\",correction=\"\",vide=False,insert_html='',align='center',width=800,height=350,backcolor='#FDF2E9',padding=0.5,margin=0.1):\n",
    "    \"\"\"\n",
    "    création de la zone de correction\n",
    "    entete de type str\n",
    "    correction : liste des lignes de type str\n",
    "    vide : booléen qui indique si la zone doit être vide\n",
    "    \"\"\"\n",
    "    insert_html += '<div id=\"correction\" style=\"float: '+align+'; min-width: '+str(width)+'px; max-width: '+str(width)+'px; width: '+str(width)+'px; height: '+str(height)+'px;  background-color: '+backcolor+'; padding:'+str(padding)+'em; ;margin: '+str(margin)+'em;\">'\n",
    "    if not vide: \n",
    "        insert_html += '<h2 style=\"color:#123456; font-size: 14px; text-align:left;\"><strong>'+entete+'</strong><br>'\n",
    "        for ligne in correction:\n",
    "            insert_html += '<latex> \\[ '+rempl(ligne)+' \\] </latex> <br>'\n",
    "        insert_html += '</h2>'\n",
    "    insert_html += '</div>'\n",
    "    return insert_html\n",
    "\n",
    "    # overflow-x:scroll; overflow-y:scroll; window.document.getElementById(div).scrollTop = window.document.getElementById(div).scrollHeight;\n",
    "\n",
    "\n",
    "def html_feedback(commentaires=[],aide=None,insert_html='',align='center',width=800,height=125,backcolor='#FAE5D3',padding=0.5,margin=0.1):\n",
    "    \"\"\"\n",
    "    création de la zone de feedback\n",
    "    feedback : liste des lignes de type str\n",
    "    \"\"\"\n",
    "    insert_html += '<div id=\"correction\" style=\"float: '+align+'; min-width: '+str(width)+'px; max-width: '+str(width)+'px; width: '+str(width)+'px; height: '+str(height)+'px;  background-color: '+backcolor+'; padding:'+str(padding)+'em; ;margin: '+str(margin)+'em;\">'\n",
    "    \n",
    "    #affichage de l'aide\n",
    "    if aide:\n",
    "        \n",
    "\n",
    "        insert_html += \"\"\"\n",
    "        \n",
    "        <div class=\"Aide_parent\">\n",
    "        <span style=\"color:#14A752; font-weight:bold;\"> Aide </span>\n",
    "        <div class=\"Aide_enfant\">\n",
    "        <div style=\"color:#14A752; text-align: left; background-color: #D9FEEC;\">\n",
    "        \"\"\"\n",
    "        for ligne in aide:\n",
    "            insert_html += '<latex> \\[ '+rempl(ligne)+' \\] </latex>' \n",
    "        insert_html += \"\"\"\n",
    "        </div>\n",
    "        </div>\n",
    "        </div>\n",
    "        \n",
    "        \"\"\"  \n",
    "    else:\n",
    "        insert_html += \"\"\"\n",
    "        <div class=\"Aide_parent\">\n",
    "        <span style=\"color:#888888;\"> Aide </span>\n",
    "        <div class=\"Aide_enfant\">\n",
    "        <span style=\"font-size: 10px; color:#888888;\">L'aide est accessible pour le 2ème essai</span>\n",
    "        </div>\n",
    "        </div>\n",
    "        \n",
    "        \"\"\"\n",
    "\n",
    "    \n",
    "    insert_html += '<h2 style=\"color:#123456; font-size: 14px; text-align:left;\">'\n",
    "    for ligne in commentaires:\n",
    "        insert_html += '<latex> \\[ '+rempl(ligne)+' \\] </latex>'\n",
    "    insert_html += '</h2>'\n",
    "    insert_html += '</div>'\n",
    "    return insert_html\n",
    "\n",
    "    # overflow-x:scroll; overflow-y:scroll; window.document.getElementById(div).scrollTop = window.document.getElementById(div).scrollHeight;\n",
    "\n",
    "  \n",
    "    \n",
    "\n",
    "    \n",
    "def Genere_html(exercice,consigne,correction,commentaires=[],vide=False,decompte_reponses=[0,0,0],aide=None,titre_exercice=\"\"):\n",
    "    \"\"\"\n",
    "    Fonction qui génère l'affichage html\n",
    "    \"\"\"   \n",
    "    body = \"<body>\"\n",
    "    body += html_presentation(titre_exercice=titre_exercice,decompte_reponses=decompte_reponses) #insertion du titre\n",
    "    body += html_consigne(entete=\"Consigne :\",consigne=consigne) #insertion de la consigne\n",
    "    body += html_correction(entete=\"Correction :\",correction=correction,vide=vide) #insertion de la zone de correction\n",
    "    body += html_feedback(commentaires,aide)\n",
    "\n",
    "    body += \"</body>\"    \n",
    "    return body\n",
    "\n",
    "\n",
    "\n",
    "\n",
    "\n",
    "\n",
    "\n",
    "\n",
    "\n",
    "\n",
    "\n",
    "\n",
    "# GENERATION DES LISTES D'EXERCICES\n",
    "\n",
    "exercices = [ (derivee_produit_par_scalaire,[liste_fonc]),(derivee_somme,[liste_fonc3,liste_fonc3])]    \n",
    "\n",
    "exercices2 = [ (derivee_produit,[liste_fonc,liste_fonc]) ]\n",
    "\n",
    "\n",
    "#https://ipywidgets.readthedocs.io/en/latest/examples/Widget%20List.html\n",
    "\n",
    "\n",
    "\n",
    "\n",
    "def Exerciceur_Derivation(exercices=exercices,liste_fonc=liste_fonc,titre_exercice=\"Calculs de dérivées\"): \n",
    "    \"\"\"\n",
    "    Argument exercice : fonction qui génère l'exercice\n",
    "    \n",
    "    \"\"\"\n",
    "    \n",
    "    #création du head de la page html avec insertions css\n",
    "    head = \"\"\"\n",
    "    <head>\n",
    "        <meta charset=\"utf-8\" />\n",
    "        <title> Exerciseur python-lycee.com </title>\n",
    "        <script type=\"text/javascript\" src=\"http://latex.codecogs.com/latexit.js\"></script>\n",
    "        <script type=\"text/javascript\">LatexIT.add('latex',true);</script>\n",
    "        <style>\n",
    "        \n",
    "\n",
    "        \n",
    "        div.Aide_enfant\n",
    "            {\n",
    "             display: none;\n",
    "             \n",
    "            }\n",
    "\n",
    "        div.Aide_parent:hover .Aide_enfant\n",
    "            {\n",
    "            display:block;\n",
    "            }\n",
    "        div.Aide_parent\n",
    "            {\n",
    "            text-align: right;\n",
    "            float: right;\n",
    "            }\n",
    "        \n",
    "        </style>\n",
    "    </head>      \n",
    "    \"\"\" #reprendre des élements de BBDSQL pour le style\n",
    "    \n",
    "    \n",
    "    # Constantes pour le score\n",
    "    decompte_reponses = [0,0,0] # nbre de questions traitées, nbre de juste en 1, nbre de juste en 2\n",
    "    \n",
    "    \n",
    "    \n",
    "    while \"on ne quitte pas\":  \n",
    "\n",
    "        # génération de l'énoncé+aide+feedback\n",
    "        # l'exercice est choisi au hasard parmi la liste des possibilités\n",
    "        exercice,l = choice(exercices)\n",
    "        consigne,sol,correction,L_feedback,L_aide = exercice(l=l) \n",
    "        \n",
    "        \n",
    "        \n",
    "        \n",
    "        # création de l'affichage html\n",
    "        body = Genere_html(exercice,consigne,correction,vide=True,decompte_reponses=decompte_reponses,titre_exercice=titre_exercice)\n",
    "                \n",
    "        # raffraichissement de l'affichage\n",
    "        IPython.display.clear_output(wait=True)\n",
    "        raffraichi = None == display(HTML('<html>'+head+body+'</html>'))\n",
    "        \n",
    "        # précaution d'attente pour que le input de la requête soit inséré après le html\n",
    "        while not raffraichi: None \n",
    "        sleep(0.2)                           \n",
    "        \n",
    "        \n",
    "        for essai in [1,2]: # 2 essais possibles\n",
    "            \n",
    "            aide_dispo = False # on désactive l'aide\n",
    "            \n",
    "            # input de la proposition\n",
    "            while True: \n",
    "                entree = input(\"\\nVeuillez saisir et valider votre proposition :\")\n",
    "                try:\n",
    "                    proposition = parse_expr(entree) ; break\n",
    "                except:\n",
    "                    print(\"Saisie invalide.\")    \n",
    "            \n",
    "            # vérification de la proposition\n",
    "            Verification = expand(proposition) == expand(sol)\n",
    "            \n",
    "            if Verification:        \n",
    "                decompte_reponses[essai] += 1 # on incrémente le décompte correspond à l'essai concluant\n",
    "                decompte_reponses[0] +=1      # on incrémente le compteur du nombre de questions\n",
    "                \n",
    "                commentaires = [\"\\\\text{Votre saisie : }\"+str(latex(proposition))]+L_feedback[0] # création du commentaire feedback (réponse juste)\n",
    "                \n",
    "            else:\n",
    "                if essai==1 :                     # si erreur au 1er essai\n",
    "                    aide_dispo = True            # on permet l'affichage de l'aide    \n",
    "                \n",
    "                if essai==2 :                     # si erreur au 2e essai\n",
    "                    decompte_reponses[0] +=1      # on incrémente le compteur du nombre de questions       \n",
    "                commentaires = [\"\\\\text{Votre saisie : }\"+str(latex(proposition))]+L_feedback[essai] # création du commentaire feedback (réponse fausse)\n",
    "                \n",
    "                \n",
    "                \n",
    "            # création de l'affichage html\n",
    "            body = Genere_html(exercice,consigne,correction,commentaires=commentaires,vide=(essai==1 and not Verification),decompte_reponses=decompte_reponses,aide=(L_aide if aide_dispo else None),titre_exercice=titre_exercice) \n",
    "            \n",
    "            # raffraichissement de l'affichage\n",
    "            IPython.display.clear_output(wait=True)\n",
    "            raffraichi = None == display(HTML('<html>'+head+body+'</html>'))\n",
    "        \n",
    "            # précaution d'attente pour que le input de la requête soit inséré après le html\n",
    "            while not raffraichi: None \n",
    "            sleep(0.2)                           \n",
    "            \n",
    "            if Verification: \n",
    "                break\n",
    "        \n",
    "             \n",
    "        # Attente de validation pour continuer ou quitter\n",
    "        Choix = input(\"Valider pour continuer (pour quitter :saisir q ou Q et valider)\")\n",
    "        if Choix in ['q','Q']: break\n",
    "    \n",
    "    IPython.display.clear_output()       \n",
    "    return None    \n",
    "        \n",
    "    \n",
    "        \n",
    "\n",
    "\n",
    "Exerciceur_Derivation(exercices2)"
   ]
  },
  {
   "cell_type": "code",
   "execution_count": 1,
   "metadata": {},
   "outputs": [
    {
     "ename": "NameError",
     "evalue": "name 'stacked' is not defined",
     "output_type": "error",
     "traceback": [
      "\u001b[1;31m---------------------------------------------------------------------------\u001b[0m",
      "\u001b[1;31mNameError\u001b[0m                                 Traceback (most recent call last)",
      "\u001b[1;32m<ipython-input-1-76353d9b8d96>\u001b[0m in \u001b[0;36m<module>\u001b[1;34m\u001b[0m\n\u001b[0;32m      9\u001b[0m \u001b[1;33m\u001b[0m\u001b[0m\n\u001b[0;32m     10\u001b[0m \u001b[0mdropdown\u001b[0m \u001b[1;33m=\u001b[0m \u001b[0mwidgets\u001b[0m\u001b[1;33m.\u001b[0m\u001b[0mDropdown\u001b[0m\u001b[1;33m(\u001b[0m\u001b[0moptions\u001b[0m\u001b[1;33m=\u001b[0m\u001b[1;33m[\u001b[0m\u001b[1;34m'button'\u001b[0m\u001b[1;33m,\u001b[0m \u001b[1;34m'slider'\u001b[0m\u001b[1;33m]\u001b[0m\u001b[1;33m)\u001b[0m\u001b[1;33m\u001b[0m\u001b[1;33m\u001b[0m\u001b[0m\n\u001b[1;32m---> 11\u001b[1;33m \u001b[0mwidgets\u001b[0m\u001b[1;33m.\u001b[0m\u001b[0mjslink\u001b[0m\u001b[1;33m(\u001b[0m\u001b[1;33m(\u001b[0m\u001b[0mdropdown\u001b[0m\u001b[1;33m,\u001b[0m \u001b[1;34m'index'\u001b[0m\u001b[1;33m)\u001b[0m\u001b[1;33m,\u001b[0m \u001b[1;33m(\u001b[0m\u001b[0mstacked\u001b[0m\u001b[1;33m,\u001b[0m \u001b[1;34m'selected_index'\u001b[0m\u001b[1;33m)\u001b[0m\u001b[1;33m)\u001b[0m\u001b[1;33m\u001b[0m\u001b[1;33m\u001b[0m\u001b[0m\n\u001b[0m\u001b[0;32m     12\u001b[0m \u001b[0mwidgets\u001b[0m\u001b[1;33m.\u001b[0m\u001b[0mVBox\u001b[0m\u001b[1;33m(\u001b[0m\u001b[1;33m[\u001b[0m\u001b[0mdropdown\u001b[0m\u001b[1;33m,\u001b[0m \u001b[0mstacked\u001b[0m\u001b[1;33m]\u001b[0m\u001b[1;33m)\u001b[0m\u001b[1;33m\u001b[0m\u001b[1;33m\u001b[0m\u001b[0m\n",
      "\u001b[1;31mNameError\u001b[0m: name 'stacked' is not defined"
     ]
    }
   ],
   "source": [
    "import random\n",
    "from ipywidgets import IntSlider, Output, widgets\n",
    "from IPython.display import clear_output\n",
    "from IPython.display import display\n",
    "\n",
    "\n",
    "Choix_prod_scal = widgets.Dropdown(\n",
    "    options=['Sans', 'Avec fonctions simples', ]\n",
    "\n",
    "\n",
    "\n",
    "    )\n",
    "\n",
    "selectmode = \"multiple\"\n",
    "\n",
    "\n",
    "accordion = widgets.Accordion(children=[widgets.IntSlider(), widgets.Text()], titles=('Slider', 'Text'))\n",
    "accordion\n",
    "\n",
    "dropdown = widgets.Dropdown(options=['button', 'slider'])\n",
    "widgets.jslink((dropdown, 'index'), (stacked, 'selected_index'))\n",
    "widgets.VBox([dropdown, stacked])"
   ]
  },
  {
   "cell_type": "code",
   "execution_count": 11,
   "metadata": {},
   "outputs": [
    {
     "data": {
      "application/vnd.jupyter.widget-view+json": {
       "model_id": "bd58bcf406064c66bca4d84b46abecfb",
       "version_major": 2,
       "version_minor": 0
      },
      "text/plain": [
       "RadioButtons(description='Pizza topping:', options=('pepperoni', 'pineapple', 'anchovies'), value='pepperoni')"
      ]
     },
     "metadata": {},
     "output_type": "display_data"
    }
   ],
   "source": [
    "from ipywidgets import IntSlider, Output, widgets\n",
    "from IPython.display import clear_output\n",
    "from IPython.display import display\n",
    "a=widgets.RadioButtons(\n",
    "    options=['pepperoni', 'pineapple', 'anchovies'],\n",
    "    #    value='pineapple', # Defaults to 'pineapple'\n",
    "    #    layout={'width': 'max-content'}, # If the items' names are long\n",
    "    selectmode = \"multiple\",\n",
    "    description='Pizza topping:',\n",
    "    disabled=False,\n",
    ")\n",
    "a"
   ]
  },
  {
   "cell_type": "code",
   "execution_count": 6,
   "metadata": {},
   "outputs": [
    {
     "data": {
      "text/plain": [
       "'pepperoni'"
      ]
     },
     "execution_count": 6,
     "metadata": {},
     "output_type": "execute_result"
    }
   ],
   "source": [
    "a.value"
   ]
  },
  {
   "cell_type": "code",
   "execution_count": 13,
   "metadata": {},
   "outputs": [
    {
     "data": {
      "application/vnd.jupyter.widget-view+json": {
       "model_id": "72ef9b5cefd6432eaa193da63586a586",
       "version_major": 2,
       "version_minor": 0
      },
      "text/plain": [
       "SelectMultiple(description='Fruits', index=(1,), options=('Apples', 'Oranges', 'Pears'), value=('Oranges',))"
      ]
     },
     "metadata": {},
     "output_type": "display_data"
    }
   ],
   "source": [
    "b=widgets.SelectMultiple(\n",
    "    options=['Apples', 'Oranges', 'Pears'],\n",
    "    value=['Oranges'],\n",
    "    #rows=10,\n",
    "    description='Fruits',\n",
    "    disabled=False\n",
    ")\n",
    "b"
   ]
  },
  {
   "cell_type": "code",
   "execution_count": 32,
   "metadata": {},
   "outputs": [
    {
     "data": {
      "application/vnd.jupyter.widget-view+json": {
       "model_id": "51ea0007ddac4e01a2b6bd0f5eb04469",
       "version_major": 2,
       "version_minor": 0
      },
      "text/plain": [
       "Accordion(children=(SelectMultiple(index=(0, 1), options=('Coefficients entiers', 'Coefficients rationnels'), …"
      ]
     },
     "metadata": {},
     "output_type": "display_data"
    }
   ],
   "source": [
    "\n",
    "\n",
    "\n",
    "\n",
    "\n",
    "\n",
    "#Menu Coefficients\n",
    "Menu_Coefficients = widgets.SelectMultiple (\n",
    "    description = \"Coefficients\",\n",
    "    options=['Coefficients entiers', 'Coefficients rationnels'],\n",
    "    value=['Coefficients rationnels'],\n",
    "    #rows=10,\n",
    "    disabled=False\n",
    "    )    \n",
    "#Menu Fonctions\n",
    "Menu_Fonctions = widgets.SelectMultiple (\n",
    "    description = \"Fonctions utilisées\",\n",
    "    options=['puissances positives', 'puissances négatives', 'racine carrée', 'cosinus et sinus','exponentielle', 'logarithme népérien'],\n",
    "    value=['puissances positives', 'puissances négatives', 'racine carrée'],\n",
    "    #rows=10,\n",
    "    disabled=False\n",
    "    ) \n",
    "#Menu Formules utilisées\n",
    "Menu_Formules = widgets.SelectMultiple (\n",
    "    description = \"Formules utilisées\",\n",
    "    options=['Produit par un scalaire', 'Somme de fonctions', 'Produit de fonctions', 'Quotient de fonctions','Composition par un polynôme'],\n",
    "    value=['Produit par un scalaire', 'Somme de fonctions', 'Produit de fonctions', 'Quotient de fonctions'],\n",
    "    #rows=10,\n",
    "    disabled=False\n",
    "    ) \n",
    "              \n",
    "                         \n",
    "                          \n",
    "Menu_accordeon       "
   ]
  },
  {
   "cell_type": "code",
   "execution_count": 33,
   "metadata": {},
   "outputs": [
    {
     "data": {
      "application/vnd.jupyter.widget-view+json": {
       "model_id": "854e563701224ee9877487c37ebb2bcf",
       "version_major": 2,
       "version_minor": 0
      },
      "text/plain": [
       "Accordion(children=(IntSlider(value=0), Text(value='')))"
      ]
     },
     "metadata": {},
     "output_type": "display_data"
    }
   ],
   "source": [
    "accordion = widgets.Accordion(children=[widgets.IntSlider(), widgets.Text()], titles=('Slider', 'Text'))\n",
    "accordion"
   ]
  },
  {
   "cell_type": "code",
   "execution_count": 2,
   "metadata": {},
   "outputs": [
    {
     "data": {
      "application/vnd.jupyter.widget-view+json": {
       "model_id": "d69da7088c4e4ebdaf502c017b49eeee",
       "version_major": 2,
       "version_minor": 0
      },
      "text/plain": [
       "Button(description='Click Me!', style=ButtonStyle())"
      ]
     },
     "metadata": {},
     "output_type": "display_data"
    },
    {
     "data": {
      "application/vnd.jupyter.widget-view+json": {
       "model_id": "c0f43fab8d8d486792984fb4c21ee042",
       "version_major": 2,
       "version_minor": 0
      },
      "text/plain": [
       "Output()"
      ]
     },
     "metadata": {},
     "output_type": "display_data"
    }
   ],
   "source": [
    "import random\n",
    "from ipywidgets import IntSlider, Output, widgets\n",
    "from IPython.display import clear_output\n",
    "from IPython.display import display\n",
    "\n",
    "\n",
    "button = widgets.Button(description=\"Click Me!\")\n",
    "output = widgets.Output()\n",
    "\n",
    "display(button)\n",
    "\n",
    "out = Output()\n",
    "display(out)\n",
    "\n",
    "def on_button_clicked(b):\n",
    "    with out:\n",
    "        clear_output(True)\n",
    "        print(\"Button clicked.\",round(random.uniform(0, 1),3))\n",
    "        \n",
    "        \n",
    "button.on_click(on_button_clicked)\n"
   ]
  },
  {
   "cell_type": "code",
   "execution_count": null,
   "metadata": {},
   "outputs": [],
   "source": [
    "a.p"
   ]
  },
  {
   "cell_type": "code",
   "execution_count": null,
   "metadata": {},
   "outputs": [],
   "source": [
    "a.ap()"
   ]
  },
  {
   "cell_type": "code",
   "execution_count": null,
   "metadata": {},
   "outputs": [],
   "source": [
    "type(a.p)"
   ]
  },
  {
   "cell_type": "code",
   "execution_count": null,
   "metadata": {},
   "outputs": [],
   "source": [
    "f=1\n",
    "type(latex(f))"
   ]
  },
  {
   "cell_type": "code",
   "execution_count": null,
   "metadata": {},
   "outputs": [],
   "source": [
    "f=x**2/(x+1)"
   ]
  },
  {
   "cell_type": "code",
   "execution_count": null,
   "metadata": {},
   "outputs": [],
   "source": [
    "f"
   ]
  },
  {
   "cell_type": "code",
   "execution_count": null,
   "metadata": {},
   "outputs": [],
   "source": [
    "f.p"
   ]
  },
  {
   "cell_type": "code",
   "execution_count": null,
   "metadata": {},
   "outputs": [],
   "source": [
    "simplify(f).p"
   ]
  },
  {
   "cell_type": "code",
   "execution_count": null,
   "metadata": {},
   "outputs": [],
   "source": [
    "f=(x+1)/(2*x+1) ; g=(3*x+7)/(2*x+1)**2"
   ]
  },
  {
   "cell_type": "code",
   "execution_count": null,
   "metadata": {},
   "outputs": [],
   "source": [
    "f+g"
   ]
  },
  {
   "cell_type": "code",
   "execution_count": null,
   "metadata": {},
   "outputs": [],
   "source": [
    "factor(f+g)"
   ]
  },
  {
   "cell_type": "code",
   "execution_count": null,
   "metadata": {},
   "outputs": [],
   "source": [
    "sismplify(f+g)"
   ]
  },
  {
   "cell_type": "code",
   "execution_count": null,
   "metadata": {},
   "outputs": [],
   "source": [
    "expand(simplify((f+g)))"
   ]
  },
  {
   "cell_type": "code",
   "execution_count": null,
   "metadata": {},
   "outputs": [],
   "source": [
    "f+g"
   ]
  },
  {
   "cell_type": "code",
   "execution_count": null,
   "metadata": {},
   "outputs": [],
   "source": [
    "chaine=\"log(10)\"\n",
    "chaine=chaine.replace(\"log\",\"ln\")"
   ]
  },
  {
   "cell_type": "code",
   "execution_count": null,
   "metadata": {},
   "outputs": [],
   "source": [
    "chaine\n"
   ]
  },
  {
   "cell_type": "code",
   "execution_count": null,
   "metadata": {},
   "outputs": [],
   "source": [
    "f=sqrt(x)"
   ]
  },
  {
   "cell_type": "code",
   "execution_count": null,
   "metadata": {},
   "outputs": [],
   "source": [
    "from IPython.display import clear_output\n",
    "\n",
    "for i in range(10000):\n",
    "    clear_output(wait=True)\n",
    "    print(i, flush=True)\n"
   ]
  },
  {
   "cell_type": "code",
   "execution_count": null,
   "metadata": {},
   "outputs": [],
   "source": [
    "diff(f)"
   ]
  },
  {
   "cell_type": "code",
   "execution_count": null,
   "metadata": {},
   "outputs": [],
   "source": [
    "diff(f*f)"
   ]
  },
  {
   "cell_type": "code",
   "execution_count": null,
   "metadata": {},
   "outputs": [],
   "source": [
    "diff(f)*x"
   ]
  },
  {
   "cell_type": "code",
   "execution_count": null,
   "metadata": {},
   "outputs": [],
   "source": [
    "f=1/sqrt(x)+1/x\n"
   ]
  },
  {
   "cell_type": "code",
   "execution_count": null,
   "metadata": {},
   "outputs": [],
   "source": [
    "g=diff(f,x)"
   ]
  },
  {
   "cell_type": "code",
   "execution_count": null,
   "metadata": {},
   "outputs": [],
   "source": [
    "g\n"
   ]
  },
  {
   "cell_type": "code",
   "execution_count": null,
   "metadata": {},
   "outputs": [],
   "source": [
    "latex(g)"
   ]
  },
  {
   "cell_type": "code",
   "execution_count": null,
   "metadata": {},
   "outputs": [],
   "source": [
    "a=\"djfeojfiejfijf\""
   ]
  },
  {
   "cell_type": "code",
   "execution_count": null,
   "metadata": {},
   "outputs": [],
   "source": [
    "a.replace([\"e\",\"p\"],[\"l\",\"l\"])"
   ]
  },
  {
   "cell_type": "code",
   "execution_count": null,
   "metadata": {},
   "outputs": [],
   "source": [
    "f=x**(11/2)\n"
   ]
  },
  {
   "cell_type": "code",
   "execution_count": null,
   "metadata": {},
   "outputs": [],
   "source": [
    "f"
   ]
  },
  {
   "cell_type": "code",
   "execution_count": null,
   "metadata": {},
   "outputs": [],
   "source": [
    "latex(f)"
   ]
  },
  {
   "cell_type": "code",
   "execution_count": null,
   "metadata": {},
   "outputs": [],
   "source": [
    "f = sqrt(x) + x**5\n"
   ]
  },
  {
   "cell_type": "code",
   "execution_count": null,
   "metadata": {},
   "outputs": [],
   "source": [
    "g=diff(f,x)"
   ]
  },
  {
   "cell_type": "code",
   "execution_count": null,
   "metadata": {},
   "outputs": [],
   "source": [
    "g"
   ]
  },
  {
   "cell_type": "code",
   "execution_count": null,
   "metadata": {},
   "outputs": [],
   "source": [
    "simplify(g)"
   ]
  },
  {
   "cell_type": "code",
   "execution_count": null,
   "metadata": {},
   "outputs": [],
   "source": [
    "g=factor(g)"
   ]
  },
  {
   "cell_type": "code",
   "execution_count": null,
   "metadata": {},
   "outputs": [],
   "source": [
    "f=e**x\n"
   ]
  },
  {
   "cell_type": "code",
   "execution_count": null,
   "metadata": {},
   "outputs": [],
   "source": [
    "latex(g)"
   ]
  },
  {
   "cell_type": "code",
   "execution_count": null,
   "metadata": {},
   "outputs": [],
   "source": [
    "https://qastack.fr/programming/14824163/how-to-get-the-input-from-the-tkinter-text-widget\n",
    "https://ipywidgets.readthedocs.io/en/latest/examples/Widget%20List.html\n",
    "https://stackoverflow.com/questions/43677564/passing-input-from-html-to-python-and-back"
   ]
  },
  {
   "cell_type": "code",
   "execution_count": null,
   "metadata": {},
   "outputs": [],
   "source": [
    "rempl(latex(g))"
   ]
  },
  {
   "cell_type": "code",
   "execution_count": null,
   "metadata": {},
   "outputs": [],
   "source": [
    "def rempl(expr):\n",
    "    \"\"\"\n",
    "    remplace log par ln dans une chaine\n",
    "    remplace les puissances à coeff 1/2 par des racines carrées\n",
    "    \"\"\"\n",
    "    expr=expr.replace(\"log\",\"ln\")\n",
    "    for k in range(20):\n",
    "            expr.replace(\"x^{\\\\frac{\"+str(k)+\"}{2}}\",\"x^{\"+str(k//2)+\"} sqrt{x} \")\n",
    "            print(\"x^{\\\\frac{\"+str(k)+\"}{2}}\")\n",
    "            print(\"x^{\\\\frac{\"+str(k)+\"}{2}}\" in expr,expr)\n",
    "            expr.replace(\"x^{\"+str(k)+\".5}\",\"x^{\"+str(k)+\"} \\\\sqrt{x} \")\n",
    "    return expr\n",
    "\n",
    "\n",
    "f = sqrt(x) + x**5 ; g=diff(f,x) ; g=factor(g)\n",
    "latex(g) , rempl(latex(g))"
   ]
  },
  {
   "cell_type": "code",
   "execution_count": null,
   "metadata": {},
   "outputs": [],
   "source": [
    "\"x^{\\\\frac{9}{2}}\" in \"\\\\frac{10 x^{\\\\frac{9}{2}} + 1}{2 \\\\sqrt{x}}\""
   ]
  },
  {
   "cell_type": "code",
   "execution_count": null,
   "metadata": {},
   "outputs": [],
   "source": [
    "getvalue('pay')"
   ]
  },
  {
   "cell_type": "code",
   "execution_count": null,
   "metadata": {},
   "outputs": [],
   "source": [
    "import IPython ; from IPython.display import display, HTML\n",
    "\n",
    "\n",
    "import ipywidgets as widgets\n",
    "\n",
    "\"\"\"\n",
    "\n",
    "turn_on = 'Run'\n",
    "turn_off = 'Skip'\n",
    "\n",
    "skipp = True\n",
    "\n",
    "button_exec = widgets.Button(description=turn_on)\n",
    "display(button_exec)\n",
    "\n",
    "def exec_clicked(b):\n",
    "    global skipp\n",
    "    print(a.value)\n",
    "    if skipp:\n",
    "        b.description = turn_off\n",
    "    else:\n",
    "        b.description = turn_on\n",
    "    skipp = not skipp\n",
    "\n",
    "button_exec.on_click(exec_clicked)\n",
    "\n",
    "\"\"\"\n",
    "\n",
    "\n",
    "\n",
    "# boutons de choix\n",
    "\n",
    "r=widgets.Dropdown(\n",
    "    options=['Coefficients entiers', 'Coefficients rationnels'],\n",
    "    value='Coefficients entiers',\n",
    "    description='Coefficients',\n",
    "    disabled=False,\n",
    ")\n",
    "\n",
    "widgets.ToggleButtons(\n",
    "    options=['Slow', 'Regular', 'Fast'],\n",
    "    description='Speed:',\n",
    "    disabled=False,\n",
    "    button_style='', # 'success', 'info', 'warning', 'danger' or ''\n",
    "    tooltips=['Description of slow', 'Description of regular', 'Description of fast'],\n",
    "#     icons=['check'] * 3\n",
    ")\n",
    "\n",
    "a = widgets.Checkbox(\n",
    "    value=False,\n",
    "    description='fz$e^3$odfjk',\n",
    "    disabled=False,\n",
    "    indent=True,\n",
    "\n",
    ")\n",
    "\n",
    "a2 = widgets.Checkbox(\n",
    "    value=False,\n",
    "    description='Check me',\n",
    "    disabled=False,\n",
    "    indent=True,\n",
    "\n",
    ")\n",
    "\n",
    "button = widgets.Button(\n",
    "    description='Click me',\n",
    "    disabled=False,\n",
    "    button_style='', # 'success', 'info', 'warning', 'danger' or ''\n",
    "    tooltip='Click me',\n",
    "    icon='check' # (FontAwesome names without the `fa-` prefix)\n",
    ")\n",
    "\n",
    "\n",
    "\n",
    "\n",
    "\"\"\"\n",
    "display(a,a2)\n",
    "\n",
    "def exec_clicked(b):\n",
    "    IPython.display.clear_output()\n",
    "\n",
    "    Derivation_dir_form(derivee_somme,liste_fonc3)\n",
    "  \n",
    "display(button)\n",
    "button.on_click(exec_clicked)\n",
    "#IPython.display.clear_output()\n",
    "\"\"\"\n",
    "h=widgets.Text()\n",
    "display(h)"
   ]
  },
  {
   "cell_type": "code",
   "execution_count": null,
   "metadata": {},
   "outputs": [],
   "source": [
    "a.packforget()"
   ]
  },
  {
   "cell_type": "code",
   "execution_count": null,
   "metadata": {},
   "outputs": [],
   "source": [
    "Pour info:\n",
    "Rendre un bouton invisible:Bouton.pack_forget()\n",
    "Remettre un bouton visible:Bouton.pack()\n",
    "Rendre un bouton inactif:Bouton.config(state = DISABLED)\n",
    "Rendre un bouton actif:Bouton.config(state = NORMAL)\n",
    "   \n",
    "https://ipywidgets.readthedocs.io/en/latest/examples/Widget%20List.html\n",
    "http://tkinter.fdex.eu/doc/chw.html\n",
    "http://tkinter.fdex.eu/doc/chw.html"
   ]
  },
  {
   "cell_type": "code",
   "execution_count": null,
   "metadata": {},
   "outputs": [],
   "source": [
    "f = Rational(2,3)*(x**3+5)*sqrt(x)"
   ]
  },
  {
   "cell_type": "code",
   "execution_count": null,
   "metadata": {},
   "outputs": [],
   "source": [
    "f"
   ]
  },
  {
   "cell_type": "code",
   "execution_count": null,
   "metadata": {},
   "outputs": [],
   "source": []
  }
 ],
 "metadata": {
  "celltoolbar": "Raw Cell Format",
  "kernelspec": {
   "display_name": "Python 3",
   "language": "python",
   "name": "python3"
  }
 },
 "nbformat": 4,
 "nbformat_minor": 2
}
