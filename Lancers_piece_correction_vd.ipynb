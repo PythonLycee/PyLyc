{
 "cells": [
  {
   "cell_type": "markdown",
   "metadata": {},
   "source": [
    "![En tête general](https://raw.githubusercontent.com/PythonLycee/PyLyc/master/img/En_tete_general.png)\n",
    "\n",
    "\n",
    "<i>© Copyright Franck CHEVRIER 2019-2021 https://www.python-lycee.com.</i><br>\n",
    "<i>Les activités partagées sur <a href=\"https://capytale2.ac-paris.fr/web/accueil\"><strong>Capytale</strong></a> sont sous licence <a href=\"https://creativecommons.org/licenses/by-sa/3.0/fr/\">Creative Commons</a>.</i>\n",
    "\n",
    "<span style=\"color: #9317B4\"> Pour exécuter une saisie Python, sélectionner la cellule et valider avec </span><span style=\"color: #B317B4\"><strong>SHIFT+Entrée</strong></span>.\n"
   ]
  },
  {
   "cell_type": "markdown",
   "metadata": {},
   "source": [
    "# Lancers d'une pièce <span style=\"color: red\"> (corrigé)</span> "
   ]
  },
  {
   "cell_type": "markdown",
   "metadata": {},
   "source": [
    "\n",
    "<BLOCKQUOTE span style=\"background-color: #FCECF9\">\n",
    "<figure style=\"float: right;\">\n",
    "    <img src=\"https://raw.githubusercontent.com/PythonLycee/PyLyc/master/img/Pieces.gif\">\n",
    "</figure>\n",
    "<strong><span style=\"color: #7C39C9\">On propose à un joueur de lancer trois fois d’affilée une pièce de monnaie équilibrée.\n",
    "<br><br>\n",
    "La règle du jeu est la suivante :\n",
    "</span>\n",
    "<ul style=\"color: #7C39C9\">\n",
    "    <li>s’il obtient trois piles, il gagne la partie ;</li>\n",
    "    <li>s’il obtient deux piles exactement, la partie est nulle ;</li>\n",
    "    <li>dans tous les autres cas, il perd la partie.</li>\n",
    "</ul>\n",
    "</strong>\n",
    "<br>\n",
    "</BLOCKQUOTE>\n",
    "    \n"
   ]
  },
  {
   "cell_type": "markdown",
   "metadata": {},
   "source": [
    "__1. Ecrire une fonction Python <mark>piece</mark> qui simule le lancer d’une pièce de monnaie, et renvoie <mark>1</mark> (ou <mark>True</mark>) si le résultat est pile et <mark>0</mark> (ou <mark>False</mark>) sinon.__\n",
    "\n",
    "<span style=\"color: #888888\">Aide Python : A l’aide de l’appel <mark>from random import randint</mark>, on peut utiliser l’instruction <mark>randint(a,b)</mark> qui renvoie aléatoirement un entier compris entre <mark>a</mark> et <mark>b</mark>.</span>\n"
   ]
  },
  {
   "cell_type": "code",
   "execution_count": null,
   "metadata": {},
   "outputs": [],
   "source": [
    "from random import randint\n",
    "\n",
    "def piece():\n",
    "    return randint(0,1)"
   ]
  },
  {
   "cell_type": "code",
   "execution_count": null,
   "metadata": {},
   "outputs": [],
   "source": [
    "piece()"
   ]
  },
  {
   "cell_type": "markdown",
   "metadata": {},
   "source": [
    "__2. Effectuer les instructions suivantes, et expliquer leur lien avec la situation étudiée.__\n"
   ]
  },
  {
   "cell_type": "code",
   "execution_count": null,
   "metadata": {},
   "outputs": [],
   "source": [
    "lancers=[ piece() for k in range(3) ]\n",
    "lancers"
   ]
  },
  {
   "cell_type": "code",
   "execution_count": null,
   "metadata": {},
   "outputs": [],
   "source": [
    "sum(lancers)"
   ]
  },
  {
   "cell_type": "markdown",
   "metadata": {},
   "source": [
    "__3. On considère la fonction Python <mark>jeux</mark> ci-dessous, qui reçoit un entier <mark>N</mark> en argument et qui renvoie une liste de trois valeurs.__\n",
    "\n",
    "__Indiquer ce que représentent, dans le cadre de l’énoncé, cet entier <mark>N</mark> et les trois valeurs de la liste renvoyée.__\n",
    "\n"
   ]
  },
  {
   "cell_type": "code",
   "execution_count": null,
   "metadata": {},
   "outputs": [],
   "source": [
    "def jeux(N):\n",
    "\n",
    "    res=[0,0,0]\n",
    "    \n",
    "    for i in range(N):\n",
    "        \n",
    "        lancers=[piece() for k in range(3)]\n",
    "        nb_piles=sum(lancers)\n",
    "        \n",
    "        if nb_piles==3:\n",
    "            res[0]=res[0]+1\n",
    "        elif nb_piles==2:\n",
    "            res[1]=res[1]+1\n",
    "        else:\n",
    "            res[2]=res[2]+1\n",
    "    \n",
    "    return res"
   ]
  },
  {
   "cell_type": "code",
   "execution_count": null,
   "metadata": {},
   "outputs": [],
   "source": [
    "jeux(1000)"
   ]
  },
  {
   "cell_type": "markdown",
   "metadata": {},
   "source": [
    "<BLOCKQUOTE span style=\"background-color: #FCECF9\">\n",
    "<strong><span style=\"color: #7C39C9\"> L’organisateur du jeu demande une mise de 1€ pour participer au jeu.\n",
    "<br> Si le joueur gagne, il reçoit 4€, et si la partie est nulle, il est remboursé de sa mise.</span></strong>\n",
    "</BLOCKQUOTE>"
   ]
  },
  {
   "cell_type": "markdown",
   "metadata": {},
   "source": [
    "__4. Ecrire une fonction <mark>gain_algebrique</mark> qui reçoit en argument une liste <mark>L</mark> (qui sera fournie par la fonction <mark>jeux</mark>) et qui renvoie le gain algébrique du joueur (le gain algébrique du joueur s’obtient en soustrayant la mise du joueur à la somme qu’il reçoit).__\n"
   ]
  },
  {
   "cell_type": "code",
   "execution_count": null,
   "metadata": {},
   "outputs": [],
   "source": [
    "def gain_algebrique(L):\n",
    "    return L[0]*3+L[1]*0+L[2]*(-1)"
   ]
  },
  {
   "cell_type": "code",
   "execution_count": null,
   "metadata": {},
   "outputs": [],
   "source": [
    "gain_algebrique(jeux(1000))"
   ]
  },
  {
   "cell_type": "markdown",
   "metadata": {},
   "source": [
    "__5. Dans cette question, on suppose que <mark>L</mark> est une liste générée par la fonction <mark>jeux</mark>.__\n",
    "__Que représente le résultat de la saisie ci-dessous?__\n"
   ]
  },
  {
   "cell_type": "code",
   "execution_count": null,
   "metadata": {},
   "outputs": [],
   "source": [
    "L=jeux(1000)\n",
    "sum(L)\n"
   ]
  },
  {
   "cell_type": "markdown",
   "metadata": {},
   "source": [
    "__Tester la fonction <mark>gm</mark> ci-dessous. Que représente le résultat de la saisie proposée ?__"
   ]
  },
  {
   "cell_type": "code",
   "execution_count": null,
   "metadata": {},
   "outputs": [],
   "source": [
    "def gm(L):\n",
    "    return gain_algebrique(L)/sum(L)\n",
    "\n",
    "gm(L)"
   ]
  },
  {
   "cell_type": "markdown",
   "metadata": {},
   "source": [
    "__Tester avec $10$, $100$ puis $10000$ parties. Le jeu semble-t-il favorable au joueur ?__\n",
    "\n"
   ]
  },
  {
   "cell_type": "code",
   "execution_count": null,
   "metadata": {},
   "outputs": [],
   "source": [
    "gm(jeux(10)) , gm(jeux(100)) , gm(jeux(10000))"
   ]
  },
  {
   "cell_type": "markdown",
   "metadata": {},
   "source": [
    "__6. Calculer les probabilités que le joueur gagne, que la partie soit nulle, puis que le joueur perde.__\n",
    "\n",
    "__Stocker ces $3$ valeurs, dans cet ordre, dans une liste nommée <mark>Proba</mark>.__\n",
    "\n",
    "__Calculer la valeur <mark>gm(Proba)</mark> et indiquer la valeur obtenue.__ \n",
    "\n"
   ]
  },
  {
   "cell_type": "code",
   "execution_count": null,
   "metadata": {},
   "outputs": [],
   "source": [
    "# Créer la liste Proba\n",
    "Proba=[1/8,3/8,1/2] "
   ]
  },
  {
   "cell_type": "code",
   "execution_count": null,
   "metadata": {},
   "outputs": [],
   "source": [
    "# Exécuter la cellule pour effectuer l'appel à la fonction gm\n",
    "gm(Proba)"
   ]
  },
  {
   "cell_type": "markdown",
   "metadata": {},
   "source": [
    "__7. Ecrire une fonction Python <mark>ecart</mark> qui reçoit en argument la liste <mark>L</mark> de répartition des résultats d’une série de parties et renvoie l’écart entre le gain moyen de ces parties et la valeur <mark>gm(Proba)</mark>.__"
   ]
  },
  {
   "cell_type": "code",
   "execution_count": null,
   "metadata": {},
   "outputs": [],
   "source": [
    "def ecart(L):\n",
    "    return gm(L)-gm(Proba)"
   ]
  },
  {
   "cell_type": "markdown",
   "metadata": {},
   "source": [
    "__Tester pour des listes de longueur $100$,$10000$,$100000$,$1000000$… Que constate-t-on ?__"
   ]
  },
  {
   "cell_type": "code",
   "execution_count": null,
   "metadata": {},
   "outputs": [],
   "source": [
    "ecart(jeux(100)) , ecart(jeux(10000)) , ecart(jeux(100000)) , ecart(jeux(1000000))"
   ]
  },
  {
   "cell_type": "markdown",
   "metadata": {},
   "source": [
    "<i>© Copyright Franck CHEVRIER 2019-2021 https://www.python-lycee.com.</i><br>\n",
    "<i>Les activités partagées sur <a href=\"https://capytale2.ac-paris.fr/web/accueil\"><strong>Capytale</strong></a> sont sous licence <a href=\"https://creativecommons.org/licenses/by-sa/3.0/fr/\">Creative Commons</a>.</i>"
   ]
  }
 ],
 "metadata": {
  "celltoolbar": "Raw Cell Format",
  "kernelspec": {
   "display_name": "Python 3",
   "language": "python",
   "name": "python3"
  },
  "language_info": {
   "codemirror_mode": {
    "name": "ipython",
    "version": 3
   },
   "file_extension": ".py",
   "mimetype": "text/x-python",
   "name": "python",
   "nbconvert_exporter": "python",
   "pygments_lexer": "ipython3",
   "version": "3.7.10"
  }
 },
 "nbformat": 4,
 "nbformat_minor": 2
}
