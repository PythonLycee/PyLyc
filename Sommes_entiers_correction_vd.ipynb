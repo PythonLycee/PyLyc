{
 "cells": [
  {
   "cell_type": "markdown",
   "metadata": {},
   "source": [
    "![En tête general](https://raw.githubusercontent.com/PythonLycee/PyLyc/master/img/En_tete_general.png)\n",
    "\n",
    "\n",
    "<i>© Copyright Franck CHEVRIER 2019-2021 https://www.python-lycee.com.</i><br>\n",
    "<i>Les activités partagées sur <a href=\"https://capytale2.ac-paris.fr/web/accueil\"><strong>Capytale</strong></a> sont sous licence <a href=\"https://creativecommons.org/licenses/by-sa/3.0/fr/\">Creative Commons</a>.</i>\n",
    "\n",
    "<span style=\"color: #9317B4\"> Pour exécuter une saisie Python, sélectionner la cellule et valider avec </span><span style=\"color: #B317B4\"><strong>SHIFT+Entrée</strong></span>.\n"
   ]
  },
  {
   "cell_type": "markdown",
   "metadata": {},
   "source": [
    "# Sommes d'entiers <span style=\"color: red\"> (corrigé)</span>"
   ]
  },
  {
   "cell_type": "markdown",
   "metadata": {},
   "source": [
    "### <span style=\"color:#8E44AD\">Sommaire</span>\n",
    "\n",
    "<span style=\"color:#8E44AD\">1.</span> <a href=\"#1\">Somme des premiers entiers naturels</a><br>\n",
    "<span style=\"color:#8E44AD\">2.</span> <a href=\"#2\">Somme des carrés des premiers entiers naturels</a><br>\n",
    "<span style=\"color:#8E44AD\">3.</span> <a href=\"#3\">Somme des cubes des premiers entiers naturels</a><br>\n"
   ]
  },
  {
   "cell_type": "markdown",
   "metadata": {},
   "source": [
    "## <span style=\"color:#8E44AD\" id=\"1\">1. Somme des premiers entiers naturels</span>"
   ]
  },
  {
   "cell_type": "markdown",
   "metadata": {},
   "source": [
    "Pour tout entier naturel $n$ non nul, on pose :\n",
    "$$\\displaystyle S_n=1+2+...+n=\\sum\\limits_{k=1}^{n}{k} $$\n",
    "<br>\n",
    "\n",
    "__1.1. Écrire une fonction Python <mark>somme_entiers</mark> qui reçoit <mark>n</mark> en argument et renvoie la valeur de $S_n$.__<br>\n",
    "$\\quad\\;$On pourra utiliser une boucle <mark>for</mark> et un accumulateur."
   ]
  },
  {
   "cell_type": "code",
   "execution_count": null,
   "metadata": {},
   "outputs": [],
   "source": [
    "#Écrire ici la fonction somme_entiers\n",
    "def somme_entiers(n):\n",
    "    \"\"\"\n",
    "    fonction qui calcule la somme des entiers naturels de 1 à n\n",
    "    \"\"\"\n",
    "    S=0\n",
    "    for k in range(1,n+1):\n",
    "        S=S+k\n",
    "    return S\n",
    "    "
   ]
  },
  {
   "cell_type": "code",
   "execution_count": null,
   "metadata": {},
   "outputs": [],
   "source": [
    "#Tester ici la fonction somme_entiers\n",
    "somme_entiers(3)"
   ]
  },
  {
   "cell_type": "markdown",
   "metadata": {},
   "source": [
    "__1.2.a. Activer la cellule ci-dessous.__<br>\n",
    "$\\quad\\quad$__Observer la figure fournie, qui illustre que le calcul de $2\\times S_n$ peut se ramener à un simple produit.__\n"
   ]
  },
  {
   "cell_type": "code",
   "execution_count": null,
   "metadata": {},
   "outputs": [],
   "source": [
    "#Sélectionner cette zone puis SHIFT+ENTREE\n",
    "from IPython.display import HTML ; HTML(\"\"\"<iframe scrolling=\"no\" title=\"Somme des premiers entiers\" src=\"https://www.geogebra.org/material/iframe/id/ree6vpcs/width/396/height/533/border/888888/sfsb/true/smb/false/stb/false/stbh/false/ai/false/asb/false/sri/false/rc/false/ld/false/sdz/false/ctl/false\" width=\"396px\" height=\"533px\" style=\"border:0px;\"> </iframe>\"\"\")"
   ]
  },
  {
   "cell_type": "markdown",
   "metadata": {},
   "source": [
    "$\\quad\\;$__b. En utilisant cette méthode, calculer à la main $S_{10}$.__<br>\n",
    "$\\quad\\quad$__Vérifier ensuite le résultat à l'aide de la fonction <mark>somme_entiers__</mark>.\n",
    "<br><br>\n",
    "<span style=\"color:red;\">$\\displaystyle S_{10}=\\frac{10\\times 11}{2}=55$</span>"
   ]
  },
  {
   "cell_type": "code",
   "execution_count": null,
   "metadata": {},
   "outputs": [],
   "source": [
    "#Utiliser cette zone de saisie pour la vérification\n",
    "somme_entiers(10)"
   ]
  },
  {
   "cell_type": "markdown",
   "metadata": {},
   "source": [
    "$\\quad\\;$__c. Conjecturer une expression de $S_n$ en fonction de $n$.__\n",
    "<br><br>\n",
    "<span style=\"color:red;\">Il semble que $\\displaystyle S_{n}=\\frac{n(n+1)}{2}$</span>"
   ]
  },
  {
   "cell_type": "markdown",
   "metadata": {},
   "source": [
    "__1.3. On souhaite maintenant démontrer la formule conjecturée à la question 1.2.c :__<br><br>\n",
    "\n",
    "<BLOCKQUOTE style='background-color:#DDEEEE;'>\n",
    "<strong style=\"color:#004400\">Version 1ère Spé Math</strong><br><br>\n",
    "Additionner terme à terme l'expression de $2 \\times S_n$ donnée ci-dessous, et en déduire l'expression de $S_n$ en fonction de $n$<br>\n",
    "$$\\begin{matrix} 2 \\times S_n & =& & 1 &+ & 2 &+ & 3 &+ & ... &+ & (n-1) &+ & n \\\\\n",
    "                         & & + & n &+ & (n-1) &+ & (n-2) &+ & ... &+ & 2 &+ & 1   \n",
    "\\end{matrix}$$                 \n",
    "</BLOCKQUOTE>\n",
    "\n",
    "<BLOCKQUOTE style='background-color:#EEDDEE;'>\n",
    "    <strong style=\"color:#330033\">Version Tale Spé Math</strong><br><br>\n",
    "    Démontrer <strong>par récurrence</strong> la formule conjecturée en 1.2.c.\n",
    "</BLOCKQUOTE>\n",
    "\n",
    "<br>\n",
    "<BLOCKQUOTE style='background-color:#DDEEEE;'>\n",
    "    <span style=\"color:red;\"><strong>Version 1ère Spé Math</strong><br>\n",
    "$\\begin{matrix} 2 \\times S_n & =& & 1 &+ & 2 &+ & 3 &+ & ... &+ & (n-1) &+ & n \\\\\n",
    "                         & & + & n &+ & (n-1) &+ & (n-2) &+ & ... &+ & 2 &+ & 1   \n",
    "\\end{matrix}$<br>       \n",
    "$2 \\times S_n = (n+1) + (n+1) + (n+1) +  ... +  (n+1) +  (n+1) $ avec $n$ facteurs<br> \n",
    "$2 \\times S_n = n(n+1)$<br>\n",
    "$ \\displaystyle S_n = \\frac{n(n+1)}{2}$<br>\n",
    "</span>\n",
    "</BLOCKQUOTE>\n",
    "\n",
    "<br>\n",
    "<BLOCKQUOTE style='background-color:#EEDDEE;'>\n",
    "    <span style=\"color:red;\"><strong>Version Terminale Spé Math</strong><br>\n",
    "Pour tout $n \\in \\mathbb{N}^*$, on pose $P(n)$ : \"$S_n = \\frac{n(n+1)}{2}$\".\n",
    "<ul>\n",
    "    <li>$S_1=1$ et $\\displaystyle \\frac{1(1+1)}{2}=1$ donc $P(1)$ est vraie.</li>\n",
    "    <li>Supposons que $P(n)$ soit vraie pour un $n \\in \\mathbb{N}^*$ quelconque fixé.<br>\n",
    "        Alors :<br>\n",
    "        $S_{n+1}=1+2+...+n+(n+1)$<br>\n",
    "        $S_{n+1}=S_n+(n+1)$<br>\n",
    "        $\\displaystyle S_{n+1}=\\frac{n(n+1)}{2}+(n+1)$ (par hypothèse de récurrence)<br>\n",
    "        $\\displaystyle S_{n+1}=\\frac{n(n+1)+2(n+1)}{2}$ (en réduisant au même dénominateur)<br>\n",
    "        $\\displaystyle S_{n+1}=\\frac{(n+1)(n+2)}{2}$ (en factorisant par $(n+1)$ le numérateur)<br>\n",
    "        Ceci prouve que $P(n+1)$ est vraie. $P$ est donc héréditaire.</li>\n",
    "    <li>Conclusion :<br>\n",
    "    $P(n)$ est fondée en $n=1$ et héréditaire pour $n\\geq1$,<br>\n",
    "    donc vraie pour tout $n \\in \\mathbb{N}^*$.\n",
    "</ul>\n",
    "</span>\n",
    "</BLOCKQUOTE>\n"
   ]
  },
  {
   "cell_type": "markdown",
   "metadata": {},
   "source": [
    "__1.4. À l'aide de la formule obtenue, calculer $S_{100}=1+2+...+100$ puis vérifier le résultat à l'aide de la fonction Python <mark>somme_entiers</mark>.__\n",
    "\n",
    "<br>\n",
    "<span style=\"color:red;\">\n",
    "$\\displaystyle S_{100}=1+2+...+100=\\frac{100\\times101}{2}=50\\times101=5050$\n",
    "</span>"
   ]
  },
  {
   "cell_type": "code",
   "execution_count": null,
   "metadata": {},
   "outputs": [],
   "source": [
    "#Utiliser cette zone de saisie pour la vérification\n",
    "somme_entiers(100)"
   ]
  },
  {
   "cell_type": "markdown",
   "metadata": {},
   "source": [
    "__1.5. Dans cette question, on pose pour $n \\in \\mathbb{N}^*$:__<br>\n",
    "<ul>\n",
    "    <li>$ P_n=2+4+6+...+(2n) \\quad $ (somme des $n$ premiers entiers naturels pairs)</li>\n",
    "    <li>$ I_n=1+3+5+...+(2n-1) \\quad $  (somme des $n$ premiers entiers naturels impairs)</li>\n",
    "</ul>\n",
    "$\\quad$<strong>a. Justifier que $P_n=2 \\times S_n$ et en déduire l'expression de $P_n$ en fonction de $n$.</strong><br>\n",
    "$\\quad$<strong>b. Justifier que $P_n+I_n=S_{2n}$ et en déduire l'expression de $I_n$ en fonction de $n$.</strong>\n",
    "\n",
    "<br>\n",
    "<ul style=\"color:red;\">\n",
    "    <li>$P_n=2+4+6+...+(2n)=2(1+2+3+...+n)=2S_n$ (en facrtorisant par 2) donc $P_n=n(n+1)$.</li>       <li>$P_n+I_n=2+4+6+...+(2n)+1+3+5+...+(2n-1)=1+2+3+4+5+6+...+(2n-1)+(2n)=S_{2n}$<br>\n",
    "    donc $\\displaystyle I_n=S_{2n}-P_n=\\frac{(2n)(2n+1)}{2}-n(n+1)=n(2n+1)-n(n+1)=n²$.</li>\n",
    "</ul>"
   ]
  },
  {
   "cell_type": "markdown",
   "metadata": {},
   "source": [
    "## <span style=\"color:#8E44AD\" id=\"2\">2. Somme des carrés des premiers entiers naturels</span>"
   ]
  },
  {
   "cell_type": "markdown",
   "metadata": {},
   "source": [
    "Pour tout entier naturel $n$ non nul, on pose : \n",
    "$$\\displaystyle T_n=1^2+2^2+...+n^2=\\sum\\limits_{k=1}^{n}{k^2} $$\n",
    "<br>\n",
    "\n",
    "__2.1. Écrire une fonction Python <mark>somme_carres</mark> qui reçoit <mark>n</mark> en argument et renvoie la valeur de $T_n$.__<br>\n",
    "$\\quad\\;$On pourra s'inspirer de la fonction <mark>somme_entiers</mark> écrite dans la partie 1."
   ]
  },
  {
   "cell_type": "code",
   "execution_count": null,
   "metadata": {},
   "outputs": [],
   "source": [
    "#Écrire ici la fonction somme_carres\n",
    "def somme_carres(n):\n",
    "    \"\"\"\n",
    "    fonction qui calcule la somme des carrés des entiers naturels de 1 à n\n",
    "    \"\"\"\n",
    "    S=0\n",
    "    for k in range(1,n+1):\n",
    "        S=S+k**2\n",
    "    return S\n",
    "    "
   ]
  },
  {
   "cell_type": "code",
   "execution_count": null,
   "metadata": {},
   "outputs": [],
   "source": [
    "#Tester ici la fonction somme_carres\n",
    "somme_carres(5)"
   ]
  },
  {
   "cell_type": "markdown",
   "metadata": {},
   "source": [
    "__2.2.a. Activer la cellule ci-dessous.__<br>\n",
    "$\\quad\\quad$__Observer la figure fournie, qui illustre que le calcul de $6\\times T_n$ peut se ramener au calcul de volume d'un parallélépipède.__\n"
   ]
  },
  {
   "cell_type": "code",
   "execution_count": null,
   "metadata": {},
   "outputs": [],
   "source": [
    "#Sélectionner cette zone puis SHIFT+ENTREE\n",
    "from IPython.display import HTML ; HTML(\"\"\"<iframe scrolling=\"no\" title=\"Somme des premiers carrés\" src=\"https://www.geogebra.org/material/iframe/id/gskd73xa/width/1067/height/608/border/888888/sfsb/true/smb/false/stb/false/stbh/false/ai/false/asb/false/sri/false/rc/false/ld/false/sdz/false/ctl/false\" width=\"1067px\" height=\"608px\" style=\"border:0px;\"> </iframe>\"\"\")"
   ]
  },
  {
   "cell_type": "markdown",
   "metadata": {},
   "source": [
    "$\\quad\\;$__b. En utilisant cette méthode, calculer à la main $T_{6}$.__<br>\n",
    "$\\quad\\quad$__Vérifier ensuite le résultat à l'aide de la fonction <mark>somme_carres__</mark>.\n",
    "\n",
    "<br>\n",
    "<span style=\"color:red;\">\n",
    "$\\displaystyle 6\\times T_6 = 6\\times7\\times13 =546$ donc $T_6 = 91$\n",
    "</span>"
   ]
  },
  {
   "cell_type": "code",
   "execution_count": null,
   "metadata": {},
   "outputs": [],
   "source": [
    "#Utiliser cette zone de saisie pour la vérification\n",
    "somme_carres(6)"
   ]
  },
  {
   "cell_type": "markdown",
   "metadata": {},
   "source": [
    "$\\quad\\;$__c. Conjecturer une expression de $T_n$ en fonction de $n$.__\n",
    "<br><br>\n",
    "<span style=\"color:red;\">Il semble que $\\displaystyle T_{n}=\\frac{n(n+1)(2n+1)}{6}$</span>"
   ]
  },
  {
   "cell_type": "markdown",
   "metadata": {},
   "source": [
    "__2.3. On souhaite maintenant démontrer la formule conjecturée à la question 2.2.c :__<br><br>\n",
    "\n",
    "<BLOCKQUOTE style='background-color:#DDEEEE;'>\n",
    "<strong style=\"color:#004400\">Version 1ère Spé Math</strong><br><br>\n",
    "<br>Pour tout $n \\in \\mathbb{N}^*$, on pose $\\displaystyle v_n=\\frac{n(n+1)(2n+1)}{6}$.<br>\n",
    "<ul>\n",
    "    <li>Déterminer la valeur de $v_1$ et démontrer que $v_{n+1}=v_n+(n+1)^2$ pour tout $n \\in \\mathbb{N}^*$.</li>\n",
    "    <li>On admet que si deux suites ont le même premier terme et vérifient la même relation de récurrence, alors elles sont égales.<br> Conclure.</li>\n",
    "</ul>                \n",
    "</BLOCKQUOTE>\n",
    "\n",
    "<BLOCKQUOTE style='background-color:#EEDDEE;'>\n",
    "    <strong style=\"color:#330033\">Version Terminale Spé Math</strong><br><br>\n",
    "    Démontrer <strong>par récurrence</strong> la formule conjecturée en 2.2.c.\n",
    "</BLOCKQUOTE>\n",
    "\n",
    "<br>\n",
    "<BLOCKQUOTE style='background-color:#DDEEEE;'>\n",
    "    <span style=\"color:red;\"><strong>Version 1ère Spé Math</strong><br>\n",
    "On a $\\displaystyle v_1=\\frac{1(1+1)(2\\times1+1)}{6}=1$ et:<br>\n",
    "$\\displaystyle v_n+(n+1)^2=\\frac{n(n+1)(2n+1)}{6}+(n+1)^2$<br>\n",
    "$\\displaystyle v_n+(n+1)^2=\\frac{n(n+1)(2n+1)+6(n+1)^2}{6}$ (en réduisant au même dénominateur)<br>\n",
    "$\\displaystyle v_n+(n+1)^2=\\frac{(n+1)(n(2n+1)+6(n+1))}{6}$ (en factorisant par $(n+1)$)<br>\n",
    "$\\displaystyle v_n+(n+1)^2=\\frac{(n+1)(2n^2+7n+6)}{6}$<br>\n",
    "D'autre part, on a :<br>\n",
    "$(n+2)(2(n+1)+1)=(n+2)(2n+3)=2n^2+7n+6$<br>\n",
    "donc :<br>\n",
    "$\\displaystyle v_n+(n+1)^2=\\frac{(n+1)(n+2)(2(n+1)+1)}{6}$<br>\n",
    "et donc :<br>\n",
    "$\\displaystyle v_n+(n+1)^2=v_{n+1}$<br>        \n",
    "Au final, les suites $(v_n)_{n\\geq1}$ et $(T_n)_{n\\geq1}$ vérifient la même formule de récurrence et on a $v_1=1=T_1$, donc $\\forall n \\in \\mathbb{N}^*$ on a $\\displaystyle T_n=v_n=\\frac{n(n+1)(2n+1)}{6}$.\n",
    "</span>\n",
    "</BLOCKQUOTE>\n",
    "\n",
    "<br>\n",
    "<BLOCKQUOTE style='background-color:#EEDDEE;'>\n",
    "    <span style=\"color:red;\"><strong>Version Terminale Spé Math</strong><br>\n",
    "Pour tout $n \\in \\mathbb{N}^*$, on pose $P(n)$ : \"$T_n=\\frac{n(n+1)(2n+1)}{6}$\".\n",
    "<ul>\n",
    "    <li>$T_1=1$ et $\\displaystyle \\frac{1(1+1)(2\\times1+1)}{6}=1$ donc $P(1)$ est vraie.</li>\n",
    "    <li>Supposons que $P(n)$ soit vraie pour un $n \\in \\mathbb{N}^*$ quelconque fixé.<br>\n",
    "        Alors :<br>\n",
    "        $T_{n+1}=1^2+2^2+...+n^2+(n+1)^2$<br>\n",
    "        $T_{n+1}=T_n+(n+1)^2$<br>\n",
    "        $\\displaystyle T_{n+1}=\\frac{n(n+1)(2n+1)}{6}+(n+1)^2$ (par hypothèse de récurrence)<br>\n",
    "        $\\displaystyle T_{n+1}=\\frac{n(n+1)(2n+1)+6(n+1)^2}{6}$ (en réduisant au même dénominateur)<br>\n",
    "        $\\displaystyle T_{n+1}=\\frac{(n+1)(n(2n+1)+6(n+1))}{6}$ (en factorisant par $(n+1)$)<br>\n",
    "        $\\displaystyle T_{n+1}=\\frac{(n+1)(2n^2+7n+6)}{6}$ <br>\n",
    "        D'autre part, on a :<br>\n",
    "        $(n+2)(2(n+1)+1)=(n+2)(2n+3)=2n^2+7n+6$<br>\n",
    "        donc :<br>\n",
    "        $\\displaystyle T_{n+1}=\\frac{(n+1)(n+2)(2(n+1)+1)}{6}$<br>\n",
    "        Ceci prouve que $P(n+1)$ est vraie. $P$ est donc héréditaire.</li>\n",
    "    <li>Conclusion :<br>\n",
    "    $P(n)$ est fondée en $n=1$ et héréditaire pour $n\\geq1$,<br>\n",
    "    donc vraie pour tout $n \\in \\mathbb{N}^*$.\n",
    "</ul>\n",
    "</span>\n",
    "</BLOCKQUOTE>\n",
    "\n",
    "\n"
   ]
  },
  {
   "cell_type": "markdown",
   "metadata": {},
   "source": [
    "## <span style=\"color:#8E44AD\" id=\"3\">3. Somme des cubes des premiers entiers naturels</span>"
   ]
  },
  {
   "cell_type": "markdown",
   "metadata": {},
   "source": [
    "Pour tout entier naturel $n$ non nul, on pose:<br> \n",
    "$$\\displaystyle C_n=1^3+2^3+...+n^3=\\sum\\limits_{k=1}^{n}{k^3} $$\n",
    "<br>\n",
    "\n",
    "__3.1. Écrire une fonction Python <mark>somme_cubes</mark> qui reçoit <mark>n</mark> en argument et renvoie la valeur de $C_n$.__<br>\n",
    "$\\quad\\;$On pourra s'inspirer des fonctions <mark>somme_entiers</mark> et <mark>somme_carres</mark> écrites dans les parties 1 et 2."
   ]
  },
  {
   "cell_type": "code",
   "execution_count": null,
   "metadata": {},
   "outputs": [],
   "source": [
    "#Écrire ici la fonction somme_cubes\n",
    "def somme_cubes(n):\n",
    "    \"\"\"\n",
    "    fonction qui calcule la somme des cubes des entiers naturels de 1 à n\n",
    "    \"\"\"\n",
    "    S=0\n",
    "    for k in range(1,n+1):\n",
    "        S=S+k**3\n",
    "    return S\n",
    "    "
   ]
  },
  {
   "cell_type": "code",
   "execution_count": null,
   "metadata": {},
   "outputs": [],
   "source": [
    "#Tester ici la fonction somme_carres\n",
    "somme_cubes(3)"
   ]
  },
  {
   "cell_type": "markdown",
   "metadata": {},
   "source": [
    "__3.2.a. Activer la cellule ci-dessous.__<br>\n",
    "$\\quad\\quad$__Observer la figure fournie, qui illustre que le calcul de $C_n$ peut se ramener au calcul de l'aire d'un carré.__\n"
   ]
  },
  {
   "cell_type": "code",
   "execution_count": null,
   "metadata": {},
   "outputs": [],
   "source": [
    "#Sélectionner cette zone puis SHIFT+ENTREE\n",
    "from IPython.display import HTML ; HTML(\"\"\"<iframe scrolling=\"no\" title=\"Somme des premiers cubes\" src=\"https://www.geogebra.org/material/iframe/id/bxfke3dx/width/1067/height/644/border/888888/sfsb/true/smb/false/stb/false/stbh/false/ai/false/asb/false/sri/false/rc/false/ld/false/sdz/false/ctl/false\" width=\"1067px\" height=\"644px\" style=\"border:0px;\"> </iframe>\"\"\")"
   ]
  },
  {
   "cell_type": "markdown",
   "metadata": {},
   "source": [
    "$\\quad\\;$__b. À l'aide de cette méthode, exprimer $C_{5}$ en fonction de $S_5=1+2+...+5$.__<br>\n",
    "$\\quad\\quad$__Calculer $S_5$ et en déduire la valeur de $C_{5}$.__<br>\n",
    "$\\quad\\quad$__Vérifier ensuite le résultat à l'aide de la fonction <mark>somme_cubes__</mark>.\n",
    "\n",
    "<span style=\"color:red;\">\n",
    "D'après la construction, on a $ C_5=(1+2+...+5)^2={S_5}^2$.<br>\n",
    "Or $S_5=\\displaystyle \\frac{5\\times(5+1)}{2}$, donc $\\displaystyle C_5=\\left( \\frac{5\\times(5+1)}{2} \\right) ^2 = \\frac{5^2\\times(5+1)^2}{4} = 225$\n",
    "</span>\n"
   ]
  },
  {
   "cell_type": "code",
   "execution_count": null,
   "metadata": {},
   "outputs": [],
   "source": [
    "#Utiliser cette zone de saisie pour la vérification\n",
    "somme_cubes(5)"
   ]
  },
  {
   "cell_type": "markdown",
   "metadata": {},
   "source": [
    "__3.3. On souhaite maintenant démontrer que $\\displaystyle C_n={S_n}^2=\\frac{n^2(n+1)^2}{4}$ pour tout $n \\in \\mathbb{N}^*$.__<br><br>\n",
    "\n",
    "<BLOCKQUOTE style='background-color:#DDEEEE;'>\n",
    "<strong style=\"color:#004400\">Version 1ère Spé Math</strong><br><br>\n",
    "<br>Pour tout $n \\in \\mathbb{N}^*$, on pose $\\displaystyle w_n=\\frac{n^2(n+1)^2}{4}$.<br>\n",
    "<ul>\n",
    "    <li>Déterminer la valeur de $w_1$ et démontrer que $w_{n+1}=w_n+(n+1)^3$ pour tout $n \\in \\mathbb{N}^*$.</li>\n",
    "    <li>On admet que si deux suites ont le même premier terme et vérifient la même relation de récurrence, alors elles sont égales.<br> Conclure.</li>\n",
    "</ul>                \n",
    "</BLOCKQUOTE>\n",
    "\n",
    "<BLOCKQUOTE style='background-color:#EEDDEE;'>\n",
    "    <strong style=\"color:#330033\">Version Terminale Spé Math</strong><br><br>\n",
    "    Démontrer la formule <strong>par récurrence</strong>.\n",
    "</BLOCKQUOTE>\n",
    "\n",
    "<br>\n",
    "<BLOCKQUOTE style='background-color:#DDEEEE;'>\n",
    "    <span style=\"color:red;\"><strong>Version 1ère Spé Math</strong><br>\n",
    "On a $\\displaystyle w_1=\\frac{1^2\\times(1+1)^2}{4}=1$ et:<br>\n",
    "$\\displaystyle w_n+(n+1)^3=\\frac{n^2(n+1)^2}{4}+(n+1)^3$<br>\n",
    "$\\displaystyle w_n+(n+1)^3=\\frac{n^2(n+1)^2+4(n+1)^3}{4}$ (en réduisant au même dénominateur)<br>\n",
    "$\\displaystyle w_n+(n+1)^3=\\frac{(n+1)^2(n^2+4(n+1))}{4}$ (en factorisant par $(n+1)^2$)<br>\n",
    "$\\displaystyle w_n+(n+1)^3=\\frac{(n+1)^2(n^2+4n+4)}{4}$<br>\n",
    "$\\displaystyle w_n+(n+1)^3=\\frac{(n+1)^2(n+2)^2}{4}$ (en factorisant à l'aide d'une identité remarquable)<br>        \n",
    "$\\displaystyle w_n+(n+1)^3=w_{n+1}$<br>         \n",
    "Au final, les suites $(w_n)_{n\\geq1}$ et $(C_n)_{n\\geq1}$ vérifient la même formule de récurrence et on a $w_1=1=C_1$, donc $\\forall n \\in \\mathbb{N}^*$ on a $\\displaystyle C_n=w_n=\\frac{n^2(n+1)^2}{4}$.\n",
    "</span>\n",
    "</BLOCKQUOTE>\n",
    "\n",
    "<br>\n",
    "<BLOCKQUOTE style='background-color:#EEDDEE;'>\n",
    "    <span style=\"color:red;\"><strong>Version Terminale Spé Math</strong><br>\n",
    "Pour tout $n \\in \\mathbb{N}^*$, on pose $P(n)$ : \"$C_n=\\frac{n^2(n+1)^2}{4}$\".\n",
    "<ul>\n",
    "    <li>$C_1=1$ et $\\displaystyle \\frac{1^2(1+1)^2}{4}=1$ donc $P(1)$ est vraie.</li>\n",
    "    <li>Supposons que $P(n)$ soit vraie pour un $n \\in \\mathbb{N}^*$ quelconque fixé.<br>\n",
    "        Alors :<br>\n",
    "        $C_{n+1}=1^3+2^3+...+n^3+(n+1)^3$<br>\n",
    "        $C_{n+1}=C_n+(n+1)^2$<br>\n",
    "        $\\displaystyle C_{n+1}=\\frac{n^2(n+1)^2}{4}+(n+1)^3$ (par hypothèse de récurrence)<br>\n",
    "        $\\displaystyle C_{n+1}=\\frac{n^2(n+1)^2+4(n+1)^3}{4}$ (en réduisant au même dénominateur)<br>\n",
    "        $\\displaystyle C_{n+1}=\\frac{(n+1)^2(n^2+4(n+1))}{4}$ (en factorisant par $(n+1)^2$)<br>\n",
    "        $\\displaystyle C_{n+1}=\\frac{(n+1)(n^2+4n+4)}{4}$ <br>\n",
    "        $\\displaystyle C_{n+1}=\\frac{(n+1)^2(n+2)^2}{4}$ (en factorisant à l'aide d'une identité remarquable)<br>         \n",
    "        Ceci prouve que $P(n+1)$ est vraie. $P$ est donc héréditaire.</li>\n",
    "    <li>Conclusion :<br>\n",
    "    $P(n)$ est fondée en $n=1$ et héréditaire pour $n\\geq1$,<br>\n",
    "    donc vraie pour tout $n \\in \\mathbb{N}^*$.\n",
    "</ul>\n",
    "</span>\n",
    "</BLOCKQUOTE>\n",
    "\n",
    "\n",
    "    "
   ]
  },
  {
   "cell_type": "markdown",
   "metadata": {},
   "source": [
    "<i>© Copyright Franck CHEVRIER 2019-2021 https://www.python-lycee.com.</i><br>\n",
    "<i>Les activités partagées sur <a href=\"https://capytale2.ac-paris.fr/web/accueil\"><strong>Capytale</strong></a> sont sous licence <a href=\"https://creativecommons.org/licenses/by-sa/3.0/fr/\">Creative Commons</a>.</i>\n"
   ]
  }
 ],
 "metadata": {
  "celltoolbar": "Raw Cell Format",
  "kernelspec": {
   "display_name": "Python 3",
   "language": "python",
   "name": "python3"
  },
  "language_info": {
   "codemirror_mode": {
    "name": "ipython",
    "version": 3
   },
   "file_extension": ".py",
   "mimetype": "text/x-python",
   "name": "python",
   "nbconvert_exporter": "python",
   "pygments_lexer": "ipython3",
   "version": "3.8.5"
  }
 },
 "nbformat": 4,
 "nbformat_minor": 2
}
