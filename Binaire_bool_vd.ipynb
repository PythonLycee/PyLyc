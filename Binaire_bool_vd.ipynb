{
 "cells": [
  {
   "cell_type": "markdown",
   "metadata": {},
   "source": [
    "![En tête general](https://raw.githubusercontent.com/PythonLycee/PyLyc/master/img/En_tete_general.png)\n",
    "\n",
    "\n",
    "<i>© Copyright Franck CHEVRIER 2019-2021 https://www.python-lycee.com.</i><br>\n",
    "<i>Les activités partagées sur <a href=\"https://capytale2.ac-paris.fr/web/accueil\"><strong>Capytale</strong></a> sont sous licence <a href=\"https://creativecommons.org/licenses/by-sa/3.0/fr/\">Creative Commons</a>.</i>\n",
    "\n",
    "<span style=\"color: #9317B4\"> Pour exécuter une saisie Python, sélectionner la cellule et valider avec </span><span style=\"color: #B317B4\"><strong>SHIFT+Entrée</strong></span>.\n"
   ]
  },
  {
   "cell_type": "markdown",
   "metadata": {},
   "source": [
    "<br><br>\n",
    "<strong style=\"color:#EF6607; font-size:36px;\"> Addition binaire </strong>\n",
    "<br><br>\n",
    "<strong style=\"color:#EF6607; font-size:18px;\"> Activité sur les booléens n°2 </strong>\n",
    "<br><br>\n",
    "<strong>Important :</strong> Il est conseillé de réaliser cette activité après l'activité <a href=\"https://notebook.basthon.fr/?from=https://raw.githubusercontent.com/PythonLycee/PyLyc/master/PLogique_bool_vd.ipynb\">Portes logiques et booléens</a>."
   ]
  },
  {
   "cell_type": "markdown",
   "metadata": {},
   "source": [
    "### <span style=\"color:#EF6607\">Sommaire</span>\n",
    "\n",
    "<span style=\"color:#EF6607\">1.</span> <a href=\"#1\">Somme de deux chiffres en binaire</a><br>\n",
    "<span style=\"color:#EF6607\">2.</span> <a href=\"#2\">Somme de deux nombres en binaire</a><br>\n"
   ]
  },
  {
   "cell_type": "markdown",
   "metadata": {},
   "source": [
    "<br><br>\n",
    "<strong style=\"color:#EF6607; font-size:26px;\" id=\"1\">1. Somme de deux chiffres en binaire </strong>"
   ]
  },
  {
   "cell_type": "markdown",
   "metadata": {},
   "source": [
    "En écriture binaire, on ne dispose que de deux chiffres pour l'écriture des nombres : 0 et 1.<br>\n",
    "Ces chiffres correspondent respectivement aux valeurs booléennes <mark style=\"font-family: Consolas;\">False</mark> et <mark style=\"font-family: Consolas;\">True</mark>.<br>\n",
    "La somme de deux chiffres en binaire donne un résultat à deux chiffres : Le chiffre des unités et le chiffre des \"deuzaines\"."
   ]
  },
  {
   "cell_type": "markdown",
   "metadata": {},
   "source": [
    "<table style=\"float:right; border-collapse:collapse;border-spacing:0;table-layout: fixed; width: 228px\" class=\"tg\"><colgroup><col style=\"width: 57px\"><col style=\"width: 57px\"><col style=\"width: 57px\"><col style=\"width: 57px\"></colgroup><thead><tr><th style=\"border-color:black;border-style:solid;border-width:1px;font-family:Arial, sans-serif;font-size:14px;font-weight:normal;overflow:hidden;padding:10px 5px;text-align:left;vertical-align:top;word-break:normal\" colspan=\"4\">Addition binaire de deux chiffres</th></tr></thead><tbody><tr><td style=\"background-color:#cbcefb;border-color:black;border-style:solid;border-width:1px;font-family:Arial, sans-serif;font-size:14px;font-weight:bold;overflow:hidden;padding:10px 5px;text-align:center;vertical-align:top;word-break:normal\">e1</td><td style=\"background-color:#cbcefb;border-color:black;border-style:solid;border-width:1px;font-family:Arial, sans-serif;font-size:14px;font-weight:bold;overflow:hidden;padding:10px 5px;text-align:center;vertical-align:top;word-break:normal\">e2</td><td style=\"background-color:#f8a102;border-color:black;border-style:solid;border-width:1px;font-family:Arial, sans-serif;font-size:14px;font-weight:bold;overflow:hidden;padding:10px 5px;text-align:center;vertical-align:top;word-break:normal\">s1</td><td style=\"background-color:#f8a102;border-color:black;border-style:solid;border-width:1px;font-family:Arial, sans-serif;font-size:14px;font-weight:bold;overflow:hidden;padding:10px 5px;text-align:center;vertical-align:top;word-break:normal\">s0</td></tr><tr><td style=\"background-color:#ecf4ff;border-color:black;border-style:solid;border-width:1px;font-family:Arial, sans-serif;font-size:14px;overflow:hidden;padding:10px 5px;text-align:center;vertical-align:top;word-break:normal\">0</td><td style=\"background-color:#ecf4ff;border-color:black;border-style:solid;border-width:1px;font-family:Arial, sans-serif;font-size:14px;overflow:hidden;padding:10px 5px;text-align:center;vertical-align:top;word-break:normal\">0</td><td style=\"background-color:#ffce93;border-color:black;border-style:solid;border-width:1px;font-family:Arial, sans-serif;font-size:14px;overflow:hidden;padding:10px 5px;text-align:center;vertical-align:top;word-break:normal\"></td><td style=\"background-color:#ffce93;border-color:black;border-style:solid;border-width:1px;font-family:Arial, sans-serif;font-size:14px;overflow:hidden;padding:10px 5px;text-align:center;vertical-align:top;word-break:normal\"></td></tr><tr><td style=\"background-color:#ecf4ff;border-color:black;border-style:solid;border-width:1px;font-family:Arial, sans-serif;font-size:14px;overflow:hidden;padding:10px 5px;text-align:center;vertical-align:top;word-break:normal\">0</td><td style=\"background-color:#ecf4ff;border-color:black;border-style:solid;border-width:1px;font-family:Arial, sans-serif;font-size:14px;overflow:hidden;padding:10px 5px;text-align:center;vertical-align:top;word-break:normal\">1</td><td style=\"background-color:#ffce93;border-color:black;border-style:solid;border-width:1px;font-family:Arial, sans-serif;font-size:14px;overflow:hidden;padding:10px 5px;text-align:center;vertical-align:top;word-break:normal\"></td><td style=\"background-color:#ffce93;border-color:black;border-style:solid;border-width:1px;font-family:Arial, sans-serif;font-size:14px;overflow:hidden;padding:10px 5px;text-align:center;vertical-align:top;word-break:normal\"></td></tr><tr><td style=\"background-color:#ecf4ff;border-color:black;border-style:solid;border-width:1px;font-family:Arial, sans-serif;font-size:14px;overflow:hidden;padding:10px 5px;text-align:center;vertical-align:top;word-break:normal\">1</td><td style=\"background-color:#ecf4ff;border-color:black;border-style:solid;border-width:1px;font-family:Arial, sans-serif;font-size:14px;overflow:hidden;padding:10px 5px;text-align:center;vertical-align:top;word-break:normal\">0</td><td style=\"background-color:#ffce93;border-color:black;border-style:solid;border-width:1px;font-family:Arial, sans-serif;font-size:14px;overflow:hidden;padding:10px 5px;text-align:center;vertical-align:top;word-break:normal\"></td><td style=\"background-color:#ffce93;border-color:black;border-style:solid;border-width:1px;font-family:Arial, sans-serif;font-size:14px;overflow:hidden;padding:10px 5px;text-align:center;vertical-align:top;word-break:normal\"></td></tr><tr><td style=\"background-color:#ecf4ff;border-color:black;border-style:solid;border-width:1px;font-family:Arial, sans-serif;font-size:14px;overflow:hidden;padding:10px 5px;text-align:center;vertical-align:top;word-break:normal\">1</td><td style=\"background-color:#ecf4ff;border-color:black;border-style:solid;border-width:1px;font-family:Arial, sans-serif;font-size:14px;overflow:hidden;padding:10px 5px;text-align:center;vertical-align:top;word-break:normal\">1</td><td style=\"background-color:#ffce93;border-color:black;border-style:solid;border-width:1px;font-family:Arial, sans-serif;font-size:14px;overflow:hidden;padding:10px 5px;text-align:center;vertical-align:top;word-break:normal\"></td><td style=\"background-color:#ffce93;border-color:black;border-style:solid;border-width:1px;font-family:Arial, sans-serif;font-size:14px;overflow:hidden;padding:10px 5px;text-align:center;vertical-align:top;word-break:normal\"></td></tr></tbody></table>\n",
    "\n",
    "<strong>1.1. Recopier et compléter la table d'addition de deux chiffres binaires e1 et e2 ci-contre.<br>\n",
    "$\\quad\\;\\;$(s0 et s1 sont respectivement le chiffre des unités et le chiffre des deuzaines du résultat)<br>\n",
    "<br><br>\n",
    "1.2. a.Quelle est la porte logique qui permet d'obtenir s1 à partir de e1 et e2 ?<br>\n",
    "$\\quad\\;\\;$b. Quelle est la porte logique qui permet d'obtenir s0 à partir de e1 et e2 ?<br>\n",
    "$\\quad\\;\\;$c. Représenter un circuit combinatoire qui réalise l'addition de deux chiffres binaires.</strong>\n"
   ]
  },
  {
   "cell_type": "markdown",
   "metadata": {},
   "source": [
    "<strong>1.3. Écrire une fonction Python <mark style=\"font-family: Consolas;\">add</mark>:\n",
    "<ul>\n",
    "    <li> qui reçoit en entrée les signaux booléens <mark style=\"font-family: Consolas;\">e1</mark> et <mark style=\"font-family: Consolas;\">e2</mark> ;</li>\n",
    "    <li> qui renvoie les signaux booléens <mark style=\"font-family: Consolas;\">s1</mark> et <mark style=\"font-family: Consolas;\">s0</mark>.</li>\n",
    "</ul>\n",
    "</strong>"
   ]
  },
  {
   "cell_type": "code",
   "execution_count": null,
   "metadata": {},
   "outputs": [],
   "source": [
    "# Écrire ici la fonction add\n",
    "\n",
    "\n"
   ]
  },
  {
   "cell_type": "markdown",
   "metadata": {},
   "source": [
    "<strong>1.4. La fonction Python <mark style=\"font-family: Consolas;\">Table_verite</mark> donnée ci-dessous renvoie la table de vérité d'un circuit combinatoire donné par une fonction Python.<br>\n",
    "$\\quad\\;\\;$Exécuter les cellules suivantes pour vérifier que la fonction <mark style=\"font-family: Consolas;\">add</mark> permet de retrouver la table de vérité construite en 1.1. </strong> "
   ]
  },
  {
   "cell_type": "code",
   "execution_count": null,
   "metadata": {},
   "outputs": [],
   "source": [
    "from itertools import product\n",
    "from inspect import signature\n",
    "\n",
    "def Table_verite(fonction_booleenne):\n",
    "    \"\"\"\n",
    "    renvoie la table d'une fonction booléenne sous forme d'un dictionnaire\n",
    "    À chaque tuple des valeurs booléennes en entrée est associé la(les) sortie(s) correspondante(s)\n",
    "    \"\"\"\n",
    "    #récupération du nombre d'arguments de la fonction booleenne\n",
    "    nbre_arguments = len (signature(fonction_booleenne).parameters) \n",
    "    \n",
    "    #initialisation de la table\n",
    "    Table={}\n",
    "    \n",
    "    #remplissage de la table : à chaque séquence de booléens possible...\n",
    "    for liste_bool in product( *([[False,True] for j in range(nbre_arguments)] )):\n",
    "        #...on fait correspondre le résultat de la fonction booléenne\n",
    "        Table[liste_bool] = fonction_booleenne(*liste_bool)\n",
    "    \n",
    "    #renvoie la table\n",
    "    return Table\n"
   ]
  },
  {
   "cell_type": "code",
   "execution_count": null,
   "metadata": {},
   "outputs": [],
   "source": [
    "Table_verite(add)"
   ]
  },
  {
   "cell_type": "markdown",
   "metadata": {},
   "source": [
    "<br><br>\n",
    "<strong style=\"color:#EF6607; font-size:26px;\" id=\"2\">2. Somme de deux nombres en binaire </strong>"
   ]
  },
  {
   "cell_type": "markdown",
   "metadata": {},
   "source": [
    "<figure style=\"float: right;\">\n",
    "    <img src=\"https://raw.githubusercontent.com/PythonLycee/PyLyc/master/img/gifbin.gif\">\n",
    "</figure>\n",
    "\n",
    "Lorsqu’on pose une addition de deux nombres, on est amené à calculer la somme de trois chiffres :\n",
    "<ul>\n",
    "    <li>le chiffre du 1<sup>er</sup> nombre ;</li>\n",
    "    <li>le chiffre du 2<sup>ème</sup> nombre ;</li>\n",
    "    <li>le chiffre de l’éventuelle retenue obtenue précédemment.</li>\n",
    "</ul>    \n",
    "Ainsi, pour réaliser la somme de deux nombres, il est nécessaire de savoir sommer trois chiffres.\n"
   ]
  },
  {
   "cell_type": "markdown",
   "metadata": {},
   "source": [
    "<strong>2.1. a. Effectuer <u>à la main</u> les additions binaires suivantes.\n",
    "<ul>\n",
    "    <li> $10011+110$ </li>\n",
    "    <li> $1111+1111$ </li>    \n",
    "    <li> $100101+10110$ </li> \n",
    "</ul>\n",
    "$\\quad\\;\\;$b. Activer la cellule ci-dessous pour obtenir un additionneur binaire. Utiliser cet additionneur pour vérifier les résultats de la question 2.1.a.\n",
    "</strong>    "
   ]
  },
  {
   "cell_type": "code",
   "execution_count": null,
   "metadata": {},
   "outputs": [],
   "source": [
    "#Sélectionner cette zone puis SHIFT+ENTREE\n",
    "from IPython.display import HTML ; HTML(\"\"\"<iframe scrolling=\"no\" title=\"Additionneur binaire\" src=\"https://www.geogebra.org/material/iframe/id/umzwxpdw/width/717/height/423/border/888888/sfsb/true/smb/false/stb/false/stbh/false/ai/false/asb/false/sri/false/rc/false/ld/false/sdz/false/ctl/false\" width=\"717px\" height=\"423px\" style=\"border:0px;\"> </iframe>\"\"\")"
   ]
  },
  {
   "cell_type": "markdown",
   "metadata": {},
   "source": [
    "<table style=\"float:right; border-collapse:collapse;border-spacing:0;table-layout: fixed; width: 234px\" class=\"tg\"><colgroup><col style=\"width: 47px\"><col style=\"width: 47px\"><col style=\"width: 46px\"><col style=\"width: 47px\"><col style=\"width: 47px\"></colgroup><thead><tr><th style=\"border-color:inherit;border-style:solid;border-width:1px;font-family:Arial, sans-serif;font-size:14px;font-weight:normal;overflow:hidden;padding:10px 5px;text-align:center;vertical-align:top;word-break:normal\" colspan=\"5\">Somme binaire de trois chiffres</th></tr></thead><tbody><tr><td style=\"background-color:#7ff5f1;border-color:inherit;border-style:solid;border-width:1px;font-family:Arial, sans-serif;font-size:14px;overflow:hidden;padding:10px 5px;text-align:center;vertical-align:top;word-break:normal\"><span style=\"font-weight:bold\">r</span></td><td style=\"background-color:#cbcefb;border-color:inherit;border-style:solid;border-width:1px;font-family:Arial, sans-serif;font-size:14px;font-weight:bold;overflow:hidden;padding:10px 5px;text-align:center;vertical-align:top;word-break:normal\">e1</td><td style=\"background-color:#cbcefb;border-color:inherit;border-style:solid;border-width:1px;font-family:Arial, sans-serif;font-size:14px;font-weight:bold;overflow:hidden;padding:10px 5px;text-align:center;vertical-align:top;word-break:normal\">e2</td><td style=\"background-color:#f8a102;border-color:inherit;border-style:solid;border-width:1px;font-family:Arial, sans-serif;font-size:14px;font-weight:bold;overflow:hidden;padding:10px 5px;text-align:center;vertical-align:top;word-break:normal\">s1</td><td style=\"background-color:#f8a102;border-color:inherit;border-style:solid;border-width:1px;font-family:Arial, sans-serif;font-size:14px;font-weight:bold;overflow:hidden;padding:10px 5px;text-align:center;vertical-align:top;word-break:normal\">s0</td></tr><tr><td style=\"background-color:#c6faf9;border-color:inherit;border-style:solid;border-width:1px;font-family:Arial, sans-serif;font-size:14px;overflow:hidden;padding:10px 5px;text-align:center;vertical-align:top;word-break:normal\">0</td><td style=\"background-color:#ecf4ff;border-color:inherit;border-style:solid;border-width:1px;font-family:Arial, sans-serif;font-size:14px;overflow:hidden;padding:10px 5px;text-align:center;vertical-align:top;word-break:normal\">0</td><td style=\"background-color:#ecf4ff;border-color:inherit;border-style:solid;border-width:1px;font-family:Arial, sans-serif;font-size:14px;overflow:hidden;padding:10px 5px;text-align:center;vertical-align:top;word-break:normal\">0</td><td style=\"background-color:#ffce93;border-color:inherit;border-style:solid;border-width:1px;font-family:Arial, sans-serif;font-size:14px;overflow:hidden;padding:10px 5px;text-align:center;vertical-align:top;word-break:normal\"></td><td style=\"background-color:#ffce93;border-color:inherit;border-style:solid;border-width:1px;font-family:Arial, sans-serif;font-size:14px;overflow:hidden;padding:10px 5px;text-align:center;vertical-align:top;word-break:normal\"></td></tr><tr><td style=\"background-color:#c6faf9;border-color:inherit;border-style:solid;border-width:1px;font-family:Arial, sans-serif;font-size:14px;overflow:hidden;padding:10px 5px;text-align:center;vertical-align:top;word-break:normal\">0</td><td style=\"background-color:#ecf4ff;border-color:inherit;border-style:solid;border-width:1px;font-family:Arial, sans-serif;font-size:14px;overflow:hidden;padding:10px 5px;text-align:center;vertical-align:top;word-break:normal\">0</td><td style=\"background-color:#ecf4ff;border-color:inherit;border-style:solid;border-width:1px;font-family:Arial, sans-serif;font-size:14px;overflow:hidden;padding:10px 5px;text-align:center;vertical-align:top;word-break:normal\">1</td><td style=\"background-color:#ffce93;border-color:inherit;border-style:solid;border-width:1px;font-family:Arial, sans-serif;font-size:14px;overflow:hidden;padding:10px 5px;text-align:center;vertical-align:top;word-break:normal\"></td><td style=\"background-color:#ffce93;border-color:inherit;border-style:solid;border-width:1px;font-family:Arial, sans-serif;font-size:14px;overflow:hidden;padding:10px 5px;text-align:center;vertical-align:top;word-break:normal\"></td></tr><tr><td style=\"background-color:#c6faf9;border-color:inherit;border-style:solid;border-width:1px;font-family:Arial, sans-serif;font-size:14px;overflow:hidden;padding:10px 5px;text-align:center;vertical-align:top;word-break:normal\">0</td><td style=\"background-color:#ecf4ff;border-color:inherit;border-style:solid;border-width:1px;font-family:Arial, sans-serif;font-size:14px;overflow:hidden;padding:10px 5px;text-align:center;vertical-align:top;word-break:normal\">1</td><td style=\"background-color:#ecf4ff;border-color:inherit;border-style:solid;border-width:1px;font-family:Arial, sans-serif;font-size:14px;overflow:hidden;padding:10px 5px;text-align:center;vertical-align:top;word-break:normal\">0</td><td style=\"background-color:#ffce93;border-color:inherit;border-style:solid;border-width:1px;font-family:Arial, sans-serif;font-size:14px;overflow:hidden;padding:10px 5px;text-align:center;vertical-align:top;word-break:normal\"></td><td style=\"background-color:#ffce93;border-color:inherit;border-style:solid;border-width:1px;font-family:Arial, sans-serif;font-size:14px;overflow:hidden;padding:10px 5px;text-align:center;vertical-align:top;word-break:normal\"></td></tr><tr><td style=\"background-color:#c6faf9;border-color:inherit;border-style:solid;border-width:1px;font-family:Arial, sans-serif;font-size:14px;overflow:hidden;padding:10px 5px;text-align:center;vertical-align:top;word-break:normal\">0</td><td style=\"background-color:#ecf4ff;border-color:inherit;border-style:solid;border-width:1px;font-family:Arial, sans-serif;font-size:14px;overflow:hidden;padding:10px 5px;text-align:center;vertical-align:top;word-break:normal\">1</td><td style=\"background-color:#ecf4ff;border-color:inherit;border-style:solid;border-width:1px;font-family:Arial, sans-serif;font-size:14px;overflow:hidden;padding:10px 5px;text-align:center;vertical-align:top;word-break:normal\">1</td><td style=\"background-color:#ffce93;border-color:inherit;border-style:solid;border-width:1px;font-family:Arial, sans-serif;font-size:14px;overflow:hidden;padding:10px 5px;text-align:center;vertical-align:top;word-break:normal\"></td><td style=\"background-color:#ffce93;border-color:inherit;border-style:solid;border-width:1px;font-family:Arial, sans-serif;font-size:14px;overflow:hidden;padding:10px 5px;text-align:center;vertical-align:top;word-break:normal\"></td></tr><tr><td style=\"background-color:#c6faf9;border-color:inherit;border-style:solid;border-width:1px;font-family:Arial, sans-serif;font-size:14px;overflow:hidden;padding:10px 5px;text-align:center;vertical-align:top;word-break:normal\">1</td><td style=\"background-color:#ECF4FF;border-color:inherit;border-style:solid;border-width:1px;font-family:Arial, sans-serif;font-size:14px;overflow:hidden;padding:10px 5px;text-align:center;vertical-align:top;word-break:normal\">0</td><td style=\"background-color:#ECF4FF;border-color:inherit;border-style:solid;border-width:1px;font-family:Arial, sans-serif;font-size:14px;overflow:hidden;padding:10px 5px;text-align:center;vertical-align:top;word-break:normal\">0</td><td style=\"background-color:#FFCE93;border-color:inherit;border-style:solid;border-width:1px;font-family:Arial, sans-serif;font-size:14px;overflow:hidden;padding:10px 5px;text-align:center;vertical-align:top;word-break:normal\"></td><td style=\"background-color:#FFCE93;border-color:inherit;border-style:solid;border-width:1px;font-family:Arial, sans-serif;font-size:14px;overflow:hidden;padding:10px 5px;text-align:center;vertical-align:top;word-break:normal\"></td></tr><tr><td style=\"background-color:#c6faf9;border-color:inherit;border-style:solid;border-width:1px;font-family:Arial, sans-serif;font-size:14px;overflow:hidden;padding:10px 5px;text-align:center;vertical-align:top;word-break:normal\">1</td><td style=\"background-color:#ECF4FF;border-color:inherit;border-style:solid;border-width:1px;font-family:Arial, sans-serif;font-size:14px;overflow:hidden;padding:10px 5px;text-align:center;vertical-align:top;word-break:normal\">0</td><td style=\"background-color:#ECF4FF;border-color:inherit;border-style:solid;border-width:1px;font-family:Arial, sans-serif;font-size:14px;overflow:hidden;padding:10px 5px;text-align:center;vertical-align:top;word-break:normal\">1</td><td style=\"background-color:#FFCE93;border-color:inherit;border-style:solid;border-width:1px;font-family:Arial, sans-serif;font-size:14px;overflow:hidden;padding:10px 5px;text-align:center;vertical-align:top;word-break:normal\"></td><td style=\"background-color:#FFCE93;border-color:inherit;border-style:solid;border-width:1px;font-family:Arial, sans-serif;font-size:14px;overflow:hidden;padding:10px 5px;text-align:center;vertical-align:top;word-break:normal\"></td></tr><tr><td style=\"background-color:#c6faf9;border-color:inherit;border-style:solid;border-width:1px;font-family:Arial, sans-serif;font-size:14px;overflow:hidden;padding:10px 5px;text-align:center;vertical-align:top;word-break:normal\">1</td><td style=\"background-color:#ECF4FF;border-color:inherit;border-style:solid;border-width:1px;font-family:Arial, sans-serif;font-size:14px;overflow:hidden;padding:10px 5px;text-align:center;vertical-align:top;word-break:normal\">1</td><td style=\"background-color:#ECF4FF;border-color:inherit;border-style:solid;border-width:1px;font-family:Arial, sans-serif;font-size:14px;overflow:hidden;padding:10px 5px;text-align:center;vertical-align:top;word-break:normal\">0</td><td style=\"background-color:#FFCE93;border-color:inherit;border-style:solid;border-width:1px;font-family:Arial, sans-serif;font-size:14px;overflow:hidden;padding:10px 5px;text-align:center;vertical-align:top;word-break:normal\"></td><td style=\"background-color:#FFCE93;border-color:inherit;border-style:solid;border-width:1px;font-family:Arial, sans-serif;font-size:14px;overflow:hidden;padding:10px 5px;text-align:center;vertical-align:top;word-break:normal\"></td></tr><tr><td style=\"background-color:#c6faf9;border-color:inherit;border-style:solid;border-width:1px;font-family:Arial, sans-serif;font-size:14px;overflow:hidden;padding:10px 5px;text-align:center;vertical-align:top;word-break:normal\">1</td><td style=\"background-color:#ECF4FF;border-color:inherit;border-style:solid;border-width:1px;font-family:Arial, sans-serif;font-size:14px;overflow:hidden;padding:10px 5px;text-align:center;vertical-align:top;word-break:normal\">1</td><td style=\"background-color:#ECF4FF;border-color:inherit;border-style:solid;border-width:1px;font-family:Arial, sans-serif;font-size:14px;overflow:hidden;padding:10px 5px;text-align:center;vertical-align:top;word-break:normal\">1</td><td style=\"background-color:#FFCE93;border-color:inherit;border-style:solid;border-width:1px;font-family:Arial, sans-serif;font-size:14px;overflow:hidden;padding:10px 5px;text-align:center;vertical-align:top;word-break:normal\"></td><td style=\"background-color:#FFCE93;border-color:inherit;border-style:solid;border-width:1px;font-family:Arial, sans-serif;font-size:14px;overflow:hidden;padding:10px 5px;text-align:center;vertical-align:top;word-break:normal\"></td></tr></tbody></table>\n",
    "\n",
    "\n",
    "<strong>2.2. Recopier et compléter la table d'addition de trois chiffres binaires e1, e2 et r ci-contre.<br>\n",
    "$\\quad\\;\\;$(s0 et s1 sont respectivement le chiffre des unités et le chiffre des deuzaines du résultat)<br>\n",
    "<br>\n",
    "2.3. a. Construire un circuit combinatoire qui permet d'obtenir s0 à partir de e1, e2 et r.<br>\n",
    "$\\quad\\;\\;$b. Construire un circuit combinatoire qui permet d'obtenir s1 à partir de e1, e2 et r.<br>\n",
    "$\\quad\\quad$ (on pourra réaliser un autre schéma ou compléter le schéma précédent)<br>\n",
    "<br>\n",
    "2.4. Écrire une fonction Python <mark style=\"font-family: Consolas;\">add_r</mark>:\n",
    "<ul>\n",
    "    <li> qui reçoit en entrée les signaux booléens <mark style=\"font-family: Consolas;\">e1</mark>, <mark style=\"font-family: Consolas;\">e2</mark> et <mark style=\"font-family: Consolas;\">r</mark> ;</li>\n",
    "    <li> qui renvoie les signaux booléens <mark style=\"font-family: Consolas;\">s1</mark> et <mark style=\"font-family: Consolas;\">s0</mark>.</li>\n",
    "</ul>\n",
    "<br>Effectuer ensuite un appel à la fonction <mark style=\"font-family: Consolas;\">Table_verite</mark> pour vérrifier la cohérence avec la question 2.2\n",
    "</strong>"
   ]
  },
  {
   "cell_type": "code",
   "execution_count": null,
   "metadata": {},
   "outputs": [],
   "source": [
    "# Écrire ici la fonction add_r\n",
    "\n",
    "\n"
   ]
  },
  {
   "cell_type": "code",
   "execution_count": null,
   "metadata": {},
   "outputs": [],
   "source": [
    "# Exécuter cette cellule pour vérifier\n",
    "Table_verite(add_r)"
   ]
  },
  {
   "cell_type": "markdown",
   "metadata": {},
   "source": [
    "<strong>2.5. Pour la suite, un nombre binaire sera représenté par une liste contenant des <mark style=\"font-family: Consolas;\">0</mark> et des <mark style=\"font-family: Consolas;\">1</mark>.<br> \n",
    "$\\quad\\;\\;$Tester les syntaxes suivantes et compléter dans chaque cas le commentaire.  "
   ]
  },
  {
   "cell_type": "code",
   "execution_count": null,
   "metadata": {},
   "outputs": [],
   "source": [
    "L=[1,0,0,0,1,1,0] # représentation du nombre binaire 1000110 sous forme de liste\n"
   ]
  },
  {
   "cell_type": "code",
   "execution_count": null,
   "metadata": {},
   "outputs": [],
   "source": [
    "L[-1]             # permet d'obtenir ..."
   ]
  },
  {
   "cell_type": "code",
   "execution_count": null,
   "metadata": {},
   "outputs": [],
   "source": [
    "L[-2]             # permet d'obtenir ..."
   ]
  },
  {
   "cell_type": "code",
   "execution_count": null,
   "metadata": {},
   "outputs": [],
   "source": [
    "L[-len(L)]        # permet d'obtenir ..."
   ]
  },
  {
   "cell_type": "code",
   "execution_count": null,
   "metadata": {},
   "outputs": [],
   "source": [
    "L.insert(0,1)     # permet ...\n",
    "L"
   ]
  },
  {
   "cell_type": "markdown",
   "metadata": {},
   "source": [
    "<strong>2.6. Écrire une fonction Python <mark style=\"font-family: Consolas;\">add_bin</mark> :\n",
    "<ul>\n",
    "    <li>qui reçoit en argument deux listes <mark style=\"font-family: Consolas;\">L1</mark> et <mark style=\"font-family: Consolas;\">L2</mark> <u>de même longueur</u>, correspondant à deux nombres binaires;</li>\n",
    "    <li>qui renvoie une liste correspondant à la somme de ces deux nombres.</li>\n",
    "</ul>\n",
    "</strong>\n",
    "Remarques :\n",
    "<ul>\n",
    "    <li>on pourra utiliser la fonction <mark style=\"font-family: Consolas;\">add_r</mark> écrite précédemment;</li>\n",
    "    <li>pour s'assurer que les valeurs sont entières (<mark style=\"font-family: Consolas;\">0</mark> ou <mark style=\"font-family: Consolas;\">1</mark>) on pourra convertir les booléens calculés avec <mark style=\"font-family: Consolas;\">int</mark>.</li>\n",
    "</ul>"
   ]
  },
  {
   "cell_type": "code",
   "execution_count": null,
   "metadata": {},
   "outputs": [],
   "source": [
    "# Écrire ici la fonction add_bin\n",
    "\n",
    "\n",
    "    "
   ]
  },
  {
   "cell_type": "markdown",
   "metadata": {},
   "source": [
    "<strong>2.7. Tester la fonction Python ci-dessous qui permet le calcul de deux nombres binaires quelconques (à l'aide de la fonction <mark style=\"font-family: Consolas;\">add_bin</mark>).\n",
    "</strong>\n"
   ]
  },
  {
   "cell_type": "code",
   "execution_count": null,
   "metadata": {},
   "outputs": [],
   "source": [
    "# Exécuter cette cellule\n",
    "\n",
    "def add_bin_final(L1,L2):\n",
    "    \"\"\"\n",
    "    Fonction qui réalise la somme de deux nombres binaires\n",
    "    représentés par des listes \n",
    "    \"\"\"    \n",
    "    # on ajoute des 0 \"inutiles\" pour que les listes soient de même longueur\n",
    "    L2 = [0]*(len(L1)-len(L2)) + L2  # ajouts de chiffres 0 à L2 si nécessaire\n",
    "    L1 = [0]*(len(L2)-len(L1)) + L1  # ajouts de chiffres 0 à L1 si nécessaire\n",
    "    \n",
    "    return add_bin(L1,L2)\n",
    "\n",
    "\n",
    "add_bin_final([1,1,0,0],[1,1,0,0,1,1,1])"
   ]
  },
  {
   "cell_type": "markdown",
   "metadata": {},
   "source": [
    "![Claude_Shannon_George_Stibitz](https://raw.githubusercontent.com/PythonLycee/PyLyc/master/img/Claude_Shannon_George_Stibitz.png) \n",
    "\n",
    "<center> <a href=\"https://fr.wikipedia.org/wiki/Claude_Shannon\">Claude Shannon</a> (1916-2001) et <a href=\"https://en.wikipedia.org/wiki/George_Stibitz\">George Stibitz</a> (1904-1995) ont initié le calcul binaire en électronique en 1937.</center>"
   ]
  },
  {
   "cell_type": "markdown",
   "metadata": {},
   "source": [
    "<i>© Copyright Franck CHEVRIER 2019-2021 https://www.python-lycee.com.</i><br>\n",
    "<i>Les activités partagées sur <a href=\"https://capytale2.ac-paris.fr/web/accueil\"><strong>Capytale</strong></a> sont sous licence <a href=\"https://creativecommons.org/licenses/by-sa/3.0/fr/\">Creative Commons</a>.</i>\n"
   ]
  }
 ],
 "metadata": {
  "celltoolbar": "Raw Cell Format",
  "kernelspec": {
   "display_name": "Python 3",
   "language": "python",
   "name": "python3"
  },
  "language_info": {
   "codemirror_mode": {
    "name": "ipython",
    "version": 3
   },
   "file_extension": ".py",
   "mimetype": "text/x-python",
   "name": "python",
   "nbconvert_exporter": "python",
   "pygments_lexer": "ipython3",
   "version": "3.8.5"
  }
 },
 "nbformat": 4,
 "nbformat_minor": 2
}
