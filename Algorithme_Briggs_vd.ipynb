{
 "cells": [
  {
   "cell_type": "markdown",
   "metadata": {},
   "source": [
    "![En tête general](https://raw.githubusercontent.com/PythonLycee/PyLyc/master/img/En_tete_general.png)\n",
    "\n",
    "\n",
    "<i>© Copyright Franck CHEVRIER 2019-2021 https://www.python-lycee.com.</i><br>\n",
    "<i>Les activités partagées sur <a href=\"https://capytale2.ac-paris.fr/web/accueil\"><strong>Capytale</strong></a> sont sous licence <a href=\"https://creativecommons.org/licenses/by-sa/3.0/fr/\">Creative Commons</a>.</i>\n",
    "\n",
    "<span style=\"color: #9317B4\"> Pour exécuter une saisie Python, sélectionner la cellule et valider avec </span><span style=\"color: #B317B4\"><strong>SHIFT+Entrée</strong></span>.\n"
   ]
  },
  {
   "cell_type": "markdown",
   "metadata": {},
   "source": [
    "# <span style=\"color:#6C3483\">Algorithme de Briggs pour le calcul du logarithme</span>"
   ]
  },
  {
   "cell_type": "markdown",
   "metadata": {},
   "source": [
    "<span style=\"color: #7C39C9\">*Le but de l'activité est d'obtenir des valeurs approchées de logarithmes népérien à l'aide des opérations élémentaires et de la racine carrée.*</span>\n",
    "\n",
    "### <span style=\"color:#8E44AD\">Sommaire</span>\n",
    "\n",
    "<span style=\"color:#8E44AD\">1.</span> <a href=\"#1\">Principe de l'algorithme de Briggs</a><br>\n",
    "<span style=\"color:#8E44AD\">2.</span> <a href=\"#2\">Implémentation en langage Python</a><br>\n",
    "\n"
   ]
  },
  {
   "cell_type": "markdown",
   "metadata": {},
   "source": [
    "## <span style=\"color:#8E44AD\" id=\"1\">1. Principe de l'algorithme de Briggs</span>"
   ]
  },
  {
   "cell_type": "markdown",
   "metadata": {},
   "source": [
    "\n",
    "__On considère un réel $a>0$, et on souhaite évaluer $ln(a)$.__\n",
    "\n",
    "<br><br>\n",
    "__1.1. On pose $u_0=a$ et pour tout $n\\in\\mathbb{N}$, $u_{n+1}=\\sqrt{u_n}$.__<br>\n",
    "__$\\quad\\;$a. Démontrer par récurrence que pour tout $n\\in\\mathbb{N}$, $u_n=e^{\\;ln(a)/2^n}$.__<br>\n",
    "__$\\quad\\;$b. En déduire que $(u_n)_{n \\geq 0}$ converge et que $\\lim\\limits_{n \\to +\\infty}{u_n}=1$__<br><br>\n",
    "\n",
    "\n",
    "__1.2.a. En calculant de deux façons le nombre dérivé de la fonction $ln$ en $1$, démontrer que $\\lim\\limits_{x \\to 1}\\frac{ln(x)}{x-1}=1$__<br>\n",
    "$\\quad\\;$__b. En déduire que $\\lim\\limits_{n \\to +\\infty}\\frac{ln(u_n)}{u_n-1}=1$.__<br>\n",
    "$\\quad\\;$__c. Justifier que $2^n ln(u_n)=ln(a)$, et en déduire que pour $n$ suffisamment grand, on a $ln(a) \\approx 2^n(u_n-1)$.__<br><br>\n",
    "\n",
    "\n",
    "__1.3. Dans cette question, on pose $a=2$.__<br>\n",
    "$\\quad\\;$__Recopier et compléter le tableau suivant jusqu'à obtenir une valeur $u_n$ telle que $\\lvert u_n-1 \\rvert<10^{-2}$ (c'est à dire $u_n$ \"proche\" de $1$).__<br>\n",
    "$\\quad\\;$On pourra effectuer les calculs à la calculatrice ou à l'aide de la zone de saisie Python fournie plus bas.<br>\n",
    "$\\quad\\;$__Quelle valeur approchée de $ln(2)$ peut-on en déduire ?__\n"
   ]
  },
  {
   "cell_type": "markdown",
   "metadata": {},
   "source": [
    "\n",
    "| $n$     |    |    $u_n$                 |    | $\\lvert u_n-1\\rvert<10^{-2}$  |\n",
    "| :------ |:--:|:------------------------:|:--:|:------------------------------:|\n",
    "| 0       |    |      2                   |    |    Faux                        |\n",
    "| 1       |    |      1,414213562         |    |                                |\n",
    "| 2       |    |                          |    |                                |\n",
    "|........ |... |......................... |... |............................... |\n",
    "\n"
   ]
  },
  {
   "cell_type": "code",
   "execution_count": 1,
   "metadata": {},
   "outputs": [],
   "source": [
    "#Cette zone de saisie Python peut être utilisée pour le calcul des valeurs successives de la suite u\n",
    "from math import sqrt #Cette syntaxe permet d'utiliser la fonction sqrt pour le calcul d'une racine carrée\n"
   ]
  },
  {
   "cell_type": "markdown",
   "metadata": {},
   "source": [
    "## <span style=\"color:#8E44AD\" id=\"2\">2. Implémentation en langage Python</span>"
   ]
  },
  {
   "cell_type": "markdown",
   "metadata": {},
   "source": [
    "\n",
    "\n",
    "__On considère un réel $a>0$ et un entier $m \\in\\mathbb{N}$, et on souhaite obtenir une valeur approchée de $ln(a)$ pour le rang $n$ tel que $\\lvert u_n-1 \\rvert<10^{-m}$.__<br>\n",
    "\n",
    "__2.1. Écrire une fonction Python <mark>Briggs</mark> qui reçoit en argument la valeur $a$ et l'entier $m$, et qui renvoie la valeur approchée de $ln(a)$ obtenue avec l'algorithme de Briggs.__<br>\n",
    "La syntaxe <mark>from math import sqrt</mark> permet d'utiliser la fonction <mark>sqrt</mark> qui permet de calculer une racine carrée.<br>\n",
    "On peut utiliser la fonction <mark>abs</mark> pour le calcul d'une valeur absolue.<br><br>"
   ]
  },
  {
   "cell_type": "code",
   "execution_count": 2,
   "metadata": {},
   "outputs": [],
   "source": [
    "#Écrire ici la fonction Python Briggs\n",
    "from math import sqrt\n",
    "\n",
    "\n",
    "   "
   ]
  },
  {
   "cell_type": "markdown",
   "metadata": {},
   "source": [
    "__2.2. Utiliser la fonction Briggs avec $m=9$ pour obtenir une valeur approchée de $ln(2)$.__"
   ]
  },
  {
   "cell_type": "code",
   "execution_count": 3,
   "metadata": {},
   "outputs": [
    {
     "data": {
      "text/plain": [
       "0.6931471824645996"
      ]
     },
     "execution_count": 3,
     "metadata": {},
     "output_type": "execute_result"
    }
   ],
   "source": [
    "#Effectuer ici l'appel à la fonction Python Briggs\n",
    "\n"
   ]
  },
  {
   "cell_type": "markdown",
   "metadata": {},
   "source": [
    "__2.3. La syntaxe <mark>from math import log</mark> permet d'utiliser la fonction Python <mark>log</mark> qui correspond à la fonction mathématique $ln$.__<br>\n",
    "$\\quad\\;$__Effectuer une saisie pour obtenir la valeur de $ln(2)$. Vérifier la cohérence avec le résultat de la question précédente.__"
   ]
  },
  {
   "cell_type": "code",
   "execution_count": 4,
   "metadata": {
    "scrolled": true
   },
   "outputs": [
    {
     "data": {
      "text/plain": [
       "0.6931471805599453"
      ]
     },
     "execution_count": 4,
     "metadata": {},
     "output_type": "execute_result"
    }
   ],
   "source": [
    "#Effectuer ici la saisie pour calculer ln(2)\n",
    "from math import log\n",
    "\n"
   ]
  },
  {
   "cell_type": "markdown",
   "metadata": {},
   "source": [
    "![Table_logarithme](https://raw.githubusercontent.com/PythonLycee/PyLyc/master/img/Table_log.png)\n",
    "\n",
    "<center>La fonction étudiée dans ce TP est le logarithme népérien, mais c'est à l'aide de ce même algorithme que Henry Briggs a pu dresser <a href=\"https://fr.wikipedia.org/wiki/Table_de_logarithmes\">des tables de la fonction logarithme décimal</a> avec une précision de 14 décimales.</center>\n"
   ]
  },
  {
   "cell_type": "markdown",
   "metadata": {},
   "source": [
    "![Briggs](https://raw.githubusercontent.com/PythonLycee/PyLyc/master/img/Henry_Briggs.jpg)\n",
    "\n",
    "<center><a href=\"https://fr.wikipedia.org/wiki/Henry_Briggs\">Henry Briggs</a> (1560-1630) </center>"
   ]
  },
  {
   "cell_type": "markdown",
   "metadata": {},
   "source": [
    "<i>© Copyright Franck CHEVRIER 2019-2021 https://www.python-lycee.com.</i><br>\n",
    "<i>Les activités partagées sur <a href=\"https://capytale2.ac-paris.fr/web/accueil\"><strong>Capytale</strong></a> sont sous licence <a href=\"https://creativecommons.org/licenses/by-sa/3.0/fr/\">Creative Commons</a>.</i>"
   ]
  }
 ],
 "metadata": {
  "celltoolbar": "Raw Cell Format",
  "kernelspec": {
   "display_name": "Python 3",
   "language": "python",
   "name": "python3"
  },
  "language_info": {
   "codemirror_mode": {
    "name": "ipython",
    "version": 3
   },
   "file_extension": ".py",
   "mimetype": "text/x-python",
   "name": "python",
   "nbconvert_exporter": "python",
   "pygments_lexer": "ipython3",
   "version": "3.7.10"
  }
 },
 "nbformat": 4,
 "nbformat_minor": 2
}
