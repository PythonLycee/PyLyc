{
 "cells": [
  {
   "cell_type": "markdown",
   "metadata": {},
   "source": [
    "![En tête general](https://raw.githubusercontent.com/PythonLycee/PyLyc/master/img/En_tete_general.png)\n",
    "\n",
    "\n",
    "<i>© Copyright Franck CHEVRIER 2019-2021 https://www.python-lycee.com.</i><br>\n",
    "<i>Les activités partagées sur <a href=\"https://capytale2.ac-paris.fr/web/accueil\"><strong>Capytale</strong></a> sont sous licence <a href=\"https://creativecommons.org/licenses/by-sa/3.0/fr/\">Creative Commons</a>.</i>\n",
    "\n",
    "<span style=\"color: #9317B4\"> Pour exécuter une saisie Python, sélectionner la cellule et valider avec </span><span style=\"color: #B317B4\"><strong>SHIFT+Entrée</strong></span>.\n"
   ]
  },
  {
   "cell_type": "markdown",
   "metadata": {},
   "source": [
    "# Algorithme du surfeur aléatoire\n"
   ]
  },
  {
   "cell_type": "markdown",
   "metadata": {},
   "source": [
    "Elaboré par Larry Page et Sergey Brin, <a href=\"https://fr.wikipedia.org/wiki/PageRank\">l’algorithme de Pagerank</a> a permis à <a href=\"https://fr.wikipedia.org/wiki/Google\">Google</a>, nouvel arrivant, de prendre en quelque mois le monopole des moteurs de recherche thématique. \n",
    "\n",
    "L’idée est d'attribuer à chaque page une « note » ou « score » ou « Pagerank » entre 0 et 1 qui caractérise la pertinence de cette page, en respectant les règles suivantes :\n",
    "<ul>\n",
    "    <li> <strong>R1:</strong> Le score attribué à une page doit être d’autant plus élevé que celle-ci est référencée dans une page faisant autorité (dont le score est élevé).</li>\n",
    "    <li> <strong>R2:</strong> Le score attribué à une page doit être d’autant moins élevé que celle-ci est référencée dans une page contenant un grand nombre de références.</li>\n",
    "</ul>\n",
    "\n",
    "Le but de l'activité est de présenter une version simplifiée du PageRank : L'algorithme du surfeur aléatoire."
   ]
  },
  {
   "cell_type": "markdown",
   "metadata": {},
   "source": [
    "## 1. Modélisation à l'aide d'un graphe, introduction de l'algorithme"
   ]
  },
  {
   "cell_type": "markdown",
   "metadata": {},
   "source": [
    "Pour modéliser les interconnexions entre différentes pages, on utilise un <strong>graphe orienté</strong> dans lequel :\n",
    "<ul>\n",
    "    <li> les <strong>sommets</strong> du graphe (numérotés) correspondent aux pages identifiées comme comprenant les mots clés ;</li>\n",
    "    <li> Les <strong>arêtes orientées</strong> (flèches) correspondent aux liens hypertextes existant d'une page à une autre.</li>\n",
    "</ul>\n",
    "\n"
   ]
  },
  {
   "cell_type": "markdown",
   "metadata": {},
   "source": [
    "<span style=\"color:#AA11AA\"><strong>Question 1 :</strong></span>\n",
    "\n",
    "<span style=\"color:#AA11AA\">Le <strong>graphe G1</strong> ci-dessous correspond à une situation de 4 pages. Par exemple, la page 2 propose des liens vers les pages 1 et 4.</span>\n",
    "\n",
    "<span style=\"color:#AA11AA\">Recopier le tableau et suivre les instructions suivantes pour le remplir :</span>\n",
    "\n",
    "<ul style=\"color:#AA11AA ; list-style-type: None\">\n",
    "    <li> <strong>1.a</strong> Choisir une des 4 pages comme point de départ ; </li>\n",
    "    <li> <strong>1.b</strong> A l'aide d'un dé, simuler 30 déplacements aléatoires équiprobables vers d'autres pages, en notant le nombre de passages pour chaque page (Aide/Exemple : Si on se situe sur le sommet 1, il y a 3 possibilités de déplacement. On attribue donc 2 faces du dé à chaque déplacement) ;</li>\n",
    "    <li> <strong>1.c</strong> Attribuer une note à chaque page : diviser le nombre de passages sur la page par le nombre total de pages visitées ; </li>\n",
    "    <li> <strong>1.d</strong> Proposer un classement des 4 pages. </li>\n",
    "</ul>   \n",
    "\n",
    "![GrapheG1](https://raw.githubusercontent.com/PythonLycee/PyLyc/master/SNT/img/surfeur_schema1.png)\n"
   ]
  },
  {
   "cell_type": "markdown",
   "metadata": {},
   "source": [
    "## 2. Automatisation : Implémentation de l'algorithme en Python"
   ]
  },
  {
   "cell_type": "markdown",
   "metadata": {},
   "source": [
    "En langage Python, on modélise le graphe G1 précédent à l'aide de la structure <mark><strong>Liens_G1</strong></mark> donnée ci-dessous.\n",
    "\n",
    "<span style=\"color:#AA11AA\"><strong>Question 2 :</strong> Expliquer brièvement comment les informations du graphe sont codées dans <mark style=\"color:#AA11AA\"><strong>Liens_G1</strong></mark>.</span>\n",
    "\n",
    "La fonction <mark><strong>parcours(Liens,n)</strong></mark> fournie permet, lorsqu’on a défini une liste de liens, de simuler un parcours dans le graphe, avec n visites de pages, en comptant le nombre de fois que chaque sommet est visité.\n",
    "\n",
    "<em style=\"color:#A9A9A9\">Attention : Penser à exécuter la zone ci-dessous (et les suivantes) avec <strong>SHIFT+Entrée</strong></em>. "
   ]
  },
  {
   "cell_type": "code",
   "execution_count": null,
   "metadata": {},
   "outputs": [],
   "source": [
    "#Structure permettant de modéliser le graphe G1\n",
    "Liens_G1 = { 1:[2,3,4] , 2:[1,4] , 3:[1,4] , 4:[2] }\n",
    "\n",
    "#Cette instruction permet d'utiliser des fonctions de choix aléatoires\n",
    "from random import*\n",
    "\n",
    "def parcours(Liens,n):\n",
    "    \"\"\"\n",
    "    Cette fonction simule un parcours de n pages \n",
    "    Les pages sont numérotés 1,2,...\n",
    "    Les arêtes sont définies par les Liens\n",
    "    \"\"\"\n",
    "    #On choisit un sommet de départ au hasard\n",
    "    Sommet=randint(1,len(Liens))\n",
    "    \n",
    "    # Initialisation des compteurs du nombre de passages pour chaque sommet\n",
    "    # 1:0  2:0  ...\n",
    "    Passages = {S:0 for S in Liens}\n",
    "    \n",
    "    #On répète n fois:\n",
    "    for k in range(n):\n",
    "        #on change de sommet\n",
    "        Sommet = choice(Liens[Sommet])\n",
    "        #on incrémente le compteur du sommet visité (augmente de 1)\n",
    "        Passages[Sommet] += 1\n",
    "    \n",
    "    #La fonction renvoie les compteurs\n",
    "    return Passages\n"
   ]
  },
  {
   "cell_type": "markdown",
   "metadata": {},
   "source": [
    "<span style=\"color:#AA11AA\"><strong>Question 3 :</strong></span>\n",
    "    \n",
    "<span style=\"color:#AA11AA\">Exécuter l'appel à la fonction <mark style=\"color:#AA11AA\"><strong>parcours</strong></mark> ci-dessous. A l'aide du résultat, proposer un classement des 4 pages du graphe G1, et comparer avec la réponse à la question 1.</span>"
   ]
  },
  {
   "cell_type": "code",
   "execution_count": null,
   "metadata": {},
   "outputs": [],
   "source": [
    "#Simulation du surfeur aléatoire pour le graphe G1\n",
    "parcours(Liens_G1,100000)"
   ]
  },
  {
   "cell_type": "markdown",
   "metadata": {},
   "source": [
    "<span style=\"color:#AA11AA\"><strong> Question 4 : </strong></span>\n",
    "    \n",
    "<span style=\"color:#AA11AA\"> On considère le <strong>graphe G2</strong> ci-dessous, qui modélise les liens entre 6 pages. </span>\n",
    "\n",
    "![GrapheG2](https://raw.githubusercontent.com/PythonLycee/PyLyc/master/SNT/img/surfeur_schema2.png)\n",
    "\n",
    "<span style=\"color:#AA11AA\"><strong> 4.a </strong> Définir une structure <mark style=\"color:#AA11AA\"><strong>Liens_G2</strong></mark> correspondant à ce graphe.</span>    \n"
   ]
  },
  {
   "cell_type": "code",
   "execution_count": null,
   "metadata": {},
   "outputs": [],
   "source": [
    "#Créer une structure permettant de modéliser le graphe G2\n"
   ]
  },
  {
   "cell_type": "markdown",
   "metadata": {},
   "source": [
    "<span style=\"color:#AA11AA\"><strong> 4.b </strong> A l'aide d'un appel à la fonction <mark style=\"color:#AA11AA\"><strong>parcours</strong></mark>, compléter le tableau.</span> "
   ]
  },
  {
   "cell_type": "code",
   "execution_count": null,
   "metadata": {},
   "outputs": [],
   "source": [
    "#Effectuer un appel à la fonction parcours\n"
   ]
  },
  {
   "cell_type": "markdown",
   "metadata": {},
   "source": [
    "\n",
    "<span style=\"color:#AA11AA\"> On considère le <strong>graphe G3</strong> obtenu en remplaçant, sur le graphe G2, le lien de la page 1 vers la page 5 par un lien de la page 1 vers la page 3.</span>\n",
    "    \n",
    "<span style=\"color:#AA11AA\"><strong> 4.c </strong> Tracer le graphe G3 et créer la structure <mark style=\"color:#AA11AA\"><strong>Liens_G3</strong></mark> correspondante.</span>\n"
   ]
  },
  {
   "cell_type": "code",
   "execution_count": null,
   "metadata": {},
   "outputs": [],
   "source": [
    "#Créer une structure permettant de modéliser le graphe G2\n"
   ]
  },
  {
   "cell_type": "markdown",
   "metadata": {},
   "source": [
    "<span style=\"color:#AA11AA\"><strong> 4.d </strong> À l'aide d'un appel à la fonction <mark style=\"color:#AA11AA\"><strong>parcours</strong></mark>, réaliser pour G3 un tableau similaire au précédent.</span>    \n",
    "   "
   ]
  },
  {
   "cell_type": "code",
   "execution_count": null,
   "metadata": {},
   "outputs": [],
   "source": [
    "#Effectuer un appel à la fonction parcours\n"
   ]
  },
  {
   "cell_type": "markdown",
   "metadata": {},
   "source": [
    "\n",
    "<span style=\"color:#AA11AA\"><strong> 4.e </strong> Vérifier que, par rapport au graphe G2, les notes des pages 1 et 3 ont augmenté. Expliquer ce phénomène. </span> "
   ]
  },
  {
   "cell_type": "markdown",
   "metadata": {},
   "source": [
    "\n",
    "<span style=\"color:#AA11AA\"><strong> Question 5 : </strong></span>\n",
    "    \n",
    "<span style=\"color:#AA11AA\"> On considère le <strong>graphe G</strong> ci-dessous, qui modélise les liens entre 5 pages. </span>\n",
    "\n",
    "![GrapheG](https://raw.githubusercontent.com/PythonLycee/PyLyc/master/SNT/img/surfeur_schema3.png)\n",
    "\n",
    "<span style=\"color:#AA11AA\"><strong> 5.a </strong> Si on supprime le lien de la page 5 vers la page 3, pensez-vous que la note de la page 4 va augmenter ou diminuer ? Justifier brièvement la réponse.</span>\n",
    "    \n",
    "<span style=\"color:#AA11AA\"><strong> 5.b </strong> Effectuer les saisies Python nécessaires pour vérifier votre réponse.</span>    \n"
   ]
  },
  {
   "cell_type": "code",
   "execution_count": null,
   "metadata": {},
   "outputs": [],
   "source": [
    "#Effectuer les saisies nécessaires\n"
   ]
  },
  {
   "cell_type": "markdown",
   "metadata": {},
   "source": [
    "<i>© Copyright Franck CHEVRIER 2019-2021 https://www.python-lycee.com.</i><br>\n",
    "<i>Les activités partagées sur <a href=\"https://capytale2.ac-paris.fr/web/accueil\"><strong>Capytale</strong></a> sont sous licence <a href=\"https://creativecommons.org/licenses/by-sa/3.0/fr/\">Creative Commons</a>.</i>"
   ]
  }
 ],
 "metadata": {
  "kernelspec": {
   "display_name": "Python 3",
   "language": "python",
   "name": "python3"
  },
  "language_info": {
   "codemirror_mode": {
    "name": "ipython",
    "version": 3
   },
   "file_extension": ".py",
   "mimetype": "text/x-python",
   "name": "python",
   "nbconvert_exporter": "python",
   "pygments_lexer": "ipython3",
   "version": "3.7.10"
  }
 },
 "nbformat": 4,
 "nbformat_minor": 2
}
