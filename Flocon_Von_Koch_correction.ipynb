{
 "cells": [
  {
   "cell_type": "markdown",
   "metadata": {},
   "source": [
    "![En tête general](img/En_tete_general.png)\n",
    "\n",
    "\n",
    "*(C) Copyright Franck CHEVRIER 2019-2021 http://www.python-lycee.com/*\n",
    "\n",
    "<span style=\"color: #9317B4\"> Pour exécuter une saisie Python, sélectionner la cellule et valider avec </span><span style=\"color: #B317B4\"><strong>SHIFT+Entrée</strong></span>."
   ]
  },
  {
   "cell_type": "markdown",
   "metadata": {},
   "source": [
    "# Le flocon de Von Koch <span style=\"color: red\"> (corrigé)</span>"
   ]
  },
  {
   "cell_type": "markdown",
   "metadata": {},
   "source": [
    "### <span style=\"color:#8E44AD\">Sommaire</span>\n",
    "\n",
    "<span style=\"color:#8E44AD\">1.</span> <a href=\"#1\">Construction géométrique et notations</a><br>\n",
    "<span style=\"color:#8E44AD\">2.</span> <a href=\"#2\">Étude du périmètre du flocon de Von Koch </a><br>\n",
    "<span style=\"color:#8E44AD\">3.</span> <a href=\"#3\">Étude de l'aire du flocon de Von Koch</a><br>\n"
   ]
  },
  {
   "cell_type": "markdown",
   "metadata": {},
   "source": [
    "## <span id=\"1\">1. Construction géométrique et notations</span>"
   ]
  },
  {
   "cell_type": "markdown",
   "metadata": {},
   "source": [
    "<BLOCKQUOTE style='background-color:#DDEEEE;'>\n",
    "    <strong>Description de la construction :</strong><br><br>\n",
    "    La figure initiale est un triangle équilatéral $P_0$ de côté $1$.<br><br>\n",
    "    À chaque étape, le polygone $P_n$ étant construit avec des côtés de longueur $a_n$, on obtient le polygone $P_{n+1}$ en remplaçant chaque côté par une ligne polygonale à quatre segments de longueur $a_{n+1}=\\displaystyle \\frac{a_n}{3}$ , vers l’extérieur.<br><br>\n",
    "</BLOCKQUOTE>        \n",
    "    Activer la figure dynamique ci-dessous, qui permet de visualiser les polygones $P_n$ pour les premières valeurs de $n$.<br>\n",
    "    <i style=\"color: #FF0000\">(Pour faire apparaître et activer la figure dynamique, sélectionner la cellule et valider avec <strong>SHIFT+Entrée</strong>).</i>"
   ]
  },
  {
   "cell_type": "code",
   "execution_count": 1,
   "metadata": {},
   "outputs": [
    {
     "data": {
      "text/html": [
       "<html>\n",
       "\t<head>\n",
       "\t\t<!-- Flocon de Von Koch -->\n",
       "\t\t<!-- Copyright Franck CHEVRIER www.python-lycee.com -->\n",
       "\t\t<title></title>\n",
       "\t\t<script type=\"text/javascript\" src=\"GeoGebraWeb/web3d/web3d.nocache.js\"></script>\n",
       "\t</head>\n",
       "\t<body>\n",
       "\t\t<center>\n",
       "\t\t\t\t\t\t\n",
       "\t\t\t<div>\n",
       "\t\t\t\t<article class=\"geogebraweb\"\n",
       "\t\t\t\t\n",
       "\t\t\t\t\tdata-param-width=\"400\" data-param-height=\"670\"\n",
       "\t\t\t\t\tdata-param-ggbBase64=\"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\"\n",
       "\t\t\t\t\tdata-param-enableRightClick=\"false\"\n",
       "\t\t\t\t\tdata-param-enableLabelDrags=\"false\"\n",
       "\t\t\t\t\tdata-param-enableShiftDragZoom=\"false\"\n",
       "\t\t\t\t\tdata-param-showMenuBar=\"false\"\n",
       "\t\t\t\t\tdata-param-showToolBar=\"false\"\n",
       "\t\t\t\t\tdata-param-showAlgebraInput=\"false\"\n",
       "\t\t\t\t\tdata-param-showResetIcon=\"false\"\n",
       "\t\t\t\t\tdata-param-useBrowserForJS=\"true\"> \n",
       "\t\t\t\t\t\t\t\t\n",
       "\t\t\t\t\t\t\t\t\n",
       "\t\t\t\t</article>\n",
       "\t\t\t</div>\n",
       "\t\t</center>\n",
       "\t</body>\n",
       "</html>\n"
      ],
      "text/plain": [
       "<IPython.core.display.HTML object>"
      ]
     },
     "metadata": {},
     "output_type": "display_data"
    }
   ],
   "source": [
    "#Sélectionner cette zone puis SHIFT+ENTREE\n",
    "from IPython.display import display, HTML ; display(HTML('fig_dyn_GeoGebra/Flocon_Von_Koch.html'))"
   ]
  },
  {
   "cell_type": "markdown",
   "metadata": {},
   "source": [
    "<BLOCKQUOTE style='background-color:#DDEEEE;'>\n",
    "    <figure style=\"float: right;\">\n",
    "        <img src=\"img/Von_Koch_notations.gif\">\n",
    "    </figure>\n",
    "    <strong>Notations :</strong><br><br>\n",
    "Pour tout $n \\in \\mathbb{N}$, on note :\n",
    "    <ul>\n",
    "        <li>$\\color{#3F48CC}{c_n}$ le <strong style=\"color:#3F48CC\">nombre de côtés</strong> du polygone $P_n$ ;</li>    \n",
    "        <li>$\\color{#22B14C}{a_n}$ la <strong style=\"color:#22B14C\">longueur des côtés</strong> du polygone $P_n$ ;</li> \n",
    "        <li>$\\color{#A349A4}{p_n}$ le <strong style=\"color:#A349A4\">périmètre</strong> du polygone $P_n$ ;</li> \n",
    "        <li>$\\color{#E36C0A}{A_n}$ l'<strong style=\"color:#E36C0A\">aire</strong> du polygone $P_n$.</li>\n",
    "    </ul>\n",
    "</BLOCKQUOTE> "
   ]
  },
  {
   "cell_type": "markdown",
   "metadata": {},
   "source": [
    "## <span id=\"2\">2. Étude du périmètre du flocon de Von Koch</span>"
   ]
  },
  {
   "cell_type": "markdown",
   "metadata": {},
   "source": [
    "<strong>2.1. $\\;$a. Donner les valeurs de $c_0$ ; $c_1$ et $c_2$.<br>\n",
    "$\\quad\\;\\;$ b. Quelle est la nature de la suite $(c_n)_{n\\geq0}$ ? Exprimer $c_n$ en fonction de $n$.<br>\n",
    "$\\quad\\;\\;$ c. Combien le polygone $P_5$ a-t-il de côtés ?<br>\n",
    "$\\quad\\;\\;$ d. Déterminer $\\displaystyle\\lim\\limits_{n \\to +\\infty}{c_n}$.<br>\n",
    "$\\quad\\;\\;$ e. Écrire une fonction Python <mark style=\"font-family: Consolas;\">c</mark> d'argument <mark style=\"font-family: Consolas;\">n</mark> permettant le calcul de $c(n)$.<br>\n",
    "$\\quad\\quad\\;$ Effectuer ensuite les saisies nécessaires pour vérifier le résultat de la question 2.1.c.\n",
    "</strong>\n",
    "<br><br>\n",
    "<span style=\"color:red;\">\n",
    "a. $c_0=3$ ; $c_1=3\\times4=12$ ; $c_2=12\\times4=48$.<br>\n",
    "b. $(c_n)_{n\\geq0}$ est géométrique de premier terme $c_0=3$ et de raison $q=4$ donc $c_n=3\\times4^n$.<br>\n",
    "c. $P_5$ a $c_5=3\\times4^5=3072$ côtés.<br>\n",
    "d. $c_0=3>0$ et $q=4>1$ donc $\\displaystyle\\lim\\limits_{n \\to +\\infty}{c_n}=+\\infty$.<br>    \n",
    "</span>"
   ]
  },
  {
   "cell_type": "code",
   "execution_count": 2,
   "metadata": {},
   "outputs": [],
   "source": [
    "# Écrire ici la fonction c permettant le calcul de c(n)\n",
    "\n",
    "def c(n):\n",
    "    \"Fonction qui calcule le nombre de côtés du polygone P_n\"\n",
    "    return 3*4**n"
   ]
  },
  {
   "cell_type": "code",
   "execution_count": 3,
   "metadata": {},
   "outputs": [
    {
     "data": {
      "text/plain": [
       "3072"
      ]
     },
     "execution_count": 3,
     "metadata": {},
     "output_type": "execute_result"
    }
   ],
   "source": [
    "# Effectuer ici la saisie pour vérifier le résultat de la question 2.1.c.\n",
    "c(5)"
   ]
  },
  {
   "cell_type": "markdown",
   "metadata": {},
   "source": [
    "<strong>2.2. $\\;$a. Donner les valeurs exactes de $a_0$ ; $a_1$ et $a_2$.<br>\n",
    "$\\quad\\;\\;$ b. Quelle est la nature de la suite $(a_n)_{n\\geq0}$ ? Exprimer $a_n$ en fonction de $n$.<br>\n",
    "$\\quad\\;\\;$ c. Quelle est la longueur des côtés du polygone $P_5$ ?<br>\n",
    "$\\quad\\;\\;$ d. Déterminer $\\displaystyle\\lim\\limits_{n \\to +\\infty}{a_n}$.<br>\n",
    "$\\quad\\;\\;$ e. La fonction Python <mark style=\"font-family: Consolas;\">a</mark> d'argument <mark style=\"font-family: Consolas;\">n</mark> donnée ci-dessous permet le calcul de la valeur exacte de $a(n)$.<br>\n",
    "$\\quad\\quad\\;$ Effectuer la saisie nécessaire pour vérifier le résultats de la questions 2.2.c.\n",
    "</strong>\n",
    "<br><br>\n",
    "<span style=\"color:red;\">\n",
    "a. $a_0=1$ ; $\\displaystyle a_1=\\frac{a_0}{3}=\\frac{1}{3}$ ; $\\displaystyle a_2=\\frac{a_1}{3}=\\frac{1}{9}$.<br>\n",
    "b. $(a_n)_{n\\geq0}$ est géométrique de premier terme $a_0=1$ et de raison $q=\\displaystyle \\frac{1}{3}$ donc $\\displaystyle a_n=\\frac{1}{3^n}$.<br>\n",
    "c. La longueur des côtés de $P_5$ est $\\displaystyle a_5=\\frac{1}{3^5}=\\frac{1}{243}$.<br>\n",
    "d. $a_0=1>0$ et $0<q=\\frac{1}{3}<1$ donc $\\displaystyle\\lim\\limits_{n \\to +\\infty}{a_n}=0$.<br>    \n",
    "</span>"
   ]
  },
  {
   "cell_type": "code",
   "execution_count": 4,
   "metadata": {},
   "outputs": [],
   "source": [
    "from sympy import Rational \n",
    "# Cet import permet d'utiliser la fonction Rational pour effectuer des calculs de fractions sous forme exacte\n",
    "\n",
    "def a(n):\n",
    "    \"Fonction qui calcule la longueur des côtés du polygone P_n\"\n",
    "    return Rational(1,3**n)"
   ]
  },
  {
   "cell_type": "code",
   "execution_count": 5,
   "metadata": {
    "scrolled": true
   },
   "outputs": [
    {
     "data": {
      "text/latex": [
       "$\\displaystyle \\frac{1}{243}$"
      ],
      "text/plain": [
       "1/243"
      ]
     },
     "execution_count": 5,
     "metadata": {},
     "output_type": "execute_result"
    }
   ],
   "source": [
    "# Effectuer ici la saisie pour vérifier le résultat de la question 2.2.c.\n",
    "a(5)"
   ]
  },
  {
   "cell_type": "markdown",
   "metadata": {},
   "source": [
    "<strong>2.3. $\\;$a. Exprimer $p_n$ en fonction de $c_n$ et $a_n$.<br>\n",
    "$\\quad\\;\\;$ b. Déterminer la valeur exacte du périmètre de $P_5$.<br>\n",
    "$\\quad\\;\\;$ c. Écrire une fonction Python <mark style=\"font-family: Consolas;\">p</mark> d'argument <mark style=\"font-family: Consolas;\">n</mark> permettant le calcul de la valeur exacte de $p_n$<br>\n",
    "$\\quad\\quad\\;$ (on effectuera des appels aux fonctions précédentes avec les syntaxes <mark style=\"font-family: Consolas;\">c(n)</mark> et <mark style=\"font-family: Consolas;\">a(n)</mark>).   \n",
    "$\\quad\\quad\\;$ Effectuer la saisie nécessaire pour vérifier le résultat de la question 2.3.b.\n",
    "</strong>\n",
    "<br><br>\n",
    "<span style=\"color:red;\">\n",
    "a. $p_n=c_n\\times a_n$.<br>\n",
    "b. Le périmètre de $P_5$ est $\\displaystyle p_5=c_5\\times a_5=\\frac{3\\times4^5}{3^5}=\\frac{4^5}{3^4}=\\frac{1024}{81}$.<br>\n",
    "</span>"
   ]
  },
  {
   "cell_type": "code",
   "execution_count": 6,
   "metadata": {},
   "outputs": [],
   "source": [
    "# Écrire ici la fonction p permettant le calcul de p(n) sous forme exacte\n",
    "\n",
    "def p(n):\n",
    "    \"Fonction qui calcule le périmètre du polygone P_n\"\n",
    "    return a(n)*c(n)"
   ]
  },
  {
   "cell_type": "code",
   "execution_count": 7,
   "metadata": {},
   "outputs": [
    {
     "data": {
      "text/latex": [
       "$\\displaystyle \\frac{1024}{81}$"
      ],
      "text/plain": [
       "1024/81"
      ]
     },
     "execution_count": 7,
     "metadata": {},
     "output_type": "execute_result"
    }
   ],
   "source": [
    "# Effectuer ici la saisie pour vérifier le résultat de la question 2.3.b.\n",
    "p(5)"
   ]
  },
  {
   "cell_type": "markdown",
   "metadata": {},
   "source": [
    "<strong>\n",
    "$\\quad$ d. Exprimer $p_n$ en fonction de $n$. Justifier que la suite $(p_n)_{n\\geq0}$ est géométrique. <br>    \n",
    "$\\quad$ e. Déterminer $\\displaystyle\\lim\\limits_{n \\to +\\infty}{p_n}$. Donner une interprétation géométrique de ce résultat.\n",
    "</strong>\n",
    "<br><br>\n",
    "<span style=\"color:red;\">\n",
    "a. $\\displaystyle p_n=c_n\\times a_n=3\\times4^n\\times\\frac{1}{3^n}=3\\times \\left( \\frac{4}{3} \\right)^n$.<br>\n",
    "$\\;\\;\\;$On obtient l'expression d'une suite géométrique de premier terme $p_0=3$ et de raison $\\displaystyle q=\\frac{4}{3}$.<br>\n",
    "b. $p_0=3>0$ et $q=\\frac{4}{3}>1$ donc $\\displaystyle\\lim\\limits_{n \\to +\\infty}{a_n}=+\\infty$.<br>\n",
    "$\\;\\;\\;$Le périmètre de $P_n$ peut être aussi grand qu'on le souhaite, pour $n$ \"assez grand\".<br>\n",
    "$\\;\\;\\;$Ainsi le flocon de Von Koch a un contour de longueur infinie.\n",
    "</span>"
   ]
  },
  {
   "cell_type": "markdown",
   "metadata": {},
   "source": [
    "## <span id=\"3\">3. Étude de l'aire du flocon de Von Koch</span>"
   ]
  },
  {
   "cell_type": "markdown",
   "metadata": {},
   "source": [
    "<strong>3.1. $\\;$Démontrer qu'un triangle équilatéral de côté $a>0$ a pour aire $\\displaystyle \\frac{\\sqrt{3}}{4}a^2$.<br> \n",
    "3.2. $\\;$Donner la valeur de $A_0$.<br>\n",
    "3.3. $\\;$a. Combien de triangles sont ajoutés lorsqu'on passe de la figure $P_0$ à $P_1$ ? Que vaut l'aire ajoutée ? En déduire la valeur de $A_1$.<br>\n",
    "$\\quad\\;\\;$ b. On fournit ci-dessous la fonction Python <mark style=\"font-family: Consolas;\">AireEqui</mark> d'argument <mark style=\"font-family: Consolas;\">a</mark> qui permet le calcul de la valeur exacte d'un triangle de côté $a$.<br>\n",
    "$\\quad\\quad\\;$ Effectuer la saisie nécessaire pour effectuer le calcul de $A_1$ de la question 3.3.a.<br>\n",
    "$\\quad\\quad\\;$ (on utilisera respectivement les syntaxes <mark style=\"font-family: Consolas;\">a(0)</mark> et <mark style=\"font-family: Consolas;\">a(1)</mark> pour les longueurs des côtés de $P_0$ et $P_1$)\n",
    "</strong>\n",
    "<br><br>    \n",
    "<span style=\"color:red;\">\n",
    "3.1. La hauteur d'un triangle équilatéral de côté $a$ vaut $\\displaystyle \\frac{a\\sqrt{3}}{2}$ (peut s'établir à l'aide du théorème de Pythagore ou à l'aide de résultats de trigonométrie).<br>\n",
    "$\\quad\\;$ Ainsi l'aire d'un tel triangle vaut $\\displaystyle \\frac{a\\times \\frac{a\\sqrt{3}}{2}}{2}=\\frac{a^2\\sqrt{3}}{4}.$<br>\n",
    "3.2. $\\displaystyle A_0=\\frac{a_0^2\\sqrt{3}}{4}=\\frac{\\sqrt{3}}{4}$.<br>   \n",
    "3.3.a. Lorsqu'on passe de la figure $P_0$ à $P_1$ on ajoute $c_0=3$ triangles équilatéraux de côté $\\displaystyle a_1=\\frac{1}{3}$.<br>\n",
    "$\\quad\\;\\;\\;$ L'aire ajoutée vaut donc $\\displaystyle 3\\times \\frac{ \\left( \\frac{1}{3} \\right) ^2\\sqrt{3}}{4}=\\frac{\\sqrt{3}}{12}.$<br>\n",
    "$\\quad\\;\\;\\;$ On en déduit $\\displaystyle A_1=A_0+\\frac{\\sqrt{3}}{12}=\\frac{\\sqrt{3}}{4}+\\frac{\\sqrt{3}}{12}=\\frac{\\sqrt{3}}{3}$.<br>\n",
    "</span>     "
   ]
  },
  {
   "cell_type": "code",
   "execution_count": 8,
   "metadata": {},
   "outputs": [],
   "source": [
    "from sympy import sqrt\n",
    "# Cet import permet d'utiliser la fonction sqrt pour effectuer des calculs avec racines carrées sous forme exacte\n",
    "\n",
    "def AireEqui(a):\n",
    "    \"Fonction qui calcule l'aire d'un triangle équilatéral de côté a (sous forme exacte)\"\n",
    "    return sqrt(3)*Rational(a**2,4)"
   ]
  },
  {
   "cell_type": "code",
   "execution_count": 9,
   "metadata": {},
   "outputs": [
    {
     "data": {
      "text/latex": [
       "$\\displaystyle \\frac{\\sqrt{3}}{3}$"
      ],
      "text/plain": [
       "sqrt(3)/3"
      ]
     },
     "execution_count": 9,
     "metadata": {},
     "output_type": "execute_result"
    }
   ],
   "source": [
    "# Effectuer ici la saisie pour retrouver le résultat de la question 3.3.a.\n",
    "AireEqui(a(0))+3*AireEqui(a(1))"
   ]
  },
  {
   "cell_type": "markdown",
   "metadata": {},
   "source": [
    "<figure style=\"float: right;\">\n",
    "    <img src=\"img/Von_Koch_passage.gif\">\n",
    "</figure>\n",
    "<strong>3.4. On effectue maintenant un raisonnement similaire à celui de la question 3.2. dans le cas général.<br>\n",
    "$\\quad\\;\\;$ a. On considère un entier $n>0$.<br>\n",
    "$\\quad\\quad\\;\\;$ En raisonnant sur les aires ajoutées lorsqu'on passe de la figure $P_{n-1}$ à $P_n$, justifier que :<br>\n",
    "$\\quad\\quad\\;\\;$ $\\displaystyle A_n = A_{n-1}+c_{n-1}\\times \\frac{\\sqrt{3}}{4}{a_n}^2$<br>\n",
    "$\\quad\\;\\;$ b. On fournit ci-dessous la fonction Python <mark style=\"font-family: Consolas;\">A</mark> d'argument <mark style=\"font-family: Consolas;\">n</mark>.<br> \n",
    "$\\quad\\quad\\;\\;$ Exécuter les saisies proposéespour obtenir la valeur exacte de $A_1$ et sa valeur décimale approchée.<br>\n",
    "$\\quad\\quad\\;\\;$ Vérifier la cohérence avec les résultats des questions 3.3.a. et 3.3.b.\n",
    "</strong>\n",
    "<br><br>\n",
    "<span style=\"color:red;\">\n",
    "3.4.a. Lorsqu'on passe de la figure $P_{n-1}$ à $P_n$ on ajoute $c_{n-1}$ triangles équilatéraux de côté $\\displaystyle a_n$, d'où le résultat.<br>\n",
    "</span>"
   ]
  },
  {
   "cell_type": "code",
   "execution_count": 10,
   "metadata": {},
   "outputs": [],
   "source": [
    "def A(n):\n",
    "    \"fonction qui calcule l'aire du polygone P_n (sous forme exacte)\"\n",
    "    if n==0: return AireEqui(1)\n",
    "    return A(n-1)+c(n-1)*sqrt(3)*Rational(a(n)**2,4)"
   ]
  },
  {
   "cell_type": "code",
   "execution_count": 11,
   "metadata": {},
   "outputs": [
    {
     "data": {
      "text/latex": [
       "$\\displaystyle \\frac{\\sqrt{3}}{3}$"
      ],
      "text/plain": [
       "sqrt(3)/3"
      ]
     },
     "execution_count": 11,
     "metadata": {},
     "output_type": "execute_result"
    }
   ],
   "source": [
    "A(1)"
   ]
  },
  {
   "cell_type": "code",
   "execution_count": 12,
   "metadata": {},
   "outputs": [
    {
     "data": {
      "text/latex": [
       "$\\displaystyle 0.577350269189626$"
      ],
      "text/plain": [
       "0.577350269189626"
      ]
     },
     "execution_count": 12,
     "metadata": {},
     "output_type": "execute_result"
    }
   ],
   "source": [
    "A(1).evalf()"
   ]
  },
  {
   "cell_type": "markdown",
   "metadata": {},
   "source": [
    "<strong>\n",
    "$\\quad\\;\\;$ d. Effectuer des saisies pour évaluer $A_5$, $A_{10}$ et $A_{100}$.<br>\n",
    "$\\quad\\quad\\;\\;$ Que peut-on conjecturer pour la suite $(A_n)_{n\\geq0}$ ?<br>\n",
    "$\\quad\\quad\\;\\;$ Interpréter géométriquement ce résultat.<br>\n",
    "</strong>\n",
    "<br><br>\n",
    "<span style=\"color:red;\">\n",
    "Il semble que la suite $(A_n)_{n\\geq0}$ soit majorée et admette une limite finie.<br>\n",
    "Ainsi, le flocon de Von Koch a une aire finie, bien que délimité par un contour de longueur infini.\n",
    "</span>"
   ]
  },
  {
   "cell_type": "code",
   "execution_count": 13,
   "metadata": {},
   "outputs": [
    {
     "data": {
      "text/latex": [
       "$\\displaystyle \\frac{7822 \\sqrt{3}}{19683}$"
      ],
      "text/plain": [
       "7822*sqrt(3)/19683"
      ]
     },
     "execution_count": 13,
     "metadata": {},
     "output_type": "execute_result"
    }
   ],
   "source": [
    "# Utiliser ces zones pour les saisies demandées\n",
    "A(5)"
   ]
  },
  {
   "cell_type": "code",
   "execution_count": 14,
   "metadata": {},
   "outputs": [
    {
     "data": {
      "text/latex": [
       "$\\displaystyle 0.688314861393271$"
      ],
      "text/plain": [
       "0.688314861393271"
      ]
     },
     "execution_count": 14,
     "metadata": {},
     "output_type": "execute_result"
    }
   ],
   "source": [
    "A(5).evalf()"
   ]
  },
  {
   "cell_type": "code",
   "execution_count": 15,
   "metadata": {},
   "outputs": [
    {
     "data": {
      "text/latex": [
       "$\\displaystyle \\frac{464852158 \\sqrt{3}}{1162261467}$"
      ],
      "text/plain": [
       "464852158*sqrt(3)/1162261467"
      ]
     },
     "execution_count": 15,
     "metadata": {},
     "output_type": "execute_result"
    }
   ],
   "source": [
    "A(10)"
   ]
  },
  {
   "cell_type": "code",
   "execution_count": 16,
   "metadata": {},
   "outputs": [
    {
     "data": {
      "text/latex": [
       "$\\displaystyle 0.692742191429835$"
      ],
      "text/plain": [
       "0.692742191429835"
      ]
     },
     "execution_count": 16,
     "metadata": {},
     "output_type": "execute_result"
    }
   ],
   "source": [
    "A(10).evalf()"
   ]
  },
  {
   "cell_type": "code",
   "execution_count": 17,
   "metadata": {},
   "outputs": [
    {
     "data": {
      "text/latex": [
       "$\\displaystyle \\frac{35415198516783302578504176271437283496884224807503085686178556948154201994063474710111651440798 \\sqrt{3}}{88537996291958256446260440678593208943077817551131498658191653913030830300434060998128233014667}$"
      ],
      "text/plain": [
       "35415198516783302578504176271437283496884224807503085686178556948154201994063474710111651440798*sqrt(3)/88537996291958256446260440678593208943077817551131498658191653913030830300434060998128233014667"
      ]
     },
     "execution_count": 17,
     "metadata": {},
     "output_type": "execute_result"
    }
   ],
   "source": [
    "A(100)"
   ]
  },
  {
   "cell_type": "code",
   "execution_count": 18,
   "metadata": {},
   "outputs": [
    {
     "data": {
      "text/latex": [
       "$\\displaystyle 0.692820323027551$"
      ],
      "text/plain": [
       "0.692820323027551"
      ]
     },
     "execution_count": 18,
     "metadata": {},
     "output_type": "execute_result"
    }
   ],
   "source": [
    "A(100).evalf()"
   ]
  },
  {
   "cell_type": "markdown",
   "metadata": {},
   "source": [
    "![Von_Koch](img/Von_Koch.png)\n",
    "\n",
    "<center> <a href=\"https://fr.wikipedia.org/wiki/Helge_von_Koch\">Niels Fabian Helge von Koch</a> (1870-1924)</center>"
   ]
  },
  {
   "cell_type": "markdown",
   "metadata": {},
   "source": [
    "*(C) Copyright Franck CHEVRIER 2019-2021 http://www.python-lycee.com/*\n"
   ]
  }
 ],
 "metadata": {
  "celltoolbar": "Raw Cell Format",
  "kernelspec": {
   "display_name": "Python 3",
   "language": "python",
   "name": "python3"
  },
  "language_info": {
   "codemirror_mode": {
    "name": "ipython",
    "version": 3
   },
   "file_extension": ".py",
   "mimetype": "text/x-python",
   "name": "python",
   "nbconvert_exporter": "python",
   "pygments_lexer": "ipython3",
   "version": "3.7.10"
  }
 },
 "nbformat": 4,
 "nbformat_minor": 2
}
