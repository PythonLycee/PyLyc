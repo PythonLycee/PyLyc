{
 "cells": [
  {
   "cell_type": "markdown",
   "metadata": {},
   "source": [
    "![En tête general](img/En_tete_general.png)\n",
    "\n",
    "\n",
    "*(C) Copyright Franck CHEVRIER 2019-2020 http://www.python-lycee.com/*\n",
    "\n",
    "<span style=\"color: #9317B4\"> Pour exécuter une saisie Python, sélectionner la cellule et valider avec </span><span style=\"color: #B317B4\"><strong>SHIFT+Entrée</strong></span>."
   ]
  },
  {
   "cell_type": "markdown",
   "metadata": {},
   "source": [
    "# Approximation par balayage"
   ]
  },
  {
   "cell_type": "markdown",
   "metadata": {},
   "source": [
    "On considère la fonction $f$ définie sur $[0;+\\infty[$ par $f(x)=x^2$.\n",
    "\n",
    "![Fonction carré](img/Approximation_par_balayage_carre.png)\n",
    "\n",
    "On admet que la fonction $f$ est croissante sur $[0;+\\infty[$ et que l’équation $f(x)=2$ \n",
    "a une unique solution sur $[0;+\\infty[$, notée $\\sqrt{2}$. \n",
    "Le but de l’exercice est d’obtenir des valeurs approchées de $\\sqrt{2}$.\n"
   ]
  },
  {
   "cell_type": "markdown",
   "metadata": {},
   "source": [
    "__1. Ecrire une fonction Python $f$ qui reçoit une valeur $x$ en argument et renvoie l’image de $x$ par la fonction $f$.__\n"
   ]
  },
  {
   "cell_type": "code",
   "execution_count": 2,
   "metadata": {},
   "outputs": [],
   "source": [
    "# Ecrire la fonction\n"
   ]
  },
  {
   "cell_type": "markdown",
   "metadata": {},
   "source": [
    "__2. La fonction ci-dessous permet d’obtenir des images successives par la fonction $f$ sur l’intervalle $[1;2]$, avec un pas de $10^{-1}=0,1$.__\n"
   ]
  },
  {
   "cell_type": "code",
   "execution_count": null,
   "metadata": {},
   "outputs": [],
   "source": [
    "def balayage(f):\n",
    "    \n",
    "    x=1\n",
    "    while x<2:\n",
    "        print(\"f(\",x,\")=\",f(x))\n",
    "        x = x+0.1\n",
    "    \n",
    "    return None"
   ]
  },
  {
   "cell_type": "markdown",
   "metadata": {},
   "source": [
    "__Utiliser cette fonction pour compléter le tableau :__\n",
    "\n",
    "|   $x$      | $1  $ | $1.1$ |$1.2$ |$1.3$ |$1.4$ |$1.5$ |$1.6$ |$1.7$ |$1.8$ |$1.9$ |$2  $ |\n",
    "| :-------:  |:--:   | :--:  | :--: | :--: | :--: | :--: | :--: | :--: | :--: | :--: | :--: |\n",
    "|   $f$$($$x$$)$   |       |       |      |      |      |      |      |      |      |      |      |\n"
   ]
  },
  {
   "cell_type": "code",
   "execution_count": null,
   "metadata": {},
   "outputs": [],
   "source": [
    "# Effectuer les saisies nécessaires\n"
   ]
  },
  {
   "cell_type": "markdown",
   "metadata": {},
   "source": [
    "__Pour quelle valeur $x_1$ du tableau a-t-on $x_1 \\leqslant \\sqrt{2} \\leqslant x_1+0,1$ ? Justifier.__\n",
    "\n",
    "__Modifier la fonction précédente pour qu’elle renvoie cette valeur $x_1$.__\n",
    "\n",
    "\n",
    "\n",
    "\n",
    "<span style=\"color: #888888\">Aides : On pourra, entre autres, modifier la condition de la boucle while.\n",
    "On pourra supprimer les affichages réalisés avec l’instruction print.</span> \n"
   ]
  },
  {
   "cell_type": "code",
   "execution_count": null,
   "metadata": {},
   "outputs": [],
   "source": [
    "# Modifier la fonction puis effectuer les tests ici\n"
   ]
  },
  {
   "cell_type": "markdown",
   "metadata": {},
   "source": [
    "__3. Compléter la fonction pour qu’elle effectue, à partir de cette valeur $x_1$, un nouveau balayage de pas $10^{-2}=0,01$.__\n",
    "\n",
    "__La fonction renverra une valeur $x_2$ telle que $x_2 \\leqslant \\sqrt{2} \\leqslant x_2+0,01$.__"
   ]
  },
  {
   "cell_type": "code",
   "execution_count": null,
   "metadata": {},
   "outputs": [],
   "source": [
    "# Modifier la fonction puis effectuer les tests ici\n"
   ]
  },
  {
   "cell_type": "markdown",
   "metadata": {},
   "source": [
    "__4. Compléter la fonction pour qu’elle renvoie une valeur $x_3$ telle que $x_3 \\leqslant \\sqrt{2} \\leqslant x_3+0,001$.__"
   ]
  },
  {
   "cell_type": "code",
   "execution_count": null,
   "metadata": {},
   "outputs": [],
   "source": [
    "# Modifier la fonction puis effectuer les tests ici\n"
   ]
  },
  {
   "cell_type": "markdown",
   "metadata": {},
   "source": [
    "__5. \tEn ajoutant une boucle, modifier la fonction précédente pour qu’elle renvoie une valeur $x_n$ telle que $x_n \\leqslant \\sqrt{2} \\leqslant x_n+10^{-n}$, où $n$ est une valeur donnée en argument de la fonction.__"
   ]
  },
  {
   "cell_type": "code",
   "execution_count": null,
   "metadata": {},
   "outputs": [],
   "source": [
    "# Modifier la fonction puis effectuer les tests ici\n"
   ]
  },
  {
   "cell_type": "markdown",
   "metadata": {},
   "source": [
    "__Donner une valeur approchée de $\\sqrt{2}$ à $10^{-7}$ près.__"
   ]
  },
  {
   "cell_type": "code",
   "execution_count": null,
   "metadata": {},
   "outputs": [],
   "source": [
    "# Effectuer les saisies nécessaires ici\n"
   ]
  },
  {
   "cell_type": "markdown",
   "metadata": {},
   "source": [
    "__6. Prolongement :__\n",
    "\n",
    "__On admet que l’équation $x^3=5$ admet une unique solution sur $[0;+\\infty[$, notée $\\sqrt[3]{5}$.__\n",
    "\n",
    "__Déterminer une valeur approchée de $\\sqrt[3]{5}$ à $10^{-8}$ près.__\n"
   ]
  },
  {
   "cell_type": "code",
   "execution_count": null,
   "metadata": {},
   "outputs": [],
   "source": [
    "# Effectuer les saisies nécessaires ici\n"
   ]
  },
  {
   "cell_type": "markdown",
   "metadata": {},
   "source": [
    "![Cardan](https://raw.githubusercontent.com/PythonLycee/PyLyc/master/img/Cardan.jpg)\n",
    "\n",
    "<center> <a href=\"https://fr.wikipedia.org/wiki/J%C3%A9r%C3%B4me_Cardan\">Jérôme Cardan</a> (1501-1576) fut un des premiers à justifier la méthode d'approximation par balayage.</center>"
   ]
  },
  {
   "cell_type": "markdown",
   "metadata": {},
   "source": [
    "*(C) Copyright Franck CHEVRIER 2019-2020 http://www.python-lycee.com/*"
   ]
  }
 ],
 "metadata": {
  "celltoolbar": "Raw Cell Format",
  "kernelspec": {
   "display_name": "Python 3",
   "language": "python",
   "name": "python3"
  },
  "language_info": {
   "codemirror_mode": {
    "name": "ipython",
    "version": 3
   },
   "file_extension": ".py",
   "mimetype": "text/x-python",
   "name": "python",
   "nbconvert_exporter": "python",
   "pygments_lexer": "ipython3",
   "version": "3.7.10"
  }
 },
 "nbformat": 4,
 "nbformat_minor": 2
}
