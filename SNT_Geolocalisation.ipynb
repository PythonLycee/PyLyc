{
 "cells": [
  {
   "cell_type": "markdown",
   "metadata": {},
   "source": [
    "![En tête general](img/En_tete_general.png)\n",
    "\n",
    "\n",
    "*(C) Copyright Franck CHEVRIER 2019-2021 http://www.python-lycee.com/*\n",
    "\n",
    "<span style=\"color: #9317B4\"> Pour exécuter une saisie Python, sélectionner la cellule et valider avec </span><span style=\"color: #B317B4\"><strong>SHIFT+Entrée</strong></span>.\n",
    "\n"
   ]
  },
  {
   "cell_type": "markdown",
   "metadata": {},
   "source": [
    "# Géolocalisation par satellites\n"
   ]
  },
  {
   "cell_type": "markdown",
   "metadata": {},
   "source": [
    "### <span style=\"color:#8E44AD\">Sommaire</span>\n",
    "\n",
    "<span style=\"color:#8E44AD\">1.</span> <a href=\"#1\">Principe des coordonnées géographiques</a><br>\n",
    "<span style=\"color:#8E44AD\">2.</span> <a href=\"#2\">Système de géolocalisation par satellite</a><br>"
   ]
  },
  {
   "cell_type": "markdown",
   "metadata": {},
   "source": [
    "## <span style=\"color:#8E44AD\" id=\"1\">1. Principe des coordonnées géographiques</span>\n"
   ]
  },
  {
   "cell_type": "markdown",
   "metadata": {},
   "source": [
    "Activer la cellule Python suivante, pour obtenir une figure dynamique, où le point <strong style=\"color:#FF0000\">M</strong> est mobile."
   ]
  },
  {
   "cell_type": "code",
   "execution_count": null,
   "metadata": {},
   "outputs": [],
   "source": [
    "#Sélectionner cette zone puis SHIFT+ENTREE\n",
    "from IPython.display import display, HTML ; display(HTML('fig_dyn_GeoGebra/Geolocalisation1.html'))"
   ]
  },
  {
   "cell_type": "markdown",
   "metadata": {},
   "source": [
    "La <strong>géolocalisation</strong> d'un point <strong style=\"color:#FF0000\">M</strong> sur Terre se fait à l'aide de deux <strong>coordonnées géographiques</strong> :<br>\n",
    "<ul>\n",
    "    <li>la <strong style=\"color:#339900\">longitude</strong> est l'angle formé par le <strong style=\"color:#0000FF\">méridien</strong> passant par <strong style=\"color:#FF0000\">M</strong> et les deux pôles d'une part et le <strong style=\"color:#339900\">méridien de Greewich</strong> d'autre part, qui est le méridien de référence.<br>On ajoute une indication E ou O pour préciser l'orientation de l'angle (Est ou Ouest).</li><br>\n",
    "    <li>la <strong style=\"color:#FF6699\">latitude</strong> est l'angle formé par le point <strong style=\"color:#FF0000\">M</strong>, le centre <strong style=\"color:#606060\">O</strong> de la Terre et le <strong style=\"color:#FF6600\">plan équatorial</strong>.<br>On ajoute une indication N ou S pour préciser l'hémisphére (Nord ou Sud) ;</li>\n",
    "\n",
    "</ul>"
   ]
  },
  {
   "cell_type": "markdown",
   "metadata": {},
   "source": [
    "<strong>Exercice :</strong><br>\n",
    "Activer la figure dynamique ci-dessous, qui permet de lire les coordonnées sphériques du point rouge mobile. "
   ]
  },
  {
   "cell_type": "code",
   "execution_count": null,
   "metadata": {},
   "outputs": [],
   "source": [
    "#Sélectionner cette zone puis SHIFT+ENTREE\n",
    "from IPython.display import display, HTML ; display(HTML('fig_dyn_GeoGebra/Geolocalisation2.html'))"
   ]
  },
  {
   "cell_type": "markdown",
   "metadata": {},
   "source": [
    "Recopier et compléter le tableau fourni ci-dessous (précision attendue : au degré près).<br>\n",
    "\n",
    "<table style=\"font-size: 14px\">      \n",
    "        <tr style=\"background-color:#EEF7D8; color:#537304;\">    \n",
    "            <td><center><strong>Nom du point</strong></center></td>\n",
    "            <td><center><strong>Ville</strong></center></td>\n",
    "            <td><center><strong>Longitude</strong></center></td>\n",
    "            <td><center><strong>Latitude</strong></center></td>\n",
    "        </tr>\n",
    "        <tr style=\"background-color:#F6FAED; color:#668712;\">\n",
    "            <td><center> </center></td>\n",
    "            <td><center>Greenwich</center></td>\n",
    "            <td><center>0°</center></td>\n",
    "            <td><center>51° N</center></td>\n",
    "        </tr>\n",
    "        <tr style=\"background-color:#F6FAED; color:#668712;\">\n",
    "            <td><center>H</center></td>\n",
    "            <td><center>Jayapura</center></td>\n",
    "            <td><center></center></td>\n",
    "            <td><center></center></td>\n",
    "        </tr>  \n",
    "        <tr style=\"background-color:#F6FAED; color:#668712;\">\n",
    "            <td><center>E</center></td>\n",
    "            <td><center>Los Angeles</center></td>\n",
    "            <td><center></center></td>\n",
    "            <td><center></center></td>\n",
    "        </tr>\n",
    "        <tr style=\"background-color:#F6FAED; color:#668712;\">\n",
    "            <td><center></center></td>\n",
    "            <td><center>Moscou</center></td>\n",
    "            <td><center>38° E</center></td>\n",
    "            <td><center>56° N</center></td>\n",
    "        </tr>\n",
    "        <tr style=\"background-color:#F6FAED; color:#668712;\">\n",
    "            <td><center></center></td>\n",
    "            <td><center>Karachi</center></td>\n",
    "            <td><center>67° E</center></td>\n",
    "            <td><center>25° N</center></td>\n",
    "        </tr>\n",
    "        <tr style=\"background-color:#F6FAED; color:#668712;\">\n",
    "            <td><center></center></td>\n",
    "            <td><center>Rio de Janeiro</center></td>\n",
    "            <td><center>43° O</center></td>\n",
    "            <td><center>23° S</center></td>\n",
    "        </tr>\n",
    "        <tr style=\"background-color:#F6FAED; color:#668712;\">\n",
    "            <td><center></center></td>\n",
    "            <td><center>Washington</center></td>\n",
    "            <td><center>77° O</center></td>\n",
    "            <td><center>39° N</center></td>\n",
    "        </tr>\n",
    "        <tr style=\"background-color:#F6FAED; color:#668712;\">\n",
    "            <td><center>B</center></td>\n",
    "            <td><center>Bamako</center></td>\n",
    "            <td><center></center></td>\n",
    "            <td><center></center></td>\n",
    "        </tr>    \n",
    "</table>"
   ]
  },
  {
   "cell_type": "markdown",
   "metadata": {},
   "source": [
    "## <span style=\"color:#8E44AD\" id=\"2\">2. Système de géolocalisation par satellite</span>"
   ]
  },
  {
   "cell_type": "markdown",
   "metadata": {},
   "source": [
    "<strong>1. Un satellite envoie des ondes radio qui se propagent à la vitesse de $300\\;000\\;km \\cdot s^{-1}=300\\;km\\cdot ms^{-1}$. En mesurant le temps que met une onde pour lui parvenir d'un satellite, un système de géolocalisation est capable de déduire sa distance à ce satellite.</strong><br><br>\n",
    "<strong>Écrire une fonction Python <mark>DistSat</mark> qui reçoit en argument le temps <mark>t</mark> mis par l'onde (exprimé en $ms$) et qui renvoie la distance du satellite (exprimée en km).</strong>"
   ]
  },
  {
   "cell_type": "code",
   "execution_count": null,
   "metadata": {},
   "outputs": [],
   "source": [
    "#Écrire ici la fonction DistSat\n",
    "\n"
   ]
  },
  {
   "cell_type": "markdown",
   "metadata": {},
   "source": [
    "<strong>2. On souhaite géolocaliser un point de la surface terrestre. Pour cela, on dispose des temps mis pour atteindre ce point par des ondes envoyées par 3 satellites. Les données sont consignées dans le tableau ci-dessous.<br></strong>\n",
    "<table style=\"font-size: 14px\">      \n",
    "        <tr style=\"background-color:#EEF7D8; color:#537304;\">    \n",
    "            <td><center><strong>Satellite</strong></center></td>\n",
    "            <td><center><strong>Temps (ms)</strong></center></td>\n",
    "        </tr>\n",
    "        <tr style=\"background-color:#EEF7D8; color:#FF6600;\">    \n",
    "            <td><center><strong>Sat1</strong></center></td>\n",
    "            <td><center><strong>69,9</strong></center></td>\n",
    "        </tr>\n",
    "        <tr style=\"background-color:#EEF7D8; color:#009900;\">    \n",
    "            <td><center><strong>Sat2</strong></center></td>\n",
    "            <td><center><strong>68,1</strong></center></td>\n",
    "        </tr> \n",
    "        <tr style=\"background-color:#EEF7D8; color:#800080;\">    \n",
    "            <td><center><strong>Sat3</strong></center></td>\n",
    "            <td><center><strong>72,3</strong></center></td>\n",
    "        </tr> \n",
    "</table>\n",
    "        \n",
    "<strong>À l'aide de la fonction Python <mark>DistSat</mark>, déterminer les trois distances qui séparent le point cherché de chaque satellite.</strong>"
   ]
  },
  {
   "cell_type": "code",
   "execution_count": null,
   "metadata": {},
   "outputs": [],
   "source": [
    "# Utiliser ces zones de saisie pour déterminer les distances\n",
    "\n"
   ]
  },
  {
   "cell_type": "code",
   "execution_count": null,
   "metadata": {},
   "outputs": [],
   "source": [
    "\n"
   ]
  },
  {
   "cell_type": "code",
   "execution_count": null,
   "metadata": {},
   "outputs": [],
   "source": [
    "\n"
   ]
  },
  {
   "cell_type": "markdown",
   "metadata": {},
   "source": [
    "<strong>3. Activer la cellule Python ci-dessous pour obtenir une figure dynamique.</strong>"
   ]
  },
  {
   "cell_type": "code",
   "execution_count": null,
   "metadata": {},
   "outputs": [],
   "source": [
    "#Sélectionner cette zone puis SHIFT+ENTREE\n",
    "from IPython.display import display, HTML ; display(HTML('fig_dyn_GeoGebra/Geolocalisation3.html'))"
   ]
  },
  {
   "cell_type": "markdown",
   "metadata": {},
   "source": [
    "<strong>\n",
    "<ul>\n",
    "    <li>À l'aide des curseurs, régler le plus précisément possible les distances des satellites obtenues à la question précédente.<br>Pour chaque satellite, on obtient ainsi une sphère correspondant au signal émis.</li><br>\n",
    "    <li>Observer l'intersection des sphères obtenues et indiquer dans quel continent puis dans quel pays se trouve le point cherché.</li><br>\n",
    "    <li>Sachant que ce point est une capitale, donner le nom de cette ville.</li>\n",
    "</ul></strong>\n"
   ]
  },
  {
   "cell_type": "markdown",
   "metadata": {},
   "source": [
    "*(C) Copyright Franck CHEVRIER 2019-2021 http://www.python-lycee.com/*\n"
   ]
  }
 ],
 "metadata": {
  "celltoolbar": "Raw Cell Format",
  "kernelspec": {
   "display_name": "Python 3",
   "language": "python",
   "name": "python3"
  },
  "language_info": {
   "codemirror_mode": {
    "name": "ipython",
    "version": 3
   },
   "file_extension": ".py",
   "mimetype": "text/x-python",
   "name": "python",
   "nbconvert_exporter": "python",
   "pygments_lexer": "ipython3",
   "version": "3.7.10"
  }
 },
 "nbformat": 4,
 "nbformat_minor": 2
}
