{
 "cells": [
  {
   "cell_type": "markdown",
   "metadata": {},
   "source": [
    "![En tête general](https://raw.githubusercontent.com/PythonLycee/PyLyc/master/img/En_tete_general.png)\n",
    "\n",
    "\n",
    "<i>© Copyright Franck CHEVRIER 2019-2021 https://www.python-lycee.com.</i><br>\n",
    "<i>Les activités partagées sur <a href=\"https://capytale2.ac-paris.fr/web/accueil\"><strong>Capytale</strong></a> sont sous licence <a href=\"https://creativecommons.org/licenses/by-sa/3.0/fr/\">Creative Commons</a>.</i>\n",
    "\n",
    "<span style=\"color: #9317B4\"> Pour exécuter une saisie Python, sélectionner la cellule et valider avec </span><span style=\"color: #B317B4\"><strong>SHIFT+Entrée</strong></span>.\n"
   ]
  },
  {
   "cell_type": "markdown",
   "metadata": {},
   "source": [
    "# <span style=\"color:#6C3483\">Triangle de Pascal, propriétés des coefficients binomiaux </span>\n",
    "<span style=\"color:#6C3483\">Génération des coefficients binomiaux par la formule de Pascal, et propriétés des coefficients binomiaux.</span>"
   ]
  },
  {
   "cell_type": "markdown",
   "metadata": {},
   "source": [
    "### <span style=\"color:#8E44AD\">Sommaire</span>\n",
    "\n",
    "<span style=\"color:#8E44AD\">1.</span> <a href=\"#1\">Triangle de Pascal</a><br>\n",
    "<span style=\"color:#8E44AD\">2.</span> <a href=\"#2\">Formule factorielle </a><br>\n",
    "<span style=\"color:#8E44AD\">3.</span> <a href=\"#3\">Compléments : Quelques propriétés énoncées par Pascal</a><br>\n"
   ]
  },
  {
   "cell_type": "markdown",
   "metadata": {},
   "source": [
    "## <span style=\"color:#8E44AD\" id=\"1\">1. Triangle de Pascal</span>\n",
    "\n",
    "<span style=\"color: #7C39C9\">Dans cette partie, nous étudierons le \"<strong>triangle arithmétique</strong>\" décrit par <a href=\"https://fr.wikipedia.org/wiki/Blaise_Pascal\"><strong>Blaise Pascal</strong></a> dans son traité paru en 1655, pour ensuite implémenter en Python la construction de ce triangle.</span>"
   ]
  },
  {
   "cell_type": "markdown",
   "metadata": {},
   "source": [
    "__1.1. Suivre la vidéo suivante.__\n",
    "\n",
    "<video controls src=\"https://raw.githubusercontent.com/PythonLycee/PyLyc/master/video/Triangle_Pascal.mp4\" width=\"960\" height=\"540\" />"
   ]
  },
  {
   "cell_type": "markdown",
   "metadata": {},
   "source": [
    "__1.2. Tester la syntaxe Python fournie ci-dessous, qui permet de générer un tableau carré de dimension $N \\times N$.__\n"
   ]
  },
  {
   "cell_type": "code",
   "execution_count": null,
   "metadata": {},
   "outputs": [],
   "source": [
    "# Tester cette cellule\n",
    "import numpy as np\n",
    "\n",
    "N = 12 #nombre de lignes et de colonnes du tableau\n",
    "\n",
    "T = np.array( [ [0 for k in range(N)] for n in range(N)] )\n",
    "T"
   ]
  },
  {
   "cell_type": "markdown",
   "metadata": {},
   "source": [
    "__1.3. Écrire une fonction Python <mark>Pascal</mark> qui reçoit en argument un entier N et qui renvoie le tableau de dimension $N \\times N$ contenant le triangle de Pascal, c'est à dire tel que le coefficient de la $n$<sup>ème</sup> ligne et de la $k$<sup>ème</sup> colonne sera $\\begin{pmatrix} n \\\\ k \\end{pmatrix}$__\n",
    "<br>\n",
    "<br>\n",
    "Aides :\n",
    "<ul>\n",
    "    <li>Commencer par créer un tableau de dimension $N \\times N$ rempli de coefficients $0$.</li>\n",
    "    <li>Compléter la première colonne du tableau à l'aide de la formule : \n",
    "        $$\\forall \\; 0 \\leq n \\leq N-1 \\;\\;;\\;\\; \\begin{pmatrix} n \\\\ 0 \\end{pmatrix}=1$$</li>\n",
    "    <li>Compléter le reste du triangle à l'aide de la formule de Pascal :\n",
    "        $$\\forall \\; 1 \\leq n \\leq N-1 \\;\\;;\\; \\forall \\; 1 \\leq k \\leq n \\;\\;;\\;\\; \\begin{pmatrix} n \\\\ k \\end{pmatrix}=\\begin{pmatrix} n-1 \\\\ k-1 \\end{pmatrix}+\\begin{pmatrix} n-1 \\\\ k \\end{pmatrix}$$</li>\n",
    "</ul>\n"
   ]
  },
  {
   "cell_type": "code",
   "execution_count": null,
   "metadata": {},
   "outputs": [],
   "source": [
    "# Écrire ici la fonction Pascal\n",
    "\n",
    "\n"
   ]
  },
  {
   "cell_type": "markdown",
   "metadata": {},
   "source": [
    "__1.4. Effectuer un appel à la fonction Python <mark>Pascal</mark> avec $N=12$.__"
   ]
  },
  {
   "cell_type": "code",
   "execution_count": null,
   "metadata": {},
   "outputs": [],
   "source": [
    "# Effectuer ici l'appel à la fonction\n"
   ]
  },
  {
   "cell_type": "markdown",
   "metadata": {},
   "source": [
    "## <span style=\"color:#8E44AD\" id=\"2\">2. Formule factorielle</span>\n",
    "\n",
    "<span style=\"color: #7C39C9\">Dans cette partie, à l'aide de la relation de Pascal, nous construirons une formule des calculs des combinaisons basée sur la notion de factorielle.</span>"
   ]
  },
  {
   "cell_type": "markdown",
   "metadata": {},
   "source": [
    "__2.1. Pour tout entier $n \\geq 0$, on appelle factorielle de $n$ et on note $n!$ l'entier défini par :__\n",
    "\n",
    "$$n! = \\left\\{\n",
    "    \\begin{array}{ll}\n",
    "        1 & \\mbox{si } n =0 \\\\\n",
    "        1 \\times 2 \\times ... \\times n & \\mbox{sinon.}\n",
    "    \\end{array}\n",
    "\\right.$$\n",
    "\n",
    "__$\\quad$Écrire une fonction <mark>fact</mark> qui reçoit en argument un entier $n \\geq 0$ et renvoie la valeur de $n!$ .__\n",
    "<br>__$\\quad$Tester ensuite la fonction pour calculer $0!$ ; $3!$ et $6!$ .__\n"
   ]
  },
  {
   "cell_type": "code",
   "execution_count": null,
   "metadata": {},
   "outputs": [],
   "source": [
    "# Écrire ici la fonction fact\n",
    "\n",
    "\n",
    "     "
   ]
  },
  {
   "cell_type": "code",
   "execution_count": null,
   "metadata": {},
   "outputs": [],
   "source": [
    "# Utiliser cette cellule pour tester la fonction fact\n"
   ]
  },
  {
   "cell_type": "markdown",
   "metadata": {},
   "source": [
    "__2.2. Voici des extraits du traité de Pascal qui lui permettent de construire son triangle :__\n",
    "\n",
    "![Illustration_binomiale_1](https://raw.githubusercontent.com/PythonLycee/PyLyc/master/img/Coeff_bin/Coeff_bin_1.png)\n",
    "\n",
    "__$\\quad$Sous forme moderne, ces relations peuvent s'écrire :__\n",
    "<ul>\n",
    "    <li>$\\forall \\; n \\geq 0 \\;\\;;\\;\\; \\color{#A349A4}{ \\begin{pmatrix} n \\\\ 0 \\end{pmatrix} }=\\color{#A349A4}{ \\begin{pmatrix} n \\\\ n \\end{pmatrix} } = \\color{#A349A4}{1} $</li>\n",
    "    <li> $\\forall \\; n \\geq 1 \\;\\;;\\; \\forall \\; 1 \\leq k \\leq n-1 \\;\\;;\\;\\; \\color{#3F48CC}{\\begin{pmatrix} n \\\\ k \\end{pmatrix}}=\\color{#3F48CC}{\\begin{pmatrix} n-1 \\\\ k-1 \\end{pmatrix}}+\\color{#3F48CC}{\\begin{pmatrix} n-1 \\\\ k \\end{pmatrix}}$</li>\n",
    "</ul>\n",
    "\n",
    "\n",
    "__$\\quad$À l'aide de ces relations, démontrer par récurrence que : $$\\forall \\; n \\geq 0 \\;\\;;\\; \\forall \\; 0 \\leq k \\leq n \\;\\;;\\;\\; \\color{#FF7F27}{ \\begin{pmatrix} n \\\\ k \\end{pmatrix}} = \\color{#FF7F27}{ \\frac{n!}{k!(n-k)!} }$$__\n",
    "\n",
    "\n",
    "$\\quad$Note : Pascal avait déjà connaissance de cette méthode de calcul :\n",
    "\n",
    "![Illustration_binomiale_19](https://raw.githubusercontent.com/PythonLycee/PyLyc/master/img/Coeff_bin/Coeff_bin_19.png)"
   ]
  },
  {
   "cell_type": "markdown",
   "metadata": {},
   "source": [
    "__2.3. À l'aide de la fonction <mark>fact</mark> définie précédemment, écrire une fonction Python <mark>Combinaison</mark> qui reçoit en argument $n$ et $k$ et qui renvoie la valeur de $\\begin{pmatrix} n \\\\ k \\end{pmatrix}$.__<br/>\n",
    "<br>\n",
    "Aides:\n",
    "<ul>\n",
    "    <li>On pourra utiliser la fonction <mark>fact</mark> définie précédemment ;</li>\n",
    "    <li>On utilisera la syntaxe <mark>//</mark> pour la division, pour s'assurer que le résultat est de type entier.</li>\n",
    "</ul>"
   ]
  },
  {
   "cell_type": "code",
   "execution_count": null,
   "metadata": {},
   "outputs": [],
   "source": [
    "# Écrire ici la fonction Combinaison\n",
    "\n",
    "\n"
   ]
  },
  {
   "cell_type": "markdown",
   "metadata": {},
   "source": [
    "__2.4. Effectuer un appel à votre fonction <mark>Combinaison</mark> pour calculer $\\begin{pmatrix} 11 \\\\ 4 \\end{pmatrix}$.__\n",
    "<br>\n",
    "__$\\quad$ Vérifier la cohérence du résultat en utilisant le triangle de Pascal obtenu à la question 1.4.__"
   ]
  },
  {
   "cell_type": "code",
   "execution_count": null,
   "metadata": {},
   "outputs": [],
   "source": [
    "# Utiliser cette cellule pour tester la fonction Combinaison\n"
   ]
  },
  {
   "cell_type": "markdown",
   "metadata": {},
   "source": [
    "## <span style=\"color:#8E44AD\" id=\"3\">3. Compléments : Quelques propriétés énoncées par Pascal</span>\n",
    "\n",
    "<span style=\"color: #7C39C9\">Dans cette partie, nous nous intéresserons à des propriétés du triangle arithmétique que Pascal cite dans son traité, et en donnerons les formules équivalentes sous forme moderne.<br>Nous démontrerons les plus simples, et vérifierons simplement la validité des autres pour des valeurs particulières.</span>\n",
    "<br><br>"
   ]
  },
  {
   "cell_type": "markdown",
   "metadata": {},
   "source": [
    "__3.1. Extrait du traité de Pascal:__\n",
    "\n",
    "![Illustration_binomiale_2](https://raw.githubusercontent.com/PythonLycee/PyLyc/master/img/Coeff_bin/Coeff_bin_2.png)\n",
    "\n",
    "__$\\quad$ Sous forme moderne, cette propriété peut s'écrire :__\n",
    "\n",
    "$$ \\forall \\; n \\geq 1 \\;\\;;\\; \\forall \\; 0 \\leq k \\leq n-1 \\;\\;; \\color{#00B050}{\\;\\; \\begin{pmatrix} n \\\\ k \\end{pmatrix}  \\;}=\\color{#00B050}{\\;  \\sum\\limits_{j=0}^{k} \\begin{pmatrix} n-1-k+j \\\\ j \\end{pmatrix} } $$\n",
    "\n",
    "\n",
    "__$\\quad$ Exécuter la cellule ci-dessous, qui permet de vérifier la validité de cette formule pour des valeurs particulières de $n$ et $k$.__"
   ]
  },
  {
   "cell_type": "code",
   "execution_count": null,
   "metadata": {},
   "outputs": [],
   "source": [
    "# Exécuter cette cellule pour vérifier la formule dans un cas particulier\n",
    "\n",
    "n=8\n",
    "k=5\n",
    "\n",
    "a = Combinaison(n,k)\n",
    "\n",
    "b = sum( [ Combinaison(n-1-k+j,j) for j in range(k+1) ])\n",
    "\n",
    "a,b"
   ]
  },
  {
   "cell_type": "markdown",
   "metadata": {},
   "source": [
    "<br><br>\n",
    "__3.2. Extrait du traité de Pascal:__\n",
    "\n",
    "![Illustration_binomiale_3](https://raw.githubusercontent.com/PythonLycee/PyLyc/master/img/Coeff_bin/Coeff_bin_3.png)\n",
    "\n",
    "__$\\quad$ Sous forme moderne, cette propriété peut s'écrire :__\n",
    "\n",
    "\n",
    "$$ \\forall \\; n \\geq 1 \\;\\;;\\; \\forall \\; 1 \\leq k \\leq n \\;\\;; \\color{#FF7F27}{  \\;\\; \\begin{pmatrix} n \\\\ k \\end{pmatrix} } \\;=\\; \\color{#FF7F27}{ \\sum\\limits_{j=0}^{n-k} \\begin{pmatrix} n-j-1 \\\\ k-1 \\end{pmatrix} }$$\n",
    "\n",
    "\n",
    "__$\\quad$ Proposer ci-dessous une saisie Python permettant de vérifier cette formule pour des valeurs particulières de $n$ et $k$.__\n",
    "<br>$\\quad\\;$On pourra s'inspirer des syntaxes fournies dans la question 3.1."
   ]
  },
  {
   "cell_type": "code",
   "execution_count": null,
   "metadata": {},
   "outputs": [],
   "source": [
    "# Proposer ici une vérification de la formule dans un cas particulier\n",
    "\n",
    "n=8\n",
    "k=5\n",
    "\n"
   ]
  },
  {
   "cell_type": "markdown",
   "metadata": {},
   "source": [
    "<br><br>\n",
    "__3.3. Extrait du traité de Pascal:__\n",
    "\n",
    "![Illustration_binomiale_4](https://raw.githubusercontent.com/PythonLycee/PyLyc/master/img/Coeff_bin/Coeff_bin_4.png)\n",
    "\n",
    "__$\\quad$ Sous forme moderne, cette propriété peut s'écrire :__\n",
    "\n",
    "$$ \\forall \\; n \\geq 1 \\;\\;;\\; \\forall \\; 1 \\leq k \\leq n-1 \\;\\;; \\color{#00A2E8}{\\;\\; \\begin{pmatrix} n \\\\ k \\end{pmatrix}  }\\;-1=\\color{#00A2E8}{ \\sum\\limits_{j=0}^{k-1} \\sum\\limits_{m=j}^{n-1-k+j} \\begin{pmatrix} m \\\\ j \\end{pmatrix}}$$\n",
    "\n",
    "\n",
    "__$\\quad$ Exécuter la cellule ci-dessous, qui permet de vérifier la validité de cette formule pour des valeurs particulières de $n$ et $k$.__"
   ]
  },
  {
   "cell_type": "code",
   "execution_count": null,
   "metadata": {
    "scrolled": true
   },
   "outputs": [],
   "source": [
    "n=8\n",
    "k=5\n",
    "\n",
    "a = Combinaison(n,k) -1\n",
    "\n",
    "b = sum ( [sum( [ Combinaison(m,j) for m in range(j,n-k+j) ]) for j in range(k) ] )\n",
    "\n",
    "a,b"
   ]
  },
  {
   "cell_type": "markdown",
   "metadata": {},
   "source": [
    "<br><br>\n",
    "__3.4. Extrait du traité de Pascal:__\n",
    "\n",
    "![Illustration_binomiale_5](https://raw.githubusercontent.com/PythonLycee/PyLyc/master/img/Coeff_bin/Coeff_bin_5.png)\n",
    "\n",
    "__$\\quad$ Sous forme moderne, cette propriété peut s'écrire :__\n",
    "\n",
    "\n",
    "$$ \\forall \\; n \\geq 0 \\;\\;;\\; \\forall \\; 0 \\leq k \\leq n \\;\\;; \\color{#BF8F00}{\\;\\; \\begin{pmatrix} n \\\\ k \\end{pmatrix}} \\;=\\;\\color{#BF8F00}{ \\begin{pmatrix} n \\\\ n-k \\end{pmatrix} }$$\n",
    "\n",
    "\n",
    "__$\\quad$ Démontrer cette propriété.__\n",
    "\n"
   ]
  },
  {
   "cell_type": "markdown",
   "metadata": {},
   "source": [
    "<br><br>\n",
    "__3.5. Extrait du traité de Pascal:__\n",
    "\n",
    "![Illustration_binomiale_6](https://raw.githubusercontent.com/PythonLycee/PyLyc/master/img/Coeff_bin/Coeff_bin_6.png)\n",
    "\n",
    "__$\\quad$ Sous forme moderne, cette propriété peut s'écrire :__\n",
    "\n",
    "\n",
    "$$ \\forall \\; n \\geq 1 \\;\\;; \\color{#8080FF}{\\;  \\sum\\limits_{k=0}^{n} \\begin{pmatrix} n \\\\ k \\end{pmatrix} }\\;= 2 \\times \\color{#404080}{ \\sum\\limits_{j=0}^{n-1} \\begin{pmatrix} n-1 \\\\ j \\end{pmatrix} }$$\n",
    "\n",
    "\n",
    "__$\\quad$ a. Proposer ci-dessous une saisie Python permettant de vérifier cette formule pour une valeur particulière de $n$.__\n",
    "<br>$\\quad\\quad$On pourra s'inspirer des syntaxes fournies dans la question 3.1."
   ]
  },
  {
   "cell_type": "code",
   "execution_count": null,
   "metadata": {},
   "outputs": [],
   "source": [
    "# Proposer ici une vérification de la formule dans un cas particulier\n",
    "\n",
    "n=6\n",
    "\n"
   ]
  },
  {
   "cell_type": "markdown",
   "metadata": {},
   "source": [
    "__$\\quad$b. En décomposant sous la forme :__ \n",
    "\n",
    "$$\\begin{matrix} {2\\times \\sum\\limits_{j=0}^{n-1}\\begin{pmatrix}n-1\\\\j\\end{pmatrix}} & = & \\begin{pmatrix}n-1\\\\0\\end{pmatrix}+ & \\begin{pmatrix}n-1\\\\1\\end{pmatrix}+ & ...+ & \\begin{pmatrix}n-1\\\\n-2\\end{pmatrix}+ & \\begin{pmatrix}n-1\\\\n-1\\end{pmatrix} & {}\n",
    "              \\\\ {                                                                 } & {} & + & \\begin{pmatrix}n-1\\\\0\\end{pmatrix}+ & ...+ & \\begin{pmatrix}n-1\\\\n-3\\end{pmatrix}+ & \\begin{pmatrix}n-1\\\\n-2\\end{pmatrix}+ & \\begin{pmatrix}n-1\\\\n-1\\end{pmatrix}\n",
    "\\end{matrix}$$\n",
    "\n",
    "\n",
    "__$\\quad\\;\\;\\;$et en regroupant les termes par deux, démontrer la formule annoncée.__\n",
    "\n"
   ]
  },
  {
   "cell_type": "markdown",
   "metadata": {},
   "source": [
    "__$\\quad$ c. En déduire que la suite de terme général $\\sum\\limits_{k=0}^{n} \\begin{pmatrix} n \\\\ k \\end{pmatrix}$ est géométrique, en précisant son premier terme et sa raison.<br>$\\quad\\quad$ Donner ensuite l'expression de $\\sum\\limits_{k=0}^{n} \\begin{pmatrix} n \\\\ k \\end{pmatrix}$ en fonction de $n$. Ce résultat est énoncé ainsi par Pascal :__\n",
    "\n",
    "\n",
    "![Illustration_binomiale_7](https://raw.githubusercontent.com/PythonLycee/PyLyc/master/img/Coeff_bin/Coeff_bin_7.png)\n"
   ]
  },
  {
   "cell_type": "markdown",
   "metadata": {},
   "source": [
    "__$\\quad$ d. Déduire de la question précédente que $\\forall \\; n \\geq 1 \\;\\;;\\; \\color{#8080FF}{\\sum\\limits_{k=0}^{n} \\begin{pmatrix} n \\\\ k \\end{pmatrix} }-1 = \\color{#00A2E8}{\\sum\\limits_{m=0}^{n-1} \\sum\\limits_{k=0}^{m} \\begin{pmatrix} m \\\\ k \\end{pmatrix}} $. Ce résultat est énoncé ainsi par Pascal :__\n",
    "![Illustration_binomiale_8](https://raw.githubusercontent.com/PythonLycee/PyLyc/master/img/Coeff_bin/Coeff_bin_8.png)"
   ]
  },
  {
   "cell_type": "markdown",
   "metadata": {},
   "source": [
    "<br><br>\n",
    "__3.6. Extrait du traité de Pascal:__\n",
    "\n",
    "![Illustration_binomiale_9](https://raw.githubusercontent.com/PythonLycee/PyLyc/master/img/Coeff_bin/Coeff_bin_9.png)\n",
    "\n",
    "__$\\quad$ Sous forme moderne, cette propriété peut s'écrire :__\n",
    "\n",
    "\n",
    "$$\\ \\forall \\; n \\geq 1 \\;\\;;\\; \\forall \\; 1 \\leq K \\leq n-1 \\;\\;; \\color{#C65911}{\\;\\; \\sum\\limits_{k=0}^{K} \\begin{pmatrix} n \\\\ k \\end{pmatrix} }\\;=\\; \\color{#2F75B5}{ \\sum\\limits_{k=0}^{K} \\begin{pmatrix} n-1 \\\\ k \\end{pmatrix}}\\;+\\;\\color{#00B0F0}{ \\sum\\limits_{k=0}^{K-1} \\begin{pmatrix} n-1 \\\\ k \\end{pmatrix} }$$\n",
    "\n",
    "\n",
    "\n",
    "__$\\quad$ Vérifier que cette propriété est correcte pour $n=6$ et $K=3$ (cellules représentées sur l'illustration).__"
   ]
  },
  {
   "cell_type": "markdown",
   "metadata": {},
   "source": [
    "<br><br>\n",
    "__3.7. Extrait du traité de Pascal:__\n",
    "\n",
    "![Illustration_binomiale_10](https://raw.githubusercontent.com/PythonLycee/PyLyc/master/img/Coeff_bin/Coeff_bin_10.png)\n",
    "\n",
    "__$\\quad$ Sous forme moderne, cette propriété peuvt s'écrire :__\n",
    "\n",
    "$$ \\forall \\; k \\geq 1 \\;\\;; \\color{#FF7F27}{\\;\\; \\begin{pmatrix} 2k \\\\ k \\end{pmatrix} }\\;= 2 \\times \\color{#FFAEC9}{\\begin{pmatrix} 2k-1 \\\\ k \\end{pmatrix}}\\;= 2 \\times \\color{#FFC90E}{ \\begin{pmatrix} 2k-1 \\\\ k-1 \\end{pmatrix} }$$\n",
    "\n",
    "__$\\quad$ Démontrer cette propriété.__\n",
    "\n"
   ]
  },
  {
   "cell_type": "markdown",
   "metadata": {},
   "source": [
    "<br><br>\n",
    "__3.8. Extrait du traité de Pascal:__\n",
    "\n",
    "![Illustration_binomiale_11](https://raw.githubusercontent.com/PythonLycee/PyLyc/master/img/Coeff_bin/Coeff_bin_11.png)\n",
    "\n",
    "__$\\quad$ Sous forme moderne, cette propriété peut s'écrire :__\n",
    "\n",
    "$$\\forall \\; n \\geq 1 \\;\\;;\\; \\forall \\; 1 \\leq k \\leq n \\;\\;;\\quad \\frac{ \\color{#0070C0}{\\begin{pmatrix} n \\\\ k \\end{pmatrix}} }{ \\color{#22B14C}{\\begin{pmatrix} n \\\\ k-1 \\end{pmatrix}} } = \\frac{ \\color{#0070C0}{n-k+1} }{ \\color{#22B14C}{k} }$$\n",
    "\n",
    "__$\\quad$ Démontrer cette propriété.__\n",
    "\n"
   ]
  },
  {
   "cell_type": "markdown",
   "metadata": {},
   "source": [
    "<br><br>\n",
    "__3.9. Extrait du traité de Pascal:__\n",
    "\n",
    "![Illustration_binomiale_12](https://raw.githubusercontent.com/PythonLycee/PyLyc/master/img/Coeff_bin/Coeff_bin_12.png)\n",
    "\n",
    "__$\\quad$ Sous forme moderne, cette propriété peut s'écrire :__\n",
    "\n",
    "$$\\forall \\; n \\geq 1 \\;\\;;\\; \\forall \\; 1 \\leq k \\leq n \\;\\;;\\quad \\frac{ \\color{#0070C0}{\\begin{pmatrix} n \\\\ k \\end{pmatrix}} }{ \\color{#22B14C}{\\begin{pmatrix} n-1 \\\\ k \\end{pmatrix}} } = \\frac{ \\color{#0070C0}{n} }{ \\color{#22B14C}{n-k} }$$\n",
    "\n",
    "__$\\quad$ Démontrer cette propriété.__\n",
    "\n"
   ]
  },
  {
   "cell_type": "markdown",
   "metadata": {},
   "source": [
    "<br><br>\n",
    "__3.10. Extrait du traité de Pascal:__\n",
    "\n",
    "![Illustration_binomiale_13](https://raw.githubusercontent.com/PythonLycee/PyLyc/master/img/Coeff_bin/Coeff_bin_13.png)\n",
    "\n",
    "__$\\quad$ Sous forme moderne, cette propriété peut s'écrire :__\n",
    "\n",
    "$$\\forall \\; n \\geq 1 \\;\\;;\\; \\forall \\; 1 \\leq k \\leq n \\;\\;;\\quad \\frac{ \\color{#0070C0}{\\begin{pmatrix} n \\\\ k \\end{pmatrix}} }{ \\color{#22B14C}{\\begin{pmatrix} n-1 \\\\ k-1 \\end{pmatrix}} } = \\frac{ \\color{#0070C0}{n} }{ \\color{#22B14C}{k} }$$\n",
    "\n",
    "__$\\quad$ Démontrer cette propriété.__\n",
    "\n"
   ]
  },
  {
   "cell_type": "markdown",
   "metadata": {},
   "source": [
    "<br><br>\n",
    "__3.11. Extrait du traité de Pascal:__\n",
    "\n",
    "![Illustration_binomiale_14](https://raw.githubusercontent.com/PythonLycee/PyLyc/master/img/Coeff_bin/Coeff_bin_14.png)\n",
    "\n",
    "__$\\quad$ Sous forme moderne, cette propriété peut s'écrire :__\n",
    "\n",
    "$$\\forall \\; n \\geq 1 \\;\\;;\\; \\forall \\; 1 \\leq k \\leq n \\;\\;;\\quad \\frac{ \\color{#0070C0}{ \\sum\\limits_{j=0}^{k} \\begin{pmatrix} n-k+j \\\\ j \\end{pmatrix}} }{ \\color{#22B14C}{\\begin{pmatrix} n \\\\ k \\end{pmatrix}} } = \\frac{ \\color{#0070C0}{n+1} }{ \\color{#22B14C}{n+1-k} }$$\n",
    "\n",
    "__$\\quad$ Exécuter la cellule ci-dessous, qui permet de vérifier la validité de cette formule pour des valeurs particulières de $n$ et $k$.__"
   ]
  },
  {
   "cell_type": "code",
   "execution_count": null,
   "metadata": {},
   "outputs": [],
   "source": [
    "# Exécuter cette cellule pour vérifier la formule dans un cas particulier\n",
    "\n",
    "n=9\n",
    "k=3\n",
    "\n",
    "a = sum( [ Combinaison(n-k+j,j) for j in range(k+1) ] ) / Combinaison(n,k)\n",
    "\n",
    "b = (n+1)/(n+1-k)\n",
    "\n",
    "a,b \n",
    "\n"
   ]
  },
  {
   "cell_type": "markdown",
   "metadata": {},
   "source": [
    "<br><br>\n",
    "__3.12. Extrait du traité de Pascal:__\n",
    "\n",
    "![Illustration_binomiale_15](https://raw.githubusercontent.com/PythonLycee/PyLyc/master/img/Coeff_bin/Coeff_bin_15.png)\n",
    "\n",
    "__$\\quad$ Sous forme moderne, cette propriété peut s'écrire :__\n",
    "\n",
    "$$\\forall \\; n \\geq 1 \\;\\;;\\; \\forall \\; 0 \\leq k \\leq n-1 \\;\\;;\\quad \\frac{ \\color{#0070C0}{ \\sum\\limits_{j=0}^{k+1} \\begin{pmatrix} n-j \\\\ k+1-j \\end{pmatrix}} }{ \\color{#22B14C}{ \\sum\\limits_{j=0}^{k} \\begin{pmatrix} n-j \\\\ k-j \\end{pmatrix}} } = \\frac{ \\color{#0070C0}{n+1-k} }{ \\color{#22B14C}{k+1} }$$\n",
    "\n",
    "__$\\quad$ Exécuter la cellule ci-dessous, qui permet de vérifier la validité de cette formule pour des valeurs particulières de $n$ et $k$.__"
   ]
  },
  {
   "cell_type": "code",
   "execution_count": null,
   "metadata": {},
   "outputs": [],
   "source": [
    "# Exécuter cette cellule pour vérifier la formule dans un cas particulier\n",
    "\n",
    "n=7\n",
    "k=3\n",
    "\n",
    "a = sum( [ Combinaison(n-j,k+1-j) for j in range(k+2) ] ) / sum( [ Combinaison(n-j,k-j) for j in range(k+1) ] )\n",
    "\n",
    "b = (n+1-k)/(k+1)\n",
    "\n",
    "a,b \n",
    "\n"
   ]
  },
  {
   "cell_type": "markdown",
   "metadata": {},
   "source": [
    "<br><br>\n",
    "__3.13. Extrait du traité de Pascal:__\n",
    "\n",
    "![Illustration_binomiale_16](https://raw.githubusercontent.com/PythonLycee/PyLyc/master/img/Coeff_bin/Coeff_bin_16.png)\n",
    "\n",
    "__$\\quad$ Sous forme moderne, cette propriété peut s'écrire :__\n",
    "\n",
    "$$\\forall \\; n \\geq 1 \\;\\;;\\; \\forall \\; 0 \\leq k \\leq n-1 \\;\\;;\\quad \\frac{ \\color{#22B14C}{ \\sum\\limits_{m=k}^{n} \\begin{pmatrix} m \\\\ k \\end{pmatrix}} }{ \\color{#0070C0}{ \\sum\\limits_{j=0}^{k} \\begin{pmatrix} n-j \\\\ k-j \\end{pmatrix}} } = \\frac{ \\color{#22B14C}{n+1-k} }{ \\color{#0070C0}{k+1} }$$\n",
    "\n",
    "__$\\quad$ Proposer ci-dessous une saisie Python permettant de vérifier cette formule pour des valeurs particulières de $n$ et $k$.__\n",
    "<br>$\\quad\\;$On pourra s'inspirer des syntaxes fournies dans la question 3.12."
   ]
  },
  {
   "cell_type": "code",
   "execution_count": null,
   "metadata": {},
   "outputs": [],
   "source": [
    "# Proposer ici une vérification de la formule dans un cas particulier\n",
    "\n",
    "n=7\n",
    "k=4\n",
    "\n"
   ]
  },
  {
   "cell_type": "markdown",
   "metadata": {},
   "source": [
    "<br><br>\n",
    "__3.14. Extrait du traité de Pascal:__\n",
    "\n",
    "![Illustration_binomiale_17](https://raw.githubusercontent.com/PythonLycee/PyLyc/master/img/Coeff_bin/Coeff_bin_17.png)\n",
    "\n",
    "__$\\quad$ Sous forme moderne, cette propriété peut s'écrire :__\n",
    "\n",
    "$$\\forall \\; n \\geq 1 \\;\\;;\\; \\forall \\; 0 \\leq k \\leq n \\;\\;;\\quad \\frac{ \\color{#0070C0}{ \\sum\\limits_{j=0}^{n-k} \\begin{pmatrix} n-j \\\\ n-k-j \\end{pmatrix}} }{ \\color{#22B14C}{ \\sum\\limits_{j=0}^{k} \\begin{pmatrix} n-j \\\\ k-j \\end{pmatrix}} } = \\frac{ \\color{#0070C0}{n+1-k} }{ \\color{#22B14C}{k+1} }$$\n",
    "\n",
    "__$\\quad$ Proposer ci-dessous une saisie Python permettant de vérifier cette formule pour des valeurs particulières de $n$ et $k$.__\n",
    "<br>$\\quad\\;$On pourra s'inspirer des syntaxes fournies dans la question 3.12."
   ]
  },
  {
   "cell_type": "code",
   "execution_count": null,
   "metadata": {},
   "outputs": [],
   "source": [
    "# Proposer ici une vérification de la formule dans un cas particulier\n",
    "\n",
    "n=9\n",
    "k=2\n",
    "\n"
   ]
  },
  {
   "cell_type": "markdown",
   "metadata": {},
   "source": [
    "<br><br>\n",
    "__3.15. Extrait du traité de Pascal:__\n",
    "\n",
    "![Illustration_binomiale_18](https://raw.githubusercontent.com/PythonLycee/PyLyc/master/img/Coeff_bin/Coeff_bin_18.png)\n",
    "\n",
    "__$\\quad$ Sous forme moderne, cette propriété peut s'écrire :__\n",
    "\n",
    "$$ \\forall \\; k \\geq 1 \\;\\;;\\quad \\frac{ \\color{#22B14C}{ \\begin{pmatrix} 2k \\\\ k \\end{pmatrix}} }{ 4 \\times \\color{#0070C0}{ \\begin{pmatrix} 2(k-1) \\\\ k-1 \\end{pmatrix}} } = \\frac{ \\color{#22B14C}{2k-1} }{ \\color{#0070C0}{2k} }$$\n",
    "\n",
    "__$\\quad$ Exécuter la cellule ci-dessous, qui permet de vérifier la validité de cette formule pour une valeur particulière de $k$.__"
   ]
  },
  {
   "cell_type": "code",
   "execution_count": null,
   "metadata": {},
   "outputs": [],
   "source": [
    "# Exécuter cette cellule pour vérifier la formule dans un cas particulier\n",
    "\n",
    "\n",
    "k=3\n",
    "\n",
    "a = Combinaison(2*k,k) / (4*Combinaison(2*k-2,k-1))\n",
    "\n",
    "b = (2*k-1)/(2*k)\n",
    "\n",
    "a,b \n"
   ]
  },
  {
   "cell_type": "markdown",
   "metadata": {},
   "source": [
    "![Pascal](https://raw.githubusercontent.com/PythonLycee/PyLyc/master/img/Blaise_Pascal.png)\n",
    "\n",
    "<center> <a href=\"https://fr.wikipedia.org/wiki/Blaise_Pascal\">Blaise Pascal</a> (1623-1662)</center>"
   ]
  },
  {
   "cell_type": "markdown",
   "metadata": {},
   "source": [
    "<i>© Copyright Franck CHEVRIER 2019-2021 https://www.python-lycee.com.</i><br>\n",
    "<i>Les activités partagées sur <a href=\"https://capytale2.ac-paris.fr/web/accueil\"><strong>Capytale</strong></a> sont sous licence <a href=\"https://creativecommons.org/licenses/by-sa/3.0/fr/\">Creative Commons</a>.</i>"
   ]
  }
 ],
 "metadata": {
  "celltoolbar": "Raw Cell Format",
  "kernelspec": {
   "display_name": "Python 3",
   "language": "python",
   "name": "python3"
  },
  "language_info": {
   "codemirror_mode": {
    "name": "ipython",
    "version": 3
   },
   "file_extension": ".py",
   "mimetype": "text/x-python",
   "name": "python",
   "nbconvert_exporter": "python",
   "pygments_lexer": "ipython3",
   "version": "3.7.10"
  }
 },
 "nbformat": 4,
 "nbformat_minor": 2
}
