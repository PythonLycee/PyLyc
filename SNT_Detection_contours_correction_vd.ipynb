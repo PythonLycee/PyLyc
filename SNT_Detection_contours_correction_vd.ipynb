{
 "cells": [
  {
   "cell_type": "markdown",
   "metadata": {},
   "source": [
    "![En tête general](https://raw.githubusercontent.com/PythonLycee/PyLyc/master/img/En_tete_general.png)\n",
    "\n",
    "\n",
    "<i>© Copyright Franck CHEVRIER 2019-2021 https://www.python-lycee.com.</i><br>\n",
    "<i>Les activités partagées sur <a href=\"https://capytale2.ac-paris.fr/web/accueil\"><strong>Capytale</strong></a> sont sous licence <a href=\"https://creativecommons.org/licenses/by-sa/3.0/fr/\">Creative Commons</a>.</i>\n",
    "\n",
    "<span style=\"color: #9317B4\"> Pour exécuter une saisie Python, sélectionner la cellule et valider avec </span><span style=\"color: #B317B4\"><strong>SHIFT+Entrée</strong></span>.\n"
   ]
  },
  {
   "cell_type": "markdown",
   "metadata": {},
   "source": [
    "<BLOCKQUOTE style=\"background-color:#FFDDDD;\">\n",
    "<strong>Avertissement :<br></strong>\n",
    "Les formules des filtres de détection de contours données dans cette activité sont des versions <u>simplifiées</u> par rapport aux formules rigoureuses.\n",
    "</BLOCKQUOTE>"
   ]
  },
  {
   "cell_type": "markdown",
   "metadata": {},
   "source": [
    "# <span style=\"color:#6C3483\">Filtres de détection de contours </span>\n"
   ]
  },
  {
   "cell_type": "markdown",
   "metadata": {},
   "source": [
    "### <span style=\"color:#8E44AD\">Sommaire</span>\n",
    "\n",
    "<span style=\"color:#8E44AD\">0.</span> <a href=\"#0\">Introduction</a><br>\n",
    "<span style=\"color:#8E44AD\">1.</span> <a href=\"#1\">Filtre de Prewitt </a><br>\n",
    "<span style=\"color:#8E44AD\">2.</span> <a href=\"#2\">Filtre de Roberts</a><br>\n",
    "<span style=\"color:#8E44AD\">3.</span> <a href=\"#3\">Filtre de Sobel</a><br>\n",
    "<span style=\"color:#8E44AD\">4.</span> <a href=\"#4\">Complément</a><br>"
   ]
  },
  {
   "cell_type": "markdown",
   "metadata": {},
   "source": [
    "## <span style=\"color:#8E44AD\" id=\"0\">0. Introduction</span>"
   ]
  },
  {
   "cell_type": "markdown",
   "metadata": {},
   "source": [
    "On s'intéresse ici au traitement d'image en <strong>niveaux de gris</strong>, dont la luminosité d'un pixel est codée sur 1 bit (valeur allant de <mark style=\"border: 1px solid black; padding: 5px; background-color:black; color:white; font-size:8px;\">$\\;\\;$0$\\;\\;$</mark> à <mark style=\"border: 1px solid black; padding: 5px; background-color:white; color:black; font-size:8px;\">255</mark> ).<br>\n",
    "Le principe de la détection de contours consiste, à transformer une image pour que ses contours apparaissent en blanc sur fond noir (avec niveaux de gris).\n",
    "<br><br>\n",
    "Pour déterminer la luminosité d'un pixel de détection des contours, on utilise un <strong>filtre</strong> qui permet de calculer cette luminosité à partir des 9 pixels qui entourent le pixel d'origine, comme l'indique le schéma ci-dessous :\n",
    "\n",
    "<img src=\"https://raw.githubusercontent.com/PythonLycee/PyLyc/master/img/schema_filtre.png\" width=\"75%\">"
   ]
  },
  {
   "cell_type": "markdown",
   "metadata": {},
   "source": [
    "<br><br>\n",
    "\n",
    "## <span style=\"color:#8E44AD\" id=\"1\">1. Filtre de Prewitt</span>\n"
   ]
  },
  {
   "cell_type": "markdown",
   "metadata": {},
   "source": [
    "<strong>On fournit la fonction Python <mark style=\"font-family: Consolas;\">Prewitt_v</mark> ci-dessous, qui correspond au calcul mathématique de la <u>partie entière</u> de :<br><br>\n",
    "$$ \\frac { \\lvert \\;NW+W+SW-NE-E-SE \\; \\rvert }{3}$$    \n",
    "</strong>"
   ]
  },
  {
   "cell_type": "code",
   "execution_count": null,
   "metadata": {},
   "outputs": [],
   "source": [
    "#Exécuter cette cellule pour stocker la fonction en mémoire\n",
    "\n",
    "def Prewitt_v(NW,N,NE,W,C,E,SW,S,SE):\n",
    "    '''\n",
    "    Filtre v partiel de Prewitt\n",
    "    '''\n",
    "    return abs( NW + W + SW - NE - E - SE )//3 "
   ]
  },
  {
   "cell_type": "markdown",
   "metadata": {},
   "source": [
    "<strong>1.1. Calculer la valeur du pixel de détection dans chacun des cas suivants pour ce filtre <mark style=\"font-family: Consolas;\">Prewitt_v</mark>.<br>\n",
    "$\\quad\\;\\;$(On pourra effectuer les calculs à l'aide d'appels à la fonction Python <mark style=\"font-family: Consolas;\">Prewitt_v</mark>)</strong>\n",
    "\n",
    "<img src=\"https://raw.githubusercontent.com/PythonLycee/PyLyc/master/img/exemples_filtre.png\" width=\"75%\">"
   ]
  },
  {
   "cell_type": "code",
   "execution_count": null,
   "metadata": {},
   "outputs": [],
   "source": [
    "# Utiliser ces zones Python pour les calculs\n",
    "Prewitt_v(255,255,255,0,255,0,0,0,0)"
   ]
  },
  {
   "cell_type": "code",
   "execution_count": null,
   "metadata": {},
   "outputs": [],
   "source": [
    "Prewitt_v(255,0,0,255,0,0,255,255,0)"
   ]
  },
  {
   "cell_type": "code",
   "execution_count": null,
   "metadata": {},
   "outputs": [],
   "source": [
    "Prewitt_v(0,0,0,0,0,0,0,0,0)"
   ]
  },
  {
   "cell_type": "code",
   "execution_count": null,
   "metadata": {},
   "outputs": [],
   "source": [
    "Prewitt_v(127,0,0,127,0,0,127,127,0)"
   ]
  },
  {
   "cell_type": "markdown",
   "metadata": {},
   "source": [
    "<strong>1.2. Exécuter la fonction Python <mark style=\"font-family: Consolas;\">Visualisation_Filtre</mark> qui, appliquée à <mark style=\"font-family: Consolas;\">Prewitt_v</mark>, permet :<br>\n",
    "<ul>\n",
    "    <li>d'observer l'effet du filtre sur deux images de test</li>\n",
    "    <li>d'observer l'effet du filtre sur la luminosité d'un pixel en fonction des luminosités des pixels alentours (curseurs paramétrables)</li>\n",
    "</ul>\n",
    "</strong>   "
   ]
  },
  {
   "cell_type": "code",
   "execution_count": null,
   "metadata": {},
   "outputs": [],
   "source": [
    "# Exécuter cette cellule\n",
    "from Detection_contours import *\n",
    "\n",
    "Visualisation_Filtre(Prewitt_v)"
   ]
  },
  {
   "cell_type": "markdown",
   "metadata": {},
   "source": [
    "<strong>\n",
    "$\\quad$a. À l'aide des curseurs, vérifier les résultats de la question 1.1.<br>\n",
    "$\\quad$b. En observant les images de test, indiquer quels types de contours semblent être mieux détectés par la fonction <mark style=\"font-family: Consolas;\">Prewitt_v</mark>.</strong>\n",
    "<br><br>\n",
    "<span style=\"color:red;\">\n",
    "    La fonction <mark style=\"font-family: Consolas; color:red;\">Prewitt_v</mark> détecte les contours verticaux. \n",
    "</span>"
   ]
  },
  {
   "cell_type": "markdown",
   "metadata": {},
   "source": [
    "<strong>1.3.a. Écrire une fonction Python <mark style=\"font-family: Consolas;\">Prewitt_h</mark> ci-dessous, qui correspond au calcul mathématique de la <u>partie entière</u> de :<br><br>\n",
    "$$ \\frac { \\lvert \\;NW+N+NE-SW-S-SE \\; \\rvert }{3}$$    \n",
    "</strong>"
   ]
  },
  {
   "cell_type": "code",
   "execution_count": null,
   "metadata": {},
   "outputs": [],
   "source": [
    "# Écrire ici la fonction Prewitt_h\n",
    "\n",
    "def Prewitt_h(NW,N,NE,W,C,E,SW,S,SE):\n",
    "    '''\n",
    "    Filtre h partiel de Prewitt\n",
    "    '''    \n",
    "    return abs( NW + N + NE - SW - S - SE )//3 "
   ]
  },
  {
   "cell_type": "markdown",
   "metadata": {},
   "source": [
    "<strong>\n",
    "$\\quad$b. Exécuter l'appel à la fonction <mark style=\"font-family: Consolas;\">Visualisation_Filtre</mark> ci-dessous pour tester la fonction <mark style=\"font-family: Consolas;\">Prewitt_h</mark>.</strong>"
   ]
  },
  {
   "cell_type": "code",
   "execution_count": null,
   "metadata": {},
   "outputs": [],
   "source": [
    "Visualisation_Filtre(Prewitt_h)"
   ]
  },
  {
   "cell_type": "markdown",
   "metadata": {},
   "source": [
    "<strong>\n",
    "$\\quad$c. Quels types de contours semblent être mieux détectés par la fonction <mark style=\"font-family: Consolas;\">Prewitt_h</mark> ?</strong>\n",
    "<br>\n",
    "<br>\n",
    "<span style=\"color:red;\">\n",
    "    La fonction <mark style=\"font-family: Consolas; color:red;\">Prewitt_h</mark> détecte les contours horizontaux. \n",
    "</span>"
   ]
  },
  {
   "cell_type": "markdown",
   "metadata": {},
   "source": [
    "<strong>1.4. On souhaite maintenant appliquer un filtre <mark style=\"font-family: Consolas;\">Prewitt</mark> qui est la <u>moyenne</u> des deux filtres <mark style=\"font-family: Consolas;\">Prewitt_v</mark> et <mark style=\"font-family: Consolas;\">Prewitt_h</mark>.<br>\n",
    "$\\quad\\;\\;$a. Écrire cette fonction Python <mark style=\"font-family: Consolas;\">Prewitt</mark>.\n"
   ]
  },
  {
   "cell_type": "code",
   "execution_count": null,
   "metadata": {},
   "outputs": [],
   "source": [
    "# Écrire ici la fonction Prewitt\n",
    "\n",
    "def Prewitt(NW,N,NE,W,C,E,SW,S,SE):\n",
    "    '''\n",
    "    Filtre complet de Prewitt\n",
    "    '''\n",
    "    return abs( Prewitt_v(NW,N,NE,W,C,E,SW,S,SE) + Prewitt_h(NW,N,NE,W,C,E,SW,S,SE) )//2"
   ]
  },
  {
   "cell_type": "markdown",
   "metadata": {},
   "source": [
    "<strong>\n",
    "$\\quad$b. Exécuter l'appel à la fonction <mark style=\"font-family: Consolas;\">Visualisation_Filtre</mark> ci-dessous pour tester la fonction <mark style=\"font-family: Consolas;\">Prewitt</mark>.</strong>"
   ]
  },
  {
   "cell_type": "code",
   "execution_count": null,
   "metadata": {},
   "outputs": [],
   "source": [
    "Visualisation_Filtre(Prewitt)"
   ]
  },
  {
   "cell_type": "markdown",
   "metadata": {},
   "source": [
    "<strong>\n",
    "$\\quad$c. Que peut-on dire de la détection des contours de ce filtre <mark style=\"font-family: Consolas;\">Prewitt</mark> par rapport aux deux précédents ?</strong>\n",
    "<br>\n",
    "<br>\n",
    "<span style=\"color:red;\">\n",
    "    La fonction <mark style=\"font-family: Consolas; color:red;\">Prewitt</mark> est un meilleur filtre que les précédents car il détecte à la fois les contours horizontaux et verticaux. \n",
    "</span>"
   ]
  },
  {
   "cell_type": "markdown",
   "metadata": {},
   "source": [
    "<br><br>\n",
    "\n",
    "## <span style=\"color:#8E44AD\" id=\"2\">2. Filtre de Roberts</span>"
   ]
  },
  {
   "cell_type": "markdown",
   "metadata": {},
   "source": [
    "<strong>Le filtre de Roberts correspond au calcul mathématique de la <u>partie entière</u> de :<br><br>\n",
    "$$ \\frac { \\lvert \\; C-SE \\; \\rvert + \\lvert \\; S-E \\; \\rvert   }{2}$$\n",
    "<br>\n",
    "Écrire la fonction Python <mark style=\"font-family: Consolas;\">Roberts</mark> correspondante et tester à l'aide de la fonction <mark style=\"font-family: Consolas;\">Visualisation_Filtre</mark>.\n",
    "</strong>\n"
   ]
  },
  {
   "cell_type": "code",
   "execution_count": null,
   "metadata": {},
   "outputs": [],
   "source": [
    "# Écrire ici la fonction Roberts\n",
    "\n",
    "def Roberts(NW,N,NE,W,C,E,SW,S,SE):\n",
    "    '''\n",
    "    Filtre complet de Roberts\n",
    "    '''\n",
    "    return ( abs( C-SE ) + abs( S-E ) )//2"
   ]
  },
  {
   "cell_type": "code",
   "execution_count": null,
   "metadata": {},
   "outputs": [],
   "source": [
    "# Exécuter cette cellule pour tester le filtre de Roberts\n",
    "\n",
    "Visualisation_Filtre(Roberts)"
   ]
  },
  {
   "cell_type": "markdown",
   "metadata": {},
   "source": [
    "<br><br>\n",
    "\n",
    "## <span style=\"color:#8E44AD\" id=\"3\">3. Filtre de Sobel</span>"
   ]
  },
  {
   "cell_type": "markdown",
   "metadata": {},
   "source": [
    "<strong>3.1. Les 4 fonctions de filtre <mark style=\"font-family: Consolas;\">Sobel_1</mark>, <mark style=\"font-family: Consolas;\">Sobel_2</mark>, <mark style=\"font-family: Consolas;\">Sobel_3</mark> et <mark style=\"font-family: Consolas;\">Sobel_4</mark> données ci-dessous ont pour but de détecter des contours horizontaux, verticaux et obliques.<br>\n",
    "À l'aide d'appels à la fonction <mark style=\"font-family: Consolas;\">Visualisation_Filtre</mark>, associer à chacun de ces filtres la direction qui correspond.<br><br>\n",
    "Aide :<br> On pourra observer les effets des filtres sur le jeu de tests suivant :\n",
    "    \n",
    "\n",
    "<img src=\"https://raw.githubusercontent.com/PythonLycee/PyLyc/master/img/jeu_test_filtre.png\" width=\"50%\">    \n",
    "    \n",
    "</strong>\n",
    "\n",
    "<br>\n",
    "<br>\n",
    "<span style=\"color:red;\">\n",
    "La correspondance est la suivante :</span>\n",
    "<ul style=\"color:red;\">\n",
    "    <li><mark style=\"font-family: Consolas; color:red;\">Sobel_1</mark> : Détection verticale N-S</li>\n",
    "    <li><mark style=\"font-family: Consolas; color:red;\">Sobel_2</mark> : Détection horizontale W-E</li>\n",
    "    <li><mark style=\"font-family: Consolas; color:red;\">Sobel_3</mark> : Détection oblique SW-NE</li>\n",
    "    <li><mark style=\"font-family: Consolas; color:red;\">Sobel_4</mark> : Détection oblique NW-SE</li>\n",
    "</ul>\n"
   ]
  },
  {
   "cell_type": "code",
   "execution_count": null,
   "metadata": {},
   "outputs": [],
   "source": [
    "def Sobel_1(NW,N,NE,W,C,E,SW,S,SE):\n",
    "    '''\n",
    "    Filtre partiel 1 de Sobel\n",
    "    '''\n",
    "    return abs(NW+2*W+SW-NE-2*E-SW) //4\n",
    "\n",
    "\n",
    "def Sobel_2(NW,N,NE,W,C,E,SW,S,SE):\n",
    "    '''\n",
    "    Filtre partiel 2 de Sobel\n",
    "    '''\n",
    "    return abs(NW+2*N+NE-SW-2*S-SE) //4\n",
    "\n",
    "\n",
    "def Sobel_3(NW,N,NE,W,C,E,SW,S,SE):\n",
    "    '''\n",
    "    Filtre partiel 3 de Sobel\n",
    "    '''\n",
    "    return abs(W+2*SW+S-N-2*NE-E) //4\n",
    "\n",
    "\n",
    "def Sobel_4(NW,N,NE,W,C,E,SW,S,SE):\n",
    "    '''\n",
    "    Filtre partiel 4 de Sobel\n",
    "    '''\n",
    "    return abs(W+2*NW+N-E-2*SE-S) //4"
   ]
  },
  {
   "cell_type": "code",
   "execution_count": null,
   "metadata": {},
   "outputs": [],
   "source": [
    "# Effectuer ici des appels à la fonction Visualisation_filtre\n",
    "Visualisation_Filtre(Sobel_1)"
   ]
  },
  {
   "cell_type": "code",
   "execution_count": null,
   "metadata": {},
   "outputs": [],
   "source": [
    "Visualisation_Filtre(Sobel_2)"
   ]
  },
  {
   "cell_type": "code",
   "execution_count": null,
   "metadata": {},
   "outputs": [],
   "source": [
    "Visualisation_Filtre(Sobel_3)"
   ]
  },
  {
   "cell_type": "code",
   "execution_count": null,
   "metadata": {},
   "outputs": [],
   "source": [
    "Visualisation_Filtre(Sobel_4)"
   ]
  },
  {
   "cell_type": "markdown",
   "metadata": {},
   "source": [
    "<strong>3.2. La fonction de filtre <mark style=\"font-family: Consolas;\">Sobel</mark> est la moyenne des 4 filtres précédents.<br>\n",
    "$\\quad\\;\\;$ Écrire et tester cette fonction.\n",
    "    "
   ]
  },
  {
   "cell_type": "code",
   "execution_count": null,
   "metadata": {},
   "outputs": [],
   "source": [
    "# Écrire ici la fonction Sobel\n",
    "\n",
    "def Sobel(NW,N,NE,W,C,E,SW,S,SE):\n",
    "    '''\n",
    "    Filtre complet de Sobel\n",
    "    '''\n",
    "    return (Sobel_1(NW,N,NE,W,C,E,SW,S,SE)+Sobel_2(NW,N,NE,W,C,E,SW,S,SE)+Sobel_3(NW,N,NE,W,C,E,SW,S,SE)+Sobel_4(NW,N,NE,W,C,E,SW,S,SE))//4"
   ]
  },
  {
   "cell_type": "code",
   "execution_count": null,
   "metadata": {},
   "outputs": [],
   "source": [
    "# Effectuer ici un appel à la fonction Visualisation_filtre\n",
    "Visualisation_Filtre(Sobel)"
   ]
  },
  {
   "cell_type": "markdown",
   "metadata": {},
   "source": [
    "## <span style=\"color:#8E44AD\" id=\"4\">4. Complément</span>"
   ]
  },
  {
   "cell_type": "markdown",
   "metadata": {},
   "source": [
    "Le programme qui contient la fonction Python <mark style=\"font-family: Consolas;\">Visualisation_Filtre</mark> utilisée dans cette activité est accessible <a href=\"https://github.com/PythonLycee/PyLyc/blob/master/Detection_contours.py\">ici</a>."
   ]
  },
  {
   "cell_type": "markdown",
   "metadata": {},
   "source": [
    "<i>© Copyright Franck CHEVRIER 2019-2021 https://www.python-lycee.com.</i><br>\n",
    "<i>Les activités partagées sur <a href=\"https://capytale2.ac-paris.fr/web/accueil\"><strong>Capytale</strong></a> sont sous licence <a href=\"https://creativecommons.org/licenses/by-sa/3.0/fr/\">Creative Commons</a>.</i>\n"
   ]
  }
 ],
 "metadata": {
  "celltoolbar": "Raw Cell Format",
  "kernelspec": {
   "display_name": "Python 3",
   "language": "python",
   "name": "python3"
  },
  "language_info": {
   "codemirror_mode": {
    "name": "ipython",
    "version": 3
   },
   "file_extension": ".py",
   "mimetype": "text/x-python",
   "name": "python",
   "nbconvert_exporter": "python",
   "pygments_lexer": "ipython3",
   "version": "3.8.5"
  }
 },
 "nbformat": 4,
 "nbformat_minor": 2
}
