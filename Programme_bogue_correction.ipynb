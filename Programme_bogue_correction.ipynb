{
 "cells": [
  {
   "cell_type": "markdown",
   "metadata": {},
   "source": [
    "![En tête general](img/En_tete_general.png)\n",
    "\n",
    "\n",
    "*(C) Copyright Franck CHEVRIER 2019-2021 http://www.python-lycee.com/*\n",
    "\n",
    "<span style=\"color: #9317B4\"> Pour exécuter une saisie Python, sélectionner la cellule et valider avec </span><span style=\"color: #B317B4\"><strong>SHIFT+Entrée</strong></span>.\n"
   ]
  },
  {
   "cell_type": "markdown",
   "metadata": {},
   "source": [
    "# <span style=\"color:#6C3483\">Corriger un programme bogué simple</span> <span style=\"color:red\">(corrigé)</span>"
   ]
  },
  {
   "cell_type": "markdown",
   "metadata": {},
   "source": [
    "<BLOCKQUOTE style=\"background-color: #F7F2F8; color: #7C39C9;\">\n",
    "Le but de l'activité est :\n",
    "<ul>\n",
    "<li> étant donné un programme très simple, de proposer des jeux de données d'entrée permettant d'en tester toutes les lignes ;</li>\n",
    "<li> de corriger un algorithme ou un programme bogué simple.</li>   \n",
    "</ul>\n",
    "<i>(extrait du <a href=\"https://www.python-lycee.com/tale-ens-scientifique\">programme d'enseignement scientifique en Terminale</a>)</i>\n",
    "    \n",
    "</BLOCKQUOTE>"
   ]
  },
  {
   "cell_type": "markdown",
   "metadata": {},
   "source": [
    "### <span style=\"color:#8E44AD\">Sommaire</span>\n",
    "\n",
    "\n",
    "<span style=\"color:#8E44AD\">I.</span> <a href=\"#1\">Tests avec jeux de données</a><br>\n",
    "<span style=\"color:#8E44AD\">II.</span> <a href=\"#2\">Calcul d'un IMC</a><br>\n",
    "\n"
   ]
  },
  {
   "cell_type": "markdown",
   "metadata": {},
   "source": [
    "<br><br>\n",
    "## <span style=\"color:#8E44AD\" id=\"1\">I. Tests avec jeux de données</span>\n",
    "<br><br>"
   ]
  },
  {
   "cell_type": "markdown",
   "metadata": {},
   "source": [
    "<strong>1. On fournit ci-dessous une fonction Python <mark style=\"font-family: Consolas;\">inverse</mark> qui doit renvoyer l'inverse d'un nombre x entré en argument.<br>\n",
    "$\\quad$Afin de tester cette fonction, on fournit un <strong>jeu de données</strong> sous forme d'une liste nommée <mark style=\"font-family: Consolas;\">Tests</mark>.<br><br> \n",
    "a. Observer la construction de la liste <mark style=\"font-family: Consolas;\">Tests</mark>. Quelles sont les valeurs de ce jeu de données ?<br>\n",
    "b. Exécuter les trois cellules suivantes, et vérifier la réponse à la question a.<br>\n",
    "$\\quad$Expliquer l'erreur obtenue dans la 3<sup>ème</sup> cellule : À quoi correspond-t-elle ?    \n",
    "</strong>"
   ]
  },
  {
   "cell_type": "code",
   "execution_count": 1,
   "metadata": {},
   "outputs": [],
   "source": [
    "# Exécuter les 3 cellules suivantes (Sélectionner les cellules puis SHIFT+Entrée)\n",
    "\n",
    "def inverse(x):\n",
    "    \"\"\"\n",
    "    fonction qui renvoie l'inverse de x\n",
    "    \"\"\"\n",
    "    return 1/x"
   ]
  },
  {
   "cell_type": "code",
   "execution_count": 2,
   "metadata": {
    "scrolled": false
   },
   "outputs": [
    {
     "data": {
      "text/plain": [
       "[-1.0,\n",
       " -0.9,\n",
       " -0.8,\n",
       " -0.7000000000000001,\n",
       " -0.6000000000000001,\n",
       " -0.5,\n",
       " -0.4,\n",
       " -0.30000000000000004,\n",
       " -0.2,\n",
       " -0.1,\n",
       " 0.0,\n",
       " 0.1,\n",
       " 0.2,\n",
       " 0.30000000000000004,\n",
       " 0.4,\n",
       " 0.5,\n",
       " 0.6000000000000001,\n",
       " 0.7000000000000001,\n",
       " 0.8,\n",
       " 0.9,\n",
       " 1.0]"
      ]
     },
     "execution_count": 2,
     "metadata": {},
     "output_type": "execute_result"
    }
   ],
   "source": [
    "Tests = [ 0.1*k for k in range(-10,11) ]\n",
    "Tests"
   ]
  },
  {
   "cell_type": "code",
   "execution_count": 3,
   "metadata": {},
   "outputs": [
    {
     "name": "stdout",
     "output_type": "stream",
     "text": [
      "-1.0\n",
      "-1.1111111111111112\n",
      "-1.25\n",
      "-1.4285714285714284\n",
      "-1.6666666666666665\n",
      "-2.0\n",
      "-2.5\n",
      "-3.333333333333333\n",
      "-5.0\n",
      "-10.0\n"
     ]
    },
    {
     "ename": "ZeroDivisionError",
     "evalue": "float division by zero",
     "output_type": "error",
     "traceback": [
      "\u001b[1;31m---------------------------------------------------------------------------\u001b[0m",
      "\u001b[1;31mZeroDivisionError\u001b[0m                         Traceback (most recent call last)",
      "\u001b[1;32m<ipython-input-3-e84761558f62>\u001b[0m in \u001b[0;36m<module>\u001b[1;34m\u001b[0m\n\u001b[0;32m      1\u001b[0m \u001b[1;32mfor\u001b[0m \u001b[0mx\u001b[0m \u001b[1;32min\u001b[0m \u001b[0mTests\u001b[0m\u001b[1;33m:\u001b[0m\u001b[1;33m\u001b[0m\u001b[1;33m\u001b[0m\u001b[0m\n\u001b[1;32m----> 2\u001b[1;33m     \u001b[0mprint\u001b[0m\u001b[1;33m(\u001b[0m\u001b[0minverse\u001b[0m\u001b[1;33m(\u001b[0m\u001b[0mx\u001b[0m\u001b[1;33m)\u001b[0m\u001b[1;33m)\u001b[0m\u001b[1;33m\u001b[0m\u001b[1;33m\u001b[0m\u001b[0m\n\u001b[0m",
      "\u001b[1;32m<ipython-input-1-e633d0afc7b2>\u001b[0m in \u001b[0;36minverse\u001b[1;34m(x)\u001b[0m\n\u001b[0;32m      5\u001b[0m     \u001b[0mfonction\u001b[0m \u001b[0mqui\u001b[0m \u001b[0mrenvoie\u001b[0m \u001b[0ml\u001b[0m\u001b[0;31m'\u001b[0m\u001b[0minverse\u001b[0m \u001b[0mde\u001b[0m \u001b[0mx\u001b[0m\u001b[1;33m\u001b[0m\u001b[1;33m\u001b[0m\u001b[0m\n\u001b[0;32m      6\u001b[0m     \"\"\"\n\u001b[1;32m----> 7\u001b[1;33m     \u001b[1;32mreturn\u001b[0m \u001b[1;36m1\u001b[0m\u001b[1;33m/\u001b[0m\u001b[0mx\u001b[0m\u001b[1;33m\u001b[0m\u001b[1;33m\u001b[0m\u001b[0m\n\u001b[0m",
      "\u001b[1;31mZeroDivisionError\u001b[0m: float division by zero"
     ]
    }
   ],
   "source": [
    "for x in Tests: \n",
    "    print(inverse(x))"
   ]
  },
  {
   "cell_type": "markdown",
   "metadata": {},
   "source": [
    "<strong>\n",
    "c. Modifier la fonction <mark style=\"font-family: Consolas;\">inverse</mark> pour qu'elle renvoie la valeur <mark style=\"font-family: Consolas;\">None</mark> pour la(les) valeur(s) de <mark style=\"font-family: Consolas;\">x</mark> qui a(ont) posé problème.\n",
    "</strong>"
   ]
  },
  {
   "cell_type": "code",
   "execution_count": 4,
   "metadata": {},
   "outputs": [],
   "source": [
    "# Écrire ici la fonction inverse modifiée\n",
    "\n",
    "def inverse(x):\n",
    "    \"\"\"\n",
    "    fonction qui renvoie l'inverse de x\n",
    "    \"\"\"\n",
    "    if x==0 : return None\n",
    "    return 1/x"
   ]
  },
  {
   "cell_type": "markdown",
   "metadata": {},
   "source": [
    "<strong>\n",
    "    d. Effectuer ici le test de la nouvelle fonction <mark style=\"font-family: Consolas;\">inverse</mark> avec le jeu de données <mark style=\"font-family: Consolas;\">Tests</mark>.<br>\n",
    "$\\quad$Quel est l'avantage d'avoir ainsi débogué la fonction ?\n",
    "</strong>"
   ]
  },
  {
   "cell_type": "code",
   "execution_count": 5,
   "metadata": {},
   "outputs": [
    {
     "name": "stdout",
     "output_type": "stream",
     "text": [
      "-1.0\n",
      "-1.1111111111111112\n",
      "-1.25\n",
      "-1.4285714285714284\n",
      "-1.6666666666666665\n",
      "-2.0\n",
      "-2.5\n",
      "-3.333333333333333\n",
      "-5.0\n",
      "-10.0\n",
      "None\n",
      "10.0\n",
      "5.0\n",
      "3.333333333333333\n",
      "2.5\n",
      "2.0\n",
      "1.6666666666666665\n",
      "1.4285714285714284\n",
      "1.25\n",
      "1.1111111111111112\n",
      "1.0\n"
     ]
    }
   ],
   "source": [
    "#Effectuer ici le test\n",
    "for x in Tests: \n",
    "    print( inverse(x) )"
   ]
  },
  {
   "cell_type": "markdown",
   "metadata": {},
   "source": [
    "<br><br>\n",
    "<strong>\n",
    "2. On considère la fonction <mark style=\"font-family: Consolas;\">moyenne</mark> donnée ci-dessous, qui doit permettre de calculer la moyenne d'une liste de valeurs.<br>\n",
    "$\\quad$On donne également une syntaxe permettant de générer aléatoirement un jeu de données <mark style=\"font-family: Consolas;\">Tests</mark> contenant des listes de valeurs.<br>\n",
    "<br>\n",
    "a. Exécuter la cellule Python suivante.<br>\n",
    "$\\quad$Quel type de liste contient le jeu de données <mark style=\"font-family: Consolas;\">Tests</mark> ? Combien y en a-t-il?<br>\n",
    "$\\quad$Comment ces listes sont-elles générées ?<br>\n",
    "</strong>"
   ]
  },
  {
   "cell_type": "code",
   "execution_count": 6,
   "metadata": {},
   "outputs": [
    {
     "data": {
      "text/plain": [
       "[[18],\n",
       " [1, 18, 17, 13, 10, 19],\n",
       " [20],\n",
       " [19, 14],\n",
       " [],\n",
       " [7],\n",
       " [12],\n",
       " [],\n",
       " [14, 4, 6],\n",
       " [4, 4, 16],\n",
       " [5, 3],\n",
       " [10, 19, 16],\n",
       " [0, 7, 14, 20, 0, 8],\n",
       " [20, 10, 20, 7],\n",
       " [7, 10, 19, 18, 10, 8],\n",
       " [7, 11],\n",
       " [10, 10, 17, 16],\n",
       " [4, 14, 15, 14],\n",
       " [],\n",
       " [7, 6, 11, 6],\n",
       " [20, 10, 3],\n",
       " [9, 13, 3],\n",
       " [],\n",
       " [5, 3],\n",
       " [2, 17, 3, 2, 2],\n",
       " [],\n",
       " [],\n",
       " [17, 15, 17, 7, 5],\n",
       " [20],\n",
       " [7, 20, 11, 18, 5]]"
      ]
     },
     "execution_count": 6,
     "metadata": {},
     "output_type": "execute_result"
    }
   ],
   "source": [
    "# Sélectionner cette zone puis SHIFT+ENTREE\n",
    "\n",
    "def moyenne(L):\n",
    "    \"\"\"\n",
    "    fonction qui renvoie la moyenne d'une liste de valeurs\n",
    "    \"\"\"\n",
    "    return sum(L)/len(L)\n",
    "\n",
    "\n",
    "from random import randint \n",
    "\n",
    "Tests = [ [ randint(0,20) for j in range(randint(0,6)) ] for k in range(30)]\n",
    "Tests"
   ]
  },
  {
   "cell_type": "markdown",
   "metadata": {},
   "source": [
    "<strong>\n",
    "b. Effectuer une saisie Python pour tester la fonction <mark style=\"font-family: Consolas;\">moyenne</mark> avec le jeu de données <mark style=\"font-family: Consolas;\">Tests</mark>.<br>\n",
    "$\\quad$Observer et expliquer le résultat.\n",
    "</strong>"
   ]
  },
  {
   "cell_type": "code",
   "execution_count": 7,
   "metadata": {},
   "outputs": [
    {
     "name": "stdout",
     "output_type": "stream",
     "text": [
      "18.0\n",
      "13.0\n",
      "20.0\n",
      "16.5\n"
     ]
    },
    {
     "ename": "ZeroDivisionError",
     "evalue": "division by zero",
     "output_type": "error",
     "traceback": [
      "\u001b[1;31m---------------------------------------------------------------------------\u001b[0m",
      "\u001b[1;31mZeroDivisionError\u001b[0m                         Traceback (most recent call last)",
      "\u001b[1;32m<ipython-input-7-0479bd5e03ad>\u001b[0m in \u001b[0;36m<module>\u001b[1;34m\u001b[0m\n\u001b[0;32m      2\u001b[0m \u001b[1;33m\u001b[0m\u001b[0m\n\u001b[0;32m      3\u001b[0m \u001b[1;32mfor\u001b[0m \u001b[0mliste\u001b[0m \u001b[1;32min\u001b[0m \u001b[0mTests\u001b[0m\u001b[1;33m:\u001b[0m\u001b[1;33m\u001b[0m\u001b[1;33m\u001b[0m\u001b[0m\n\u001b[1;32m----> 4\u001b[1;33m     \u001b[0mprint\u001b[0m\u001b[1;33m(\u001b[0m \u001b[0mmoyenne\u001b[0m\u001b[1;33m(\u001b[0m\u001b[0mliste\u001b[0m\u001b[1;33m)\u001b[0m \u001b[1;33m)\u001b[0m\u001b[1;33m\u001b[0m\u001b[1;33m\u001b[0m\u001b[0m\n\u001b[0m",
      "\u001b[1;32m<ipython-input-6-e0a0c8114274>\u001b[0m in \u001b[0;36mmoyenne\u001b[1;34m(L)\u001b[0m\n\u001b[0;32m      5\u001b[0m     \u001b[0mfonction\u001b[0m \u001b[0mqui\u001b[0m \u001b[0mrenvoie\u001b[0m \u001b[0mla\u001b[0m \u001b[0mmoyenne\u001b[0m \u001b[0md\u001b[0m\u001b[0;31m'\u001b[0m\u001b[0mune\u001b[0m \u001b[0mliste\u001b[0m \u001b[0mde\u001b[0m \u001b[0mvaleurs\u001b[0m\u001b[1;33m\u001b[0m\u001b[1;33m\u001b[0m\u001b[0m\n\u001b[0;32m      6\u001b[0m     \"\"\"\n\u001b[1;32m----> 7\u001b[1;33m     \u001b[1;32mreturn\u001b[0m \u001b[0msum\u001b[0m\u001b[1;33m(\u001b[0m\u001b[0mL\u001b[0m\u001b[1;33m)\u001b[0m\u001b[1;33m/\u001b[0m\u001b[0mlen\u001b[0m\u001b[1;33m(\u001b[0m\u001b[0mL\u001b[0m\u001b[1;33m)\u001b[0m\u001b[1;33m\u001b[0m\u001b[1;33m\u001b[0m\u001b[0m\n\u001b[0m\u001b[0;32m      8\u001b[0m \u001b[1;33m\u001b[0m\u001b[0m\n\u001b[0;32m      9\u001b[0m \u001b[1;33m\u001b[0m\u001b[0m\n",
      "\u001b[1;31mZeroDivisionError\u001b[0m: division by zero"
     ]
    }
   ],
   "source": [
    "# Effectuer ici la saisie pour tester la fonction moyenne avec le jeu de données Tests\n",
    "\n",
    "for liste in Tests:\n",
    "    print( moyenne(liste) )"
   ]
  },
  {
   "cell_type": "markdown",
   "metadata": {},
   "source": [
    "<strong>\n",
    "c. Effectuer un déboguage de la fonction <mark style=\"font-family: Consolas;\">moyenne</mark>.\n",
    "</strong>"
   ]
  },
  {
   "cell_type": "code",
   "execution_count": 8,
   "metadata": {},
   "outputs": [],
   "source": [
    "# Écrire ici la fonction moyenne déboguée\n",
    "\n",
    "def moyenne(L):\n",
    "    \"\"\"\n",
    "    fonction qui renvoie la moyenne d'une liste de valeurs\n",
    "    \"\"\"\n",
    "    if len(L) == 0 : return None\n",
    "    return sum(L)/len(L)"
   ]
  },
  {
   "cell_type": "code",
   "execution_count": 9,
   "metadata": {},
   "outputs": [
    {
     "name": "stdout",
     "output_type": "stream",
     "text": [
      "18.0\n",
      "13.0\n",
      "20.0\n",
      "16.5\n",
      "None\n",
      "7.0\n",
      "12.0\n",
      "None\n",
      "8.0\n",
      "8.0\n",
      "4.0\n",
      "15.0\n",
      "8.166666666666666\n",
      "14.25\n",
      "12.0\n",
      "9.0\n",
      "13.25\n",
      "11.75\n",
      "None\n",
      "7.5\n",
      "11.0\n",
      "8.333333333333334\n",
      "None\n",
      "4.0\n",
      "5.2\n",
      "None\n",
      "None\n",
      "12.2\n",
      "20.0\n",
      "12.2\n"
     ]
    }
   ],
   "source": [
    "# Effectuer ici la saisie pour tester la nouvelle fonction moyenne avec le jeu de données Tests\n",
    "\n",
    "for liste in Tests:\n",
    "    print( moyenne(liste) )"
   ]
  },
  {
   "cell_type": "markdown",
   "metadata": {},
   "source": [
    "<br><br>\n",
    "<strong>\n",
    "3. On considère la fonction Python <mark style=\"font-family: Consolas;\">resolution</mark>, qui doit permettre de résoudre une équation mathématique du type $ax+b=c$.<br>\n",
    "$\\quad$Exécuter les cellules pour tester avec le jeu de données <mark style=\"font-family: Consolas;\">Tests</mark>.<br>\n",
    "$\\quad$Proposer un déboguage.\n",
    "</strong>"
   ]
  },
  {
   "cell_type": "code",
   "execution_count": 10,
   "metadata": {},
   "outputs": [],
   "source": [
    "def resolution(a,b,c):\n",
    "    \"\"\"\n",
    "    fonction qui renvoie la solution de l'équation ax+b = c\n",
    "    \"\"\"\n",
    "    return (c-b)/a\n",
    "    "
   ]
  },
  {
   "cell_type": "code",
   "execution_count": 11,
   "metadata": {},
   "outputs": [
    {
     "name": "stdout",
     "output_type": "stream",
     "text": [
      "-1.1666666666666667\n",
      "1.3\n",
      "-2.5\n",
      "-4.5\n",
      "-0.4\n",
      "1.75\n",
      "-3.0\n",
      "2.5\n",
      "-0.8\n",
      "-3.6666666666666665\n",
      "-8.0\n",
      "0.1\n",
      "-1.0\n",
      "-0.25\n",
      "3.75\n",
      "7.0\n",
      "-0.25\n",
      "1.0\n",
      "1.125\n",
      "3.0\n",
      "0.3\n",
      "-0.2857142857142857\n",
      "0.16666666666666666\n",
      "1.25\n",
      "-12.0\n",
      "3.0\n",
      "-0.4\n",
      "-1.3333333333333333\n",
      "-0.8333333333333334\n"
     ]
    },
    {
     "ename": "ZeroDivisionError",
     "evalue": "division by zero",
     "output_type": "error",
     "traceback": [
      "\u001b[1;31m---------------------------------------------------------------------------\u001b[0m",
      "\u001b[1;31mZeroDivisionError\u001b[0m                         Traceback (most recent call last)",
      "\u001b[1;32m<ipython-input-11-707401644d76>\u001b[0m in \u001b[0;36m<module>\u001b[1;34m\u001b[0m\n\u001b[0;32m      3\u001b[0m \u001b[1;33m\u001b[0m\u001b[0m\n\u001b[0;32m      4\u001b[0m \u001b[1;32mfor\u001b[0m \u001b[0mvaleurs\u001b[0m \u001b[1;32min\u001b[0m \u001b[0mTests\u001b[0m\u001b[1;33m:\u001b[0m\u001b[1;33m\u001b[0m\u001b[1;33m\u001b[0m\u001b[0m\n\u001b[1;32m----> 5\u001b[1;33m     \u001b[0mprint\u001b[0m\u001b[1;33m(\u001b[0m \u001b[0mresolution\u001b[0m\u001b[1;33m(\u001b[0m\u001b[1;33m*\u001b[0m\u001b[0mvaleurs\u001b[0m\u001b[1;33m)\u001b[0m \u001b[1;33m)\u001b[0m\u001b[1;33m\u001b[0m\u001b[1;33m\u001b[0m\u001b[0m\n\u001b[0m",
      "\u001b[1;32m<ipython-input-10-fc11e2ad340b>\u001b[0m in \u001b[0;36mresolution\u001b[1;34m(a, b, c)\u001b[0m\n\u001b[0;32m      3\u001b[0m     \u001b[0mfonction\u001b[0m \u001b[0mqui\u001b[0m \u001b[0mrenvoie\u001b[0m \u001b[0mla\u001b[0m \u001b[0msolution\u001b[0m \u001b[0mde\u001b[0m \u001b[0ml\u001b[0m\u001b[0;31m'\u001b[0m\u001b[0méquation\u001b[0m \u001b[0max\u001b[0m\u001b[1;33m+\u001b[0m\u001b[0mb\u001b[0m \u001b[1;33m=\u001b[0m \u001b[0mc\u001b[0m\u001b[1;33m\u001b[0m\u001b[1;33m\u001b[0m\u001b[0m\n\u001b[0;32m      4\u001b[0m     \"\"\"\n\u001b[1;32m----> 5\u001b[1;33m     \u001b[1;32mreturn\u001b[0m \u001b[1;33m(\u001b[0m\u001b[0mc\u001b[0m\u001b[1;33m-\u001b[0m\u001b[0mb\u001b[0m\u001b[1;33m)\u001b[0m\u001b[1;33m/\u001b[0m\u001b[0ma\u001b[0m\u001b[1;33m\u001b[0m\u001b[1;33m\u001b[0m\u001b[0m\n\u001b[0m\u001b[0;32m      6\u001b[0m \u001b[1;33m\u001b[0m\u001b[0m\n",
      "\u001b[1;31mZeroDivisionError\u001b[0m: division by zero"
     ]
    }
   ],
   "source": [
    "Tests = [ (randint(-10,10),randint(-10,10),randint(-10,10)) for k in range(30)]\n",
    "Tests\n",
    "\n",
    "for valeurs in Tests:\n",
    "    print( resolution(*valeurs) )"
   ]
  },
  {
   "cell_type": "code",
   "execution_count": 12,
   "metadata": {},
   "outputs": [],
   "source": [
    "def resolution(a,b,c):\n",
    "    \"\"\"\n",
    "    fonction qui renvoie la solution de l'équation ax+b = c\n",
    "    \"\"\"\n",
    "    if a==0 :\n",
    "        if b==c:\n",
    "            return \"All\"\n",
    "        else:\n",
    "            return None\n",
    "    return (c-b)/a"
   ]
  },
  {
   "cell_type": "code",
   "execution_count": 13,
   "metadata": {},
   "outputs": [
    {
     "name": "stdout",
     "output_type": "stream",
     "text": [
      "-1.1666666666666667\n",
      "1.3\n",
      "-2.5\n",
      "-4.5\n",
      "-0.4\n",
      "1.75\n",
      "-3.0\n",
      "2.5\n",
      "-0.8\n",
      "-3.6666666666666665\n",
      "-8.0\n",
      "0.1\n",
      "-1.0\n",
      "-0.25\n",
      "3.75\n",
      "7.0\n",
      "-0.25\n",
      "1.0\n",
      "1.125\n",
      "3.0\n",
      "0.3\n",
      "-0.2857142857142857\n",
      "0.16666666666666666\n",
      "1.25\n",
      "-12.0\n",
      "3.0\n",
      "-0.4\n",
      "-1.3333333333333333\n",
      "-0.8333333333333334\n",
      "None\n"
     ]
    }
   ],
   "source": [
    "for valeurs in Tests:\n",
    "    print( resolution(*valeurs) )"
   ]
  },
  {
   "cell_type": "markdown",
   "metadata": {},
   "source": [
    "<br><br>\n",
    "<strong>\n",
    "4. Écrire une fonction Python <mark style=\"font-family: Consolas;\">vitesse</mark> permettant de calculer une vitesse moyenne, connaissant:\n",
    "<ul>\n",
    "    <li> la distance parcourue (en km) ;</li>\n",
    "    <li> le temps écoulé (en h).</li>\n",
    "</ul>\n",
    "$\\quad$Effectuer un test et un déboguage de la fonction.\n",
    "</strong>"
   ]
  },
  {
   "cell_type": "code",
   "execution_count": 14,
   "metadata": {},
   "outputs": [],
   "source": [
    "# Utiliser ces zones pour définir la fonction, la tester et la déboguer\n",
    "def vitesse(d,t):\n",
    "    return d/t"
   ]
  },
  {
   "cell_type": "code",
   "execution_count": 15,
   "metadata": {},
   "outputs": [
    {
     "name": "stdout",
     "output_type": "stream",
     "text": [
      "5.9\n",
      "5.6\n",
      "4.0\n",
      "25.333333333333332\n",
      "17.0\n",
      "0.5\n",
      "42.5\n"
     ]
    },
    {
     "ename": "ZeroDivisionError",
     "evalue": "division by zero",
     "output_type": "error",
     "traceback": [
      "\u001b[1;31m---------------------------------------------------------------------------\u001b[0m",
      "\u001b[1;31mZeroDivisionError\u001b[0m                         Traceback (most recent call last)",
      "\u001b[1;32m<ipython-input-15-fb7937317e59>\u001b[0m in \u001b[0;36m<module>\u001b[1;34m\u001b[0m\n\u001b[0;32m      3\u001b[0m \u001b[1;33m\u001b[0m\u001b[0m\n\u001b[0;32m      4\u001b[0m \u001b[1;32mfor\u001b[0m \u001b[0mvaleurs\u001b[0m \u001b[1;32min\u001b[0m \u001b[0mTests\u001b[0m\u001b[1;33m:\u001b[0m\u001b[1;33m\u001b[0m\u001b[1;33m\u001b[0m\u001b[0m\n\u001b[1;32m----> 5\u001b[1;33m     \u001b[0mprint\u001b[0m\u001b[1;33m(\u001b[0m \u001b[0mvitesse\u001b[0m\u001b[1;33m(\u001b[0m\u001b[1;33m*\u001b[0m\u001b[0mvaleurs\u001b[0m\u001b[1;33m)\u001b[0m \u001b[1;33m)\u001b[0m\u001b[1;33m\u001b[0m\u001b[1;33m\u001b[0m\u001b[0m\n\u001b[0m",
      "\u001b[1;32m<ipython-input-14-98b23b5cb429>\u001b[0m in \u001b[0;36mvitesse\u001b[1;34m(d, t)\u001b[0m\n\u001b[0;32m      1\u001b[0m \u001b[1;31m# Utiliser ces zones pour définir la fonction, la tester et la déboguer\u001b[0m\u001b[1;33m\u001b[0m\u001b[1;33m\u001b[0m\u001b[1;33m\u001b[0m\u001b[0m\n\u001b[0;32m      2\u001b[0m \u001b[1;32mdef\u001b[0m \u001b[0mvitesse\u001b[0m\u001b[1;33m(\u001b[0m\u001b[0md\u001b[0m\u001b[1;33m,\u001b[0m\u001b[0mt\u001b[0m\u001b[1;33m)\u001b[0m\u001b[1;33m:\u001b[0m\u001b[1;33m\u001b[0m\u001b[1;33m\u001b[0m\u001b[0m\n\u001b[1;32m----> 3\u001b[1;33m     \u001b[1;32mreturn\u001b[0m \u001b[0md\u001b[0m\u001b[1;33m/\u001b[0m\u001b[0mt\u001b[0m\u001b[1;33m\u001b[0m\u001b[1;33m\u001b[0m\u001b[0m\n\u001b[0m",
      "\u001b[1;31mZeroDivisionError\u001b[0m: division by zero"
     ]
    }
   ],
   "source": [
    "Tests = [ (randint(0,100),randint(0,10)) for k in range(30)]\n",
    "Tests\n",
    "\n",
    "for valeurs in Tests:\n",
    "    print( vitesse(*valeurs) )"
   ]
  },
  {
   "cell_type": "code",
   "execution_count": 16,
   "metadata": {},
   "outputs": [],
   "source": [
    "#version déboguée\n",
    "def vitesse(d,t):\n",
    "    if t==0: return None\n",
    "    return d/t"
   ]
  },
  {
   "cell_type": "code",
   "execution_count": 17,
   "metadata": {},
   "outputs": [
    {
     "name": "stdout",
     "output_type": "stream",
     "text": [
      "5.9\n",
      "5.6\n",
      "4.0\n",
      "25.333333333333332\n",
      "17.0\n",
      "0.5\n",
      "42.5\n",
      "None\n",
      "8.0\n",
      "15.0\n",
      "4.5\n",
      "9.3\n",
      "4.0\n",
      "22.5\n",
      "28.0\n",
      "2.6666666666666665\n",
      "5.777777777777778\n",
      "4.888888888888889\n",
      "3.8333333333333335\n",
      "None\n",
      "8.4\n",
      "1.875\n",
      "35.5\n",
      "None\n",
      "27.333333333333332\n",
      "11.428571428571429\n",
      "39.5\n",
      "13.666666666666666\n",
      "48.5\n",
      "8.5\n"
     ]
    }
   ],
   "source": [
    "for valeurs in Tests:\n",
    "    print( vitesse(*valeurs) )"
   ]
  },
  {
   "cell_type": "markdown",
   "metadata": {},
   "source": [
    "<br><br>\n",
    "## <span style=\"color:#8E44AD\" id=\"2\">II. Calcul d'un IMC</span>\n",
    "<br>"
   ]
  },
  {
   "cell_type": "markdown",
   "metadata": {},
   "source": [
    "<figure style=\"float: right;\">\n",
    "    <img src=\"img/IMC_illu.jpg\">\n",
    "</figure>\n",
    "\n",
    "<strong>\n",
    "L'indice de masse corporelle ( $\\text{IMC}$ ) d'un individu se calcule à l'aide de la formule $\\displaystyle \\text{IMC} = \\frac{m}{t^2}$ où :\n",
    "<ul>\n",
    "    <li>$m$ est la masse de l'individu (exprimée en kg) ;</li>\n",
    "    <li>$t$ est sa taille (exprimée en m).</li>\n",
    "</ul>\n",
    "On peut ensuite effectuer un diagnostic rapide à l'aide du tableau ci-dessous.<br>\n",
    "    \n",
    "<img src=\"img/IMC.png\">"
   ]
  },
  {
   "cell_type": "markdown",
   "metadata": {},
   "source": [
    "<strong>\n",
    "    On fournit la fonction Python <mark style=\"font-family: Consolas;\">diagnostic</mark> ci-dessous, qui doit permettre de d'effectuer ce diagnostic à partir de <mark style=\"font-family: Consolas;\">m</mark> et <mark style=\"font-family: Consolas;\">t</mark>.<br><br>\n",
    "1. Expliquer comment est généré le jeu de données <mark style=\"font-family: Consolas;\">Tests</mark>.<br>\n",
    "2. Exécuter les cellules pour effectuer les tests.<br>\n",
    "$\\quad$La fonction donne-t-elle toujours le résultat attendu ? Expliquer et déboguer si nécessaire.\n",
    "</strong>"
   ]
  },
  {
   "cell_type": "code",
   "execution_count": 18,
   "metadata": {},
   "outputs": [],
   "source": [
    "def diagnostic(m,t):\n",
    "    \"\"\"\n",
    "    fonction effectuant le diagnostic à partir de la masse et de la taille\n",
    "    \"\"\"\n",
    "        \n",
    "    IMC = m/t**2\n",
    "    \n",
    "    if IMC<18.5:\n",
    "        bilan = \"maigreur\"\n",
    "        \n",
    "    if IMC<25:\n",
    "        bilan = \"dans la norme\"\n",
    "    \n",
    "    if IMC>25: \n",
    "        bilan = \"obésité\"\n",
    "    \n",
    "    return bilan\n",
    "\n"
   ]
  },
  {
   "cell_type": "code",
   "execution_count": 19,
   "metadata": {},
   "outputs": [
    {
     "name": "stdout",
     "output_type": "stream",
     "text": [
      "(72, 1.67) obésité\n",
      "(104, 1.47) obésité\n",
      "(91, 1.81) obésité\n",
      "(54, 1.9) dans la norme\n",
      "(80, 1.44) obésité\n",
      "(48, 1.92) dans la norme\n",
      "(95, 1.66) obésité\n",
      "(102, 1.47) obésité\n",
      "(47, 1.63) dans la norme\n",
      "(95, 1.53) obésité\n",
      "(57, 1.42) obésité\n",
      "(45, 1.65) dans la norme\n",
      "(63, 1.76) dans la norme\n",
      "(78, 1.46) obésité\n",
      "(60, 1.32) obésité\n",
      "(50, 1.68) dans la norme\n",
      "(59, 1.94) dans la norme\n",
      "(96, 1.47) obésité\n",
      "(46, 1.75) dans la norme\n",
      "(105, 1.69) obésité\n",
      "(64, 1.47) obésité\n",
      "(56, 1.65) dans la norme\n",
      "(50, 1.83) dans la norme\n",
      "(45, 1.77) dans la norme\n",
      "(76, 1.8) dans la norme\n",
      "(85, 1.69) obésité\n",
      "(65, 1.68) dans la norme\n",
      "(102, 1.88) obésité\n",
      "(73, 1.5) obésité\n",
      "(80, 1.35) obésité\n"
     ]
    }
   ],
   "source": [
    "# Quelques tests:\n",
    "\n",
    "from random import randint \n",
    "Tests = [ ( randint(45,110) , randint(130,200)/100) for k in range(30) ]\n",
    "\n",
    "for donnees in Tests:\n",
    "    print( donnees,diagnostic(*donnees) )"
   ]
  },
  {
   "cell_type": "code",
   "execution_count": 20,
   "metadata": {},
   "outputs": [],
   "source": [
    "# Fonction déboguée\n",
    "\n",
    "def diagnostic(m,t):\n",
    "    \"\"\"\n",
    "    fonction effectuant le diagnostic à partir de la masse et de la taille\n",
    "    \"\"\"\n",
    "        \n",
    "    IMC = m/t**2\n",
    "    \n",
    "    if IMC<18.5:\n",
    "        bilan = \"maigreur\"\n",
    "        \n",
    "    elif IMC<25:\n",
    "        bilan = \"IMC dans la norme\"\n",
    "    \n",
    "    else: \n",
    "        bilan = \"obésité\"\n",
    "    \n",
    "    return bilan"
   ]
  },
  {
   "cell_type": "code",
   "execution_count": 21,
   "metadata": {},
   "outputs": [
    {
     "name": "stdout",
     "output_type": "stream",
     "text": [
      "(72, 1.67) obésité\n",
      "(104, 1.47) obésité\n",
      "(91, 1.81) obésité\n",
      "(54, 1.9) maigreur\n",
      "(80, 1.44) obésité\n",
      "(48, 1.92) maigreur\n",
      "(95, 1.66) obésité\n",
      "(102, 1.47) obésité\n",
      "(47, 1.63) maigreur\n",
      "(95, 1.53) obésité\n",
      "(57, 1.42) obésité\n",
      "(45, 1.65) maigreur\n",
      "(63, 1.76) IMC dans la norme\n",
      "(78, 1.46) obésité\n",
      "(60, 1.32) obésité\n",
      "(50, 1.68) maigreur\n",
      "(59, 1.94) maigreur\n",
      "(96, 1.47) obésité\n",
      "(46, 1.75) maigreur\n",
      "(105, 1.69) obésité\n",
      "(64, 1.47) obésité\n",
      "(56, 1.65) IMC dans la norme\n",
      "(50, 1.83) maigreur\n",
      "(45, 1.77) maigreur\n",
      "(76, 1.8) IMC dans la norme\n",
      "(85, 1.69) obésité\n",
      "(65, 1.68) IMC dans la norme\n",
      "(102, 1.88) obésité\n",
      "(73, 1.5) obésité\n",
      "(80, 1.35) obésité\n"
     ]
    }
   ],
   "source": [
    "for donnees in Tests:\n",
    "    print( donnees,diagnostic(*donnees) )"
   ]
  },
  {
   "cell_type": "markdown",
   "metadata": {},
   "source": [
    "*(C) Copyright Franck CHEVRIER 2019-2021 http://www.python-lycee.com/*\n"
   ]
  }
 ],
 "metadata": {
  "celltoolbar": "Raw Cell Format",
  "kernelspec": {
   "display_name": "Python 3",
   "language": "python",
   "name": "python3"
  },
  "language_info": {
   "codemirror_mode": {
    "name": "ipython",
    "version": 3
   },
   "file_extension": ".py",
   "mimetype": "text/x-python",
   "name": "python",
   "nbconvert_exporter": "python",
   "pygments_lexer": "ipython3",
   "version": "3.8.5"
  }
 },
 "nbformat": 4,
 "nbformat_minor": 2
}
