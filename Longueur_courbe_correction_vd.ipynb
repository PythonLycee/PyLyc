{
 "cells": [
  {
   "cell_type": "markdown",
   "metadata": {},
   "source": [
    "![En tête general](https://raw.githubusercontent.com/PythonLycee/PyLyc/master/img/En_tete_general.png)\n",
    "\n",
    "\n",
    "<i>© Copyright Franck CHEVRIER 2019-2021 https://www.python-lycee.com.</i><br>\n",
    "<i>Les activités partagées sur <a href=\"https://capytale2.ac-paris.fr/web/accueil\"><strong>Capytale</strong></a> sont sous licence <a href=\"https://creativecommons.org/licenses/by-sa/3.0/fr/\">Creative Commons</a>.</i>\n",
    "\n",
    "<span style=\"color: #9317B4\"> Pour exécuter une saisie Python, sélectionner la cellule et valider avec </span><span style=\"color: #B317B4\"><strong>SHIFT+Entrée</strong></span>.\n"
   ]
  },
  {
   "cell_type": "markdown",
   "metadata": {},
   "source": [
    "# Longueur d'une courbe"
   ]
  },
  {
   "cell_type": "markdown",
   "metadata": {},
   "source": [
    "__On considère la fonction $h$ définie par $h(x)=x^2$ pour $x∈\\mathbb{R}$.__\n",
    "\n",
    "\n",
    "<span style=\"color: #7C39C9\">*Le but de l’exercice est de déterminer des valeurs approchées de la longueur de la portion de la courbe de la fonction $h$ pour $x∈[0;1]$.*</span>\n",
    "\n",
    "<span style=\"color: #7C39C9\">*Pour cela, on décide dans un premier temps d’approcher la courbe à l’aide de $4$ segments, en utilisant des abscisses régulièrement espacées, comme indiqué sur la figure ci-dessous.*</span>\n",
    "\n",
    "<span style=\"color: #FF0000\">*(Pour faire apparaître et activer la figure dynamique, sélectionner la cellule et valider avec <strong>SHIFT+Entrée</strong>).*</span>\n"
   ]
  },
  {
   "cell_type": "code",
   "execution_count": 1,
   "metadata": {},
   "outputs": [
    {
     "data": {
      "text/html": [
       "<html>\r\n",
       "\t<head>\r\n",
       "\t\t<!-- Longueur d'une courbe -->\r\n",
       "\t\t<!-- Copyright Franck CHEVRIER www.python-lycee.com -->\r\n",
       "\t\t<title></title>\r\n",
       "\t\t<script type=\"text/javascript\" src=\"GeoGebraWeb/webSimple/webSimple.nocache.js\"></script>\r\n",
       "\t</head>\r\n",
       "\t<body>\r\n",
       "\t\t<center>\r\n",
       "\t\t\t\t\t\t\r\n",
       "\t\t\t<div>\r\n",
       "\t\t\t\t<article class=\"geogebraweb\"\r\n",
       "\t\t\t\t\r\n",
       "\t\t\t\t\tdata-param-width=\"522\" data-param-height=\"522\"\r\n",
       "\t\t\t\t\tdata-param-ggbBase64=\"UEsDBBQACAgIAM2NolAAAAAAAAAAAAAAAAAWAAAAZ2VvZ2VicmFfamF2YXNjcmlwdC5qc0srzUsuyczPU0hPT/LP88zLLNHQVKiuBQBQSwcI1je9uRkAAAAXAAAAUEsDBBQACAgIAM2NolAAAAAAAAAAAAAAAAAXAAAAZ2VvZ2VicmFfZGVmYXVsdHMyZC54bWztmt1z2ygQwJ+vfwWjp7uH2JJs2W4mTiftzM1lJk1vLpnOvWJpLXPBoBMolvLXF4E+44/GjlM7bfIQsRgQ/HZZYNHZh3RO0T3EgnA2tpyObSFgPg8IC8dWIqcnI+vD+buzEHgIkxijKY/nWI4tLy9Z1VNSx3N0bRxFY8unWAjiWyiiWOZVxlZgIZQKcsr4NZ6DiLAPN/4M5viK+1jqVmZSRqfd7mKx6JTv6/A47Iah7KRCNaD6ysTYKhKnqrlWpUVPF3dt2+n++/nKNH9CmJCY+WAhNY4ApjihUqgkUJgDk0hmEYytacL8vBfXX3FsIYonQMcWSyi1UFFnbA086/zdb2dixheIT/4DX+XJOIGqvBa6eRn18ydOeYziseXafQspmgrORP/HNJphleoMPVOa4gxidI9p/rPOwYnkvm5A504xFVCWVa/6zAMwv/SL8ozMNUUkJCgFOBYSEUCgU2aEttZGphVbtXfWLTAsAaFEyGpgV1qoQDg9e5mEaXMzCluDcOzHKE5y0zkwCtUeYXAjMwpIzoh/x0AoY/MalfLEXyQIIJ8qpk7ECZM35KHog9fM1U3p7BNnM+yI0yzkrKL3dylXyIeG+JZdRFzNMyIzlR6OTNe2tV7H62mlec6S+So96j+n/952nIHjHlqFmwHn7FqETUaN2DkQYnuNezj4lFjPs3SX1cg+JfF9E2avb6/wET8ARt3qgd3DkmFssk7lLhqmqST0+zQG+KPpdHfjORxqoPlDEXU970AG5qyG6nMeBwKlY+saX1soK54P5rmFi7V3QBxABEypS7Y4OztxHow05/wxMY/Xjbm/L8xfmsuYWiN2WoRcz+wc8uebGbf4XrJ/ICStzYLTe6O8Z8ptK+4/e2l7jWx1EUNR5P/VOY/PIwrpYfz04M1Pr/fTznc4U+4noj7fGaliOzrM3u0Fz3Y4SQklOM6W3/Ri27rWgeOqfdhwfzrCTzDd5x+t4H/WckBE+R+iymxWhIAwlyq2N6Vcq2O3Td+vrg6eSJq/+ZJJiAXoI6FYGtodQHSrmvrCbmPMRB4PbJ/Vvn/O3BSWc3fb7axfjd0jDsstHbwfw3j+1uTIDHn7qNx6ejHONjmB3eK7R8zu53AC96pNXk//r4VYx5re1tJd9LZiO49jCYJgtlkfEtJ6Lb3VQiNKdZTKWD8Yn7P8oqoMYxqpGk7/KEdzyCim2oOREJiZkwKh1C6uDTPbjBA9lDmpU+RkTpHzUCR0O2oAMUnRRVnvoix+4ZaJXpnolwmvgXG3zaBWeKQsvbESPHIo/d12g6/pquSXMYQfsD4pDYS1bVwaqRFPNj5kSlQHGZ6rCuaNhH3E/l0Y84QFS93Zj8c5gmvV9dhYMoe44XuvS7lC5xlyqhtJGT0qB/QUb7tm0q0fuaAkUJjmRFn8iZoKc5zqKYEngtNEwo0fA7D6gwWjlwUJ5Cw/0WvDnJI0h1Lchs94TB44k5UhoVyxF1R/3NC6rFo1G93Nd88NlTxPE5iFtDawCyPVWjAxe13ocSBvtXKaHO0C46DjjnrOyOvZQ2f43hsNnojVGTWxmp+eTHVvHyi8oAffyg+7q/wwjv06Htiz92wcE84p4PrA+bGUG5c6S/N0nSd7ug5ecPPkz8C/m/C0ZVTbnbr/rDLqr4OO875bj3Gp6B5jnt3GN1Xd8rut829QSwcIANGhKOwEAABZJgAAUEsDBBQACAgIAM2NolAAAAAAAAAAAAAAAAAXAAAAZ2VvZ2VicmFfZGVmYXVsdHMzZC54bWztl91u2jAUgK/bp7B8X7AhoaUirVB3sUlttak3uzXOAbwFO7VNIX21vcOeaY5j03QtTENs06RygY9/zrHznR8no8v1okAPoI1QMsO0QzACyVUu5CzDSzs9OcOXF8ejGagZTDRDU6UXzGY4rVdu9Fyvk1Kvzcoyw7xgxgiOUVkwW6tkOMcIrY04l+qWLcCUjMMdn8OCXSvOrLcyt7Y873ZXq1Un7tdRetadzWxnbZwBd1ZpMhyEc2fumdKq75f3CKHdzzfXjfkTIY1lkgNG7jlymLJlYY0ToYAFSItsVUKG3UEl9N0eBZtAkeGPvv8Oo6CR4b6ziy+Oj0ZmrlZITb4Ad6NWL2Gj5Dvdeo2bvlKF0khneDjEyMHsUddOQsuKcs4y7Kg16wtWgUYPzBkhzQhbWsW9CT86ZYWBuNZtdqNyaGaSZpQrpXOD1rVR54YqtI+hXTWtXzpltXvDbh0arAoJd7YqANm54F8lGFOfJeAJwnuR51DHSa0z6gaEL2ByJQVvwfwgrYsUx8u5GfGlfoA2V5rux7WXph4s7Z16sKSFlZLmR5MhoXRAe4fCzKRY+HBFxkJZk0CmBMi9tGHloqnyGdS29xrgdBfgoxGIGcgHB0Rp49KHhAytSPRuHFnT6HcaRh6D4O24I2uxRuOoN47Lx70o9KOQRCFthQzcy+bspv536cK0y2JnlO+OBLYWphUI47r7LKko6e/lfOJdT144nvynjt7OFwUZ3FN///aLxKtzizNtwQgmW+Cv6omfyQ/eyG9HWaqimkOulXy6E1pDTxz74VrYx+2/y56mfU8/pS/wJ6HipcMBSQbJwe6Vfb2xnez9kuU+sMOjfor9NlO635VAki3ReXowIH+qjpPtdbyZiqW6isJj70AlHo0HUTiNwlkUhjuuAbEoC8GF3e1ws9RT97r3Wl0KU899n/wr3z8Z/iuVie5XmSTYDYrbWm6zS99q0e5a1G19AnTjZ8bFD1BLBwhBvOVH4QIAAAgNAABQSwMEFAAICAgAzY2iUAAAAAAAAAAAAAAAAAwAAABnZW9nZWJyYS54bWzdGtuO27j1efcrCBUIMujYJilRl2ScRTYt0ACTRdBJF2kXbUFLtK2OLGklesYO9gf6H33Jb3T/pF/Sc0jdbMeJJ5NL0Yxl3g557hfKufhus8rIjarqtMinDhtTh6g8LpI0X0ydtZ6PQue7J99eLFSxULNKknlRraSeOgIhu30wGgtmdsuynDpxJus6jR1SZlLjlqmTOCRNpo6f+MynwXxEozAaeVLx0SyU85HkXAR+FHvJzHcI2dTpo7z4Qa5UXcpYXcVLtZKXRSy1wbfUunw0mdze3o5bysZFtZgsFrPxpgZUwFVeT52m8wiO29l06xpwTimbvH5xaY8fpXmtZR4rhyDH6/TJt99c3KZ5UtyS2zTRS+DT4w5ZqnSxBBEEXuSQCQKVIIdSxTq9UTVsHQwNz3pVOgZM5rj+je2RrGPHIUl6kyaqmjp0zKOAekH/FTikqFKV6waYNUgn7XEXN6m6tediz6AUDAjVRZHNJB5KfiGMCAoPYRE5J34AM5wwQTyYCWEmIC7OCeYRlyAIc4nnQevhNPNxTcB+QQljME04JZwTzgh3YSgEET4RAW7kAOtH5jAKD0IDOfC4OOe68Jg514OHYw8OEvYYIEK4vukJhIbzBUfyzaQbEi8CRDghAkZcoAHGASVwoovHM8OERwl+GPHweB4QHhI4D/jGkymI5iat01mmps5cZjUoPM3nFRhbN671NlNGds1Eryx2Dn8Akb4BcEHB5K2NwAql5/j48Hi4MNlVirerEtAABd7OsWG2QXJ93y5RO0dd23DbeLYRFsaz2z0LarmlnoXx3Puy2TLp3oXJcMAkQyZAKUi9aVyCdDNDPzZeM/Tt0JgaZbSZDfErwgHIxA9N5548uR/FExtg1dX6vUjteo+zwyiYOB3jnUz0KEpO74CS3VO2LVLmDZAKem4+5jlA6d6LzR6joKdi9L1PxOTpKD0aBZ+ETZ+Hh9oMEKs4xBrQLyLai0mbfC4aryf1EmEbN9FqVWOwcyMSuMTnXSLyMVU02SjgJBAk8Ac56Ryzki/6xIRpKdxJTCIcZCdITT5OBibVAT7MLTZTca9NVudNuvrlIF1BdvH6BAME4lGMEMiGJvC0mQao4F2u4QLTDYfQBGmOEx9D3ZG0A4VQUaedbJcqKzstGDGmebnWO6KLV0nb1QVAy8yUOQ18UsTX3+8JW8lat30AggKhr0NswbBTpnxzkcmZyqDQu0I7IORGZqAqx5w/L3JN2ijiOeY4UxFdqHWcpUkq8x9B8W318cN6NVMVMd0CWTSH4HbSlU4Y/trSSbDIgsRFUSVX2xrshGz+oirYHARjxgF2a4ceFWMehAENwsgNA45LdSzRrF0RjlkkAuEFzI9COJNsjy4ZdOrmSmkNLNdEblTdSmtRpcmw/7z+vsiSTkNlkeb6mSz1ujJlMcTXCvl4mi8yZYRntApFZHw9KzZXVmq+PevVtkR6LP7Z4lmRFRUBl+MCGFk07cy2BgYJ66CogaEGolENHtqts4gbCNPObGugQK+WtIZRt+WStljSmtjxjhEZm8CKdJ2n+rId6DS+7hlFeKvxToII8LvUls/NNQKnfr8pK1U3d4s9xOwLI0b2oc6u9Wussplj+n8e9F8tlZY4hlpURGEQCPjmURha898z/JMcgb/DEUx+7O8Q7KgjcAbXquE/t3MKl5n7V2Psgu7Csd4PcOkE028M/f/U9tlntf3PYNXvtLcmAbTWtioSZUO2a+F31i+uVZWrzFpWDmpfF+vaglvFGqrXtXop9fJpnvxRLcBXXkqsDzQQYkF7/hIVpyvYaOcbOUu0gT8BY3Y2UYtKtfKwxFgtNImF1OCTMqmXSulOF9buh2CGmZb8Cy2hgjFVzSoFXx5xtPuV3AARxgO0Kq3b47Y6rtISbZzMoJa5Vr0Zg3/jQcmAfRRMDRzGmJZBJRrV4RC51suiMndyqXEGXb2LJq1Cl5BuN4B5+XBzRqbk+fwnSv7zz3+Rjflm52Tzt4f87K+gauMC83Vu0Bi8KlMruM7vL/VHm5ABRkGK2T8gXe/ZUsORusELpZEhgB24lnUbAeYls3Jpwloj8UxuMUINkr05+EVnT20JkG5Usm8HNRBvyH2aZcVtuz4wqd739BKsPAexARmtHKjt/CFNEmVLoaKUcaq30A/aOGvFcyCofL1SFb5TauSQGzkB/nVDt9dyeFx2PSNDmdlAw4TbhJpeZKyNqF5EGfMZP1GEbQGU4Usda7msMVtmCmqTCSDTOGRj3vlAxAbjNh0j907NYIvpG/DgTg0mXDy17jVk6J2CZ/So5BsPBq829t84EjqpUjaOdRtL4NcE/953BlqKi9VK5gnJzdXiSv28VvgOra9qJcXpBYL/9PCaTEh+Tpa2c3Z2Th5C97eEnbULg+EZepBkU+caGm5V44LmyYigYXsdH8Va72GqLZkNcQfGlEG+76yi23KC8Rzzu2GyMj74sW7XRE6L9MfdG9zkyaf3QPsCE7M85m57mhjO9rF5xA489CAwarXRijXR8cHP60I/fvb3pe28I/ohuLO392Qt0M8Z/j4o57S+lK/U6/0IaW5ONUSqeeewINcXTW1qb1S0uXv3yLSs9EsUN7EBIYw8X1BOReAzlwWuiQ8w7bnCjWizGDjkTZ/87uqSB674Tlc75maG2Ls4WbPhf8HFvoQLeae60L3DZzNFj8TK9yowzTJ1ZyXaTfdQZOQbTWIzs81X0iT7tNHwo1RJD1LgMU2+L+vFRSIXd1Jlu+MTOST9eCXC3aKobBVi6eT3US7/PJnuTiGV3i2WJmolKzjwLurr93x9BX6JeOp+fEkSF+XWvLPYqUr+/ZbgL8HlFq57+SjbxkqNQfKnVSr9kfcpVr6U+IclSfvq39Yk5gZia5IR/mL8oarE9WjQf7zu1hL5YcA9HkQh1ifeaXXJ8/me++TkwUI/NkGOtWqqG4UYR7L9XkU7XlRm6ypV2ft9aEeL7Q7D63Y1K7I0HpRz5PAy2f4gtK/d8Gsp9/2Wf/nr24XKE7Vj+JfpIlekLLLtosglOBLIqizqX98q8uA3G/kYCCAWEnJSDk8zqG3i6pYa6XUA41ZTH/CdjqhTXecDwv26t60DH6GezwIeupGg0HE9vyndIxb6oct4IAL82d895iOT4Wsp87NL8x9cnvwXUEsHCCL5/7hACQAArCMAAFBLAQIUABQACAgIAM2NolDWN725GQAAABcAAAAWAAAAAAAAAAAAAAAAAAAAAABnZW9nZWJyYV9qYXZhc2NyaXB0LmpzUEsBAhQAFAAICAgAzY2iUADRoSjsBAAAWSYAABcAAAAAAAAAAAAAAAAAXQAAAGdlb2dlYnJhX2RlZmF1bHRzMmQueG1sUEsBAhQAFAAICAgAzY2iUEG85UfhAgAACA0AABcAAAAAAAAAAAAAAAAAjgUAAGdlb2dlYnJhX2RlZmF1bHRzM2QueG1sUEsBAhQAFAAICAgAzY2iUCL5/7hACQAArCMAAAwAAAAAAAAAAAAAAAAAtAgAAGdlb2dlYnJhLnhtbFBLBQYAAAAABAAEAAgBAAAuEgAAAAA=\"\r\n",
       "\t\t\t\t\tdata-param-enableRightClick=\"false\"\r\n",
       "\t\t\t\t\tdata-param-enableLabelDrags=\"false\"\r\n",
       "\t\t\t\t\tdata-param-enableShiftDragZoom=\"false\"\r\n",
       "\t\t\t\t\tdata-param-showMenuBar=\"false\"\r\n",
       "\t\t\t\t\tdata-param-showToolBar=\"false\"\r\n",
       "\t\t\t\t\tdata-param-showAlgebraInput=\"false\"\r\n",
       "\t\t\t\t\tdata-param-showResetIcon=\"true\"\r\n",
       "\t\t\t\t\tdata-param-useBrowserForJS=\"true\"> \r\n",
       "\t\t\t\t\t\t\t\t\r\n",
       "\t\t\t\t</article>\r\n",
       "\t\t\t</div>\r\n",
       "\t\t</center>\r\n",
       "\t</body>\r\n",
       "</html>\r\n"
      ],
      "text/plain": [
       "<IPython.core.display.HTML object>"
      ]
     },
     "metadata": {},
     "output_type": "display_data"
    }
   ],
   "source": [
    "#Sélectionner cette zone puis SHIFT+ENTREE\n",
    "from IPython.display import display, HTML ; display(HTML('https://raw.githubusercontent.com/PythonLycee/PyLyc/master/fig_dyn_GeoGebra/Longueur_courbe.html'))"
   ]
  },
  {
   "cell_type": "markdown",
   "metadata": {},
   "source": [
    "__1. Ecrire une fonction Python <mark>h</mark> qui prend une valeur <mark>x</mark> en argument et renvoie l’image de $x$ par $h$.__"
   ]
  },
  {
   "cell_type": "code",
   "execution_count": null,
   "metadata": {},
   "outputs": [],
   "source": [
    "def h(x):\n",
    "    return x**2"
   ]
  },
  {
   "cell_type": "markdown",
   "metadata": {},
   "source": [
    "__2. Ecrire une fonction Python <mark>long_segment</mark> qui prend en argument les coordonnées de deux points $A(x_A;y_A)$, $B(x_B;y_B)$ et qui renvoie la longueur du segment $AB$.__\n",
    "\n",
    "<span style=\"color: #888888\">Rappel : On peut calculer la racine carrée à l’aide de la fonction Python <mark>sqrt</mark>, accessible avec l’appel « from math import* ».</span>\n"
   ]
  },
  {
   "cell_type": "code",
   "execution_count": null,
   "metadata": {},
   "outputs": [],
   "source": [
    "from math import*\n",
    "\n",
    "def long_segment(xA,yA,xB,yB):\n",
    "    return sqrt((xB-xA)**2+(yB-yA)**2)"
   ]
  },
  {
   "cell_type": "markdown",
   "metadata": {},
   "source": [
    "__3. Tester la fonction <mark>approx_long_courbe</mark> ci-dessous, qui permet de représenter les $4$ segments approchant la courbe de $h$.__\n"
   ]
  },
  {
   "cell_type": "code",
   "execution_count": null,
   "metadata": {},
   "outputs": [],
   "source": [
    "import matplotlib.pyplot as plt\n",
    "\n",
    "def approx_long_courbe():\n",
    "    \n",
    "    for k in range(4):\n",
    "        \n",
    "        # calcul des abscisses de deux points consécutifs\n",
    "        x1=k/4\n",
    "        x2=(k+1)/4\n",
    "        \n",
    "        # affichage du segment reliant ces points\n",
    "        plt.plot([x1,x2],[h(x1),h(x2)],color='blue')\n",
    "    \n",
    "    # ouverture de la fenetre graphique et affichage\n",
    "    plt.show() \n",
    "    \n",
    "    # (fonctionnalités désactivées dans le Notebook Jupyter)\n",
    "    # attente d'une action de clic sur la fenetre puis fermeture\n",
    "    # plt.waitforbuttonpress() \n",
    "    # plt.close() \n",
    "    \n",
    "    return None\n"
   ]
  },
  {
   "cell_type": "code",
   "execution_count": null,
   "metadata": {},
   "outputs": [],
   "source": [
    "approx_long_courbe()"
   ]
  },
  {
   "cell_type": "markdown",
   "metadata": {},
   "source": [
    "__Compléter cette fonction pour qu’elle renvoie la longueur totale de la ligne polygonale.__\n",
    "\n",
    "<span style=\"color: #888888\">Aide : Calculer la longueur de chaque segment dans la boucle.</span>\n",
    "\n",
    "__Donner une approximation de la longueur de la courbe de la fonction $h$ sur $[0;1]$.__\n"
   ]
  },
  {
   "cell_type": "code",
   "execution_count": null,
   "metadata": {},
   "outputs": [],
   "source": [
    "import matplotlib.pyplot as plt\n",
    "\n",
    "def approx_long_courbe(n=4):\n",
    "\n",
    "    # initialisaion de la variable pour la longueur totale\n",
    "    Long=0\n",
    "    \n",
    "    for k in range(n):\n",
    "        \n",
    "        # calcul des abscisses de deux points consécutifs\n",
    "        x1=k/n\n",
    "        x2=(k+1)/n\n",
    "        \n",
    "        # affichage du segment reliant ces points\n",
    "        plt.plot([x1,x2],[h(x1),h(x2)],color='blue')\n",
    "    \n",
    "        # incrémentation de la longueur totale\n",
    "        Long=Long+long_segment(x1,h(x1),x2,h(x2))\n",
    "        \n",
    "    # ouverture de la fenetre graphique et affichage\n",
    "    plt.show() \n",
    "    \n",
    "    return Long\n",
    "\n",
    "a=approx_long_courbe()\n",
    "\n",
    "a"
   ]
  },
  {
   "cell_type": "markdown",
   "metadata": {},
   "source": [
    "__4. Modifier la fonction pour qu’elle permette l’affichage et le calcul de la longueur d’une ligne polygonale composée de $n$ segments, où $n$ est un entier non nul donné en argument.__\n",
    "__Donner des approximations de la longueur de la courbe de la fonction $h$ sur $[0;1]$ obtenues avec $10$ segments, puis $1000$ segments.__\n"
   ]
  },
  {
   "cell_type": "code",
   "execution_count": null,
   "metadata": {},
   "outputs": [],
   "source": [
    "a=approx_long_courbe(10) \n",
    "b=approx_long_courbe(1000)\n",
    "\n",
    "a , b"
   ]
  },
  {
   "cell_type": "markdown",
   "metadata": {},
   "source": [
    "__5. Pour aller plus loin : Adapter la méthode précédente pour donner une approximation de la longueur de la courbe des cubes sur l’intervalle $[-10;10]$.__\n"
   ]
  },
  {
   "cell_type": "code",
   "execution_count": null,
   "metadata": {},
   "outputs": [],
   "source": [
    "def f(x):\n",
    "    return x**3\n",
    "\n",
    "def approx_long_courbe_2(n=4):\n",
    "\n",
    "    # initialisaion de la variable pour la longueur totale\n",
    "    Long=0\n",
    "    \n",
    "    for k in range(n):\n",
    "        \n",
    "        # calcul des abscisses de deux points consécutifs\n",
    "        x1=-10+20*k/n\n",
    "        x2=-10+20*(k+1)/n\n",
    "        \n",
    "        # affichage du segment reliant ces points\n",
    "        plt.plot([x1,x2],[f(x1),f(x2)],color='blue')\n",
    "    \n",
    "        # incrémentation de la longueur totale\n",
    "        Long=Long+long_segment(x1,f(x1),x2,f(x2))\n",
    "        \n",
    "    # ouverture de la fenetre graphique et affichage\n",
    "    plt.show() \n",
    "    \n",
    "    return Long\n",
    "\n",
    "a=approx_long_courbe_2(n=1000)\n",
    "\n",
    "a"
   ]
  },
  {
   "cell_type": "markdown",
   "metadata": {},
   "source": [
    "<i>© Copyright Franck CHEVRIER 2019-2021 https://www.python-lycee.com.</i><br>\n",
    "<i>Les activités partagées sur <a href=\"https://capytale2.ac-paris.fr/web/accueil\"><strong>Capytale</strong></a> sont sous licence <a href=\"https://creativecommons.org/licenses/by-sa/3.0/fr/\">Creative Commons</a>.</i>"
   ]
  }
 ],
 "metadata": {
  "celltoolbar": "Raw Cell Format",
  "kernelspec": {
   "display_name": "Python 3",
   "language": "python",
   "name": "python3"
  },
  "language_info": {
   "codemirror_mode": {
    "name": "ipython",
    "version": 3
   },
   "file_extension": ".py",
   "mimetype": "text/x-python",
   "name": "python",
   "nbconvert_exporter": "python",
   "pygments_lexer": "ipython3",
   "version": "3.7.10"
  }
 },
 "nbformat": 4,
 "nbformat_minor": 2
}
