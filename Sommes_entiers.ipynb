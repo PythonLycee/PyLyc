{
 "cells": [
  {
   "cell_type": "markdown",
   "metadata": {},
   "source": [
    "![En tête general](img/En_tete_general.png)\n",
    "\n",
    "\n",
    "*(C) Copyright Franck CHEVRIER 2019-2021 http://www.python-lycee.com/*\n",
    "\n",
    "<span style=\"color: #9317B4\"> Pour exécuter une saisie Python, sélectionner la cellule et valider avec </span><span style=\"color: #B317B4\"><strong>SHIFT+Entrée</strong></span>."
   ]
  },
  {
   "cell_type": "markdown",
   "metadata": {},
   "source": [
    "# Sommes d'entiers"
   ]
  },
  {
   "cell_type": "markdown",
   "metadata": {},
   "source": [
    "### <span style=\"color:#8E44AD\">Sommaire</span>\n",
    "\n",
    "<span style=\"color:#8E44AD\">1.</span> <a href=\"#1\">Somme des premiers entiers naturels</a><br>\n",
    "<span style=\"color:#8E44AD\">2.</span> <a href=\"#2\">Somme des carrés des premiers entiers naturels</a><br>\n",
    "<span style=\"color:#8E44AD\">3.</span> <a href=\"#3\">Somme des cubes des premiers entiers naturels</a><br>\n"
   ]
  },
  {
   "cell_type": "markdown",
   "metadata": {},
   "source": [
    "## <span style=\"color:#8E44AD\" id=\"1\">1. Somme des premiers entiers naturels</span>"
   ]
  },
  {
   "cell_type": "markdown",
   "metadata": {},
   "source": [
    "Pour tout entier naturel $n$ non nul, on pose :\n",
    "$$\\displaystyle S_n=1+2+...+n=\\sum\\limits_{k=1}^{n}{k} $$\n",
    "<br>\n",
    "\n",
    "__1.1. Écrire une fonction Python <mark>somme_entiers</mark> qui reçoit <mark>n</mark> en argument et renvoie la valeur de $S_n$.__<br>\n",
    "$\\quad\\;$On pourra utiliser une boucle <mark>for</mark> et un accumulateur."
   ]
  },
  {
   "cell_type": "code",
   "execution_count": null,
   "metadata": {},
   "outputs": [],
   "source": [
    "#Écrire ici la fonction somme_entiers\n",
    "    "
   ]
  },
  {
   "cell_type": "code",
   "execution_count": null,
   "metadata": {},
   "outputs": [],
   "source": [
    "#Tester ici la fonction somme_entiers\n"
   ]
  },
  {
   "cell_type": "markdown",
   "metadata": {},
   "source": [
    "__1.2.a. Activer la cellule ci-dessous.__<br>\n",
    "$\\quad\\quad$__Observer la figure fournie, qui illustre que le calcul de $2\\times S_n$ peut se ramener à un simple produit.__\n"
   ]
  },
  {
   "cell_type": "code",
   "execution_count": null,
   "metadata": {},
   "outputs": [],
   "source": [
    "#Sélectionner cette zone puis SHIFT+ENTREE\n",
    "from IPython.display import display, HTML ; display(HTML('fig_dyn_GeoGebra/Somme_entiers.html'))"
   ]
  },
  {
   "cell_type": "markdown",
   "metadata": {},
   "source": [
    "$\\quad\\;$__b. En utilisant cette méthode, calculer à la main $S_{10}$.__<br>\n",
    "$\\quad\\quad$__Vérifier ensuite le résultat à l'aide de la fonction <mark>somme_entiers__</mark>.\n"
   ]
  },
  {
   "cell_type": "code",
   "execution_count": null,
   "metadata": {},
   "outputs": [],
   "source": [
    "#Utiliser cette zone de saisie pour la vérification\n"
   ]
  },
  {
   "cell_type": "markdown",
   "metadata": {},
   "source": [
    "$\\quad\\;$__c. Conjecturer une expression de $S_n$ en fonction de $n$.__\n"
   ]
  },
  {
   "cell_type": "markdown",
   "metadata": {},
   "source": [
    "__1.3. On souhaite maintenant démontrer la formule conjecturée à la question 1.2.c :__<br><br>\n",
    "\n",
    "<BLOCKQUOTE style='background-color:#DDEEEE;'>\n",
    "<strong style=\"color:#004400\">Version 1ère Spé Math</strong><br><br>\n",
    "Additionner terme à terme l'expression de $2 \\times S_n$ donnée ci-dessous, et en déduire l'expression de $S_n$ en fonction de $n$<br>\n",
    "$$\\begin{matrix} 2 \\times S_n & =& & 1 &+ & 2 &+ & 3 &+ & ... &+ & (n-1) &+ & n \\\\\n",
    "                         & & + & n &+ & (n-1) &+ & (n-2) &+ & ... &+ & 2 &+ & 1   \n",
    "\\end{matrix}$$                 \n",
    "</BLOCKQUOTE>\n",
    "\n",
    "<BLOCKQUOTE style='background-color:#EEDDEE;'>\n",
    "    <strong style=\"color:#330033\">Version Tale Spé Math</strong><br><br>\n",
    "    Démontrer <strong>par récurrence</strong> la formule conjecturée en 1.2.c.\n",
    "</BLOCKQUOTE>\n",
    "\n"
   ]
  },
  {
   "cell_type": "markdown",
   "metadata": {},
   "source": [
    "__1.4. À l'aide de la formule obtenue, calculer $S_{100}=1+2+...+100$ puis vérifier le résultat à l'aide de la fonction Python <mark>somme_entiers</mark>.__\n"
   ]
  },
  {
   "cell_type": "code",
   "execution_count": null,
   "metadata": {},
   "outputs": [],
   "source": [
    "#Utiliser cette zone de saisie pour la vérification\n"
   ]
  },
  {
   "cell_type": "markdown",
   "metadata": {},
   "source": [
    "__1.5. Dans cette question, on pose pour $n \\in \\mathbb{N}^*$:__<br>\n",
    "<ul>\n",
    "    <li>$ P_n=2+4+6+...+(2n) \\quad $ (somme des $n$ premiers entiers naturels pairs)</li>\n",
    "    <li>$ I_n=1+3+5+...+(2n-1) \\quad $  (somme des $n$ premiers entiers naturels impairs)</li>\n",
    "</ul>\n",
    "$\\quad$__a. Justifier que $P_n=2 \\times S_n$ et en déduire l'expression de $P_n$ en fonction de $n$.__<br>\n",
    "$\\quad$__b. Justifier que $P_n+I_n=S_{2n}$ et en déduire l'expression de $I_n$ en fonction de $n$.__\n"
   ]
  },
  {
   "cell_type": "markdown",
   "metadata": {},
   "source": [
    "## <span style=\"color:#8E44AD\" id=\"2\">2. Somme des carrés des premiers entiers naturels</span>"
   ]
  },
  {
   "cell_type": "markdown",
   "metadata": {},
   "source": [
    "Pour tout entier naturel $n$ non nul, on pose : \n",
    "$$\\displaystyle T_n=1^2+2^2+...+n^2=\\sum\\limits_{k=1}^{n}{k^2} $$\n",
    "<br>\n",
    "\n",
    "__2.1. Écrire une fonction Python <mark>somme_carres</mark> qui reçoit <mark>n</mark> en argument et renvoie la valeur de $T_n$.__<br>\n",
    "$\\quad\\;$On pourra s'inspirer de la fonction <mark>somme_entiers</mark> écrite dans la partie 1."
   ]
  },
  {
   "cell_type": "code",
   "execution_count": null,
   "metadata": {},
   "outputs": [],
   "source": [
    "#Écrire ici la fonction somme_carres\n"
   ]
  },
  {
   "cell_type": "code",
   "execution_count": null,
   "metadata": {},
   "outputs": [],
   "source": [
    "#Tester ici la fonction somme_carres\n"
   ]
  },
  {
   "cell_type": "markdown",
   "metadata": {},
   "source": [
    "__2.2.a. Activer la cellule ci-dessous.__<br>\n",
    "$\\quad\\quad$__Observer la figure fournie, qui illustre que le calcul de $6\\times T_n$ peut se ramener au calcul de volume d'un parallélépipède.__\n"
   ]
  },
  {
   "cell_type": "code",
   "execution_count": null,
   "metadata": {},
   "outputs": [],
   "source": [
    "#Sélectionner cette zone puis SHIFT+ENTREE\n",
    "from IPython.display import display, HTML ; display(HTML('fig_dyn_GeoGebra/Somme_carres.html'))"
   ]
  },
  {
   "cell_type": "markdown",
   "metadata": {},
   "source": [
    "$\\quad\\;$__b. En utilisant cette méthode, calculer à la main $T_{6}$.__<br>\n",
    "$\\quad\\quad$__Vérifier ensuite le résultat à l'aide de la fonction <mark>somme_carres__</mark>.\n"
   ]
  },
  {
   "cell_type": "code",
   "execution_count": null,
   "metadata": {},
   "outputs": [],
   "source": [
    "#Utiliser cette zone de saisie pour la vérification\n"
   ]
  },
  {
   "cell_type": "markdown",
   "metadata": {},
   "source": [
    "$\\quad\\;$__c. Conjecturer une expression de $T_n$ en fonction de $n$.__\n"
   ]
  },
  {
   "cell_type": "markdown",
   "metadata": {},
   "source": [
    "__2.3. On souhaite maintenant démontrer la formule conjecturée à la question 2.2.c :__<br><br>\n",
    "\n",
    "<BLOCKQUOTE style='background-color:#DDEEEE;'>\n",
    "<strong style=\"color:#004400\">Version 1ère Spé Math</strong><br><br>\n",
    "<br>Pour tout $n \\in \\mathbb{N}^*$, on pose $\\displaystyle v_n=\\frac{n(n+1)(2n+1)}{6}$.<br>\n",
    "<ul>\n",
    "    <li>Déterminer la valeur de $v_1$ et démontrer que $v_{n+1}=v_n+(n+1)^2$ pour tout $n \\in \\mathbb{N}^*$.</li>\n",
    "    <li>On admet que si deux suites ont le même premier terme et vérifient la même relation de récurrence, alors elles sont égales.<br> Conclure.</li>\n",
    "</ul>                \n",
    "</BLOCKQUOTE>\n",
    "\n",
    "<BLOCKQUOTE style='background-color:#EEDDEE;'>\n",
    "    <strong style=\"color:#330033\">Version Terminale Spé Math</strong><br><br>\n",
    "    Démontrer <strong>par récurrence</strong> la formule conjecturée en 2.2.c.\n",
    "</BLOCKQUOTE>\n"
   ]
  },
  {
   "cell_type": "markdown",
   "metadata": {},
   "source": [
    "## <span style=\"color:#8E44AD\" id=\"3\">3. Somme des cubes des premiers entiers naturels</span>"
   ]
  },
  {
   "cell_type": "markdown",
   "metadata": {},
   "source": [
    "Pour tout entier naturel $n$ non nul, on pose:<br> \n",
    "$$\\displaystyle C_n=1^3+2^3+...+n^3=\\sum\\limits_{k=1}^{n}{k^3} $$\n",
    "<br>\n",
    "\n",
    "__3.1. Écrire une fonction Python <mark>somme_cubes</mark> qui reçoit <mark>n</mark> en argument et renvoie la valeur de $C_n$.__<br>\n",
    "$\\quad\\;$On pourra s'inspirer des fonctions <mark>somme_entiers</mark> et <mark>somme_carres</mark> écrites dans les parties 1 et 2."
   ]
  },
  {
   "cell_type": "code",
   "execution_count": null,
   "metadata": {},
   "outputs": [],
   "source": [
    "#Écrire ici la fonction somme_cubes\n"
   ]
  },
  {
   "cell_type": "code",
   "execution_count": null,
   "metadata": {},
   "outputs": [],
   "source": [
    "#Tester ici la fonction somme_carres\n"
   ]
  },
  {
   "cell_type": "markdown",
   "metadata": {},
   "source": [
    "__3.2.a. Activer la cellule ci-dessous.__<br>\n",
    "$\\quad\\quad$__Observer la figure fournie, qui illustre que le calcul de $C_n$ peut se ramener au calcul de l'aire d'un carré.__\n"
   ]
  },
  {
   "cell_type": "code",
   "execution_count": null,
   "metadata": {},
   "outputs": [],
   "source": [
    "#Sélectionner cette zone puis SHIFT+ENTREE\n",
    "from IPython.display import display, HTML ; display(HTML('fig_dyn_GeoGebra/Somme_cubes.html'))"
   ]
  },
  {
   "cell_type": "markdown",
   "metadata": {},
   "source": [
    "$\\quad\\;$__b. À l'aide de cette méthode, exprimer $C_{5}$ en fonction de $S_5=1+2+...+5$.__<br>\n",
    "$\\quad\\quad$__En déduire que $C_{5}=\\displaystyle \\frac{5^2\\times(5+1)^2}{4}$ et donner sa valeur.__<br>\n",
    "$\\quad\\quad$__Vérifier ensuite le résultat à l'aide de la fonction <mark>somme_cubes__</mark>.\n"
   ]
  },
  {
   "cell_type": "code",
   "execution_count": null,
   "metadata": {},
   "outputs": [],
   "source": [
    "#Utiliser cette zone de saisie pour la vérification\n"
   ]
  },
  {
   "cell_type": "markdown",
   "metadata": {},
   "source": [
    "__3.3. On souhaite maintenant démontrer que $\\displaystyle C_n={S_n}^2=\\frac{n^2(n+1)^2}{4}$ pour tout $n \\in \\mathbb{N}^*$.__<br><br>\n",
    "\n",
    "<BLOCKQUOTE style='background-color:#DDEEEE;'>\n",
    "<strong style=\"color:#004400\">Version 1ère Spé Math</strong><br><br>\n",
    "<br>Pour tout $n \\in \\mathbb{N}^*$, on pose $\\displaystyle w_n=\\frac{n^2(n+1)^2}{4}$.<br>\n",
    "<ul>\n",
    "    <li>Déterminer la valeur de $w_1$ et démontrer que $w_{n+1}=w_n+(n+1)^3$ pour tout $n \\in \\mathbb{N}^*$.</li>\n",
    "    <li>On admet que si deux suites ont le même premier terme et vérifient la même relation de récurrence, alors elles sont égales.<br> Conclure.</li>\n",
    "</ul>                \n",
    "</BLOCKQUOTE>\n",
    "\n",
    "<BLOCKQUOTE style='background-color:#EEDDEE;'>\n",
    "    <strong style=\"color:#330033\">Version Terminale Spé Math</strong><br><br>\n",
    "    Démontrer la formule <strong>par récurrence</strong>.\n",
    "</BLOCKQUOTE>\n",
    "\n",
    "\n",
    "\n",
    "    "
   ]
  },
  {
   "cell_type": "markdown",
   "metadata": {},
   "source": [
    "*(C) Copyright Franck CHEVRIER 2019-2021 http://www.python-lycee.com/*\n"
   ]
  }
 ],
 "metadata": {
  "celltoolbar": "Raw Cell Format",
  "kernelspec": {
   "display_name": "Python 3",
   "language": "python",
   "name": "python3"
  },
  "language_info": {
   "codemirror_mode": {
    "name": "ipython",
    "version": 3
   },
   "file_extension": ".py",
   "mimetype": "text/x-python",
   "name": "python",
   "nbconvert_exporter": "python",
   "pygments_lexer": "ipython3",
   "version": "3.6.4"
  }
 },
 "nbformat": 4,
 "nbformat_minor": 2
}
