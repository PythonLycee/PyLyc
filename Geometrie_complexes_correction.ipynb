{
 "cells": [
  {
   "cell_type": "markdown",
   "metadata": {},
   "source": [
    "![En tête general](img/En_tete_general.png)\n",
    "\n",
    "\n",
    "*(C) Copyright Franck CHEVRIER 2019-2021 http://www.python-lycee.com/*\n",
    "\n",
    "<span style=\"color: #9317B4\"> Pour exécuter une saisie Python, sélectionner la cellule et valider avec </span><span style=\"color: #B317B4\"><strong>SHIFT+Entrée</strong></span>."
   ]
  },
  {
   "cell_type": "markdown",
   "metadata": {},
   "source": [
    "# <span style=\"color:#6C3483\">Interprétations géométriques de nombres complexes</span> <span style=\"color:red\">(corrigé)</span>"
   ]
  },
  {
   "cell_type": "markdown",
   "metadata": {},
   "source": [
    "### <span style=\"color:#8E44AD\">Sommaire</span>\n",
    "\n",
    "<span style=\"color:#8E44AD\">I.</span> <a href=\"#I\">Interprétations géométriques de $z_B-z_A$ et $\\displaystyle \\frac{z_C-z_A}{z_B-z_A}$.</a><br>\n",
    "<span style=\"color:#8E44AD\">II.</span> <a href=\"#II\">Applications directes </a><br><br>\n",
    "<span style=\"color:#8E44AD\">III.</span> <a href=\"#III\">Études de configurations</a>\n",
    "<ol style=\"color:#8E44AD\">\n",
    "    <li><a href=\"#III1\">Deux triangles rectangles isocèles rectangles en un même point</a></li> \n",
    "    <li><a href=\"#III2\">Trois triangles équilatéraux ayant un sommet commun</a></li>\n",
    "</ol>"
   ]
  },
  {
   "cell_type": "markdown",
   "metadata": {},
   "source": [
    "## <span style=\"color:#6C3483\" id=\"I\">I. Interprétations géométriques de $z_B-z_A$ et $\\displaystyle \\frac{z_C-z_A}{z_B-z_A}$.</span>"
   ]
  },
  {
   "cell_type": "markdown",
   "metadata": {},
   "source": [
    "Dans le plan complexe muni du repère orthonormé $\\left( O \\;; \\overrightarrow{u} ; \\overrightarrow{v} \\right)$, on considère trois points distincts $A$ ; $B$ et $C$ d'affixes respectives $z_A$ ; $z_B$ et $z_C$.\n"
   ]
  },
  {
   "cell_type": "markdown",
   "metadata": {},
   "source": [
    "<strong style=\"color:#8E44AD\">1. En utilisant le point $M$ défini par $\\overrightarrow{OM}=\\overrightarrow{AB}$, démontrer le résultat suivant :</strong>\n",
    "\n",
    "<BLOCKQUOTE style='background-color:#F7E9DD;'>\n",
    "    <b style='color:#ED9246;'>À RETENIR</b><br>\n",
    "    Interprétation géométrique de $z_B-z_A$ :\n",
    "<ul>\n",
    "    <li>$\\left| z_B-z_A \\right| = AB$</li>\n",
    "    <li>$ arg \\left( z_B-z_A \\right) = \\left( \\overrightarrow{u} \\;;\\overrightarrow{AB} \\right) \\;[2\\pi]$</li>\n",
    "</ul>\n",
    "</BLOCKQUOTE>  \n",
    "<br>\n",
    "<br>\n",
    "<span style=\"color:red\">\n",
    "$\\overrightarrow{AB}(z_B-z_A)=\\overrightarrow{OM}(z_M)$ donc :\n",
    "<ul>\n",
    "    <li>$\\left| z_B-z_A \\right| = \\left| z_M \\right| = OM = AB$ ;</li>\n",
    "    <li>$arg \\left( z_B-z_A \\right) = arg \\left( z_M \\right) \\;[2\\pi]= \\left( \\overrightarrow{u} \\;;\\overrightarrow{OM} \\right) \\;[2\\pi] = \\left( \\overrightarrow{u} \\;;\\overrightarrow{AB} \\right) \\;[2\\pi]$.</li>\n",
    "</ul>\n",
    "</span>"
   ]
  },
  {
   "cell_type": "code",
   "execution_count": 1,
   "metadata": {},
   "outputs": [
    {
     "data": {
      "text/html": [
       "<html>\n",
       "\t<head>\n",
       "\t\t<!-- Propriété 1 Nombres complexes -->\n",
       "\t\t<!-- Copyright Franck CHEVRIER www.python-lycee.com -->\n",
       "\t\t<title></title>\n",
       "\t\t<script type=\"text/javascript\" src=\"GeoGebraWeb/web3d/web3d.nocache.js\"></script>\n",
       "\t</head>\n",
       "\t<body>\n",
       "\t\t<center>\n",
       "\t\t\t\t\t\t\n",
       "\t\t\t<div>\n",
       "\t\t\t\t<article class=\"geogebraweb\"\n",
       "\t\t\t\t\n",
       "\t\t\t\t\tdata-param-width=\"850\" data-param-height=\"540\"\n",
       "\t\t\t\t\tdata-param-ggbBase64=\"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\"\n",
       "\t\t\t\t\tdata-param-enableRightClick=\"false\"\n",
       "\t\t\t\t\tdata-param-enableLabelDrags=\"false\"\n",
       "\t\t\t\t\tdata-param-enableShiftDragZoom=\"false\"\n",
       "\t\t\t\t\tdata-param-showMenuBar=\"false\"\n",
       "\t\t\t\t\tdata-param-showToolBar=\"false\"\n",
       "\t\t\t\t\tdata-param-showAlgebraInput=\"false\"\n",
       "\t\t\t\t\tdata-param-showResetIcon=\"true\"\n",
       "\t\t\t\t\tdata-param-useBrowserForJS=\"true\"> \n",
       "\t\t\t\t\t\t\t\t\n",
       "\t\t\t\t\t\t\t\t\n",
       "\t\t\t\t</article>\n",
       "\t\t\t</div>\n",
       "\t\t</center>\n",
       "\t</body>\n",
       "</html>\n"
      ],
      "text/plain": [
       "<IPython.core.display.HTML object>"
      ]
     },
     "metadata": {},
     "output_type": "display_data"
    }
   ],
   "source": [
    "# Sélectionner cette zone puis SHIFT+ENTREE pour obtenir la figure dynamique\n",
    "from IPython.display import display, HTML ; display(HTML('fig_dyn_GeoGebra/intgeomcomplexeprop1.html'))"
   ]
  },
  {
   "cell_type": "markdown",
   "metadata": {},
   "source": [
    "<strong style=\"color:#8E44AD\">2. À l'aide de la propriété précédente, démontrer que :</strong>\n",
    "\n",
    "<BLOCKQUOTE style='background-color:#F7E9DD;'>\n",
    "    <b style='color:#ED9246;'>À RETENIR</b><br>\n",
    "    Interprétation géométrique de $\\displaystyle \\frac{z_C-z_A}{z_B-z_A}$ :\n",
    "<ul>\n",
    "    <li>$ \\displaystyle \\left| \\frac{z_C-z_A}{z_B-z_A} \\right| = \\frac{AC}{AB}$</li>\n",
    "    <li>$ \\displaystyle arg \\left( \\frac{z_C-z_A}{z_B-z_A} \\right) = \\left( \\overrightarrow{AB} \\;;\\overrightarrow{AC} \\right) \\;[2\\pi]$</li>\n",
    "</ul>\n",
    "</BLOCKQUOTE>\n",
    "<br>\n",
    "<br>\n",
    "<span style=\"color:red\">\n",
    "<ul>\n",
    "    <li> $ \\displaystyle \\left| \\frac{z_C-z_A}{z_B-z_A} \\right| = \\displaystyle \\frac{ \\left| z_C-z_A \\right| }{ \\left| z_B-z_A \\right| } = \\frac{ AC }{ AB } $ ;</li>\n",
    "    <li> $\\displaystyle arg \\left( \\frac{z_C-z_A}{z_B-z_A} \\right) = arg \\left( z_C-z_A \\right) - arg \\left( z_B-z_A \\right) \\;[2\\pi] = \\left( \\overrightarrow{u} \\;;\\overrightarrow{AC} \\right) - \\left( \\overrightarrow{u} \\;;\\overrightarrow{AB} \\right) \\;[2\\pi] = \\left( \\overrightarrow{AB} \\;; \\overrightarrow{u} \\right) + \\left( \\overrightarrow{u} \\;; \\overrightarrow{AC} \\right) \\;[2\\pi] = \\left( \\overrightarrow{AB} \\;; \\overrightarrow{AC} \\right) \\;[2\\pi]$ .</li>\n",
    "</ul>  \n",
    "</span>"
   ]
  },
  {
   "cell_type": "code",
   "execution_count": 2,
   "metadata": {},
   "outputs": [
    {
     "data": {
      "text/html": [
       "<html>\n",
       "\t<head>\n",
       "\t\t<!-- Propriété 2 Nombres complexes -->\n",
       "\t\t<!-- Copyright Franck CHEVRIER www.python-lycee.com -->\n",
       "\t\t<title></title>\n",
       "\t\t<script type=\"text/javascript\" src=\"GeoGebraWeb/web3d/web3d.nocache.js\"></script>\n",
       "\t</head>\n",
       "\t<body>\n",
       "\t\t<center>\n",
       "\t\t\t\t\t\t\n",
       "\t\t\t<div>\n",
       "\t\t\t\t<article class=\"geogebraweb\"\n",
       "\t\t\t\t\n",
       "\t\t\t\t\tdata-param-width=\"825\" data-param-height=\"500\"\n",
       "\t\t\t\t\tdata-param-ggbBase64=\"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\"\n",
       "\t\t\t\t\tdata-param-enableRightClick=\"false\"\n",
       "\t\t\t\t\tdata-param-enableLabelDrags=\"false\"\n",
       "\t\t\t\t\tdata-param-enableShiftDragZoom=\"false\"\n",
       "\t\t\t\t\tdata-param-showMenuBar=\"false\"\n",
       "\t\t\t\t\tdata-param-showToolBar=\"false\"\n",
       "\t\t\t\t\tdata-param-showAlgebraInput=\"false\"\n",
       "\t\t\t\t\tdata-param-showResetIcon=\"true\"\n",
       "\t\t\t\t\tdata-param-useBrowserForJS=\"true\"> \n",
       "\t\t\t\t\t\t\t\t\n",
       "\t\t\t\t\t\t\t\t\n",
       "\t\t\t\t</article>\n",
       "\t\t\t</div>\n",
       "\t\t</center>\n",
       "\t</body>\n",
       "</html>\n"
      ],
      "text/plain": [
       "<IPython.core.display.HTML object>"
      ]
     },
     "metadata": {},
     "output_type": "display_data"
    }
   ],
   "source": [
    "# Sélectionner cette zone puis SHIFT+ENTREE pour obtenir la figure dynamique\n",
    "from IPython.display import display, HTML ; display(HTML('fig_dyn_GeoGebra/intgeomcomplexeprop2.html'))"
   ]
  },
  {
   "cell_type": "markdown",
   "metadata": {},
   "source": [
    "## <span style=\"color:#6C3483\" id=\"II\">II. Applications directes</span>"
   ]
  },
  {
   "cell_type": "markdown",
   "metadata": {},
   "source": [
    "<strong><u style=\"color:#8E44AD\">Exercice 1 :</u></strong><br>\n",
    "On considère les points $A$ ; $B$ et $C$  d’affixes respectives $z_A=1+i$ ; $z_B=2+3i$ et $z_C=-1+2i$.\n",
    "<ol>\n",
    "    <li>Réaliser une figure. Quelle semble être la nature du triangle $ABC$ ?</li>\n",
    "    <li>Calculer $\\displaystyle m= \\frac{z_C-z_A}{z_B-z_A}$.</li>\n",
    "    <li>En interprétant géométriquement le module et un argument de $m$, en déduire la nature du triangle $ABC$.</li>\n",
    "    <li>On souhaite vérifier le résultat du calcul précédent à l'aide de saisies en Python :<br>\n",
    "        <BLOCKQUOTE style='background-color:#E9DDF7;'>\n",
    "        Le module <mark style=\"font-family: Consolas;\">sympy</mark> permet :\n",
    "        <ul>\n",
    "            <li>d'effectuer des calculs sous forme exacte avec racines carrées et $\\pi$ avec les syntaxes <mark style=\"font-family: Consolas;\">sqrt</mark> et <mark style=\"font-family: Consolas;\">pi</mark> ;</li>\n",
    "            <li>de créer un nombre complexe avec la syntaxe majuscule <mark style=\"font-family: Consolas;\">I</mark> pour le complexe $i$ ;</li>\n",
    "            <li>de simplifier une expression avec la fonction <mark style=\"font-family: Consolas;\">simplify</mark> ;</li>\n",
    "            <li>de calculer le module et l'argument d'un complexe respectivement à l'aide des fonctions <mark style=\"font-family: Consolas;\">abs</mark> et <mark style=\"font-family: Consolas;\">arg</mark>.</li>\n",
    "        </ul>\n",
    "        </BLOCKQUOTE>\n",
    "    Exécuter les cellules suivantes pour vérifier les calculs précédents.\n",
    "    </li>               \n",
    "</ol>\n",
    "<br>\n",
    "<br>\n",
    "<span style=\"color:red\">\n",
    "<ol>\n",
    "    <li>Le triangle $ABC$ semble isocèle rectangle en $A$.</li>\n",
    "    <li>$\\displaystyle m=\\frac{z_C-z_A}{z_B-z_A}=\\frac{-1+2i-(1+i)}{(2+3i)-(1+i)}=\\frac{-2+i}{1+2i}=\\frac{(-2+i) \\overline{(1+2i)}}{(1+2i) \\overline{(1+2i)}}=\\frac{(-2+i)(1-2i)}{1^2+2^2}=\\frac{5i}{5}=i=e^{i\\frac{\\pi}{2}}$</li>\n",
    "    <li>$\\displaystyle \\frac{ AC }{ AB }= \\left| \\frac{z_C-z_A}{z_B-z_A} \\right| = \\left| e^{i\\frac{\\pi}{2}} \\right| = 1$ donc $AB=AC$.<br>\n",
    "    $\\displaystyle \\left( \\overrightarrow{AB} \\;; \\overrightarrow{AC} \\right)  = arg \\left( \\frac{z_C-z_A}{z_B-z_A} \\right) \\;[2\\pi]= arg \\left( e^{i\\frac{\\pi}{2}} \\right) \\;[2\\pi]= \\frac{\\pi}{2} \\;[2\\pi]$<br>\n",
    "    Le triangle $ABC$ est donc isocèle rectangle en A.</li>\n",
    "</ol>\n",
    "</span>"
   ]
  },
  {
   "cell_type": "code",
   "execution_count": 3,
   "metadata": {},
   "outputs": [
    {
     "data": {
      "text/latex": [
       "$\\displaystyle \\frac{\\left(-2 + i\\right) \\left(1 - 2 i\\right)}{5}$"
      ],
      "text/plain": [
       "(-2 + I)*(1 - 2*I)/5"
      ]
     },
     "execution_count": 3,
     "metadata": {},
     "output_type": "execute_result"
    }
   ],
   "source": [
    "# Import du module sympy\n",
    "from sympy import *\n",
    "\n",
    "# Mise en mémoire des valeurs de z_A; z_B et z_C\n",
    "z_A = 1+I ; z_B = 2+3*I ; z_C = -1+2*I\n",
    "\n",
    "# Calcul de m\n",
    "m = (z_C-z_A)/(z_B-z_A)\n",
    "\n",
    "m"
   ]
  },
  {
   "cell_type": "code",
   "execution_count": 4,
   "metadata": {},
   "outputs": [
    {
     "data": {
      "text/latex": [
       "$\\displaystyle i$"
      ],
      "text/plain": [
       "I"
      ]
     },
     "execution_count": 4,
     "metadata": {},
     "output_type": "execute_result"
    }
   ],
   "source": [
    "# Évaluation de la valeur de m\n",
    "simplify(m)"
   ]
  },
  {
   "cell_type": "code",
   "execution_count": 5,
   "metadata": {},
   "outputs": [
    {
     "data": {
      "text/latex": [
       "$\\displaystyle 1$"
      ],
      "text/plain": [
       "1"
      ]
     },
     "execution_count": 5,
     "metadata": {},
     "output_type": "execute_result"
    }
   ],
   "source": [
    "# Détermination du module de m\n",
    "abs(m)"
   ]
  },
  {
   "cell_type": "code",
   "execution_count": 6,
   "metadata": {},
   "outputs": [
    {
     "data": {
      "text/latex": [
       "$\\displaystyle \\frac{\\pi}{2}$"
      ],
      "text/plain": [
       "pi/2"
      ]
     },
     "execution_count": 6,
     "metadata": {},
     "output_type": "execute_result"
    }
   ],
   "source": [
    "# Détermination de l'argument de m\n",
    "arg(m)"
   ]
  },
  {
   "cell_type": "markdown",
   "metadata": {},
   "source": [
    "<b><u style=\"color:#8E44AD\">Exercice 2 :</u></b><br>\n",
    "<ol>\n",
    "    <li>De la même manière que dans l’exercice 1, déterminer par le calcul la nature des triangles suivants :\n",
    "    <ul>\n",
    "        <li>$DEF$ tel que  $z_D=-2+i$  ;  $z_E=-1+4i$  et  $z_F=4-i$.</li>\n",
    "        <li>$IJK$ tel que $\\displaystyle z_I=\\sqrt{3}+i$  ;  $ z_J=4i$  et  $\\displaystyle z_K=-\\sqrt{3}+i$.</li>\n",
    "    </ul>\n",
    "    <li>Vérifier les calculs précédents à l'aide de saisies Python.</li>\n",
    "</ol>\n",
    "<br>\n",
    "<br>\n",
    "<span style=\"color:red\">\n",
    "<ol>\n",
    "    <li>On détermine la nature des triangles par le calcul :\n",
    "    <ul>\n",
    "        <li>$\\displaystyle \\frac{z_F-z_D}{z_E-z_D}=\\frac{4-i-(-2+i)}{(-1+4i)-(-2+i)}=\\frac{6-2i}{1+3i}=\\frac{(6-2i) \\overline{(1+3i)}}{(1+3i) \\overline{(1+3i)}}=\\frac{(6-2i)(1-3i)}{1^2+3^2}=\\frac{-20i}{10}=-2i=2e^{-i\\frac{\\pi}{2}}$<br>\n",
    "        $\\displaystyle \\frac{ DF }{ DE }=\\displaystyle \\left| \\frac{z_F-z_D}{z_E-z_D} \\right| = \\left| 2e^{-i\\frac{\\pi}{2}} \\right| = 2$ donc $DF=2DE$.<br>\n",
    "    $\\displaystyle \\left( \\overrightarrow{DE} \\;; \\overrightarrow{DF} \\right)=arg \\left( \\frac{z_F-z_D}{z_E-z_D} \\right) \\;[2\\pi]= arg \\left( 2e^{-i\\frac{\\pi}{2}} \\right) \\;[2\\pi]= -\\frac{\\pi}{2} \\;[2\\pi]$<br>\n",
    "            Le triangle $DEF$ est donc rectangle en $D$ (et $DF=2DE$).</li>\n",
    "        <li>$\\displaystyle \\frac{z_J-z_K}{z_I-z_K}=\\frac{4i-(-\\sqrt{3}+i)}{\\sqrt{3}+i-(-\\sqrt{3}+i)}=\\frac{\\sqrt{3}+3i}{2\\sqrt{3}}=\\frac{1}{2}+i\\frac{\\sqrt{3}}{2}=e^{i\\frac{\\pi}{3}}$<br>\n",
    "        $\\displaystyle \\frac{ KJ }{ KI }=\\displaystyle \\left| \\frac{z_J-z_K}{z_I-z_K} \\right| = \\left| e^{i\\frac{\\pi}{3}} \\right| = 1$ donc $KJ=KI$.<br>\n",
    "    $\\displaystyle \\left( \\overrightarrow{KI} \\;; \\overrightarrow{KJ} \\right)=arg \\left( \\frac{z_J-z_K}{z_I-z_K} \\right) \\;[2\\pi]= arg \\left( e^{i\\frac{\\pi}{3}} \\right) \\;[2\\pi]= -\\frac{\\pi}{3} \\;[2\\pi]$<br>\n",
    "            Le triangle $IJK$ est donc équilatéral.</li>\n",
    "    </ul>\n",
    "</ol>\n",
    "</span>"
   ]
  },
  {
   "cell_type": "code",
   "execution_count": 7,
   "metadata": {},
   "outputs": [
    {
     "data": {
      "text/latex": [
       "$\\displaystyle \\frac{\\left(1 - 3 i\\right) \\left(6 - 2 i\\right)}{10}$"
      ],
      "text/plain": [
       "(1 - 3*I)*(6 - 2*I)/10"
      ]
     },
     "execution_count": 7,
     "metadata": {},
     "output_type": "execute_result"
    }
   ],
   "source": [
    "# Utiliser ces zones de saisie pour vérifier les calculs relatifs au triangle DEF\n",
    "z_D = -2+I ; z_E = -1+4*I ; z_F = 4-I\n",
    "\n",
    "n = (z_F-z_D)/(z_E-z_D)\n",
    "n"
   ]
  },
  {
   "cell_type": "code",
   "execution_count": 8,
   "metadata": {},
   "outputs": [
    {
     "data": {
      "text/latex": [
       "$\\displaystyle - 2 i$"
      ],
      "text/plain": [
       "-2*I"
      ]
     },
     "execution_count": 8,
     "metadata": {},
     "output_type": "execute_result"
    }
   ],
   "source": [
    "\n",
    "simplify(n)"
   ]
  },
  {
   "cell_type": "code",
   "execution_count": 9,
   "metadata": {},
   "outputs": [
    {
     "data": {
      "text/latex": [
       "$\\displaystyle 2$"
      ],
      "text/plain": [
       "2"
      ]
     },
     "execution_count": 9,
     "metadata": {},
     "output_type": "execute_result"
    }
   ],
   "source": [
    "abs(n)\n"
   ]
  },
  {
   "cell_type": "code",
   "execution_count": 10,
   "metadata": {},
   "outputs": [
    {
     "data": {
      "text/latex": [
       "$\\displaystyle - \\frac{\\pi}{2}$"
      ],
      "text/plain": [
       "-pi/2"
      ]
     },
     "execution_count": 10,
     "metadata": {},
     "output_type": "execute_result"
    }
   ],
   "source": [
    "arg(n)"
   ]
  },
  {
   "cell_type": "code",
   "execution_count": 11,
   "metadata": {},
   "outputs": [
    {
     "data": {
      "text/latex": [
       "$\\displaystyle - \\frac{\\sqrt{3} \\left(- \\sqrt{3} + 3 i\\right)}{6}$"
      ],
      "text/plain": [
       "-sqrt(3)*(-sqrt(3) + 3*I)/6"
      ]
     },
     "execution_count": 11,
     "metadata": {},
     "output_type": "execute_result"
    }
   ],
   "source": [
    "# Utiliser ces zones de saisie pour vérifier les calculs relatifs au triangle IJK\n",
    "z_I = sqrt(3)+I ; z_J = 4*I ; z_K = -sqrt(3)+I\n",
    "\n",
    "p = (z_J-z_I)/(z_K-z_I)\n",
    "p"
   ]
  },
  {
   "cell_type": "code",
   "execution_count": 12,
   "metadata": {},
   "outputs": [
    {
     "data": {
      "text/latex": [
       "$\\displaystyle \\frac{1}{2} - \\frac{\\sqrt{3} i}{2}$"
      ],
      "text/plain": [
       "1/2 - sqrt(3)*I/2"
      ]
     },
     "execution_count": 12,
     "metadata": {},
     "output_type": "execute_result"
    }
   ],
   "source": [
    "simplify(p)"
   ]
  },
  {
   "cell_type": "code",
   "execution_count": 13,
   "metadata": {},
   "outputs": [
    {
     "data": {
      "text/latex": [
       "$\\displaystyle 1$"
      ],
      "text/plain": [
       "1"
      ]
     },
     "execution_count": 13,
     "metadata": {},
     "output_type": "execute_result"
    }
   ],
   "source": [
    "abs(p)"
   ]
  },
  {
   "cell_type": "code",
   "execution_count": 14,
   "metadata": {},
   "outputs": [
    {
     "data": {
      "text/latex": [
       "$\\displaystyle - \\frac{\\pi}{3}$"
      ],
      "text/plain": [
       "-pi/3"
      ]
     },
     "execution_count": 14,
     "metadata": {},
     "output_type": "execute_result"
    }
   ],
   "source": [
    "arg(p)"
   ]
  },
  {
   "cell_type": "markdown",
   "metadata": {},
   "source": [
    "## <span style=\"color:#6C3483\" id=\"III\">III. Études de configurations</span>"
   ]
  },
  {
   "cell_type": "markdown",
   "metadata": {},
   "source": [
    "Dans cette partie, on dira qu'un triangle $ABC$ est :\n",
    "<ul>\n",
    "    <li><b>direct</b> si l'angle $\\left( A \\;; \\overrightarrow{AB} ; \\overrightarrow{AC} \\right)$ a un argument dans l'intervalle $]0;\\pi[$, modulo $2\\pi$.</li>\n",
    "    <li><b>indirect</b> si l'angle $\\left( A \\;; \\overrightarrow{AB} ; \\overrightarrow{AC} \\right)$ a un argument dans l'intervalle $]-\\pi;0[$, modulo $2\\pi$.</li>\n",
    "</ul>\n",
    "(on différenciera donc les triangles $ABC$ et $ACB$, qui sont l'un direct et l'autre indirect)\n"
   ]
  },
  {
   "cell_type": "code",
   "execution_count": 15,
   "metadata": {},
   "outputs": [
    {
     "data": {
      "text/html": [
       "<html>\n",
       "\t<head>\n",
       "\t\t<!-- Triangles directs et indirects Nombres complexes -->\n",
       "\t\t<!-- Copyright Franck CHEVRIER www.python-lycee.com -->\n",
       "\t\t<title></title>\n",
       "\t\t<script type=\"text/javascript\" src=\"GeoGebraWeb/web3d/web3d.nocache.js\"></script>\n",
       "\t</head>\n",
       "\t<body>\n",
       "\t\t<center>\n",
       "\t\t\t\t\t\t\n",
       "\t\t\t<div>\n",
       "\t\t\t\t<article class=\"geogebraweb\"\n",
       "\t\t\t\t\n",
       "\t\t\t\t\tdata-param-width=\"720\" data-param-height=\"400\"\n",
       "\t\t\t\t\tdata-param-ggbBase64=\"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\"\n",
       "\t\t\t\t\tdata-param-enableRightClick=\"false\"\n",
       "\t\t\t\t\tdata-param-enableLabelDrags=\"false\"\n",
       "\t\t\t\t\tdata-param-enableShiftDragZoom=\"false\"\n",
       "\t\t\t\t\tdata-param-showMenuBar=\"false\"\n",
       "\t\t\t\t\tdata-param-showToolBar=\"false\"\n",
       "\t\t\t\t\tdata-param-showAlgebraInput=\"false\"\n",
       "\t\t\t\t\tdata-param-showResetIcon=\"true\"\n",
       "\t\t\t\t\tdata-param-useBrowserForJS=\"true\"> \n",
       "\t\t\t\t\t\t\t\t\n",
       "\t\t\t\t\t\t\t\t\n",
       "\t\t\t\t</article>\n",
       "\t\t\t</div>\n",
       "\t\t</center>\n",
       "\t</body>\n",
       "</html>\n"
      ],
      "text/plain": [
       "<IPython.core.display.HTML object>"
      ]
     },
     "metadata": {},
     "output_type": "display_data"
    }
   ],
   "source": [
    "# Sélectionner cette zone puis SHIFT+ENTREE pour obtenir la figure dynamique\n",
    "from IPython.display import display, HTML ; display(HTML('fig_dyn_GeoGebra/intgeomcomplexedirindir.html'))"
   ]
  },
  {
   "cell_type": "markdown",
   "metadata": {},
   "source": [
    "On admettra également la généralisation des résultats vus précédemment, pour 4 points $A$ ; $B$ ; $C$ et $D$ d'affixes respectives $z_A$ ; $z_B$ ; $z_C$ et $z_D$.\n",
    "\n",
    "<BLOCKQUOTE style='background-color:#F7E9DD;'>\n",
    "    Interprétation géométrique de $\\displaystyle \\frac{z_D-z_C}{z_B-z_A}$ :\n",
    "<ul>\n",
    "    <li>$ \\displaystyle \\left| \\frac{z_D-z_C}{z_B-z_A} \\right| = \\frac{CD}{AB}$</li>\n",
    "    <li>$ \\displaystyle arg \\left( \\frac{z_D-z_C}{z_B-z_A} \\right) = \\left( \\overrightarrow{AB} \\;;\\overrightarrow{CD} \\right) \\;[2\\pi]$</li>\n",
    "</ul>\n",
    "</BLOCKQUOTE> \n",
    "<br>\n",
    "<br>"
   ]
  },
  {
   "cell_type": "markdown",
   "metadata": {},
   "source": [
    "### <span style=\"color:#8E44AD\" id=\"III1\"> III.1. Deux triangles rectangles isocèles rectangles en un même point </span>"
   ]
  },
  {
   "cell_type": "markdown",
   "metadata": {},
   "source": [
    "<strong>\n",
    "Dans le plan complexe $\\left( O \\;; \\overrightarrow{u} ; \\overrightarrow{v} \\right)$, on considère deux triangles $OAB$ et $OCD$ qui sont rectangles directs.<br>\n",
    "On note $M$ le milieu de $[BC]$.<br><br>\n",
    "1. Dans cette question, les points $A$ et $C$ ont pour affixe respectives $z_A=4-i$ et $z_C=-3+5i$.<br>\n",
    "a. Activer la cellule ci-dessous pour obtenir la figure.<br>\n",
    "$\\;\\;\\;$Quelle conjecture peut-on émettre concernant les droites $(OM)$ et $(AD)$ ?\n",
    "</strong>"
   ]
  },
  {
   "cell_type": "code",
   "execution_count": 16,
   "metadata": {},
   "outputs": [
    {
     "data": {
      "text/html": [
       "<html>\n",
       "\t<head>\n",
       "\t\t<!-- Configuration 1 Nombres complexes -->\n",
       "\t\t<!-- Copyright Franck CHEVRIER www.python-lycee.com -->\n",
       "\t\t<title></title>\n",
       "\t\t<script type=\"text/javascript\" src=\"GeoGebraWeb/web3d/web3d.nocache.js\"></script>\n",
       "\t</head>\n",
       "\t<body>\n",
       "\t\t<center>\n",
       "\t\t\t\t\t\t\n",
       "\t\t\t<div>\n",
       "\t\t\t\t<article class=\"geogebraweb\"\n",
       "\t\t\t\t\n",
       "\t\t\t\t\tdata-param-width=\"780\" data-param-height=\"500\"\n",
       "\t\t\t\t\tdata-param-ggbBase64=\"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\"\n",
       "\t\t\t\t\tdata-param-enableRightClick=\"false\"\n",
       "\t\t\t\t\tdata-param-enableLabelDrags=\"false\"\n",
       "\t\t\t\t\tdata-param-enableShiftDragZoom=\"false\"\n",
       "\t\t\t\t\tdata-param-showMenuBar=\"false\"\n",
       "\t\t\t\t\tdata-param-showToolBar=\"false\"\n",
       "\t\t\t\t\tdata-param-showAlgebraInput=\"false\"\n",
       "\t\t\t\t\tdata-param-showResetIcon=\"true\"\n",
       "\t\t\t\t\tdata-param-useBrowserForJS=\"true\"> \n",
       "\t\t\t\t\t\t\t\t\n",
       "\t\t\t\t\t\t\t\t\n",
       "\t\t\t\t</article>\n",
       "\t\t\t</div>\n",
       "\t\t</center>\n",
       "\t</body>\n",
       "</html>\n"
      ],
      "text/plain": [
       "<IPython.core.display.HTML object>"
      ]
     },
     "metadata": {},
     "output_type": "display_data"
    }
   ],
   "source": [
    "# Sélectionner cette zone puis SHIFT+ENTREE pour obtenir la figure dynamique\n",
    "from IPython.display import display, HTML ; display(HTML('fig_dyn_GeoGebra/intgeomcomplexeconfig1.html'))"
   ]
  },
  {
   "cell_type": "markdown",
   "metadata": {},
   "source": [
    "<strong>$\\quad\\;\\;$b. Déterminer les affixes respectives $z_B$ ; $z_D$ et $z_M$ des points $B$ ; $D$ et $M$.<br>\n",
    "$\\quad\\;\\;$c. À l'aide de saisies Python, déterminer la valeur de $\\displaystyle \\frac{z_M}{z_D-z_A}$.<br>\n",
    "$\\quad\\quad\\;$Vérifier ensuite par le calcul le résultat obtenu à la question c.<br>\n",
    "</strong>"
   ]
  },
  {
   "cell_type": "code",
   "execution_count": 17,
   "metadata": {},
   "outputs": [
    {
     "data": {
      "text/latex": [
       "$\\displaystyle \\frac{- \\frac{3}{2} + \\frac{i \\left(4 - i\\right)}{2} + \\frac{5 i}{2}}{-4 + i \\left(-3 + 5 i\\right) + i}$"
      ],
      "text/plain": [
       "(-3/2 + I*(4 - I)/2 + 5*I/2)/(-4 + I*(-3 + 5*I) + I)"
      ]
     },
     "execution_count": 17,
     "metadata": {},
     "output_type": "execute_result"
    }
   ],
   "source": [
    "# Utiliser ces zones de saisie pour les calculs\n",
    "z_A = 4-I ; z_C = -3+5*I ; z_B = z_A*I ; z_D = z_C*I\n",
    "z_M = (z_B+z_C)/2\n",
    "\n",
    "k = (z_M)/(z_D-z_A)\n",
    "k"
   ]
  },
  {
   "cell_type": "code",
   "execution_count": 18,
   "metadata": {},
   "outputs": [
    {
     "data": {
      "text/latex": [
       "$\\displaystyle - \\frac{i}{2}$"
      ],
      "text/plain": [
       "-I/2"
      ]
     },
     "execution_count": 18,
     "metadata": {},
     "output_type": "execute_result"
    }
   ],
   "source": [
    "simplify(k)"
   ]
  },
  {
   "cell_type": "code",
   "execution_count": 19,
   "metadata": {},
   "outputs": [
    {
     "data": {
      "text/latex": [
       "$\\displaystyle \\frac{1}{2}$"
      ],
      "text/plain": [
       "1/2"
      ]
     },
     "execution_count": 19,
     "metadata": {},
     "output_type": "execute_result"
    }
   ],
   "source": [
    "abs(k)"
   ]
  },
  {
   "cell_type": "code",
   "execution_count": 20,
   "metadata": {},
   "outputs": [
    {
     "data": {
      "text/latex": [
       "$\\displaystyle - \\frac{\\pi}{2}$"
      ],
      "text/plain": [
       "-pi/2"
      ]
     },
     "execution_count": 20,
     "metadata": {},
     "output_type": "execute_result"
    }
   ],
   "source": [
    "arg(k)"
   ]
  },
  {
   "cell_type": "markdown",
   "metadata": {},
   "source": [
    "<strong>\n",
    "$\\quad\\;\\;$d. Que peut-on conclure concernant les droites $(OM)$ et $(AD)$ ? et concernant les longueurs des segments $[OM]$ et $[AD]$ ?<br>\n",
    "</strong>    "
   ]
  },
  {
   "cell_type": "markdown",
   "metadata": {},
   "source": [
    "<strong>\n",
    "2. Dans cette question, on revient au cas général où les affixes $z_A$ et $z_C$ des points $A$ et $C$ sont quelconques.<br>\n",
    "$\\;\\;\\;$a. Déplacer les points $A$ et $C$ sur la figure fournie. Quelle conjecture peut-on émettre ?<br>\n",
    "$\\;\\;\\;$b. Démontrer cette conjecture.\n",
    "</strong>\n",
    "<br><br>"
   ]
  },
  {
   "cell_type": "markdown",
   "metadata": {},
   "source": [
    "<span style=\"color:red\">\n",
    "<ol>\n",
    "    <li>Cas où  $z_A=4-i$ et $z_C=-3+5i$.<br>\n",
    "        $\\;$a. Il semble que les droites $(OM)$ et $(AD)$ sont perpendiculaires.<br>\n",
    "        $\\;$b. $OAB$ est isocèle rectangle direct donc $\\displaystyle \\frac{z_B}{z_A}=e^{i\\frac{\\pi}{2}}=i$ donc $z_B=iz_A=1+4i$.<br>\n",
    "        $\\quad$De même en considérant $OCD$ on a $z_D=iz_C=-5-3i$<br>\n",
    "        $\\quad$ $\\displaystyle z_M=\\frac{z_B+z_C}{2}=\\frac{1+4i-3+5i}{2}=\\frac{-2+9i}{2}=-1+\\frac{9}{2}i$<br>\n",
    "    $\\;$c. $\\displaystyle \\frac{z_M}{z_D-z_A}=\\frac{-1+\\frac{9}{2}i}{-5-3i-(4-i)}=\\frac{1}{2}\\times\\frac{-2+9i}{-9-2i}=\\frac{1}{2}\\times \\frac{-i(-9-2i)}{-9-2i}=-\\frac{1}{2}i=\\frac{1}{2}e^{-i\\frac{\\pi}{2}}$<br>\n",
    "    $\\;$d. $\\displaystyle \\frac{ OM }{ AD }=\\displaystyle \\left| \\frac{z_M}{z_D-z_A} \\right| = \\left| \\frac{1}{2}e^{-i\\frac{\\pi}{2}} \\right| = \\frac{1}{2}$ donc $AD=2OM$.<br>\n",
    "       $\\quad$ $\\displaystyle \\left( \\overrightarrow{AD} \\;; \\overrightarrow{OM} \\right)=arg \\left( \\frac{z_M}{z_D-z_A} \\right) \\;[2\\pi]= arg \\left( \\frac{1}{2}e^{-i\\frac{\\pi}{2}} \\right) \\;[2\\pi]= -\\frac{\\pi}{2} \\;[2\\pi]$ donc $(AD)$ et $(OM)$ sont perpendiculaires. \n",
    "    </li>\n",
    "    <li>Cas général.<br>\n",
    "        $\\;$a. Il semble que quelles que soient les positions de $A$ et $C$, le résultat vu en 1.d reste valable.<br>\n",
    "        $\\;$b. Comme dans la partie 1, on peut établir que :<br>\n",
    "        $\\quad$ $z_B=iz_A$ ; $z_D=iz_C$ ; $\\displaystyle z_M=\\frac{z_B+z_C}{2}$<br>\n",
    "        $\\quad$ On en déduit :<br>\n",
    "        $\\quad$ $\\displaystyle \\frac{z_M}{z_D-z_A}=\\frac{1}{2}\\times \\frac{z_B+z_C}{z_D-z_A} = \\frac{1}{2}\\times \\frac{iz_A+z_C}{iz_C-z_A} = \\frac{1}{2}\\times \\frac{-i(-z_A+iz_C)}{iz_C-z_A} = -\\frac{1}{2}i = \\frac{1}{2}e^{-i\\frac{\\pi}{2}}$<br>\n",
    "        $\\quad$ce qui permet de conclure de la même façon que dans la question 1.d.\n",
    "    </li>\n",
    "</ol>\n",
    "</span>   \n",
    "        "
   ]
  },
  {
   "cell_type": "markdown",
   "metadata": {},
   "source": [
    "### <span style=\"color:#8E44AD\" id=\"III2\"> III.2. Trois triangles équilatéraux ayant un sommet commun </span>"
   ]
  },
  {
   "cell_type": "markdown",
   "metadata": {},
   "source": [
    "<strong>\n",
    "On se place dans le plan complexe $\\left( O \\;; \\overrightarrow{u} ; \\overrightarrow{v} \\right)$ et on pose $\\displaystyle j=e^{i\\frac{2\\pi}{3}}=-\\frac{1}{2}+i\\frac{\\sqrt{3}}{2}$.<br>\n",
    "Dans cette étude, l'affixe d'un point $M$ sera systématiquement désignée par la notation $z_M$.\n",
    "<br><br>\n",
    "\n",
    "1. Condition nécessaire et suffisante pour qu'un triangle soit équilatéral<br><br>\n",
    "$\\;\\;\\;$a. Exécuter les cellules Python suivantes (la fonction <mark style=\"font-family: Consolas;\">conjugate</mark> permet de calculer le conjugué d'un complexe).<br>\n",
    "$\\quad\\;\\;$Quelles relations vérifiées par $j$ obtient-on ?<br>\n",
    "$\\quad\\;\\;$Vérifier ces résultats par le calcul, et justifier en particulier que $1+j=e^{i\\frac{\\pi}{3}}$\n",
    "</strong>\n",
    "<br>\n",
    "<br>\n",
    "<span style=\"color:red\">\n",
    "a.\n",
    "<ul>\n",
    "    <li>$\\displaystyle j^3=\\left( e^{i\\frac{2\\pi}{3}} \\right) ^3 = e^{2i\\pi} =1$</li>\n",
    "    <li>$\\displaystyle j^2-\\overline{j}= \\left( e^{i\\frac{2\\pi}{3}} \\right) ^2 -\\overline{e^{i\\frac{2\\pi}{3}}} = e^{i\\frac{4\\pi}{3}} - e^{-i\\frac{2\\pi}{3}}=0$ donc $\\displaystyle j^2=\\overline{j}$</li>\n",
    "    <li>$\\displaystyle 1+j+j^2=1+j+\\overline{j}=1+2Re(j)=1+2\\times \\left( -\\frac{1}{2} \\right) = 0$ donc $\\displaystyle 1+j+j^2=0$</li>\n",
    "    <li>$\\displaystyle 1+j=-j^2=-\\overline{j}=- \\left( -\\frac{1}{2}-i\\frac{\\sqrt{3}}{2} \\right) = \\frac{1}{2}+i\\frac{\\sqrt{3}}{2} = e^{i\\frac{\\pi}{3}}$</li>\n",
    "</ul>\n",
    "</span>        "
   ]
  },
  {
   "cell_type": "code",
   "execution_count": 21,
   "metadata": {},
   "outputs": [
    {
     "data": {
      "text/latex": [
       "$\\displaystyle - \\frac{1}{2} + \\frac{\\sqrt{3} i}{2}$"
      ],
      "text/plain": [
       "-1/2 + sqrt(3)*I/2"
      ]
     },
     "execution_count": 21,
     "metadata": {},
     "output_type": "execute_result"
    }
   ],
   "source": [
    "j = (-1+I*sqrt(3))/2\n",
    "j"
   ]
  },
  {
   "cell_type": "code",
   "execution_count": 22,
   "metadata": {},
   "outputs": [
    {
     "data": {
      "text/latex": [
       "$\\displaystyle 1$"
      ],
      "text/plain": [
       "1"
      ]
     },
     "execution_count": 22,
     "metadata": {},
     "output_type": "execute_result"
    }
   ],
   "source": [
    "simplify(j**3)"
   ]
  },
  {
   "cell_type": "code",
   "execution_count": 23,
   "metadata": {},
   "outputs": [
    {
     "data": {
      "text/latex": [
       "$\\displaystyle 0$"
      ],
      "text/plain": [
       "0"
      ]
     },
     "execution_count": 23,
     "metadata": {},
     "output_type": "execute_result"
    }
   ],
   "source": [
    "simplify(j**2-conjugate(j))"
   ]
  },
  {
   "cell_type": "code",
   "execution_count": 24,
   "metadata": {},
   "outputs": [
    {
     "data": {
      "text/latex": [
       "$\\displaystyle 0$"
      ],
      "text/plain": [
       "0"
      ]
     },
     "execution_count": 24,
     "metadata": {},
     "output_type": "execute_result"
    }
   ],
   "source": [
    "simplify(1+j+j**2)"
   ]
  },
  {
   "cell_type": "code",
   "execution_count": 25,
   "metadata": {},
   "outputs": [
    {
     "data": {
      "text/latex": [
       "$\\displaystyle \\frac{1}{2} + \\frac{\\sqrt{3} i}{2}$"
      ],
      "text/plain": [
       "1/2 + sqrt(3)*I/2"
      ]
     },
     "execution_count": 25,
     "metadata": {},
     "output_type": "execute_result"
    }
   ],
   "source": [
    "simplify(1+j)"
   ]
  },
  {
   "cell_type": "markdown",
   "metadata": {},
   "source": [
    "<strong>\n",
    "$\\;\\;\\;$b. On considère trois points distincts $M$ ; $N$ et $P$.<br>   \n",
    "$\\quad\\;\\;$ Démontrer que le triangle $MNP$ est équilatéral direct si et seulement si $z_M+jz_N+j^2z_P=0$.<br>\n",
    "</strong> \n",
    "<br>\n",
    "<br>\n",
    "<span style=\"color:red\">\n",
    "b.\n",
    "$MNP$ est équilatéral direct<br>\n",
    "$\\quad \\displaystyle \\Leftrightarrow \\frac{z_M-z_N}{z_P-z_N}=e^{i\\frac{\\pi}{3}}$<br>   \n",
    "$\\quad \\displaystyle \\Leftrightarrow \\frac{z_M-z_N}{z_P-z_N}=1+j$<br>      \n",
    "$\\quad \\displaystyle \\Leftrightarrow z_M-z_N=(1+j)(z_P-z_N)$<br> \n",
    "$\\quad \\displaystyle \\Leftrightarrow z_M+(-1+(1+j))z_N-(1+j)z_P=0$<br>  \n",
    "$\\quad \\displaystyle \\Leftrightarrow z_M+jz_N-(-j^2)z_P=0$<br> \n",
    "$\\quad \\displaystyle \\Leftrightarrow z_M+jz_N+j^2z_P=0$<br>\n",
    "</span>     "
   ]
  },
  {
   "cell_type": "markdown",
   "metadata": {},
   "source": [
    "<strong>\n",
    "2. Application<br>\n",
    "<br>\n",
    "$\\;\\;\\;$On considère 6 points $A$ ; $B$ ; $C$ ; $D$ ; $E$ et $F$ tels que $OAB$ ; $OCD$ et $OEF$ sont des triangles équilatéraux directs.<br>\n",
    "$\\;\\;\\;$$M$; $N$ et $P$ sont les milieux respectifs de $[BC]$ ; $[DE]$ et $[FA]$.<br>\n",
    "<br>\n",
    "$\\;\\;\\;$a. Activer la figure dynamique fournie ci-dessous. Quelle conjecture peut-on faire concernant le triangle $MNP$ ? \n",
    "</strong>     "
   ]
  },
  {
   "cell_type": "code",
   "execution_count": 26,
   "metadata": {},
   "outputs": [
    {
     "data": {
      "text/html": [
       "<html>\n",
       "\t<head>\n",
       "\t\t<!-- Configuration 2 Nombres complexes -->\n",
       "\t\t<!-- Copyright Franck CHEVRIER www.python-lycee.com -->\n",
       "\t\t<title></title>\n",
       "\t\t<script type=\"text/javascript\" src=\"GeoGebraWeb/web3d/web3d.nocache.js\"></script>\n",
       "\t</head>\n",
       "\t<body>\n",
       "\t\t<center>\n",
       "\t\t\t\t\t\t\n",
       "\t\t\t<div>\n",
       "\t\t\t\t<article class=\"geogebraweb\"\n",
       "\t\t\t\t\n",
       "\t\t\t\t\tdata-param-width=\"620\" data-param-height=\"620\"\n",
       "\t\t\t\t\tdata-param-ggbBase64=\"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\"\n",
       "\t\t\t\t\tdata-param-enableRightClick=\"false\"\n",
       "\t\t\t\t\tdata-param-enableLabelDrags=\"false\"\n",
       "\t\t\t\t\tdata-param-enableShiftDragZoom=\"false\"\n",
       "\t\t\t\t\tdata-param-showMenuBar=\"false\"\n",
       "\t\t\t\t\tdata-param-showToolBar=\"false\"\n",
       "\t\t\t\t\tdata-param-showAlgebraInput=\"false\"\n",
       "\t\t\t\t\tdata-param-showResetIcon=\"true\"\n",
       "\t\t\t\t\tdata-param-useBrowserForJS=\"true\"> \n",
       "\t\t\t\t\t\t\t\t\n",
       "\t\t\t\t\t\t\t\t\n",
       "\t\t\t\t</article>\n",
       "\t\t\t</div>\n",
       "\t\t</center>\n",
       "\t</body>\n",
       "</html>\n"
      ],
      "text/plain": [
       "<IPython.core.display.HTML object>"
      ]
     },
     "metadata": {},
     "output_type": "display_data"
    }
   ],
   "source": [
    "# Sélectionner cette zone puis SHIFT+ENTREE pour obtenir la figure dynamique\n",
    "from IPython.display import display, HTML ; display(HTML('fig_dyn_GeoGebra/intgeomcomplexeconfig2.html'))"
   ]
  },
  {
   "cell_type": "markdown",
   "metadata": {},
   "source": [
    "<strong>\n",
    "$\\quad\\quad$b. Exprimer $z_A$ ; $z_C$ et $z_E$ respectivement en fonction de $z_B$ ; $z_D$ et $z_F$.<br>\n",
    "$\\quad\\quad$c. Exprimer $z_M$ ; $z_N$ et $z_P$ en fonction de $z_A$ ; $z_B$ ; $z_C$ ; $z_D$ ; $z_E$ et $z_F$.<br>\n",
    "$\\quad\\quad$d. Calculer $z_M+jz_N+j^2z_P$. Conclure. \n",
    "</strong>\n",
    "<br>\n",
    "<br>\n",
    "<span style=\"color:red\">\n",
    "b. $OAB$ est équilatéral direct donc $ABO$ aussi et d'après la caractérisation vue en 1. on a : $z_A+jz_B+j^2\\times0=0$ c'est-à-dire $z_A=-jz_B$.<br>\n",
    "$\\;\\;\\;$De la même façon, on a $z_C=-jz_D$ et $z_E=-jz_F$.<br>\n",
    "c. $\\displaystyle z_M=\\frac{1}{2}(z_B+z_C)$ ; $\\displaystyle z_N=\\frac{1}{2}(z_D+z_E)$ et $\\displaystyle z_P=\\frac{1}{2}(z_F+z_A)$.<br>\n",
    "d. $\\displaystyle z_M+jz_N+j^2z_P=\\frac{1}{2} \\left( z_B+z_C+j(z_D+z_E)+j^2(z_F+z_A) \\right)$<br>\n",
    "    $\\quad\\quad\\quad\\quad\\quad\\quad\\quad\\;\\; \\displaystyle =\\frac{1}{2} \\left( z_B+z_C+jz_D+jz_E+j^2z_F+j^2z_A \\right)$<br>\n",
    "    $\\quad\\quad\\quad\\quad\\quad\\quad\\quad\\;\\; \\displaystyle =\\frac{1}{2} \\left( z_B-jz_D+jz_D-j^2z_F+j^2z_F-j^3z_B \\right)$ et comme $j^3=1$ :<br>    \n",
    "    $\\displaystyle z_M+jz_N+j^2z_P=0$ donc $MNP$ est un triangle équilatéral direct<br>\n",
    "</span>"
   ]
  },
  {
   "cell_type": "markdown",
   "metadata": {},
   "source": [
    "*(C) Copyright Franck CHEVRIER 2019-2021 http://www.python-lycee.com/*\n"
   ]
  }
 ],
 "metadata": {
  "celltoolbar": "Raw Cell Format",
  "kernelspec": {
   "display_name": "Python 3",
   "language": "python",
   "name": "python3"
  },
  "language_info": {
   "codemirror_mode": {
    "name": "ipython",
    "version": 3
   },
   "file_extension": ".py",
   "mimetype": "text/x-python",
   "name": "python",
   "nbconvert_exporter": "python",
   "pygments_lexer": "ipython3",
   "version": "3.7.10"
  }
 },
 "nbformat": 4,
 "nbformat_minor": 2
}
