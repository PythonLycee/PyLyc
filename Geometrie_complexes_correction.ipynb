{
 "cells": [
  {
   "cell_type": "markdown",
   "metadata": {},
   "source": [
    "![En tête general](img/En_tete_general.png)\n",
    "\n",
    "\n",
    "*(C) Copyright Franck CHEVRIER 2019-2021 http://www.python-lycee.com/*\n",
    "\n",
    "<span style=\"color: #9317B4\"> Pour exécuter une saisie Python, sélectionner la cellule et valider avec </span><span style=\"color: #B317B4\"><strong>SHIFT+Entrée</strong></span>."
   ]
  },
  {
   "cell_type": "markdown",
   "metadata": {},
   "source": [
    "# <span style=\"color:#6C3483\">Interprétations géométriques de nombres complexes</span>"
   ]
  },
  {
   "cell_type": "markdown",
   "metadata": {},
   "source": [
    "### <span style=\"color:#8E44AD\">Sommaire</span>\n",
    "\n",
    "<span style=\"color:#8E44AD\">I.</span> <a href=\"#I\">Interprétations géométriques de $z_B-z_A$ et $\\displaystyle \\frac{z_C-z_A}{z_B-z_A}$.</a><br>\n",
    "<span style=\"color:#8E44AD\">II.</span> <a href=\"#II\">Applications directes </a><br><br>\n",
    "<span style=\"color:#8E44AD\">III.</span> <a href=\"#III\">Études de configurations</a>\n",
    "<ol style=\"color:#8E44AD\">\n",
    "    <li><a href=\"#III1\">Deux triangles rectangles isocèles rectangles en un même point</a></li> \n",
    "    <li><a href=\"#III2\">Trois triangles équilatéraux ayant un sommet commun</a></li>\n",
    "</ol>"
   ]
  },
  {
   "cell_type": "markdown",
   "metadata": {},
   "source": [
    "## <span style=\"color:#6C3483\" id=\"I\">I. Interprétations géométriques de $z_B-z_A$ et $\\displaystyle \\frac{z_C-z_A}{z_B-z_A}$.</span>"
   ]
  },
  {
   "cell_type": "markdown",
   "metadata": {},
   "source": [
    "Dans le plan complexe muni du repère orthonormé $\\left( O \\;; \\overrightarrow{u} ; \\overrightarrow{v} \\right)$, on considère trois points distincts $A$ ; $B$ et $C$ d'affixes respectives $z_A$ ; $z_B$ et $z_C$.\n"
   ]
  },
  {
   "cell_type": "markdown",
   "metadata": {},
   "source": [
    "<strong style=\"color:#8E44AD\">1. En utilisant le point $M$ défini par $\\overrightarrow{OM}=\\overrightarrow{AB}$, démontrer le résultat suivant :</strong>\n",
    "\n",
    "<BLOCKQUOTE style='background-color:#F7E9DD;'>\n",
    "    <b style='color:#ED9246;'>À RETENIR</b><br>\n",
    "    Interprétation géométrique de $z_B-z_A$ :\n",
    "<ul>\n",
    "    <li>$\\left| z_B-z_A \\right| = AB$</li>\n",
    "    <li>$ arg \\left( z_B-z_A \\right) = \\left( \\overrightarrow{u} \\;;\\overrightarrow{AB} \\right) \\;[2\\pi]$</li>\n",
    "</ul>\n",
    "</BLOCKQUOTE>  "
   ]
  },
  {
   "cell_type": "code",
   "execution_count": 1,
   "metadata": {},
   "outputs": [
    {
     "data": {
      "text/html": [
       "fig_dyn_GeoGebra/intgeomcomplexe1.html"
      ],
      "text/plain": [
       "<IPython.core.display.HTML object>"
      ]
     },
     "metadata": {},
     "output_type": "display_data"
    }
   ],
   "source": [
    "# Sélectionner cette zone puis SHIFT+ENTREE pour obtenir la figure dynamique\n",
    "from IPython.display import display, HTML ; display(HTML('fig_dyn_GeoGebra/intgeomcomplexeprop1.html'))"
   ]
  },
  {
   "cell_type": "markdown",
   "metadata": {},
   "source": [
    "<strong style=\"color:#8E44AD\">2. À l'aide de la propriété précédente, démontrer que :</strong>\n",
    "\n",
    "<BLOCKQUOTE style='background-color:#F7E9DD;'>\n",
    "    <b style='color:#ED9246;'>À RETENIR</b><br>\n",
    "    Interprétation géométrique de $\\displaystyle \\frac{z_C-z_A}{z_B-z_A}$ :\n",
    "<ul>\n",
    "    <li>$ \\displaystyle \\left| \\frac{z_C-z_A}{z_B-z_A} \\right| = \\frac{AC}{AB}$</li>\n",
    "    <li>$ \\displaystyle arg \\left( \\frac{z_C-z_A}{z_B-z_A} \\right) = \\left( \\overrightarrow{AB} \\;;\\overrightarrow{AC} \\right) \\;[2\\pi]$</li>\n",
    "</ul>\n",
    "</BLOCKQUOTE> "
   ]
  },
  {
   "cell_type": "code",
   "execution_count": 2,
   "metadata": {},
   "outputs": [
    {
     "data": {
      "text/html": [
       "fig_dyn_GeoGebra/intgeomcomplexe2.html"
      ],
      "text/plain": [
       "<IPython.core.display.HTML object>"
      ]
     },
     "metadata": {},
     "output_type": "display_data"
    }
   ],
   "source": [
    "# Sélectionner cette zone puis SHIFT+ENTREE pour obtenir la figure dynamique\n",
    "from IPython.display import display, HTML ; display(HTML('fig_dyn_GeoGebra/intgeomcomplexeprop2.html'))"
   ]
  },
  {
   "cell_type": "markdown",
   "metadata": {},
   "source": [
    "## <span style=\"color:#6C3483\" id=\"II\">II. Applications directes</span>"
   ]
  },
  {
   "cell_type": "markdown",
   "metadata": {},
   "source": [
    "<strong><u style=\"color:#8E44AD\">Exercice 1 :</u></strong><br>\n",
    "On considère les points $A$ ; $B$ et $C$  d’affixes respectives $z_A=1+i$ ; $z_B=2+3i$ et $z_C=-1+2i$.\n",
    "<ol>\n",
    "    <li>Réaliser une figure. Quelle semble être la nature du triangle $ABC$ ?</li>\n",
    "    <li>Calculer $m=\\displaystyle \\frac{z_C-z_A}{z_B-z_A}$.</li>\n",
    "    <li>En interprétant géométriquement le module et un argument de $m$, en déduire la nature du triangle $ABC$.</li>\n",
    "    <li>On souhaite vérifier le résultat du calcul précédent à l'aide de saisies en Python :<br>\n",
    "        <BLOCKQUOTE style='background-color:#E9DDF7;'>\n",
    "        Le module <mark style=\"font-family: Consolas;\">simpy</mark> permet :\n",
    "        <ul>\n",
    "            <li>d'effectuer des calculs sous forme exacte avec racines carrées et $\\pi$ avec les syntaxes <mark style=\"font-family: Consolas;\">sqrt</mark> et <mark style=\"font-family: Consolas;\">pi</mark> ;</li>\n",
    "            <li>de créer un nombre complexe avec la syntaxe majuscule <mark style=\"font-family: Consolas;\">I</mark> pour le complexe $i$ ;</li>\n",
    "            <li>de simplifier une expression avec la fonction <mark style=\"font-family: Consolas;\">simplify</mark> ;</li>\n",
    "            <li>de calculer le module et l'argument d'un complexe respectivement à l'aide des fonctions <mark style=\"font-family: Consolas;\">abs</mark> et <mark style=\"font-family: Consolas;\">arg</mark>.</li>\n",
    "        </ul>\n",
    "        </BLOCKQUOTE>\n",
    "    Exécuter les cellules suivantes pour vérifier les calculs précédents.\n",
    "    </li>               \n",
    "</ol>"
   ]
  },
  {
   "cell_type": "code",
   "execution_count": 30,
   "metadata": {},
   "outputs": [
    {
     "data": {
      "text/latex": [
       "$\\displaystyle \\frac{\\left(-2 + i\\right) \\left(1 - 2 i\\right)}{5}$"
      ],
      "text/plain": [
       "(-2 + I)*(1 - 2*I)/5"
      ]
     },
     "execution_count": 30,
     "metadata": {},
     "output_type": "execute_result"
    }
   ],
   "source": [
    "# Import du module sympy\n",
    "from sympy import *\n",
    "\n",
    "# Mise en mémoire des valeurs de z_A; z_B et z_C\n",
    "z_A = 1+I ; z_B = 2+3*I ; z_C = -1+2*I\n",
    "\n",
    "# Calcul de m\n",
    "m = (z_C-z_A)/(z_B-z_A)\n",
    "\n",
    "m"
   ]
  },
  {
   "cell_type": "code",
   "execution_count": 4,
   "metadata": {},
   "outputs": [
    {
     "data": {
      "text/latex": [
       "$\\displaystyle i$"
      ],
      "text/plain": [
       "I"
      ]
     },
     "execution_count": 4,
     "metadata": {},
     "output_type": "execute_result"
    }
   ],
   "source": [
    "# Évaluation de la valeur de m\n",
    "simplify(m)"
   ]
  },
  {
   "cell_type": "code",
   "execution_count": 5,
   "metadata": {},
   "outputs": [
    {
     "data": {
      "text/latex": [
       "$\\displaystyle 1$"
      ],
      "text/plain": [
       "1"
      ]
     },
     "execution_count": 5,
     "metadata": {},
     "output_type": "execute_result"
    }
   ],
   "source": [
    "# Détermination du module de m\n",
    "abs(m)"
   ]
  },
  {
   "cell_type": "code",
   "execution_count": 6,
   "metadata": {},
   "outputs": [
    {
     "data": {
      "text/latex": [
       "$\\displaystyle \\frac{\\pi}{2}$"
      ],
      "text/plain": [
       "pi/2"
      ]
     },
     "execution_count": 6,
     "metadata": {},
     "output_type": "execute_result"
    }
   ],
   "source": [
    "# Détermination de l'argument de m\n",
    "arg(m)"
   ]
  },
  {
   "cell_type": "markdown",
   "metadata": {},
   "source": [
    "<b><u style=\"color:#8E44AD\">Exercice 2 :</u></b><br>\n",
    "<ol>\n",
    "    <li>De la même manière que dans l’exercice 1, déterminer par le calcul la nature des triangles suivants :\n",
    "    <ul>\n",
    "        <li>$DEF$ tel que  $z_D=-2+i$  ;  $z_E=-1+4i$  et  $z_F=4-i$.</li>\n",
    "        <li>$IJK$ tel que $\\displaystyle z_I=\\sqrt{3}+i$  ;  $ z_J=4i$  et  $\\displaystyle z_K=-\\sqrt{3}+i$.</li>\n",
    "    </ul>\n",
    "    <li>Vérifier les calculs précédents à l'aide de saisies Python.</li>\n",
    "</ol>"
   ]
  },
  {
   "cell_type": "code",
   "execution_count": 7,
   "metadata": {},
   "outputs": [
    {
     "data": {
      "text/latex": [
       "$\\displaystyle \\frac{\\left(1 - 3 i\\right) \\left(6 - 2 i\\right)}{10}$"
      ],
      "text/plain": [
       "(1 - 3*I)*(6 - 2*I)/10"
      ]
     },
     "execution_count": 7,
     "metadata": {},
     "output_type": "execute_result"
    }
   ],
   "source": [
    "# Utiliser ces zones de saisie pour vérifier les calculs relatifs au triangle DEF\n",
    "z_D = -2+I ; z_E = -1+4*I ; z_F = 4-I\n",
    "\n",
    "n = (z_F-z_D)/(z_E-z_D)\n",
    "n"
   ]
  },
  {
   "cell_type": "code",
   "execution_count": 8,
   "metadata": {},
   "outputs": [
    {
     "data": {
      "text/latex": [
       "$\\displaystyle - 2 i$"
      ],
      "text/plain": [
       "-2*I"
      ]
     },
     "execution_count": 8,
     "metadata": {},
     "output_type": "execute_result"
    }
   ],
   "source": [
    "\n",
    "simplify(n)"
   ]
  },
  {
   "cell_type": "code",
   "execution_count": 9,
   "metadata": {},
   "outputs": [
    {
     "data": {
      "text/latex": [
       "$\\displaystyle 2$"
      ],
      "text/plain": [
       "2"
      ]
     },
     "execution_count": 9,
     "metadata": {},
     "output_type": "execute_result"
    }
   ],
   "source": [
    "abs(n)\n"
   ]
  },
  {
   "cell_type": "code",
   "execution_count": 10,
   "metadata": {},
   "outputs": [
    {
     "data": {
      "text/latex": [
       "$\\displaystyle - \\frac{\\pi}{2}$"
      ],
      "text/plain": [
       "-pi/2"
      ]
     },
     "execution_count": 10,
     "metadata": {},
     "output_type": "execute_result"
    }
   ],
   "source": [
    "arg(n)"
   ]
  },
  {
   "cell_type": "code",
   "execution_count": 54,
   "metadata": {},
   "outputs": [
    {
     "data": {
      "text/latex": [
       "$\\displaystyle - \\frac{\\sqrt{3} \\left(- \\sqrt{3} + 3 i\\right)}{6}$"
      ],
      "text/plain": [
       "-sqrt(3)*(-sqrt(3) + 3*I)/6"
      ]
     },
     "execution_count": 54,
     "metadata": {},
     "output_type": "execute_result"
    }
   ],
   "source": [
    "# Utiliser ces zones de saisie pour vérifier les calculs relatifs au triangle IJK\n",
    "z_I = sqrt(3)+I ; z_J = 4*I ; z_K = -sqrt(3)+I\n",
    "\n",
    "p = (z_J-z_I)/(z_K-z_I)\n",
    "p"
   ]
  },
  {
   "cell_type": "code",
   "execution_count": 55,
   "metadata": {},
   "outputs": [
    {
     "data": {
      "text/latex": [
       "$\\displaystyle \\frac{1}{2} - \\frac{\\sqrt{3} i}{2}$"
      ],
      "text/plain": [
       "1/2 - sqrt(3)*I/2"
      ]
     },
     "execution_count": 55,
     "metadata": {},
     "output_type": "execute_result"
    }
   ],
   "source": [
    "simplify(p)"
   ]
  },
  {
   "cell_type": "code",
   "execution_count": 56,
   "metadata": {},
   "outputs": [
    {
     "data": {
      "text/latex": [
       "$\\displaystyle 1$"
      ],
      "text/plain": [
       "1"
      ]
     },
     "execution_count": 56,
     "metadata": {},
     "output_type": "execute_result"
    }
   ],
   "source": [
    "abs(p)"
   ]
  },
  {
   "cell_type": "code",
   "execution_count": 57,
   "metadata": {},
   "outputs": [
    {
     "data": {
      "text/latex": [
       "$\\displaystyle - \\frac{\\pi}{3}$"
      ],
      "text/plain": [
       "-pi/3"
      ]
     },
     "execution_count": 57,
     "metadata": {},
     "output_type": "execute_result"
    }
   ],
   "source": [
    "arg(p)"
   ]
  },
  {
   "cell_type": "markdown",
   "metadata": {},
   "source": [
    "## <span style=\"color:#6C3483\" id=\"III\">III. Études de configurations</span>"
   ]
  },
  {
   "cell_type": "markdown",
   "metadata": {},
   "source": [
    "Dans cette partie, on dira qu'un triangle $ABC$ est :\n",
    "<ul>\n",
    "    <li><b>direct</b> si l'angle $\\left( A \\;; \\overrightarrow{AB} ; \\overrightarrow{AC} \\right)$ a un argument dans l'intervalle $]0;\\pi[$, modulo $2\\pi$.</li>\n",
    "    <li><b>indirect</b> si l'angle $\\left( A \\;; \\overrightarrow{AB} ; \\overrightarrow{AC} \\right)$ a un argument dans l'intervalle $]-\\pi;0[$, modulo $2\\pi$.</li>\n",
    "</ul>\n",
    "(on différenciera donc les triangles $ABC$ et $ACB$, qui sont l'un direct et l'autre indirect)\n"
   ]
  },
  {
   "cell_type": "code",
   "execution_count": null,
   "metadata": {},
   "outputs": [],
   "source": [
    "# Sélectionner cette zone puis SHIFT+ENTREE pour obtenir la figure dynamique\n",
    "from IPython.display import display, HTML ; display(HTML('fig_dyn_GeoGebra/intgeomcomplexedirindir.html'))"
   ]
  },
  {
   "cell_type": "markdown",
   "metadata": {},
   "source": [
    "On admettra également la généralisation des résultats vus précédemment, pour 4 points $A$ ; $B$ ; $C$ et $D$ d'affixes respectives $z_A$ ; $z_B$ ; $z_C$ et $z_D$.\n",
    "\n",
    "<BLOCKQUOTE style='background-color:#F7E9DD;'>\n",
    "    Interprétation géométrique de $\\displaystyle \\frac{z_D-z_C}{z_B-z_A}$ :\n",
    "<ul>\n",
    "    <li>$ \\displaystyle \\left| \\frac{z_D-z_C}{z_B-z_A} \\right| = \\frac{CD}{AB}$</li>\n",
    "    <li>$ \\displaystyle arg \\left( \\frac{z_D-z_C}{z_B-z_A} \\right) = \\left( \\overrightarrow{AB} \\;;\\overrightarrow{CD} \\right) \\;[2\\pi]$</li>\n",
    "</ul>\n",
    "</BLOCKQUOTE> \n",
    "<br>\n",
    "<br>"
   ]
  },
  {
   "cell_type": "markdown",
   "metadata": {},
   "source": [
    "### <span style=\"color:#8E44AD\" id=\"III1\"> III.1. Deux triangles rectangles isocèles rectangles en un même point </span>"
   ]
  },
  {
   "cell_type": "markdown",
   "metadata": {},
   "source": [
    "<strong>\n",
    "Dans le plan complexe $\\left( O \\;; \\overrightarrow{u} ; \\overrightarrow{v} \\right)$, on considère deux triangles $OAB$ et $OCD$ qui sont rectangles directs.<br>\n",
    "On note $M$ le milieu de $[BC]$.<br><br>\n",
    "1. Dans cette question, les points $A$ et $C$ ont pour affixe respectives $z_A=4-i$ et $z_C=-3+5i$.<br>\n",
    "a. Activer la cellule ci-dessous pour obtenir la figure.<br>\n",
    "$\\;\\;\\;$Quelle conjecture peut-on émettre concernant les droites $(BC)$ et $(AD)$ ?\n",
    "</strong>"
   ]
  },
  {
   "cell_type": "code",
   "execution_count": null,
   "metadata": {},
   "outputs": [],
   "source": [
    "# Sélectionner cette zone puis SHIFT+ENTREE pour obtenir la figure dynamique\n",
    "from IPython.display import display, HTML ; display(HTML('fig_dyn_GeoGebra/intgeomcomplexeconfig1.html'))"
   ]
  },
  {
   "cell_type": "markdown",
   "metadata": {},
   "source": [
    "<strong>$\\quad\\;\\;$b. Déterminer les affixes respectives $z_B$ ; $z_D$ et $z_M$ des points $B$ ; $D$ et $M$.<br>\n",
    "$\\quad\\;\\;$c. À l'aide de saisies Python, déterminer la valeur de $\\displaystyle \\frac{z_M}{z_D-z_A}$.<br>\n",
    "$\\quad\\quad\\;$Vérifier ensuite par le calcul le résultat obtenu à la question c.<br>\n",
    "</strong>"
   ]
  },
  {
   "cell_type": "code",
   "execution_count": 79,
   "metadata": {},
   "outputs": [
    {
     "data": {
      "text/latex": [
       "$\\displaystyle \\frac{- \\frac{3}{2} + \\frac{i \\left(4 - i\\right)}{2} + \\frac{5 i}{2}}{-4 + i \\left(-3 + 5 i\\right) + i}$"
      ],
      "text/plain": [
       "(-3/2 + I*(4 - I)/2 + 5*I/2)/(-4 + I*(-3 + 5*I) + I)"
      ]
     },
     "execution_count": 79,
     "metadata": {},
     "output_type": "execute_result"
    }
   ],
   "source": [
    "# Utiliser ces zones de saisie pour les calculs\n",
    "z_A = 4-I ; z_C = -3+5*I ; z_B = z_A*I ; z_D = z_C*I\n",
    "z_M = (z_B+z_C)/2\n",
    "\n",
    "k = (z_M)/(z_D-z_A)\n",
    "k"
   ]
  },
  {
   "cell_type": "code",
   "execution_count": 80,
   "metadata": {},
   "outputs": [
    {
     "data": {
      "text/latex": [
       "$\\displaystyle - \\frac{i}{2}$"
      ],
      "text/plain": [
       "-I/2"
      ]
     },
     "execution_count": 80,
     "metadata": {},
     "output_type": "execute_result"
    }
   ],
   "source": [
    "simplify(k)"
   ]
  },
  {
   "cell_type": "code",
   "execution_count": 81,
   "metadata": {},
   "outputs": [
    {
     "data": {
      "text/latex": [
       "$\\displaystyle \\frac{1}{2}$"
      ],
      "text/plain": [
       "1/2"
      ]
     },
     "execution_count": 81,
     "metadata": {},
     "output_type": "execute_result"
    }
   ],
   "source": [
    "abs(k)"
   ]
  },
  {
   "cell_type": "code",
   "execution_count": 82,
   "metadata": {},
   "outputs": [
    {
     "data": {
      "text/latex": [
       "$\\displaystyle - \\frac{\\pi}{2}$"
      ],
      "text/plain": [
       "-pi/2"
      ]
     },
     "execution_count": 82,
     "metadata": {},
     "output_type": "execute_result"
    }
   ],
   "source": [
    "arg(k)"
   ]
  },
  {
   "cell_type": "markdown",
   "metadata": {},
   "source": [
    "<strong>\n",
    "$\\quad\\;\\;$d. Que peut-on conclure concernant les droites $(OM)$ et $(AD)$ ? et concernant les longueurs des segments $[OM]$ et $[AD]$ ?<br>\n",
    "</strong>    "
   ]
  },
  {
   "cell_type": "markdown",
   "metadata": {},
   "source": [
    "<strong>\n",
    "2. Dans cette question, on revient au cas général où les affixes $z_A$ et $z_C$ des points $A$ et $C$ sont quelconques.<br>\n",
    "$\\;\\;\\;$a. Déplacer les points $A$ et $C$ sur la figure fournie. Quelle conjecture peut-on émettre ?<br>\n",
    "$\\;\\;\\;$b. Démontrer cette conjecture.\n",
    "</strong>\n",
    "<br><br>"
   ]
  },
  {
   "cell_type": "markdown",
   "metadata": {},
   "source": [
    "### <span style=\"color:#8E44AD\" id=\"III2\"> III.2. Trois triangles équilatéraux ayant un sommet commun </span>"
   ]
  },
  {
   "cell_type": "markdown",
   "metadata": {},
   "source": [
    "<strong>\n",
    "On se place dans le plan complexe $\\left( O \\;; \\overrightarrow{u} ; \\overrightarrow{v} \\right)$ et on pose $\\displaystyle j=e^{i\\frac{2\\pi}{3}}=-\\frac{1}{2}+i\\frac{\\sqrt{3}}{2}$.<br>\n",
    "Dans cette étude, l'affixe d'un point $M$ sera systématiquement désignée par la notation $z_M$.\n",
    "<br><br>\n",
    "\n",
    "1. Condition nécessaire et suffisante pour qu'un triangle soit équilatéral<br><br>\n",
    "$\\;\\;\\;$a. Exécuter les cellules Python suivantes (la fonction <mark style=\"font-family: Consolas;\">conjugate</mark> permet de calculer le conjugué d'un complexe).<br>\n",
    "$\\quad\\;\\;$Quelles relations vérifiées par $j$ obtient-on ?<br>\n",
    "$\\quad\\;\\;$Vérifier ces résultats par le calcul, et justifier en particulier que $1+j=e^{i\\frac{\\pi}{3}}$\n",
    "    "
   ]
  },
  {
   "cell_type": "code",
   "execution_count": 97,
   "metadata": {},
   "outputs": [
    {
     "data": {
      "text/latex": [
       "$\\displaystyle - \\frac{1}{2} + \\frac{\\sqrt{3} i}{2}$"
      ],
      "text/plain": [
       "-1/2 + sqrt(3)*I/2"
      ]
     },
     "execution_count": 97,
     "metadata": {},
     "output_type": "execute_result"
    }
   ],
   "source": [
    "j = (-1+I*sqrt(3))/2\n",
    "j"
   ]
  },
  {
   "cell_type": "code",
   "execution_count": 98,
   "metadata": {},
   "outputs": [
    {
     "data": {
      "text/latex": [
       "$\\displaystyle 1$"
      ],
      "text/plain": [
       "1"
      ]
     },
     "execution_count": 98,
     "metadata": {},
     "output_type": "execute_result"
    }
   ],
   "source": [
    "simplify(j**3)"
   ]
  },
  {
   "cell_type": "code",
   "execution_count": 103,
   "metadata": {},
   "outputs": [
    {
     "data": {
      "text/latex": [
       "$\\displaystyle 0$"
      ],
      "text/plain": [
       "0"
      ]
     },
     "execution_count": 103,
     "metadata": {},
     "output_type": "execute_result"
    }
   ],
   "source": [
    "simplify(j**2-conjugate(j))"
   ]
  },
  {
   "cell_type": "code",
   "execution_count": 100,
   "metadata": {},
   "outputs": [
    {
     "data": {
      "text/latex": [
       "$\\displaystyle 0$"
      ],
      "text/plain": [
       "0"
      ]
     },
     "execution_count": 100,
     "metadata": {},
     "output_type": "execute_result"
    }
   ],
   "source": [
    "simplify(1+j+j**2)"
   ]
  },
  {
   "cell_type": "code",
   "execution_count": 101,
   "metadata": {},
   "outputs": [
    {
     "data": {
      "text/latex": [
       "$\\displaystyle \\frac{1}{2} + \\frac{\\sqrt{3} i}{2}$"
      ],
      "text/plain": [
       "1/2 + sqrt(3)*I/2"
      ]
     },
     "execution_count": 101,
     "metadata": {},
     "output_type": "execute_result"
    }
   ],
   "source": [
    "simplify(1+j)"
   ]
  },
  {
   "cell_type": "markdown",
   "metadata": {},
   "source": [
    "<strong>\n",
    "$\\;\\;\\;$b. On considère trois points $M$ ; $N$ et $P$.<br>   \n",
    "$\\quad\\;\\;$ Démontrer que le triangle $MNP$ est équilatéral direct si et seulement si $z_M+z_Nj+z_Pj^2=0$.<br>\n",
    "<br>\n",
    "2. Application<br>\n",
    "<br>\n",
    "$\\;\\;\\;$On considère 6 points $A$ ; $B$ ; $C$ ; $D$ ; $E$ et $F$ tels que $OAB$ ; $OCD$ et $OEF$ sont des triangles équilatéraux directs.<br>\n",
    "$\\;\\;\\;$$M$; $N$ et $P$ sont les milieux respectifs de $[BC]$ ; $[DE]$ et $[FA]$.<br>\n",
    "<br>\n",
    "$\\;\\;\\;$a. Activer la figure dynamique fournie ci-dessous. Quelle conjecture peut-on faire concernant le triangle $MNP$ ? \n",
    "</strong>     "
   ]
  },
  {
   "cell_type": "code",
   "execution_count": null,
   "metadata": {},
   "outputs": [],
   "source": [
    "# Sélectionner cette zone puis SHIFT+ENTREE pour obtenir la figure dynamique\n",
    "from IPython.display import display, HTML ; display(HTML('fig_dyn_GeoGebra/intgeomcomplexeconfig2.html'))"
   ]
  },
  {
   "cell_type": "markdown",
   "metadata": {},
   "source": [
    "<strong>\n",
    "$\\quad\\quad$b. Exprimer $z_A$ ; $z_C$ et $z_E$ respectivement en fonction de $z_B$ ; $z_D$ et $z_F$.<br>\n",
    "$\\quad\\quad$c. Exprimer $z_M$ ; $z_N$ et $z_P$ en fonction de $z_A$ ; $z_B$ ; $z_C$ ; $z_D$ ; $z_E$ et $z_F$.<br>\n",
    "$\\quad\\quad$d. Calculer $z_M+z_Nj+z_Pj^2$. Conclure. \n",
    "</strong>"
   ]
  },
  {
   "cell_type": "markdown",
   "metadata": {},
   "source": [
    "*(C) Copyright Franck CHEVRIER 2019-2021 http://www.python-lycee.com/*\n"
   ]
  }
 ],
 "metadata": {
  "celltoolbar": "Raw Cell Format",
  "kernelspec": {
   "display_name": "Python 3",
   "language": "python",
   "name": "python3"
  },
  "language_info": {
   "codemirror_mode": {
    "name": "ipython",
    "version": 3
   },
   "file_extension": ".py",
   "mimetype": "text/x-python",
   "name": "python",
   "nbconvert_exporter": "python",
   "pygments_lexer": "ipython3",
   "version": "3.8.5"
  }
 },
 "nbformat": 4,
 "nbformat_minor": 2
}
