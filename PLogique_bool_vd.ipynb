{
 "cells": [
  {
   "cell_type": "markdown",
   "metadata": {},
   "source": [
    "![En tête general](https://raw.githubusercontent.com/PythonLycee/PyLyc/master/img/En_tete_general.png)\n",
    "\n",
    "\n",
    "<i>© Copyright Franck CHEVRIER 2019-2021 https://www.python-lycee.com.</i><br>\n",
    "<i>Les activités partagées sur <a href=\"https://capytale2.ac-paris.fr/web/accueil\"><strong>Capytale</strong></a> sont sous licence <a href=\"https://creativecommons.org/licenses/by-sa/3.0/fr/\">Creative Commons</a>.</i>\n",
    "\n",
    "<span style=\"color: #9317B4\"> Pour exécuter une saisie Python, sélectionner la cellule et valider avec </span><span style=\"color: #B317B4\"><strong>SHIFT+Entrée</strong></span>.\n"
   ]
  },
  {
   "cell_type": "markdown",
   "metadata": {},
   "source": [
    "<br><br>\n",
    "<strong style=\"color:#EF6607; font-size:36px;\"> Portes logiques et expressions booléennes </strong> "
   ]
  },
  {
   "cell_type": "markdown",
   "metadata": {},
   "source": [
    "### <span style=\"color:#EF6607\">Sommaire</span>\n",
    "\n",
    "<span style=\"color:#EF6607\">1.</span> <a href=\"#1\">Portes logiques et booléens</a><br>\n",
    "<span style=\"color:#EF6607\">2.</span> <a href=\"#2\">Circuits combinatoires</a><br>\n",
    "<span style=\"color:#EF6607\">3.</span> <a href=\"#3\">Complément : un outil</a><br>\n"
   ]
  },
  {
   "cell_type": "markdown",
   "metadata": {},
   "source": [
    "<br><br>\n",
    "<strong style=\"color:#EF6607; font-size:26px;\" id=\"1\">1. Portes logiques et booléens </strong>"
   ]
  },
  {
   "cell_type": "markdown",
   "metadata": {},
   "source": [
    "Le codage d'une information ou sa circulation se font à l'aide de courant électrique.<br> Deux tensions sont possibles : <strong> 1 </strong>(haute) et <strong> 0 </strong>(basse), qui correspondent respectivement aux valeurs booléennes <strong>True</strong> et <strong>False</strong>.<br><br>\n",
    "Une <strong>porte logique</strong> reçoit un ou plusieurs signaux en entrée et renvoie un signal en sortie selon une règle préétablie.<br>\n",
    "\n",
    "<table style=\"border-collapse:collapse;border-spacing:0;table-layout: fixed; width: 889px\" class=\"tg\"><colgroup><col style=\"width: 132px\"><col style=\"width: 234px\"><col style=\"width: 267px\"><col style=\"width: 256px\"></colgroup><thead><tr><th style=\"border-color:#000000;border-style:solid;border-width:1px;color:#333333;font-family:Arial, sans-serif;font-size:14px;font-weight:normal;overflow:hidden;padding:7px 5px;text-align:center;vertical-align:top;word-break:normal\" colspan=\"4\"><br><span style=\"font-weight:bold\">Portes logiques élémentaires</span><br> </th></tr></thead><tbody><tr><td style=\"background-color:#ffffc7;border-color:inherit;border-style:solid;border-width:1px;font-family:Arial, sans-serif;font-size:14px;font-weight:bold;overflow:hidden;padding:7px 5px;text-align:center;vertical-align:top;word-break:normal\">Nom </td><td style=\"background-color:#fffc9e;border-color:inherit;border-style:solid;border-width:1px;font-family:Arial, sans-serif;font-size:14px;font-weight:bold;overflow:hidden;padding:7px 5px;text-align:center;vertical-align:top;word-break:normal\">Porte \"et\"</td><td style=\"background-color:#fffc9e;border-color:inherit;border-style:solid;border-width:1px;font-family:Arial, sans-serif;font-size:14px;font-weight:bold;overflow:hidden;padding:7px 5px;text-align:center;vertical-align:top;word-break:normal\">Porte \"ou\"</td><td style=\"background-color:#fffc9e;border-color:inherit;border-style:solid;border-width:1px;font-family:Arial, sans-serif;font-size:14px;font-weight:bold;overflow:hidden;padding:7px 5px;text-align:center;vertical-align:top;word-break:normal\">Porte \"non\"</td></tr><tr><td style=\"background-color:#ffffc7;border-color:inherit;border-style:solid;border-width:1px;font-family:Arial, sans-serif;font-size:14px;font-weight:bold;overflow:hidden;padding:7px 5px;text-align:center;vertical-align:top;word-break:normal\">Représentation</td><td style=\"background-color:#ffffff;border-color:inherit;border-style:solid;border-width:1px;font-family:Arial, sans-serif;font-size:14px;overflow:hidden;padding:7px 5px;text-align:center;vertical-align:top;word-break:normal\"><img src=\"https://raw.githubusercontent.com/PythonLycee/PyLyc/master/img/Logic_bool/porte_et.png\">\n",
    "</td><td style=\"background-color:#ffffff;border-color:inherit;border-style:solid;border-width:1px;font-family:Arial, sans-serif;font-size:14px;overflow:hidden;padding:7px 5px;text-align:center;vertical-align:top;word-break:normal\"><img src=\"https://raw.githubusercontent.com/PythonLycee/PyLyc/master/img/Logic_bool/porte_ou.png\"></td><td style=\"background-color:#ffffff;border-color:inherit;border-style:solid;border-width:1px;font-family:Arial, sans-serif;font-size:14px;overflow:hidden;padding:7px 5px;text-align:center;vertical-align:top;word-break:normal\"><img src=\"https://raw.githubusercontent.com/PythonLycee/PyLyc/master/img/Logic_bool/porte_non.png\"></td></tr><tr><td style=\"background-color:#ffffc7;border-color:inherit;border-style:solid;border-width:1px;font-family:Arial, sans-serif;font-size:14px;font-weight:bold;overflow:hidden;padding:7px 5px;text-align:center;vertical-align:top;word-break:normal\">Règle</td><td style=\"background-color:#ffffff;border-color:inherit;border-style:solid;border-width:1px;font-family:Arial, sans-serif;font-size:14px;overflow:hidden;padding:7px 5px;text-align:center;vertical-align:top;word-break:normal\">La porte \"et\" renvoie True en sortie si et seulement si les deux entrées valent True.</td><td style=\"background-color:#ffffff;border-color:inherit;border-style:solid;border-width:1px;font-family:Arial, sans-serif;font-size:14px;overflow:hidden;padding:7px 5px;text-align:center;vertical-align:top;word-break:normal\">La porte \"ou\" renvoie True en sortie si et seulement si au moins une des deux entrées vaut True.</td><td style=\"background-color:#ffffff;border-color:inherit;border-style:solid;border-width:1px;font-family:Arial, sans-serif;font-size:14px;overflow:hidden;padding:7px 5px;text-align:center;vertical-align:top;word-break:normal\">La porte \"non\" renvoie True en sortie si et seulement si l'entrée vaut False.</td></tr><tr><td style=\"background-color:#ffffc7;border-color:inherit;border-style:solid;border-width:1px;font-family:Arial, sans-serif;font-size:14px;font-weight:bold;overflow:hidden;padding:7px 5px;text-align:center;vertical-align:top;word-break:normal\">Syntaxe Python</td>\n",
    "    <td style=\"background-color:#ffffff;border-color:inherit;border-style:solid;border-width:1px;font-family:'Consolas';font-size:14px;font-weight:bold;overflow:hidden;padding:7px 5px;text-align:center;vertical-align:top;word-break:normal\">and</td>\n",
    "    <td style=\"background-color:#ffffff;border-color:inherit;border-style:solid;border-width:1px;font-family:'Consolas';font-size:14px;font-weight:bold;overflow:hidden;padding:7px 5px;text-align:center;vertical-align:top;word-break:normal\">or</td>\n",
    "    <td style=\"background-color:#ffffff;border-color:inherit;border-style:solid;border-width:1px;font-family:'Consolas';font-size:14px;font-weight:bold;overflow:hidden;padding:7px 5px;text-align:center;vertical-align:top;word-break:normal\">not</td></tr></tbody></table>"
   ]
  },
  {
   "cell_type": "markdown",
   "metadata": {},
   "source": [
    "<strong>1.1. Dresser la table de vérité d'une porte logique consiste à recenser les valeurs obtenues en sortie en fonction des valeurs reçues en entrée.<br>\n",
    "$\\quad\\;\\;$Recopier et compléter la table de vérité de la porte logique \"et\" ci-dessous :</strong>\n",
    "\n",
    "<table style=\"border-collapse:collapse;border-spacing:0;table-layout: fixed; width: 200px\" class=\"tg\"><colgroup><col style=\"width: 67px\"><col style=\"width: 69px\"><col style=\"width: 64px\"></colgroup><thead><tr><th style=\"border-color:black;border-style:solid;border-width:1px;font-family:Arial, sans-serif;font-size:14px;font-weight:normal;overflow:hidden;padding:7px 5px;text-align:center;vertical-align:top;word-break:normal\" colspan=\"3\"><span style=\"font-weight:bold\">Porte logique \"et\"</span></th></tr></thead><tbody><tr><td style=\"background-color:#cbcefb;border-color:inherit;border-style:solid;border-width:1px;font-family:Arial, sans-serif;font-size:14px;font-weight:bold;overflow:hidden;padding:7px 5px;text-align:center;vertical-align:top;word-break:normal\">e1</td><td style=\"background-color:#cbcefb;border-color:inherit;border-style:solid;border-width:1px;font-family:Arial, sans-serif;font-size:14px;font-weight:bold;overflow:hidden;padding:7px 5px;text-align:center;vertical-align:top;word-break:normal\">e2</td><td style=\"background-color:#fe996b;border-color:inherit;border-style:solid;border-width:1px;font-family:Arial, sans-serif;font-size:14px;font-weight:bold;overflow:hidden;padding:7px 5px;text-align:center;vertical-align:top;word-break:normal\">s</td></tr><tr><td style=\"background-color:#ecf4ff;border-color:inherit;border-style:solid;border-width:1px;font-family:Arial, sans-serif;font-size:14px;overflow:hidden;padding:7px 5px;text-align:center;vertical-align:top;word-break:normal\">0</td><td style=\"background-color:#ecf4ff;border-color:inherit;border-style:solid;border-width:1px;font-family:Arial, sans-serif;font-size:14px;overflow:hidden;padding:7px 5px;text-align:center;vertical-align:top;word-break:normal\">0</td><td style=\"background-color:#ffce93;border-color:inherit;border-style:solid;border-width:1px;font-family:Arial, sans-serif;font-size:14px;overflow:hidden;padding:7px 5px;text-align:center;vertical-align:top;word-break:normal\"></td></tr><tr><td style=\"background-color:#ecf4ff;border-color:inherit;border-style:solid;border-width:1px;font-family:Arial, sans-serif;font-size:14px;overflow:hidden;padding:7px 5px;text-align:center;vertical-align:top;word-break:normal\">0</td><td style=\"background-color:#ecf4ff;border-color:inherit;border-style:solid;border-width:1px;font-family:Arial, sans-serif;font-size:14px;overflow:hidden;padding:7px 5px;text-align:center;vertical-align:top;word-break:normal\">1</td><td style=\"background-color:#ffce93;border-color:inherit;border-style:solid;border-width:1px;font-family:Arial, sans-serif;font-size:14px;overflow:hidden;padding:7px 5px;text-align:center;vertical-align:top;word-break:normal\"></td></tr><tr><td style=\"background-color:#ecf4ff;border-color:inherit;border-style:solid;border-width:1px;font-family:Arial, sans-serif;font-size:14px;overflow:hidden;padding:7px 5px;text-align:center;vertical-align:top;word-break:normal\">1</td><td style=\"background-color:#ecf4ff;border-color:inherit;border-style:solid;border-width:1px;font-family:Arial, sans-serif;font-size:14px;overflow:hidden;padding:7px 5px;text-align:center;vertical-align:top;word-break:normal\">0</td><td style=\"background-color:#ffce93;border-color:inherit;border-style:solid;border-width:1px;font-family:Arial, sans-serif;font-size:14px;overflow:hidden;padding:7px 5px;text-align:center;vertical-align:top;word-break:normal\"></td></tr><tr><td style=\"background-color:#ecf4ff;border-color:inherit;border-style:solid;border-width:1px;font-family:Arial, sans-serif;font-size:14px;overflow:hidden;padding:7px 5px;text-align:center;vertical-align:top;word-break:normal\">1</td><td style=\"background-color:#ecf4ff;border-color:inherit;border-style:solid;border-width:1px;font-family:Arial, sans-serif;font-size:14px;overflow:hidden;padding:7px 5px;text-align:center;vertical-align:top;word-break:normal\">1</td><td style=\"background-color:#ffce93;border-color:inherit;border-style:solid;border-width:1px;font-family:Arial, sans-serif;font-size:14px;overflow:hidden;padding:7px 5px;text-align:center;vertical-align:top;word-break:normal\"></td></tr></tbody></table>"
   ]
  },
  {
   "cell_type": "markdown",
   "metadata": {},
   "source": [
    "<strong>1.2. Exécuter la cellule Python suivante, puis modifier/compléter pour vérifier l'ensemble de la table de vérité réalisée en 1.1.</strong>"
   ]
  },
  {
   "cell_type": "code",
   "execution_count": null,
   "metadata": {},
   "outputs": [],
   "source": [
    "# Exécuter/modifier cette cellule\n",
    "\n",
    "e1 = True\n",
    "e2 = True\n",
    "\n",
    "s = e1 and e2\n",
    "\n",
    "s"
   ]
  },
  {
   "cell_type": "markdown",
   "metadata": {},
   "source": [
    "<strong>1.3. Dresser et compléter les tables de vérité des portes logiques \"ou\" et \"non\".</strong>\n"
   ]
  },
  {
   "cell_type": "markdown",
   "metadata": {},
   "source": [
    "<strong>1.4. Effectuer des saisies Python pour vérifier ces tables de vérité.</strong>"
   ]
  },
  {
   "cell_type": "code",
   "execution_count": null,
   "metadata": {},
   "outputs": [],
   "source": [
    "# Effectuer ici les saisies Python\n"
   ]
  },
  {
   "cell_type": "code",
   "execution_count": null,
   "metadata": {},
   "outputs": [],
   "source": [
    "\n"
   ]
  },
  {
   "cell_type": "markdown",
   "metadata": {},
   "source": [
    "<br><br>\n",
    "<strong style=\"color:#EF6607; font-size:26px;\" id=\"2\">2. Circuits combinatoires</strong>"
   ]
  },
  {
   "cell_type": "markdown",
   "metadata": {},
   "source": [
    "Les <strong>circuits combinatoires</strong> sont construits à partir de portes logiques élémentaires, qui sont en quelque sorte les briques élémentaires ces circuits.<br>"
   ]
  },
  {
   "cell_type": "markdown",
   "metadata": {},
   "source": [
    "<strong>2.1. On considère le circuit combinatoire noté Circuit1, donné ci-dessous. Dresser sa table de vérité.<br>\n",
    "$\\quad\\;\\;$(on peut inclure des colonnes pour indiquer des valeurs intermédiaires)\n",
    "</strong>\n",
    "\n",
    "<img src=\"https://raw.githubusercontent.com/PythonLycee/PyLyc/master/img/Logic_bool/Circuit1.png\">"
   ]
  },
  {
   "cell_type": "markdown",
   "metadata": {},
   "source": [
    "<strong>2.2. Écrire une fonction Python <mark style=\"font-family: Consolas;\">Circuit1</mark>, qui :\n",
    "<ul>\n",
    "    <li>reçoit en arguments deux booléens <mark style=\"font-family: Consolas;\">e1</mark> et <mark style=\"font-family: Consolas;\">e2</mark> ;</li>\n",
    "    <li>renvoie le booléen <mark style=\"font-family: Consolas;\">s</mark> correspondant à la sortie de ce circuit.</li>\n",
    "</ul>\n",
    "</strong>"
   ]
  },
  {
   "cell_type": "code",
   "execution_count": null,
   "metadata": {},
   "outputs": [],
   "source": [
    "#Écrire ici la fonction Circuit1\n",
    "\n",
    "\n"
   ]
  },
  {
   "cell_type": "markdown",
   "metadata": {},
   "source": [
    "<strong>2.3. La fonction Python <mark style=\"font-family: Consolas;\">Table_verite</mark> donnée ci-dessous renvoie la table de vérité d'un circuit combinatoire donné par une fonction Python.<br>\n",
    "$\\quad\\;\\;$Exécuter les cellules suivantes pour vérifier les résultats de la question 2.1.</strong>"
   ]
  },
  {
   "cell_type": "code",
   "execution_count": null,
   "metadata": {},
   "outputs": [],
   "source": [
    "from itertools import product\n",
    "from inspect import signature\n",
    "\n",
    "def Table_verite(fonction_booleenne):\n",
    "    \"\"\"\n",
    "    renvoie la table d'une fonction booléenne sous forme d'un dictionnaire\n",
    "    À chaque tuple des valeurs booléennes en entrée est associé la(les) sortie(s) correspondante(s)\n",
    "    \"\"\"\n",
    "    #récupération du nombre d'arguments de la fonction booleenne\n",
    "    nbre_arguments = len (signature(fonction_booleenne).parameters) \n",
    "    \n",
    "    #initialisation de la table\n",
    "    Table={}\n",
    "    \n",
    "    #remplissage de la table : à chaque liste de booléens possible...\n",
    "    for liste_bool in product( *([[False,True] for j in range(nbre_arguments)] )):\n",
    "        #...on fait correspondre le résultat de la fonction booléenne\n",
    "        Table[liste_bool] = fonction_booleenne(*liste_bool)\n",
    "    \n",
    "    #renvoie la table\n",
    "    return Table\n"
   ]
  },
  {
   "cell_type": "code",
   "execution_count": null,
   "metadata": {},
   "outputs": [],
   "source": [
    "#Exécuter cet appel à la fonction Table_verite\n",
    "Table_verite(Circuit1)"
   ]
  },
  {
   "cell_type": "markdown",
   "metadata": {},
   "source": [
    "<strong>2.4. Pour chacun des circuits combinatoires donnés ci-dessous:\n",
    "<ul>\n",
    "    <li>dresser sa table de vérité ;</li>\n",
    "    <li>écrire une fonction Python correspondante ;</li>\n",
    "    <li>vérifier la table de vérité à l'aide d'un appel à la fonction Python <mark style=\"font-family: Consolas;\">Table_verite</mark></li>\n",
    "</ul>\n",
    "    \n",
    "<img src=\"https://raw.githubusercontent.com/PythonLycee/PyLyc/master/img/Logic_bool/Circuit23456.png\">"
   ]
  },
  {
   "cell_type": "code",
   "execution_count": null,
   "metadata": {},
   "outputs": [],
   "source": [
    "# Utiliser ces zones Python pour définir les fonctions et effectuer les appels à Table_verite\n"
   ]
  },
  {
   "cell_type": "code",
   "execution_count": null,
   "metadata": {},
   "outputs": [],
   "source": [
    "\n"
   ]
  },
  {
   "cell_type": "code",
   "execution_count": null,
   "metadata": {},
   "outputs": [],
   "source": [
    "\n"
   ]
  },
  {
   "cell_type": "code",
   "execution_count": null,
   "metadata": {},
   "outputs": [],
   "source": [
    "\n"
   ]
  },
  {
   "cell_type": "code",
   "execution_count": null,
   "metadata": {},
   "outputs": [],
   "source": [
    "\n"
   ]
  },
  {
   "cell_type": "markdown",
   "metadata": {},
   "source": [
    "<strong>2.5. On considère le circuit combinatoire ci-dessous :</strong>\n",
    "\n",
    "<img src=\"https://raw.githubusercontent.com/PythonLycee/PyLyc/master/img/Logic_bool/Circuit7.png\">\n",
    "\n",
    "<strong>\n",
    "$\\quad\\;\\;$a. Dresser sa table de vérité. Vérifier à l'aide de saisies Python.<br>\n",
    "$\\quad\\;\\;$b. À quelle porte logique ce circuit correspond-t-il ?<br>\n",
    "$\\quad\\;\\;$c. Proposer un circuit combinatoire qui réalise la fonction \"ou\" en utilisant uniquement des portes logiques élémentaires \"et\" et \"non\".<br>\n",
    "</strong>    \n"
   ]
  },
  {
   "cell_type": "code",
   "execution_count": null,
   "metadata": {},
   "outputs": [],
   "source": [
    "#Utiliser cette cellule pour la vérification de la question 2.5.a\n",
    "\n"
   ]
  },
  {
   "cell_type": "markdown",
   "metadata": {},
   "source": [
    "<strong>2.6. On considère la porte \" x-ou \" (\"x-or\" , \"ou exclusif\") décrite ci-dessous :</strong>\n",
    "<br>\n",
    "<table style=\"border-collapse:collapse;border-spacing:0;table-layout: fixed; width: 366px\" class=\"tg\"><colgroup><col style=\"width: 132px\"><col style=\"width: 234px\"></colgroup><thead><tr><th style=\"background-color:#ffffc7;border-color:inherit;border-style:solid;border-width:1px;font-family:Arial, sans-serif;font-size:14px;font-weight:bold;overflow:hidden;padding:7px 5px;text-align:center;vertical-align:top;word-break:normal\">Nom </th><th style=\"background-color:#fffc9e;border-color:inherit;border-style:solid;border-width:1px;font-family:Arial, sans-serif;font-size:14px;font-weight:bold;overflow:hidden;padding:7px 5px;text-align:center;vertical-align:top;word-break:normal\">Porte \"x-ou\"</th></tr></thead><tbody><tr><td style=\"background-color:#ffffc7;border-color:inherit;border-style:solid;border-width:1px;font-family:Arial, sans-serif;font-size:14px;font-weight:bold;overflow:hidden;padding:7px 5px;text-align:center;vertical-align:top;word-break:normal\">Représentation</td><td style=\"background-color:#ffffff;border-color:inherit;border-style:solid;border-width:1px;font-family:Arial, sans-serif;font-size:14px;overflow:hidden;padding:7px 5px;text-align:center;vertical-align:top;word-break:normal\"><img src=\"https://raw.githubusercontent.com/PythonLycee/PyLyc/master/img/Logic_bool/porte_xou.png\"></td></tr><tr><td style=\"background-color:#ffffc7;border-color:inherit;border-style:solid;border-width:1px;font-family:Arial, sans-serif;font-size:14px;font-weight:bold;overflow:hidden;padding:7px 5px;text-align:center;vertical-align:top;word-break:normal\">Règle</td><td style=\"background-color:#ffffff;border-color:inherit;border-style:solid;border-width:1px;font-family:Arial, sans-serif;font-size:14px;overflow:hidden;padding:7px 5px;text-align:center;vertical-align:top;word-break:normal\">La porte \"x-ou\" renvoie True si et seulement si une et une seule de ses entrées vaut True</td></tr><tr><td style=\"background-color:#ffffc7;border-color:inherit;border-style:solid;border-width:1px;font-family:Arial, sans-serif;font-size:14px;font-weight:bold;overflow:hidden;padding:7px 5px;text-align:center;vertical-align:top;word-break:normal\">Syntaxe Python</td><td style=\"background-color:#ffffff;border-color:inherit;border-style:solid;border-width:1px;font-family:'Consolas', monospace !important;;font-size:14px;font-weight:bold;overflow:hidden;padding:7px 5px;text-align:center;vertical-align:top;word-break:normal\">^</td></tr></tbody></table>\n",
    "<br><br>\n",
    "<strong>\n",
    "$\\quad\\;\\;$a. Dresser la table de vérité de cette porte \" x-ou \".<br>\n",
    "$\\quad\\;\\;$b. Proposer une construction de cette porte logique uniquement à l'aide de portes \"et\", \"ou\" et \"non\".<br>\n",
    "$\\quad\\;\\;$c. La syntaxe Python <mark style=\"font-family: Consolas;\">$\\;$^$\\;$</mark> permet de réaliser ce test logique entre deux booléens.<br>\n",
    "$\\quad\\quad\\;$ Retrouver les résultats de la question 2.6.a à l'aide de saisies Python.<br>\n",
    "</strong>\n",
    "    "
   ]
  },
  {
   "cell_type": "code",
   "execution_count": null,
   "metadata": {},
   "outputs": [],
   "source": [
    "#Utiliser cette cellule pour la question 2.6.c\n",
    "\n"
   ]
  },
  {
   "cell_type": "markdown",
   "metadata": {},
   "source": [
    "![George_Boole](https://raw.githubusercontent.com/PythonLycee/PyLyc/master/img/Boole.jpg) \n",
    "\n",
    "<center> <a href=\"https://fr.wikipedia.org/wiki/George_Boole\">George Boole</a> (1815-1864) est à l'origine de l'algèbre binaire, dite booléenne, n'acceptant que deux valeurs : 0 et 1.</center>"
   ]
  },
  {
   "cell_type": "markdown",
   "metadata": {},
   "source": [
    "<br><br>\n",
    "<strong style=\"color:#EF6607; font-size:26px;\" id=\"3\">3. Complément : un outil</strong>"
   ]
  },
  {
   "cell_type": "markdown",
   "metadata": {},
   "source": [
    "<strong>Dresser directement la table de vérité d'une expression sous forme str.</strong><br><br>\n",
    "La fonction <mark style=\"font-family: Consolas;\">Table_description</mark> donnée ci-dessous permet d'obtenir la table de vérité d'une expression booléenne donnée directement sous forme de chaîne de caractère. Un exemple d'utilisation est fourni.<br>\n",
    "<strong>Attention :</strong> Pour éviter les bugs à la conversion, utiliser de préférence des variables nommées <mark style=\"font-family: Consolas;\">e1</mark>,<mark style=\"font-family: Consolas;\">e2</mark>,...\n",
    "    "
   ]
  },
  {
   "cell_type": "code",
   "execution_count": null,
   "metadata": {},
   "outputs": [],
   "source": [
    "from itertools import product\n",
    "\n",
    "def Table_description(liste_variables,operation_booleenne):\n",
    "    \"\"\"\n",
    "    Fonction qui renvoie la table de vérité sous forme d'un dictionnaire \n",
    "    liste_variables = [\"e1\",\"e2\",...] liste des noms de variables utilisés\n",
    "    operation_booleene = \"chaine de caractère (str) décrivant l'opération booléenne considérée\"\n",
    "    \"\"\"\n",
    "    try:\n",
    "        #remplacement dans la chaîne de caractère des noms de variable par la syntaxe qui donnera la valeur de la variable\n",
    "        for k in range(len(liste_variables)):\n",
    "            operation_booleenne = operation_booleenne.replace(liste_variables[k],\"valeur_var[\"+str(k)+\"]\")\n",
    "\n",
    "        #initialisation de la table\n",
    "        Table={}\n",
    "\n",
    "        #remplissage de la table : à chaque liste de booléens possible...\n",
    "        for valeur_var in product( *([[False,True] for j in range(len(liste_variables))] )):\n",
    "            \n",
    "            #...on fait correspondre le résultat de la fonction booléenne\n",
    "            Table[valeur_var] = eval( operation_booleenne )    \n",
    "        \n",
    "        #renvoie la table\n",
    "        return Table\n",
    "    \n",
    "    except:\n",
    "        return \"saisie invalide\"\n"
   ]
  },
  {
   "cell_type": "code",
   "execution_count": null,
   "metadata": {},
   "outputs": [],
   "source": [
    "# Exemple : Les variables se nomment e1,e2,e3 et l'expression évaluée est (e1 or e2) and e3\n",
    "\n",
    "Table_description( [\"e1\",\"e2\",\"e3\"] , \"(e1 or e2) and e3\" )"
   ]
  },
  {
   "cell_type": "markdown",
   "metadata": {},
   "source": [
    "<i>© Copyright Franck CHEVRIER 2019-2021 https://www.python-lycee.com.</i><br>\n",
    "<i>Les activités partagées sur <a href=\"https://capytale2.ac-paris.fr/web/accueil\"><strong>Capytale</strong></a> sont sous licence <a href=\"https://creativecommons.org/licenses/by-sa/3.0/fr/\">Creative Commons</a>.</i>\n"
   ]
  }
 ],
 "metadata": {
  "celltoolbar": "Raw Cell Format",
  "kernelspec": {
   "display_name": "Python 3",
   "language": "python",
   "name": "python3"
  },
  "language_info": {
   "codemirror_mode": {
    "name": "ipython",
    "version": 3
   },
   "file_extension": ".py",
   "mimetype": "text/x-python",
   "name": "python",
   "nbconvert_exporter": "python",
   "pygments_lexer": "ipython3",
   "version": "3.8.5"
  }
 },
 "nbformat": 4,
 "nbformat_minor": 2
}
