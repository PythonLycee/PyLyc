{
 "cells": [
  {
   "cell_type": "markdown",
   "metadata": {},
   "source": [
    "![En tête general](https://raw.githubusercontent.com/PythonLycee/PyLyc/master/img/En_tete_general.png)\n",
    "\n",
    "\n",
    "<i>© Copyright Franck CHEVRIER 2019-2021 https://www.python-lycee.com.</i><br>\n",
    "<i>Les activités partagées sur <a href=\"https://capytale2.ac-paris.fr/web/accueil\"><strong>Capytale</strong></a> sont sous licence <a href=\"https://creativecommons.org/licenses/by-sa/3.0/fr/\">Creative Commons</a>.</i>\n",
    "\n",
    "<span style=\"color: #9317B4\"> Pour exécuter une saisie Python, sélectionner la cellule et valider avec </span><span style=\"color: #B317B4\"><strong>SHIFT+Entrée</strong></span>.\n"
   ]
  },
  {
   "cell_type": "markdown",
   "metadata": {},
   "source": [
    "# Avancement d'une réaction chimique "
   ]
  },
  {
   "cell_type": "markdown",
   "metadata": {},
   "source": [
    "\n",
    "\n",
    "\n",
    "<BLOCKQUOTE style=\"background-color:#F8FFF3;\">\n",
    "\n",
    "Dans cette activité, on s'intéresse à la transformation chimique entre le diiode $ \\mathrm{I}_2$ et les ions thiosulfate $\\mathrm{S}_2\\mathrm{O}_3^{2-}$.<br><br>\n",
    "Données :\n",
    "<ul>\n",
    "    <li>Couple $ \\mathrm{I}_2$ / $ \\mathrm{I}^-$</li>\n",
    "    <li>Couple $ \\mathrm{S}_4\\mathrm{O}_6^{2-} $ / $\\mathrm{S}_2\\mathrm{O}_3^{2-}$</li>\n",
    "\n",
    "</ul>\n",
    "</BLOCKQUOTE>\n",
    "    \n",
    "<strong>1. À partir des couples donnés, écrire l'équation de la réaction entre le diiode $ \\mathrm{I}_2$ et les ions thiosulfate $\\mathrm{S}_2\\mathrm{O}_3^{2-}$.</strong> \n",
    "\n",
    "   \n",
    "<BLOCKQUOTE style=\"background-color:#F8FFF3;\">\n",
    "\n",
    "Dans le système chimique étudié, seul le diiode $ \\mathrm{I}_2$ est une espèce colorée (en jaune-orangé).\n",
    "\n",
    "L'animation ci-dessous permet de simuler le mélange d'une solution de volume $\\mathrm{V}_1$ et de concentration $\\mathrm{C}_1$ en diiode $\\mathrm{I}_2$, et d'une solution de volume $\\mathrm{V}_2$ et de concentration $\\mathrm{C}_2$ en ions thiosulfate $\\mathrm{S}_2\\mathrm{O}_3^{2-}$.\n",
    "\n",
    "On souhaite déterminer les quantités et concentrations des réactifs et produits à l'état final. \n",
    "\n",
    "</BLOCKQUOTE>\n",
    "\n"
   ]
  },
  {
   "cell_type": "markdown",
   "metadata": {},
   "source": [
    "<span style=\"color: #FF0000\">Pour faire apparaître et activer l'animation, sélectionner la cellule ci-dessous et valider avec <strong>SHIFT+Entrée</strong>.</span><br>\n",
    "<span style=\"color: #BDBFBF\">Vous pouvez ensuite utiliser les menus cinématiques :</span>\n",
    "\n",
    "![Menus_animation](https://raw.githubusercontent.com/PythonLycee/PyLyc/master/img/menus_animation_GeoGebra.png)\n"
   ]
  },
  {
   "cell_type": "code",
   "execution_count": null,
   "metadata": {},
   "outputs": [],
   "source": [
    "#Sélectionner cette zone puis SHIFT+ENTREE\n",
    "from IPython.display import HTML ; HTML(\"\"\"<iframe scrolling=\"no\" title=\"Avancement d'une réaction\" src=\"https://www.geogebra.org/material/iframe/id/hfg62qg7/width/937/height/520/border/888888/sfsb/true/smb/false/stb/false/stbh/false/ai/false/asb/false/sri/false/rc/false/ld/false/sdz/false/ctl/false\" width=\"937px\" height=\"520px\" style=\"border:0px;\"> </iframe>\"\"\")"
   ]
  },
  {
   "cell_type": "markdown",
   "metadata": {},
   "source": [
    "<BLOCKQUOTE style=\"background-color:#F8FFF3;\">\n",
    "\n",
    "Pour les questions __2.__ à __4.__, on supposera que :\n",
    "<ul>\n",
    "    <li>$\\mathrm{V}_1=150$ $\\mathrm{mL}$</li>\n",
    "    <li>$\\mathrm{C}_1=8\\times 10^{-3}$ $\\mathrm{mol}\\cdot\\mathrm{L}^{-1} $</li>\n",
    "    <li>$\\mathrm{V}_2=140$ $\\mathrm{mL}$</li>\n",
    "    <li>$\\mathrm{C}_2=5\\times 10^{-3}$ $\\mathrm{mol}\\cdot\\mathrm{L}^{-1} $</li>\n",
    "</ul>\n",
    "</BLOCKQUOTE>\n",
    "\n",
    "\n",
    "__2. Observer l'animation pour ces valeurs, et répondre qualitativement aux questions suivantes :__\n",
    "\n",
    "<strong>\n",
    "<ul>\n",
    "    <li>Quel semble être le réactif limitant de cette transformation ?</li>\n",
    "    <li>Quelles sont les espèces chimiques en présence dans le mélange final ?</li>\n",
    "</ul>\n",
    "</strong> \n",
    "    \n"
   ]
  },
  {
   "cell_type": "markdown",
   "metadata": {},
   "source": [
    "__3. On donne la fonction Python <mark>q</mark> ci-dessous, qui reçoit en arguments deux variables correspondant à un volume (en $\\mathrm{mL}$) et une concentration (en $\\mathrm{mol} \\cdot \\mathrm{L}^{-1}$).__ \n",
    "\n",
    "__a. Rappeler la formule permettant de calculer une quantité de matière à partir de la concentration et du volume.__\n",
    "\n",
    "__b. Exécuter les deux cellules suivantes. Que représente la valeur qui a été stockée dans la variable <mark>n1</mark> ? On précisera en particulier son unité.__\n",
    "<br><br>\n"
   ]
  },
  {
   "cell_type": "code",
   "execution_count": null,
   "metadata": {},
   "outputs": [],
   "source": [
    "def q(Volume,Concentration):\n",
    "    return Volume*Concentration"
   ]
  },
  {
   "cell_type": "code",
   "execution_count": null,
   "metadata": {},
   "outputs": [],
   "source": [
    "V1 = 150 ; C1 = 8*10**-3\n",
    "\n",
    "n1 = q(V1,C1)\n",
    "\n",
    "n1"
   ]
  },
  {
   "cell_type": "markdown",
   "metadata": {},
   "source": [
    "__c. Effectuer les saisies Python permettant de stocker dans une variable <mark>n2</mark> la quantité d'ions $\\mathrm{S}_2\\mathrm{O}_3^{2-}$ du Bécher 2, exprimée en $\\mathrm{mmol}$. Afficher cette valeur.__"
   ]
  },
  {
   "cell_type": "code",
   "execution_count": null,
   "metadata": {},
   "outputs": [],
   "source": [
    "# Effectuer les saisies pour créer n2\n",
    "\n"
   ]
  },
  {
   "cell_type": "markdown",
   "metadata": {},
   "source": [
    "__4. On considère la fonction Python <mark>Avancement</mark> ci-dessous.__\n",
    "<br>\n",
    "<br>\n",
    "<strong>Remarque :</strong> La constante <mark>p</mark>(précision) permet de contourner les problèmes liés à d'éventuels erreurs des calculs effectués par Python, notamment pour l'exécution de la boucle <mark>while</mark>."
   ]
  },
  {
   "cell_type": "code",
   "execution_count": null,
   "metadata": {},
   "outputs": [],
   "source": [
    "p = 10**-6 \n",
    "\n",
    "def Avancement(n1,n2):\n",
    "    \n",
    "    n3 = 0\n",
    "    n4 = 0\n",
    "    \n",
    "    while n1>0+p and n2>0+p: \n",
    "        n1 = n1 - 0.01 \n",
    "        n2 = n2 - 0.02\n",
    "        n3 = n3 + 0.02\n",
    "        n4 = n4 + 0.01\n",
    "        \n",
    "    return n1,n2,n3,n4    \n",
    "        "
   ]
  },
  {
   "cell_type": "markdown",
   "metadata": {},
   "source": [
    "__a. On suppose que les valeurs respectives de <mark>n1</mark> et <mark>n2</mark> sont initialement 1.2 et 0.7 au déclenchement de la boucle while. Recopier et compléter le tableau suivant, pour prévoir les premières valeurs prises par les variables <mark>n1</mark>, <mark>n2</mark>, <mark>n3</mark> et <mark>n4</mark> (remplir uniquement 4 lignes).__ \n",
    "\n",
    "\n",
    "| n1>0 and n2>0 ?      | $ \\;\\; $n1 $ \\;\\; $ | $ \\;\\; $n2 $ \\;\\; $ | $ \\;\\; $n3 $ \\;\\; $ | $ \\;\\; $n4 $ \\;\\; $ |\n",
    "| :------------------- | ------------------: | ------------------: | ------------------: | ------------------: |\n",
    "| $ \\;\\; $ /// $ \\;\\; $| $ \\;\\; $1.2$ \\;\\; $ | $ \\;\\; $0.7$ \\;\\; $ | $ \\;\\; $ 0 $ \\;\\; $ | $ \\;\\; $ 0 $ \\;\\; $ |    \n",
    "| $ \\;\\; $ True$ \\;\\; $| $ \\;\\; $... $ \\;\\; $ | $ \\;\\; $... $ \\;\\; $ | $ \\;\\; $... $ \\;\\; $ | $ \\;\\; $... $ \\;\\; $ |\n",
    "| $ \\;\\; $ ... $ \\;\\; $| $ \\;\\; $... $ \\;\\; $ | $ \\;\\; $... $ \\;\\; $ | $ \\;\\; $... $ \\;\\; $ | $ \\;\\; $... $ \\;\\; $ |\n",
    "| $ \\;\\; $ ... $ \\;\\; $| $ \\;\\; $... $ \\;\\; $ | $ \\;\\; $... $ \\;\\; $ | $ \\;\\; $... $ \\;\\; $ | $ \\;\\; $... $ \\;\\; $ | "
   ]
  },
  {
   "cell_type": "markdown",
   "metadata": {},
   "source": [
    "__b. A l'aide du tableau complété précédemment, prévoir les valeurs finales des variables <mark>n1</mark>, <mark>n2</mark>, <mark>n3</mark> et <mark>n4</mark>, en justifiant brièvement.__ \n"
   ]
  },
  {
   "cell_type": "markdown",
   "metadata": {},
   "source": [
    "__c. Exécuter l'appel à la fonction <mark>Avancement</mark> ci-dessous. Vérifier la cohérence avec la réponse à la question 3.b.__\n",
    "\n",
    "NB: On arrondira les valeurs renvoyées par la fonction Python."
   ]
  },
  {
   "cell_type": "code",
   "execution_count": null,
   "metadata": {},
   "outputs": [],
   "source": [
    "# Exécuter l'appel à la fonction\n",
    "Avancement(n1,n2)\n"
   ]
  },
  {
   "cell_type": "markdown",
   "metadata": {},
   "source": [
    "__d. Donner une interprétation concrète des valeurs renvoyées par la fonction <mark>Avancement</mark> de la question 3.c., dans le cadre de l'énoncé : Préciser ce que représentent ces valeurs et vérifier la cohérence avec vos réponses à la question 1.__\n",
    "\n"
   ]
  },
  {
   "cell_type": "markdown",
   "metadata": {},
   "source": [
    "__e. Calculer les concentrations des réactifs et des produits à l'état final. On pourra utiliser des saisies Python pour les calculs.__\n",
    "\n"
   ]
  },
  {
   "cell_type": "code",
   "execution_count": null,
   "metadata": {},
   "outputs": [],
   "source": [
    "# Effectuer dans cette cellule et les suivantes les saisies nécessaires\n",
    "\n"
   ]
  },
  {
   "cell_type": "code",
   "execution_count": null,
   "metadata": {},
   "outputs": [],
   "source": []
  },
  {
   "cell_type": "code",
   "execution_count": null,
   "metadata": {},
   "outputs": [],
   "source": []
  },
  {
   "cell_type": "code",
   "execution_count": null,
   "metadata": {},
   "outputs": [],
   "source": []
  },
  {
   "cell_type": "markdown",
   "metadata": {},
   "source": [
    "__5. Dans cette question, on reprend le protocole précédent avec:__\n",
    "<br>\n",
    "<ul>\n",
    "    <li>$\\mathrm{V}_1=80$ $\\mathrm{mL}$</li>\n",
    "    <li>$\\mathrm{C}_1=4\\times 10^{-3}$ $\\mathrm{mol}\\cdot\\mathrm{L}^{-1} $</li>\n",
    "    <li>$\\mathrm{V}_2=130$ $\\mathrm{mL}$</li>\n",
    "    <li>$\\mathrm{C}_2=8\\times 10^{-3}$ $\\mathrm{mol}\\cdot\\mathrm{L}^{-1} $</li>\n",
    "</ul>\n",
    "\n",
    "__a. Effectuer une observation à l'aide de l'animation : Quel semble être le réactif limitant de cette transformation ?__\n",
    "\n",
    "\n",
    "__b. A l'aide de saisies Python, déterminer les concentrations des réactifs et produits à l'état final.__\n"
   ]
  },
  {
   "cell_type": "code",
   "execution_count": null,
   "metadata": {},
   "outputs": [],
   "source": [
    "#Effectuer dans cette cellule et les suivantes les saisies nécessaires\n",
    "\n"
   ]
  },
  {
   "cell_type": "code",
   "execution_count": null,
   "metadata": {},
   "outputs": [],
   "source": []
  },
  {
   "cell_type": "code",
   "execution_count": null,
   "metadata": {},
   "outputs": [],
   "source": []
  },
  {
   "cell_type": "code",
   "execution_count": null,
   "metadata": {},
   "outputs": [],
   "source": []
  },
  {
   "cell_type": "markdown",
   "metadata": {},
   "source": [
    "__6. Dans cette question, on réalise la combustion de 18 g de glucose $C_6H_{12}O_6$ avec 1 mol de dioxygène $O_2$.__<br><br>\n",
    "$\\quad$__a. Écrire l'équation de la réaction symbolisant la combustion du glucose.__<br>\n",
    "$\\quad$__b. Calculer la quantité de matière de glucose.__<br>\n",
    "$\\quad$__c. Effectuer les saisies Python nécessaires pour déterminer le réactif limitant.__<br>\n",
    "<br><br>\n"
   ]
  },
  {
   "cell_type": "code",
   "execution_count": null,
   "metadata": {},
   "outputs": [],
   "source": [
    "# Écrire ici les saisies Python nécessaires\n",
    "\n"
   ]
  },
  {
   "cell_type": "code",
   "execution_count": null,
   "metadata": {},
   "outputs": [],
   "source": []
  },
  {
   "cell_type": "code",
   "execution_count": null,
   "metadata": {},
   "outputs": [],
   "source": []
  },
  {
   "cell_type": "code",
   "execution_count": null,
   "metadata": {},
   "outputs": [],
   "source": []
  },
  {
   "cell_type": "markdown",
   "metadata": {},
   "source": [
    "<i>© Copyright Franck CHEVRIER 2019-2021 https://www.python-lycee.com.</i><br>\n",
    "<i>Les activités partagées sur <a href=\"https://capytale2.ac-paris.fr/web/accueil\"><strong>Capytale</strong></a> sont sous licence <a href=\"https://creativecommons.org/licenses/by-sa/3.0/fr/\">Creative Commons</a>.</i>\n"
   ]
  },
  {
   "cell_type": "markdown",
   "metadata": {},
   "source": [
    "<span style=\"color:#AA00AA\">*Remerciements particuliers à Nicolas EHRSAM et Carole BOURGON pour leurs aides précieuses.*\n",
    "<br>*Version modifiée 06/21.*</span>"
   ]
  }
 ],
 "metadata": {
  "celltoolbar": "Raw Cell Format",
  "kernelspec": {
   "display_name": "Python 3",
   "language": "python",
   "name": "python3"
  },
  "language_info": {
   "codemirror_mode": {
    "name": "ipython",
    "version": 3
   },
   "file_extension": ".py",
   "mimetype": "text/x-python",
   "name": "python",
   "nbconvert_exporter": "python",
   "pygments_lexer": "ipython3",
   "version": "3.8.5"
  }
 },
 "nbformat": 4,
 "nbformat_minor": 2
}
