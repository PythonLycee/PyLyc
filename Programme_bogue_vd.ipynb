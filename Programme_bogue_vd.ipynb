{
 "cells": [
  {
   "cell_type": "markdown",
   "metadata": {},
   "source": [
    "![En tête general](https://raw.githubusercontent.com/PythonLycee/PyLyc/master/img/En_tete_general.png)\n",
    "\n",
    "\n",
    "<i>© Copyright Franck CHEVRIER 2019-2021 https://www.python-lycee.com.</i><br>\n",
    "<i>Les activités partagées sur <a href=\"https://capytale2.ac-paris.fr/web/accueil\"><strong>Capytale</strong></a> sont sous licence <a href=\"https://creativecommons.org/licenses/by-sa/3.0/fr/\">Creative Commons</a>.</i>\n",
    "\n",
    "<span style=\"color: #9317B4\"> Pour exécuter une saisie Python, sélectionner la cellule et valider avec </span><span style=\"color: #B317B4\"><strong>SHIFT+Entrée</strong></span>.\n"
   ]
  },
  {
   "cell_type": "markdown",
   "metadata": {},
   "source": [
    "# <span style=\"color:#6C3483\">Corriger un programme bogué simple</span>"
   ]
  },
  {
   "cell_type": "markdown",
   "metadata": {},
   "source": [
    "<BLOCKQUOTE style=\"background-color: #F7F2F8; color: #7C39C9;\">\n",
    "Le but de l'activité est :\n",
    "<ul>\n",
    "<li> étant donné un programme très simple, de proposer des jeux de données d'entrée permettant d'en tester toutes les lignes ;</li>\n",
    "<li> de corriger un algorithme ou un programme bogué simple.</li>   \n",
    "</ul>\n",
    "<i>(extrait du <a href=\"https://www.python-lycee.com/tale-ens-scientifique\">programme d'enseignement scientifique en Terminale</a>)</i>\n",
    "    \n",
    "</BLOCKQUOTE>"
   ]
  },
  {
   "cell_type": "markdown",
   "metadata": {},
   "source": [
    "### <span style=\"color:#8E44AD\">Sommaire</span>\n",
    "\n",
    "\n",
    "<span style=\"color:#8E44AD\">I.</span> <a href=\"#1\">Tests avec jeux de données</a><br>\n",
    "<span style=\"color:#8E44AD\">II.</span> <a href=\"#2\">Calcul d'un IMC</a><br>\n",
    "\n"
   ]
  },
  {
   "cell_type": "markdown",
   "metadata": {},
   "source": [
    "<br><br>\n",
    "## <span style=\"color:#8E44AD\" id=\"1\">I. Tests avec jeux de données</span>\n",
    "<br><br>"
   ]
  },
  {
   "cell_type": "markdown",
   "metadata": {},
   "source": [
    "<strong>1. On fournit ci-dessous une fonction Python <mark style=\"font-family: Consolas;\">inverse</mark> qui doit renvoyer l'inverse d'un nombre x entré en argument.<br>\n",
    "$\\quad$Afin de tester cette fonction, on fournit un <strong>jeu de données</strong> sous forme d'une liste nommée <mark style=\"font-family: Consolas;\">Tests</mark>.<br><br> \n",
    "a. Observer la construction de la liste <mark style=\"font-family: Consolas;\">Tests</mark>. Quelles sont les valeurs de ce jeu de données ?<br>\n",
    "b. Exécuter les trois cellules suivantes, et vérifier la réponse à la question a.<br>\n",
    "$\\quad$Expliquer l'erreur obtenue dans la 3<sup>ème</sup> cellule : À quoi correspond-t-elle ?    \n",
    "</strong>"
   ]
  },
  {
   "cell_type": "code",
   "execution_count": null,
   "metadata": {},
   "outputs": [],
   "source": [
    "# Exécuter les 3 cellules suivantes (Sélectionner les cellules puis SHIFT+Entrée)\n",
    "\n",
    "def inverse(x):\n",
    "    \"\"\"\n",
    "    fonction qui renvoie l'inverse de x\n",
    "    \"\"\"\n",
    "    return 1/x"
   ]
  },
  {
   "cell_type": "code",
   "execution_count": null,
   "metadata": {
    "scrolled": false
   },
   "outputs": [],
   "source": [
    "Tests = [ 0.1*k for k in range(-10,11) ]\n",
    "Tests"
   ]
  },
  {
   "cell_type": "code",
   "execution_count": null,
   "metadata": {},
   "outputs": [],
   "source": [
    "for x in Tests: \n",
    "    print(inverse(x))"
   ]
  },
  {
   "cell_type": "markdown",
   "metadata": {},
   "source": [
    "<strong>\n",
    "c. Modifier la fonction <mark style=\"font-family: Consolas;\">inverse</mark> pour qu'elle renvoie la valeur <mark style=\"font-family: Consolas;\">None</mark> pour la(les) valeur(s) de <mark style=\"font-family: Consolas;\">x</mark> qui a(ont) posé problème.\n",
    "</strong>"
   ]
  },
  {
   "cell_type": "code",
   "execution_count": null,
   "metadata": {},
   "outputs": [],
   "source": [
    "# Écrire ici la fonction inverse modifiée\n",
    "\n"
   ]
  },
  {
   "cell_type": "markdown",
   "metadata": {},
   "source": [
    "<strong>\n",
    "    d. Effectuer ici le test de la nouvelle fonction <mark style=\"font-family: Consolas;\">inverse</mark> avec le jeu de données <mark style=\"font-family: Consolas;\">Tests</mark>.<br>\n",
    "$\\quad$Quel est l'avantage d'avoir ainsi débogué la fonction ?\n",
    "</strong>"
   ]
  },
  {
   "cell_type": "code",
   "execution_count": null,
   "metadata": {},
   "outputs": [],
   "source": [
    "#Effectuer ici le test\n",
    "\n"
   ]
  },
  {
   "cell_type": "markdown",
   "metadata": {},
   "source": [
    "<br><br>\n",
    "<strong>\n",
    "2. On considère la fonction <mark style=\"font-family: Consolas;\">moyenne</mark> donnée ci-dessous, qui doit permettre de calculer la moyenne d'une liste de valeurs.<br>\n",
    "$\\quad$On donne également une syntaxe permettant de générer aléatoirement un jeu de données <mark style=\"font-family: Consolas;\">Tests</mark> contenant des listes de valeurs.<br>\n",
    "<br>\n",
    "a. Exécuter la cellule Python suivante.<br>\n",
    "$\\quad$Quel type de liste contient le jeu de données <mark style=\"font-family: Consolas;\">Tests</mark> ? Combien y en a-t-il?<br>\n",
    "$\\quad$Comment ces listes sont-elles générées ?<br>\n",
    "</strong>"
   ]
  },
  {
   "cell_type": "code",
   "execution_count": null,
   "metadata": {},
   "outputs": [],
   "source": [
    "# Sélectionner cette zone puis SHIFT+ENTREE\n",
    "\n",
    "def moyenne(L):\n",
    "    \"\"\"\n",
    "    fonction qui renvoie la moyenne d'une liste de valeurs\n",
    "    \"\"\"\n",
    "    return sum(L)/len(L)\n",
    "\n",
    "\n",
    "from random import randint \n",
    "\n",
    "Tests = [ [ randint(0,20) for j in range(randint(0,6)) ] for k in range(30)]\n",
    "Tests"
   ]
  },
  {
   "cell_type": "markdown",
   "metadata": {},
   "source": [
    "<strong>\n",
    "b. Effectuer une saisie Python pour tester la fonction <mark style=\"font-family: Consolas;\">moyenne</mark> avec le jeu de données <mark style=\"font-family: Consolas;\">Tests</mark>.<br>\n",
    "$\\quad$Observer et expliquer le résultat.\n",
    "</strong>"
   ]
  },
  {
   "cell_type": "code",
   "execution_count": null,
   "metadata": {},
   "outputs": [],
   "source": [
    "# Effectuer ici la saisie pour tester la fonction moyenne avec le jeu de données Tests\n",
    "\n"
   ]
  },
  {
   "cell_type": "markdown",
   "metadata": {},
   "source": [
    "<strong>\n",
    "c. Effectuer un déboguage de la fonction <mark style=\"font-family: Consolas;\">moyenne</mark>.\n",
    "</strong>"
   ]
  },
  {
   "cell_type": "code",
   "execution_count": null,
   "metadata": {},
   "outputs": [],
   "source": [
    "# Écrire ici la fonction moyenne déboguée\n",
    "\n"
   ]
  },
  {
   "cell_type": "code",
   "execution_count": null,
   "metadata": {},
   "outputs": [],
   "source": [
    "# Effectuer ici la saisie pour tester la nouvelle fonction moyenne avec le jeu de données Tests\n",
    "\n"
   ]
  },
  {
   "cell_type": "markdown",
   "metadata": {},
   "source": [
    "<br><br>\n",
    "<strong>\n",
    "3. On considère la fonction Python <mark style=\"font-family: Consolas;\">resolution</mark>, qui doit permettre de résoudre une équation mathématique du type $ax+b=c$.<br>\n",
    "$\\quad$Exécuter les cellules pour tester avec le jeu de données <mark style=\"font-family: Consolas;\">Tests</mark>.<br>\n",
    "$\\quad$Proposer un déboguage.\n",
    "</strong>"
   ]
  },
  {
   "cell_type": "code",
   "execution_count": null,
   "metadata": {},
   "outputs": [],
   "source": [
    "def resolution(a,b,c):\n",
    "    \"\"\"\n",
    "    fonction qui renvoie la solution de l'équation ax+b = c\n",
    "    \"\"\"\n",
    "    return (c-b)/a\n",
    "    "
   ]
  },
  {
   "cell_type": "code",
   "execution_count": null,
   "metadata": {},
   "outputs": [],
   "source": [
    "Tests = [ (randint(-10,10),randint(-10,10),randint(-10,10)) for k in range(30)]\n",
    "Tests\n",
    "\n",
    "for valeurs in Tests:\n",
    "    print( resolution(*valeurs) )"
   ]
  },
  {
   "cell_type": "code",
   "execution_count": null,
   "metadata": {},
   "outputs": [],
   "source": [
    "\n"
   ]
  },
  {
   "cell_type": "code",
   "execution_count": null,
   "metadata": {},
   "outputs": [],
   "source": [
    "\n"
   ]
  },
  {
   "cell_type": "markdown",
   "metadata": {},
   "source": [
    "<br><br>\n",
    "<strong>\n",
    "4. Écrire une fonction Python <mark style=\"font-family: Consolas;\">vitesse</mark> permettant de calculer une vitesse moyenne, connaissant:\n",
    "<ul>\n",
    "    <li> la distance parcourue (en km) ;</li>\n",
    "    <li> le temps écoulé (en h).</li>\n",
    "</ul>\n",
    "$\\quad$Effectuer un test et un déboguage de la fonction.\n",
    "</strong>"
   ]
  },
  {
   "cell_type": "code",
   "execution_count": null,
   "metadata": {},
   "outputs": [],
   "source": [
    "# Utiliser ces zones pour définir la fonction, la tester et la déboguer\n",
    "\n"
   ]
  },
  {
   "cell_type": "code",
   "execution_count": null,
   "metadata": {},
   "outputs": [],
   "source": [
    "\n"
   ]
  },
  {
   "cell_type": "code",
   "execution_count": null,
   "metadata": {},
   "outputs": [],
   "source": [
    "\n"
   ]
  },
  {
   "cell_type": "code",
   "execution_count": null,
   "metadata": {},
   "outputs": [],
   "source": [
    "\n"
   ]
  },
  {
   "cell_type": "markdown",
   "metadata": {},
   "source": [
    "<br><br>\n",
    "## <span style=\"color:#8E44AD\" id=\"2\">II. Calcul d'un IMC</span>\n",
    "<br>"
   ]
  },
  {
   "cell_type": "markdown",
   "metadata": {},
   "source": [
    "<figure style=\"float: right;\">\n",
    "    <img src=\"https://raw.githubusercontent.com/PythonLycee/PyLyc/master/img/IMC_illu.jpg\">\n",
    "</figure>\n",
    "\n",
    "<strong>\n",
    "L'indice de masse corporelle ( $\\text{IMC}$ ) d'un individu se calcule à l'aide de la formule $\\displaystyle \\text{IMC} = \\frac{m}{t^2}$ où :\n",
    "<ul>\n",
    "    <li>$m$ est la masse de l'individu (exprimée en kg) ;</li>\n",
    "    <li>$t$ est sa taille (exprimée en m).</li>\n",
    "</ul>\n",
    "On peut ensuite effectuer un diagnostic rapide à l'aide du tableau ci-dessous.<br>\n",
    "    \n",
    "<img src=\"https://raw.githubusercontent.com/PythonLycee/PyLyc/master/img/IMC.png\">"
   ]
  },
  {
   "cell_type": "markdown",
   "metadata": {},
   "source": [
    "<strong>\n",
    "    On fournit la fonction Python <mark style=\"font-family: Consolas;\">diagnostic</mark> ci-dessous, qui doit permettre de d'effectuer ce diagnostic à partir de <mark style=\"font-family: Consolas;\">m</mark> et <mark style=\"font-family: Consolas;\">t</mark>.<br><br>\n",
    "1. Expliquer comment est généré le jeu de données <mark style=\"font-family: Consolas;\">Tests</mark>.<br>\n",
    "2. Exécuter les cellules pour effectuer les tests.<br>\n",
    "$\\quad$La fonction donne-t-elle toujours le résultat attendu ? Expliquer et déboguer si nécessaire.\n",
    "</strong>"
   ]
  },
  {
   "cell_type": "code",
   "execution_count": null,
   "metadata": {},
   "outputs": [],
   "source": [
    "def diagnostic(m,t):\n",
    "    \"\"\"\n",
    "    fonction effectuant le diagnostic à partir de la masse et de la taille\n",
    "    \"\"\"\n",
    "        \n",
    "    IMC = m/t**2\n",
    "    \n",
    "    if IMC<18.5:\n",
    "        bilan = \"maigreur\"\n",
    "        \n",
    "    if IMC<25:\n",
    "        bilan = \"dans la norme\"\n",
    "    \n",
    "    if IMC>25: \n",
    "        bilan = \"surpoids\"\n",
    "    \n",
    "    return bilan\n",
    "\n"
   ]
  },
  {
   "cell_type": "code",
   "execution_count": null,
   "metadata": {},
   "outputs": [],
   "source": [
    "# Quelques tests:\n",
    "\n",
    "from random import randint \n",
    "Tests = [ ( randint(45,110) , randint(130,200)/100) for k in range(30) ]\n",
    "\n",
    "for donnees in Tests:\n",
    "    print( donnees,diagnostic(*donnees) )"
   ]
  },
  {
   "cell_type": "code",
   "execution_count": null,
   "metadata": {},
   "outputs": [],
   "source": [
    "\n",
    "\n"
   ]
  },
  {
   "cell_type": "code",
   "execution_count": null,
   "metadata": {},
   "outputs": [],
   "source": [
    "\n",
    "\n"
   ]
  },
  {
   "cell_type": "markdown",
   "metadata": {},
   "source": [
    "<i>© Copyright Franck CHEVRIER 2019-2021 https://www.python-lycee.com.</i><br>\n",
    "<i>Les activités partagées sur <a href=\"https://capytale2.ac-paris.fr/web/accueil\"><strong>Capytale</strong></a> sont sous licence <a href=\"https://creativecommons.org/licenses/by-sa/3.0/fr/\">Creative Commons</a>.</i>"
   ]
  }
 ],
 "metadata": {
  "celltoolbar": "Raw Cell Format",
  "kernelspec": {
   "display_name": "Python 3",
   "language": "python",
   "name": "python3"
  },
  "language_info": {
   "codemirror_mode": {
    "name": "ipython",
    "version": 3
   },
   "file_extension": ".py",
   "mimetype": "text/x-python",
   "name": "python",
   "nbconvert_exporter": "python",
   "pygments_lexer": "ipython3",
   "version": "3.7.10"
  }
 },
 "nbformat": 4,
 "nbformat_minor": 2
}
