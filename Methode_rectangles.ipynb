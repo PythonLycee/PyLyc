{
 "cells": [
  {
   "cell_type": "markdown",
   "metadata": {},
   "source": [
    "![En tête general](img/En_tete_general.png)\n",
    "\n",
    "\n",
    "*(C) Copyright Franck CHEVRIER 2019-2020 http://www.python-lycee.com/*\n",
    "\n",
    "<span style=\"color: #9317B4\"> Pour exécuter une saisie Python, sélectionner la cellule et valider avec </span><span style=\"color: #B317B4\"><strong>SHIFT+Entrée</strong></span>.\n"
   ]
  },
  {
   "cell_type": "markdown",
   "metadata": {},
   "source": [
    "# Approximation d’une intégrale par la méthode des rectangles"
   ]
  },
  {
   "cell_type": "markdown",
   "metadata": {},
   "source": [
    "<span style=\"color: #7C39C9\">*Certaines fonctions n’ont pas de primitives qui peuvent s’écrire à l’aide des fonctions usuelles.*</span> \n",
    "\n",
    "<span style=\"color: #7C39C9\">*C’est par exemple le cas de la fonction f définie sur $\\mathbb{R}$ par $f(x)=e^{-x^2}$.*</span> \n",
    "\n",
    "<span style=\"color: #7C39C9\">*Le but de cette activité est d’obtenir malgré tout des valeurs approchées de l’intégrale\n",
    "$K=\\int_{0}^{1}{e^{-x²}dx}$*.</span> \n"
   ]
  },
  {
   "cell_type": "markdown",
   "metadata": {},
   "source": [
    "## I. Introduction de la méthode"
   ]
  },
  {
   "cell_type": "markdown",
   "metadata": {},
   "source": [
    "__1. Placer les points $M_0$  ; $M_1$  ; $M_2$  ; $M_3$  et $M_4$  de la courbe de $f$ d’abscisses respectives $0$ ; $\\displaystyle \\frac{1}{4}$ ; $\\displaystyle \\frac{2}{4}$; $\\displaystyle \\frac{3}{4}$ et $\\displaystyle \\frac{4}{4}$.__\n",
    "\n",
    "![Rectangles à compléter](img/Methode_rectangles_intro.png)\n"
   ]
  },
  {
   "cell_type": "markdown",
   "metadata": {},
   "source": [
    "__2. A l’aide de ces points, inscrire $4$ rectangles sous la courbe de $f$, de largeur $\\displaystyle \\frac{1}{4}$ et de longueur maximale.__\n"
   ]
  },
  {
   "cell_type": "markdown",
   "metadata": {},
   "source": [
    "__3. Ecrire une fonction Python <mark>f</mark> qui prend <mark>x</mark> en argument et renvoie l’image de $x$ par $f$.__\n",
    "\n",
    "<span style=\"color: #888888\">*Important : Ne pas utiliser la fonction exp. Utiliser les notations de puissances à partir de la constante e, obtenue avec from math import e.*</span> \n"
   ]
  },
  {
   "cell_type": "code",
   "execution_count": null,
   "metadata": {},
   "outputs": [],
   "source": [
    "from math import e\n",
    "# Ecrire la fonction\n"
   ]
  },
  {
   "cell_type": "code",
   "execution_count": null,
   "metadata": {},
   "outputs": [],
   "source": [
    "# Tester la fonction\n"
   ]
  },
  {
   "cell_type": "markdown",
   "metadata": {},
   "source": [
    "__Ecrire une fonction Python <mark>Aire_rect</mark> qui reçoit en argument la largeur <mark>l</mark> et la longueur <mark>L</mark> d’un rectangle et renvoie son aire.__\n"
   ]
  },
  {
   "cell_type": "code",
   "execution_count": null,
   "metadata": {},
   "outputs": [],
   "source": [
    "# Ecrire la fonction\n"
   ]
  },
  {
   "cell_type": "code",
   "execution_count": null,
   "metadata": {},
   "outputs": [],
   "source": [
    "# Tester la fonction\n"
   ]
  },
  {
   "cell_type": "markdown",
   "metadata": {},
   "source": [
    "__A l’aide de ces fonctions, calculer la somme des aires des $4$ rectangles précédents, et en déduire un minorant de $K$.__"
   ]
  },
  {
   "cell_type": "code",
   "execution_count": null,
   "metadata": {},
   "outputs": [],
   "source": [
    "# Effectuer les saisies nécessaires\n"
   ]
  },
  {
   "cell_type": "markdown",
   "metadata": {},
   "source": [
    "## II. Automatisation de la construction et du calcul "
   ]
  },
  {
   "cell_type": "markdown",
   "metadata": {},
   "source": [
    "__1. La fonction ci-dessous trace la courbe représentative de $f$ sur l’intervalle $[0;1]$ et construit les 4 rectangles sous la courbe de $f$. \n",
    "Tester cette fonction.__"
   ]
  },
  {
   "cell_type": "code",
   "execution_count": null,
   "metadata": {},
   "outputs": [],
   "source": [
    "import matplotlib.pyplot as plt\n",
    "import matplotlib.patches as ptc\n",
    "import numpy as np\n",
    "\n",
    "def Methode_rectangle():\n",
    "    \n",
    "    # tracé de la courbe de f\n",
    "    prec=0.05\n",
    "    abs_fonc = np.arange(0,1+prec,prec)\n",
    "    ord_fonc = f(abs_fonc)\n",
    "    plt.plot(abs_fonc,ord_fonc,color='green')\n",
    "    \n",
    "    ax = plt.gca()\n",
    "    \n",
    "    # tracé des rectangles\n",
    "    l=1/4\n",
    "    for k in range(4):\n",
    "        x=k*1/4\n",
    "        L=f(x+1/4)\n",
    "        #Rectangle défini par le point en bas à gauche,\n",
    "        #sa largeur l et sa longueur L\n",
    "        rect=ptc.Rectangle( (x,0) , l, L, fill=False)\n",
    "        ax.add_patch(rect)  \n",
    "\n",
    "    # reglage des bornes des axes du repere\n",
    "    plt.axis([0,1,0,1]) \n",
    "    # affichage    \n",
    "    plt.show() \n",
    "    \n",
    "    # (Ces fonctionnalités sont désactivées dans la version Notebook)\n",
    "    # attente d'une action de clic sur la fenetre puis fermeture\n",
    "    # plt.waitforbuttonpress() \n",
    "    # plt.close() \n",
    "\n",
    "    return None\n",
    "\n"
   ]
  },
  {
   "cell_type": "code",
   "execution_count": null,
   "metadata": {},
   "outputs": [],
   "source": [
    "#Test de la fonction\n",
    "Methode_rectangle()"
   ]
  },
  {
   "cell_type": "markdown",
   "metadata": {},
   "source": [
    "__2. Prévoir les valeurs successives prises par les variables <mark>x</mark>, <mark>l</mark> et <mark>L</mark> dans la boucle en complétant ce tableau :__\n",
    "\n",
    "\n",
    "|   $k$      |   0 |   1  |   2  |   3  |\n",
    "| :-------:  |:--: | :--: | :--: | :--: |\n",
    "|   $x$      |     |      |      |      |\n",
    "|   $l$      |     |      |      |      |\n",
    "|   $L$      |     |      |      |      |\n"
   ]
  },
  {
   "cell_type": "markdown",
   "metadata": {},
   "source": [
    "__Compléter la fonction précédente pour qu’elle renvoie <mark>Aire_inf</mark> qui est la somme des aires de ces rectangles.__\n",
    "\n",
    "\n",
    "<span style=\"color: #888888\">*Aides :*</span>\n",
    "<span style=\"color: #888888\">*On pourra ajouter un compteur qui s’incrémente à chaque étape de la boucle, en utilisant la fonction* Aire_rect *précédemment écrite.*</span> \n",
    "<span style=\"color: #888888\">*On pourra éventuellement utiliser l’instruction* plt.text(0,-0.2,’Aire=’+str(Aire_inf)) *pour afficher cette aire sur le graphique.*</span>  \n",
    "\n",
    "__Tester et vérifier qu’on retrouve le résultat de la question I.3.__"
   ]
  },
  {
   "cell_type": "code",
   "execution_count": null,
   "metadata": {},
   "outputs": [],
   "source": [
    "# Tester la fonction modifiée\n"
   ]
  },
  {
   "cell_type": "markdown",
   "metadata": {},
   "source": [
    "__3. Modifier la fonction pour qu’elle reçoive en argument le nombre <mark>n</mark> de rectangles souhaités, et adapter l’affichage et le calcul. Tester pour $n=10$ puis pour $n=100$.__\n"
   ]
  },
  {
   "cell_type": "code",
   "execution_count": null,
   "metadata": {},
   "outputs": [],
   "source": [
    "#Effectuer les tests\n"
   ]
  },
  {
   "cell_type": "markdown",
   "metadata": {},
   "source": [
    "## III. Recherche de la précision de la méthode"
   ]
  },
  {
   "cell_type": "markdown",
   "metadata": {},
   "source": [
    "__1. A l'aide de la figure dynamique ci-dessous, vérifier les résultats des questions I.3 et II.3.__\n",
    "\n",
    "<span style=\"color: #FF0000\">*(Pour faire apparaître et activer la figure dynamique, sélectionner la cellule et valider avec <strong>SHIFT+Entrée</strong>).*</span>\n"
   ]
  },
  {
   "cell_type": "code",
   "execution_count": 1,
   "metadata": {},
   "outputs": [
    {
     "data": {
      "text/html": [
       "<html>\n",
       "\t<head>\n",
       "\t\t<!-- MÃ©thode des rectangles -->\n",
       "\t\t<!-- Copyright Franck CHEVRIER www.python-lycee.com -->\n",
       "\t\t<title></title>\n",
       "\t\t<script type=\"text/javascript\" src=\"GeoGebraWeb/webSimple/webSimple.nocache.js\"></script>\n",
       "\t</head>\n",
       "\t<body>\n",
       "\t\t<center>\n",
       "\t\t\t\t\t\t\n",
       "\t\t\t<div>\n",
       "\t\t\t\t<article class=\"geogebraweb\"\n",
       "\t\t\t\t\n",
       "\t\t\t\t\tdata-param-width=\"560\" data-param-height=\"605\"\n",
       "\t\t\t\t\tdata-param-ggbBase64=\"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\"\n",
       "\t\t\t\t\tdata-param-enableRightClick=\"false\"\n",
       "\t\t\t\t\tdata-param-enableLabelDrags=\"false\"\n",
       "\t\t\t\t\tdata-param-enableShiftDragZoom=\"false\"\n",
       "\t\t\t\t\tdata-param-showMenuBar=\"false\"\n",
       "\t\t\t\t\tdata-param-showToolBar=\"false\"\n",
       "\t\t\t\t\tdata-param-showAlgebraInput=\"false\"\n",
       "\t\t\t\t\tdata-param-showResetIcon=\"true\"\n",
       "\t\t\t\t\tdata-param-useBrowserForJS=\"true\"> \n",
       "\t\t\t\t\t\t\t\t\n",
       "\t\t\t\t</article>\n",
       "\t\t\t</div>\n",
       "\t\t</center>\n",
       "\t</body>\n",
       "</html>\n"
      ],
      "text/plain": [
       "<IPython.core.display.HTML object>"
      ]
     },
     "metadata": {},
     "output_type": "display_data"
    }
   ],
   "source": [
    "#Sélectionner cette zone puis SHIFT+ENTREE\n",
    "from IPython.display import display, HTML ; display(HTML('fig_dyn_GeoGebra/Rectangles.html'))"
   ]
  },
  {
   "cell_type": "markdown",
   "metadata": {},
   "source": [
    "__2. On se place dans le cas général où on trace $n$ rectangles de même largeur sous la courbe de $f$ sur l’intervalle $[0;1]$, et on note $s_n$ la somme de leurs aires (voir la figure dynamique fournie).__\n",
    "\n",
    "__Justifier que\n",
    "$\\displaystyle s_n=\\frac{1}{n} \\left( f \\left(\\frac{1}{n}\\right)+f \\left(\\frac{2}{n}\\right)+f \\left(\\frac{3}{n}\\right)+⋯+f \\left(\\frac{n}{n}\\right) \\right) =\\frac{1}{n} \\sum_{k=0}^{n-1} \\ f \\left ( \\frac{k+1}{n} \\right ) \\ $__\n",
    "\n"
   ]
  },
  {
   "cell_type": "markdown",
   "metadata": {},
   "source": [
    "__3. On considère de la même façon la somme $S_n$ des aires de $n$ rectangles de même largeur construits au-dessus de la courbe de $f$ sur l’intervalle $[0;1]$ (utiliser le curseur vert sur la figure dynamique fournie)__\n",
    "\n",
    "__Donner une expression de $S_n$ similaire à celle de $s_n$.__\n"
   ]
  },
  {
   "cell_type": "markdown",
   "metadata": {},
   "source": [
    "__4. Exprimer $S_n-s_n$ en fonction de $n$.__\n",
    "\n",
    "__En admettant que $\\displaystyle s_n \\leqslant \\int_{0}^{1} \\ e^{-x²} dx \\  \\leqslant S_n $, en déduire que :\n",
    "$\\displaystyle 0 \\leqslant ∫_0^1 \\ e^{-x^2} dx \\ -s_n \\leqslant \\frac{1}{n} $ .__\n",
    "\n",
    "__Quelle valeur de $n$ faut-il choisir pour que $s_n$ soit une valeur approchée de $K$ à $10^{-4}$ près ?__\n",
    "\n",
    "__Donner une valeur approchée à $10^{-4}$ près de cette intégrale $K$ à l’aide de vos fonctions Python de la partie II.__\n",
    "\n",
    "\n"
   ]
  },
  {
   "cell_type": "code",
   "execution_count": null,
   "metadata": {},
   "outputs": [],
   "source": [
    "# Effectuer les saisies nécessaires\n"
   ]
  },
  {
   "cell_type": "markdown",
   "metadata": {},
   "source": [
    "Georg Friedrich Bernhardt Riemann (1826-1866) est à l’origine de cette méthode d’approximation d’intégrales à l’aide de rectangles\n",
    "\n",
    "![Riemann](img/Methode_rectangles_Riemann.png)"
   ]
  },
  {
   "cell_type": "markdown",
   "metadata": {},
   "source": [
    "*(C) Copyright Franck CHEVRIER 2019-2020 http://www.python-lycee.com/*\n"
   ]
  }
 ],
 "metadata": {
  "celltoolbar": "Raw Cell Format",
  "kernelspec": {
   "display_name": "Python 3",
   "language": "python",
   "name": "python3"
  },
  "language_info": {
   "codemirror_mode": {
    "name": "ipython",
    "version": 3
   },
   "file_extension": ".py",
   "mimetype": "text/x-python",
   "name": "python",
   "nbconvert_exporter": "python",
   "pygments_lexer": "ipython3",
   "version": "3.8.5"
  }
 },
 "nbformat": 4,
 "nbformat_minor": 2
}
