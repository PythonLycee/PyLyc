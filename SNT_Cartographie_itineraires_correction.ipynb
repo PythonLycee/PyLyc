{
 "cells": [
  {
   "cell_type": "markdown",
   "metadata": {},
   "source": [
    "![En tête general](img/En_tete_general.png)\n",
    "\n",
    "\n",
    "*(C) Copyright Franck CHEVRIER 2019-2021 http://www.python-lycee.com/*\n",
    "\n",
    "<span style=\"color: #9317B4\"> Pour exécuter une saisie Python, sélectionner la cellule et valider avec </span><span style=\"color: #B317B4\"><strong>SHIFT+Entrée</strong></span>.\n",
    "\n"
   ]
  },
  {
   "cell_type": "markdown",
   "metadata": {},
   "source": [
    "# Cartographie et itinéraires <span style=\"color: red\"> (corrigé)</span>\n",
    "\n",
    "<br>\n",
    "<span style=\"color: red\"> <strong>Note :</strong><br>Il est possible que les droits paramétrés ne permettent pas au Notebook d'afficher directement les cartes.<br>Dans ce cas, pour obtenir les affichages, il y a deux solutions :<br>\n",
    "<ul>\n",
    "    <li>soit cliquer en haut à droite sur \"Non fiable\" et \"faire confiance\" au Notebook ;</li>\n",
    "    <li>soit utiliser le menu \"Kernel -> Restart and run all\".</li>    \n",
    "</ul>\n",
    "</span>"
   ]
  },
  {
   "cell_type": "markdown",
   "metadata": {},
   "source": [
    "Les modules Python <a href=\"https://python-visualization.github.io/folium/quickstart.html\"><FONT face=\"Consolas\"><mark>folium</mark></FONT></a> et <a href=\"https://pypi.org/project/pyroutelib3/\"><FONT face=\"Consolas\"><mark>pyroutelib3</mark></FONT></a> permettent de générer respectivement une carte et un itinéraire entre deux points dont les coordonnées GPS sont connues.\n",
    "\n",
    "__1. La fonction Python <FONT face=\"Consolas\"><mark>itineraire</mark></FONT> donnée ci-dessous permet de générer une carte avec un itinéraire entre deux points dont on connaît les coordonnées GPS.<br>Lire les commentaires de la fonction et exécuter la cellule pour mettre cette fonction en mémoire.__"
   ]
  },
  {
   "cell_type": "code",
   "execution_count": 1,
   "metadata": {},
   "outputs": [],
   "source": [
    "import folium                                # import du module pour générer une carte\n",
    "from pyroutelib3 import Router               # import des fonctionnalités pour générer un itinéraire\n",
    "\n",
    "def itineraire(Depart,Arrivee,mode):\n",
    "    \"\"\"\n",
    "    génère une carte représentant un itinéraire avec :\n",
    "    Depart : coordonnées GPS du point de départ\n",
    "    Arrivee : coordonnées GPS du point d'arrivée\n",
    "    mode : mode de transport (\"car\",\"cycle\",\"foot\",\"horse\",\"tram\",\"train\")\n",
    "    \"\"\"\n",
    "    \n",
    "    # Calcul des coordonnées du point central de la carte\n",
    "    # (au milieu du segment joignant Depart et Arrivee)\n",
    "    \n",
    "    Vue = ((Depart[0]+Arrivee[0])/2,(Depart[1]+Arrivee[1])/2)\n",
    "    \n",
    "    # Réglage du zoom initial\n",
    "    zoom = 15\n",
    "    \n",
    "    # Génération de la carte\n",
    "    Carte = folium.Map(Vue, zoom_start=zoom)\n",
    "    \n",
    "    # Placement des marqueurs des points de Départ et d'Arrivée\n",
    "    folium.Marker(Depart,popup=\"Départ\").add_to(Carte)\n",
    "    folium.Marker(Arrivee,popup=\"Arrivée\").add_to(Carte)\n",
    "    \n",
    "    try:\n",
    "        # Génération de l'itinéraire avec le mode de transport choisi\n",
    "        router = Router(mode)\n",
    "        D = router.findNode(*Depart)\n",
    "        A = router.findNode(*Arrivee)\n",
    "        routeLatLons=[Depart,Arrivee]\n",
    "        status, route = router.doRoute(D, A)\n",
    "        if status == 'success': routeLatLons = list(map(router.nodeLatLon, route))\n",
    "    \n",
    "        # Tracé de l'itinéraire sur la carte\n",
    "        folium.PolyLine(routeLatLons, color=\"magenta\", weight=2.5, opacity=1).add_to(Carte)\n",
    "    \n",
    "    except:\n",
    "        # Si l'itinéraire ne peut pas être généré: affichage d'un message d'erreur\n",
    "        print(\"La carte a été créée mais impossible de générer l'itinéraire demandé\")\n",
    "\n",
    "    # La fonction renvoie la carte créée \n",
    "    return Carte\n"
   ]
  },
  {
   "cell_type": "markdown",
   "metadata": {},
   "source": [
    "<strong>2. Exécuter la cellule ci-dessous, puis répondre aux questions concernant cet itinéraire :\n",
    "<ul>\n",
    "    <li>Dans quelle ville cet itinéraire est-il défini ?</li>\n",
    "    <li>Quel est le mode de transport choisi pour cet itinéraire ?</li>\n",
    "    <li>Quels sont les points de départ et d'arrivée ? Quelles sont leurs coordonnées GPS respectives ?</li>\n",
    "</ul>\n",
    "</strong>\n",
    "<br>\n",
    "<span style=\"color:red\">L'itinéraire est défini dans la ville de Strasbourg, il indique comment se rendre en voiture de la place de la gare (GPS 48.58486732288321, 7.735525889175579) au Quai de Turckheim (GPS 48.58083428820921, 7.738795275340017) (dans le très joli quartier de la petite France).</span>"
   ]
  },
  {
   "cell_type": "code",
   "execution_count": 2,
   "metadata": {},
   "outputs": [
    {
     "data": {
      "text/html": [
       "<div style=\"width:100%;\"><div style=\"position:relative;width:100%;height:0;padding-bottom:60%;\"><span style=\"color:#565656\">Make this Notebook Trusted to load map: File -> Trust Notebook</span><iframe src=\"about:blank\" style=\"position:absolute;width:100%;height:100%;left:0;top:0;border:none !important;\" data-html=%3C%21DOCTYPE%20html%3E%0A%3Chead%3E%20%20%20%20%0A%20%20%20%20%3Cmeta%20http-equiv%3D%22content-type%22%20content%3D%22text/html%3B%20charset%3DUTF-8%22%20/%3E%0A%20%20%20%20%0A%20%20%20%20%20%20%20%20%3Cscript%3E%0A%20%20%20%20%20%20%20%20%20%20%20%20L_NO_TOUCH%20%3D%20false%3B%0A%20%20%20%20%20%20%20%20%20%20%20%20L_DISABLE_3D%20%3D%20false%3B%0A%20%20%20%20%20%20%20%20%3C/script%3E%0A%20%20%20%20%0A%20%20%20%20%3Cstyle%3Ehtml%2C%20body%20%7Bwidth%3A%20100%25%3Bheight%3A%20100%25%3Bmargin%3A%200%3Bpadding%3A%200%3B%7D%3C/style%3E%0A%20%20%20%20%3Cstyle%3E%23map%20%7Bposition%3Aabsolute%3Btop%3A0%3Bbottom%3A0%3Bright%3A0%3Bleft%3A0%3B%7D%3C/style%3E%0A%20%20%20%20%3Cscript%20src%3D%22https%3A//cdn.jsdelivr.net/npm/leaflet%401.6.0/dist/leaflet.js%22%3E%3C/script%3E%0A%20%20%20%20%3Cscript%20src%3D%22https%3A//code.jquery.com/jquery-1.12.4.min.js%22%3E%3C/script%3E%0A%20%20%20%20%3Cscript%20src%3D%22https%3A//maxcdn.bootstrapcdn.com/bootstrap/3.2.0/js/bootstrap.min.js%22%3E%3C/script%3E%0A%20%20%20%20%3Cscript%20src%3D%22https%3A//cdnjs.cloudflare.com/ajax/libs/Leaflet.awesome-markers/2.0.2/leaflet.awesome-markers.js%22%3E%3C/script%3E%0A%20%20%20%20%3Clink%20rel%3D%22stylesheet%22%20href%3D%22https%3A//cdn.jsdelivr.net/npm/leaflet%401.6.0/dist/leaflet.css%22/%3E%0A%20%20%20%20%3Clink%20rel%3D%22stylesheet%22%20href%3D%22https%3A//maxcdn.bootstrapcdn.com/bootstrap/3.2.0/css/bootstrap.min.css%22/%3E%0A%20%20%20%20%3Clink%20rel%3D%22stylesheet%22%20href%3D%22https%3A//maxcdn.bootstrapcdn.com/bootstrap/3.2.0/css/bootstrap-theme.min.css%22/%3E%0A%20%20%20%20%3Clink%20rel%3D%22stylesheet%22%20href%3D%22https%3A//maxcdn.bootstrapcdn.com/font-awesome/4.6.3/css/font-awesome.min.css%22/%3E%0A%20%20%20%20%3Clink%20rel%3D%22stylesheet%22%20href%3D%22https%3A//cdnjs.cloudflare.com/ajax/libs/Leaflet.awesome-markers/2.0.2/leaflet.awesome-markers.css%22/%3E%0A%20%20%20%20%3Clink%20rel%3D%22stylesheet%22%20href%3D%22https%3A//cdn.jsdelivr.net/gh/python-visualization/folium/folium/templates/leaflet.awesome.rotate.min.css%22/%3E%0A%20%20%20%20%0A%20%20%20%20%20%20%20%20%20%20%20%20%3Cmeta%20name%3D%22viewport%22%20content%3D%22width%3Ddevice-width%2C%0A%20%20%20%20%20%20%20%20%20%20%20%20%20%20%20%20initial-scale%3D1.0%2C%20maximum-scale%3D1.0%2C%20user-scalable%3Dno%22%20/%3E%0A%20%20%20%20%20%20%20%20%20%20%20%20%3Cstyle%3E%0A%20%20%20%20%20%20%20%20%20%20%20%20%20%20%20%20%23map_8675424c65db482caaba7742448d3c9b%20%7B%0A%20%20%20%20%20%20%20%20%20%20%20%20%20%20%20%20%20%20%20%20position%3A%20relative%3B%0A%20%20%20%20%20%20%20%20%20%20%20%20%20%20%20%20%20%20%20%20width%3A%20100.0%25%3B%0A%20%20%20%20%20%20%20%20%20%20%20%20%20%20%20%20%20%20%20%20height%3A%20100.0%25%3B%0A%20%20%20%20%20%20%20%20%20%20%20%20%20%20%20%20%20%20%20%20left%3A%200.0%25%3B%0A%20%20%20%20%20%20%20%20%20%20%20%20%20%20%20%20%20%20%20%20top%3A%200.0%25%3B%0A%20%20%20%20%20%20%20%20%20%20%20%20%20%20%20%20%7D%0A%20%20%20%20%20%20%20%20%20%20%20%20%3C/style%3E%0A%20%20%20%20%20%20%20%20%0A%3C/head%3E%0A%3Cbody%3E%20%20%20%20%0A%20%20%20%20%0A%20%20%20%20%20%20%20%20%20%20%20%20%3Cdiv%20class%3D%22folium-map%22%20id%3D%22map_8675424c65db482caaba7742448d3c9b%22%20%3E%3C/div%3E%0A%20%20%20%20%20%20%20%20%0A%3C/body%3E%0A%3Cscript%3E%20%20%20%20%0A%20%20%20%20%0A%20%20%20%20%20%20%20%20%20%20%20%20var%20map_8675424c65db482caaba7742448d3c9b%20%3D%20L.map%28%0A%20%20%20%20%20%20%20%20%20%20%20%20%20%20%20%20%22map_8675424c65db482caaba7742448d3c9b%22%2C%0A%20%20%20%20%20%20%20%20%20%20%20%20%20%20%20%20%7B%0A%20%20%20%20%20%20%20%20%20%20%20%20%20%20%20%20%20%20%20%20center%3A%20%5B48.582850805546215%2C%207.737160582257799%5D%2C%0A%20%20%20%20%20%20%20%20%20%20%20%20%20%20%20%20%20%20%20%20crs%3A%20L.CRS.EPSG3857%2C%0A%20%20%20%20%20%20%20%20%20%20%20%20%20%20%20%20%20%20%20%20zoom%3A%2015%2C%0A%20%20%20%20%20%20%20%20%20%20%20%20%20%20%20%20%20%20%20%20zoomControl%3A%20true%2C%0A%20%20%20%20%20%20%20%20%20%20%20%20%20%20%20%20%20%20%20%20preferCanvas%3A%20false%2C%0A%20%20%20%20%20%20%20%20%20%20%20%20%20%20%20%20%7D%0A%20%20%20%20%20%20%20%20%20%20%20%20%29%3B%0A%0A%20%20%20%20%20%20%20%20%20%20%20%20%0A%0A%20%20%20%20%20%20%20%20%0A%20%20%20%20%0A%20%20%20%20%20%20%20%20%20%20%20%20var%20tile_layer_18b507d665cb47108da15712a2e16757%20%3D%20L.tileLayer%28%0A%20%20%20%20%20%20%20%20%20%20%20%20%20%20%20%20%22https%3A//%7Bs%7D.tile.openstreetmap.org/%7Bz%7D/%7Bx%7D/%7By%7D.png%22%2C%0A%20%20%20%20%20%20%20%20%20%20%20%20%20%20%20%20%7B%22attribution%22%3A%20%22Data%20by%20%5Cu0026copy%3B%20%5Cu003ca%20href%3D%5C%22http%3A//openstreetmap.org%5C%22%5Cu003eOpenStreetMap%5Cu003c/a%5Cu003e%2C%20under%20%5Cu003ca%20href%3D%5C%22http%3A//www.openstreetmap.org/copyright%5C%22%5Cu003eODbL%5Cu003c/a%5Cu003e.%22%2C%20%22detectRetina%22%3A%20false%2C%20%22maxNativeZoom%22%3A%2018%2C%20%22maxZoom%22%3A%2018%2C%20%22minZoom%22%3A%200%2C%20%22noWrap%22%3A%20false%2C%20%22opacity%22%3A%201%2C%20%22subdomains%22%3A%20%22abc%22%2C%20%22tms%22%3A%20false%7D%0A%20%20%20%20%20%20%20%20%20%20%20%20%29.addTo%28map_8675424c65db482caaba7742448d3c9b%29%3B%0A%20%20%20%20%20%20%20%20%0A%20%20%20%20%0A%20%20%20%20%20%20%20%20%20%20%20%20var%20marker_a34a428d088c4246b21324932216fb99%20%3D%20L.marker%28%0A%20%20%20%20%20%20%20%20%20%20%20%20%20%20%20%20%5B48.58486732288321%2C%207.735525889175579%5D%2C%0A%20%20%20%20%20%20%20%20%20%20%20%20%20%20%20%20%7B%7D%0A%20%20%20%20%20%20%20%20%20%20%20%20%29.addTo%28map_8675424c65db482caaba7742448d3c9b%29%3B%0A%20%20%20%20%20%20%20%20%0A%20%20%20%20%0A%20%20%20%20%20%20%20%20var%20popup_f86bb22fd20449df8dba6601d2fd69e8%20%3D%20L.popup%28%7B%22maxWidth%22%3A%20%22100%25%22%7D%29%3B%0A%0A%20%20%20%20%20%20%20%20%0A%20%20%20%20%20%20%20%20%20%20%20%20var%20html_4f3a1870bea14ddb8d265886138e929f%20%3D%20%24%28%60%3Cdiv%20id%3D%22html_4f3a1870bea14ddb8d265886138e929f%22%20style%3D%22width%3A%20100.0%25%3B%20height%3A%20100.0%25%3B%22%3ED%C3%A9part%3C/div%3E%60%29%5B0%5D%3B%0A%20%20%20%20%20%20%20%20%20%20%20%20popup_f86bb22fd20449df8dba6601d2fd69e8.setContent%28html_4f3a1870bea14ddb8d265886138e929f%29%3B%0A%20%20%20%20%20%20%20%20%0A%0A%20%20%20%20%20%20%20%20marker_a34a428d088c4246b21324932216fb99.bindPopup%28popup_f86bb22fd20449df8dba6601d2fd69e8%29%0A%20%20%20%20%20%20%20%20%3B%0A%0A%20%20%20%20%20%20%20%20%0A%20%20%20%20%0A%20%20%20%20%0A%20%20%20%20%20%20%20%20%20%20%20%20var%20marker_fc0d5de7517c41cabc4652434949b002%20%3D%20L.marker%28%0A%20%20%20%20%20%20%20%20%20%20%20%20%20%20%20%20%5B48.58083428820921%2C%207.738795275340017%5D%2C%0A%20%20%20%20%20%20%20%20%20%20%20%20%20%20%20%20%7B%7D%0A%20%20%20%20%20%20%20%20%20%20%20%20%29.addTo%28map_8675424c65db482caaba7742448d3c9b%29%3B%0A%20%20%20%20%20%20%20%20%0A%20%20%20%20%0A%20%20%20%20%20%20%20%20var%20popup_fb2ef797825f4703a2803e9db8a3af85%20%3D%20L.popup%28%7B%22maxWidth%22%3A%20%22100%25%22%7D%29%3B%0A%0A%20%20%20%20%20%20%20%20%0A%20%20%20%20%20%20%20%20%20%20%20%20var%20html_4250a12aa1a24ea2b0b4c5f31df69cd8%20%3D%20%24%28%60%3Cdiv%20id%3D%22html_4250a12aa1a24ea2b0b4c5f31df69cd8%22%20style%3D%22width%3A%20100.0%25%3B%20height%3A%20100.0%25%3B%22%3EArriv%C3%A9e%3C/div%3E%60%29%5B0%5D%3B%0A%20%20%20%20%20%20%20%20%20%20%20%20popup_fb2ef797825f4703a2803e9db8a3af85.setContent%28html_4250a12aa1a24ea2b0b4c5f31df69cd8%29%3B%0A%20%20%20%20%20%20%20%20%0A%0A%20%20%20%20%20%20%20%20marker_fc0d5de7517c41cabc4652434949b002.bindPopup%28popup_fb2ef797825f4703a2803e9db8a3af85%29%0A%20%20%20%20%20%20%20%20%3B%0A%0A%20%20%20%20%20%20%20%20%0A%20%20%20%20%0A%20%20%20%20%0A%20%20%20%20%20%20%20%20%20%20%20%20var%20poly_line_776ebfb50f27416f95193e91fcea3057%20%3D%20L.polyline%28%0A%20%20%20%20%20%20%20%20%20%20%20%20%20%20%20%20%5B%5B48.5848743%2C%207.7360581%5D%2C%20%5B48.5844985%2C%207.7357211%5D%2C%20%5B48.5846263%2C%207.7361337%5D%2C%20%5B48.5847995%2C%207.7362785%5D%2C%20%5B48.5848937%2C%207.7363534%5D%2C%20%5B48.5848932%2C%207.7364164%5D%2C%20%5B48.585355%2C%207.7363725%5D%2C%20%5B48.5854306%2C%207.736401%5D%2C%20%5B48.5854776%2C%207.7364147%5D%2C%20%5B48.5855492%2C%207.7364638%5D%2C%20%5B48.5857024%2C%207.7366069%5D%2C%20%5B48.5857166%2C%207.7366231%5D%2C%20%5B48.5860153%2C%207.7369629%5D%2C%20%5B48.5860947%2C%207.7370518%5D%2C%20%5B48.5874181%2C%207.7385624%5D%2C%20%5B48.5874548%2C%207.7386142%5D%2C%20%5B48.5874801%2C%207.7386413%5D%2C%20%5B48.587493%2C%207.7386511%5D%2C%20%5B48.5874797%2C%207.738663%5D%2C%20%5B48.5874536%2C%207.7386826%5D%2C%20%5B48.5873858%2C%207.7387351%5D%2C%20%5B48.5869694%2C%207.7390433%5D%2C%20%5B48.5858841%2C%207.7398246%5D%2C%20%5B48.5857343%2C%207.7399315%5D%2C%20%5B48.5856562%2C%207.739986%5D%2C%20%5B48.5856383%2C%207.7399975%5D%2C%20%5B48.5855325%2C%207.7400752%5D%2C%20%5B48.5851103%2C%207.7403854%5D%2C%20%5B48.5850393%2C%207.7404375%5D%2C%20%5B48.5849828%2C%207.7405198%5D%2C%20%5B48.5846409%2C%207.7407459%5D%2C%20%5B48.5845636%2C%207.7407933%5D%2C%20%5B48.5845252%2C%207.7407059%5D%2C%20%5B48.5844226%2C%207.7404822%5D%2C%20%5B48.5842804%2C%207.7401813%5D%2C%20%5B48.5840606%2C%207.7397753%5D%2C%20%5B48.5839594%2C%207.7395882%5D%2C%20%5B48.5834992%2C%207.7387484%5D%2C%20%5B48.5834901%2C%207.7387317%5D%2C%20%5B48.5834601%2C%207.7386772%5D%2C%20%5B48.5834369%2C%207.7386351%5D%2C%20%5B48.5834105%2C%207.7385872%5D%2C%20%5B48.5833537%2C%207.7385597%5D%2C%20%5B48.5833237%2C%207.7385398%5D%2C%20%5B48.5831758%2C%207.7384577%5D%2C%20%5B48.582728%2C%207.7382093%5D%2C%20%5B48.5826508%2C%207.7381499%5D%2C%20%5B48.5826154%2C%207.7381165%5D%2C%20%5B48.5825592%2C%207.7380777%5D%2C%20%5B48.5825262%2C%207.7380596%5D%2C%20%5B48.5824945%2C%207.7380472%5D%2C%20%5B48.5816868%2C%207.7378912%5D%2C%20%5B48.5815069%2C%207.7378565%5D%2C%20%5B48.5814421%2C%207.7378429%5D%2C%20%5B48.5814359%2C%207.7379937%5D%2C%20%5B48.5814205%2C%207.7385488%5D%2C%20%5B48.5814196%2C%207.7386157%5D%2C%20%5B48.5814021%2C%207.7386279%5D%2C%20%5B48.5813888%2C%207.7386576%5D%2C%20%5B48.5813751%2C%207.7387021%5D%2C%20%5B48.5809835%2C%207.7387044%5D%2C%20%5B48.5809407%2C%207.7387224%5D%2C%20%5B48.5808722%2C%207.7387752%5D%5D%2C%0A%20%20%20%20%20%20%20%20%20%20%20%20%20%20%20%20%7B%22bubblingMouseEvents%22%3A%20true%2C%20%22color%22%3A%20%22magenta%22%2C%20%22dashArray%22%3A%20null%2C%20%22dashOffset%22%3A%20null%2C%20%22fill%22%3A%20false%2C%20%22fillColor%22%3A%20%22magenta%22%2C%20%22fillOpacity%22%3A%200.2%2C%20%22fillRule%22%3A%20%22evenodd%22%2C%20%22lineCap%22%3A%20%22round%22%2C%20%22lineJoin%22%3A%20%22round%22%2C%20%22noClip%22%3A%20false%2C%20%22opacity%22%3A%201%2C%20%22smoothFactor%22%3A%201.0%2C%20%22stroke%22%3A%20true%2C%20%22weight%22%3A%202.5%7D%0A%20%20%20%20%20%20%20%20%20%20%20%20%29.addTo%28map_8675424c65db482caaba7742448d3c9b%29%3B%0A%20%20%20%20%20%20%20%20%0A%3C/script%3E onload=\"this.contentDocument.open();this.contentDocument.write(    decodeURIComponent(this.getAttribute('data-html')));this.contentDocument.close();\" allowfullscreen webkitallowfullscreen mozallowfullscreen></iframe></div></div>"
      ],
      "text/plain": [
       "<folium.folium.Map at 0x7fd678e2b3d0>"
      ]
     },
     "execution_count": 2,
     "metadata": {},
     "output_type": "execute_result"
    }
   ],
   "source": [
    "# Exécuter cette cellule\n",
    "itineraire( (48.58486732288321, 7.735525889175579) , (48.58083428820921, 7.738795275340017) , \"car\")"
   ]
  },
  {
   "cell_type": "markdown",
   "metadata": {},
   "source": [
    "<figure style=\"float: right;\">\n",
    "    <img src=\"img/Colmar.gif\">\n",
    "</figure>\n",
    "\n",
    "<strong>3. On donne les coordonnées GPS suivantes, dans la ville de Colmar :<br>\n",
    "\n",
    "<table style=\"font-size: 14px\">      \n",
    "        <tr style=\"background-color:#EEF7D8; color:#537304;\">    \n",
    "            <td><center><strong>Lieu</strong></center></td>\n",
    "            <td><center><strong>Latitude</strong></center></td>\n",
    "            <td><center><strong>Longitude</strong></center></td>\n",
    "        </tr>\n",
    "        <tr style=\"background-color:#F6FAED; color:#668712;\">\n",
    "            <td><center>Mairie de Colmar</center></td>\n",
    "            <td><br/><center>48.079584845875885</center></td>\n",
    "            <td><br/><center>7.357623229009501</center></td>\n",
    "        </tr>\n",
    "        <tr style=\"background-color:#F6FAED; color:#668712;\">\n",
    "            <td><center>Stadium de Colmar</center></td>\n",
    "            <td><br/><center>48.08822231782525</center></td>\n",
    "            <td><br/><center>7.37523897770312</center></td>\n",
    "        </tr>\n",
    "        <tr style=\"background-color:#F6FAED; color:#668712;\">\n",
    "            <td><center>Château d'eau</center></td>\n",
    "            <td><br/><center>48.07103371359589</center></td>\n",
    "            <td><br/><center>7.353385338720863</center></td>\n",
    "        </tr>\n",
    "</table>\n",
    "<br>\n",
    "Effectuer les saisies Python permettant de générer les itinéraires suivant :<br>    \n",
    "<ul>\n",
    "    <li>Itinéraire en voiture de la mairie de Colmar au château d'eau ;</li>\n",
    "    <li>Itinéraire à pied du château d'eau au stadium de Colmar ;</li>\n",
    "    <li>Itinéraire à pied de la mairie de Colmar au stadium de Colmar.</li>\n",
    "</ul>\n",
    "</strong>"
   ]
  },
  {
   "cell_type": "code",
   "execution_count": 3,
   "metadata": {},
   "outputs": [
    {
     "data": {
      "text/html": [
       "<div style=\"width:100%;\"><div style=\"position:relative;width:100%;height:0;padding-bottom:60%;\"><span style=\"color:#565656\">Make this Notebook Trusted to load map: File -> Trust Notebook</span><iframe src=\"about:blank\" style=\"position:absolute;width:100%;height:100%;left:0;top:0;border:none !important;\" data-html=%3C%21DOCTYPE%20html%3E%0A%3Chead%3E%20%20%20%20%0A%20%20%20%20%3Cmeta%20http-equiv%3D%22content-type%22%20content%3D%22text/html%3B%20charset%3DUTF-8%22%20/%3E%0A%20%20%20%20%0A%20%20%20%20%20%20%20%20%3Cscript%3E%0A%20%20%20%20%20%20%20%20%20%20%20%20L_NO_TOUCH%20%3D%20false%3B%0A%20%20%20%20%20%20%20%20%20%20%20%20L_DISABLE_3D%20%3D%20false%3B%0A%20%20%20%20%20%20%20%20%3C/script%3E%0A%20%20%20%20%0A%20%20%20%20%3Cstyle%3Ehtml%2C%20body%20%7Bwidth%3A%20100%25%3Bheight%3A%20100%25%3Bmargin%3A%200%3Bpadding%3A%200%3B%7D%3C/style%3E%0A%20%20%20%20%3Cstyle%3E%23map%20%7Bposition%3Aabsolute%3Btop%3A0%3Bbottom%3A0%3Bright%3A0%3Bleft%3A0%3B%7D%3C/style%3E%0A%20%20%20%20%3Cscript%20src%3D%22https%3A//cdn.jsdelivr.net/npm/leaflet%401.6.0/dist/leaflet.js%22%3E%3C/script%3E%0A%20%20%20%20%3Cscript%20src%3D%22https%3A//code.jquery.com/jquery-1.12.4.min.js%22%3E%3C/script%3E%0A%20%20%20%20%3Cscript%20src%3D%22https%3A//maxcdn.bootstrapcdn.com/bootstrap/3.2.0/js/bootstrap.min.js%22%3E%3C/script%3E%0A%20%20%20%20%3Cscript%20src%3D%22https%3A//cdnjs.cloudflare.com/ajax/libs/Leaflet.awesome-markers/2.0.2/leaflet.awesome-markers.js%22%3E%3C/script%3E%0A%20%20%20%20%3Clink%20rel%3D%22stylesheet%22%20href%3D%22https%3A//cdn.jsdelivr.net/npm/leaflet%401.6.0/dist/leaflet.css%22/%3E%0A%20%20%20%20%3Clink%20rel%3D%22stylesheet%22%20href%3D%22https%3A//maxcdn.bootstrapcdn.com/bootstrap/3.2.0/css/bootstrap.min.css%22/%3E%0A%20%20%20%20%3Clink%20rel%3D%22stylesheet%22%20href%3D%22https%3A//maxcdn.bootstrapcdn.com/bootstrap/3.2.0/css/bootstrap-theme.min.css%22/%3E%0A%20%20%20%20%3Clink%20rel%3D%22stylesheet%22%20href%3D%22https%3A//maxcdn.bootstrapcdn.com/font-awesome/4.6.3/css/font-awesome.min.css%22/%3E%0A%20%20%20%20%3Clink%20rel%3D%22stylesheet%22%20href%3D%22https%3A//cdnjs.cloudflare.com/ajax/libs/Leaflet.awesome-markers/2.0.2/leaflet.awesome-markers.css%22/%3E%0A%20%20%20%20%3Clink%20rel%3D%22stylesheet%22%20href%3D%22https%3A//cdn.jsdelivr.net/gh/python-visualization/folium/folium/templates/leaflet.awesome.rotate.min.css%22/%3E%0A%20%20%20%20%0A%20%20%20%20%20%20%20%20%20%20%20%20%3Cmeta%20name%3D%22viewport%22%20content%3D%22width%3Ddevice-width%2C%0A%20%20%20%20%20%20%20%20%20%20%20%20%20%20%20%20initial-scale%3D1.0%2C%20maximum-scale%3D1.0%2C%20user-scalable%3Dno%22%20/%3E%0A%20%20%20%20%20%20%20%20%20%20%20%20%3Cstyle%3E%0A%20%20%20%20%20%20%20%20%20%20%20%20%20%20%20%20%23map_7f9661ee6d3443aea658e6ea619e4eb7%20%7B%0A%20%20%20%20%20%20%20%20%20%20%20%20%20%20%20%20%20%20%20%20position%3A%20relative%3B%0A%20%20%20%20%20%20%20%20%20%20%20%20%20%20%20%20%20%20%20%20width%3A%20100.0%25%3B%0A%20%20%20%20%20%20%20%20%20%20%20%20%20%20%20%20%20%20%20%20height%3A%20100.0%25%3B%0A%20%20%20%20%20%20%20%20%20%20%20%20%20%20%20%20%20%20%20%20left%3A%200.0%25%3B%0A%20%20%20%20%20%20%20%20%20%20%20%20%20%20%20%20%20%20%20%20top%3A%200.0%25%3B%0A%20%20%20%20%20%20%20%20%20%20%20%20%20%20%20%20%7D%0A%20%20%20%20%20%20%20%20%20%20%20%20%3C/style%3E%0A%20%20%20%20%20%20%20%20%0A%3C/head%3E%0A%3Cbody%3E%20%20%20%20%0A%20%20%20%20%0A%20%20%20%20%20%20%20%20%20%20%20%20%3Cdiv%20class%3D%22folium-map%22%20id%3D%22map_7f9661ee6d3443aea658e6ea619e4eb7%22%20%3E%3C/div%3E%0A%20%20%20%20%20%20%20%20%0A%3C/body%3E%0A%3Cscript%3E%20%20%20%20%0A%20%20%20%20%0A%20%20%20%20%20%20%20%20%20%20%20%20var%20map_7f9661ee6d3443aea658e6ea619e4eb7%20%3D%20L.map%28%0A%20%20%20%20%20%20%20%20%20%20%20%20%20%20%20%20%22map_7f9661ee6d3443aea658e6ea619e4eb7%22%2C%0A%20%20%20%20%20%20%20%20%20%20%20%20%20%20%20%20%7B%0A%20%20%20%20%20%20%20%20%20%20%20%20%20%20%20%20%20%20%20%20center%3A%20%5B48.07530927973589%2C%207.355504283865182%5D%2C%0A%20%20%20%20%20%20%20%20%20%20%20%20%20%20%20%20%20%20%20%20crs%3A%20L.CRS.EPSG3857%2C%0A%20%20%20%20%20%20%20%20%20%20%20%20%20%20%20%20%20%20%20%20zoom%3A%2015%2C%0A%20%20%20%20%20%20%20%20%20%20%20%20%20%20%20%20%20%20%20%20zoomControl%3A%20true%2C%0A%20%20%20%20%20%20%20%20%20%20%20%20%20%20%20%20%20%20%20%20preferCanvas%3A%20false%2C%0A%20%20%20%20%20%20%20%20%20%20%20%20%20%20%20%20%7D%0A%20%20%20%20%20%20%20%20%20%20%20%20%29%3B%0A%0A%20%20%20%20%20%20%20%20%20%20%20%20%0A%0A%20%20%20%20%20%20%20%20%0A%20%20%20%20%0A%20%20%20%20%20%20%20%20%20%20%20%20var%20tile_layer_a566202a2a884675bc25b523f9a87e40%20%3D%20L.tileLayer%28%0A%20%20%20%20%20%20%20%20%20%20%20%20%20%20%20%20%22https%3A//%7Bs%7D.tile.openstreetmap.org/%7Bz%7D/%7Bx%7D/%7By%7D.png%22%2C%0A%20%20%20%20%20%20%20%20%20%20%20%20%20%20%20%20%7B%22attribution%22%3A%20%22Data%20by%20%5Cu0026copy%3B%20%5Cu003ca%20href%3D%5C%22http%3A//openstreetmap.org%5C%22%5Cu003eOpenStreetMap%5Cu003c/a%5Cu003e%2C%20under%20%5Cu003ca%20href%3D%5C%22http%3A//www.openstreetmap.org/copyright%5C%22%5Cu003eODbL%5Cu003c/a%5Cu003e.%22%2C%20%22detectRetina%22%3A%20false%2C%20%22maxNativeZoom%22%3A%2018%2C%20%22maxZoom%22%3A%2018%2C%20%22minZoom%22%3A%200%2C%20%22noWrap%22%3A%20false%2C%20%22opacity%22%3A%201%2C%20%22subdomains%22%3A%20%22abc%22%2C%20%22tms%22%3A%20false%7D%0A%20%20%20%20%20%20%20%20%20%20%20%20%29.addTo%28map_7f9661ee6d3443aea658e6ea619e4eb7%29%3B%0A%20%20%20%20%20%20%20%20%0A%20%20%20%20%0A%20%20%20%20%20%20%20%20%20%20%20%20var%20marker_1129bffae96e48dfab4acee341ba5f3f%20%3D%20L.marker%28%0A%20%20%20%20%20%20%20%20%20%20%20%20%20%20%20%20%5B48.079584845875885%2C%207.357623229009501%5D%2C%0A%20%20%20%20%20%20%20%20%20%20%20%20%20%20%20%20%7B%7D%0A%20%20%20%20%20%20%20%20%20%20%20%20%29.addTo%28map_7f9661ee6d3443aea658e6ea619e4eb7%29%3B%0A%20%20%20%20%20%20%20%20%0A%20%20%20%20%0A%20%20%20%20%20%20%20%20var%20popup_14e1898a37c64589a6246d04cbe83508%20%3D%20L.popup%28%7B%22maxWidth%22%3A%20%22100%25%22%7D%29%3B%0A%0A%20%20%20%20%20%20%20%20%0A%20%20%20%20%20%20%20%20%20%20%20%20var%20html_b2e743288f7b4429a9337ef262bb6d72%20%3D%20%24%28%60%3Cdiv%20id%3D%22html_b2e743288f7b4429a9337ef262bb6d72%22%20style%3D%22width%3A%20100.0%25%3B%20height%3A%20100.0%25%3B%22%3ED%C3%A9part%3C/div%3E%60%29%5B0%5D%3B%0A%20%20%20%20%20%20%20%20%20%20%20%20popup_14e1898a37c64589a6246d04cbe83508.setContent%28html_b2e743288f7b4429a9337ef262bb6d72%29%3B%0A%20%20%20%20%20%20%20%20%0A%0A%20%20%20%20%20%20%20%20marker_1129bffae96e48dfab4acee341ba5f3f.bindPopup%28popup_14e1898a37c64589a6246d04cbe83508%29%0A%20%20%20%20%20%20%20%20%3B%0A%0A%20%20%20%20%20%20%20%20%0A%20%20%20%20%0A%20%20%20%20%0A%20%20%20%20%20%20%20%20%20%20%20%20var%20marker_fa9f72dc198e4a04ac2faf30ccde0631%20%3D%20L.marker%28%0A%20%20%20%20%20%20%20%20%20%20%20%20%20%20%20%20%5B48.07103371359589%2C%207.353385338720863%5D%2C%0A%20%20%20%20%20%20%20%20%20%20%20%20%20%20%20%20%7B%7D%0A%20%20%20%20%20%20%20%20%20%20%20%20%29.addTo%28map_7f9661ee6d3443aea658e6ea619e4eb7%29%3B%0A%20%20%20%20%20%20%20%20%0A%20%20%20%20%0A%20%20%20%20%20%20%20%20var%20popup_8ec6b33e59df468a8c479d53a628c50c%20%3D%20L.popup%28%7B%22maxWidth%22%3A%20%22100%25%22%7D%29%3B%0A%0A%20%20%20%20%20%20%20%20%0A%20%20%20%20%20%20%20%20%20%20%20%20var%20html_a0d372cdf59d454db408ea17bf1f41f6%20%3D%20%24%28%60%3Cdiv%20id%3D%22html_a0d372cdf59d454db408ea17bf1f41f6%22%20style%3D%22width%3A%20100.0%25%3B%20height%3A%20100.0%25%3B%22%3EArriv%C3%A9e%3C/div%3E%60%29%5B0%5D%3B%0A%20%20%20%20%20%20%20%20%20%20%20%20popup_8ec6b33e59df468a8c479d53a628c50c.setContent%28html_a0d372cdf59d454db408ea17bf1f41f6%29%3B%0A%20%20%20%20%20%20%20%20%0A%0A%20%20%20%20%20%20%20%20marker_fa9f72dc198e4a04ac2faf30ccde0631.bindPopup%28popup_8ec6b33e59df468a8c479d53a628c50c%29%0A%20%20%20%20%20%20%20%20%3B%0A%0A%20%20%20%20%20%20%20%20%0A%20%20%20%20%0A%20%20%20%20%0A%20%20%20%20%20%20%20%20%20%20%20%20var%20poly_line_36898868ba274facbf7b11f08ea16b30%20%3D%20L.polyline%28%0A%20%20%20%20%20%20%20%20%20%20%20%20%20%20%20%20%5B%5B48.0799345%2C%207.3581173%5D%2C%20%5B48.0800687%2C%207.3582062%5D%2C%20%5B48.0801053%2C%207.3582304%5D%2C%20%5B48.0810514%2C%207.3587946%5D%2C%20%5B48.081078%2C%207.3588121%5D%2C%20%5B48.0812901%2C%207.3582592%5D%2C%20%5B48.0811901%2C%207.3574801%5D%2C%20%5B48.081187%2C%207.3574485%5D%2C%20%5B48.0811151%2C%207.3567207%5D%2C%20%5B48.0810048%2C%207.3557511%5D%2C%20%5B48.0809871%2C%207.3555963%5D%2C%20%5B48.0809566%2C%207.3552719%5D%2C%20%5B48.0808398%2C%207.3542752%5D%2C%20%5B48.0808022%2C%207.3541446%5D%2C%20%5B48.0807813%2C%207.3540719%5D%2C%20%5B48.0807037%2C%207.3541615%5D%2C%20%5B48.080522%2C%207.3543715%5D%2C%20%5B48.0803729%2C%207.3545639%5D%2C%20%5B48.0802524%2C%207.3545065%5D%2C%20%5B48.0801273%2C%207.3544469%5D%2C%20%5B48.0798734%2C%207.3543649%5D%2C%20%5B48.0795718%2C%207.3544083%5D%2C%20%5B48.0795251%2C%207.3544191%5D%2C%20%5B48.0794868%2C%207.3544306%5D%2C%20%5B48.0794045%2C%207.3544553%5D%2C%20%5B48.0792736%2C%207.3544597%5D%2C%20%5B48.079171%2C%207.3544632%5D%2C%20%5B48.0790362%2C%207.3544678%5D%2C%20%5B48.0785529%2C%207.3541778%5D%2C%20%5B48.0785157%2C%207.3541555%5D%2C%20%5B48.0783544%2C%207.3540747%5D%2C%20%5B48.0783299%2C%207.3540592%5D%2C%20%5B48.0781796%2C%207.3539443%5D%2C%20%5B48.0781313%2C%207.3539074%5D%2C%20%5B48.0781112%2C%207.353967%5D%2C%20%5B48.0780895%2C%207.3540194%5D%2C%20%5B48.0777813%2C%207.3547561%5D%2C%20%5B48.0776378%2C%207.3547895%5D%2C%20%5B48.0776049%2C%207.3547977%5D%2C%20%5B48.0767301%2C%207.354968%5D%2C%20%5B48.0765011%2C%207.3549459%5D%2C%20%5B48.0764574%2C%207.3549391%5D%2C%20%5B48.0762517%2C%207.3549054%5D%2C%20%5B48.0761066%2C%207.3548796%5D%2C%20%5B48.0758748%2C%207.3548368%5D%2C%20%5B48.0755701%2C%207.35476%5D%2C%20%5B48.0754573%2C%207.3547305%5D%2C%20%5B48.0750592%2C%207.3546288%5D%2C%20%5B48.0745125%2C%207.3545122%5D%2C%20%5B48.0742181%2C%207.3544674%5D%2C%20%5B48.0739086%2C%207.3544437%5D%2C%20%5B48.0732992%2C%207.3543706%5D%2C%20%5B48.0728934%2C%207.3543151%5D%2C%20%5B48.0727795%2C%207.3541791%5D%2C%20%5B48.0723472%2C%207.3537754%5D%2C%20%5B48.0721881%2C%207.353572%5D%2C%20%5B48.0719669%2C%207.3535117%5D%2C%20%5B48.0714268%2C%207.3534811%5D%2C%20%5B48.070906%2C%207.3534252%5D%5D%2C%0A%20%20%20%20%20%20%20%20%20%20%20%20%20%20%20%20%7B%22bubblingMouseEvents%22%3A%20true%2C%20%22color%22%3A%20%22magenta%22%2C%20%22dashArray%22%3A%20null%2C%20%22dashOffset%22%3A%20null%2C%20%22fill%22%3A%20false%2C%20%22fillColor%22%3A%20%22magenta%22%2C%20%22fillOpacity%22%3A%200.2%2C%20%22fillRule%22%3A%20%22evenodd%22%2C%20%22lineCap%22%3A%20%22round%22%2C%20%22lineJoin%22%3A%20%22round%22%2C%20%22noClip%22%3A%20false%2C%20%22opacity%22%3A%201%2C%20%22smoothFactor%22%3A%201.0%2C%20%22stroke%22%3A%20true%2C%20%22weight%22%3A%202.5%7D%0A%20%20%20%20%20%20%20%20%20%20%20%20%29.addTo%28map_7f9661ee6d3443aea658e6ea619e4eb7%29%3B%0A%20%20%20%20%20%20%20%20%0A%3C/script%3E onload=\"this.contentDocument.open();this.contentDocument.write(    decodeURIComponent(this.getAttribute('data-html')));this.contentDocument.close();\" allowfullscreen webkitallowfullscreen mozallowfullscreen></iframe></div></div>"
      ],
      "text/plain": [
       "<folium.folium.Map at 0x7fd6490895d0>"
      ]
     },
     "execution_count": 3,
     "metadata": {},
     "output_type": "execute_result"
    }
   ],
   "source": [
    "# Effectuer la saisie pour l'itinéraire en voiture de la mairie de Colmar au Château d'eau\n",
    "itineraire( (48.079584845875885, 7.357623229009501) , (48.07103371359589, 7.353385338720863) , \"car\")"
   ]
  },
  {
   "cell_type": "code",
   "execution_count": 4,
   "metadata": {},
   "outputs": [
    {
     "data": {
      "text/html": [
       "<div style=\"width:100%;\"><div style=\"position:relative;width:100%;height:0;padding-bottom:60%;\"><span style=\"color:#565656\">Make this Notebook Trusted to load map: File -> Trust Notebook</span><iframe src=\"about:blank\" style=\"position:absolute;width:100%;height:100%;left:0;top:0;border:none !important;\" data-html=%3C%21DOCTYPE%20html%3E%0A%3Chead%3E%20%20%20%20%0A%20%20%20%20%3Cmeta%20http-equiv%3D%22content-type%22%20content%3D%22text/html%3B%20charset%3DUTF-8%22%20/%3E%0A%20%20%20%20%0A%20%20%20%20%20%20%20%20%3Cscript%3E%0A%20%20%20%20%20%20%20%20%20%20%20%20L_NO_TOUCH%20%3D%20false%3B%0A%20%20%20%20%20%20%20%20%20%20%20%20L_DISABLE_3D%20%3D%20false%3B%0A%20%20%20%20%20%20%20%20%3C/script%3E%0A%20%20%20%20%0A%20%20%20%20%3Cstyle%3Ehtml%2C%20body%20%7Bwidth%3A%20100%25%3Bheight%3A%20100%25%3Bmargin%3A%200%3Bpadding%3A%200%3B%7D%3C/style%3E%0A%20%20%20%20%3Cstyle%3E%23map%20%7Bposition%3Aabsolute%3Btop%3A0%3Bbottom%3A0%3Bright%3A0%3Bleft%3A0%3B%7D%3C/style%3E%0A%20%20%20%20%3Cscript%20src%3D%22https%3A//cdn.jsdelivr.net/npm/leaflet%401.6.0/dist/leaflet.js%22%3E%3C/script%3E%0A%20%20%20%20%3Cscript%20src%3D%22https%3A//code.jquery.com/jquery-1.12.4.min.js%22%3E%3C/script%3E%0A%20%20%20%20%3Cscript%20src%3D%22https%3A//maxcdn.bootstrapcdn.com/bootstrap/3.2.0/js/bootstrap.min.js%22%3E%3C/script%3E%0A%20%20%20%20%3Cscript%20src%3D%22https%3A//cdnjs.cloudflare.com/ajax/libs/Leaflet.awesome-markers/2.0.2/leaflet.awesome-markers.js%22%3E%3C/script%3E%0A%20%20%20%20%3Clink%20rel%3D%22stylesheet%22%20href%3D%22https%3A//cdn.jsdelivr.net/npm/leaflet%401.6.0/dist/leaflet.css%22/%3E%0A%20%20%20%20%3Clink%20rel%3D%22stylesheet%22%20href%3D%22https%3A//maxcdn.bootstrapcdn.com/bootstrap/3.2.0/css/bootstrap.min.css%22/%3E%0A%20%20%20%20%3Clink%20rel%3D%22stylesheet%22%20href%3D%22https%3A//maxcdn.bootstrapcdn.com/bootstrap/3.2.0/css/bootstrap-theme.min.css%22/%3E%0A%20%20%20%20%3Clink%20rel%3D%22stylesheet%22%20href%3D%22https%3A//maxcdn.bootstrapcdn.com/font-awesome/4.6.3/css/font-awesome.min.css%22/%3E%0A%20%20%20%20%3Clink%20rel%3D%22stylesheet%22%20href%3D%22https%3A//cdnjs.cloudflare.com/ajax/libs/Leaflet.awesome-markers/2.0.2/leaflet.awesome-markers.css%22/%3E%0A%20%20%20%20%3Clink%20rel%3D%22stylesheet%22%20href%3D%22https%3A//cdn.jsdelivr.net/gh/python-visualization/folium/folium/templates/leaflet.awesome.rotate.min.css%22/%3E%0A%20%20%20%20%0A%20%20%20%20%20%20%20%20%20%20%20%20%3Cmeta%20name%3D%22viewport%22%20content%3D%22width%3Ddevice-width%2C%0A%20%20%20%20%20%20%20%20%20%20%20%20%20%20%20%20initial-scale%3D1.0%2C%20maximum-scale%3D1.0%2C%20user-scalable%3Dno%22%20/%3E%0A%20%20%20%20%20%20%20%20%20%20%20%20%3Cstyle%3E%0A%20%20%20%20%20%20%20%20%20%20%20%20%20%20%20%20%23map_02beed78841e4a6485a856bb721da0de%20%7B%0A%20%20%20%20%20%20%20%20%20%20%20%20%20%20%20%20%20%20%20%20position%3A%20relative%3B%0A%20%20%20%20%20%20%20%20%20%20%20%20%20%20%20%20%20%20%20%20width%3A%20100.0%25%3B%0A%20%20%20%20%20%20%20%20%20%20%20%20%20%20%20%20%20%20%20%20height%3A%20100.0%25%3B%0A%20%20%20%20%20%20%20%20%20%20%20%20%20%20%20%20%20%20%20%20left%3A%200.0%25%3B%0A%20%20%20%20%20%20%20%20%20%20%20%20%20%20%20%20%20%20%20%20top%3A%200.0%25%3B%0A%20%20%20%20%20%20%20%20%20%20%20%20%20%20%20%20%7D%0A%20%20%20%20%20%20%20%20%20%20%20%20%3C/style%3E%0A%20%20%20%20%20%20%20%20%0A%3C/head%3E%0A%3Cbody%3E%20%20%20%20%0A%20%20%20%20%0A%20%20%20%20%20%20%20%20%20%20%20%20%3Cdiv%20class%3D%22folium-map%22%20id%3D%22map_02beed78841e4a6485a856bb721da0de%22%20%3E%3C/div%3E%0A%20%20%20%20%20%20%20%20%0A%3C/body%3E%0A%3Cscript%3E%20%20%20%20%0A%20%20%20%20%0A%20%20%20%20%20%20%20%20%20%20%20%20var%20map_02beed78841e4a6485a856bb721da0de%20%3D%20L.map%28%0A%20%20%20%20%20%20%20%20%20%20%20%20%20%20%20%20%22map_02beed78841e4a6485a856bb721da0de%22%2C%0A%20%20%20%20%20%20%20%20%20%20%20%20%20%20%20%20%7B%0A%20%20%20%20%20%20%20%20%20%20%20%20%20%20%20%20%20%20%20%20center%3A%20%5B48.07962801571057%2C%207.364312158211991%5D%2C%0A%20%20%20%20%20%20%20%20%20%20%20%20%20%20%20%20%20%20%20%20crs%3A%20L.CRS.EPSG3857%2C%0A%20%20%20%20%20%20%20%20%20%20%20%20%20%20%20%20%20%20%20%20zoom%3A%2015%2C%0A%20%20%20%20%20%20%20%20%20%20%20%20%20%20%20%20%20%20%20%20zoomControl%3A%20true%2C%0A%20%20%20%20%20%20%20%20%20%20%20%20%20%20%20%20%20%20%20%20preferCanvas%3A%20false%2C%0A%20%20%20%20%20%20%20%20%20%20%20%20%20%20%20%20%7D%0A%20%20%20%20%20%20%20%20%20%20%20%20%29%3B%0A%0A%20%20%20%20%20%20%20%20%20%20%20%20%0A%0A%20%20%20%20%20%20%20%20%0A%20%20%20%20%0A%20%20%20%20%20%20%20%20%20%20%20%20var%20tile_layer_0224cd45063b45d28e273b8484e86ad5%20%3D%20L.tileLayer%28%0A%20%20%20%20%20%20%20%20%20%20%20%20%20%20%20%20%22https%3A//%7Bs%7D.tile.openstreetmap.org/%7Bz%7D/%7Bx%7D/%7By%7D.png%22%2C%0A%20%20%20%20%20%20%20%20%20%20%20%20%20%20%20%20%7B%22attribution%22%3A%20%22Data%20by%20%5Cu0026copy%3B%20%5Cu003ca%20href%3D%5C%22http%3A//openstreetmap.org%5C%22%5Cu003eOpenStreetMap%5Cu003c/a%5Cu003e%2C%20under%20%5Cu003ca%20href%3D%5C%22http%3A//www.openstreetmap.org/copyright%5C%22%5Cu003eODbL%5Cu003c/a%5Cu003e.%22%2C%20%22detectRetina%22%3A%20false%2C%20%22maxNativeZoom%22%3A%2018%2C%20%22maxZoom%22%3A%2018%2C%20%22minZoom%22%3A%200%2C%20%22noWrap%22%3A%20false%2C%20%22opacity%22%3A%201%2C%20%22subdomains%22%3A%20%22abc%22%2C%20%22tms%22%3A%20false%7D%0A%20%20%20%20%20%20%20%20%20%20%20%20%29.addTo%28map_02beed78841e4a6485a856bb721da0de%29%3B%0A%20%20%20%20%20%20%20%20%0A%20%20%20%20%0A%20%20%20%20%20%20%20%20%20%20%20%20var%20marker_f03a1f5aa1944954b5ef3bb847717b9b%20%3D%20L.marker%28%0A%20%20%20%20%20%20%20%20%20%20%20%20%20%20%20%20%5B48.07103371359589%2C%207.353385338720863%5D%2C%0A%20%20%20%20%20%20%20%20%20%20%20%20%20%20%20%20%7B%7D%0A%20%20%20%20%20%20%20%20%20%20%20%20%29.addTo%28map_02beed78841e4a6485a856bb721da0de%29%3B%0A%20%20%20%20%20%20%20%20%0A%20%20%20%20%0A%20%20%20%20%20%20%20%20var%20popup_22c92053a2c949ba9f1569cdabf0399c%20%3D%20L.popup%28%7B%22maxWidth%22%3A%20%22100%25%22%7D%29%3B%0A%0A%20%20%20%20%20%20%20%20%0A%20%20%20%20%20%20%20%20%20%20%20%20var%20html_e251dc373f654fe895ab719c21689cdf%20%3D%20%24%28%60%3Cdiv%20id%3D%22html_e251dc373f654fe895ab719c21689cdf%22%20style%3D%22width%3A%20100.0%25%3B%20height%3A%20100.0%25%3B%22%3ED%C3%A9part%3C/div%3E%60%29%5B0%5D%3B%0A%20%20%20%20%20%20%20%20%20%20%20%20popup_22c92053a2c949ba9f1569cdabf0399c.setContent%28html_e251dc373f654fe895ab719c21689cdf%29%3B%0A%20%20%20%20%20%20%20%20%0A%0A%20%20%20%20%20%20%20%20marker_f03a1f5aa1944954b5ef3bb847717b9b.bindPopup%28popup_22c92053a2c949ba9f1569cdabf0399c%29%0A%20%20%20%20%20%20%20%20%3B%0A%0A%20%20%20%20%20%20%20%20%0A%20%20%20%20%0A%20%20%20%20%0A%20%20%20%20%20%20%20%20%20%20%20%20var%20marker_e2091bb99cb2481a9997cfc274813b6b%20%3D%20L.marker%28%0A%20%20%20%20%20%20%20%20%20%20%20%20%20%20%20%20%5B48.08822231782525%2C%207.37523897770312%5D%2C%0A%20%20%20%20%20%20%20%20%20%20%20%20%20%20%20%20%7B%7D%0A%20%20%20%20%20%20%20%20%20%20%20%20%29.addTo%28map_02beed78841e4a6485a856bb721da0de%29%3B%0A%20%20%20%20%20%20%20%20%0A%20%20%20%20%0A%20%20%20%20%20%20%20%20var%20popup_5896f709c26c4464a520cb898a713508%20%3D%20L.popup%28%7B%22maxWidth%22%3A%20%22100%25%22%7D%29%3B%0A%0A%20%20%20%20%20%20%20%20%0A%20%20%20%20%20%20%20%20%20%20%20%20var%20html_e5a040519cb2452b9f252968f01b59b5%20%3D%20%24%28%60%3Cdiv%20id%3D%22html_e5a040519cb2452b9f252968f01b59b5%22%20style%3D%22width%3A%20100.0%25%3B%20height%3A%20100.0%25%3B%22%3EArriv%C3%A9e%3C/div%3E%60%29%5B0%5D%3B%0A%20%20%20%20%20%20%20%20%20%20%20%20popup_5896f709c26c4464a520cb898a713508.setContent%28html_e5a040519cb2452b9f252968f01b59b5%29%3B%0A%20%20%20%20%20%20%20%20%0A%0A%20%20%20%20%20%20%20%20marker_e2091bb99cb2481a9997cfc274813b6b.bindPopup%28popup_5896f709c26c4464a520cb898a713508%29%0A%20%20%20%20%20%20%20%20%3B%0A%0A%20%20%20%20%20%20%20%20%0A%20%20%20%20%0A%20%20%20%20%0A%20%20%20%20%20%20%20%20%20%20%20%20var%20poly_line_ff43474e817c4f9dbe467c3d246fa057%20%3D%20L.polyline%28%0A%20%20%20%20%20%20%20%20%20%20%20%20%20%20%20%20%5B%5B48.070906%2C%207.3534252%5D%2C%20%5B48.0714268%2C%207.3534811%5D%2C%20%5B48.0719669%2C%207.3535117%5D%2C%20%5B48.0721881%2C%207.353572%5D%2C%20%5B48.0723472%2C%207.3537754%5D%2C%20%5B48.0727795%2C%207.3541791%5D%2C%20%5B48.0728934%2C%207.3543151%5D%2C%20%5B48.0728094%2C%207.3545948%5D%2C%20%5B48.0728019%2C%207.3546329%5D%2C%20%5B48.0727121%2C%207.3550567%5D%2C%20%5B48.0726743%2C%207.3555696%5D%2C%20%5B48.0726587%2C%207.3561256%5D%2C%20%5B48.073411%2C%207.3564787%5D%2C%20%5B48.0740171%2C%207.3568922%5D%2C%20%5B48.0741004%2C%207.3569729%5D%2C%20%5B48.0744732%2C%207.3572981%5D%2C%20%5B48.074726%2C%207.357596%5D%2C%20%5B48.0751345%2C%207.3580445%5D%2C%20%5B48.0752835%2C%207.3582632%5D%2C%20%5B48.0754016%2C%207.3584453%5D%2C%20%5B48.0754849%2C%207.3583307%5D%2C%20%5B48.0757431%2C%207.3587649%5D%2C%20%5B48.0758171%2C%207.3586347%5D%2C%20%5B48.0759964%2C%207.3588613%5D%2C%20%5B48.0760267%2C%207.3589091%5D%2C%20%5B48.0763465%2C%207.3594378%5D%2C%20%5B48.0764256%2C%207.3594864%5D%2C%20%5B48.0765154%2C%207.359519%5D%2C%20%5B48.0766153%2C%207.3595955%5D%2C%20%5B48.0767595%2C%207.3597003%5D%2C%20%5B48.0770745%2C%207.3601121%5D%2C%20%5B48.0770817%2C%207.3601216%5D%2C%20%5B48.0773853%2C%207.3605133%5D%2C%20%5B48.0773851%2C%207.3605143%5D%2C%20%5B48.0776749%2C%207.3607825%5D%2C%20%5B48.0777242%2C%207.3608375%5D%2C%20%5B48.0778121%2C%207.3609291%5D%2C%20%5B48.0780099%2C%207.3610641%5D%2C%20%5B48.0781599%2C%207.3611473%5D%2C%20%5B48.0782153%2C%207.3611786%5D%2C%20%5B48.0783123%2C%207.3612435%5D%2C%20%5B48.0787324%2C%207.3615016%5D%2C%20%5B48.0789886%2C%207.3616788%5D%2C%20%5B48.0790981%2C%207.3617734%5D%2C%20%5B48.0792106%2C%207.3618748%5D%2C%20%5B48.0793073%2C%207.3619891%5D%2C%20%5B48.079493%2C%207.3622194%5D%2C%20%5B48.0796797%2C%207.3624102%5D%2C%20%5B48.0796928%2C%207.3624227%5D%2C%20%5B48.0797034%2C%207.3624534%5D%2C%20%5B48.0797951%2C%207.3626673%5D%2C%20%5B48.0798581%2C%207.3627795%5D%2C%20%5B48.0799254%2C%207.3628992%5D%2C%20%5B48.0799929%2C%207.3630194%5D%2C%20%5B48.0801677%2C%207.3635258%5D%2C%20%5B48.0801969%2C%207.3636342%5D%2C%20%5B48.0802179%2C%207.3637489%5D%2C%20%5B48.0802602%2C%207.3639804%5D%2C%20%5B48.0802619%2C%207.364074%5D%2C%20%5B48.0802146%2C%207.364338%5D%2C%20%5B48.0802087%2C%207.3643753%5D%2C%20%5B48.0801919%2C%207.3644812%5D%2C%20%5B48.080206%2C%207.3646301%5D%2C%20%5B48.0802163%2C%207.3647065%5D%2C%20%5B48.0802015%2C%207.3647583%5D%2C%20%5B48.0801292%2C%207.3650122%5D%2C%20%5B48.079989%2C%207.3654863%5D%2C%20%5B48.0799647%2C%207.3656175%5D%2C%20%5B48.0799446%2C%207.3658235%5D%2C%20%5B48.0799369%2C%207.3660234%5D%2C%20%5B48.0799464%2C%207.3663001%5D%2C%20%5B48.0800159%2C%207.3667553%5D%2C%20%5B48.0800581%2C%207.367124%5D%2C%20%5B48.0800773%2C%207.3673815%5D%2C%20%5B48.0800866%2C%207.3676204%5D%2C%20%5B48.0800281%2C%207.3686736%5D%2C%20%5B48.0800971%2C%207.3686988%5D%2C%20%5B48.0802054%2C%207.3687497%5D%2C%20%5B48.080767%2C%207.369027%5D%2C%20%5B48.0815756%2C%207.3694326%5D%2C%20%5B48.0818379%2C%207.3695641%5D%2C%20%5B48.0820633%2C%207.3696786%5D%2C%20%5B48.0821528%2C%207.369726%5D%2C%20%5B48.0824385%2C%207.3698565%5D%2C%20%5B48.082485%2C%207.3699132%5D%2C%20%5B48.0825296%2C%207.3700431%5D%2C%20%5B48.0826231%2C%207.3702824%5D%2C%20%5B48.0826713%2C%207.3704316%5D%2C%20%5B48.0828019%2C%207.3708305%5D%2C%20%5B48.0828371%2C%207.3709276%5D%2C%20%5B48.0837005%2C%207.3731977%5D%2C%20%5B48.0837843%2C%207.3733082%5D%2C%20%5B48.084491%2C%207.3735999%5D%2C%20%5B48.0845784%2C%207.373636%5D%2C%20%5B48.0847869%2C%207.3737443%5D%2C%20%5B48.0849097%2C%207.3738191%5D%2C%20%5B48.0850948%2C%207.3739068%5D%2C%20%5B48.0854499%2C%207.3740507%5D%2C%20%5B48.0854848%2C%207.3740661%5D%2C%20%5B48.0855726%2C%207.3741098%5D%2C%20%5B48.0856003%2C%207.3741708%5D%2C%20%5B48.0856342%2C%207.3742155%5D%2C%20%5B48.0859909%2C%207.3743578%5D%2C%20%5B48.0871008%2C%207.3747975%5D%2C%20%5B48.0874368%2C%207.3748829%5D%2C%20%5B48.087577%2C%207.374943%5D%2C%20%5B48.0876858%2C%207.3750157%5D%2C%20%5B48.0877764%2C%207.3750763%5D%2C%20%5B48.0880892%2C%207.3751873%5D%2C%20%5B48.088241%2C%207.3752442%5D%5D%2C%0A%20%20%20%20%20%20%20%20%20%20%20%20%20%20%20%20%7B%22bubblingMouseEvents%22%3A%20true%2C%20%22color%22%3A%20%22magenta%22%2C%20%22dashArray%22%3A%20null%2C%20%22dashOffset%22%3A%20null%2C%20%22fill%22%3A%20false%2C%20%22fillColor%22%3A%20%22magenta%22%2C%20%22fillOpacity%22%3A%200.2%2C%20%22fillRule%22%3A%20%22evenodd%22%2C%20%22lineCap%22%3A%20%22round%22%2C%20%22lineJoin%22%3A%20%22round%22%2C%20%22noClip%22%3A%20false%2C%20%22opacity%22%3A%201%2C%20%22smoothFactor%22%3A%201.0%2C%20%22stroke%22%3A%20true%2C%20%22weight%22%3A%202.5%7D%0A%20%20%20%20%20%20%20%20%20%20%20%20%29.addTo%28map_02beed78841e4a6485a856bb721da0de%29%3B%0A%20%20%20%20%20%20%20%20%0A%3C/script%3E onload=\"this.contentDocument.open();this.contentDocument.write(    decodeURIComponent(this.getAttribute('data-html')));this.contentDocument.close();\" allowfullscreen webkitallowfullscreen mozallowfullscreen></iframe></div></div>"
      ],
      "text/plain": [
       "<folium.folium.Map at 0x7fd648dcfed0>"
      ]
     },
     "execution_count": 4,
     "metadata": {},
     "output_type": "execute_result"
    }
   ],
   "source": [
    "# Effectuer la saisie pour l'itinéraire à pied du château d'eau au stadium de Colmar\n",
    "itineraire( (48.07103371359589, 7.353385338720863) , (48.08822231782525, 7.37523897770312) , \"foot\")"
   ]
  },
  {
   "cell_type": "code",
   "execution_count": 5,
   "metadata": {},
   "outputs": [
    {
     "data": {
      "text/html": [
       "<div style=\"width:100%;\"><div style=\"position:relative;width:100%;height:0;padding-bottom:60%;\"><span style=\"color:#565656\">Make this Notebook Trusted to load map: File -> Trust Notebook</span><iframe src=\"about:blank\" style=\"position:absolute;width:100%;height:100%;left:0;top:0;border:none !important;\" data-html=%3C%21DOCTYPE%20html%3E%0A%3Chead%3E%20%20%20%20%0A%20%20%20%20%3Cmeta%20http-equiv%3D%22content-type%22%20content%3D%22text/html%3B%20charset%3DUTF-8%22%20/%3E%0A%20%20%20%20%0A%20%20%20%20%20%20%20%20%3Cscript%3E%0A%20%20%20%20%20%20%20%20%20%20%20%20L_NO_TOUCH%20%3D%20false%3B%0A%20%20%20%20%20%20%20%20%20%20%20%20L_DISABLE_3D%20%3D%20false%3B%0A%20%20%20%20%20%20%20%20%3C/script%3E%0A%20%20%20%20%0A%20%20%20%20%3Cstyle%3Ehtml%2C%20body%20%7Bwidth%3A%20100%25%3Bheight%3A%20100%25%3Bmargin%3A%200%3Bpadding%3A%200%3B%7D%3C/style%3E%0A%20%20%20%20%3Cstyle%3E%23map%20%7Bposition%3Aabsolute%3Btop%3A0%3Bbottom%3A0%3Bright%3A0%3Bleft%3A0%3B%7D%3C/style%3E%0A%20%20%20%20%3Cscript%20src%3D%22https%3A//cdn.jsdelivr.net/npm/leaflet%401.6.0/dist/leaflet.js%22%3E%3C/script%3E%0A%20%20%20%20%3Cscript%20src%3D%22https%3A//code.jquery.com/jquery-1.12.4.min.js%22%3E%3C/script%3E%0A%20%20%20%20%3Cscript%20src%3D%22https%3A//maxcdn.bootstrapcdn.com/bootstrap/3.2.0/js/bootstrap.min.js%22%3E%3C/script%3E%0A%20%20%20%20%3Cscript%20src%3D%22https%3A//cdnjs.cloudflare.com/ajax/libs/Leaflet.awesome-markers/2.0.2/leaflet.awesome-markers.js%22%3E%3C/script%3E%0A%20%20%20%20%3Clink%20rel%3D%22stylesheet%22%20href%3D%22https%3A//cdn.jsdelivr.net/npm/leaflet%401.6.0/dist/leaflet.css%22/%3E%0A%20%20%20%20%3Clink%20rel%3D%22stylesheet%22%20href%3D%22https%3A//maxcdn.bootstrapcdn.com/bootstrap/3.2.0/css/bootstrap.min.css%22/%3E%0A%20%20%20%20%3Clink%20rel%3D%22stylesheet%22%20href%3D%22https%3A//maxcdn.bootstrapcdn.com/bootstrap/3.2.0/css/bootstrap-theme.min.css%22/%3E%0A%20%20%20%20%3Clink%20rel%3D%22stylesheet%22%20href%3D%22https%3A//maxcdn.bootstrapcdn.com/font-awesome/4.6.3/css/font-awesome.min.css%22/%3E%0A%20%20%20%20%3Clink%20rel%3D%22stylesheet%22%20href%3D%22https%3A//cdnjs.cloudflare.com/ajax/libs/Leaflet.awesome-markers/2.0.2/leaflet.awesome-markers.css%22/%3E%0A%20%20%20%20%3Clink%20rel%3D%22stylesheet%22%20href%3D%22https%3A//cdn.jsdelivr.net/gh/python-visualization/folium/folium/templates/leaflet.awesome.rotate.min.css%22/%3E%0A%20%20%20%20%0A%20%20%20%20%20%20%20%20%20%20%20%20%3Cmeta%20name%3D%22viewport%22%20content%3D%22width%3Ddevice-width%2C%0A%20%20%20%20%20%20%20%20%20%20%20%20%20%20%20%20initial-scale%3D1.0%2C%20maximum-scale%3D1.0%2C%20user-scalable%3Dno%22%20/%3E%0A%20%20%20%20%20%20%20%20%20%20%20%20%3Cstyle%3E%0A%20%20%20%20%20%20%20%20%20%20%20%20%20%20%20%20%23map_b39cec0b3e7e4af5b378b72cce5df35d%20%7B%0A%20%20%20%20%20%20%20%20%20%20%20%20%20%20%20%20%20%20%20%20position%3A%20relative%3B%0A%20%20%20%20%20%20%20%20%20%20%20%20%20%20%20%20%20%20%20%20width%3A%20100.0%25%3B%0A%20%20%20%20%20%20%20%20%20%20%20%20%20%20%20%20%20%20%20%20height%3A%20100.0%25%3B%0A%20%20%20%20%20%20%20%20%20%20%20%20%20%20%20%20%20%20%20%20left%3A%200.0%25%3B%0A%20%20%20%20%20%20%20%20%20%20%20%20%20%20%20%20%20%20%20%20top%3A%200.0%25%3B%0A%20%20%20%20%20%20%20%20%20%20%20%20%20%20%20%20%7D%0A%20%20%20%20%20%20%20%20%20%20%20%20%3C/style%3E%0A%20%20%20%20%20%20%20%20%0A%3C/head%3E%0A%3Cbody%3E%20%20%20%20%0A%20%20%20%20%0A%20%20%20%20%20%20%20%20%20%20%20%20%3Cdiv%20class%3D%22folium-map%22%20id%3D%22map_b39cec0b3e7e4af5b378b72cce5df35d%22%20%3E%3C/div%3E%0A%20%20%20%20%20%20%20%20%0A%3C/body%3E%0A%3Cscript%3E%20%20%20%20%0A%20%20%20%20%0A%20%20%20%20%20%20%20%20%20%20%20%20var%20map_b39cec0b3e7e4af5b378b72cce5df35d%20%3D%20L.map%28%0A%20%20%20%20%20%20%20%20%20%20%20%20%20%20%20%20%22map_b39cec0b3e7e4af5b378b72cce5df35d%22%2C%0A%20%20%20%20%20%20%20%20%20%20%20%20%20%20%20%20%7B%0A%20%20%20%20%20%20%20%20%20%20%20%20%20%20%20%20%20%20%20%20center%3A%20%5B48.083903581850564%2C%207.366431103356311%5D%2C%0A%20%20%20%20%20%20%20%20%20%20%20%20%20%20%20%20%20%20%20%20crs%3A%20L.CRS.EPSG3857%2C%0A%20%20%20%20%20%20%20%20%20%20%20%20%20%20%20%20%20%20%20%20zoom%3A%2015%2C%0A%20%20%20%20%20%20%20%20%20%20%20%20%20%20%20%20%20%20%20%20zoomControl%3A%20true%2C%0A%20%20%20%20%20%20%20%20%20%20%20%20%20%20%20%20%20%20%20%20preferCanvas%3A%20false%2C%0A%20%20%20%20%20%20%20%20%20%20%20%20%20%20%20%20%7D%0A%20%20%20%20%20%20%20%20%20%20%20%20%29%3B%0A%0A%20%20%20%20%20%20%20%20%20%20%20%20%0A%0A%20%20%20%20%20%20%20%20%0A%20%20%20%20%0A%20%20%20%20%20%20%20%20%20%20%20%20var%20tile_layer_e1108b10e80e4d6da7d657afc99f2924%20%3D%20L.tileLayer%28%0A%20%20%20%20%20%20%20%20%20%20%20%20%20%20%20%20%22https%3A//%7Bs%7D.tile.openstreetmap.org/%7Bz%7D/%7Bx%7D/%7By%7D.png%22%2C%0A%20%20%20%20%20%20%20%20%20%20%20%20%20%20%20%20%7B%22attribution%22%3A%20%22Data%20by%20%5Cu0026copy%3B%20%5Cu003ca%20href%3D%5C%22http%3A//openstreetmap.org%5C%22%5Cu003eOpenStreetMap%5Cu003c/a%5Cu003e%2C%20under%20%5Cu003ca%20href%3D%5C%22http%3A//www.openstreetmap.org/copyright%5C%22%5Cu003eODbL%5Cu003c/a%5Cu003e.%22%2C%20%22detectRetina%22%3A%20false%2C%20%22maxNativeZoom%22%3A%2018%2C%20%22maxZoom%22%3A%2018%2C%20%22minZoom%22%3A%200%2C%20%22noWrap%22%3A%20false%2C%20%22opacity%22%3A%201%2C%20%22subdomains%22%3A%20%22abc%22%2C%20%22tms%22%3A%20false%7D%0A%20%20%20%20%20%20%20%20%20%20%20%20%29.addTo%28map_b39cec0b3e7e4af5b378b72cce5df35d%29%3B%0A%20%20%20%20%20%20%20%20%0A%20%20%20%20%0A%20%20%20%20%20%20%20%20%20%20%20%20var%20marker_94786109a31043f0954b36916d93fa65%20%3D%20L.marker%28%0A%20%20%20%20%20%20%20%20%20%20%20%20%20%20%20%20%5B48.079584845875885%2C%207.357623229009501%5D%2C%0A%20%20%20%20%20%20%20%20%20%20%20%20%20%20%20%20%7B%7D%0A%20%20%20%20%20%20%20%20%20%20%20%20%29.addTo%28map_b39cec0b3e7e4af5b378b72cce5df35d%29%3B%0A%20%20%20%20%20%20%20%20%0A%20%20%20%20%0A%20%20%20%20%20%20%20%20var%20popup_aa077f0cf9af4219a7ab90c0cadb6aa5%20%3D%20L.popup%28%7B%22maxWidth%22%3A%20%22100%25%22%7D%29%3B%0A%0A%20%20%20%20%20%20%20%20%0A%20%20%20%20%20%20%20%20%20%20%20%20var%20html_a9169f8a268647bdaed5788d550bd257%20%3D%20%24%28%60%3Cdiv%20id%3D%22html_a9169f8a268647bdaed5788d550bd257%22%20style%3D%22width%3A%20100.0%25%3B%20height%3A%20100.0%25%3B%22%3ED%C3%A9part%3C/div%3E%60%29%5B0%5D%3B%0A%20%20%20%20%20%20%20%20%20%20%20%20popup_aa077f0cf9af4219a7ab90c0cadb6aa5.setContent%28html_a9169f8a268647bdaed5788d550bd257%29%3B%0A%20%20%20%20%20%20%20%20%0A%0A%20%20%20%20%20%20%20%20marker_94786109a31043f0954b36916d93fa65.bindPopup%28popup_aa077f0cf9af4219a7ab90c0cadb6aa5%29%0A%20%20%20%20%20%20%20%20%3B%0A%0A%20%20%20%20%20%20%20%20%0A%20%20%20%20%0A%20%20%20%20%0A%20%20%20%20%20%20%20%20%20%20%20%20var%20marker_3dd0e081db3e411d8aee2a05529979ee%20%3D%20L.marker%28%0A%20%20%20%20%20%20%20%20%20%20%20%20%20%20%20%20%5B48.08822231782525%2C%207.37523897770312%5D%2C%0A%20%20%20%20%20%20%20%20%20%20%20%20%20%20%20%20%7B%7D%0A%20%20%20%20%20%20%20%20%20%20%20%20%29.addTo%28map_b39cec0b3e7e4af5b378b72cce5df35d%29%3B%0A%20%20%20%20%20%20%20%20%0A%20%20%20%20%0A%20%20%20%20%20%20%20%20var%20popup_8bb636fd4c124720ba56601ad5c43405%20%3D%20L.popup%28%7B%22maxWidth%22%3A%20%22100%25%22%7D%29%3B%0A%0A%20%20%20%20%20%20%20%20%0A%20%20%20%20%20%20%20%20%20%20%20%20var%20html_dadfe36fab2749299d3d921610e3680f%20%3D%20%24%28%60%3Cdiv%20id%3D%22html_dadfe36fab2749299d3d921610e3680f%22%20style%3D%22width%3A%20100.0%25%3B%20height%3A%20100.0%25%3B%22%3EArriv%C3%A9e%3C/div%3E%60%29%5B0%5D%3B%0A%20%20%20%20%20%20%20%20%20%20%20%20popup_8bb636fd4c124720ba56601ad5c43405.setContent%28html_dadfe36fab2749299d3d921610e3680f%29%3B%0A%20%20%20%20%20%20%20%20%0A%0A%20%20%20%20%20%20%20%20marker_3dd0e081db3e411d8aee2a05529979ee.bindPopup%28popup_8bb636fd4c124720ba56601ad5c43405%29%0A%20%20%20%20%20%20%20%20%3B%0A%0A%20%20%20%20%20%20%20%20%0A%20%20%20%20%0A%20%20%20%20%0A%20%20%20%20%20%20%20%20%20%20%20%20var%20poly_line_35d01c06fc1945598870c9c1a7ad3c34%20%3D%20L.polyline%28%0A%20%20%20%20%20%20%20%20%20%20%20%20%20%20%20%20%5B%5B48.0796615%2C%207.3576561%5D%2C%20%5B48.079658%2C%207.3576719%5D%2C%20%5B48.0796953%2C%207.3576953%5D%2C%20%5B48.0796993%2C%207.3576839%5D%2C%20%5B48.079844%2C%207.357787%5D%2C%20%5B48.0798402%2C%207.3577998%5D%2C%20%5B48.0798583%2C%207.3578123%5D%2C%20%5B48.0798629%2C%207.3577993%5D%2C%20%5B48.0799107%2C%207.3578341%5D%2C%20%5B48.0798799%2C%207.3579093%5D%2C%20%5B48.0801466%2C%207.3581055%5D%2C%20%5B48.0801053%2C%207.3582304%5D%2C%20%5B48.0810514%2C%207.3587946%5D%2C%20%5B48.0808886%2C%207.3592227%5D%2C%20%5B48.0806344%2C%207.359891%5D%2C%20%5B48.0802974%2C%207.3607761%5D%2C%20%5B48.0797189%2C%207.3622983%5D%2C%20%5B48.0796905%2C%207.3623731%5D%2C%20%5B48.0796797%2C%207.3624102%5D%2C%20%5B48.0796928%2C%207.3624227%5D%2C%20%5B48.0797034%2C%207.3624534%5D%2C%20%5B48.0797951%2C%207.3626673%5D%2C%20%5B48.0798581%2C%207.3627795%5D%2C%20%5B48.0799254%2C%207.3628992%5D%2C%20%5B48.0799929%2C%207.3630194%5D%2C%20%5B48.0801677%2C%207.3635258%5D%2C%20%5B48.0801969%2C%207.3636342%5D%2C%20%5B48.0802179%2C%207.3637489%5D%2C%20%5B48.0802602%2C%207.3639804%5D%2C%20%5B48.0802619%2C%207.364074%5D%2C%20%5B48.0802146%2C%207.364338%5D%2C%20%5B48.0802087%2C%207.3643753%5D%2C%20%5B48.0801919%2C%207.3644812%5D%2C%20%5B48.080206%2C%207.3646301%5D%2C%20%5B48.0802163%2C%207.3647065%5D%2C%20%5B48.0802015%2C%207.3647583%5D%2C%20%5B48.0801292%2C%207.3650122%5D%2C%20%5B48.079989%2C%207.3654863%5D%2C%20%5B48.0799647%2C%207.3656175%5D%2C%20%5B48.0799446%2C%207.3658235%5D%2C%20%5B48.0799369%2C%207.3660234%5D%2C%20%5B48.0799464%2C%207.3663001%5D%2C%20%5B48.0800159%2C%207.3667553%5D%2C%20%5B48.0800581%2C%207.367124%5D%2C%20%5B48.0800773%2C%207.3673815%5D%2C%20%5B48.0800866%2C%207.3676204%5D%2C%20%5B48.0800281%2C%207.3686736%5D%2C%20%5B48.0800971%2C%207.3686988%5D%2C%20%5B48.0802054%2C%207.3687497%5D%2C%20%5B48.080767%2C%207.369027%5D%2C%20%5B48.0815756%2C%207.3694326%5D%2C%20%5B48.0818379%2C%207.3695641%5D%2C%20%5B48.0820633%2C%207.3696786%5D%2C%20%5B48.0821528%2C%207.369726%5D%2C%20%5B48.0824385%2C%207.3698565%5D%2C%20%5B48.082485%2C%207.3699132%5D%2C%20%5B48.0825296%2C%207.3700431%5D%2C%20%5B48.0826231%2C%207.3702824%5D%2C%20%5B48.0826713%2C%207.3704316%5D%2C%20%5B48.0828019%2C%207.3708305%5D%2C%20%5B48.0828371%2C%207.3709276%5D%2C%20%5B48.0837005%2C%207.3731977%5D%2C%20%5B48.0837843%2C%207.3733082%5D%2C%20%5B48.084491%2C%207.3735999%5D%2C%20%5B48.0845784%2C%207.373636%5D%2C%20%5B48.0847869%2C%207.3737443%5D%2C%20%5B48.0849097%2C%207.3738191%5D%2C%20%5B48.0850948%2C%207.3739068%5D%2C%20%5B48.0854499%2C%207.3740507%5D%2C%20%5B48.0854848%2C%207.3740661%5D%2C%20%5B48.0855726%2C%207.3741098%5D%2C%20%5B48.0856003%2C%207.3741708%5D%2C%20%5B48.0856342%2C%207.3742155%5D%2C%20%5B48.0859909%2C%207.3743578%5D%2C%20%5B48.0871008%2C%207.3747975%5D%2C%20%5B48.0874368%2C%207.3748829%5D%2C%20%5B48.087577%2C%207.374943%5D%2C%20%5B48.0876858%2C%207.3750157%5D%2C%20%5B48.0877764%2C%207.3750763%5D%2C%20%5B48.0880892%2C%207.3751873%5D%2C%20%5B48.088241%2C%207.3752442%5D%5D%2C%0A%20%20%20%20%20%20%20%20%20%20%20%20%20%20%20%20%7B%22bubblingMouseEvents%22%3A%20true%2C%20%22color%22%3A%20%22magenta%22%2C%20%22dashArray%22%3A%20null%2C%20%22dashOffset%22%3A%20null%2C%20%22fill%22%3A%20false%2C%20%22fillColor%22%3A%20%22magenta%22%2C%20%22fillOpacity%22%3A%200.2%2C%20%22fillRule%22%3A%20%22evenodd%22%2C%20%22lineCap%22%3A%20%22round%22%2C%20%22lineJoin%22%3A%20%22round%22%2C%20%22noClip%22%3A%20false%2C%20%22opacity%22%3A%201%2C%20%22smoothFactor%22%3A%201.0%2C%20%22stroke%22%3A%20true%2C%20%22weight%22%3A%202.5%7D%0A%20%20%20%20%20%20%20%20%20%20%20%20%29.addTo%28map_b39cec0b3e7e4af5b378b72cce5df35d%29%3B%0A%20%20%20%20%20%20%20%20%0A%3C/script%3E onload=\"this.contentDocument.open();this.contentDocument.write(    decodeURIComponent(this.getAttribute('data-html')));this.contentDocument.close();\" allowfullscreen webkitallowfullscreen mozallowfullscreen></iframe></div></div>"
      ],
      "text/plain": [
       "<folium.folium.Map at 0x7fd648c6ad10>"
      ]
     },
     "execution_count": 5,
     "metadata": {},
     "output_type": "execute_result"
    }
   ],
   "source": [
    "# Effectuer la saisie pour l'itinéraire à pied de la mairie de Colmar au stadium de Colmar\n",
    "itineraire( (48.079584845875885, 7.357623229009501) , (48.08822231782525, 7.37523897770312) , \"foot\")"
   ]
  },
  {
   "cell_type": "markdown",
   "metadata": {},
   "source": [
    "__4. Utiliser le site <a href=\"https://www.coordonnees-gps.fr/\">coordonnees-gps.fr</a> pour obtenir les coordonnées GPS de votre domicile et de votre lycée.<br>Effectuer la saisie nécessaire pour déterminer un itinéraire à pied de votre domicile au lycée.__\n"
   ]
  },
  {
   "cell_type": "code",
   "execution_count": 6,
   "metadata": {},
   "outputs": [],
   "source": [
    "# Effectuer la saisie pour obtenir un itinéraire à pied de votre domicile à votre lycée\n"
   ]
  },
  {
   "cell_type": "markdown",
   "metadata": {},
   "source": [
    "*(C) Copyright Franck CHEVRIER 2019-2021 http://www.python-lycee.com/*\n"
   ]
  }
 ],
 "metadata": {
  "celltoolbar": "Raw Cell Format",
  "kernelspec": {
   "display_name": "Python 3",
   "language": "python",
   "name": "python3"
  },
  "language_info": {
   "codemirror_mode": {
    "name": "ipython",
    "version": 3
   },
   "file_extension": ".py",
   "mimetype": "text/x-python",
   "name": "python",
   "nbconvert_exporter": "python",
   "pygments_lexer": "ipython3",
   "version": "3.7.10"
  }
 },
 "nbformat": 4,
 "nbformat_minor": 2
}
