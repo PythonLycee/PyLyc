{
 "cells": [
  {
   "cell_type": "markdown",
   "metadata": {},
   "source": [
    "![En tête general](img/En_tete_general.png)\n",
    "\n",
    "\n",
    "*(C) Copyright Franck CHEVRIER 2019-2021 http://www.python-lycee.com/*\n",
    "\n",
    "<span style=\"color: #9317B4\"> Pour exécuter une saisie Python, sélectionner la cellule et valider avec </span><span style=\"color: #B317B4\"><strong>SHIFT+Entrée</strong></span>.\n"
   ]
  },
  {
   "cell_type": "markdown",
   "metadata": {},
   "source": [
    "# <span style=\"color:#6C3483\">Une Spirale infinie de longueur finie </span>\n",
    "#### <span style=\"color:#6C3483\">Étude d'une suite de nombres complexes</span>\n",
    "\n",
    "<span style=\"color:#6C3483\">__Note :__ Cette activité <u>ne</u> nécessite <u>pas</u> la connaissance de l'écriture exponentielle d'un nombre complexe. Elle est inspirée d'un exercice du Bac S 2014 Centres Étrangers.</span>"
   ]
  },
  {
   "cell_type": "markdown",
   "metadata": {},
   "source": [
    "__On considère la suite de nombres complexes $(z_n)_{n \\geq 0}$ définie par :__\n",
    "<ul>\n",
    "    <li>$z_0=16$ ;</li>\n",
    "    <li>$\\forall n \\in \\mathbb{N}$ ; $\\displaystyle z_{n+1}=\\frac{1+i}{2}z_n$.</li>\n",
    "</ul>"
   ]
  },
  {
   "cell_type": "markdown",
   "metadata": {},
   "source": [
    "__1. a. Déterminer les formes algébriques de $z_1$ ; $z_2$ et $z_3$.__<br>\n",
    "\n",
    "<ul style=\"color:red\">\n",
    "    <li>$\\displaystyle z_1=\\frac{1+i}{2}z_0=\\frac{1+i}{2}\\times16=8+8i$</li>\n",
    "    <li>$\\displaystyle z_2=\\frac{1+i}{2}z_1=\\frac{1+i}{2}\\times(8+8i)=4(1+i)²=8i$</li>\n",
    "    <li>$\\displaystyle z_3=\\frac{1+i}{2}z_2=\\frac{1+i}{2}\\times8i=-4+4i$</li>\n",
    "</ul>\n",
    "\n",
    "$\\;\\;\\;$__b. Le nombre complexe $i$ se code <mark>1j</mark> en Python. Exécuter les deux cellules suivantes, qui permettent de définir $z_0$ et de calculer $z_1$.__"
   ]
  },
  {
   "cell_type": "code",
   "execution_count": 1,
   "metadata": {},
   "outputs": [
    {
     "data": {
      "text/plain": [
       "16"
      ]
     },
     "execution_count": 1,
     "metadata": {},
     "output_type": "execute_result"
    }
   ],
   "source": [
    "z0 = 16\n",
    "z0"
   ]
  },
  {
   "cell_type": "code",
   "execution_count": 2,
   "metadata": {},
   "outputs": [
    {
     "data": {
      "text/plain": [
       "(8+8j)"
      ]
     },
     "execution_count": 2,
     "metadata": {},
     "output_type": "execute_result"
    }
   ],
   "source": [
    "z1 = z0 * (1+1j) /2\n",
    "z1"
   ]
  },
  {
   "cell_type": "markdown",
   "metadata": {},
   "source": [
    "$\\;\\;\\;$__c. Effectuer des saisies pour calculer $z_2$ et $z_3$, et vérifier la cohérence avec les résultats de la question 1.a.__"
   ]
  },
  {
   "cell_type": "code",
   "execution_count": 3,
   "metadata": {},
   "outputs": [
    {
     "data": {
      "text/plain": [
       "8j"
      ]
     },
     "execution_count": 3,
     "metadata": {},
     "output_type": "execute_result"
    }
   ],
   "source": [
    "# Utiliser ces zones de saisie pour les calculs des termes\n",
    "z2 = z1 * (1+1j) /2\n",
    "z2"
   ]
  },
  {
   "cell_type": "code",
   "execution_count": 4,
   "metadata": {},
   "outputs": [
    {
     "data": {
      "text/plain": [
       "(-4+4j)"
      ]
     },
     "execution_count": 4,
     "metadata": {},
     "output_type": "execute_result"
    }
   ],
   "source": [
    "z3 = z2 * (1+1j) /2\n",
    "z3"
   ]
  },
  {
   "cell_type": "markdown",
   "metadata": {},
   "source": [
    "__2. a. On souhaite maintenant automatiser le calcul des termes de la suite $(z_n)_{n \\geq 0}$.__<br>\n",
    "$\\quad\\;\\;\\;$__Définir une fonction Python <mark>z</mark> qui reçoit en argument <mark>n</mark> et renvoie le nombre complexe $z_n$.__"
   ]
  },
  {
   "cell_type": "code",
   "execution_count": 5,
   "metadata": {},
   "outputs": [],
   "source": [
    "# Écrire ici la fonction Python z\n",
    "def z(n):\n",
    "    \"\"\"\n",
    "    Fonction qui calcule le terme de rang n de la suite (zn)\n",
    "    \"\"\"\n",
    "    m = 16\n",
    "    q = (1+1j)/2\n",
    "    for k in range(n):\n",
    "        m = m * q\n",
    "    return m"
   ]
  },
  {
   "cell_type": "markdown",
   "metadata": {},
   "source": [
    "$\\quad\\;\\;\\;$__b. Effectuer des appels à la fonction <mark>z</mark> pour retrouver les valeurs de $z_1$ ; $z_2$ et $z_3$.__"
   ]
  },
  {
   "cell_type": "code",
   "execution_count": 6,
   "metadata": {},
   "outputs": [
    {
     "data": {
      "text/plain": [
       "(8+8j)"
      ]
     },
     "execution_count": 6,
     "metadata": {},
     "output_type": "execute_result"
    }
   ],
   "source": [
    "# Utiliser ces zones de saisie pour les calculs des termes\n",
    "z(1)"
   ]
  },
  {
   "cell_type": "code",
   "execution_count": 7,
   "metadata": {},
   "outputs": [
    {
     "data": {
      "text/plain": [
       "8j"
      ]
     },
     "execution_count": 7,
     "metadata": {},
     "output_type": "execute_result"
    }
   ],
   "source": [
    "z(2)"
   ]
  },
  {
   "cell_type": "code",
   "execution_count": 8,
   "metadata": {},
   "outputs": [
    {
     "data": {
      "text/plain": [
       "(-4+4j)"
      ]
     },
     "execution_count": 8,
     "metadata": {},
     "output_type": "execute_result"
    }
   ],
   "source": [
    "z(3)"
   ]
  },
  {
   "cell_type": "markdown",
   "metadata": {},
   "source": [
    "__3. La fonction Python <mark>graphique</mark> donnée ci-dessous permet d'obtenir une représentation graphique du plan complexe où apparaissent :__\n",
    "<ul>\n",
    "    <li>les points $M_n(z_n)$ pour $0\\leq n \\leq N$ ;</li>\n",
    "    <li>les segments $[M_nM_{n+1}]$ pour $0\\leq n \\leq N-1$.</li>\n",
    "</ul>\n",
    "\n",
    "__Exécuter les deux cellules pour obtenir cette représentation graphique pour $N=10$.__"
   ]
  },
  {
   "cell_type": "code",
   "execution_count": 11,
   "metadata": {},
   "outputs": [],
   "source": [
    "import matplotlib.pyplot as plt\n",
    "\n",
    "def graphique(z,N):\n",
    "    \"\"\"\n",
    "    Fonction qui affiche les points d'affixes z(n) pour n de 0 jusqu'à N\n",
    "    et des segments qui les joignent\n",
    "    où z est une fonction Python correspondant à une suite de complexes\n",
    "    \"\"\" \n",
    "    # initialisation du graphique\n",
    "    plt.figure()\n",
    "    \n",
    "    # création de la liste des abscisses et de la liste des ordonnées\n",
    "    Lx = [z(n).real for n in range(N+1)]\n",
    "    Ly = [z(n).imag for n in range(N+1)]\n",
    "    \n",
    "    # création des noms des points\n",
    "    Lname = ['$M_{'+str(n)+'}$' for n in range(N+1) ]\n",
    "      \n",
    "    #paramétrage de la fenêtre d'affichage    \n",
    "    xmin = int(min(Lx+[-1])) ; xmax = int(max(Lx+[1]))+1\n",
    "    ymin = int(min(Ly+[-1])) ; ymax = int(max(Ly+[1]))+1\n",
    "    \n",
    "    # réglage du repère orthonormé avec graduations\n",
    "    plt.figure(num=0, figsize=(12,8), dpi=80) ;  \n",
    "    plt.axis([xmin-0.5,xmax+0.5,ymin-0.5,ymax+0.5])\n",
    "    plt.xticks( [ k for k in range(xmin-1,xmax+1) ] )\n",
    "    plt.yticks( [ k for k in range(ymin-1,ymax+1) ] )   \n",
    "    ax = plt.gca()\n",
    "    ax.spines['right'].set_color('none') \n",
    "    ax.spines['top'].set_color('none')\n",
    "    ax.xaxis.set_ticks_position('bottom') ; ax.spines['bottom'].set_position(('data',0))\n",
    "    ax.yaxis.set_ticks_position('left') ; ax.spines['left'].set_position(('data',0))\n",
    "    ax.set_aspect('equal')    \n",
    "    # représentation des points avec leurs noms et des segments qui les joignent\n",
    "    plt.plot(Lx,Ly,color='orchid')\n",
    "    plt.scatter(Lx,Ly,color='darkviolet')     \n",
    "    for n in range(N+1):\n",
    "        plt.text(Lx[n]+0.3,Ly[n]+0.3,Lname[n],horizontalalignment='center',verticalalignment='center', fontsize=10, color='darkviolet')\n",
    "\n",
    "    # affichage\n",
    "    plt.show()"
   ]
  },
  {
   "cell_type": "code",
   "execution_count": 12,
   "metadata": {},
   "outputs": [
    {
     "data": {
      "text/plain": [
       "<Figure size 432x288 with 0 Axes>"
      ]
     },
     "metadata": {},
     "output_type": "display_data"
    },
    {
     "data": {
      "image/png": "[encoded data removed]",
      "text/plain": [
       "<Figure size 960x640 with 1 Axes>"
      ]
     },
     "metadata": {
      "needs_background": "light"
     },
     "output_type": "display_data"
    }
   ],
   "source": [
    "graphique(z,10)"
   ]
  },
  {
   "cell_type": "markdown",
   "metadata": {},
   "source": [
    "<BLOCKQUOTE style='background-color:plum;'>\n",
    "On souhaite maintenant étudier, pour $N \\geq 1$ la longueur de la ligne polygonale $\\color{darkviolet}{M_0M_1...M_N}$, notée $L_N$.<br>\n",
    "Ainsi, on a :\n",
    "$$L_N = \\sum\\limits_{n=0}^{N-1}{M_nM_{n+1}}=M_0M_1+M_1M_2+...+M_{N-1}M_N$$\n",
    "</BLOCKQUOTE>    "
   ]
  },
  {
   "cell_type": "markdown",
   "metadata": {},
   "source": [
    "__4. Étude algorithmique.__<br><br>\n",
    "$\\;\\;\\;$__a. La fonction Python <mark>abs</mark> permet de calculer le module d'un nombre complexe.__<br>\n",
    "$\\quad\\;\\;$__Exécuter les deux cellules suivantes. Que permettent-elles de calculer ?__\n",
    "<br><br><span style=\"color:red\">La première cellule permet de calculer l'affixe du vecteur $\\overrightarrow{M_0M_1}$, et la deuxième cellule permet de calculer la longueur $M_0M_1$.</span>"
   ]
  },
  {
   "cell_type": "code",
   "execution_count": null,
   "metadata": {},
   "outputs": [],
   "source": [
    "a = z(1)-z(0)\n",
    "a"
   ]
  },
  {
   "cell_type": "code",
   "execution_count": null,
   "metadata": {},
   "outputs": [],
   "source": [
    "abs(a)"
   ]
  },
  {
   "cell_type": "markdown",
   "metadata": {},
   "source": [
    "$\\;\\;\\;$__b. Définir une fonction Python <mark>L</mark> qui reçoit en argument <mark>N</mark> et renvoie la longueur $L_N$.__"
   ]
  },
  {
   "cell_type": "code",
   "execution_count": null,
   "metadata": {},
   "outputs": [],
   "source": [
    "# Écrire ici la fonction Python L\n",
    "def L(N):\n",
    "    \"\"\"\n",
    "    Fonction qui calcule la longueur de la ligne polygonale jusqu'au point de rang N\n",
    "    \"\"\"\n",
    "    S = 0\n",
    "    for n in range(N):\n",
    "        S = S + abs(z(n+1)-z(n))\n",
    "    return S\n",
    "        "
   ]
  },
  {
   "cell_type": "markdown",
   "metadata": {},
   "source": [
    "$\\;\\;\\;$__c. À l'aide de la fonction Python <mark>L</mark>, effectuer des saisies pour calculer $L_{10}$, $L_{100}$ puis $L_{1000}$.__<br>\n",
    "$\\quad\\;\\;$__Que peut-on conjecturer concernant $L_N$ lorsque $N$ tend vers $+\\infty$ ?__\n",
    "<br><br><span style=\"color:red\">Il semble que la suite $(L_N)$ admette une limite finie.</span>"
   ]
  },
  {
   "cell_type": "code",
   "execution_count": null,
   "metadata": {},
   "outputs": [],
   "source": [
    "# Utiliser ces zones de saisie pour les calculs des termes\n",
    "L(10)"
   ]
  },
  {
   "cell_type": "code",
   "execution_count": null,
   "metadata": {},
   "outputs": [],
   "source": [
    "L(100)"
   ]
  },
  {
   "cell_type": "code",
   "execution_count": null,
   "metadata": {},
   "outputs": [],
   "source": [
    "L(1000)"
   ]
  },
  {
   "cell_type": "markdown",
   "metadata": {},
   "source": [
    "__5. Étude mathématique.__<br><br>\n",
    "$\\;\\;\\;$__Pour tout $n \\geq 0$, on pose $r_n = \\lvert z_n \\rvert$.__<br><br>\n",
    "$\\;\\;\\;$__a. Démontrer que pour tout $n \\geq 0$ ; $\\displaystyle r_{n+1}=\\frac{\\sqrt{2}}{2}r_n$. En déduire la nature de la suite $(r_n)_{n \\geq 0}$.__<br><br>\n",
    "$\\;\\;\\;$__b. Démontrer que pour tout $n \\geq 0$ ; $M_nM_{n+1}=r_{n+1}$.__<br><br>\n",
    "$\\;\\;\\;$__c. En déduire une expression de $L_N = \\displaystyle\\sum\\limits_{n=0}^{N-1}{M_nM_{n+1}}$ en fonction de $N$.__<br><br>\n",
    "$\\;\\;\\;$__d. Déterminer $\\lim\\limits_{N \\to +\\infty}{L_N}$ pour retrouver le résultat conjecturé à la question 4.c.__<br><br>\n",
    "$\\quad\\;\\;$__À l'aide d'une saisie Python, obtenir une valeur approchée de cette limite.__<br>\n",
    "$\\quad\\;\\;$Aide : La fonction Python <mark>sqrt</mark>, importée du module <mark>math</mark>, permet de calculer la racine carrée d'un nombre.<br>\n",
    "$\\quad\\;\\;$__Comparer avec la valeur de $L_{1000}$.__\n",
    "\n",
    "\n",
    "<span style=\"color:red\">   \n",
    "a. $r_{n+1}=\\lvert z_{n+1} \\rvert = \\displaystyle\\left\\lvert \\frac{1+i}{2} z_n \\right\\rvert = \\displaystyle\\left\\lvert \\frac{1+i}{2} \\right\\rvert \\times \\lvert z_n \\rvert = \\frac{\\lvert 1+i \\rvert}{2} r_n = \\frac{\\sqrt{2}}{2} r_n$.<br> $\\;\\;\\;(r_n)$ est donc la suite géométrique de premier terme $r_0=\\lvert z_0 \\rvert=16$ et de raison $\\displaystyle\\frac{\\sqrt{2}}{2}$.         <br><br>\n",
    "b. $M_nM_{n+1}=\\lvert z_{n+1}-z_n \\rvert = \\displaystyle\\left\\lvert \\frac{1+i}{2}z_n-z_n \\right\\rvert = \\displaystyle\\left\\lvert \\left( \\frac{1+i}{2}-1 \\right) z_n \\right\\rvert = \\displaystyle\\left\\lvert \\frac{-1+i}{2}  z_n \\right\\rvert = \\displaystyle\\left\\lvert \\frac{-1+i}{2} \\right\\rvert \\times \\lvert z_n \\rvert = \\frac{\\sqrt{2}}{2}r_n = r_{n+1} $\n",
    "<br><br>    \n",
    "c. $L_N =\\displaystyle \\sum\\limits_{n=0}^{N-1}{M_nM_{n+1}} = \\sum\\limits_{n=0}^{N-1}{r_{n+1}} = \\sum\\limits_{n=0}^{N-1}{r_0 \\times \\left( \\frac{\\sqrt{2}}{2} \\right)^{n+1} } = r_0 \\frac{\\sqrt{2}}{2} \\sum\\limits_{n=0}^{N-1}{ \\left( \\frac{\\sqrt{2}}{2} \\right)^n } = 8 \\sqrt{2} \\times \\frac{1-\\left( \\frac{\\sqrt{2}}{2} \\right) ^N}{1-\\frac{\\sqrt{2}}{2}} = \\frac{16\\sqrt{2}}{2-\\sqrt{2}} \\times \\left( 1-\\left( \\frac{\\sqrt{2}}{2} \\right) ^N \\right)$\n",
    "<br><br>  \n",
    "d. $\\displaystyle\\lim\\limits_{N \\to +\\infty}{\\left( \\frac{\\sqrt{2}}{2} \\right) ^N}=0$<br>\n",
    "$\\;\\;\\;$donc  $\\displaystyle\\lim\\limits_{N \\to +\\infty}{L_N} = \\frac{16\\sqrt{2}}{2-\\sqrt{2}} = \\frac{16\\sqrt{2}\\left(2+\\sqrt{2}\\right)}{\\left(2-\\sqrt{2}\\right)\\left(2+\\sqrt{2}\\right)} = \\frac{16\\left(2\\sqrt{2}+2\\right)}{2} = 16 \\left(1+\\sqrt{2}\\right)$\n",
    "\n",
    "\n",
    "\n",
    "\n",
    "\n",
    "\n",
    "</span>"
   ]
  },
  {
   "cell_type": "code",
   "execution_count": null,
   "metadata": {},
   "outputs": [],
   "source": [
    "from math import sqrt # import de la fonction sqrt\n",
    "\n",
    "# Effectuer ici une saisie pour une valeur approchée de la limite\n",
    "16*(1+sqrt(2))"
   ]
  },
  {
   "cell_type": "markdown",
   "metadata": {},
   "source": [
    "![Jean_Robert_Argand](img/Jean_Robert_Argand.jpg)\n",
    "\n",
    "<center> <a href=\"https://fr.wikipedia.org/wiki/Jean-Robert_Argand\">Jean Robert Argand</a> (1768-1822) a présenté en 1806 une méthode de représentation géométrique des nombres complexes dans le plan.</center>"
   ]
  },
  {
   "cell_type": "markdown",
   "metadata": {},
   "source": [
    "*(C) Copyright Franck CHEVRIER 2019-2021 http://www.python-lycee.com/*\n"
   ]
  }
 ],
 "metadata": {
  "celltoolbar": "Raw Cell Format",
  "kernelspec": {
   "display_name": "Python 3",
   "language": "python",
   "name": "python3"
  },
  "language_info": {
   "codemirror_mode": {
    "name": "ipython",
    "version": 3
   },
   "file_extension": ".py",
   "mimetype": "text/x-python",
   "name": "python",
   "nbconvert_exporter": "python",
   "pygments_lexer": "ipython3",
   "version": "3.7.10"
  }
 },
 "nbformat": 4,
 "nbformat_minor": 2
}
