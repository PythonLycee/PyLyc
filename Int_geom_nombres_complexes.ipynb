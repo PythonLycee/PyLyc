{
 "cells": [
  {
   "cell_type": "markdown",
   "metadata": {},
   "source": [
    "![En tête general](img/En_tete_general.png)\n",
    "\n",
    "\n",
    "*(C) Copyright Franck CHEVRIER 2019-2020 http://www.python-lycee.com/*\n",
    "\n",
    "<span style=\"color: #9317B4\"> Pour exécuter une saisie Python, sélectionner la cellule et valider avec </span><span style=\"color: #B317B4\"><strong>SHIFT+Entrée</strong></span>."
   ]
  },
  {
   "cell_type": "markdown",
   "metadata": {},
   "source": [
    "# Interprétation géométrique de nombres complexes"
   ]
  },
  {
   "cell_type": "markdown",
   "metadata": {},
   "source": [
    "Activité en Terminale Math Expertes"
   ]
  },
  {
   "cell_type": "markdown",
   "metadata": {},
   "source": [
    "## I. Introduction"
   ]
  },
  {
   "cell_type": "markdown",
   "metadata": {},
   "source": [
    "Dans le plan complexe muni du repère orthonormé $\\left( O \\;; \\overrightarrow{u} ; \\overrightarrow{v} \\right)$, on considère trois points distincts $A$ ; $B$ et $C$ d'affixes respectives $z_A$ ; $z_B$ et $z_C$.\n"
   ]
  },
  {
   "cell_type": "markdown",
   "metadata": {},
   "source": [
    "__1. En utilisant le point $M$ défini par $\\overrightarrow{OM}=\\overrightarrow{AB}$, démontrer le résultat suivant :__\n",
    "\n",
    "<BLOCKQUOTE style='background-color:#F7E9DD;'>\n",
    "    <b style='color:#ED9246;'>À RETENIR</b><br>\n",
    "    Interprétation géométrique de $z_B-z_A$ :\n",
    "<ul>\n",
    "    <li>$\\left| z_B-z_A \\right| = AB$</li>\n",
    "    <li>$ arg \\left( z_B-z_A \\right) = \\left( \\overrightarrow{u} \\;;\\overrightarrow{AB} \\right) \\;[2\\pi]$</li>\n",
    "</ul>\n",
    "</BLOCKQUOTE>  "
   ]
  },
  {
   "cell_type": "code",
   "execution_count": null,
   "metadata": {},
   "outputs": [],
   "source": [
    "# Sélectionner cette zone puis SHIFT+ENTREE pour obtenir une figure dynamique ()\n",
    "from IPython.display import display, HTML ; display(HTML('intgeomcomplexe1.html'))"
   ]
  },
  {
   "cell_type": "markdown",
   "metadata": {},
   "source": [
    "__2. A l’aide de ces points, inscrire $4$ rectangles sous la courbe de $f$, de largeur $\\frac{1}{4}$ et de longueur maximale.__\n"
   ]
  },
  {
   "cell_type": "markdown",
   "metadata": {},
   "source": [
    "__3. Ecrire une fonction Python $f$ qui prend $x$ en argument et renvoie l’image de $x$ par $f$.__\n",
    "\n",
    "<span style=\"color: #888888\">*Important : Ne pas utiliser la fonction exp. Utiliser les notations de puissances à partir de la constante e, obtenue avec from math import e.</span> \n"
   ]
  },
  {
   "cell_type": "code",
   "execution_count": 5,
   "metadata": {},
   "outputs": [],
   "source": [
    "from math import e\n",
    "\n",
    "def f(x):\n",
    "    return e**(-x**2)"
   ]
  },
  {
   "cell_type": "code",
   "execution_count": 6,
   "metadata": {},
   "outputs": [
    {
     "data": {
      "text/plain": [
       "0.36787944117144233"
      ]
     },
     "execution_count": 6,
     "metadata": {},
     "output_type": "execute_result"
    }
   ],
   "source": [
    "# Tester la fonction\n",
    "f(1)"
   ]
  },
  {
   "cell_type": "markdown",
   "metadata": {},
   "source": [
    "__Ecrire une fonction Python Aire_rect qui reçoit en argument la largeur $l$ et la longueur $L$ d’un rectangle et renvoie son aire.__\n"
   ]
  },
  {
   "cell_type": "code",
   "execution_count": 8,
   "metadata": {},
   "outputs": [],
   "source": [
    "def Aire_rect(l,L):\n",
    "    return l*L"
   ]
  },
  {
   "cell_type": "code",
   "execution_count": 9,
   "metadata": {},
   "outputs": [
    {
     "data": {
      "text/plain": [
       "15"
      ]
     },
     "execution_count": 9,
     "metadata": {},
     "output_type": "execute_result"
    }
   ],
   "source": [
    "Aire_rect(3,5)"
   ]
  },
  {
   "cell_type": "markdown",
   "metadata": {},
   "source": [
    "__A l’aide de ces fonctions, calculer la somme des aires des $4$ rectangles précédents, et en déduire un minorant de $K$.__"
   ]
  },
  {
   "cell_type": "code",
   "execution_count": 11,
   "metadata": {},
   "outputs": [
    {
     "data": {
      "text/plain": [
       "0.6639690279468116"
      ]
     },
     "execution_count": 11,
     "metadata": {},
     "output_type": "execute_result"
    }
   ],
   "source": [
    "Aire_rect(1/4,f(1/4))+Aire_rect(1/4,f(2/4))+Aire_rect(1/4,f(3/4))+Aire_rect(1/4,f(4/4))\n"
   ]
  },
  {
   "cell_type": "markdown",
   "metadata": {},
   "source": [
    "### II. Automatisation de la construction et du calcul "
   ]
  },
  {
   "cell_type": "markdown",
   "metadata": {},
   "source": [
    "__1. La fonction ci-dessous trace la courbe représentative de $f$ sur l’intervalle [0;1] et construit les 4 rectangles sous la courbe de $f$. \n",
    "Tester cette fonction.__"
   ]
  },
  {
   "cell_type": "code",
   "execution_count": 17,
   "metadata": {},
   "outputs": [],
   "source": [
    "import matplotlib.pyplot as plt\n",
    "import matplotlib.patches as ptc\n",
    "import numpy as np\n",
    "\n",
    "def Methode_rectangle(n):\n",
    "    \n",
    "    # tracé de la courbe de f\n",
    "    prec=0.05\n",
    "    abs_fonc = np.arange(0,1+prec,prec)\n",
    "    ord_fonc = f(abs_fonc)\n",
    "    plt.plot(abs_fonc,ord_fonc,color='green')\n",
    "    \n",
    "    ax = plt.gca()\n",
    "    \n",
    "    #initialisation du compteur\n",
    "    Aire_inf=0\n",
    "    \n",
    "    # tracé des rectangles et calcul de l'aire\n",
    "    l=1/n\n",
    "    for k in range(n):\n",
    "        x=k*1/n\n",
    "        L=f(x+1/n)\n",
    "        #Rectangle défini par le point en bas à gauche,\n",
    "        #sa largeur l et sa longueur L\n",
    "        rect=ptc.Rectangle( (x,0) , l, L, fill=False)\n",
    "        ax.add_patch(rect)  \n",
    "        \n",
    "        #incrément du compteur\n",
    "        Aire_inf = Aire_inf + Aire_rect(l,L)\n",
    "\n",
    "    # affichage de l'aire sous la figure\n",
    "    plt.text(0,-0.1,'Aire='+str(Aire_inf)) \n",
    "    # reglage des bornes des axes du repere\n",
    "    plt.axis([0,1,0,1]) \n",
    "    # affichage    \n",
    "    plt.show() \n",
    "\n",
    "    # (Ces fonctionnalités sont désactivées dans la version Notebook)\n",
    "    # attente d'une action de clic sur la fenetre puis fermeture\n",
    "    # plt.waitforbuttonpress() \n",
    "    # plt.close()\n",
    "\n",
    "    return Aire_inf\n"
   ]
  },
  {
   "cell_type": "markdown",
   "metadata": {},
   "source": [
    "__2. Prévoir les valeurs successives prises par les variables x, l et L dans la boucle en complétant ce tableau :__\n",
    "\n",
    "\n",
    "|   $k$      |   0 |   1  |   2  |   3  |\n",
    "| :-------:  |:--: | :--: | :--: | :--: |\n",
    "|   $x$      |     |      |      |      |\n",
    "|   $l$      |     |      |      |      |\n",
    "|   $L$      |     |      |      |      |\n"
   ]
  },
  {
   "cell_type": "markdown",
   "metadata": {},
   "source": [
    "__Compléter la fonction précédente pour qu’elle renvoie Aire_inf qui est la somme des aires de ces rectangles.__\n",
    "\n",
    "\n",
    "<span style=\"color: #888888\">*Aides :*</span>\n",
    "<span style=\"color: #888888\">*On pourra ajouter un compteur qui s’incrémente à chaque étape de la boucle, en utilisant la fonction Aire_rect précédemment écrite.*</span> \n",
    "<span style=\"color: #888888\">*On pourra éventuellement utiliser l’instruction* plt.text(0,-0.1,’Aire=’+str(Aire_inf)) *pour afficher cette aire sur le graphique.*</span> \n",
    "\n",
    "__Tester et vérifier qu’on retrouve le résultat de la question I.3.__"
   ]
  },
  {
   "cell_type": "code",
   "execution_count": 16,
   "metadata": {},
   "outputs": [
    {
     "data": {
      "image/png": "[encoded data removed]",
      "text/plain": [
       "<matplotlib.figure.Figure at 0x1f23f8b1cf8>"
      ]
     },
     "metadata": {},
     "output_type": "display_data"
    },
    {
     "data": {
      "text/plain": [
       "0.6639690279468116"
      ]
     },
     "execution_count": 16,
     "metadata": {},
     "output_type": "execute_result"
    }
   ],
   "source": [
    "Methode_rectangle(4)"
   ]
  },
  {
   "cell_type": "markdown",
   "metadata": {},
   "source": [
    "__3. Modifier la fonction pour qu’elle reçoive en argument le nombre $n$ de rectangles souhaités, et adapter l’affichage et le calcul. Tester pour $n=10$ puis pour $n=100$.__\n"
   ]
  },
  {
   "cell_type": "code",
   "execution_count": 18,
   "metadata": {},
   "outputs": [
    {
     "data": {
      "image/png": "[encoded data removed]",
      "text/plain": [
       "<matplotlib.figure.Figure at 0x1f240635080>"
      ]
     },
     "metadata": {},
     "output_type": "display_data"
    },
    {
     "data": {
      "image/png": "[encoded data removed]",
      "text/plain": [
       "<matplotlib.figure.Figure at 0x1f2405b6518>"
      ]
     },
     "metadata": {},
     "output_type": "display_data"
    },
    {
     "data": {
      "text/plain": [
       "0.7436573986738273"
      ]
     },
     "execution_count": 18,
     "metadata": {},
     "output_type": "execute_result"
    }
   ],
   "source": [
    "Methode_rectangle(10)\n",
    "Methode_rectangle(100)"
   ]
  },
  {
   "cell_type": "markdown",
   "metadata": {},
   "source": [
    "### III. Recherche de la précision de la méthode"
   ]
  },
  {
   "cell_type": "markdown",
   "metadata": {},
   "source": [
    "__1. On se place dans le cas général où on trace $n$ rectangles de même largeur sous la courbe de $f$ sur l’intervalle $[0;1]$, et on note $s_n$ la somme de leurs aires.__\n",
    "\n",
    "![Figure Rectangle sous courbe](img/Methode_rectangles_inf.png)\n",
    "\n",
    "__Justifier que\n",
    "$ s_n=\\frac{1}{n} \\left ( f(\\frac{1}{n})+f(\\frac{2}{n})+f(\\frac{3}{n})+⋯+f(\\frac{n}{n}) \\right ) =\\frac{1}{n} \\sum_{k=0}^{n-1} \\ f \\left ( \\frac{k+1}{n} \\right ) \\ $__\n",
    "\n"
   ]
  },
  {
   "cell_type": "markdown",
   "metadata": {},
   "source": [
    "__2. On considère de la même façon $S_n$ la somme des aires de $n$ rectangles de même largeur construits au-dessus de la courbe de $f$ sur l’intervalle $[0;1]$.__\n",
    "\n",
    "![Figure Rectangle au dessus de courbe](img/Methode_rectangles_sup.png)\n",
    "\n",
    "__Donner une expression de $S_n$ similaire à celle de $s_n$.__\n",
    "\n"
   ]
  },
  {
   "cell_type": "markdown",
   "metadata": {},
   "source": [
    "__3. Exprimer $S_n-s_n$ en fonction de $n$.__\n",
    "\n",
    "__En admettant que $s_n \\leqslant \\int_{0}^{1} \\ e^{-x²} dx \\  \\leqslant S_n $, en déduire que :\n",
    "$ 0 \\leqslant ∫_0^1 \\ e^{-x^2} dx \\ -s_n \\leqslant 1/n $ .__\n",
    "\n",
    "__Quelle valeur de $n$ faut-il choisir pour que $s_n$ soit une valeur approchée de $K$ à $10^{-4}$ près ?__\n",
    "\n",
    "__Donner une valeur approchée à $10^{-4}$ près de cette intégrale $K$ à l’aide de votre programme.__\n",
    "\n",
    "\n"
   ]
  },
  {
   "cell_type": "code",
   "execution_count": 19,
   "metadata": {},
   "outputs": [
    {
     "data": {
      "image/png": "[encoded data removed]",
      "text/plain": [
       "<matplotlib.figure.Figure at 0x1f240b2c6a0>"
      ]
     },
     "metadata": {},
     "output_type": "display_data"
    },
    {
     "data": {
      "text/plain": [
       "0.7467925261713526"
      ]
     },
     "execution_count": 19,
     "metadata": {},
     "output_type": "execute_result"
    }
   ],
   "source": [
    "Methode_rectangle(10000)\n"
   ]
  },
  {
   "cell_type": "markdown",
   "metadata": {},
   "source": [
    "Georg Friedrich Bernhardt Riemann (1826-1866) est à l’origine de cette méthode d’approximation d’intégrales à l’aide de rectangles\n",
    "\n",
    "![Riemann](img/Methode_rectangles_Riemann.png)"
   ]
  },
  {
   "cell_type": "markdown",
   "metadata": {},
   "source": [
    "*(C) Copyright Franck CHEVRIER 2019-2020 http://www.python-lycee.com/*\n"
   ]
  },
  {
   "cell_type": "code",
   "execution_count": null,
   "metadata": {},
   "outputs": [],
   "source": []
  }
 ],
 "metadata": {
  "celltoolbar": "Raw Cell Format",
  "kernelspec": {
   "display_name": "Python 3",
   "language": "python",
   "name": "python3"
  },
  "language_info": {
   "codemirror_mode": {
    "name": "ipython",
    "version": 3
   },
   "file_extension": ".py",
   "mimetype": "text/x-python",
   "name": "python",
   "nbconvert_exporter": "python",
   "pygments_lexer": "ipython3",
   "version": "3.6.4"
  }
 },
 "nbformat": 4,
 "nbformat_minor": 2
}
