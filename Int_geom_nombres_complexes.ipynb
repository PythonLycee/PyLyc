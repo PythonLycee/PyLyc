{
 "cells": [
  {
   "cell_type": "markdown",
   "metadata": {},
   "source": [
    "![En tête general](img/En_tete_general.png)\n",
    "\n",
    "\n",
    "*(C) Copyright Franck CHEVRIER 2019-2021 http://www.python-lycee.com/*\n",
    "\n",
    "<span style=\"color: #9317B4\"> Pour exécuter une saisie Python, sélectionner la cellule et valider avec </span><span style=\"color: #B317B4\"><strong>SHIFT+Entrée</strong></span>."
   ]
  },
  {
   "cell_type": "markdown",
   "metadata": {},
   "source": [
    "# Interprétation géométrique de nombres complexes"
   ]
  },
  {
   "cell_type": "markdown",
   "metadata": {},
   "source": [
    "<b>Activité en Terminale Math Expertes</b>"
   ]
  },
  {
   "cell_type": "markdown",
   "metadata": {},
   "source": [
    "## I. Interprétations géométriques de $z_B-z_A$ et $\\displaystyle \\frac{z_C-z_A}{z_B-z_A}$"
   ]
  },
  {
   "cell_type": "markdown",
   "metadata": {},
   "source": [
    "Dans le plan complexe muni du repère orthonormé $\\left( O \\;; \\overrightarrow{u} ; \\overrightarrow{v} \\right)$, on considère trois points distincts $A$ ; $B$ et $C$ d'affixes respectives $z_A$ ; $z_B$ et $z_C$.\n"
   ]
  },
  {
   "cell_type": "markdown",
   "metadata": {},
   "source": [
    "__1. En utilisant le point $M$ défini par $\\overrightarrow{OM}=\\overrightarrow{AB}$, démontrer le résultat suivant :__\n",
    "\n",
    "<BLOCKQUOTE style='background-color:#F7E9DD;'>\n",
    "    <b style='color:#ED9246;'>À RETENIR</b><br>\n",
    "    Interprétation géométrique de $z_B-z_A$ :\n",
    "<ul>\n",
    "    <li>$\\left| z_B-z_A \\right| = AB$</li>\n",
    "    <li>$ arg \\left( z_B-z_A \\right) = \\left( \\overrightarrow{u} \\;;\\overrightarrow{AB} \\right) \\;[2\\pi]$</li>\n",
    "</ul>\n",
    "</BLOCKQUOTE>  "
   ]
  },
  {
   "cell_type": "code",
   "execution_count": null,
   "metadata": {},
   "outputs": [],
   "source": [
    "# Sélectionner cette zone puis SHIFT+ENTREE pour obtenir la figure dynamique\n",
    "from IPython.display import display, HTML ; display(HTML('fig_dyn_GeoGebra/intgeomcomplexe1.html'))"
   ]
  },
  {
   "cell_type": "markdown",
   "metadata": {},
   "source": [
    "__2. À l'aide de la propriété précédente, démontrer que :__\n",
    "\n",
    "<BLOCKQUOTE style='background-color:#F7E9DD;'>\n",
    "    <b style='color:#ED9246;'>À RETENIR</b><br>\n",
    "    Interprétation géométrique de $\\displaystyle \\frac{z_C-z_A}{z_B-z_A}$ :\n",
    "<ul>\n",
    "    <li>$ \\displaystyle \\left| \\frac{z_C-z_A}{z_B-z_A} \\right| = \\frac{AC}{AB}$</li>\n",
    "    <li>$ \\displaystyle arg \\left( \\frac{z_C-z_A}{z_B-z_A} \\right) = \\left( \\overrightarrow{AB} \\;;\\overrightarrow{AC} \\right) \\;[2\\pi]$</li>\n",
    "</ul>\n",
    "</BLOCKQUOTE> "
   ]
  },
  {
   "cell_type": "code",
   "execution_count": null,
   "metadata": {},
   "outputs": [],
   "source": [
    "# Sélectionner cette zone puis SHIFT+ENTREE pour obtenir la figure dynamique\n",
    "from IPython.display import display, HTML ; display(HTML('fig_dyn_GeoGebra/intgeomcomplexe2.html'))"
   ]
  },
  {
   "cell_type": "markdown",
   "metadata": {},
   "source": [
    "## II. Applications directes\n",
    "\n",
    "On pourra réaliser les figures avec <a href=\"https://www.geogebra.org/classic\">Geogebra</a>."
   ]
  },
  {
   "cell_type": "markdown",
   "metadata": {},
   "source": [
    "<b><u>Exercice 1 :</u></b><br>\n",
    "On considère les points $A$ ; $B$ et $C$  d’affixes respectives $z_A=1+i$ ; $z_B=2+3i$ et $z_C=-1+2i$.\n",
    "<ol>\n",
    "    <li>Réaliser une figure. Quelle semble être la nature du triangle ABC ?</li>\n",
    "    <li>Calculer $m=\\displaystyle \\frac{z_C-z_A}{z_B-z_A}$.</li>\n",
    "    <li>En interprétant géométriquement le module et un argument de $m$, en déduire la nature du triangle ABC.</li>\n",
    "</ol>"
   ]
  },
  {
   "cell_type": "markdown",
   "metadata": {},
   "source": [
    "<b><u>Exercice 2 :</u></b><br>\n",
    "De la même manière que dans l’exercice 1, déterminer par le calcul la nature des triangles suivants :\n",
    "<ul>\n",
    "    <li>$DEF$ tel que  $z_D=-2+i$  ;  $z_E=-1+4i$  et  $z_F=4-i$.</li>\n",
    "    <li>$IJK$ tel que $\\displaystyle z_I=2e^{i\\frac{\\pi}{6}}$  ;  $ z_J=4i$  et  $\\displaystyle z_K=2e^{i\\frac{5\\pi}{6}}$.</li>\n",
    "</ul>"
   ]
  },
  {
   "cell_type": "markdown",
   "metadata": {},
   "source": [
    "<b><u>Exercice 3 :</u></b><br>\n",
    "On considère le nombre complexe $\\displaystyle j=e^{i\\frac{2\\pi}{3}}$.<br>\n",
    "Démontrer que le triangle ABC dont les sommets ont pour affixes respectives $1$ ;  $j$  et  $j^2$ est équilatéral.\n"
   ]
  },
  {
   "cell_type": "markdown",
   "metadata": {},
   "source": [
    "<b><u>Exercice 4 :</u></b><br>\n",
    "On considère les points $D(3)$ et $E(2i)$.\n",
    "<ol>\n",
    "    <li>Déterminer le point $F(z_F)$ tel que $\\displaystyle \\frac{z_F-z_D}{z_F-z_E}=e^{i\\frac{\\pi}{3}}$. Quelle est la nature du triangle $DEF$ dans ce cas ?</li>\n",
    "    <li>Existe-t-il une autre position du point $F$ pour laquelle le triangle $DEF$ ait la même nature ? Si oui, calculer son affixe $z_F$.</li>\n",
    "</ol>"
   ]
  },
  {
   "cell_type": "markdown",
   "metadata": {},
   "source": [
    "<b><u>Exercice 5 :</u></b><br>\n",
    "On considère les points $S(1+i)$ et $T(-2+2i)$.\n",
    "<ol>\n",
    "    <li>Déterminer le point $R(z_R)$ tel que $\\displaystyle \\frac{z_T-z_R}{z_S-z_R}=e^{i\\frac{\\pi}{2}}$. Quelle est la nature du triangle $RST$ dans ce cas ?</li>\n",
    "    <li>Existe-t-il une autre position du point $R$ pour laquelle le triangle $RST$ ait la même nature ? Si oui, calculer son affixe $z_R$.</li>\n",
    "</ol>"
   ]
  },
  {
   "cell_type": "markdown",
   "metadata": {},
   "source": [
    "## III. Études de configurations du plan\n",
    "\n",
    "Dans cette partie, on dira qu'un triangle $ABC$ est :\n",
    "<ul>\n",
    "    <li><b>direct</b> si l'angle $\\left( A \\;; \\overrightarrow{AB} ; \\overrightarrow{AC} \\right)$ a un argument dans l'intervalle $]0;\\pi[$, modulo $2\\pi$.</li>\n",
    "    <li><b>indirect</b> si l'angle $\\left( A \\;; \\overrightarrow{AB} ; \\overrightarrow{AC} \\right)$ a un argument dans l'intervalle $]-\\pi;0[$, modulo $2\\pi$.</li>\n",
    "</ul>\n",
    "(on différenciera donc les triangles $ABC$ et $ACB$, qui sont l'un direct et l'autre indirect)\n"
   ]
  },
  {
   "cell_type": "code",
   "execution_count": null,
   "metadata": {},
   "outputs": [],
   "source": [
    "# Sélectionner cette zone puis SHIFT+ENTREE pour obtenir la figure dynamique\n",
    "from IPython.display import display, HTML ; display(HTML('fig_dyn_GeoGebra/directindirect.html'))"
   ]
  },
  {
   "cell_type": "markdown",
   "metadata": {},
   "source": [
    "On admettra également la généralisation des résultats vus précédemment, pour 4 points $A$ ; $B$ ; $C$ et $D$ d'affixes respectives $z_A$ ; $z_B$ ; $z_C$ et $z_D$.\n",
    "\n",
    "<BLOCKQUOTE style='background-color:#F7E9DD;'>\n",
    "    Interprétation géométrique de $\\displaystyle \\frac{z_D-z_C}{z_B-z_A}$ :\n",
    "<ul>\n",
    "    <li>$ \\displaystyle \\left| \\frac{z_D-z_C}{z_B-z_A} \\right| = \\frac{CD}{AB}$</li>\n",
    "    <li>$ \\displaystyle arg \\left( \\frac{z_D-z_C}{z_B-z_A} \\right) = \\left( \\overrightarrow{AB} \\;;\\overrightarrow{CD} \\right) \\;[2\\pi]$</li>\n",
    "</ul>\n",
    "</BLOCKQUOTE> \n",
    "<br>\n",
    "<br>"
   ]
  },
  {
   "cell_type": "markdown",
   "metadata": {},
   "source": [
    "<b><u>Étude 1 :</u></b><br>\n",
    "Dans le plan complexe $\\left( O \\;; \\overrightarrow{u} ; \\overrightarrow{v} \\right)$, on considère deux triangles rectangles directs $OAB$ et $OCD$.<br>\n",
    "On note $M$ le milieu de $[BC]$."
   ]
  },
  {
   "cell_type": "code",
   "execution_count": null,
   "metadata": {},
   "outputs": [],
   "source": [
    "# Sélectionner cette zone puis SHIFT+ENTREE pour obtenir la figure dynamique\n",
    "from IPython.display import display, HTML ; display(HTML('fig_dyn_GeoGebra/config1.html'))"
   ]
  },
  {
   "cell_type": "markdown",
   "metadata": {},
   "source": [
    "<ol>\n",
    "    <li>Quelle conjecture peut-on émettre concernant les droites $(BC)$ et $(AD)$ ?\n",
    "    <li>En considérant le triangle $OAB$, justifier que $z_B=iz_A$.<br>\n",
    "    Exprimer de même $z_c$ en fonction de $z_D$.\n",
    "    </li>\n",
    "    <li>Démontrer que $\\displaystyle \\frac{z_M}{z_D-z_A}=\\frac{1}{2}i$.</li>\n",
    "    <li>Que peut-on conclure concernant les droites $(BC)$ et $(AD)$ ? et concernant les longueurs des segments $[BC]$ et $[AD]$ ?</li>\n",
    "</ol>\n",
    "<br><br>"
   ]
  },
  {
   "cell_type": "markdown",
   "metadata": {},
   "source": [
    "<b><u>Étude 2 :</u></b><br>\n",
    "Dans le plan complexe $\\left( O \\;; \\overrightarrow{u} ; \\overrightarrow{v} \\right)$:\n",
    "<ul>\n",
    "    <li>$OAK$ est un triangle équilatéral direct;</li>\n",
    "    <li>$OABC$ est un carré direct ($OAB$ est un triangle direct);</li>\n",
    "    <li>$ALB$ est un triangle équilatéral direct.</li>\n",
    "</ul>"
   ]
  },
  {
   "cell_type": "code",
   "execution_count": null,
   "metadata": {},
   "outputs": [],
   "source": [
    "# Sélectionner cette zone puis SHIFT+ENTREE pour obtenir la figure dynamique\n",
    "from IPython.display import display, HTML ; display(HTML('fig_dyn_GeoGebra/config2.html'))"
   ]
  },
  {
   "cell_type": "markdown",
   "metadata": {},
   "source": [
    "Que peut-on conjecturer concernant les points $C$ ; $K$ et $L$ ?<br>\n",
    "Démontrer ce résultat en déterminant la valeur de $\\displaystyle \\frac{z_L-z_C}{z_K-z_C}$.\n",
    "<br>\n",
    "<br>"
   ]
  },
  {
   "cell_type": "markdown",
   "metadata": {},
   "source": [
    "<b><u>Étude 3 :</u></b><br>\n",
    "On se place dans le plan complexe $\\left( O \\;; \\overrightarrow{u} ; \\overrightarrow{v} \\right)$ et on pose $j=e^{i\\frac{2\\pi}{3}}$.<br>\n",
    "Dans cette étude, l'affixe d'un point $M$ sera systématiquement désignée par la lettre minuscule $m$ correspondante.\n",
    "<br>\n",
    "\n",
    "<ol>\n",
    "    <li><b>Condition nécessaire et suffisante pour qu'un triangle soit équilatéral</b>\n",
    "        <ul>\n",
    "            <li>Démontrer que : \n",
    "                <ul>\n",
    "                    <li>$j^3=1$</li>\n",
    "                    <li>$j^2=\\overline{j}$</li>\n",
    "                    <li>$j^2=-1-j$</li>\n",
    "                    <li>$j+1=e^{i\\frac{\\pi}{3}}$</li>\n",
    "                </ul>\n",
    "            </li>\n",
    "            <li>On considère trois points $M$ ; $N$ et $P$.<br>\n",
    "                Démontrer que $MNP$ est équilatéral direct si et seulement si $m+nj+pj^2=0$.\n",
    "            </li>\n",
    "        </ul>    \n",
    "    </li>\n",
    "    <li><b>Application</b><br>\n",
    "    On considère un cercle de centre $O$ et 6 points $A$; $B$; $C$; $D$; $E$ et $F$ de ce cercle tels que $OAB$; $OCD$ et $OEF$ sont des triangles équilatéraux directs.<br>\n",
    "    $M$; $N$ et $P$ sont les milieux respectifs de $[BC]$ ; $[DE]$ et $[FA]$.\n",
    "    <ul>\n",
    "        <li>Quelle conjecture peut-on faire concernant le triangle $MNP$ ?</li>\n",
    "        <li>Exprimer:\n",
    "            <ul>\n",
    "                <li>$b$ en fonction de $a$</li>\n",
    "                <li>$d$ en fonction de $c$</li>\n",
    "                <li>$f$ en fonction de $e$</li>\n",
    "            </ul>\n",
    "        </li>\n",
    "        <li>Exprimer $m$ ; $n$ et $p$ en fonction de $a$ ; $c$ et $e$.</li>\n",
    "        <li>Conclure : Quelle est la nature du triangle $MNP$ ?</li>   \n",
    "    </ul>\n",
    "</ol>    \n",
    "    "
   ]
  },
  {
   "cell_type": "code",
   "execution_count": null,
   "metadata": {},
   "outputs": [],
   "source": [
    "# Sélectionner cette zone puis SHIFT+ENTREE pour obtenir la figure dynamique\n",
    "from IPython.display import display, HTML ; display(HTML('fig_dyn_GeoGebra/config3.html'))"
   ]
  },
  {
   "cell_type": "markdown",
   "metadata": {},
   "source": [
    "*(C) Copyright Franck CHEVRIER 2019-2021 http://www.python-lycee.com/*\n"
   ]
  }
 ],
 "metadata": {
  "celltoolbar": "Raw Cell Format",
  "kernelspec": {
   "display_name": "Python 3",
   "language": "python",
   "name": "python3"
  },
  "language_info": {
   "codemirror_mode": {
    "name": "ipython",
    "version": 3
   },
   "file_extension": ".py",
   "mimetype": "text/x-python",
   "name": "python",
   "nbconvert_exporter": "python",
   "pygments_lexer": "ipython3",
   "version": "3.6.4"
  }
 },
 "nbformat": 4,
 "nbformat_minor": 2
}
