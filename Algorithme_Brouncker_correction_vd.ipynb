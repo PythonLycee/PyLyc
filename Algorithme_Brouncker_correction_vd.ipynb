{
 "cells": [
  {
   "cell_type": "markdown",
   "metadata": {},
   "source": [
    "![En tête general](https://raw.githubusercontent.com/PythonLycee/PyLyc/master/img/En_tete_general.png)\n",
    "\n",
    "\n",
    "<i>© Copyright Franck CHEVRIER 2019-2021 https://www.python-lycee.com.</i><br>\n",
    "<i>Les activités partagées sur <a href=\"https://capytale2.ac-paris.fr/web/accueil\"><strong>Capytale</strong></a> sont sous licence <a href=\"https://creativecommons.org/licenses/by-sa/3.0/fr/\">Creative Commons</a>.</i>\n",
    "\n",
    "<span style=\"color: #9317B4\"> Pour exécuter une saisie Python, sélectionner la cellule et valider avec </span><span style=\"color: #B317B4\"><strong>SHIFT+Entrée</strong></span>.\n"
   ]
  },
  {
   "cell_type": "markdown",
   "metadata": {},
   "source": [
    "# <span style=\"color:#6C3483\">Algorithme de Brouncker pour le calcul de ln(2)</span> <span style=\"color:red\">(corrigé)</span>"
   ]
  },
  {
   "cell_type": "markdown",
   "metadata": {},
   "source": [
    "### <span style=\"color:#8E44AD\">Sommaire</span>\n",
    "\n",
    "\n",
    "<span style=\"color:#8E44AD\">1.</span> <a href=\"#1\">Construction géométrique</a><br>\n",
    "<span style=\"color:#8E44AD\">2.</span> <a href=\"#2\">Implémentation de l'algorithme de Brouncker</a><br>\n",
    "<span style=\"color:#8E44AD\">3.</span> <a href=\"#3\">Recherche de la précision de la méthode</a><br>\n"
   ]
  },
  {
   "cell_type": "markdown",
   "metadata": {},
   "source": [
    "<span style=\"color: #7C39C9\">*Le but de l'activité est d'obtenir une valeur approchée de $ln(2)$ à l'aide de l'<strong>algorithme de Brouncker</strong>, qui est basé sur une méthode géométrique.*</span>"
   ]
  },
  {
   "cell_type": "markdown",
   "metadata": {},
   "source": [
    "## <span style=\"color:#8E44AD\" id=\"1\">1. Construction géométrique</span>"
   ]
  },
  {
   "cell_type": "markdown",
   "metadata": {},
   "source": [
    "On considère la fonction $h$ définie sur $\\mathbb{R}^*  $ par $h(x)=\\frac{1}{x}$.\n",
    "<br><br>\n",
    "__1.1. Démontrer que $ln(2)$ est l'aire de la zone délimitée par l'axe des abscisses, la courbe de la fonction $h$ et les droites d'équations $x=1$ et $x=2$. On cherche donc à donner une estimation de cette aire.__\n",
    "<br><br>\n",
    "\n",
    "<span style=\"color:red\"><br>\n",
    "$\\int\\limits_1^2{h(x)dx}=\\int\\limits_1^2{\\frac{1}{x}dx}=[ln(x)]_1^2=ln(2)$<br><br> \n",
    "Ceci prouve que l'aire de la zone délimitée par l'axe des abscisses, la courbe de la fonction $h$ et les droites d'équations $x=1$ et $x=2$ vaut $ln(2)$.<br><br><br>\n",
    "</span>\n",
    "\n",
    "<em>La figure dynamique suivante permet de visualiser la construction géométrique mise en œuvre.</em>\n",
    "<br><br>\n",
    "<span style=\"color: #FF0000\">Pour faire apparaître et activer l'animation, sélectionner la cellule ci-dessous et valider avec <strong>SHIFT+Entrée</strong>.</span>\n",
    "\n",
    "\n",
    "<span style=\"color: #BDBFBF\">Vous pouvez ensuite utiliser les menus cinématiques :</span>\n",
    "\n",
    "\n",
    "![Menus_animation](https://raw.githubusercontent.com/PythonLycee/PyLyc/master/img/menus_animation_GeoGebra.png)\n",
    "\n"
   ]
  },
  {
   "cell_type": "code",
   "execution_count": null,
   "metadata": {},
   "outputs": [],
   "source": [
    "#Sélectionner cette zone puis SHIFT+ENTREE\n",
    "from IPython.display import HTML ; HTML(\"\"\"<iframe scrolling=\"no\" title=\"Brouncker\" src=\"https://www.geogebra.org/material/iframe/id/qk3xgkmr/width/806/height/586/border/888888/sfsb/true/smb/false/stb/false/stbh/false/ai/false/asb/false/sri/false/rc/false/ld/false/sdz/false/ctl/false\" width=\"806px\" height=\"586px\" style=\"border:0px;\"> </iframe>\"\"\")"
   ]
  },
  {
   "cell_type": "markdown",
   "metadata": {},
   "source": [
    "<br><br>\n",
    "On \"empile\" successivement des rectangles sous la courbe de $h$ de la façon suivante : \n",
    "<ul>\n",
    "    <li>Le premier rectangle est construit sur l'axe des abscisses, entre les abscisses $1$ et $2$, et de hauteur maximale sous la courbe de $h$ ;</li>\n",
    "    <li>À chaque étape, on introduit les milieux des abscisses utilisées à l'étape précédente, et on construit à partir de ces abscisses et des précédentes des rectangles situés au dessus des précédents, de hauteurs maximales sous la courbe de $h$.</li>\n",
    "</ul>\n",
    "<br>\n",
    "Au vu de la figure, on <strong>admettra</strong> que les sommes des aires des rectangles ainsi successivement construits ont pour limite l'aire de la zone que l'on cherche à calculer.\n",
    "\n",
    "Pour la suite, on utilisera les notations introduites sur les figures fournies.<br><br>\n",
    "\n",
    "__1.2. a. Calculer $Aire(R_1)$.__<br>\n",
    "__$\\quad\\;$ b. En raisonnant par soustraction, justifier que $Aire(R_2)=\\frac{1}{3}-\\frac{1}{4}$__<br>\n",
    "\n",
    "<span style=\"color:red\">\n",
    "a. $Aire(R_1)=1 \\times h(2) = \\frac{1}{2}$<br>\n",
    "b. $Aire(R_2)=\\frac{1}{2} \\times h(\\frac{3}{2}) - \\frac{1}{2} \\times h(2) = \\frac{1}{2} \\times \\frac{2}{3} - \\frac{1}{2} \\times \\frac{1}{2} = \\frac{1}{3} - \\frac{1}{4}$\n",
    "</span>\n"
   ]
  },
  {
   "cell_type": "markdown",
   "metadata": {},
   "source": [
    "![Brouncker_etape1](https://raw.githubusercontent.com/PythonLycee/PyLyc/master/img/Brouncker_img1.png)"
   ]
  },
  {
   "cell_type": "markdown",
   "metadata": {},
   "source": [
    "__1.3. En raisonnant par soustraction, justifier que $Aire(R_3)=\\frac{1}{5}-\\frac{1}{6}$ puis que $Aire(R_4)=\\frac{1}{7}-\\frac{1}{8}$.__<br>\n",
    "\n",
    "<span style=\"color:red\">\n",
    "$Aire(R_3)=\\frac{1}{4} \\times h(\\frac{5}{4}) - \\frac{1}{4} \\times h(\\frac{6}{4}) = \\frac{1}{4} \\times \\frac{4}{5} - \\frac{1}{4} \\times \\frac{4}{6} = \\frac{1}{5} - \\frac{1}{6}$<br>\n",
    "$Aire(R_4)=\\frac{1}{4} \\times h(\\frac{7}{4}) - \\frac{1}{4} \\times h(2) = \\frac{1}{4} \\times \\frac{4}{7} - \\frac{1}{4} \\times \\frac{1}{2} = \\frac{1}{7} - \\frac{1}{8}$\n",
    "</span>"
   ]
  },
  {
   "cell_type": "markdown",
   "metadata": {},
   "source": [
    "![Brouncker_etape2](https://raw.githubusercontent.com/PythonLycee/PyLyc/master/img/Brouncker_img2.png)"
   ]
  },
  {
   "cell_type": "markdown",
   "metadata": {},
   "source": [
    "__1.4 Donner les valeurs de $Aire(R_5)$, $Aire(R_6)$, $Aire(R_7)$ et $Aire(R_8)$.__<br><br>\n",
    "<span style=\"color:red\">\n",
    "$Aire(R_5)=\\frac{1}{9} - \\frac{1}{10}$<br>\n",
    "$Aire(R_6)=\\frac{1}{11} - \\frac{1}{12}$<br>\n",
    "$Aire(R_7)=\\frac{1}{13} - \\frac{1}{14}$<br>\n",
    "$Aire(R_8)=\\frac{1}{15} - \\frac{1}{16}$<br>\n",
    "</span>"
   ]
  },
  {
   "cell_type": "markdown",
   "metadata": {},
   "source": [
    "![Brouncker_etape3](https://raw.githubusercontent.com/PythonLycee/PyLyc/master/img/Brouncker_img3.png)"
   ]
  },
  {
   "cell_type": "markdown",
   "metadata": {},
   "source": [
    "## <span style=\"color:#8E44AD\" id=\"2\">2. Implémentation de l'algorithme de Brouncker</span>"
   ]
  },
  {
   "cell_type": "markdown",
   "metadata": {},
   "source": [
    "__2.1. Soit $k\\in\\mathbb{N}^*$. En réduisant au même dénominateur, exprimer $\\frac{1}{2k-1}-\\frac{1}{2k}$ sous forme d'une fraction.__\n",
    "<br>\n",
    "\n",
    "<span style=\"color:red\">\n",
    "$\\frac{1}{2k-1}-\\frac{1}{2k}=\\frac{2k}{(2k-1)\\times(2k)}-\\frac{2k-1}{(2k-1)\\times(2k)}=\\frac{1}{(2k-1)\\times(2k)}$\n",
    "</span><br>\n",
    "\n",
    "__2.2. Justifier que la somme des $8$ rectangles $R_k$ précédemment construits, pour $1\\leq k \\leq 8$, vaut $ \\sum\\limits_{k=1}^8{\\frac{1}{(2k-1)\\times(2k)}} =\\frac{1}{1\\times2}+\\frac{1}{3\\times4}+...+\\frac{1}{15\\times16}$.__\n",
    "<br>\n",
    "\n",
    "<span style=\"color:red\">\n",
    "On a démontré que pour $1\\leq k \\leq 8$, on a $Aire(R_k)=\\frac{1}{2k-1}-\\frac{1}{2k}$, ce qui s'écrit $Aire(R_k)=\\frac{1}{(2k-1)\\times(2k)}$ et la somme des aires de ces $8$ rectangles vaut bien $ \\sum\\limits_{k=1}^8{\\frac{1}{(2k-1)\\times(2k)}} =\\frac{1}{1\\times2}+\\frac{1}{3\\times4}+...+\\frac{1}{15\\times16}$.\n",
    "</span><br>\n",
    "\n",
    "\n",
    "\n",
    "\n",
    "__2.3. Écrire une fonction Python <mark>Brouncker</mark> qui permet de calculer cette somme.__\n",
    "<br>$\\quad\\;$On pourra incrémenter un accumulateur S dans une boucle pour additionner, l'une après l'autre, les aires de ces rectangles."
   ]
  },
  {
   "cell_type": "code",
   "execution_count": null,
   "metadata": {},
   "outputs": [],
   "source": [
    "# Écrire ici la fonction Brouncker qui renvoie la somme des 8 rectangles \n",
    "\n",
    "def Brouncker():\n",
    "    \"Méthode de Brouncker appliquée avec 8 rectangles pour le calcul de ln(2)\"\n",
    "    S=0\n",
    "    for k in range(1,9):\n",
    "        S = S+1/((2*k-1)*2*k)\n",
    "    return S\n",
    "\n",
    "# Écrire ici l'appel à la fonction Brouncker\n",
    "Brouncker()"
   ]
  },
  {
   "cell_type": "markdown",
   "metadata": {},
   "source": [
    "On admet maintenant que la somme $ \\sum\\limits_{k=1}^n{\\frac{1}{(2k-1)\\times(2k)}} =\\frac{1}{1\\times2}+\\frac{1}{3\\times4}+...+\\frac{1}{(2n-1)\\times(2n)}$ a pour limite $ln(2)$ quand $n$ tend vers $+\\infty$.\n",
    "\n",
    "\n",
    "\n",
    "__2.4. Adapter la fonction <mark>Brouncker</mark> précédente pour qu'elle reçoive $n$ en argument et permette de calculer cette somme.__"
   ]
  },
  {
   "cell_type": "code",
   "execution_count": null,
   "metadata": {},
   "outputs": [],
   "source": [
    "# Écrire ici la fonction Brouncker qui renvoie la somme des n rectangles \n",
    "\n",
    "def Brouncker(n):\n",
    "    \"Méthode de Brouncker appliquée avec n rectangles pour le calcul de ln(2)\"\n",
    "    S=0\n",
    "    for k in range(1,n+1):\n",
    "        S = S+1/((2*k-1)*2*k)\n",
    "    return S"
   ]
  },
  {
   "cell_type": "markdown",
   "metadata": {},
   "source": [
    "__2.5. Effectuer une saisie pour obtenir une valeur approchée de $ln(2)$ obtenue par la méthode de Brouncker avec 100 rectangles.__"
   ]
  },
  {
   "cell_type": "code",
   "execution_count": null,
   "metadata": {},
   "outputs": [],
   "source": [
    "# Écrire ici l'appel à la fonction Brouncker\n",
    "Brouncker(100)"
   ]
  },
  {
   "cell_type": "markdown",
   "metadata": {},
   "source": [
    "## <span style=\"color:#8E44AD\" id=\"3\">3. Recherche de la précision de la méthode</span>"
   ]
  },
  {
   "cell_type": "markdown",
   "metadata": {},
   "source": [
    "Dans la partie précédente, on a défini une suite $(u_n)_{n \\geq 1}$ définie par $ u_n=\\sum\\limits_{k=1}^n{\\frac{1}{(2k-1)\\times(2k)}} =\\frac{1}{1\\times2}+\\frac{1}{3\\times4}+...+\\frac{1}{(2n-1)\\times(2n)}$ en considérant une somme d'aires de rectangles construits sous la courbe de $h$\n",
    "<br><br>\n",
    "On <strong>admet</strong> dans cette partie qu'en considérant des rectangles construits au dessus de la courbe de $h$, on peut définir une suite $(v_n)_{n \\geq 1}$ définie par $ v_n=1-\\sum\\limits_{k=1}^n{\\frac{1}{(2k)\\times(2k+1)}} =1-\\frac{1}{2\\times3}-\\frac{1}{4\\times5}+...+\\frac{1}{(2n)\\times(2n+1)}$ qui vérifie $\\lim\\limits_{n \\to +\\infty}{v_n}=ln(2)$.\n",
    "<br><br>\n",
    "\n",
    "\n",
    "<em>La figure dynamique suivante permet de visualiser la construction géométrique mise en œuvre.</em>\n",
    "<br><br>\n",
    "<span style=\"color: #FF0000\">Pour faire apparaître et activer l'animation, sélectionner la cellule ci-dessous et valider avec <strong>SHIFT+Entrée</strong>.</span>\n",
    "\n",
    "<span style=\"color: #BDBFBF\">Vous pouvez ensuite utiliser les menus cinématiques :</span>\n",
    "\n",
    "![Menus_animation](https://raw.githubusercontent.com/PythonLycee/PyLyc/master/img/menus_animation_GeoGebra.png)"
   ]
  },
  {
   "cell_type": "code",
   "execution_count": null,
   "metadata": {},
   "outputs": [],
   "source": [
    "#Sélectionner cette zone puis SHIFT+ENTREE\n",
    "from IPython.display import HTML ; HTML(\"\"\"<iframe scrolling=\"no\" title=\"Brouncker2\" src=\"https://www.geogebra.org/material/iframe/id/d5kdhemy/width/736/height/579/border/888888/sfsb/true/smb/false/stb/false/stbh/false/ai/false/asb/false/sri/false/rc/false/ld/false/sdz/false/ctl/false\" width=\"736px\" height=\"579px\" style=\"border:0px;\"> </iframe>\"\"\")"
   ]
  },
  {
   "cell_type": "markdown",
   "metadata": {},
   "source": [
    "On admettra que :<br>\n",
    "<ul>\n",
    "    <li>$\\lim\\limits_{n \\to +\\infty}{u_n}=\\lim\\limits_{n \\to +\\infty}{v_n}=ln(2)$</li><br>\n",
    "    <li>Pour tout $n \\geq 1$, on a $u_n \\leq ln(2) \\leq v_n$</li>\n",
    "</ul>\n"
   ]
  },
  {
   "cell_type": "markdown",
   "metadata": {},
   "source": [
    "On fixe $m>0$.<br>\n",
    "Ainsi, si $n$ vérifie $v_n - u_n \\leq m$, alors $u_n$ et $v_n$ fournissent un encadrement de $ln(2)$ d'amplitude inférieure à $m$.<br>\n",
    "\n",
    "__3.1. Reprendre la fonction Python <mark>Brouncker</mark> écrite dans la partie 2 et modifier cette fonction de telle sorte que :__\n",
    "\n",
    "+ la fonction reçoit $m$ en argument\n",
    "+ dans la boucle on calcule à la fois $u_n$ et $v_n$\n",
    "+ la boucle s'interrompt dès que $v_n - u_n \\leq m$\n",
    "+ la fonction renvoie les valeurs $u_n$ et $v_n$ finales\n",
    "<br><br>\n",
    "Aide : On utilisera une boucle while, et on introduira une variable $T$ pour le calcul des termes de $v_n$."
   ]
  },
  {
   "cell_type": "code",
   "execution_count": null,
   "metadata": {},
   "outputs": [],
   "source": [
    "# Écrire ici la fonction Brouncker modifiée\n",
    "def Brouncker_2(m):\n",
    "    \"Fonction qui renvoie un encadrement de ln(2) d'amplitude inférieure à m\"\n",
    "    k=1\n",
    "    S=0\n",
    "    T=1\n",
    "    while T-S>m:\n",
    "        S = S+1/((2*k-1)*2*k)\n",
    "        T = T-1/((2*k)*(2*k+1))\n",
    "        k=k+1\n",
    "    return S,T \n"
   ]
  },
  {
   "cell_type": "markdown",
   "metadata": {},
   "source": [
    "__3.2. À l'aide de la fonction obtenue à la question précédente, obtenir un encadrement de $ln(2)$ d'amplitude inférieure à $10^{-6}$.__"
   ]
  },
  {
   "cell_type": "code",
   "execution_count": null,
   "metadata": {},
   "outputs": [],
   "source": [
    "# Effectuer ici l'appel à la fonction\n",
    "\n",
    "m=10**-6\n",
    "Brouncker_2(m)"
   ]
  },
  {
   "cell_type": "markdown",
   "metadata": {},
   "source": [
    "__3.3. La syntaxe <mark>from math import log</mark> permet d'utiliser la fonction Python <mark>log</mark> qui correspond à la fonction mathématique $ln$.__<br>\n",
    "__$\\quad\\;\\;$Effectuer la saisie nécessaire pour calculer $ln(2)$, et vérifier la cohérence de l'encadrement obtenu à la question précédente.__<br>"
   ]
  },
  {
   "cell_type": "code",
   "execution_count": null,
   "metadata": {},
   "outputs": [],
   "source": [
    "# Écrire ici les saisies nécessaires pour calculer le logarithme népérien de 2\n",
    "from math import log\n",
    "\n",
    "log(2)"
   ]
  },
  {
   "cell_type": "markdown",
   "metadata": {},
   "source": [
    "![Brouncker](https://raw.githubusercontent.com/PythonLycee/PyLyc/master/img/William_Brouncker.jpg)\n",
    "\n",
    "<center><a href=\"https://fr.wikipedia.org/wiki/William_Brouncker\">William Brouncker</a> (1620-1684) </center>"
   ]
  },
  {
   "cell_type": "markdown",
   "metadata": {},
   "source": [
    "<i>© Copyright Franck CHEVRIER 2019-2021 https://www.python-lycee.com.</i><br>\n",
    "<i>Les activités partagées sur <a href=\"https://capytale2.ac-paris.fr/web/accueil\"><strong>Capytale</strong></a> sont sous licence <a href=\"https://creativecommons.org/licenses/by-sa/3.0/fr/\">Creative Commons</a>.</i>"
   ]
  }
 ],
 "metadata": {
  "celltoolbar": "Raw Cell Format",
  "kernelspec": {
   "display_name": "Python 3",
   "language": "python",
   "name": "python3"
  },
  "language_info": {
   "codemirror_mode": {
    "name": "ipython",
    "version": 3
   },
   "file_extension": ".py",
   "mimetype": "text/x-python",
   "name": "python",
   "nbconvert_exporter": "python",
   "pygments_lexer": "ipython3",
   "version": "3.7.10"
  }
 },
 "nbformat": 4,
 "nbformat_minor": 2
}
