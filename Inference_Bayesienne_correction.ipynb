{
 "cells": [
  {
   "cell_type": "markdown",
   "metadata": {},
   "source": [
    "![En tête general](img/En_tete_general.png)\n",
    "\n",
    "\n",
    "*(C) Copyright Franck CHEVRIER 2019-2020 http://www.python-lycee.com/*\n",
    "\n",
    "<span style=\"color: #9317B4\"> Pour exécuter une saisie Python, sélectionner la cellule et valider avec </span><span style=\"color: #B317B4\"><strong>SHIFT+Entrée</strong></span>.\n"
   ]
  },
  {
   "cell_type": "markdown",
   "metadata": {},
   "source": [
    "# <span style=\"color:#6C3483\">Inférence bayésienne </span><span style=\"color:red\">(corrigé)</span>\n"
   ]
  },
  {
   "cell_type": "markdown",
   "metadata": {},
   "source": [
    "### <span style=\"color:#8E44AD\">Sommaire</span> \n",
    "\n",
    "# A ACTUALISER\n",
    "\n",
    "<span style=\"color:#8E44AD\">1.</span> <a href=\"#1\">De cause à effet...</a><br>\n",
    "<span style=\"color:#8E44AD\">2.</span> <a href=\"#2\">...et de l'effet à la cause.</a><br>\n"
   ]
  },
  {
   "cell_type": "markdown",
   "metadata": {},
   "source": [
    "## <span style=\"color:#8E44AD\" id=\"1\">1. De cause à effet...</span>"
   ]
  },
  {
   "cell_type": "markdown",
   "metadata": {},
   "source": [
    "On dispose de deux urnes, numérotées 1 et 2 :<br>\n",
    "<ul>\n",
    "    <li>L'urne n°1 contient 8 boules rouges et 5 boules blanches.</li>\n",
    "    <li>L'urne n°2 contient 5 boules rouges et 4 boules blanches.</li>\n",
    "</ul>\n",
    "L'expérience étudiée dans cette activité consiste à lancer une pièce de monnaie équilibrée.<br>\n",
    "Ensuite :\n",
    "<ul>\n",
    "    <li>Si on a obtenu \"Pile\", on tire au hasard de façon équiprobable une boule de l'urne n°1.</li>\n",
    "    <li>Si on a obtenu \"Face\", on tire au hasard de façon équiprobable une boule de l'urne n°2.</li>\n",
    "</ul>\n",
    "\n",
    "<i>Lorsqu'on souhaite répéter l'expérience, on remet la boule tirée précédemment dans l'urne avant chaque nouveau tirage.</i>"
   ]
  },
  {
   "cell_type": "markdown",
   "metadata": {},
   "source": [
    "__1.1. On fournit la fonction Python <mark>Piece</mark> ci-dessous, permettant de simuler le lancer d'une pièce de monnaie équilibrée.__<br>\n",
    "$\\quad\\;\\;$__Tester cette fonction et expliquer brièvement son fonctionnement.__<br>\n",
    "$\\quad\\;\\;$On conviendra que la fonction renvoie <mark>True</mark> si on obtient \"Pile\" et <mark>False</mark> sinon."
   ]
  },
  {
   "cell_type": "code",
   "execution_count": 1,
   "metadata": {},
   "outputs": [
    {
     "data": {
      "text/plain": [
       "True"
      ]
     },
     "execution_count": 1,
     "metadata": {},
     "output_type": "execute_result"
    }
   ],
   "source": [
    "# Exécuter cette cellule pour tester la fonction Piece\n",
    "\n",
    "from random import*\n",
    "\n",
    "def Piece():\n",
    "    \"fonction qui simule le lancer d'une pièce équilibrée\"\n",
    "    return random()<0.5\n",
    "\n",
    "Piece()"
   ]
  },
  {
   "cell_type": "markdown",
   "metadata": {},
   "source": [
    "__1.2. a. On tire une boule de l'urne n°1. Quelle est la probabilité qu'elle soit rouge ?__<br>\n",
    "$\\quad\\;\\;$__b. Écrire une fonction Python <mark>urne_1</mark> permettant de simuler le tirage aléatoire d'une boule de l'urne n°1.__<br>\n",
    "$\\quad\\quad\\;$__La fonction renverra <mark>True</mark> si la boule est rouge et <mark>False</mark> sinon.__"
   ]
  },
  {
   "cell_type": "code",
   "execution_count": 2,
   "metadata": {},
   "outputs": [],
   "source": [
    "# Écrire ici la fonction urne_1\n",
    "def urne_1():\n",
    "    \"fonction qui simule le tirage d'une boule dans l'urne n°1\"\n",
    "    return random()<0.3"
   ]
  },
  {
   "cell_type": "code",
   "execution_count": 3,
   "metadata": {},
   "outputs": [
    {
     "data": {
      "text/plain": [
       "False"
      ]
     },
     "execution_count": 3,
     "metadata": {},
     "output_type": "execute_result"
    }
   ],
   "source": [
    "# Exécuter cette cellule pour tester la fonction urne_1\n",
    "urne_1()"
   ]
  },
  {
   "cell_type": "markdown",
   "metadata": {},
   "source": [
    "$\\quad\\;\\;$__c. On tire une boule de l'urne n°2. Quelle est la probabilité qu'elle soit rouge?__<br>\n",
    "$\\quad\\;\\;$__d. Écrire une fonction Python <mark>urne_2</mark> permettant de simuler le tirage aléatoire d'une boule de l'urne n°2.__<br>\n",
    "$\\quad\\quad\\;\\;$On utilisera la même convention pour les couleurs que dans la fonction <mark>urne_1</mark>."
   ]
  },
  {
   "cell_type": "code",
   "execution_count": 4,
   "metadata": {},
   "outputs": [],
   "source": [
    "# Écrire ici la fonction urne_2\n",
    "def urne_2():\n",
    "    \"fonction qui simule le tirage d'une boule dans l'urne n°2\"\n",
    "    return random()<0.4"
   ]
  },
  {
   "cell_type": "code",
   "execution_count": 5,
   "metadata": {},
   "outputs": [
    {
     "data": {
      "text/plain": [
       "False"
      ]
     },
     "execution_count": 5,
     "metadata": {},
     "output_type": "execute_result"
    }
   ],
   "source": [
    "# Exécuter cette cellule pour tester la fonction urne_2\n",
    "urne_2()"
   ]
  },
  {
   "cell_type": "markdown",
   "metadata": {},
   "source": [
    "__1.3. Écrire une fonction Python <mark>Piece</mark> permettant de simuler le lancer d'une pièce de monnaie équilibrée.__<br>\n",
    "$\\quad\\;\\;$On conviendra que la fonction renvoie <mark>True</mark> si on obtient \"Pile\" et <mark>False</mark> sinon."
   ]
  },
  {
   "cell_type": "code",
   "execution_count": 6,
   "metadata": {},
   "outputs": [],
   "source": [
    "def Piece():\n",
    "    \"fonction qui simule le lancer d'une pièce équilibrée\"\n",
    "    return random()<0.5"
   ]
  },
  {
   "cell_type": "markdown",
   "metadata": {},
   "source": [
    "__1.4. a. Écrire une fonction Python <mark>experience</mark> qui simule le protocole de l'expérience :__<br>\n",
    "$\\quad\\quad\\;$__Lancer d'une pièce de monnaie puis tirage aléatoire d'une boule dans l'urne correspondante.__<br>\n",
    "$\\quad\\quad\\;$__La fonction renverra le booléen <mark>True</mark> ou <mark>False</mark> correspondant à la couleur de la boule obtenue.__<br>\n",
    "$\\quad\\quad\\;$On utilisera la même convention pour les couleurs que dans les fonctions <mark>urne_A</mark> et <mark>urne_B</mark>.<br>\n",
    "$\\quad\\;$__b. Tester cette fonction.__"
   ]
  },
  {
   "cell_type": "code",
   "execution_count": 7,
   "metadata": {},
   "outputs": [
    {
     "data": {
      "text/plain": [
       "'\\n#Autre version\\n\\ndef experience():\\n    return urne_A() if Piece() else urne_B()\\n'"
      ]
     },
     "execution_count": 7,
     "metadata": {},
     "output_type": "execute_result"
    }
   ],
   "source": [
    "# Écrire ici la fonction experience\n",
    "def experience():\n",
    "    \"fonction qui simule le protocole de l'expérience\"\n",
    "    if Piece():\n",
    "        return urne_1()\n",
    "    else:\n",
    "        return urne_2()\n",
    "    \n",
    "\"\"\"\n",
    "#Autre version\n",
    "\n",
    "def experience():\n",
    "    return urne_A() if Piece() else urne_B()\n",
    "\"\"\"\n"
   ]
  },
  {
   "cell_type": "code",
   "execution_count": 8,
   "metadata": {},
   "outputs": [
    {
     "data": {
      "text/plain": [
       "False"
      ]
     },
     "execution_count": 8,
     "metadata": {},
     "output_type": "execute_result"
    }
   ],
   "source": [
    "# Tester la fonction ici\n",
    "experience()"
   ]
  },
  {
   "cell_type": "markdown",
   "metadata": {},
   "source": [
    "__1.5. a. Écrire une fonction Python <mark>repetition</mark> qui simule successivement 100 fois l'expérience et renvoie le nombre de boules rouges obtenues.__<br>\n",
    "$\\quad\\;\\;$__b. Tester cette fonction.__"
   ]
  },
  {
   "cell_type": "code",
   "execution_count": 9,
   "metadata": {},
   "outputs": [],
   "source": [
    "# Écrire ici la fonction\n",
    "def repetition():\n",
    "    \"fonction qui compte les boules rouges lors de 1000 simulations de l'expérience\"\n",
    "    S=0\n",
    "    for k in range(100):\n",
    "        if experience(): S = S+1\n",
    "    return S\n",
    "    "
   ]
  },
  {
   "cell_type": "code",
   "execution_count": 10,
   "metadata": {},
   "outputs": [
    {
     "data": {
      "text/plain": [
       "39"
      ]
     },
     "execution_count": 10,
     "metadata": {},
     "output_type": "execute_result"
    }
   ],
   "source": [
    "# Tester la fonction ici\n",
    "repetition()"
   ]
  },
  {
   "cell_type": "markdown",
   "metadata": {},
   "source": [
    "__1.6. a. Adapter la fonction <mark>repetition</mark> pour qu'elle reçoive <mark>n</mark> en argument et renvoie la <u>fréquence</u> de boules rouges obtenues lors de $n$ expériences.__"
   ]
  },
  {
   "cell_type": "code",
   "execution_count": 11,
   "metadata": {},
   "outputs": [],
   "source": [
    "# Écrire ici la fonction modifiée\n",
    "def repetition(n):\n",
    "    \"fonction qui compte les boules rouges lors de n simulations de l'expérience\"\n",
    "    S=0\n",
    "    for k in range(n):\n",
    "        if experience(): S = S+1\n",
    "    return S/n\n"
   ]
  },
  {
   "cell_type": "markdown",
   "metadata": {},
   "source": [
    "$\\quad$__b. Tester cette fonction pour simuler $1000$ puis $10000$ fois l'expérience.__"
   ]
  },
  {
   "cell_type": "code",
   "execution_count": 12,
   "metadata": {},
   "outputs": [
    {
     "data": {
      "text/plain": [
       "0.327"
      ]
     },
     "execution_count": 12,
     "metadata": {},
     "output_type": "execute_result"
    }
   ],
   "source": [
    "# Tester la fonction ici\n",
    "repetition(1000)"
   ]
  },
  {
   "cell_type": "code",
   "execution_count": 13,
   "metadata": {},
   "outputs": [
    {
     "data": {
      "text/plain": [
       "0.3491"
      ]
     },
     "execution_count": 13,
     "metadata": {},
     "output_type": "execute_result"
    }
   ],
   "source": [
    "# Tester la fonction ici\n",
    "repetition(10000)"
   ]
  },
  {
   "cell_type": "markdown",
   "metadata": {},
   "source": [
    "__1.7. a. Réaliser un arbre de probabilités pour modéliser la situation étudiée.__<br>\n",
    "$\\quad\\;\\;$__b. Calculer la probabilité que la boule obtenue soit rouge. Comparer avec la fréquence obtenue en 6.b.__\n",
    "\n",
    "\n",
    "\n"
   ]
  },
  {
   "cell_type": "markdown",
   "metadata": {},
   "source": [
    "## <span style=\"color:#8E44AD\" id=\"2\">2. ... et de l'effet à la cause.</span>\n",
    "\n",
    "Dans cette partie, on va évaluer la probabilité d'une cause connaissant l'effet.<br>\n",
    "Ainsi, sachant qu'une boule rouge a été tirée, on souhaite évaluer la probabilité que cette boule ait été tirée de l'urne A, c'est à dire la probabilité qu'on ait obtenu \"Pile\" lors du lancer de la pièce de monnaie."
   ]
  },
  {
   "cell_type": "markdown",
   "metadata": {},
   "source": [
    "__2.1. Démontrer le théorème suivant :__<br><br>\n",
    "\n",
    "<BLOCKQUOTE style='background-color:#DFF2FF;'>\n",
    "    <strong>Théorème de Bayes:</strong><br><br>\n",
    "    Étant donné $A$ et $B$ deux événements de probabilités non nulles, on a :<br>\n",
    "    $$p_B(A)=\\displaystyle\\frac{p_A(B)p(A)}{p_A(B)p(A)+p_{\\bar{A}}(B)p(\\bar{A})}$$\n",
    "</BLOCKQUOTE>   "
   ]
  },
  {
   "cell_type": "markdown",
   "metadata": {},
   "source": [
    "__2.2. En déduire la probabilité que la boule ait été tirée de l'urne A sachant qu'elle est rouge.__\n"
   ]
  },
  {
   "cell_type": "markdown",
   "metadata": {},
   "source": [
    "__2.3 On souhaite maintenant vérifier expérimentalement les résultats précédents. La fonction Python <mark>Synthese</mark> donnée ci-dessous permet d'effectuer une répétition de l'expérience et renvoie un tableau consignant une synthèse des résultats obtenus.__<br><br>\n",
    "\n",
    "$\\quad$__a. Exécuter cette cellule.__<br>\n",
    "$\\quad\\;\\;\\;$Attention, l'exécution de cette cellule nécessite que les fonctions <mark>Piece</mark>, <mark>urne_A</mark> et <mark>urne_B</mark> aient été définies.<br>"
   ]
  },
  {
   "cell_type": "code",
   "execution_count": 37,
   "metadata": {},
   "outputs": [
    {
     "data": {
      "text/html": [
       "\n",
       "    <html>\n",
       "      <head>\n",
       "        <meta charset=\"UTF-8\">\n",
       "        <style>\n",
       "          td {\n",
       "                  color: red;\n",
       "                  font-size: 18px;\n",
       "                  background-color: #DD55DD;\n",
       "                  text-align: center;\n",
       "                 }       \n",
       "        </style>\n",
       "      </head>   \n",
       "    \n",
       "    <body>\n",
       "    <table>\n",
       "        <tr>    \n",
       "            <td>Lancers de pièces</td>\n",
       "            <td colspan=2><img src='Pile.jpg'/><img src='Face.jpg'/><img src='Pile.jpg'/><img src='Pile.jpg'/><img src='Pile.jpg'/><img src='Face.jpg'/><img src='Pile.jpg'/><img src='Face.jpg'/><img src='Face.jpg'/><img src='Pile.jpg'/></td>\n",
       "\n",
       "        </tr>\n",
       "        <tr>\n",
       "            <td></td>\n",
       "            <td>Urne n°1</td>\n",
       "            <td>Urne n°2</td>\n",
       "        </tr>\n",
       "    \n",
       "        <tr>\n",
       "            <td>Tirages des boules</td>\n",
       "            <td><img src='Boule_verte.jpg'><img src='Boule_rouge.jpg'><img src='Boule_rouge.jpg'><img src='Boule_rouge.jpg'><img src='Boule_rouge.jpg'><img src='Boule_rouge.jpg'></td>\n",
       "            <td><img src='Boule_rouge.jpg'><img src='Boule_verte.jpg'><img src='Boule_verte.jpg'><img src='Boule_rouge.jpg'></td>\n",
       "        </tr>\n",
       "    \n",
       "    </table>\n",
       "    "
      ],
      "text/plain": [
       "<IPython.core.display.HTML object>"
      ]
     },
     "metadata": {},
     "output_type": "display_data"
    }
   ],
   "source": [
    "import IPython ; from IPython.display import display, HTML \n",
    "IPython.display.clear_output()\n",
    "\n",
    "def Synthese(n=10):    \n",
    "    \n",
    "    f=[urne_2,urne_1]      # liste des fonctions de simulations de tirages dans les urnes\n",
    "    res=[]                 # stockage des résultats (True pour urne n°1, False pour urne n°2)\n",
    "    \n",
    "    for k in range(n):   \n",
    "        Choix=Piece()                          # lancer d'une pièce\n",
    "        res.append((Choix,(f[Choix]())))       # ajout du couple pièce/boule dans les résultats\n",
    "    \n",
    "    return res\n",
    "        \n",
    "    \n",
    "def Genere_html(res):\n",
    "    \n",
    "    #code html pour la pièce (Face et Pile)\n",
    "    Piece_img=\"<img src='Face.jpg'/>\",\"<img src='Pile.jpg'/>\"\n",
    "            \n",
    "    #code html pour les boules colorées (Rouges et vertes)\n",
    "    boule_coloree_img = \"<img src='Boule_rouge.jpg'>\",\"<img src='Boule_verte.jpg'>\"\n",
    "    \n",
    "    #génération des affichages:\n",
    "    pieces=\"\"\n",
    "    contenu_urne={True:\"\",False:\"\"}\n",
    "    for couple in res:\n",
    "        piece,couleur=couple\n",
    "        pieces+=Piece_img[piece]\n",
    "        contenu_urne[piece]+=boule_coloree_img[couleur]\n",
    "    \n",
    "    #en-tête du rendu html (avec balise de style)  \n",
    "    html=\"\"\"\n",
    "    <html>\n",
    "      <head>\n",
    "        <meta charset=\"UTF-8\">\n",
    "        <style>\n",
    "          td {\n",
    "                  color: red;\n",
    "                  font-size: 18px;\n",
    "                  background-color: #DD55DD;\n",
    "                  text-align: center;\n",
    "                 }       \n",
    "        </style>\n",
    "      </head>   \n",
    "    \"\"\"\n",
    "    \n",
    "    \n",
    "    \n",
    "    #corps du rendu html\n",
    "    html+=\"\"\"\n",
    "    <body>\n",
    "    <table>\n",
    "        <tr>    \n",
    "            <td>Lancers de pièces</td>\n",
    "            <td colspan=2>\"\"\"+pieces+\"\"\"</td>\n",
    "\n",
    "        </tr>\n",
    "        <tr>\n",
    "            <td></td>\n",
    "            <td>Urne n°1</td>\n",
    "            <td>Urne n°2</td>\n",
    "        </tr>\n",
    "    \n",
    "        <tr>\n",
    "            <td>Tirages des boules</td>\n",
    "            <td>\"\"\"+contenu_urne[True]+\"\"\"</td>\n",
    "            <td>\"\"\"+contenu_urne[False]+\"\"\"</td>\n",
    "        </tr>\n",
    "    \n",
    "    </table>\n",
    "    \"\"\"\n",
    "    return html\n",
    "    \n",
    "    \n",
    "    \n",
    "\n",
    "#IPython.display.clear_output()        # réinitialisation de l'affichage html\n",
    "#display(HTML(Genere_html(Synthese()))) # raffraichissement et affichage html\n",
    "display(HTML(Genere_html(Synthese())))"
   ]
  },
  {
   "cell_type": "code",
   "execution_count": null,
   "metadata": {},
   "outputs": [],
   "source": [
    "import IPython ; from IPython.display import display, HTML \n",
    "IPython.display.clear_output()\n",
    "from time import sleep\n",
    "\n",
    "'''\n",
    "def creation_html():\n",
    "    \n",
    "\n",
    "def etape(res,L={1:[],2:[]}):       \n",
    "        \n",
    "        #\n",
    "        f=[urne_1,urne_2] # fonctions de simulations de tirages dans les urnes\n",
    "        res={True:[],False:[]} # stockage des résultats (True pour urne 1, False pour urne 2)\n",
    "        \n",
    "        # Ajout d'une boule tirée en fonction du résultat d'un lancer de pièce\n",
    "        Choix=Piece()\n",
    "        G[Choix].append(f[Choix]())\n",
    "        \n",
    "'''\n",
    "\n",
    "def Synthese(n=100):    \n",
    "    \n",
    "    f=[urne_2,urne_1]      # liste des fonctions de simulations de tirages dans les urnes\n",
    "    res=[]                 # stockage des résultats (True pour urne n°1, False pour urne n°2)\n",
    "    \n",
    "    for k in range(n):   \n",
    "        Choix=Piece()                          # lancer d'une pièce\n",
    "        res.append((Choix,(f[Choix]())))       # ajout du couple pièce/boule dans les résultats\n",
    "    \n",
    "    return res\n",
    "        \n",
    "    \n",
    "def Genere_html(res):\n",
    "    \n",
    "    #code html pour la pièce (Face et Pile)\n",
    "    Piece_img=\"<img src='Face.jpg'/>\",\"<img src='Pile.jpg'/>\"\n",
    "            \n",
    "    #code html pour les boules colorées (Rouges et vertes)\n",
    "    boule_coloree_img = \"<span style='color:green;'>o</span>\",\"<span style='color:red;'>o</span>\"\n",
    "    \n",
    "    #génération des affichages:\n",
    "    pieces=\"\"\n",
    "    contenu_urne={True:\"\",False:\"\"}\n",
    "    for couple in res:\n",
    "        piece,couleur=couple\n",
    "        pieces+=Piece_img[piece]\n",
    "        contenu_urne[piece]+=boule_coloree_img[couleur]\n",
    "    \n",
    "    return pieces,contenu_urne\n",
    "    \n",
    "    \n",
    "    \n",
    "    \n",
    "    \n",
    "    \n",
    "    \"\"\"\n",
    "    affichage_pieces = \"\"\n",
    "    for p in res\n",
    "    \n",
    "    \n",
    "    \n",
    "    \n",
    "    \n",
    "    nb_pile,nb_face = len(res[True]),len(res[False])\n",
    "        \n",
    "    \n",
    "\n",
    "    \n",
    "    \n",
    "    # Création des contenus html des urnes\n",
    "    contenu_urneA=\"\"\n",
    "    nb_elt_ligne=0\n",
    "    for elt in res[True]: \n",
    "        contenu_urneA += boule_rouge if elt else boule_verte\n",
    "        nb_elt_ligne += 1\n",
    "        nb_elt_ligne %=10\n",
    "        if nb_elt_ligne==0: contenu_urneA+=\"<br>\"\n",
    "    \n",
    "    \n",
    "    \n",
    "    \n",
    "    \n",
    "    \"\"\" \n",
    "    \n",
    "    \n",
    "    #en-tête du rendu html (avec balise de style)  \n",
    "    html=\"\"\"\n",
    "    <html>\n",
    "      <head>\n",
    "        <meta charset=\"UTF-8\">\n",
    "        <style>\n",
    "          td {\n",
    "                  color: red;\n",
    "                  font-size: 18px;\n",
    "                  background-color: #22DD22;\n",
    "                  text-align: center;\n",
    "                 }       \n",
    "        </style>\n",
    "      </head>   \n",
    "    \"\"\"\n",
    "    #corps du rendu html\n",
    "    html+=\"\"\"\n",
    "    <body>\n",
    "    <table>\n",
    "        <tr>    \n",
    "            <td>Lancers de pièces</td>\n",
    "            <td colspan=2></td>\n",
    "\n",
    "        </tr>\n",
    "    \n",
    "    \n",
    "    \n",
    "    \n",
    "    \n",
    "    \n",
    "\n",
    "    \n",
    "    \n",
    "    \n",
    "    \n",
    "    \n",
    "        <tr>    \n",
    "            <td>Lancers de pièces</td>\n",
    "            <td>\"\"\"+contenu_urneA+Pile+\"\"\"</td>\n",
    "            <td>Urne B</td>\n",
    "            <td>Total</td>\n",
    "            \n",
    "            <td class='essai'>test1 </td>\n",
    "        </tr>\n",
    "    \n",
    "        <tr>    \n",
    "            <td></td>\n",
    "            <td>Urne A</td>\n",
    "            <td>Urne B</td>\n",
    "            <td>Total</td>\n",
    "            \n",
    "            <td class='essai'>test2 </td>\n",
    "        </tr>\n",
    "    \n",
    "    \n",
    "    \n",
    "    \n",
    "        <tr>    \n",
    "            <td>Boules rouges</td>\n",
    "            <td>nbre rougeUrne A</td>\n",
    "            <td>nbre rougeUrne B</td>\n",
    "            <td>total rouge</td>\n",
    "            \n",
    "            <td class='essai'>test3 </td>\n",
    "        </tr>\n",
    "        \n",
    "        <tr>    \n",
    "            <td>Boules blanches</td>\n",
    "            <td>nbre blancheUrne A</td>\n",
    "            <td>nbre blancheUrne B</td>\n",
    "            <td>total blanche</td>\n",
    "            \n",
    "            <td class='essai'>test ddzok pzdkzpdk kpzkdpzkd</td>\n",
    "        </tr>        \n",
    "        \n",
    "        \n",
    "    \n",
    "    </table>\n",
    "    \n",
    "    \n",
    "    \n",
    "    \n",
    "    \n",
    "    </body>\n",
    "    \n",
    "    </html>\n",
    "    \"\"\"\n",
    "    return html\n",
    "    \n",
    "    \n",
    "    \n",
    "    \n",
    "\n",
    "\n",
    "#IPython.display.clear_output()                                      # réinitialisation de l'affichage html\n",
    "display(HTML(Genere_html(Synthese()))) # raffraichissement et affichage html\n"
   ]
  },
  {
   "cell_type": "markdown",
   "metadata": {},
   "source": [
    "$\\quad$__b. Calculer, parmi les boules tirées de l'urne A, la fréquence de celles qui sont rouges. Comparer avec la réponse à la question 1.1.__<br>\n",
    "$\\quad$__c. Calculer la fréquence de boules rouges parmi l'ensemble de toutes les boules tirées. Comparer avec la réponse à la question 1.7.b.__<br>\n",
    "$\\quad$__d. Calculer, parmi les boules rouges tirées, la fréquence de celles qui ont été tirées de l'urne A. Comparer avec la réponse à la question 2.2.__<br>"
   ]
  },
  {
   "cell_type": "code",
   "execution_count": 23,
   "metadata": {},
   "outputs": [
    {
     "data": {
      "text/plain": [
       "[(False, True),\n",
       " (False, True),\n",
       " (False, True),\n",
       " (True, False),\n",
       " (False, True),\n",
       " (False, True),\n",
       " (True, False),\n",
       " (False, True),\n",
       " (False, False),\n",
       " (True, False),\n",
       " (False, False),\n",
       " (False, False),\n",
       " (False, False),\n",
       " (False, False),\n",
       " (False, True),\n",
       " (True, True),\n",
       " (False, False),\n",
       " (False, False),\n",
       " (False, True),\n",
       " (False, False),\n",
       " (False, False),\n",
       " (False, False),\n",
       " (False, True),\n",
       " (False, True),\n",
       " (True, False),\n",
       " (False, False),\n",
       " (True, False),\n",
       " (False, True),\n",
       " (False, False),\n",
       " (False, False),\n",
       " (True, True),\n",
       " (True, True),\n",
       " (False, False),\n",
       " (False, False),\n",
       " (False, False),\n",
       " (False, True),\n",
       " (False, False),\n",
       " (True, False),\n",
       " (False, False),\n",
       " (True, False),\n",
       " (True, False),\n",
       " (False, True),\n",
       " (True, False),\n",
       " (False, False),\n",
       " (True, False),\n",
       " (False, True),\n",
       " (True, True),\n",
       " (True, True),\n",
       " (True, True),\n",
       " (False, False),\n",
       " (False, True),\n",
       " (False, True),\n",
       " (True, False),\n",
       " (False, True),\n",
       " (False, False),\n",
       " (False, False),\n",
       " (True, True),\n",
       " (False, False),\n",
       " (False, False),\n",
       " (True, True),\n",
       " (True, False),\n",
       " (True, False),\n",
       " (False, True),\n",
       " (False, True),\n",
       " (False, False),\n",
       " (True, False),\n",
       " (False, True),\n",
       " (True, True),\n",
       " (False, True),\n",
       " (False, False),\n",
       " (True, False),\n",
       " (True, True),\n",
       " (True, False),\n",
       " (True, True),\n",
       " (False, True),\n",
       " (True, False),\n",
       " (True, True),\n",
       " (False, True),\n",
       " (False, False),\n",
       " (True, False),\n",
       " (False, False),\n",
       " (True, False),\n",
       " (False, False),\n",
       " (True, True),\n",
       " (False, False),\n",
       " (False, True),\n",
       " (True, True),\n",
       " (True, False),\n",
       " (True, False),\n",
       " (True, False),\n",
       " (True, False),\n",
       " (True, False),\n",
       " (False, False),\n",
       " (False, False),\n",
       " (False, False),\n",
       " (True, False),\n",
       " (True, False),\n",
       " (False, True),\n",
       " (False, False),\n",
       " (False, False)]"
      ]
     },
     "execution_count": 23,
     "metadata": {},
     "output_type": "execute_result"
    }
   ],
   "source": [
    "def Synthese(n=100):    \n",
    "    \n",
    "    f=[urne_2,urne_1]      # liste des fonctions de simulations de tirages dans les urnes\n",
    "    res=[]                 # stockage des résultats (True pour urne n°1, False pour urne n°2)\n",
    "    \n",
    "    for k in range(n):\n",
    "                \n",
    "        Choix=Piece()                                        # lancer d'une pièce\n",
    "        res.append((Choix,(f[Choix]())))                        # ajout d'une boule dans les résultats\n",
    "        \n",
    "        \n",
    "    return res\n",
    "\n",
    "Synthese()"
   ]
  },
  {
   "cell_type": "code",
   "execution_count": 15,
   "metadata": {},
   "outputs": [],
   "source": [
    "\n",
    "\n",
    "    \n",
    "\n",
    "'''\n",
    "    <head>\n",
    "        <meta charset=\"UTF-8\">\n",
    "        <title>Inférences Bayésiennes</title>\n",
    "        <style>\n",
    "             body { \n",
    "                    \n",
    "                    height: 200px; \n",
    "                    }\n",
    "             .misforme {\n",
    "             background-color: #FFF000;\n",
    "             font-size: 25px;\n",
    "\n",
    "                 }\n",
    "        </style>\n",
    "    </head>      \n",
    "    \n",
    "    <body>\n",
    "    dzdzd\n",
    "    <table>\n",
    "        <tr>    \n",
    "            <td class=\"mis_forme\">salut\n",
    "+str(res[True].count(True))+ </td>\n",
    "            \n",
    "            <td>test </td>\n",
    "            <td>test2</td>\n",
    "        </tr>\n",
    "        <tr>    \n",
    "            <td class=\"mis_forme\"><span style=\"color:'red';\">salut</span>\n",
    "+str(res[True].count(True))+ </td>\n",
    "            \n",
    "            <td>test </td>\n",
    "            <td>test2</td>\n",
    "        </tr>\n",
    "    </table>\n",
    "    </body>\n",
    "'''    \n",
    "    \n",
    "\n",
    "    \n",
    "    \n",
    "    \n",
    "    \n",
    "    \n",
    "def si_necessaire(res):\n",
    "    return \"\"\"<head>\n",
    "        <meta charset=\"UTF-8\">\n",
    "        <title> python-lycee console SQL </title>\n",
    "        <style>\n",
    "             body \n",
    "                    { \n",
    "                    background-color: #000000;\n",
    "                    height: 600px;\n",
    "                    }\n",
    "             table \n",
    "                    {\n",
    "                    background-color: #000000;\n",
    "                    border-collapse: collapse;\n",
    "                    }       \n",
    "             th,td \n",
    "                    {\n",
    "                    border: 1px solid black;\n",
    "                    padding-top: 1px;\n",
    "                    padding-right: 8px;\n",
    "                    padding-bottom: 1px;\n",
    "                    padding-left: 8px;\n",
    "                    }\n",
    "                   \n",
    "             .nom_table\n",
    "                    {\n",
    "                    background-color: #32D00E;\n",
    "                    }               \n",
    "             .titres_colonnes\n",
    "                    {\n",
    "                    background-color: #85E66F;\n",
    "                    }\n",
    "             .contenu_table\n",
    "                    {\n",
    "                    background-color: #9EF48B;   \n",
    "                    }             \n",
    "             th \n",
    "                    {\n",
    "                    font-size: 14px;\n",
    "                    }\n",
    "             td \n",
    "                    { \n",
    "                    font-size: 12px; \n",
    "                    }          \n",
    "        </style>\n",
    "    </head>      \n",
    "    \n",
    "    <body>\n",
    "    dzdzd\n",
    "    <table>\n",
    "        <tr>    \n",
    "            <td>salut\n",
    "            \"\"\"+str(res[True].count(True))+\"\"\" </td>\n",
    "            \n",
    "            <td>test </td>\n",
    "        </tr>\n",
    "    </table>\n",
    "    </body>\n",
    "    \"\"\"           \n",
    "\n"
   ]
  },
  {
   "cell_type": "code",
   "execution_count": 16,
   "metadata": {},
   "outputs": [],
   "source": [
    "# Écrire ici la fonction Python M\n",
    "\"\"\"\n",
    "def M(a,c):\n",
    "    return max( [abs(z(n,a,c)) for n in range(21)] )\n",
    "\n",
    "\"\"\"\n",
    "def M(a,c):\n",
    "    return abs(z(20,a,c)) "
   ]
  },
  {
   "cell_type": "code",
   "execution_count": 17,
   "metadata": {},
   "outputs": [
    {
     "ename": "NameError",
     "evalue": "name 'z' is not defined",
     "output_type": "error",
     "traceback": [
      "\u001b[1;31m---------------------------------------------------------------------------\u001b[0m",
      "\u001b[1;31mNameError\u001b[0m                                 Traceback (most recent call last)",
      "\u001b[1;32m<ipython-input-17-74d4d775e507>\u001b[0m in \u001b[0;36m<module>\u001b[1;34m()\u001b[0m\n\u001b[0;32m      1\u001b[0m \u001b[1;31m# Tester ici la fonction M\u001b[0m\u001b[1;33m\u001b[0m\u001b[1;33m\u001b[0m\u001b[0m\n\u001b[1;32m----> 2\u001b[1;33m \u001b[0mM\u001b[0m\u001b[1;33m(\u001b[0m\u001b[1;36m0.2\u001b[0m\u001b[1;33m+\u001b[0m\u001b[1;36m0.3j\u001b[0m\u001b[1;33m,\u001b[0m\u001b[1;36m0.25\u001b[0m\u001b[1;33m+\u001b[0m\u001b[1;36m0.5j\u001b[0m\u001b[1;33m)\u001b[0m\u001b[1;33m\u001b[0m\u001b[0m\n\u001b[0m",
      "\u001b[1;32m<ipython-input-16-ccc6568cf390>\u001b[0m in \u001b[0;36mM\u001b[1;34m(a, c)\u001b[0m\n\u001b[0;32m      6\u001b[0m \"\"\"\n\u001b[0;32m      7\u001b[0m \u001b[1;32mdef\u001b[0m \u001b[0mM\u001b[0m\u001b[1;33m(\u001b[0m\u001b[0ma\u001b[0m\u001b[1;33m,\u001b[0m\u001b[0mc\u001b[0m\u001b[1;33m)\u001b[0m\u001b[1;33m:\u001b[0m\u001b[1;33m\u001b[0m\u001b[0m\n\u001b[1;32m----> 8\u001b[1;33m     \u001b[1;32mreturn\u001b[0m \u001b[0mabs\u001b[0m\u001b[1;33m(\u001b[0m\u001b[0mz\u001b[0m\u001b[1;33m(\u001b[0m\u001b[1;36m20\u001b[0m\u001b[1;33m,\u001b[0m\u001b[0ma\u001b[0m\u001b[1;33m,\u001b[0m\u001b[0mc\u001b[0m\u001b[1;33m)\u001b[0m\u001b[1;33m)\u001b[0m\u001b[1;33m\u001b[0m\u001b[0m\n\u001b[0m",
      "\u001b[1;31mNameError\u001b[0m: name 'z' is not defined"
     ]
    }
   ],
   "source": [
    "# Tester ici la fonction M\n",
    "M(0.2+0.3j,0.25+0.5j)"
   ]
  },
  {
   "cell_type": "markdown",
   "metadata": {},
   "source": [
    "__2.3. Exécuter la cellule ci-dessous. La fonction Python <mark>graph_Julia</mark> ci-dessous permettra la représentation graphique d'un ensemble de Julia (elle utilise les valeurs fournies par la fonction Python <mark>M</mark>).__"
   ]
  },
  {
   "cell_type": "code",
   "execution_count": null,
   "metadata": {
    "scrolled": false
   },
   "outputs": [],
   "source": [
    "#import des modules nécessaires\n",
    "from PIL import Image, ImageDraw\n",
    "\n",
    "def graph_Julia(c,M=M,profondeur=30,xmin=-2,xmax=2,ymin=-2,ymax=2,pix_unite=33,couleur_fond=(240,245,255),couleur_figure=(80,0,80),couleur_axes=(50,10,10)):\n",
    "    \"\"\"\n",
    "    REPRESENTATION GRAPHIQUE D'UN ENSEMBLE DE COMPLEXES\n",
    "    M: fonction booléenne qui indique si un complexe appartient à l'ensemble représenté\n",
    "    profondeur: profondeur de la recherche pour la fonction app_M\n",
    "    xmin, xmax, ymin, ymax : paramètres de réglage de la fenêtre de visualisation\n",
    "    pix_unite: nombre de pixels par unité\n",
    "    couleur_figure: couleur de l'ensemble représenté\n",
    "    couleur_axes: couleur des axes\n",
    "    \"\"\"\n",
    "    # fonction pour le dégradé de couleur de la figure\n",
    "    def couleur(t,r,g,b,rmax,gmax,bmax,coeff=100):\n",
    "        degrad=int(t*coeff)\n",
    "        return min(degrad+r,rmax),min(degrad+g,gmax),min(degrad+b,bmax)\n",
    "    \n",
    "    # création du graphique\n",
    "    largeur=pix_unite*(xmax-xmin)+1 ; hauteur=pix_unite*(ymax-ymin)+1       \n",
    "    Graphique = Image.new('RGB', (largeur,hauteur) , color=couleur_fond )           \n",
    "    Curseur = ImageDraw.Draw(Graphique)\n",
    "        \n",
    "    # tracé de l'ensemble M\n",
    "    for X in range(largeur):\n",
    "        for Y in range(hauteur):\n",
    "            # création des coordonnées mathématiques correspondant aux coordonnées de l'image\n",
    "            x,y = xmin+X*(xmax-xmin)/largeur,ymin+(hauteur-Y)*(ymax-ymin)/hauteur\n",
    "            # construction du complexe c\n",
    "            a = complex(x,y)\n",
    "            # coloration du point si c appartient à M\n",
    "            try:\n",
    "                #print(\"ok\",X,Y,M(a,c),coefficient_couleur(M(a,c))*couleur_figure)\n",
    "                Curseur.point([X, Y], couleur(M(a,c),*couleur_figure,*couleur_fond))\n",
    "            except:\n",
    "                #input()\n",
    "                None\n",
    "                Curseur.point([X, Y], couleur_fond)\n",
    "            \n",
    "            #if app_M(c,N=profondeur): Curseur.point([X, Y], couleur_figure)\n",
    "\n",
    "    def conv_coord(x,y):\n",
    "        \"fonction qui convertit une coordonnée du repère mathématique en coordonnée sur l'image\"\n",
    "        return (x-xmin)*pix_unite,(y-ymin)*pix_unite,\n",
    "    \n",
    "    # tracé des axes\n",
    "    Curseur.line([conv_coord(xmin,0),conv_coord(xmax,0)],fill=couleur_axes)\n",
    "    Curseur.line([conv_coord(0,ymin),conv_coord(0,ymax)],fill=couleur_axes)\n",
    "    \n",
    "    \"\"\"\n",
    "    # création des graduations annotées\n",
    "    for x in range(int(xmin),int(xmax)+1):\n",
    "        Curseur.line([conv_coord(x,-0.02),conv_coord(x,0.02)], fill=couleur_axes)    \n",
    "        Curseur.text(conv_coord(x+(-0.05 if x>=0 else 0.03),0.02),str(x),fill=couleur_axes)\n",
    "    for y in range(int(ymin),int(ymax)+1):\n",
    "        Curseur.line([conv_coord(-0.02,y),conv_coord(0.02,y)], fill=couleur_axes)    \n",
    "        Curseur.text(conv_coord(0.02,y+(-0.07 if y>=0 else 0.03)),str(-y),fill=couleur_axes)\n",
    "    \"\"\"\n",
    "    # écriture du titre / nom de la figure\n",
    "    #Curseur.text((0,0),\"Ensemble de Julia\\navec c=\"+str(c),fill=couleur_figure)\n",
    "        \n",
    "    return Graphique\n"
   ]
  },
  {
   "cell_type": "markdown",
   "metadata": {},
   "source": [
    "__a. Exécuter la cellule ci-dessous pour obtenir une représentation de $\\mathcal{J}_{0,25+0,5i}$.__<br>\n",
    "$\\quad$__Vérifier graphiquement vos réponses aux questions 1.2 , 1.3 et 2.1.__"
   ]
  },
  {
   "cell_type": "code",
   "execution_count": null,
   "metadata": {},
   "outputs": [],
   "source": [
    "graph_Julia(0.25+0.5j)"
   ]
  },
  {
   "cell_type": "markdown",
   "metadata": {},
   "source": [
    "__b. Exécuter les cellules ci-dessous pour obtenir des représentations d'autres ensembles de Julia.__<br>\n",
    "$\\quad$__Tester ensuite d'autres valeurs pour $c$...__"
   ]
  },
  {
   "cell_type": "code",
   "execution_count": null,
   "metadata": {},
   "outputs": [],
   "source": [
    "graph_Julia(0.285+0.01j)"
   ]
  },
  {
   "cell_type": "code",
   "execution_count": null,
   "metadata": {},
   "outputs": [],
   "source": [
    "graph_Julia(-0.8+0.156j)"
   ]
  },
  {
   "cell_type": "code",
   "execution_count": null,
   "metadata": {},
   "outputs": [],
   "source": [
    "graph_Julia(0.35+0.2j)"
   ]
  },
  {
   "cell_type": "code",
   "execution_count": null,
   "metadata": {
    "scrolled": false
   },
   "outputs": [],
   "source": [
    "graph_Julia(0.3+0.5j)"
   ]
  },
  {
   "cell_type": "code",
   "execution_count": null,
   "metadata": {},
   "outputs": [],
   "source": [
    "graph_Julia(0.25-0.005j)"
   ]
  },
  {
   "cell_type": "markdown",
   "metadata": {},
   "source": [
    "![Gaston_Maurice_Julia](img/Gaston_Maurice_Julia.jpg)\n",
    "\n",
    "<center> <a href=\"https://fr.wikipedia.org/wiki/Gaston_Julia\">Gaston Maurice Julia</a> (1893-1978) </center>"
   ]
  },
  {
   "cell_type": "markdown",
   "metadata": {},
   "source": [
    "*(C) Copyright Franck CHEVRIER 2019-2020 http://www.python-lycee.com/*\n"
   ]
  }
 ],
 "metadata": {
  "celltoolbar": "Raw Cell Format",
  "kernelspec": {
   "display_name": "Python 3",
   "language": "python",
   "name": "python3"
  },
  "language_info": {
   "codemirror_mode": {
    "name": "ipython",
    "version": 3
   },
   "file_extension": ".py",
   "mimetype": "text/x-python",
   "name": "python",
   "nbconvert_exporter": "python",
   "pygments_lexer": "ipython3",
   "version": "3.6.4"
  }
 },
 "nbformat": 4,
 "nbformat_minor": 2
}
