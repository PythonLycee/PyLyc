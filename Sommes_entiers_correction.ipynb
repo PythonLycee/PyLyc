{
 "cells": [
  {
   "cell_type": "markdown",
   "metadata": {},
   "source": [
    "![En tête general](img/En_tete_general.png)\n",
    "\n",
    "\n",
    "*(C) Copyright Franck CHEVRIER 2019-2021 http://www.python-lycee.com/*\n",
    "\n",
    "<span style=\"color: #9317B4\"> Pour exécuter une saisie Python, sélectionner la cellule et valider avec </span><span style=\"color: #B317B4\"><strong>SHIFT+Entrée</strong></span>."
   ]
  },
  {
   "cell_type": "markdown",
   "metadata": {},
   "source": [
    "# Sommes d'entiers <span style=\"color: red\"> (corrigé)</span>"
   ]
  },
  {
   "cell_type": "markdown",
   "metadata": {},
   "source": [
    "### <span style=\"color:#8E44AD\">Sommaire</span>\n",
    "\n",
    "<span style=\"color:#8E44AD\">1.</span> <a href=\"#1\">Somme des premiers entiers naturels</a><br>\n",
    "<span style=\"color:#8E44AD\">2.</span> <a href=\"#2\">Somme des carrés des premiers entiers naturels</a><br>\n",
    "<span style=\"color:#8E44AD\">3.</span> <a href=\"#3\">Somme des cubes des premiers entiers naturels</a><br>\n"
   ]
  },
  {
   "cell_type": "markdown",
   "metadata": {},
   "source": [
    "## <span style=\"color:#8E44AD\" id=\"1\">1. Somme des premiers entiers naturels</span>"
   ]
  },
  {
   "cell_type": "markdown",
   "metadata": {},
   "source": [
    "Pour tout entier naturel $n$ non nul, on pose :\n",
    "$$\\displaystyle S_n=1+2+...+n=\\sum\\limits_{k=1}^{n}{k} $$\n",
    "<br>\n",
    "\n",
    "__1.1. Écrire une fonction Python <mark>somme_entiers</mark> qui reçoit <mark>n</mark> en argument et renvoie la valeur de $S_n$.__<br>\n",
    "$\\quad\\;$On pourra utiliser une boucle <mark>for</mark> et un accumulateur."
   ]
  },
  {
   "cell_type": "code",
   "execution_count": 1,
   "metadata": {},
   "outputs": [],
   "source": [
    "#Écrire ici la fonction somme_entiers\n",
    "def somme_entiers(n):\n",
    "    \"\"\"\n",
    "    fonction qui calcule la somme des entiers naturels de 1 à n\n",
    "    \"\"\"\n",
    "    S=0\n",
    "    for k in range(1,n+1):\n",
    "        S=S+k\n",
    "    return S\n",
    "    "
   ]
  },
  {
   "cell_type": "code",
   "execution_count": 2,
   "metadata": {},
   "outputs": [
    {
     "data": {
      "text/plain": [
       "6"
      ]
     },
     "execution_count": 2,
     "metadata": {},
     "output_type": "execute_result"
    }
   ],
   "source": [
    "#Tester ici la fonction somme_entiers\n",
    "somme_entiers(3)"
   ]
  },
  {
   "cell_type": "markdown",
   "metadata": {},
   "source": [
    "__1.2.a. Activer la cellule ci-dessous.__<br>\n",
    "$\\quad\\quad$__Observer la figure fournie, qui illustre que le calcul de $2\\times S_n$ peut se ramener à un simple produit.__\n"
   ]
  },
  {
   "cell_type": "code",
   "execution_count": 3,
   "metadata": {},
   "outputs": [
    {
     "data": {
      "text/html": [
       "<html>\n",
       "\t<head>\n",
       "\t\t<!-- Somme des n premiers entiers naturels -->\n",
       "\t\t<!-- Copyright Franck CHEVRIER www.python-lycee.com -->\n",
       "\t\t<title></title>\n",
       "\t\t<script type=\"text/javascript\" src=\"GeoGebraWeb/web3d/web3d.nocache.js\"></script>\n",
       "\t</head>\n",
       "\t<body>\n",
       "\t\t<center>\n",
       "\t\t\t\t\t\t\n",
       "\t\t\t<div>\n",
       "\t\t\t\t<article class=\"geogebraweb\"\n",
       "\t\t\t\t\n",
       "\t\t\t\t\tdata-param-width=\"400\" data-param-height=\"570\"\n",
       "\t\t\t\t\tdata-param-ggbBase64=\"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\"\n",
       "\t\t\t\t\tdata-param-enableRightClick=\"false\"\n",
       "\t\t\t\t\tdata-param-enableLabelDrags=\"false\"\n",
       "\t\t\t\t\tdata-param-enableShiftDragZoom=\"false\"\n",
       "\t\t\t\t\tdata-param-showMenuBar=\"false\"\n",
       "\t\t\t\t\tdata-param-showToolBar=\"false\"\n",
       "\t\t\t\t\tdata-param-showAlgebraInput=\"false\"\n",
       "\t\t\t\t\tdata-param-showResetIcon=\"true\"\n",
       "\t\t\t\t\tdata-param-useBrowserForJS=\"true\"> \n",
       "\t\t\t\t\t\t\t\t\n",
       "\t\t\t\t\t\t\t\t\n",
       "\t\t\t\t</article>\n",
       "\t\t\t</div>\n",
       "\t\t</center>\n",
       "\t</body>\n",
       "</html>\n"
      ],
      "text/plain": [
       "<IPython.core.display.HTML object>"
      ]
     },
     "metadata": {},
     "output_type": "display_data"
    }
   ],
   "source": [
    "#Sélectionner cette zone puis SHIFT+ENTREE\n",
    "from IPython.display import display, HTML ; display(HTML('fig_dyn_GeoGebra/Somme_entiers.html'))"
   ]
  },
  {
   "cell_type": "markdown",
   "metadata": {},
   "source": [
    "$\\quad\\;$__b. En utilisant cette méthode, calculer à la main $S_{10}$.__<br>\n",
    "$\\quad\\quad$__Vérifier ensuite le résultat à l'aide de la fonction <mark>somme_entiers__</mark>.\n",
    "<br><br>\n",
    "<span style=\"color:red;\">$\\displaystyle S_{10}=\\frac{10\\times 11}{2}=55$</span>"
   ]
  },
  {
   "cell_type": "code",
   "execution_count": 4,
   "metadata": {},
   "outputs": [
    {
     "data": {
      "text/plain": [
       "55"
      ]
     },
     "execution_count": 4,
     "metadata": {},
     "output_type": "execute_result"
    }
   ],
   "source": [
    "#Utiliser cette zone de saisie pour la vérification\n",
    "somme_entiers(10)"
   ]
  },
  {
   "cell_type": "markdown",
   "metadata": {},
   "source": [
    "$\\quad\\;$__c. Conjecturer une expression de $S_n$ en fonction de $n$.__\n",
    "<br><br>\n",
    "<span style=\"color:red;\">Il semble que $\\displaystyle S_{n}=\\frac{n(n+1)}{2}$</span>"
   ]
  },
  {
   "cell_type": "markdown",
   "metadata": {},
   "source": [
    "__1.3. On souhaite maintenant démontrer la formule conjecturée à la question 1.2.c :__<br><br>\n",
    "\n",
    "<BLOCKQUOTE style='background-color:#DDEEEE;'>\n",
    "<strong style=\"color:#004400\">Version 1ère Spé Math</strong><br><br>\n",
    "Additionner terme à terme l'expression de $2 \\times S_n$ donnée ci-dessous, et en déduire l'expression de $S_n$ en fonction de $n$<br>\n",
    "$$\\begin{matrix} 2 \\times S_n & =& & 1 &+ & 2 &+ & 3 &+ & ... &+ & (n-1) &+ & n \\\\\n",
    "                         & & + & n &+ & (n-1) &+ & (n-2) &+ & ... &+ & 2 &+ & 1   \n",
    "\\end{matrix}$$                 \n",
    "</BLOCKQUOTE>\n",
    "\n",
    "<BLOCKQUOTE style='background-color:#EEDDEE;'>\n",
    "    <strong style=\"color:#330033\">Version Tale Spé Math</strong><br><br>\n",
    "    Démontrer <strong>par récurrence</strong> la formule conjecturée en 1.2.c.\n",
    "</BLOCKQUOTE>\n",
    "\n",
    "<br>\n",
    "<BLOCKQUOTE style='background-color:#DDEEEE;'>\n",
    "    <span style=\"color:red;\"><strong>Version 1ère Spé Math</strong><br>\n",
    "$\\begin{matrix} 2 \\times S_n & =& & 1 &+ & 2 &+ & 3 &+ & ... &+ & (n-1) &+ & n \\\\\n",
    "                         & & + & n &+ & (n-1) &+ & (n-2) &+ & ... &+ & 2 &+ & 1   \n",
    "\\end{matrix}$<br>       \n",
    "$2 \\times S_n = (n+1) + (n+1) + (n+1) +  ... +  (n+1) +  (n+1) $ avec $n$ facteurs<br> \n",
    "$2 \\times S_n = n(n+1)$<br>\n",
    "$ \\displaystyle S_n = \\frac{n(n+1)}{2}$<br>\n",
    "</span>\n",
    "</BLOCKQUOTE>\n",
    "\n",
    "<br>\n",
    "<BLOCKQUOTE style='background-color:#EEDDEE;'>\n",
    "    <span style=\"color:red;\"><strong>Version Terminale Spé Math</strong><br>\n",
    "Pour tout $n \\in \\mathbb{N}^*$, on pose $P(n)$ : \"$S_n = \\frac{n(n+1)}{2}$\".\n",
    "<ul>\n",
    "    <li>$S_1=1$ et $\\displaystyle \\frac{1(1+1)}{2}=1$ donc $P(1)$ est vraie.</li>\n",
    "    <li>Supposons que $P(n)$ soit vraie pour un $n \\in \\mathbb{N}^*$ quelconque fixé.<br>\n",
    "        Alors :<br>\n",
    "        $S_{n+1}=1+2+...+n+(n+1)$<br>\n",
    "        $S_{n+1}=S_n+(n+1)$<br>\n",
    "        $\\displaystyle S_{n+1}=\\frac{n(n+1)}{2}+(n+1)$ (par hypothèse de récurrence)<br>\n",
    "        $\\displaystyle S_{n+1}=\\frac{n(n+1)+2(n+1)}{2}$ (en réduisant au même dénominateur)<br>\n",
    "        $\\displaystyle S_{n+1}=\\frac{(n+1)(n+2)}{2}$ (en factorisant par $(n+1)$ le numérateur)<br>\n",
    "        Ceci prouve que $P(n+1)$ est vraie. $P$ est donc héréditaire.</li>\n",
    "    <li>Conclusion :<br>\n",
    "    $P(n)$ est fondée en $n=1$ et héréditaire pour $n\\geq1$,<br>\n",
    "    donc vraie pour tout $n \\in \\mathbb{N}^*$.\n",
    "</ul>\n",
    "</span>\n",
    "</BLOCKQUOTE>\n"
   ]
  },
  {
   "cell_type": "markdown",
   "metadata": {},
   "source": [
    "__1.4. À l'aide de la formule obtenue, calculer $S_{100}=1+2+...+100$ puis vérifier le résultat à l'aide de la fonction Python <mark>somme_entiers</mark>.__\n",
    "\n",
    "<br>\n",
    "<span style=\"color:red;\">\n",
    "$\\displaystyle S_{100}=1+2+...+100=\\frac{100\\times101}{2}=50\\times101=5050$\n",
    "</span>"
   ]
  },
  {
   "cell_type": "code",
   "execution_count": 5,
   "metadata": {},
   "outputs": [
    {
     "data": {
      "text/plain": [
       "5050"
      ]
     },
     "execution_count": 5,
     "metadata": {},
     "output_type": "execute_result"
    }
   ],
   "source": [
    "#Utiliser cette zone de saisie pour la vérification\n",
    "somme_entiers(100)"
   ]
  },
  {
   "cell_type": "markdown",
   "metadata": {},
   "source": [
    "__1.5. Dans cette question, on pose pour $n \\in \\mathbb{N}^*$:__<br>\n",
    "<ul>\n",
    "    <li>$ P_n=2+4+6+...+(2n) \\quad $ (somme des $n$ premiers entiers naturels pairs)</li>\n",
    "    <li>$ I_n=1+3+5+...+(2n-1) \\quad $  (somme des $n$ premiers entiers naturels impairs)</li>\n",
    "</ul>\n",
    "$\\quad$__a. Justifier que $P_n=2 \\times S_n$ et en déduire l'expression de $P_n$ en fonction de $n$.__<br>\n",
    "$\\quad$__b. Justifier que $P_n+I_n=S_{2n}$ et en déduire l'expression de $I_n$ en fonction de $n$.__\n",
    "\n",
    "<br>\n",
    "<ul style=\"color:red;\">\n",
    "    <li>$P_n=2+4+6+...+(2n)=2(1+2+3+...+n)=2S_n$ (en facrtorisant par 2) donc $P_n=n(n+1)$.</li>       <li>$P_n+I_n=2+4+6+...+(2n)+1+3+5+...+(2n-1)=1+2+3+4+5+6+...+(2n-1)+(2n)=S_{2n}$<br>\n",
    "    donc $\\displaystyle I_n=S_{2n}-P_n=\\frac{(2n)(2n+1)}{2}-n(n+1)=n(2n+1)-n(n+1)=n²$.</li>\n",
    "</ul>"
   ]
  },
  {
   "cell_type": "markdown",
   "metadata": {},
   "source": [
    "## <span style=\"color:#8E44AD\" id=\"2\">2. Somme des carrés des premiers entiers naturels</span>"
   ]
  },
  {
   "cell_type": "markdown",
   "metadata": {},
   "source": [
    "Pour tout entier naturel $n$ non nul, on pose : \n",
    "$$\\displaystyle T_n=1^2+2^2+...+n^2=\\sum\\limits_{k=1}^{n}{k^2} $$\n",
    "<br>\n",
    "\n",
    "__2.1. Écrire une fonction Python <mark>somme_carres</mark> qui reçoit <mark>n</mark> en argument et renvoie la valeur de $T_n$.__<br>\n",
    "$\\quad\\;$On pourra s'inspirer de la fonction <mark>somme_entiers</mark> écrite dans la partie 1."
   ]
  },
  {
   "cell_type": "code",
   "execution_count": 6,
   "metadata": {},
   "outputs": [],
   "source": [
    "#Écrire ici la fonction somme_carres\n",
    "def somme_carres(n):\n",
    "    \"\"\"\n",
    "    fonction qui calcule la somme des carrés des entiers naturels de 1 à n\n",
    "    \"\"\"\n",
    "    S=0\n",
    "    for k in range(1,n+1):\n",
    "        S=S+k**2\n",
    "    return S\n",
    "    "
   ]
  },
  {
   "cell_type": "code",
   "execution_count": 7,
   "metadata": {},
   "outputs": [
    {
     "data": {
      "text/plain": [
       "55"
      ]
     },
     "execution_count": 7,
     "metadata": {},
     "output_type": "execute_result"
    }
   ],
   "source": [
    "#Tester ici la fonction somme_carres\n",
    "somme_carres(5)"
   ]
  },
  {
   "cell_type": "markdown",
   "metadata": {},
   "source": [
    "__2.2.a. Activer la cellule ci-dessous.__<br>\n",
    "$\\quad\\quad$__Observer la figure fournie, qui illustre que le calcul de $6\\times T_n$ peut se ramener au calcul de volume d'un parallélépipède.__\n"
   ]
  },
  {
   "cell_type": "code",
   "execution_count": 8,
   "metadata": {},
   "outputs": [
    {
     "data": {
      "text/html": [
       "<html>\n",
       "\t<head>\n",
       "\t\t<!-- Somme des carrés des n premiers entiers naturels -->\n",
       "\t\t<!-- Copyright Franck CHEVRIER www.python-lycee.com -->\n",
       "\t\t<title></title>\n",
       "\t\t<script type=\"text/javascript\" src=\"GeoGebraWeb/web3d/web3d.nocache.js\"></script>\n",
       "\t</head>\n",
       "\t<body>\n",
       "\t\t<center>\n",
       "\t\t\t\t\t\t\n",
       "\t\t\t<div>\n",
       "\t\t\t\t<article class=\"geogebraweb\"\n",
       "\t\t\t\t\n",
       "\t\t\t\t\tdata-param-width=\"980\" data-param-height=\"630\"\n",
       "\t\t\t\t\tdata-param-ggbBase64=\"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\"\n",
       "\t\t\t\t\tdata-param-enableRightClick=\"false\"\n",
       "\t\t\t\t\tdata-param-enableLabelDrags=\"false\"\n",
       "\t\t\t\t\tdata-param-enableShiftDragZoom=\"false\"\n",
       "\t\t\t\t\tdata-param-showMenuBar=\"false\"\n",
       "\t\t\t\t\tdata-param-showToolBar=\"false\"\n",
       "\t\t\t\t\tdata-param-showAlgebraInput=\"false\"\n",
       "\t\t\t\t\tdata-param-showResetIcon=\"true\"\n",
       "\t\t\t\t\tdata-param-useBrowserForJS=\"true\"> \n",
       "\t\t\t\t\t\t\t\t\n",
       "\t\t\t\t\t\t\t\t\n",
       "\t\t\t\t</article>\n",
       "\t\t\t</div>\n",
       "\t\t</center>\n",
       "\t</body>\n",
       "</html>\n"
      ],
      "text/plain": [
       "<IPython.core.display.HTML object>"
      ]
     },
     "metadata": {},
     "output_type": "display_data"
    }
   ],
   "source": [
    "#Sélectionner cette zone puis SHIFT+ENTREE\n",
    "from IPython.display import display, HTML ; display(HTML('fig_dyn_GeoGebra/Somme_carres.html'))"
   ]
  },
  {
   "cell_type": "markdown",
   "metadata": {},
   "source": [
    "$\\quad\\;$__b. En utilisant cette méthode, calculer à la main $T_{6}$.__<br>\n",
    "$\\quad\\quad$__Vérifier ensuite le résultat à l'aide de la fonction <mark>somme_carres__</mark>.\n",
    "\n",
    "<br>\n",
    "<span style=\"color:red;\">\n",
    "$\\displaystyle 6\\times T_6 = 6\\times7\\times13 =546$ donc $T_6 = 91$\n",
    "</span>"
   ]
  },
  {
   "cell_type": "code",
   "execution_count": 9,
   "metadata": {},
   "outputs": [
    {
     "data": {
      "text/plain": [
       "91"
      ]
     },
     "execution_count": 9,
     "metadata": {},
     "output_type": "execute_result"
    }
   ],
   "source": [
    "#Utiliser cette zone de saisie pour la vérification\n",
    "somme_carres(6)"
   ]
  },
  {
   "cell_type": "markdown",
   "metadata": {},
   "source": [
    "$\\quad\\;$__c. Conjecturer une expression de $T_n$ en fonction de $n$.__\n",
    "<br><br>\n",
    "<span style=\"color:red;\">Il semble que $\\displaystyle T_{n}=\\frac{n(n+1)(2n+1)}{6}$</span>"
   ]
  },
  {
   "cell_type": "markdown",
   "metadata": {},
   "source": [
    "__2.3. On souhaite maintenant démontrer la formule conjecturée à la question 2.2.c :__<br><br>\n",
    "\n",
    "<BLOCKQUOTE style='background-color:#DDEEEE;'>\n",
    "<strong style=\"color:#004400\">Version 1ère Spé Math</strong><br><br>\n",
    "<br>Pour tout $n \\in \\mathbb{N}^*$, on pose $\\displaystyle v_n=\\frac{n(n+1)(2n+1)}{6}$.<br>\n",
    "<ul>\n",
    "    <li>Déterminer la valeur de $v_1$ et démontrer que $v_{n+1}=v_n+(n+1)^2$ pour tout $n \\in \\mathbb{N}^*$.</li>\n",
    "    <li>On admet que si deux suites ont le même premier terme et vérifient la même relation de récurrence, alors elles sont égales.<br> Conclure.</li>\n",
    "</ul>                \n",
    "</BLOCKQUOTE>\n",
    "\n",
    "<BLOCKQUOTE style='background-color:#EEDDEE;'>\n",
    "    <strong style=\"color:#330033\">Version Terminale Spé Math</strong><br><br>\n",
    "    Démontrer <strong>par récurrence</strong> la formule conjecturée en 2.2.c.\n",
    "</BLOCKQUOTE>\n",
    "\n",
    "<br>\n",
    "<BLOCKQUOTE style='background-color:#DDEEEE;'>\n",
    "    <span style=\"color:red;\"><strong>Version 1ère Spé Math</strong><br>\n",
    "On a $\\displaystyle v_1=\\frac{1(1+1)(2\\times1+1)}{6}=1$ et:<br>\n",
    "$\\displaystyle v_n+(n+1)^2=\\frac{n(n+1)(2n+1)}{6}+(n+1)^2$<br>\n",
    "$\\displaystyle v_n+(n+1)^2=\\frac{n(n+1)(2n+1)+6(n+1)^2}{6}$ (en réduisant au même dénominateur)<br>\n",
    "$\\displaystyle v_n+(n+1)^2=\\frac{(n+1)(n(2n+1)+6(n+1))}{6}$ (en factorisant par $(n+1)$)<br>\n",
    "$\\displaystyle v_n+(n+1)^2=\\frac{(n+1)(2n^2+7n+6)}{6}$<br>\n",
    "D'autre part, on a :<br>\n",
    "$(n+2)(2(n+1)+1)=(n+2)(2n+3)=2n^2+7n+6$<br>\n",
    "donc :<br>\n",
    "$\\displaystyle v_n+(n+1)^2=\\frac{(n+1)(n+2)(2(n+1)+1)}{6}$<br>\n",
    "et donc :<br>\n",
    "$\\displaystyle v_n+(n+1)^2=v_{n+1}$<br>        \n",
    "Au final, les suites $(v_n)_{n\\geq1}$ et $(T_n)_{n\\geq1}$ vérifient la même formule de récurrence et on a $v_1=1=T_1$, donc $\\forall n \\in \\mathbb{N}^*$ on a $\\displaystyle T_n=v_n=\\frac{n(n+1)(2n+1)}{6}$.\n",
    "</span>\n",
    "</BLOCKQUOTE>\n",
    "\n",
    "<br>\n",
    "<BLOCKQUOTE style='background-color:#EEDDEE;'>\n",
    "    <span style=\"color:red;\"><strong>Version Terminale Spé Math</strong><br>\n",
    "Pour tout $n \\in \\mathbb{N}^*$, on pose $P(n)$ : \"$T_n=\\frac{n(n+1)(2n+1)}{6}$\".\n",
    "<ul>\n",
    "    <li>$T_1=1$ et $\\displaystyle \\frac{1(1+1)(2\\times1+1)}{6}=1$ donc $P(1)$ est vraie.</li>\n",
    "    <li>Supposons que $P(n)$ soit vraie pour un $n \\in \\mathbb{N}^*$ quelconque fixé.<br>\n",
    "        Alors :<br>\n",
    "        $T_{n+1}=1^2+2^2+...+n^2+(n+1)^2$<br>\n",
    "        $T_{n+1}=T_n+(n+1)^2$<br>\n",
    "        $\\displaystyle T_{n+1}=\\frac{n(n+1)(2n+1)}{6}+(n+1)^2$ (par hypothèse de récurrence)<br>\n",
    "        $\\displaystyle T_{n+1}=\\frac{n(n+1)(2n+1)+6(n+1)^2}{6}$ (en réduisant au même dénominateur)<br>\n",
    "        $\\displaystyle T_{n+1}=\\frac{(n+1)(n(2n+1)+6(n+1))}{6}$ (en factorisant par $(n+1)$)<br>\n",
    "        $\\displaystyle T_{n+1}=\\frac{(n+1)(2n^2+7n+6)}{6}$ <br>\n",
    "        D'autre part, on a :<br>\n",
    "        $(n+2)(2(n+1)+1)=(n+2)(2n+3)=2n^2+7n+6$<br>\n",
    "        donc :<br>\n",
    "        $\\displaystyle T_{n+1}=\\frac{(n+1)(n+2)(2(n+1)+1)}{6}$<br>\n",
    "        Ceci prouve que $P(n+1)$ est vraie. $P$ est donc héréditaire.</li>\n",
    "    <li>Conclusion :<br>\n",
    "    $P(n)$ est fondée en $n=1$ et héréditaire pour $n\\geq1$,<br>\n",
    "    donc vraie pour tout $n \\in \\mathbb{N}^*$.\n",
    "</ul>\n",
    "</span>\n",
    "</BLOCKQUOTE>\n",
    "\n",
    "\n"
   ]
  },
  {
   "cell_type": "markdown",
   "metadata": {},
   "source": [
    "## <span style=\"color:#8E44AD\" id=\"3\">3. Somme des cubes des premiers entiers naturels</span>"
   ]
  },
  {
   "cell_type": "markdown",
   "metadata": {},
   "source": [
    "Pour tout entier naturel $n$ non nul, on pose:<br> \n",
    "$$\\displaystyle C_n=1^3+2^3+...+n^3=\\sum\\limits_{k=1}^{n}{k^3} $$\n",
    "<br>\n",
    "\n",
    "__3.1. Écrire une fonction Python <mark>somme_cubes</mark> qui reçoit <mark>n</mark> en argument et renvoie la valeur de $C_n$.__<br>\n",
    "$\\quad\\;$On pourra s'inspirer des fonctions <mark>somme_entiers</mark> et <mark>somme_carres</mark> écrites dans les parties 1 et 2."
   ]
  },
  {
   "cell_type": "code",
   "execution_count": 10,
   "metadata": {},
   "outputs": [],
   "source": [
    "#Écrire ici la fonction somme_cubes\n",
    "def somme_cubes(n):\n",
    "    \"\"\"\n",
    "    fonction qui calcule la somme des cubes des entiers naturels de 1 à n\n",
    "    \"\"\"\n",
    "    S=0\n",
    "    for k in range(1,n+1):\n",
    "        S=S+k**3\n",
    "    return S\n",
    "    "
   ]
  },
  {
   "cell_type": "code",
   "execution_count": 11,
   "metadata": {},
   "outputs": [
    {
     "data": {
      "text/plain": [
       "36"
      ]
     },
     "execution_count": 11,
     "metadata": {},
     "output_type": "execute_result"
    }
   ],
   "source": [
    "#Tester ici la fonction somme_carres\n",
    "somme_cubes(3)"
   ]
  },
  {
   "cell_type": "markdown",
   "metadata": {},
   "source": [
    "__3.2.a. Activer la cellule ci-dessous.__<br>\n",
    "$\\quad\\quad$__Observer la figure fournie, qui illustre que le calcul de $C_n$ peut se ramener au calcul de l'aire d'un carré.__\n"
   ]
  },
  {
   "cell_type": "code",
   "execution_count": 12,
   "metadata": {},
   "outputs": [
    {
     "data": {
      "text/html": [
       "<html>\n",
       "\t<head>\n",
       "\t\t<!-- Somme des cubes des n premiers entiers naturels -->\n",
       "\t\t<!-- Copyright Franck CHEVRIER www.python-lycee.com -->\n",
       "\t\t<title></title>\n",
       "\t\t<script type=\"text/javascript\" src=\"GeoGebraWeb/web3d/web3d.nocache.js\"></script>\n",
       "\t</head>\n",
       "\t<body>\n",
       "\t\t<center>\n",
       "\t\t\t\t\t\t\n",
       "\t\t\t<div>\n",
       "\t\t\t\t<article class=\"geogebraweb\"\n",
       "\t\t\t\t\n",
       "\t\t\t\t\tdata-param-width=\"1070\" data-param-height=\"700\"\n",
       "\t\t\t\t\tdata-param-ggbBase64=\"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\"\n",
       "\t\t\t\t\tdata-param-enableRightClick=\"false\"\n",
       "\t\t\t\t\tdata-param-enableLabelDrags=\"false\"\n",
       "\t\t\t\t\tdata-param-enableShiftDragZoom=\"false\"\n",
       "\t\t\t\t\tdata-param-showMenuBar=\"false\"\n",
       "\t\t\t\t\tdata-param-showToolBar=\"false\"\n",
       "\t\t\t\t\tdata-param-showAlgebraInput=\"false\"\n",
       "\t\t\t\t\tdata-param-showResetIcon=\"true\"\n",
       "\t\t\t\t\tdata-param-useBrowserForJS=\"true\"> \n",
       "\t\t\t\t\t\t\t\t\n",
       "\t\t\t\t\t\t\t\t\n",
       "\t\t\t\t</article>\n",
       "\t\t\t</div>\n",
       "\t\t</center>\n",
       "\t</body>\n",
       "</html>\n"
      ],
      "text/plain": [
       "<IPython.core.display.HTML object>"
      ]
     },
     "metadata": {},
     "output_type": "display_data"
    }
   ],
   "source": [
    "#Sélectionner cette zone puis SHIFT+ENTREE\n",
    "from IPython.display import display, HTML ; display(HTML('fig_dyn_GeoGebra/Somme_cubes.html'))"
   ]
  },
  {
   "cell_type": "markdown",
   "metadata": {},
   "source": [
    "$\\quad\\;$__b. À l'aide de cette méthode, exprimer $C_{5}$ en fonction de $S_5=1+2+...+5$.__<br>\n",
    "$\\quad\\quad$__En déduire que $C_{5}=\\displaystyle \\frac{5^2\\times(5+1)^2}{4}$ et donner sa valeur.__<br>\n",
    "$\\quad\\quad$__Vérifier ensuite le résultat à l'aide de la fonction <mark>somme_cubes__</mark>.\n",
    "\n",
    "<span style=\"color:red;\">\n",
    "D'après la construction, on a $\\displaystyle C_{5}=(1+2+...+5)^2={S_5}^2=\\left( \\frac{5\\times(5+1)}{2} \\right) ^2 = \\frac{5^2\\times(5+1)^2}{4} = 225$\n",
    "</span>\n"
   ]
  },
  {
   "cell_type": "code",
   "execution_count": 13,
   "metadata": {},
   "outputs": [
    {
     "data": {
      "text/plain": [
       "225"
      ]
     },
     "execution_count": 13,
     "metadata": {},
     "output_type": "execute_result"
    }
   ],
   "source": [
    "#Utiliser cette zone de saisie pour la vérification\n",
    "somme_cubes(5)"
   ]
  },
  {
   "cell_type": "markdown",
   "metadata": {},
   "source": [
    "__3.3. On souhaite maintenant démontrer que $\\displaystyle C_n={S_n}^2=\\frac{n^2(n+1)^2}{4}$ pour tout $n \\in \\mathbb{N}^*$.__<br><br>\n",
    "\n",
    "<BLOCKQUOTE style='background-color:#DDEEEE;'>\n",
    "<strong style=\"color:#004400\">Version 1ère Spé Math</strong><br><br>\n",
    "<br>Pour tout $n \\in \\mathbb{N}^*$, on pose $\\displaystyle w_n=\\frac{n^2(n+1)^2}{4}$.<br>\n",
    "<ul>\n",
    "    <li>Déterminer la valeur de $w_1$ et démontrer que $w_{n+1}=w_n+(n+1)^3$ pour tout $n \\in \\mathbb{N}^*$.</li>\n",
    "    <li>On admet que si deux suites ont le même premier terme et vérifient la même relation de récurrence, alors elles sont égales.<br> Conclure.</li>\n",
    "</ul>                \n",
    "</BLOCKQUOTE>\n",
    "\n",
    "<BLOCKQUOTE style='background-color:#EEDDEE;'>\n",
    "    <strong style=\"color:#330033\">Version Terminale Spé Math</strong><br><br>\n",
    "    Démontrer la formule <strong>par récurrence</strong>.\n",
    "</BLOCKQUOTE>\n",
    "\n",
    "<br>\n",
    "<BLOCKQUOTE style='background-color:#DDEEEE;'>\n",
    "    <span style=\"color:red;\"><strong>Version 1ère Spé Math</strong><br>\n",
    "On a $\\displaystyle w_1=\\frac{1^2\\times(1+1)^2}{4}=1$ et:<br>\n",
    "$\\displaystyle w_n+(n+1)^3=\\frac{n^2(n+1)^2}{4}+(n+1)^3$<br>\n",
    "$\\displaystyle w_n+(n+1)^3=\\frac{n^2(n+1)^2+4(n+1)^3}{4}$ (en réduisant au même dénominateur)<br>\n",
    "$\\displaystyle w_n+(n+1)^3=\\frac{(n+1)^2(n^2+4(n+1))}{4}$ (en factorisant par $(n+1)^2$)<br>\n",
    "$\\displaystyle w_n+(n+1)^3=\\frac{(n+1)^2(n^2+4n+4)}{4}$<br>\n",
    "$\\displaystyle w_n+(n+1)^3=\\frac{(n+1)^2(n+2)^2}{4}$ (en factorisant à l'aide d'une identité remarquable)<br>        \n",
    "$\\displaystyle w_n+(n+1)^3=w_{n+1}$<br>         \n",
    "Au final, les suites $(w_n)_{n\\geq1}$ et $(C_n)_{n\\geq1}$ vérifient la même formule de récurrence et on a $w_1=1=C_1$, donc $\\forall n \\in \\mathbb{N}^*$ on a $\\displaystyle C_n=w_n=\\frac{n^2(n+1)^2}{4}$.\n",
    "</span>\n",
    "</BLOCKQUOTE>\n",
    "\n",
    "<br>\n",
    "<BLOCKQUOTE style='background-color:#EEDDEE;'>\n",
    "    <span style=\"color:red;\"><strong>Version Terminale Spé Math</strong><br>\n",
    "Pour tout $n \\in \\mathbb{N}^*$, on pose $P(n)$ : \"$C_n=\\frac{n^2(n+1)^2}{4}$\".\n",
    "<ul>\n",
    "    <li>$C_1=1$ et $\\displaystyle \\frac{1^2(1+1)^2}{4}=1$ donc $P(1)$ est vraie.</li>\n",
    "    <li>Supposons que $P(n)$ soit vraie pour un $n \\in \\mathbb{N}^*$ quelconque fixé.<br>\n",
    "        Alors :<br>\n",
    "        $C_{n+1}=1^3+2^3+...+n^3+(n+1)^3$<br>\n",
    "        $C_{n+1}=C_n+(n+1)^2$<br>\n",
    "        $\\displaystyle C_{n+1}=\\frac{n^2(n+1)^2}{4}+(n+1)^3$ (par hypothèse de récurrence)<br>\n",
    "        $\\displaystyle C_{n+1}=\\frac{n^2(n+1)^2+4(n+1)^3}{4}$ (en réduisant au même dénominateur)<br>\n",
    "        $\\displaystyle C_{n+1}=\\frac{(n+1)^2(n^2+4(n+1))}{4}$ (en factorisant par $(n+1)^2$)<br>\n",
    "        $\\displaystyle C_{n+1}=\\frac{(n+1)(n^2+4n+4)}{4}$ <br>\n",
    "        $\\displaystyle C_{n+1}=\\frac{(n+1)^2(n+2)^2}{4}$ (en factorisant à l'aide d'une identité remarquable)<br>         \n",
    "        Ceci prouve que $P(n+1)$ est vraie. $P$ est donc héréditaire.</li>\n",
    "    <li>Conclusion :<br>\n",
    "    $P(n)$ est fondée en $n=1$ et héréditaire pour $n\\geq1$,<br>\n",
    "    donc vraie pour tout $n \\in \\mathbb{N}^*$.\n",
    "</ul>\n",
    "</span>\n",
    "</BLOCKQUOTE>\n",
    "\n",
    "\n",
    "    "
   ]
  },
  {
   "cell_type": "markdown",
   "metadata": {},
   "source": [
    "*(C) Copyright Franck CHEVRIER 2019-2021 http://www.python-lycee.com/*\n"
   ]
  }
 ],
 "metadata": {
  "celltoolbar": "Raw Cell Format",
  "kernelspec": {
   "display_name": "Python 3",
   "language": "python",
   "name": "python3"
  },
  "language_info": {
   "codemirror_mode": {
    "name": "ipython",
    "version": 3
   },
   "file_extension": ".py",
   "mimetype": "text/x-python",
   "name": "python",
   "nbconvert_exporter": "python",
   "pygments_lexer": "ipython3",
   "version": "3.7.9"
  }
 },
 "nbformat": 4,
 "nbformat_minor": 2
}
