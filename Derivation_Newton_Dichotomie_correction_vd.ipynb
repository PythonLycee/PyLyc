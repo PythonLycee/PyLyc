{
 "cells": [
  {
   "cell_type": "markdown",
   "metadata": {},
   "source": [
    "![En tête general](https://raw.githubusercontent.com/PythonLycee/PyLyc/master/img/En_tete_general.png)\n",
    "\n",
    "\n",
    "<i>© Copyright Franck CHEVRIER 2019-2021 https://www.python-lycee.com.</i><br>\n",
    "<i>Les activités partagées sur <a href=\"https://capytale2.ac-paris.fr/web/accueil\"><strong>Capytale</strong></a> sont sous licence <a href=\"https://creativecommons.org/licenses/by-sa/3.0/fr/\">Creative Commons</a>.</i>\n",
    "\n",
    "<span style=\"color: #9317B4\"> Pour exécuter une saisie Python, sélectionner la cellule et valider avec </span><span style=\"color: #B317B4\"><strong>SHIFT+Entrée</strong></span>.\n"
   ]
  },
  {
   "cell_type": "markdown",
   "metadata": {},
   "source": [
    "# 1. Dérivation <span style=\"color: red\"> (corrigé)</span> "
   ]
  },
  {
   "cell_type": "markdown",
   "metadata": {},
   "source": [
    "<span style=\"color: #7C39C9\">*But de l’activité : Ecrire des fonctions Python permettant le calcul de taux de variation, de nombres dérivés, du coefficient directeur et de l’ordonnée à l’origine d’une tangente à une courbe.*</span>\n"
   ]
  },
  {
   "cell_type": "markdown",
   "metadata": {},
   "source": [
    "On considère la fonction __$f$__ définie sur $\\mathbb{R}$ par $\\displaystyle f(x)=\\frac{1}{4} x^3+x-3$.\n"
   ]
  },
  {
   "cell_type": "markdown",
   "metadata": {},
   "source": [
    "__1. Ecrire une fonction Python f qui :__\n",
    "* __reçoit en argument une valeur $x$ ;__\n",
    "* __renvoie son image par la fonction $f$.__\n"
   ]
  },
  {
   "cell_type": "code",
   "execution_count": null,
   "metadata": {},
   "outputs": [],
   "source": [
    "def f(x):\n",
    "    return 1/4*x**3+x-3"
   ]
  },
  {
   "cell_type": "code",
   "execution_count": null,
   "metadata": {},
   "outputs": [],
   "source": [
    "f(5)"
   ]
  },
  {
   "cell_type": "markdown",
   "metadata": {},
   "source": [
    "__2. Ecrire une fonction Python coeff_dir qui :__\n",
    "* __reçoit en arguments les coordonnées de deux points $A(x_A;y_A )$ et $B(x_B;y_B )$ (avec $x_A≠x_B$) ;__\n",
    "* __renvoie le coefficient directeur de la droite $(AB)$.__\n"
   ]
  },
  {
   "cell_type": "code",
   "execution_count": null,
   "metadata": {},
   "outputs": [],
   "source": [
    "def coeff_dir(xA,yA,xB,yB):\n",
    "    return (yB-yA)/(xB-xA)\n"
   ]
  },
  {
   "cell_type": "code",
   "execution_count": null,
   "metadata": {},
   "outputs": [],
   "source": [
    "coeff_dir(2,5,3,-2)\n"
   ]
  },
  {
   "cell_type": "markdown",
   "metadata": {},
   "source": [
    "__3. A l’aide de la fonction précédente, écrire une fonction Python taux_variation qui :__\n",
    "* __reçoit en arguments une fonction $f$ et deux valeurs $a$ et $h$ ;__\n",
    "* __renvoie le taux de variation de la fonction $f$ entre $a$ et $a+h$.__\n"
   ]
  },
  {
   "cell_type": "code",
   "execution_count": null,
   "metadata": {},
   "outputs": [],
   "source": [
    "def taux_variation(f,a,h):\n",
    "    return coeff_dir(a,f(a),a+h,f(a+h))\n"
   ]
  },
  {
   "cell_type": "markdown",
   "metadata": {},
   "source": [
    "__4. A l’aide de cette fonction, calculer le taux de variation de $f$ entre $3$ et $3,000001$. Conjecturer la valeur du nombre dérivé $f'(3)$, puis effectuer un calcul pour vérifier.__\n",
    "\n"
   ]
  },
  {
   "cell_type": "code",
   "execution_count": null,
   "metadata": {},
   "outputs": [],
   "source": [
    "taux_variation(f,3,0.000001)"
   ]
  },
  {
   "cell_type": "markdown",
   "metadata": {},
   "source": [
    "__5. L’import « from scipy import misc » permet d’utiliser la fonction misc.derivative qui :__\n",
    "* __reçoit en arguments une fonction $f$ et une valeur $a$;__\n",
    "* __renvoie le nombre dérivé de $f$ en $a$.__\n",
    "\n",
    "__Tester cette fonction pour calculer $f'(3)$.__\n"
   ]
  },
  {
   "cell_type": "code",
   "execution_count": null,
   "metadata": {},
   "outputs": [],
   "source": [
    "from scipy import misc\n",
    "ec=10**-9\n",
    "\n",
    "misc.derivative(f,3,ec)\n"
   ]
  },
  {
   "cell_type": "markdown",
   "metadata": {},
   "source": [
    "__6. Ecrire une fonction Python coeff_tang qui :__\n",
    "* __reçoit en arguments une fonction $f$ et une valeur $a$ ;__\n",
    "* __renvoie le coefficient directeur et l’ordonnée à l’origine de la tangente à $f$ en $a$.__\n"
   ]
  },
  {
   "cell_type": "code",
   "execution_count": null,
   "metadata": {},
   "outputs": [],
   "source": [
    "def coeff_tang(f,a):\n",
    "    derive=misc.derivative(f,a,ec)\n",
    "    return derive , f(a)-derive*a"
   ]
  },
  {
   "cell_type": "markdown",
   "metadata": {},
   "source": [
    "__Tester cette fonction pour déterminer l’équation de la tangente à la courbe de $f$ en $2$.__"
   ]
  },
  {
   "cell_type": "code",
   "execution_count": null,
   "metadata": {},
   "outputs": [],
   "source": [
    "coeff_tang(f,2)"
   ]
  },
  {
   "cell_type": "markdown",
   "metadata": {},
   "source": [
    "__7. La fonction tab_val ci-dessous permet d’obtenir une liste de valeurs de la fonction $f$.__\n",
    "* __Quelle est la valeur initiale de cette liste ? le pas ? le nombre de valeurs obtenues ?__\n",
    "* __Adapter cette fonction pour qu’elle reçoive en argument la valeur initiale $x_0$, le pas $p$ et le nombre de valeurs n.__\n",
    "\n"
   ]
  },
  {
   "cell_type": "code",
   "execution_count": null,
   "metadata": {},
   "outputs": [],
   "source": [
    "#(Tester puis) modifier la fonction\n",
    "def tab_val(f,x0,p,n):\n",
    "    t=[]\n",
    "    x=x0\n",
    "    for k in range(n):\n",
    "        t.append(f(x))\n",
    "        x=x+p\n",
    "    return t"
   ]
  },
  {
   "cell_type": "code",
   "execution_count": null,
   "metadata": {},
   "outputs": [],
   "source": [
    "# Tester la fonction modifiée\n",
    "tab_val(f,3,0.5,10)"
   ]
  },
  {
   "cell_type": "markdown",
   "metadata": {},
   "source": [
    "__8. Ecrire une fonction Python cdir_secantes qui :__\n",
    "* __reçoit en arguments une fonction $f$, une valeur $x_0$, un pas $p$ et un entier $n$.__\n",
    "* __renvoie la liste des $n$ coefficients directeurs des sécantes à la courbe de $f$ à partir de $x_0$ avec un pas en abscisse $p$.__\n",
    "\n"
   ]
  },
  {
   "cell_type": "code",
   "execution_count": null,
   "metadata": {},
   "outputs": [],
   "source": [
    "# Ecrire la fonction\n",
    "def cdir_secantes(f,x_0,p,n):\n",
    "    t=[]\n",
    "    x=x_0\n",
    "    for k in range(n):\n",
    "        x=x+p #Attention: incrément préalable pour éviter une division par 0\n",
    "        t.append(coeff_dir(x_0,f(x_0),x,f(x)))\n",
    "    return t \n",
    "\n",
    "cdir_secantes(f,3,0.5,10)"
   ]
  },
  {
   "cell_type": "markdown",
   "metadata": {},
   "source": [
    "# 2. Méthode de Newton <span style=\"color: red\"> (corrigé)</span> "
   ]
  },
  {
   "cell_type": "markdown",
   "metadata": {},
   "source": [
    "<span style=\"color: #7C39C9\">*Prérequis : Fonctions Python réalisées dans l’activité « Fonctions élémentaires autour de la dérivation »*</span> \n",
    "\n",
    "<span style=\"color: #7C39C9\">*But de l’activité : Approcher la solution d’une équation à l’aide de la méthode de Newton.*</span>\n"
   ]
  },
  {
   "cell_type": "markdown",
   "metadata": {},
   "source": [
    "On considère la fonction __$f$__ définie sur $\\mathbb{R}$ par $\\displaystyle f(x)=\\frac{1}{4} x^3+x-3$."
   ]
  },
  {
   "cell_type": "markdown",
   "metadata": {},
   "source": [
    "__1. Démontrer que $f$ est croissante sur $\\mathbb{R}$.__ \n",
    "__On admettra pour la suite que l’équation $f(x)=0$ a une unique solution sur $\\mathbb{R}$, notée $α$.__\n"
   ]
  },
  {
   "cell_type": "markdown",
   "metadata": {},
   "source": [
    "__2. Justifier que pour toute abscisse $a$, la tangente $T_a$ à la courbe de $f$ en $a$ coupe l’axe des abscisses en un point $P$.__ \n",
    "\n",
    "__Déterminer l’expression de l’abscisse de $P$ en fonction de $a$, $f'(a)$ et $f(a)$.__\n",
    "\n",
    "__Ecrire une fonction Python etap_Newton qui :__\n",
    "* __reçoit en argument une fonction $f$ et une valeur $a$__ ;\n",
    "* __renvoie l’abscisse du point $P$ correspondant.__\n",
    "\n",
    "![Graphiques Méthode Newton](https://raw.githubusercontent.com/PythonLycee/PyLyc/master/img/Derivation_Newton_Dichotomie_1.png)\n"
   ]
  },
  {
   "cell_type": "code",
   "execution_count": null,
   "metadata": {},
   "outputs": [],
   "source": [
    "def etap_Newton(f,a):\n",
    "    return a-f(a)/misc.derivative(f,a,ec)"
   ]
  },
  {
   "cell_type": "code",
   "execution_count": null,
   "metadata": {},
   "outputs": [],
   "source": [
    "# Tester la fonction\n",
    "etap_Newton(f,3)"
   ]
  },
  {
   "cell_type": "markdown",
   "metadata": {},
   "source": [
    "__3. A partir d’un point de l’axe des abscisses, on peut donc construire une suite de points.\n",
    "On admettra ici que la suite des abscisses de ces points a pour limite $α$.__\n",
    "\n",
    "__La fonction Python appl_Newton donnée ci-dessous :__\n",
    "\n",
    "* __reçoit en arguments une fonction $f$, une valeur $a$ et un entier $n$;__\n",
    "* __renvoie une liste de valeurs.__ \n",
    "\n",
    "__Expliquer ce que représentent les termes de la liste renvoyée.__\n",
    "\n"
   ]
  },
  {
   "cell_type": "code",
   "execution_count": null,
   "metadata": {},
   "outputs": [],
   "source": [
    "def appl_Newton(f,a,n):\n",
    "    t=[a]\n",
    "    for k in range(n): \n",
    "        a=etap_Newton(f,a)\n",
    "        t.append(a)     \n",
    "    return t"
   ]
  },
  {
   "cell_type": "markdown",
   "metadata": {},
   "source": [
    "__4. Tester cette fonction appl_Newton pour la fonction $f$ de l’énoncé avec  $a=3$ et $n=10$.__"
   ]
  },
  {
   "cell_type": "code",
   "execution_count": null,
   "metadata": {},
   "outputs": [],
   "source": [
    "appl_Newton(f,3,10)"
   ]
  },
  {
   "cell_type": "markdown",
   "metadata": {},
   "source": [
    "__5. Proposer et coder en Python des fonctions polynomiales $g$ et $h$ à coefficients entiers s’annulant respectivement en $\\sqrt{5}$ et $\\sqrt[3]{7}$.__"
   ]
  },
  {
   "cell_type": "code",
   "execution_count": null,
   "metadata": {},
   "outputs": [],
   "source": [
    "def g(x):\n",
    "    return x**2-5\n",
    "\n",
    "def h(x):\n",
    "    return x**3-7"
   ]
  },
  {
   "cell_type": "markdown",
   "metadata": {},
   "source": [
    "__A l’aide des fonctions Python précédentes, proposer des valeurs approchées de ces deux nombres.__"
   ]
  },
  {
   "cell_type": "code",
   "execution_count": null,
   "metadata": {},
   "outputs": [],
   "source": [
    "# Effectuer les saisies nécessaires\n",
    "appl_Newton(g,3,5) , appl_Newton(h,3,5)"
   ]
  },
  {
   "cell_type": "markdown",
   "metadata": {},
   "source": [
    "# 3. Algorithme de Dichotomie <span style=\"color: red\"> (corrigé)</span> "
   ]
  },
  {
   "cell_type": "markdown",
   "metadata": {},
   "source": [
    "<span style=\"color: #7C39C9\">*Prérequis : Aucun, mais les question 1)a)b) peuvent être supprimées si l’activité « Méthode de Newton » a été traitée.*</span>\n",
    "\n",
    "<span style=\"color: #7C39C9\">*But de l’activité : Approcher la solution d’une équation à l’aide d’un algorithme de dichotomie (méthode plus lente que la méthode de Newton, mais pour laquelle la précision du résultat est connue).*</span>\n"
   ]
  },
  {
   "cell_type": "markdown",
   "metadata": {},
   "source": [
    "On considère la fonction __$f$__ définie sur $\\mathbb{R}$ par $\\displaystyle f(x)=\\frac{1}{4} x^3+x-3$."
   ]
  },
  {
   "cell_type": "markdown",
   "metadata": {},
   "source": [
    "__1. Démontrer que $f$ est croissante sur $\\mathbb{R}$.__ \n",
    "__On admettra pour la suite que l’équation $f(x)=0$ a une unique solution sur $\\mathbb{R}$, notée $α$.__\n",
    "\n",
    "__Ecrire une fonction Python $f$ qui:__\n",
    "* __reçoit en argument une valeur $x$ ;__\n",
    "* __renvoie son image par la fonction $f$.__\n"
   ]
  },
  {
   "cell_type": "code",
   "execution_count": null,
   "metadata": {},
   "outputs": [],
   "source": [
    "def f(x):\n",
    "    return 1/4*x**3+x-3"
   ]
  },
  {
   "cell_type": "markdown",
   "metadata": {},
   "source": [
    "__Déterminer les images de $0$ et $3$ par $f$, et en déduire que $α∈[0;3]$.__\n"
   ]
  },
  {
   "cell_type": "code",
   "execution_count": null,
   "metadata": {},
   "outputs": [],
   "source": [
    "f(0) , f(3)"
   ]
  },
  {
   "cell_type": "markdown",
   "metadata": {},
   "source": [
    "__2. On considère un intervalle $[a;b]$ contenant $α$ et on pose $\\displaystyle m= \\frac{a+b}{2}$.__\n",
    "\n",
    "__Justifier que :  (*)  si $f(a) \\times f(m)<0$ alors $α∈[a;m]$ , et sinon $α∈[m;b]$ .__\n",
    "\n",
    "__En utilisant (*), écrire une fonction Python etap_dichoto qui :__\n",
    "* __reçoit en arguments une fonction $f$ et les bornes $a$ et $b$ d’un intervalle contenant $α$ ;__\n",
    "* __renvoie les bornes $a$ et $b$ d’un nouvel intervalle contenant $α$.__\n",
    "\n",
    "![Graphiques Méthode Newton](https://raw.githubusercontent.com/PythonLycee/PyLyc/master/img/Derivation_Newton_Dichotomie_2.png)"
   ]
  },
  {
   "cell_type": "code",
   "execution_count": null,
   "metadata": {},
   "outputs": [],
   "source": [
    "def etap_dichoto(f,a,b):\n",
    "    m=(a+b)/2\n",
    "    if f(a)*f(m)<0:\n",
    "        return a,m\n",
    "    else:\n",
    "        return m,b"
   ]
  },
  {
   "cell_type": "markdown",
   "metadata": {},
   "source": [
    "__A partir de l’intervalle $[a;b]=[0;3]$, obtenir successivement 3 nouveaux intervalles contenant $α$.__\n"
   ]
  },
  {
   "cell_type": "code",
   "execution_count": null,
   "metadata": {},
   "outputs": [],
   "source": [
    "int1=etap_dichoto(f,0,3)\n",
    "int2=etap_dichoto(f,*int1)\n",
    "int3=etap_dichoto(f,*int2)\n",
    "\n",
    "int1 , int2 , int3"
   ]
  },
  {
   "cell_type": "markdown",
   "metadata": {},
   "source": [
    "__Que peut-on dire de la longueur de chaque intervalle obtenu par rapport à la précédente ?__"
   ]
  },
  {
   "cell_type": "markdown",
   "metadata": {},
   "source": [
    "__3. Ecrire une fonction Python dichoto_iter qui :__\n",
    "* __reçoit en arguments une fonction $f$, les bornes $a$ et $b$ d’un intervalle contenant $α$ et un entier $n$ ;__\n",
    "* __renvoie les bornes d’un nouvel intervalle contenant $α$ obtenu en répétant $n$ fois la fonction précédente.__\n"
   ]
  },
  {
   "cell_type": "code",
   "execution_count": null,
   "metadata": {},
   "outputs": [],
   "source": [
    "def dichoto_iter(f,a,b,n):\n",
    "    for k in range(n):\n",
    "        a,b=etap_dichoto(f,a,b)\n",
    "    return a,b"
   ]
  },
  {
   "cell_type": "markdown",
   "metadata": {},
   "source": [
    "__Tester avec la fonction $f$ de l’énoncé en partant de l’intervalle $[0;3]$ et en répétant $10$ fois la méthode.__"
   ]
  },
  {
   "cell_type": "code",
   "execution_count": null,
   "metadata": {},
   "outputs": [],
   "source": [
    "dichoto_iter(f,0,3,10)"
   ]
  },
  {
   "cell_type": "markdown",
   "metadata": {},
   "source": [
    "__4. Ecrire une fonction Python dichoto_test qui :__\n",
    "* __reçoit en arguments la fonction $f$, les bornes $a$ et $b$ d’un intervalle contenant $α$ et une valeur $h$ ;__\n",
    "* __renvoie les bornes du premier intervalle de longueur inférieure à $h$ obtenu avec la méthode décrite précédemment.__\n"
   ]
  },
  {
   "cell_type": "code",
   "execution_count": null,
   "metadata": {},
   "outputs": [],
   "source": [
    "def dichoto_test(f,a,b,h):\n",
    "    while b-a>h:\n",
    "        a,b=etap_dichoto(f,a,b)\n",
    "    return a,b"
   ]
  },
  {
   "cell_type": "markdown",
   "metadata": {},
   "source": [
    "__Tester avec la fonction $f$ de l’énoncé pour obtenir un encadrement de α à $10^{-5}$ près.__\n"
   ]
  },
  {
   "cell_type": "code",
   "execution_count": null,
   "metadata": {},
   "outputs": [],
   "source": [
    "dichoto_test(f,0,3,10**-5)"
   ]
  },
  {
   "cell_type": "markdown",
   "metadata": {},
   "source": [
    "__5. Proposer et coder en Python des fonctions polynomiales $g$ et $h$ à coefficients entiers s’annulant respectivement en $\\sqrt{5}$ et $\\sqrt[3]{7}$.__"
   ]
  },
  {
   "cell_type": "code",
   "execution_count": null,
   "metadata": {},
   "outputs": [],
   "source": [
    "def g(x):\n",
    "    return x**2-5\n",
    "\n",
    "def h(x):\n",
    "    return x**3-7"
   ]
  },
  {
   "cell_type": "markdown",
   "metadata": {},
   "source": [
    "__A l’aide des fonctions Python précédentes, proposer des encadrements de ces deux nombres à $10^{-7}$ près.__"
   ]
  },
  {
   "cell_type": "code",
   "execution_count": null,
   "metadata": {},
   "outputs": [],
   "source": [
    "dichoto_test(g,0,3,10**-7) , dichoto_test(f,0,3,10**-7)\n"
   ]
  },
  {
   "cell_type": "markdown",
   "metadata": {},
   "source": [
    "<i>© Copyright Franck CHEVRIER 2019-2021 https://www.python-lycee.com.</i><br>\n",
    "<i>Les activités partagées sur <a href=\"https://capytale2.ac-paris.fr/web/accueil\"><strong>Capytale</strong></a> sont sous licence <a href=\"https://creativecommons.org/licenses/by-sa/3.0/fr/\">Creative Commons</a>.</i>"
   ]
  }
 ],
 "metadata": {
  "celltoolbar": "Raw Cell Format",
  "kernelspec": {
   "display_name": "Python 3",
   "language": "python",
   "name": "python3"
  },
  "language_info": {
   "codemirror_mode": {
    "name": "ipython",
    "version": 3
   },
   "file_extension": ".py",
   "mimetype": "text/x-python",
   "name": "python",
   "nbconvert_exporter": "python",
   "pygments_lexer": "ipython3",
   "version": "3.7.10"
  }
 },
 "nbformat": 4,
 "nbformat_minor": 2
}
