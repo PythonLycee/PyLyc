{
 "cells": [
  {
   "cell_type": "markdown",
   "metadata": {},
   "source": [
    "![En tête general](https://raw.githubusercontent.com/PythonLycee/PyLyc/master/img/En_tete_general.png)\n",
    "\n",
    "\n",
    "<i>© Copyright Franck CHEVRIER 2019-2021 https://www.python-lycee.com.</i><br>\n",
    "<i>Les activités partagées sur <a href=\"https://capytale2.ac-paris.fr/web/accueil\"><strong>Capytale</strong></a> sont sous licence <a href=\"https://creativecommons.org/licenses/by-sa/3.0/fr/\">Creative Commons</a>.</i>\n",
    "\n",
    "<span style=\"color: #9317B4\"> Pour exécuter une saisie Python, sélectionner la cellule et valider avec </span><span style=\"color: #B317B4\"><strong>SHIFT+Entrée</strong></span>.\n"
   ]
  },
  {
   "cell_type": "markdown",
   "metadata": {},
   "source": [
    "# <span style=\"color:#6C3483\">Approximation de $\\pi$ par la méthode d'Archimède </span>\n"
   ]
  },
  {
   "cell_type": "markdown",
   "metadata": {},
   "source": [
    "### <span style=\"color:#8E44AD\">Sommaire</span>\n",
    "\n",
    "<span style=\"color:#8E44AD\">1.</span> <a href=\"#1\">Description de la méthode et implémentation en langage Python</a><br>\n",
    "<span style=\"color:#8E44AD\">2.</span> <a href=\"#2\">Complément : Démonstrations des formules</a><br>\n",
    "\n"
   ]
  },
  {
   "cell_type": "markdown",
   "metadata": {},
   "source": [
    "## <span style=\"color:#8E44AD\" id=\"1\">1. Description de la méthode et implémentation en langage Python</span>"
   ]
  },
  {
   "cell_type": "markdown",
   "metadata": {},
   "source": [
    "<BLOCKQUOTE style=\"background-color:Lavender;\">\n",
    "Le but de cette activité est d'obtenir un encadrement de $\\pi$ par la méthode d'Archimède.<br><br>\n",
    "    On considère <strong style=\"color:#FF4D70;\">un cercle $\\mathcal{C}$</strong> de rayon $\\displaystyle \\frac{1}{2}$.<br>\n",
    "$n$ étant un entier supérieur ou égal à $3$, on construit :\n",
    "<ul>\n",
    "    <li>un <strong style=\"color:green;\">polygone régulier à $n$ côtés</strong> tel que le cercle $\\mathcal{C}$ soit circonscrit à ce polygone ;</li>\n",
    "    <li>un <strong style=\"color:BlueViolet;\">polygone régulier à $n$ côtés</strong> tel que le cercle $\\mathcal{C}$ soit inscrit dans ce polygone.</li>\n",
    "</ul>\n",
    "On note respectivement <strong style=\"color:green;\">$u_n$</strong> et <strong style=\"color:BlueViolet;\">$v_n$</strong> les longueurs des côtés de ces polygones, et <strong style=\"color:green;\">$p_n$</strong> et <strong style=\"color:BlueViolet;\">$q_n$</strong> leurs périmètres.\n",
    "<br><br>\n",
    "</BLOCKQUOTE>\n",
    "<strong>Activer la cellule Python ci-dessous pour obtenir une figure dynamique illustrant la situation.</strong>\n"
   ]
  },
  {
   "cell_type": "code",
   "execution_count": null,
   "metadata": {
    "scrolled": false
   },
   "outputs": [],
   "source": [
    "#Sélectionner cette zone puis SHIFT+ENTREE\n",
    "from IPython.display import HTML ; HTML(\"\"\"<iframe scrolling=\"no\" title=\"Archimède\" src=\"https://www.geogebra.org/material/iframe/id/dbvzzhf3/width/929/height/534/border/888888/sfsb/true/smb/false/stb/false/stbh/false/ai/false/asb/false/sri/false/rc/false/ld/false/sdz/false/ctl/false\" width=\"929px\" height=\"534px\" style=\"border:0px;\"> </iframe>\"\"\")"
   ]
  },
  {
   "cell_type": "markdown",
   "metadata": {},
   "source": [
    "<strong>1.1. Déterminer la valeur exacte de la circonférence du cercle $\\mathcal{C}$.</strong>\n"
   ]
  },
  {
   "cell_type": "markdown",
   "metadata": {},
   "source": [
    "<strong>1.2. Démontrer que pour tout $n \\geq 3$ ; $\\displaystyle u_n= \\sin{\\left( \\frac{\\pi}{n} \\right)}$ et $\\displaystyle v_n= \\tan{\\left( \\frac{\\pi}{n} \\right)}$.<br>\n",
    "$\\quad\\;\\;$En déduire que pour tout $n \\geq 3$ ; $\\displaystyle p_n= n \\sin{\\left( \\frac{\\pi}{n} \\right)}$ et $\\displaystyle q_n= n \\tan{\\left( \\frac{\\pi}{n} \\right)}$.</strong>\n"
   ]
  },
  {
   "cell_type": "markdown",
   "metadata": {},
   "source": [
    "<strong>1.3. Calculer les valeurs exactes de $p_3$ et $q_3$.</strong>\n"
   ]
  },
  {
   "cell_type": "markdown",
   "metadata": {},
   "source": [
    "<BLOCKQUOTE style=\"background-color:Lavender;\">\n",
    "<strong>\n",
    "On admet maintenant que :<br>\n",
    "<ul>\n",
    "    <li>$\\forall n \\geq 3$ ; $p_n \\leq \\pi \\leq q_n$</li><br>\n",
    "    <li>$\\displaystyle \\lim\\limits_{n \\to +\\infty}{p_n}=\\lim\\limits_{n \\to +\\infty}{q_n}=\\pi$\n",
    "</ul>\n",
    "</strong>\n",
    "<br>\n",
    "<span style=\"color:#777777;\">Ainsi, les formules de $p_n$ et $q_n$ obtenues en 1.2. permettraient d'encadrer $\\pi$, mais utiliser ces formules pour obtenir cet encadrement manquerait de cohérence puisqu'elles nécessitent elles-mêmes l'utilisation de cette valeur $\\pi$.<br><br>\n",
    "Il faut donc disposer d'une méthode de calculs de termes de ces suites qui ne nécessite pas la connaissance et l'utilisation de la valeur $\\pi$. En particulier, les formules qui suivent établissent un lien entre les périmètres des polygones à $2n$ côtés et les périmètres des polygones à $n$ côtés construits à l'aide de la méthode d'Archimède.</span><br><br>\n",
    "<strong>On admet dans cette partie(*) que les suites $(p_n)_{n \\geq 3}$ et $(q_n)_{n \\geq 3}$ vérifient les formules :\n",
    "<ul>\n",
    "    <li>$\\forall n \\geq 3$ ; $\\displaystyle q_{2n}=\\frac{2 p_n q_n}{p_n+q_n}$\n",
    "    <li>$\\forall n \\geq 3$ ; $p_{2n} = \\sqrt{ p_n q_{2n} }$\n",
    "</ul>\n",
    "    </strong>\n",
    "</BLOCKQUOTE>\n",
    "$\\quad\\quad$<span style=\"font-size: 10px;\">(*) Les démonstrations de ces résultats sont proposées dans  <a href=\"#2\">la partie 2</a>.</span>"
   ]
  },
  {
   "cell_type": "markdown",
   "metadata": {},
   "source": [
    "<strong>1.4. À l'aide de ces formules, calculer les valeurs exactes de $p_6$ et $q_6$, puis en donner des valeurs approchées.<br>\n",
    "$\\quad\\;\\;$Comparer avec les valeurs fournies par la figure dynamique.\n",
    "</strong>\n"
   ]
  },
  {
   "cell_type": "markdown",
   "metadata": {},
   "source": [
    "<strong>1.5.a. Écrire une fonction Python <mark style=\"font-family: Consolas;\">etape_Archimede</mark>:\n",
    "<ul>\n",
    "    <li> qui reçoit en argument deux valeurs <mark style=\"font-family: Consolas;\">p,q</mark> correspondant à des termes $p_n$ et $q_n$ des suites ;</li>\n",
    "    <li> qui renvoie deux valeurs <mark style=\"font-family: Consolas;\">p,q</mark> correspondant aux termes $p_{2n}$ et $q_{2n}$.</li>\n",
    "</ul></strong>\n",
    "$\\quad\\;\\;$Aide : L'import <mark style=\"font-family: Consolas;\">from math import sqrt</mark> permet d'utiliser la fonction Python <mark style=\"font-family: Consolas;\">sqrt</mark> pour calculer une racine carrée."
   ]
  },
  {
   "cell_type": "code",
   "execution_count": null,
   "metadata": {},
   "outputs": [],
   "source": [
    "from math import sqrt # import de la fonction sqrt\n",
    "\n",
    "#Écrire ici la fonction etape_Archimede\n",
    "\n"
   ]
  },
  {
   "cell_type": "markdown",
   "metadata": {},
   "source": [
    "$\\quad$<strong>b. Effectuer des saisies Python pour stocker les valeurs $p_3$ et $q_3$, puis calculer les valeurs $p_6$ et $q_6$ à l'aide de la fonction <mark style=\"font-family: Consolas;\">etape_Archimede</mark>.<br>\n",
    "$\\quad\\;\\;\\;$Comparer avec les résultats de la question 1.4.</strong><br>\n",
    "$\\quad\\;\\;\\;$Aide : On peut utiliser la syntaxe <mark style=\"font-family: Consolas;\">p,q = etape_Archimede(p,q)</mark>."
   ]
  },
  {
   "cell_type": "code",
   "execution_count": null,
   "metadata": {},
   "outputs": [],
   "source": [
    "#Effectuer ici les saisies\n",
    "\n"
   ]
  },
  {
   "cell_type": "code",
   "execution_count": null,
   "metadata": {},
   "outputs": [],
   "source": [
    "\n"
   ]
  },
  {
   "cell_type": "markdown",
   "metadata": {},
   "source": [
    "<strong>1.6.a. Écrire une fonction Python <mark style=\"font-family: Consolas;\">Archimede</mark> :\n",
    "<ul>\n",
    "    <li>qui reçoit en argument une valeur <mark style=\"font-family: Consolas;\">h</mark> strictement positive ;</li>\n",
    "    <li>qui renvoie deux valeurs <mark style=\"font-family: Consolas;\">p,q</mark> (correspondant à des termes des suites $(p_n)_{n \\geq 3}$ et $(q_n)_{n \\geq 3}$) telles que <mark style=\"font-family: Consolas;\">q</mark>$-$<mark style=\"font-family: Consolas;\">p</mark>$<$<mark style=\"font-family: Consolas;\">h</mark>.</li>\n",
    "</ul>\n",
    "</strong>\n",
    "$\\quad\\;\\;$Aide : On utilisera une boucle pour répéter l'appel à la fonction <mark style=\"font-family: Consolas;\">etape_Archimede</mark>."
   ]
  },
  {
   "cell_type": "code",
   "execution_count": null,
   "metadata": {},
   "outputs": [],
   "source": [
    "# Écrire ici la fonction Archimede\n",
    "\n"
   ]
  },
  {
   "cell_type": "markdown",
   "metadata": {},
   "source": [
    "$\\quad$<strong>b. À l'aide d'un appel à la fonction <mark style=\"font-family: Consolas;\">Archimede</mark>, donner un encadrement de $\\pi$ à $10^{-12}$ près.</strong>"
   ]
  },
  {
   "cell_type": "code",
   "execution_count": null,
   "metadata": {},
   "outputs": [],
   "source": [
    "#Effectuer ici un appel à la fonction Archimede\n"
   ]
  },
  {
   "cell_type": "markdown",
   "metadata": {},
   "source": [
    "<br><br>\n",
    "\n",
    "## <span style=\"color:#8E44AD\" id=\"2\">2. Complément : Démonstrations des formules</span>\n",
    "\n",
    "<br>\n",
    "<BLOCKQUOTE style=\"background-color:Lavender;\">\n",
    "<strong>Le but de cette partie est de démontrer que les suites $(p_n)_{n \\geq 3}$ et $(q_n)_{n \\geq 3}$ telles que $\\displaystyle p_n= n \\sin{\\left( \\frac{\\pi}{n} \\right)}$ et $\\displaystyle q_n= n \\tan{\\left( \\frac{\\pi}{n} \\right)}$ vérifient les formules utilisées dans la partie 1, c'est à dire :\n",
    "<ul>\n",
    "    <li>$\\forall n \\geq 3$ ; $\\displaystyle q_{2n}=\\frac{2 p_n q_n}{p_n+q_n}$\n",
    "    <li>$\\forall n \\geq 3$ ; $p_{2n} = \\sqrt{ p_n q_{2n} }$\n",
    "</ul>\n",
    "    </strong>\n",
    "</BLOCKQUOTE>\n"
   ]
  },
  {
   "cell_type": "markdown",
   "metadata": {},
   "source": [
    "<BLOCKQUOTE style=\"background-color:#E5F3FB;\">\n",
    "    <strong>On admettra et on utilisera les formules de duplication suivante :\n",
    "    <ul>\n",
    "        <li>$\\displaystyle \\forall x \\in \\mathbb{R} - \\Big\\{ \\frac{\\pi}{4}+k\\frac{\\pi}{2} \\; ; \\; k\\in \\mathbb{Z} \\Big\\}$ ; $ \\displaystyle \\;\\; \\tan(2x)=\\frac{2\\tan(x)}{1-\\tan^2(x)}$</li>\n",
    "        <li>$\\forall x \\in \\mathbb{R}$ ; $\\displaystyle \\quad\\quad\\quad\\quad\\quad\\quad\\quad\\quad\\quad\\; \\sin(2x)=2\\cos(x)\\sin(x)$</li>\n",
    "    </ul>\n",
    "    On rappelle également que :\n",
    "    <ul>\n",
    "        <li>$\\displaystyle \\forall x \\in \\mathbb{R} - \\Big\\{ \\frac{\\pi}{2}+k\\pi \\; ; \\; k\\in \\mathbb{Z} \\Big\\} $ ; $ \\displaystyle  \\quad \\tan(x)=\\frac{\\sin(x)}{\\cos(x)}$.</li>\n",
    "    </ul>\n",
    "    </strong>\n",
    "    \n",
    "</BLOCKQUOTE>"
   ]
  },
  {
   "cell_type": "markdown",
   "metadata": {},
   "source": [
    "<strong>2.1. Démontrer que $\\displaystyle \\forall x\\in \\mathbb{R} - \\Big\\{ \\frac{\\pi}{2}+k\\pi \\; ; \\; k\\in \\mathbb{Z} \\Big\\}$ ; $\\quad 2\\sin^2 (x) - \\sin (2x) \\tan (x) = 0 $.<br>\n",
    "$\\quad\\;$ En déduire que $p_{2n} = \\sqrt{ p_n q_{2n} }$.\n",
    "</strong> \n"
   ]
  },
  {
   "cell_type": "markdown",
   "metadata": {},
   "source": [
    "<strong>2.2. Démontrer successivement que pour tout $\\displaystyle x\\in \\mathbb{R} - \\Big\\{ \\frac{\\pi}{4} +k\\frac{\\pi}{2} \\; ; \\; k\\in \\mathbb{Z} \\Big\\}$:\n",
    "<ul>\n",
    "    <li>$\\displaystyle \\quad \\sin(2x) \\tan(2x) \\Big( 1-\\tan^2(x) \\Big) = 4\\sin^2(x)$ ;</li>\n",
    "    <li>$\\displaystyle \\quad \\Big( \\sin(2x) + \\tan(2x) \\Big) \\Big( 1-\\tan^2(x) \\Big) = 4\\cos^2(x) \\tan(x)$ ;</li>\n",
    "    <li>$\\displaystyle \\quad \\frac{\\sin(2x)\\tan(2x)}{\\sin(2x)+\\tan(2x)}=\\tan(x)$ </li>    \n",
    "</ul>  \n",
    "$\\;\\;$ En déduire que $\\displaystyle q_{2n}=\\frac{2p_n q_n}{p_n+q_n}$\n",
    "</strong>\n",
    " "
   ]
  },
  {
   "cell_type": "markdown",
   "metadata": {},
   "source": [
    "![Archimède](https://raw.githubusercontent.com/PythonLycee/PyLyc/master/img/archimède.jpg) \n",
    "\n",
    "<center> <a href=\"https://fr.wikipedia.org/wiki/Archim%C3%A8de\">Archimède</a> (env. 287 av. JC - 212 av. JC)</center>"
   ]
  },
  {
   "cell_type": "markdown",
   "metadata": {},
   "source": [
    "<i>© Copyright Franck CHEVRIER 2019-2021 https://www.python-lycee.com.</i><br>\n",
    "<i>Les activités partagées sur <a href=\"https://capytale2.ac-paris.fr/web/accueil\"><strong>Capytale</strong></a> sont sous licence <a href=\"https://creativecommons.org/licenses/by-sa/3.0/fr/\">Creative Commons</a>.</i>\n"
   ]
  }
 ],
 "metadata": {
  "celltoolbar": "Raw Cell Format",
  "kernelspec": {
   "display_name": "Python 3",
   "language": "python",
   "name": "python3"
  },
  "language_info": {
   "codemirror_mode": {
    "name": "ipython",
    "version": 3
   },
   "file_extension": ".py",
   "mimetype": "text/x-python",
   "name": "python",
   "nbconvert_exporter": "python",
   "pygments_lexer": "ipython3",
   "version": "3.8.5"
  }
 },
 "nbformat": 4,
 "nbformat_minor": 2
}
