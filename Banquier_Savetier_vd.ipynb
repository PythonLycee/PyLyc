{
 "cells": [
  {
   "cell_type": "markdown",
   "metadata": {},
   "source": [
    "![En tête general](https://raw.githubusercontent.com/PythonLycee/PyLyc/master/img/En_tete_general.png)\n",
    "\n",
    "\n",
    "<i>© Copyright Franck CHEVRIER 2019-2021 https://www.python-lycee.com.</i><br>\n",
    "<i>Les activités partagées sur <a href=\"https://capytale2.ac-paris.fr/web/accueil\"><strong>Capytale</strong></a> sont sous licence <a href=\"https://creativecommons.org/licenses/by-sa/3.0/fr/\">Creative Commons</a>.</i>\n",
    "\n",
    "<span style=\"color: #9317B4\"> Pour exécuter une saisie Python, sélectionner la cellule et valider avec </span><span style=\"color: #B317B4\"><strong>SHIFT+Entrée</strong></span>.\n"
   ]
  },
  {
   "cell_type": "markdown",
   "metadata": {},
   "source": [
    "# Le Banquier et le Savetier"
   ]
  },
  {
   "cell_type": "markdown",
   "metadata": {},
   "source": [
    "![Illustration Banquier Savetier](https://raw.githubusercontent.com/PythonLycee/PyLyc/master/img/Banquier_Savetier.png)\n",
    "\n",
    "Le banquier, M Malin, rencontre le savetier, M Circonspect.\n",
    "\n",
    "M Circonspect lui propose un marché :\n",
    "« Ce mois ci, qui compte 31 jours, je te propose le marché suivant :\n",
    "Je te verse :\t20 000 € le 0ème jour (aujourd’hui), \n",
    "\t\t30 000 € le 1er jour, \n",
    "\t\t40 000 € le 2ème jour\n",
    "\t\t… etc… en ajoutant 10 000€ chaque jour.\n",
    "En échange, tu me donnes :\n",
    "\t\t1 € le 0ème jour, \n",
    "\t\t2 € le 1er jour, \n",
    "\t\t4 € le 2ème jour, \n",
    "\t\t8 € le 3ème jour,\n",
    "\t\t… etc… en doublant à chaque fois ce que tu m’as donné la veille. \n",
    "L’engagement dure sur un mois, es-tu prêt à signer le contrat ? ».\n",
    "\n",
    "« Quel imbécile ! » se dit M Malin, qui accepta sans sourciller le contrat.\n"
   ]
  },
  {
   "cell_type": "markdown",
   "metadata": {},
   "source": [
    "__1. Expliquer ce que renvoient les fonctions ci-dessous.__"
   ]
  },
  {
   "cell_type": "code",
   "execution_count": null,
   "metadata": {},
   "outputs": [],
   "source": [
    "def C(n):\n",
    "    a=20000\n",
    "    for k in range(n):\n",
    "        a = a+10000\n",
    "    return a\n",
    "\n",
    "def cherche():\n",
    "    n=0\n",
    "    while C(n)<150000:\n",
    "        n=n+1\n",
    "    return n"
   ]
  },
  {
   "cell_type": "code",
   "execution_count": null,
   "metadata": {
    "scrolled": false
   },
   "outputs": [],
   "source": [
    "# Tester ici les fonctions C(n) et cherche().\n"
   ]
  },
  {
   "cell_type": "markdown",
   "metadata": {},
   "source": [
    "__2- Écrire une fonction M donnant la somme versée par M Malin le n ème jour.__"
   ]
  },
  {
   "cell_type": "code",
   "execution_count": null,
   "metadata": {},
   "outputs": [],
   "source": [
    "# Ecrire la fonction\n"
   ]
  },
  {
   "cell_type": "code",
   "execution_count": null,
   "metadata": {},
   "outputs": [],
   "source": [
    "# Tester la fonction\n"
   ]
  },
  {
   "cell_type": "markdown",
   "metadata": {},
   "source": [
    "__3- Écrire une fonction donnant le jour à partir duquel M Malin verse plus que M Circonspect.__"
   ]
  },
  {
   "cell_type": "code",
   "execution_count": null,
   "metadata": {},
   "outputs": [],
   "source": [
    "# Ecrire la fonction\n"
   ]
  },
  {
   "cell_type": "code",
   "execution_count": null,
   "metadata": {},
   "outputs": [],
   "source": [
    "# Tester la fonction\n"
   ]
  },
  {
   "cell_type": "markdown",
   "metadata": {},
   "source": [
    "__4- Écrire une fonction donnant la somme versée en tout par M Circonspect le n ème jour.__"
   ]
  },
  {
   "cell_type": "code",
   "execution_count": null,
   "metadata": {},
   "outputs": [],
   "source": [
    "# Ecrire la fonction\n"
   ]
  },
  {
   "cell_type": "code",
   "execution_count": null,
   "metadata": {},
   "outputs": [],
   "source": [
    "# Tester la fonction\n"
   ]
  },
  {
   "cell_type": "markdown",
   "metadata": {},
   "source": [
    "*__Répondre aux questions 5,6,7 en utilisant/modifiant les fonctions précédentes.__*\n",
    "\n",
    "\n",
    "&nbsp;\n",
    "__5- Déterminer le premier jour au bout duquel M Circonspect versera plus de 125000 €.__\n",
    "\n",
    "\n",
    "&nbsp;\n",
    "__6- Déterminer le premier jour au bout duquel M Malin versera plus de 180000 €.__\n",
    "\n",
    "\n",
    "&nbsp;\n",
    "__7- Déterminer la somme versée en tout par M Malin le 15 ème jour.__"
   ]
  },
  {
   "cell_type": "code",
   "execution_count": null,
   "metadata": {},
   "outputs": [],
   "source": [
    "# Effectuer les saisies nécessaires\n"
   ]
  },
  {
   "cell_type": "markdown",
   "metadata": {},
   "source": [
    "__8- Expliquer ce que renverra la fonction ci-dessous, appelée avec les arguments C ou M.__"
   ]
  },
  {
   "cell_type": "code",
   "execution_count": null,
   "metadata": {},
   "outputs": [],
   "source": [
    "def val(Pers):\n",
    "    L=[]\n",
    "    for n in range(31):\n",
    "        L.append(Pers(n))\n",
    "    return L"
   ]
  },
  {
   "cell_type": "code",
   "execution_count": null,
   "metadata": {},
   "outputs": [],
   "source": [
    "# Tester la fonction val avec C puis M comme argument\n"
   ]
  },
  {
   "cell_type": "markdown",
   "metadata": {},
   "source": [
    "__9- Ecrire une fonction qui reçoit une liste de valeurs et renvoie la somme de ces valeurs. Calculer la somme totale versée par M Malin.__"
   ]
  },
  {
   "cell_type": "code",
   "execution_count": null,
   "metadata": {},
   "outputs": [],
   "source": [
    "## Ecrire la fonction\n"
   ]
  },
  {
   "cell_type": "code",
   "execution_count": null,
   "metadata": {},
   "outputs": [],
   "source": [
    "# Tester la fonction\n"
   ]
  },
  {
   "cell_type": "markdown",
   "metadata": {},
   "source": [
    "<i>© Copyright Franck CHEVRIER 2019-2021 https://www.python-lycee.com.</i><br>\n",
    "<i>Les activités partagées sur <a href=\"https://capytale2.ac-paris.fr/web/accueil\"><strong>Capytale</strong></a> sont sous licence <a href=\"https://creativecommons.org/licenses/by-sa/3.0/fr/\">Creative Commons</a>.</i>"
   ]
  }
 ],
 "metadata": {
  "celltoolbar": "Raw Cell Format",
  "kernelspec": {
   "display_name": "Python 3",
   "language": "python",
   "name": "python3"
  },
  "language_info": {
   "codemirror_mode": {
    "name": "ipython",
    "version": 3
   },
   "file_extension": ".py",
   "mimetype": "text/x-python",
   "name": "python",
   "nbconvert_exporter": "python",
   "pygments_lexer": "ipython3",
   "version": "3.7.10"
  }
 },
 "nbformat": 4,
 "nbformat_minor": 2
}
