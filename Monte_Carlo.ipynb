{
 "cells": [
  {
   "cell_type": "markdown",
   "metadata": {},
   "source": [
    "![En tête general](img/En_tete_general.png)\n",
    "\n",
    "\n",
    "*(C) Copyright Franck CHEVRIER 2019-2020 http://www.python-lycee.com/*\n",
    "\n",
    "<span style=\"color: #9317B4\"> Pour exécuter une saisie Python, sélectionner la cellule et valider avec </span><span style=\"color: #B317B4\"><strong>SHIFT+Entrée</strong></span>.\n"
   ]
  },
  {
   "cell_type": "markdown",
   "metadata": {},
   "source": [
    "# Méthode de Monte Carlo"
   ]
  },
  {
   "cell_type": "markdown",
   "metadata": {},
   "source": [
    "Dans un repère orthonormé, on considère les surfaces $C$ et $P$ définies respectivement par :\n",
    "\n",
    "$ C=\\left\\{  \\;M(x;y) \\; /  \\; 0 \\leqslant x \\leqslant 1  \\;; \\; 0 \\leqslant y \\leqslant 1  \\; \\right\\} $\n",
    "\n",
    "$ P=\\left\\{  \\;M(x;y) \\; /  \\; 0 \\leqslant x \\leqslant 1  \\;; \\; 0 \\leqslant y \\leqslant x^2  \\; \\right\\} $\n"
   ]
  },
  {
   "cell_type": "markdown",
   "metadata": {},
   "source": [
    "__1. Identifier ces deux surfaces et les représenter dans le repère fourni.__\n",
    "\n",
    "![Repère à compléter](img/Monte_Carlo_repere.png)\n",
    "\n",
    "__Déterminer l’aire de $C$.__"
   ]
  },
  {
   "cell_type": "markdown",
   "metadata": {},
   "source": [
    "<span style=\"color: #7C39C9\">*Le but de l’activité est de déterminer des valeurs approchées de l’aire de la surface $P$ à l’aide d’une méthode probabiliste.*</span>\n",
    "\n",
    "<span style=\"color: #7C39C9\">*On admet que lorsqu’on tire aléatoirement un point dans $C$, la probabilité qu’il soit dans $P$ vaut $\\displaystyle \\frac{Aire(P)}{Aire(C)} $.*</span> \n",
    "\n",
    "<span style=\"color: #7C39C9\">*Ainsi, lorsqu’on tire aléatoirement plusieurs points dans $C$, la fréquence de ces points qui sont dans $P$ fournit une valeur approchée de $\\displaystyle \\frac{Aire(P)}{Aire(C)} $, d’autant plus précise que le nombre de points est grand.*</span>\n",
    "\n",
    "<span style=\"color: #7C39C9\"><strong> Pour une présentation de la méthode, voir la vidéo suivante.</strong></span>\n",
    "\n",
    "<video controls src=\"video/Monte_Carlo.mp4\" width=\"960\" height=\"540\" />"
   ]
  },
  {
   "cell_type": "markdown",
   "metadata": {},
   "source": [
    "__2. Tester puis modifier la fonction MonteCarlo donnée ci-dessous pour qu’elle reçoive un entier $n$ en argument et place $n$ points aléatoires de $C$ sur le graphique.__\n"
   ]
  },
  {
   "cell_type": "code",
   "execution_count": 3,
   "metadata": {},
   "outputs": [],
   "source": [
    "# Modifier la fonction\n",
    "\n",
    "from random import random          # import de la fonction pour gérer l'aléatoire\n",
    "import matplotlib.pyplot as plt    # import des fonctionnalités graphiques\n",
    "\n",
    "def MonteCarlo(n):\n",
    "    \n",
    "    # répétition n fois\n",
    "    for k in range(n):\n",
    "        # generation de coordonnees aleatoires entre 0 et 1 pour un point M dans C\n",
    "        x,y=random(),random()    \n",
    "        # placement du point M dans le repere (en bleu)\n",
    "        plt.scatter(x,y,color='blue')     \n",
    "    \n",
    "    # reglage des bornes des axes du repere\n",
    "    plt.axis([0,1,0,1]) \n",
    "    # ouverture de la fenetre graphique et affichage\n",
    "    plt.show() \n",
    "    \n",
    "    return None"
   ]
  },
  {
   "cell_type": "code",
   "execution_count": 5,
   "metadata": {},
   "outputs": [
    {
     "data": {
      "image/png": "[encoded data removed]",
      "text/plain": [
       "<Figure size 432x288 with 1 Axes>"
      ]
     },
     "metadata": {
      "needs_background": "light"
     },
     "output_type": "display_data"
    }
   ],
   "source": [
    "# Tester la fonction\n",
    "MonteCarlo(20)"
   ]
  },
  {
   "cell_type": "markdown",
   "metadata": {},
   "source": [
    "__3. Créer une fonction dans_P qui reçoit en argument les coordonnées $(x;y)$ d’un point de $C$ et renvoie True si ce point appartient à $P$ et False sinon.__\n",
    "\t"
   ]
  },
  {
   "cell_type": "code",
   "execution_count": 6,
   "metadata": {},
   "outputs": [],
   "source": [
    "# Ecrire la fonction\n",
    "def dans_P(x,y):\n",
    "    return y<=x**2"
   ]
  },
  {
   "cell_type": "markdown",
   "metadata": {},
   "source": [
    "__4. Modifier la fonction MonteCarlo pour qu’elle place les points appartenant à $P$ en rouge et les autres en bleu.__<br>\n",
    "$\\;\\;\\;$__On utilisera la fonction dans_P pour le test.__\n",
    "\n",
    "<BLOCKQUOTE style=\"background-color:#EAD3DB; color:#C30145;\">\n",
    "    <strong>Remarque :</strong><br> En cas de problème de perception des couleurs, on pourra remplacer la désignation des couleurs 'blue' et 'red' (rouge et bleu) par 'silver' et 'black' (gris argenté et noir).\n",
    "</BLOCKQUOTE>"
   ]
  },
  {
   "cell_type": "code",
   "execution_count": 7,
   "metadata": {},
   "outputs": [
    {
     "data": {
      "image/png": "[encoded data removed]",
      "text/plain": [
       "<Figure size 432x288 with 1 Axes>"
      ]
     },
     "metadata": {
      "needs_background": "light"
     },
     "output_type": "display_data"
    }
   ],
   "source": [
    "# Modifier la fonction précédente et tester ici\n",
    "def MonteCarlo_2(n):\n",
    "       \n",
    "    for k in range(n):\n",
    "        # generation de coordonnees aleatoires entre 0 et 1 pour un point M dans C\n",
    "        x,y=random(),random()    \n",
    "        \n",
    "        if dans_P(x,y):\n",
    "            # placement du point M dans le repere (en rouge)\n",
    "            plt.scatter(x,y,color='red')     \n",
    "            \n",
    "        else:\n",
    "            # placement du point M dans le repere (en bleu)\n",
    "            plt.scatter(x,y,color='blue')      \n",
    "\n",
    "    # reglage des bornes des axes du repere\n",
    "    plt.axis([0,1,0,1]) \n",
    "    # ouverture de la fenetre graphique et affichage\n",
    "    plt.show() \n",
    "    \n",
    "    return None\n",
    "\n",
    "MonteCarlo_2(250)"
   ]
  },
  {
   "cell_type": "markdown",
   "metadata": {},
   "source": [
    "__5. Modifier la fonction MonteCarlo pour :__\n",
    "* __qu’elle compte le nombre de points placés qui sont dans $P$ ;__\n",
    "* __qu’elle calcule la fréquence $f$ de ces points ;__\n",
    "* __qu’elle renvoie cette fréquence $f$.__\n",
    "\n",
    "\n",
    "<span style=\"color: #888888\">*On pourra également faire apparaître cette fréquence dans la fenêtre à l’aide de l’instruction suivante :* plt.text(0,-0.1,\"Fréquence des points dans P: \"+str(f))*.*</span>\n"
   ]
  },
  {
   "cell_type": "code",
   "execution_count": 8,
   "metadata": {},
   "outputs": [],
   "source": [
    "# Modifier la fonction précédente et tester ici\n",
    "def MonteCarlo_3(n):\n",
    "    \n",
    "    # initialisation du compteur de points dans P\n",
    "    compteur=0\n",
    "    \n",
    "    for k in range(n):\n",
    "        # generation de coordonnees aleatoires entre 0 et 1 pour un point M dans C\n",
    "        x,y=random(),random()    \n",
    "        \n",
    "        if dans_P(x,y):\n",
    "            # placement du point M dans le repere (en rouge)\n",
    "            plt.scatter(x,y,color='red')     \n",
    "            # incrementation du compteur\n",
    "            compteur = compteur+1\n",
    "        else:\n",
    "            # placement du point M dans le repere (en bleu)\n",
    "            plt.scatter(x,y,color='blue') \n",
    "        \n",
    "    # calcul de la fréquence de points dans P\n",
    "    f=compteur/n\n",
    "    # affichage de la frequence dans la fenetre       \n",
    "    plt.text(0,-0.2,\"Fréquence des points dans C: \"+str(f))\n",
    "    \n",
    "    # reglage des bornes des axes du repere\n",
    "    #\n",
    "    plt.axis('equal')\n",
    "    plt.axis([0,1,0,1]) \n",
    "    # ouverture de la fenetre graphique et affichage\n",
    "    plt.show() \n",
    "        \n",
    "    return f"
   ]
  },
  {
   "cell_type": "markdown",
   "metadata": {},
   "source": [
    "__6. En appelant la fonction MonteCarlo avec $n=100$ ; $n=1000$ ; $n=10000$ … donner des approximations de l’aire de la surface $P$.__"
   ]
  },
  {
   "cell_type": "code",
   "execution_count": 9,
   "metadata": {},
   "outputs": [
    {
     "data": {
      "image/png": "[encoded data removed]",
      "text/plain": [
       "<Figure size 432x288 with 1 Axes>"
      ]
     },
     "metadata": {
      "needs_background": "light"
     },
     "output_type": "display_data"
    },
    {
     "data": {
      "text/plain": [
       "0.32"
      ]
     },
     "execution_count": 9,
     "metadata": {},
     "output_type": "execute_result"
    }
   ],
   "source": [
    "# Modifier la fonction précédente et tester ici\n",
    "MonteCarlo_3(25)"
   ]
  },
  {
   "cell_type": "markdown",
   "metadata": {},
   "source": [
    "__7. On considère la surface $ D=\\left\\{  \\;M(x;y) \\; /  \\; 0 \\leqslant x \\leqslant 1  \\;; \\; 0 \\leqslant y \\leqslant 1  \\;; \\; x²+y² \\leqslant 1  \\; \\right\\} $.__\n",
    "\n",
    "__Identifier cette surface $D$, et représenter $C$ et $D$ dans le repère fourni.__\n",
    "\n",
    "![Repère à compléter](img/Monte_Carlo_repere.png)\n",
    "\n",
    "__Déterminer la valeur exacte de l’aire de $D$.__\n",
    "\n"
   ]
  },
  {
   "cell_type": "markdown",
   "metadata": {},
   "source": [
    "__Adapter la méthode vue précédemment pour obtenir des approximations de $\\pi$ par la méthode de Monte-Carlo.__ "
   ]
  },
  {
   "cell_type": "code",
   "execution_count": 11,
   "metadata": {},
   "outputs": [
    {
     "data": {
      "image/png": "[encoded data removed]",
      "text/plain": [
       "<Figure size 432x288 with 1 Axes>"
      ]
     },
     "metadata": {
      "needs_background": "light"
     },
     "output_type": "display_data"
    },
    {
     "data": {
      "text/plain": [
       "0.79"
      ]
     },
     "execution_count": 11,
     "metadata": {},
     "output_type": "execute_result"
    }
   ],
   "source": [
    "# Effectuer les saisies nécessaires\n",
    "def dans_P(x,y):\n",
    "    return x**2+y**2<=1\n",
    "\n",
    "MonteCarlo_3(100)"
   ]
  },
  {
   "cell_type": "markdown",
   "metadata": {},
   "source": [
    "*(C) Copyright Franck CHEVRIER 2019-2020 http://www.python-lycee.com/*\n"
   ]
  }
 ],
 "metadata": {
  "celltoolbar": "Raw Cell Format",
  "kernelspec": {
   "display_name": "Python 3",
   "language": "python",
   "name": "python3"
  },
  "language_info": {
   "codemirror_mode": {
    "name": "ipython",
    "version": 3
   },
   "file_extension": ".py",
   "mimetype": "text/x-python",
   "name": "python",
   "nbconvert_exporter": "python",
   "pygments_lexer": "ipython3",
   "version": "3.8.5"
  }
 },
 "nbformat": 4,
 "nbformat_minor": 2
}
