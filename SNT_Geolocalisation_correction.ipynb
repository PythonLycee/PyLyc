{
 "cells": [
  {
   "cell_type": "markdown",
   "metadata": {},
   "source": [
    "![En tête general](img/En_tete_general.png)\n",
    "\n",
    "\n",
    "*(C) Copyright Franck CHEVRIER 2019-2021 http://www.python-lycee.com/*\n",
    "\n",
    "<span style=\"color: #9317B4\"> Pour exécuter une saisie Python, sélectionner la cellule et valider avec </span><span style=\"color: #B317B4\"><strong>SHIFT+Entrée</strong></span>.\n",
    "\n"
   ]
  },
  {
   "cell_type": "markdown",
   "metadata": {},
   "source": [
    "# Géolocalisation <span style=\"color: red\"> (corrigé)</span>\n"
   ]
  },
  {
   "cell_type": "markdown",
   "metadata": {},
   "source": [
    "### <span style=\"color:#8E44AD\">Sommaire</span>\n",
    "\n",
    "<span style=\"color:#8E44AD\">1.</span> <a href=\"#1\">Principe des coordonnées géographiques</a><br>\n",
    "<span style=\"color:#8E44AD\">2.</span> <a href=\"#2\">Système de géolocalisation par satellite</a><br>"
   ]
  },
  {
   "cell_type": "markdown",
   "metadata": {},
   "source": [
    "## <span style=\"color:#8E44AD\" id=\"1\">1. Principe des coordonnées géographiques</span>\n"
   ]
  },
  {
   "cell_type": "markdown",
   "metadata": {},
   "source": [
    "Activer la cellule Python suivante, pour obtenir une figure dynamique, où le point <strong style=\"color:#FF0000\">M</strong> est mobile."
   ]
  },
  {
   "cell_type": "code",
   "execution_count": 1,
   "metadata": {},
   "outputs": [
    {
     "data": {
      "text/html": [
       "<html>\n",
       "\t<head>\n",
       "\t\t<!-- Geolocalisation1 -->\n",
       "\t\t<!-- Copyright Franck CHEVRIER www.python-lycee.com -->\n",
       "\t\t<title></title>\n",
       "\t\t<script type=\"text/javascript\" src=\"GeoGebraWeb/web3d/web3d.nocache.js\"></script>\n",
       "\t</head>\n",
       "\t<body>\n",
       "\t\t<center>\n",
       "\t\t\t\t\t\t\n",
       "\t\t\t<div>\n",
       "\t\t\t\t<article class=\"geogebraweb\"\n",
       "\t\t\t\t\n",
       "\t\t\t\t\tdata-param-width=\"800\" data-param-height=\"680\"\n",
       "\t\t\t\t\tdata-param-ggbBase64=\"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\"\n",
       "\t\t\t\t\tdata-param-enableRightClick=\"false\"\n",
       "\t\t\t\t\tdata-param-enableLabelDrags=\"false\"\n",
       "\t\t\t\t\tdata-param-enableShiftDragZoom=\"false\"\n",
       "\t\t\t\t\tdata-param-showMenuBar=\"false\"\n",
       "\t\t\t\t\tdata-param-showToolBar=\"true\"\n",
       "\t\t\t\t\tdata-param-showAlgebraInput=\"false\"\n",
       "\t\t\t\t\tdata-param-showResetIcon=\"true\"\n",
       "\t\t\t\t\tdata-param-useBrowserForJS=\"true\"> \n",
       "\t\t\t\t\t\t\t\t\n",
       "\t\t\t\t</article>\n",
       "\t\t\t</div>\n",
       "\t\t</center>\n",
       "\t</body>\n",
       "</html>\n"
      ],
      "text/plain": [
       "<IPython.core.display.HTML object>"
      ]
     },
     "metadata": {},
     "output_type": "display_data"
    }
   ],
   "source": [
    "#Sélectionner cette zone puis SHIFT+ENTREE\n",
    "from IPython.display import display, HTML ; display(HTML('fig_dyn_GeoGebra/Geolocalisation1.html'))"
   ]
  },
  {
   "cell_type": "markdown",
   "metadata": {},
   "source": [
    "La <strong>géolocalisation</strong> d'un point <strong style=\"color:#FF0000\">M</strong> sur Terre se fait à l'aide de deux <strong>coordonnées géographiques</strong> :<br>\n",
    "<ul>\n",
    "    <li>la <strong style=\"color:#339900\">longitude</strong> est l'angle formé par le <strong style=\"color:#0000FF\">méridien</strong> passant par <strong style=\"color:#FF0000\">M</strong> et les deux pôles d'une part et le <strong style=\"color:#339900\">méridien de Greewich</strong> d'autre part, qui est le méridien de référence.<br>On ajoute une indication E ou O pour préciser l'orientation de l'angle (Est ou Ouest).</li><br>\n",
    "    <li>la <strong style=\"color:#FF6699\">latitude</strong> est l'angle formé par le point <strong style=\"color:#FF0000\">M</strong>, le centre <strong style=\"color:#606060\">O</strong> de la Terre et le <strong style=\"color:#FF6600\">plan équatorial</strong>.<br>On ajoute une indication N ou S pour préciser l'hémisphére (Nord ou Sud) ;</li>\n",
    "\n",
    "</ul>"
   ]
  },
  {
   "cell_type": "markdown",
   "metadata": {},
   "source": [
    "<strong>Exercice :</strong><br>\n",
    "Activer la figure dynamique ci-dessous, qui permet de lire les coordonnées sphériques du point rouge mobile. "
   ]
  },
  {
   "cell_type": "code",
   "execution_count": 2,
   "metadata": {},
   "outputs": [
    {
     "data": {
      "text/html": [
       "<html>\n",
       "\t<head>\n",
       "\t\t<!-- Geolocalisation2 -->\n",
       "\t\t<!-- Copyright Franck CHEVRIER www.python-lycee.com -->\n",
       "\t\t<title></title>\n",
       "\t\t<script type=\"text/javascript\" src=\"GeoGebraWeb/web3d/web3d.nocache.js\"></script>\n",
       "\t</head>\n",
       "\t<body>\n",
       "\t\t<center>\n",
       "\t\t\t\t\t\t\n",
       "\t\t\t<div>\n",
       "\t\t\t\t<article class=\"geogebraweb\"\n",
       "\t\t\t\t\n",
       "\t\t\t\t\tdata-param-width=\"800\" data-param-height=\"680\"\n",
       "\t\t\t\t\tdata-param-ggbBase64=\"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\"\n",
       "\t\t\t\t\tdata-param-enableRightClick=\"false\"\n",
       "\t\t\t\t\tdata-param-enableLabelDrags=\"false\"\n",
       "\t\t\t\t\tdata-param-enableShiftDragZoom=\"false\"\n",
       "\t\t\t\t\tdata-param-showMenuBar=\"false\"\n",
       "\t\t\t\t\tdata-param-showToolBar=\"true\"\n",
       "\t\t\t\t\tdata-param-showAlgebraInput=\"false\"\n",
       "\t\t\t\t\tdata-param-showResetIcon=\"true\"\n",
       "\t\t\t\t\tdata-param-useBrowserForJS=\"true\"> \n",
       "\t\t\t\t\t\t\t\t\n",
       "\t\t\t\t</article>\n",
       "\t\t\t</div>\n",
       "\t\t</center>\n",
       "\t</body>\n",
       "</html>\n"
      ],
      "text/plain": [
       "<IPython.core.display.HTML object>"
      ]
     },
     "metadata": {},
     "output_type": "display_data"
    }
   ],
   "source": [
    "#Sélectionner cette zone puis SHIFT+ENTREE\n",
    "from IPython.display import display, HTML ; display(HTML('fig_dyn_GeoGebra/Geolocalisation2.html'))"
   ]
  },
  {
   "cell_type": "markdown",
   "metadata": {},
   "source": [
    "Recopier et compléter le tableau fourni ci-dessous (précision attendue : au degré près).<br>\n",
    "\n",
    "<table style=\"font-size: 14px\">      \n",
    "        <tr style=\"background-color:#EEF7D8; color:#537304;\">    \n",
    "            <td><center><strong>Nom du point</strong></center></td>\n",
    "            <td><center><strong>Ville</strong></center></td>\n",
    "            <td><center><strong>Longitude</strong></center></td>\n",
    "            <td><center><strong>Latitude</strong></center></td>\n",
    "        </tr>\n",
    "        <tr style=\"background-color:#F6FAED; color:#668712;\">\n",
    "            <td><center> </center></td>\n",
    "            <td><center>Greenwich</center></td>\n",
    "            <td><center>0°</center></td>\n",
    "            <td><center>51° N</center></td>\n",
    "        </tr>\n",
    "        <tr style=\"background-color:#F6FAED; color:#668712;\">\n",
    "            <td><center>H</center></td>\n",
    "            <td><center>Jayapura</center></td>\n",
    "            <td><center></center></td>\n",
    "            <td><center></center></td>\n",
    "        </tr>  \n",
    "        <tr style=\"background-color:#F6FAED; color:#668712;\">\n",
    "            <td><center>E</center></td>\n",
    "            <td><center>Los Angeles</center></td>\n",
    "            <td><center></center></td>\n",
    "            <td><center></center></td>\n",
    "        </tr>\n",
    "        <tr style=\"background-color:#F6FAED; color:#668712;\">\n",
    "            <td><center></center></td>\n",
    "            <td><center>Moscou</center></td>\n",
    "            <td><center>38° E</center></td>\n",
    "            <td><center>56° N</center></td>\n",
    "        </tr>\n",
    "        <tr style=\"background-color:#F6FAED; color:#668712;\">\n",
    "            <td><center></center></td>\n",
    "            <td><center>Karachi</center></td>\n",
    "            <td><center>67° E</center></td>\n",
    "            <td><center>25° N</center></td>\n",
    "        </tr>\n",
    "        <tr style=\"background-color:#F6FAED; color:#668712;\">\n",
    "            <td><center></center></td>\n",
    "            <td><center>Rio de Janeiro</center></td>\n",
    "            <td><center>43° O</center></td>\n",
    "            <td><center>23° S</center></td>\n",
    "        </tr>\n",
    "        <tr style=\"background-color:#F6FAED; color:#668712;\">\n",
    "            <td><center></center></td>\n",
    "            <td><center>Washington</center></td>\n",
    "            <td><center>77° O</center></td>\n",
    "            <td><center>39° N</center></td>\n",
    "        </tr>\n",
    "        <tr style=\"background-color:#F6FAED; color:#668712;\">\n",
    "            <td><center>B</center></td>\n",
    "            <td><center>Bamako</center></td>\n",
    "            <td><center></center></td>\n",
    "            <td><center></center></td>\n",
    "        </tr>    \n",
    "</table>\n",
    "\n",
    "<span style=\"color:red\">Tableau corrigé :</span>\n",
    "<table style=\"font-size: 14px\">      \n",
    "        <tr style=\"background-color:#FFDDDD; color:#FF0000;\">    \n",
    "            <td><center><strong>Nom du point</strong></center></td>\n",
    "            <td><center><strong>Ville</strong></center></td>\n",
    "            <td><center><strong>Longitude</strong></center></td>\n",
    "            <td><center><strong>Latitude</strong></center></td>\n",
    "        </tr>\n",
    "        <tr style=\"background-color:#FFEEEE; color:#FF0000;\">\n",
    "            <td><center>A</center></td>\n",
    "            <td><center>Greenwich</center></td>\n",
    "            <td><center>0°</center></td>\n",
    "            <td><center>51° N</center></td>\n",
    "        </tr>\n",
    "        <tr style=\"background-color:#FFEEEE; color:#FF0000;\">\n",
    "            <td><center>H</center></td>\n",
    "            <td><center>Jayapura</center></td>\n",
    "            <td><center>141° E</center></td>\n",
    "            <td><center>3° S</center></td>\n",
    "        </tr>   \n",
    "        <tr style=\"background-color:#FFEEEE; color:#FF0000;\">\n",
    "            <td><center>E</center></td>\n",
    "            <td><center>Los Angeles</center></td>\n",
    "            <td><center>118° O</center></td>\n",
    "            <td><center>34° N</center></td>\n",
    "        </tr>\n",
    "        <tr style=\"background-color:#FFEEEE; color:#FF0000;\">\n",
    "            <td><center>F</center></td>\n",
    "            <td><center>Moscou</center></td>\n",
    "            <td><center>38° E</center></td>\n",
    "            <td><center>56° N</center></td>\n",
    "        </tr>\n",
    "        <tr style=\"background-color:#FFEEEE; color:#FF0000;\">\n",
    "            <td><center>G</center></td>\n",
    "            <td><center>Karachi</center></td>\n",
    "            <td><center>67° E</center></td>\n",
    "            <td><center>25° N</center></td>\n",
    "        </tr>\n",
    "        <tr style=\"background-color:#FFEEEE; color:#FF0000;\">\n",
    "            <td><center>C</center></td>\n",
    "            <td><center>Rio de Janeiro</center></td>\n",
    "            <td><center>43° O</center></td>\n",
    "            <td><center>23° S</center></td>\n",
    "        </tr>\n",
    "        <tr style=\"background-color:#FFEEEE; color:#FF0000;\">\n",
    "            <td><center>D</center></td>\n",
    "            <td><center>Washington</center></td>\n",
    "            <td><center>77° O</center></td>\n",
    "            <td><center>39° N</center></td>\n",
    "        </tr>\n",
    "        <tr style=\"background-color:#FFEEEE; color:#FF0000;\">\n",
    "            <td><center>B</center></td>\n",
    "            <td><center>Bamako</center></td>\n",
    "            <td><center>8° O</center></td>\n",
    "            <td><center>13° N</center></td>\n",
    "        </tr>    \n",
    "</table>"
   ]
  },
  {
   "cell_type": "markdown",
   "metadata": {},
   "source": [
    "## <span style=\"color:#8E44AD\" id=\"2\">2. Système de géolocalisation par satellite</span>"
   ]
  },
  {
   "cell_type": "markdown",
   "metadata": {},
   "source": [
    "<strong>1. Un satellite envoie des ondes radio qui se propagent à la vitesse de $300\\;000\\;km \\cdot s^{-1}=300\\;km\\cdot ms^{-1}$. En mesurant le temps que met une onde pour lui parvenir d'un satellite, un système de géolocalisation est capable de déduire sa distance à ce satellite.</strong><br><br>\n",
    "<strong>Écrire une fonction Python <mark>DistSat</mark> qui reçoit en argument le temps <mark>t</mark> mis par l'onde (exprimé en $ms$) et qui renvoie la distance du satellite (exprimée en km).</strong>"
   ]
  },
  {
   "cell_type": "code",
   "execution_count": 3,
   "metadata": {},
   "outputs": [],
   "source": [
    "#Écrire ici la fonction DistSat\n",
    "\n",
    "def DistSat(t):\n",
    "    \"\"\"\n",
    "    fonction qui reçoit un temps t en ms\n",
    "    et renvoie la distance parcourue (ondes à 300kms-1)\n",
    "    \"\"\"\n",
    "    return 300*t"
   ]
  },
  {
   "cell_type": "markdown",
   "metadata": {},
   "source": [
    "<strong>2. On souhaite géolocaliser un point de la surface terrestre. Pour cela, on dispose des temps mis pour atteindre ce point par des ondes envoyées par 3 satellites. Les données sont consignées dans le tableau ci-dessous.<br></strong>\n",
    "<table style=\"font-size: 14px\">      \n",
    "        <tr style=\"background-color:#EEF7D8; color:#537304;\">    \n",
    "            <td><center><strong>Satellite</strong></center></td>\n",
    "            <td><center><strong>Temps (ms)</strong></center></td>\n",
    "        </tr>\n",
    "        <tr style=\"background-color:#EEF7D8; color:#FF6600;\">    \n",
    "            <td><center><strong>Sat1</strong></center></td>\n",
    "            <td><center><strong>69,9</strong></center></td>\n",
    "        </tr>\n",
    "        <tr style=\"background-color:#EEF7D8; color:#009900;\">    \n",
    "            <td><center><strong>Sat2</strong></center></td>\n",
    "            <td><center><strong>68,1</strong></center></td>\n",
    "        </tr> \n",
    "        <tr style=\"background-color:#EEF7D8; color:#800080;\">    \n",
    "            <td><center><strong>Sat3</strong></center></td>\n",
    "            <td><center><strong>72,3</strong></center></td>\n",
    "        </tr> \n",
    "</table>\n",
    "        \n",
    "<strong>À l'aide de la fonction Python <mark>DistSat</mark>, déterminer les trois distances qui séparent le point cherché de chaque satellite.</strong>"
   ]
  },
  {
   "cell_type": "code",
   "execution_count": 4,
   "metadata": {},
   "outputs": [
    {
     "data": {
      "text/plain": [
       "20970.0"
      ]
     },
     "execution_count": 4,
     "metadata": {},
     "output_type": "execute_result"
    }
   ],
   "source": [
    "# Utiliser ces zones de saisie pour déterminer les distances\n",
    "\n",
    "DistSat(69.9) #distance du satellite 1"
   ]
  },
  {
   "cell_type": "code",
   "execution_count": 5,
   "metadata": {},
   "outputs": [
    {
     "data": {
      "text/plain": [
       "20430.0"
      ]
     },
     "execution_count": 5,
     "metadata": {},
     "output_type": "execute_result"
    }
   ],
   "source": [
    "\n",
    "DistSat(68.1) #distance du satellite 2"
   ]
  },
  {
   "cell_type": "code",
   "execution_count": 6,
   "metadata": {},
   "outputs": [
    {
     "data": {
      "text/plain": [
       "21690.0"
      ]
     },
     "execution_count": 6,
     "metadata": {},
     "output_type": "execute_result"
    }
   ],
   "source": [
    "\n",
    "DistSat(72.3) #distance du satellite 3"
   ]
  },
  {
   "cell_type": "markdown",
   "metadata": {},
   "source": [
    "<strong>3. Activer la cellule Python ci-dessous pour obtenir une figure dynamique.</strong>"
   ]
  },
  {
   "cell_type": "code",
   "execution_count": 7,
   "metadata": {},
   "outputs": [
    {
     "data": {
      "text/html": [
       "<html>\n",
       "\t<head>\n",
       "\t\t<!-- Geolocalisation3 -->\n",
       "\t\t<!-- Copyright Franck CHEVRIER www.python-lycee.com -->\n",
       "\t\t<title></title>\n",
       "\t\t<script type=\"text/javascript\" src=\"GeoGebraWeb/web3d/web3d.nocache.js\"></script>\n",
       "\t</head>\n",
       "\t<body>\n",
       "\t\t<center>\n",
       "\t\t\t\t\t\t\n",
       "\t\t\t<div>\n",
       "\t\t\t\t<article class=\"geogebraweb\"\n",
       "\t\t\t\t\n",
       "\t\t\t\t\tdata-param-width=\"870\" data-param-height=\"800\"\n",
       "\t\t\t\t\tdata-param-ggbBase64=\"UEsDBBQACAgIAAUVg1IAAAAAAAAAAAAAAAAWAAAAZ2VvZ2VicmFfamF2YXNjcmlwdC5qc0srzUsuyczPU0hPT/LP88zLLNHQVKiu5QIAUEsHCEXM3l0aAAAAGAAAAFBLAwQUAAgICAAFFYNSAAAAAAAAAAAAAAAAFwAAAGdlb2dlYnJhX2RlZmF1bHRzMmQueG1s7Zrdc9soEMCfr38Fo6e7h9iSbNluJk4n7czNZSZNby6Zzr1iaS1zwaATKJby1xeBPuOPxo5TO23yELEYEPx2WWDR2Yd0TtE9xIJwNracjm0hYD4PCAvHViKnJyPrw/m7sxB4CJMYoymP51iOLS8vWdVTUsdzdG0cRWPLp1gI4lsooljmVcZWYCGUCnLK+DWeg4iwDzf+DOb4ivtY6lZmUkan3e5iseiU7+vwOOyGoeykQjWg+srE2CoSp6q5VqVFTxd3bdvp/vv5yjR/QpiQmPlgITWOAKY4oVKoJFCYA5NIZhGMrWnC/LwX119xbCGKJ0DHFksotVBRZ2wNPOv83W9nYsYXiE/+A1/lyTiBqrwWunkZ9fMnTnmM4rHl2n0LKZoKzkT/xzSaYZXqDD1TmuIMYnSPaf6zzsGJ5L5uQOdOMRVQllWv+swDML/0i/KMzDVFJCQoBTgWEhFAoFNmhLbWRqYVW7V31i0wLAGhRMhqYFdaqEA4PXuZhGlzMwpbg3DsxyhOctM5MArVHmFwIzMKSM6If8dAKGPzGpXyxF8kCCCfKqZOxAmTN+Sh6IPXzNVN6ewTZzPsiNMs5Kyi93cpV8iHhviWXURczTMiM5UejkzXtrVex+tppXnOkvkqPeo/p//edpyB4x5ahZsB5+xahE1Gjdg5EGJ7jXs4+JRYz7N0l9XIPiXxfRNmr2+v8BE/AEbd6oHdw5JhbLJO5S4apqkk9Ps0Bvij6XR34zkcaqD5QxF1Pe9ABuashupzHgcCpWPrGl9bKCueD+a5hYu1d0AcQARMqUu2ODs7cR6MNOf8MTGP1425vy/MX5rLmFojdlqEXM/sHPLnmxm3+F6yfyAkrc2C03ujvGfKbSvuP3tpe41sdRFDUeT/1TmPzyMK6WH89ODNT6/30853OFPuJ6I+3xmpYjs6zN7tBc92OEkJJTjOlt/0Ytu61oHjqn3YcH86wk8w3ecfreB/1nJARPkfospsVoSAMJcqtjelXKtjt03fr64Onkiav/mSSYgF6COhWBraHUB0q5r6wm5jzEQeD2yf1b5/ztwUlnN32+2sX43dIw7LLR28H8N4/tbkyAx5+6jcenoxzjY5gd3iu0fM7udwAveqTV5P/6+FWMea3tbSXfS2YjuPYwmCYLZZHxLSei291UIjSnWUylg/GJ+z/KKqDGMaqRpO/yhHc8goptqDkRCYmZMCodQurg0z24wQPZQ5qVPkZE6R81AkdDtqADFJ0UVZ76IsfuGWiV6Z6JcJr4Fxt82gVnikLL2xEjxyKP3ddoOv6arklzGEH7A+KQ2EtW1cGqkRTzY+ZEpUBxmeqwrmjYR9xP5dGPOEBUvd2Y/HOYJr1fXYWDKHuOF7r0u5QucZcqobSRk9Kgf0FG+7ZtKtH7mgJFCY5kRZ/ImaCnOc6imBJ4LTRMKNHwOw+oMFo5cFCeQsP9Frw5ySNIdS3IbPeEweOJOVIaFcsRdUf9zQuqxaNRvdzXfPDZU8TxOYhbQ2sAsj1VowMXtd6HEgb7VymhztAuOg4456zsjr2UNn+N4bDZ6I1Rk1sZqfnkx1bx8ovKAH38oPu6v8MI79Oh7Ys/dsHBPOKeD6wPmxlBuXOkvzdJ0ne7oOXnDz5M/Av5vwtGVU2526/6wy6q+DjvO+W49xqegeY57dxjdV3fK7rfNvUEsHCADRoSjsBAAAWSYAAFBLAwQUAAgICAAFFYNSAAAAAAAAAAAAAAAAFwAAAGdlb2dlYnJhX2RlZmF1bHRzM2QueG1s7ZfdbtowFICv26ewfF+wIaGlIq1Qd7FJbbWpN7s1zgG8BTu1TSF9tb3DnmmOY9N0LUxDbNOkcoGPf86x850fJ6PL9aJAD6CNUDLDtEMwAslVLuQsw0s7PTnDlxfHoxmoGUw0Q1OlF8xmOK1XbvRcr5NSr83KMsO8YMYIjlFZMFurZDjHCK2NOJfqli3AlIzDHZ/Dgl0rzqy3Mre2PO92V6tVJ+7XUXrWnc1sZ22cAXdWaTIchHNn7pnSqu+X9wih3c831435EyGNZZIDRu45cpiyZWGNE6GABUiLbFVCht1BJfTdHgWbQJHhj77/DqOgkeG+s4svjo9GZq5WSE2+AHejVi9ho+Q73XqNm75ShdJIZ3g4xMjB7FHXTkLLinLOMuyoNesLVoFGD8wZIc0IW1rFvQk/OmWFgbjWbXajcmhmkmaUK6Vzg9a1UeeGKrSPoV01rV86ZbV7w24dGqwKCXe2KgDZueBfJRhTnyXgCcJ7kedQx0mtM+oGhC9gciUFb8H8IK2LFMfLuRnxpX6ANlea7se1l6YeLO2derCkhZWS5keTIaF0QHuHwsykWPhwRcZCWZNApgTIvbRh5aKp8hnUtvca4HQX4KMRiBnIBwdEaePSh4QMrUj0bhxZ0+h3GkYeg+DtuCNrsUbjqDeOy8e9KPSjkEQhbYUM3Mvm7Kb+d+nCtMtiZ5TvjgS2FqYVCOO6+yypKOnv5XziXU9eOJ78p47ezhcFGdxTf//2i8Src4szbcEIJlvgr+qJn8kP3shvR1mqoppDrpV8uhNaQ08c++Fa2Mftv8uepn1PP6Uv8Ceh4qXDAUkGycHulX29sZ3s/ZLlPrDDo36K/TZTut+VQJIt0Xl6MCB/qo6T7XW8mYqluorCY+9AJR6NB1E4jcJZFIY7rgGxKAvBhd3tcLPUU/e691pdClPPfZ/8K98/Gf4rlYnuV5kk2A2K21pus0vfatHuWtRtfQJ042fGxQ9QSwcIQbzlR+ECAAAIDQAAUEsDBBQACAgIAAUVg1IAAAAAAAAAAAAAAAAMAAAAZ2VvZ2VicmEueG1s7T1rcyPHcZ/tX7GFDynJOfJ23rvynV1nyaU4pVflHCWVVCoFgktycyDAA8AjebF/kL/5Nzh/LLM7Pb3dMwuCIKnTSeaVRAA9Mz3Tj+nX7OPFb6/P58W7ZrVul4uXE3FYTopmMVset4vTl5PLzclBNfntb3754rRZnjZHq2lxslydTzcvJ6brieP8r0Mj+tHTi4uXk9l8ul63s0lxMZ9uuiEvJ8eToj1+OTk5aaaVtebA6tnRgdZ2dlCfiOMDo8RUqKZywslJUVyv288Wy2+m5836YjprXs/OmvPpV8vZdNPPd7bZXHz2/PnV1dVhXNnhcnX6/PT06PB67afyVC3WLyfw5TOPjg26Un13WZbi+b9//VVAf9Au1pvpYtZMio7iy/Y3v/zFi6t2cby8Kq7a483Zy0lt9KQ4a9rTM8+CWvuVPu86XXg+XDSzTfuuWfuh5GdP8+b8YtJ3my669l+Eb8UcyZkUx+279rhZvZx4Pipb1kqLSpq6lEpNiuWqbRYb6FvCnM8jthfv2uYqoO2+9TP6VW6Wy/nRtMNY/OlPhSxlWTzrPkT4kP7D2tBUBlipwocMHzp8mNBHh+E6dNWhjw59tF/ju3bdHs0bL+DpfO052C5OVl56+Hu9uZk3/Xo2q0v/eyBePBO+uX3v+6rSUxc47uFl+az73/r/dQlkExorQqPoaPhTIbrF9x+q6JYt+uV3Hxp+2vDT9R+iBGjV/am7H54ltuq/7EMSAChN6l40CTJr4NMek8o4pbT27lPKBxE6kCnqPch8IHfjpMIQ3pryWf9f/382pdqLzkxH7zGjZZvwgxOsy9o9CsnSqVyyrpvV5LO6ctTyhE8Bnx9cFEZIvqzC6O5v+NNZDi332Hnpksq4JFOaYUnWls+UTjbBi+fRWr+A9RTrs643zLlpztc9wovlukWCz5r5Ba6jR9MuLi43bOjs/Dh+3Sx97+m8d4vQ/3g5e/O7ZLJmut7E776T9yiD3woehrm1X7yYT4+auQ8MXnecKIp303m31B7/yXKxKaJgqkmPrvegL5rL2bw9bqeL7z3h0V19c3l+1KyK/uuyI7FH0g0v0NVKN7haqerQZbZcro5f36w9n4rr/2hWfrDs4g76zxuXm9CkRHlYk39VZ65m007GumYtddWN2tYW5m7evW42G0//upheN2sUyOmqD2yGH39Y/245H0AXy3ax+Xx6sblc9VGVX8SqI+vV4nTe9LzshexjkNmbo+X1a7DhAdcfby466xpWcHT6+XK+XBVeB6XxqnYKn0fhs+/TLQ17lX2fsu8BkuqQYruoZd+j/zwKn30vL+awNCBVRDLLOEu7LsJv0KlotDod6SKay0W7+Sr+2LSzNwOl3YCgAWvQP45TPBbOF88T7buTNspbVK0Pe1G7+l+gNKbsm+ivca0JG+5JaQZD9Kg680CUucqAIY0Kc748boLpA/5OL6/beTtd3dAF9JjYyBdvmtWimXcjLtfNWn0RkAykzLwJbReXy8t1aAmK8BwGfDfdnL1aHP9Lc+qdwnfTzjNt/MJTJMfNrD33A5lxnnY686+eEQF63Jyumsi/sMQgNRhTrC9WzfR4fdY0G8QRdgPt1pMYiXqxmXrX2Tvc89Y7rQPZ7Ybz6bVXsn6TbJqLkF52w9azVXvR7YniyHvRN82g9sftukN0TMjne1Z9sWVv+hn99lS1KFVZCVHrCjeqdwI+A6iMtqWqjJLSC/89jBKHHmR99umhylRVF8bCHhamOqys1H6AlEoar+3X/fbzorcdUe/jr9Ic1k4IWSnhSqv1B/EX2Ub/adhkglM+Hs6uztAwbHe2fV65Li46XfS7bAj26LogDoaZVsv/6WKi5aLY9NwvR8xGp6Xdhl77FULfdtNRMCmml5uz5arP+f2S/Wen4dd+x627UkrkwZerZbOYTxfHX7Veyb/rNGLtI7Zrv4n+9xPx6+KTg0+0Oqz+9tdPP/11YctD6b89K2JLeWihxfTfsEUJgFd8hJSHOrS4ksGrQwNw0c82tOAcTvV9hhZ1CLM4e+hoi6gQXrMRIlLiHJ/Fh3Z1aKlEv8KhZYAzCiXQUZUJ3G90aJH9+gaeyLhej8uNr8uP4dgMrkvxdSndcza0MGza9b9HsGlNqGT0+zDC4BjDW8bXbHSUix+haIsVUcbpLHbgjeC8sYq0MI2x7nDgNJ9HI9eYLjmJGlNxnlkbOeMcb3ECdcklI+qoSwyO/OJwYxBPokdm0ONEYzwn3ZaWMnLF1gm2YU+6RPrDXmW6n+3iPwefN2/OG59SBRMz90Zgcqtp6NMnb7OK5VFnnVKTCr+adz4yDWbM90sCPlHGkK+Yzi/Opp3fBOc/n9508TEJKXq8X2MohIGGDz56cwf+voslmia4j2gtu5rwTe/YiKFee4J7Q/lqPl9eNcdZCDTElpsz7xAW3lx2tAxYuy//1B4fNwvMJ3tH2kXGAZuh0CGSORBgwAPLe8N9fu75Wyz69P8Piy7Q8qubDIn3tHw5ef/K+zHPK/Fyct1/DXy93MQO3wa8gC0Tar8OdYwy+naXECFrH5ehrXohdh9H4eO+Qtwpij74WhfXAXdxA5/v4fMK47xMAvp2Tr++OGtWTcLmbwOLRcbe6e3sfXs5PV51RxDAvWnOXpYq3L5FRBlyHllqjB4ih8W+HD5pryNbhwjmB9kBTXvaLN55vEufKhTXJZzw3JRRZvHLtYjSFNDnfYRcy9gUv7yXhGi/4VftdfEq4n4VEbyS8Yvq4+zumwYMr0z8YuMX5zuFbxV+q+FboOXtIpC/DsFgV5pqT7yEE53Kg6nfv7380mc8i3+DCKozvd419X8+ndDtOGJ70206IHuQzXWu16fuI1Gnj8nqDltd7NrqJEFEAfnt3Ppcars13m4LPm9Xs3lqC24GkzuIIbULX//fX3xm1DaLvv2q3czObrcUPk5vZ0TCYwgeJGsjgoM1ak8H++3JybrZdOz3TqrjvhUPstyjJkQ+3ISIaEIOchtyN0NxgJaijIbiAC3FdhtwEQohq9wK3EGb3t9Fm3yLT9MuV/upEI56kN7ElLV3PvdUHBEU50C4x9cc9XegOd8t5zdfeeIT3RkNwlPdwU67AsH5Tcdfoj/DyHswv1heTGftxktdODi6uHfYIytWDL53yAN1xjDr9/zw7/lvdirg7f791bn3M28vm2+8B9peL3ExK6XpV4VJubA8yfMtkMjLpMRQY8omkjJK7WIyKS1PDGsVE1NZ8wSw0jE19S18BZDiS8NxVZgUq2RlzmKL5Ym8b4GUVdU8XffJLVCjBS8x2DpSo3WS/GOKr02S/BtsScofkN52LTYpP5jIG+22tiSJtsMUXLusmABjTFIWG1aQthjQAZMUOUwVywzaJSWALbMbpN+ohDNYaDCJPD03DZYAuAQc0pJomlOx/GJlwhks2WUtFteWakeN8+hEo1AHTFIaqrBkaNiaa4m4Et7UgqyM7wHUQauSPYDlLJusuRKkCMNbDI6puQ5WDoszfGWx+Ml3M+qYU0lZskQiHRNybaOK8TqqKEuUV7JaURockxAvxLCCpPwnpMDqlE6bDDYJzmchVJzLVglJEi2hK5NSq7JkFEdoLJmLsUJYNEbZXEOZDnYracKqm01MqLC4QrALpAkNhU0UWFixrcEQdRTJGLLveAnboIn3TcmoYQ/xhWPtLzEvQmFZMt3fQqpIrE6r6EOBXaWjwCEF18CbyjraMilTrdBkFGdSaaLeykQrahSvMOkuiywSiQ2sSizbcgFS37yzALrN3T+kfPZTKIEOB81J6ejHq41uiY63SSgNkGm/vWNkNvjjDJMfu/Z6tzD49eVtUTAGAcwkO/SmIjk2cnhsJJKjC4sHOiKxDQbtp+JDfOAVjUY2ApZ1wIzqcGjmf0AERQ7b0KZ1PwJq0moiTd0EgQrWKrG1TtoqMlJkiDWS90l/dKqS5ioSGU4K09EVWbSsUpqMpjTBDxaSDnMryERIs40y6Zodb/QCG0hWVYraSoJaJ6u2pKk8TBFTTmudkjSEsV2zTSUxOOIg8LS5Juw02bJoYzazo5IyKqXYacKQKDZ6Yklovm0kRFUsPCectiPL0lQFEna6kjSLKmWIo9wWwDwWGJOlZbgdBg/ca8PRe++bearBLMadvXNihX72B5Q/Pe+cSGibc/bd7u2bu7FPrtnzY7GZrvxozxLC8v8W1DmLUImJBoLuWxFMc9z9kjWZYVTFbIEwffrLsmWeug12osocjRiuvejaMxMnzGCEYi1gK3aRmlahHXFUVZm1+zxrcIPOpUZOKOomnU79oCgFMZIuc8I1WrvezmeusCZ+w2W0D/Wv4IISG2sobVala7fDwuI8DDVbd8LXStF1V6lQK0VDnjpdmKTNrk6ZpgxHnnitmkg0ejBoDVc9BQIqhlaXUTmpBzWkv2WyCRyJmOgc4Qq0sdmFUOPIhDEUGxXy6G7b7dy27eMn9/Yh3NuIYT1ZJcJI8h2sBYJyE22OBXGZFPFxRJmWawJcuqR+AhmKTCtgeJGgyEZgGpQW7yxmW0lRCg1WUl2KRXUyA2wuWlqzHYCO7DOnLggcQFUA9YkW2yq91Qj2hTsYhf5FSO6Vhr0qmCPTOMLnTaxlcGPAX2zpzUAwUMksDlesqCEUNeJS3DNIi3YnyZ2URCKTnEz1aW5M5ij9yuDKpGYrUwOdgpvZcPwSZc0tJVIjeNiuS5wHMm3EViGlhjFNCyRU8Fl61ePRvwFTSM9YIkwMWyBcpppk+1oFfEIShAoCD2GIDisHQFoNjiyUmuwdJQFIj8qUCEBFKwdBVB1wAEkgkFY5BXgVRZcuYG5Fd5ro/ZUivQTgo2mRCdxVaWkWbUpyxJNaod2OJrdrT+XNjyaByoWTJU+hy/6JE4z7oZOmW7XlI8mZ1m3z+8vV8uJW7w6+Nz3vVgjmdy2Mg0tEQ6/aLmHjV2ln8NCKnteDldD0lFQFK6HpKVxv/IPRRG9tATZgAzelB5tYBeOpqQ8Px4P90IoCQ09m/yQA6RG/gOBYD0eVwiLNAx+EDq6AnTYJyEgVDW2EAatYUYwGBpOFRydU0+XEntTqx56anozHiEDVdKIK+rmcQCoAoQI1hLcheOmZa2i/fhJN40YcrCkwSpBeCyFyoYoKxEXPckUNg+k9GaKGuemtFRI8shpokSqTiwTHrwZs4byvl8uwGKnzXjbjtIz0Ur8Zbn7pgWQ4RI9sA0iHumhoT5fxRoKD1pq5/B5E41iloJ+h/SQKQNOedbZjgmr2PQeWKQ1yoTYkxmmaun0VtdHwnpGeYZ0aAmAteFgUxCrogqLdsHTpAUjEGjk+YIuxLNm+0oalcI2oMFghcReYDmVp3CWwJ2NuUDuyvhBzuRRAt0/40eM0FJeGMKymPftZpWNxIQSADGPPBFnxoFJB/GgpnwNGqouBw0kupoE4doStQcdYSIvBLwOC0gtNJjJgTQQ1HMaEdQp65YmJEfGwIAOpi6TX7oQzn343kqAdzKWkpsiATgTdiMDIYHoVlxEYeGsKVDCc0FMGxkm6ZzQkHkxo4QQluZDNlCBxNreBwTVdpYW5DaUnyNxRpmlYzgC0AoHDwq0FauhNkDYufFB7FwlUZI22zsTgAnH0ZjAHlkfSGoKLSkUvlnGwHwQ9EXWw+wXlTih20vNZV8X8bOhV9WyloUkF8QqVXSUC/yzvJwO2fCydwdUBQqitMQE0dKgGwgQFKtgDw/AKUmx2pWUFYid7oAIlFjQQqFzY0QioYV5JnXstwo6S9A7LOgqJOrFaj5iDWuOyCRCiCLafaweDB37V4N4F9Ws1bF1BLXcN8QuLp0pgGb20qatiByJpVFPCfi5Z1AfhimI9wd6ylYNjo6Kuo2Dp9Trd6EAlC59KiAZFybJmMI8VjXdKh8RTmsA6CxbxlJDJC8MCXIM1A443bsWa4a1BIQgRIZ+XJZsJrC4jAAIQdkmvEAJ6VhQjKh4ZL6KRlWx2cMjMtIhYjWCGSUjYq5JKRkioCinGQyxyCIYhOnWdzCYAWjMM4MUpFbJEqGMYJEAZ3iSCFMLBaJY9SIGBZZ1TwCJLIcEBsZxLSOAtj/elwSxAsr41rJXOFgMjx2AS+EJXANtDGYY11o/oeIf5imA9HdBVMWiM8om8FCR5VGOG2I/yUJmYELLxENlpGsSJEMD3l0yTvhp8rmGbWYfxOcSw/C8G3ZZhhAyQXbTd9dUwO+FqCMKTmSA9NswOxIjMaEYT6JCRCTSYTM7BOh8fOWVojI5cNSybU2F+y9YPPDWOcy/I2jAN1HYEBh7c1Gz9oGumZkkrxI8cg4HY3NCgojvfGuurgw4ZpgEGgg1LtNWCxbBMK2yMJFgybWNPCoOoxjJttRZgmvWUAKVJMpwgsDXFmIXXauvIQUZRDVKpGE8cSFAwaNQrwTBo0Cudc8rwYgK4cq6DBryOYRbegtVml9MLG7XNMWrDapnft5Cycy20sLc4ZRaOZ4xL8AYM1UhPXnaBMJnz21rUIYoB9NjSILg7Sg2yJV7WKdQsMpcDiVlWAnGQF3ONcRBPWebNnA2WwDIuuhr78oJ8QA3XjNu0KV4anl5pTu6hSK80d/jkiRyhGZp4Q7xRIbmNRgyPxMiRlWSe5Iiwxrslkqpnh3CgKTlyxPuMrEsbFI5RaVNchMtZFBlbJVILEmaWzoGvtkybYuLlWCgZD+bZvQbCRglXiT6qfDbsm+quCrMRmIN+dD+A9WQ3jwgrECe1tODX+UzRVrHnhggDmutY3GjAizoWL0TP4Ji1NbDPHPfhkBA77hvBsjpmmTXwNqSog8dEDJL1FTAb9ZkWV0YjEY1QogsK/CNfrxJRDixKrJE2GudWuF4KhTjTKRa5QTznWDQgwUM5lhhJsE7s2UUi1pUdj9ZBo/lswiAGGilHrrM1CLDmjo4Po1nFOWQbTrGsxuI8PFuRGUaIkRzzOSEb9VAWz+I6aaLbrTPQz7yOgNiHPc2py6LECBQqWs6yjM8iBsP6xtl4ehmgLC8pLcBoegp+3jmGFXavY96whNIDe75Ql13LkRUIpMwwDJEyuoZyhN66HhleZuyuo27TWl2NTBlAELnwwVEtqAeooTDP1lgbJIf0VMh7BhT5RBC3caACECkrCNQoUuiIVJNyEWRSjub5VTR3rGeFmqsoMK6RVJvcCCgybQBFLaQxQhWZSzdNZceBcXsZOk3cx3psIkMnAhtAqYG01NHAoLLYk9Fjkg0PVFMAmq+KYotAS3vmpgaXzYCRPwynGbGplR7rqfN+CufOS4McKHAaAiwRyGqQbgwYZ1cUGFcpx3oyYHQyYmQ4BdWZS8UFUe9LgHZsuM2nkZye2FNTHskxYByuchZTJ0+AggJzt11BXs6BaiQgqaJtEVzqEacdG67GgIICY6Q4gpMmLji85IsHnDnlfO4siEGQoVPkwVkVfTytZlQSQz7aMwcJ5A4DqhyjyPmNajWmP1R3M/E7g/OS04Y6YZXT2IschsDxqqU1QRuDfxoUYCZIq4JuoJgcxEjcIMNyLITYjl7PYB3GpmR2i6mHpcPj7DVdZwSS4Qbj/mFJJgZ/9CTeGNTwmvbUiUG2JToCMrdCd26zBTHPjUByzqXH+gkESroclU0TCxvMBcbjQWZmMS2hZsnE2ekujAUQxnUDXt7Sur2JxR6qCLoCLRr6xYTG0lMrDZUuS2NADY7asjNdhXOzM91cXXXM9CjjNNgKdmd6PONnubiGjWfZuTdopmVXGIwVLRRcvWqpn4/n2ZZ60XjybZMDdg0TKQpUGUXx8giS9yuDG1VTIiM72LF5xFhTyiPfR+ihMlcKE2R6fSeAyJUsdbTlQy+BlpxcBOMOU/MkY4BLqwgyxi0EpFB7SWYxaC9N9hFI6xIjahUzO0urGtCLXWgqgF00O0Zu01QRFYVE2wBjtf+oeyziAc2lEUteijUjhTkDU1DWOIBkvVhZ2WJJkV4dGwqlzOBD6ZK4slig5GQZQEfz4jiWpftQ+ebnVzCcFUiB0YaftgEthksThufTMIyxtkpKdn/7a/GrvuHTFGks8NKkPJ8ngtjVZrHmz/DF0nIyiQKgzJfJDv4EgFxOIzsGkbig/Jo4w6500wg0FGhzvsUaPK9fA3/Y5ohAphwONYbQU6FSkiXVAEovD2TqHE7v02OOaL/FyMyWesMwiaU5g4REwtKER4JoLc0RJRQZLOV5PAFmXiaaLUs1I559WppFy7izqbylRidFrxtEMyPo7DanKK6TUi5FPLWh6xRoQwhQ4nmBzGY3zAFEj5RY+9wKxesHmdjijQDsECNe5MYnqnNQPJtzOYiw1+KyDWWvyXsqBOb3JTArJiELYY9/kRrtncqBNP7BiRzFGE8qq0xgxjGBwV6sUpDh2qtyI1KPWRaoIht2XlMhkF0TbAHILEZYOCt/QrBs2BXOamz4YMToRTV4OEfdaZWtqMZDOGZoo7WSY0Ba3QMeWe7KLPCcFMTwwJLU91CwJIHDsSR/w0moD3XZair0WCTTPozCpvii2a6zfqwOh55SZ/MyHm7ltBrBxqpECCMcAAjJfVCWNJaJI0l2BvSzmAcgJITFXvR6/XiJBJEtzEocFvSisRIczGhqQgYYPzmLx3B5Q4UNFW+AkzZNvWF3N0M/W2hgR4T49AmdPK9reG5f8gh+PANMH8GHzwTRySOb4gyO947E2ZSG2D+5DROfBKbNOJfS00/sn7x2QiE4ufPKYQNj3nA/ZfIgDLzNWadPqYuHtTp5EA6eMavkaWFVnFwl7MZHwCjW3w5gflKMJ8vpfS7pDTC7bywbvavm6fblj+fmslEBZfeXYa/9bzEbhj49mmPbLf1PD+Z4ejBHhpqtO+HrjgdzxGdxsKd0EL/59GCOH+LBHE/3TH88bm1cQJlfG7rt79jI2CfP5vlxud6spvN2q1/TcasLtjc11HTDwyv4toVaangWBtvqJiILNwwSdDU+P0O5pGl4skjyOMLu6jM5jGLeU5HHfiQPEVGDWUme/NFdWI9zMT8t4QqJkeeLSDU08ceFiHgz78hMgixBcmuIC4cblIaZSowIkgeG0PUJxnE5POZE8ChBKPL4D5HwwQ4zJYsgzzMR3DELTdbnOM+3aVEC3m3Cx9T1yYB/NAZ8TDyZ+Y6d9jfeOPLJdL+c/PP0YrnYZrbjvlf8thcooCt2SWc0o5rdFDfcjsMu+IVitOYHOXCqoNlFsfHiYPagGzQ7yW1pfL07DUFG/FN14qOxAplsUgvQd9h794dRTzv/5eQItvr74mVR4rvp5tNFM7Jtejhh49HDtkpdh3ccdu/APoJPZIJ5VCbc9hbJ/oVOV4TxJ9Pj7v3MAf2huGVrlLdtjdsZ/zq+HLB8Vvj/DsTebwZ8/bAXeOrwAs/wfsnu47EMVceyH+CNgKnYDqLctr39U+4WwjdcCPvL4Ju/bxnsLYK7vep27I2I8b15+HY85gY+D+1f+A/Zv/Vc+b87vAKX5Oc/vdfh7nxH5q7X4d7OkS9+ehw5eDBLkjcEN6cdPFFPULZvMy3c8eLPdcBGWDzyos89Ioh7v+fzw7zJ0zNm3hkb3OUe/zrD/KZpLv7oB3+7+ONqulifLFfnPCrddZxyOm88/tWtT+2DerUht2LClQcsT8Gbs9lxq4zF8PQ1ZvhKLJO8fF3FIwmTnG5D0T19y5NBMDsyHt7WpNMV1djAVoRvdkvfBhfByQu68K1uJnmWMGfZHcrhY1L42edRH126NC6HvOgde92j5o1Dn7InH8Csupem3mJ68NZ5k77sEneqTC+9sLi3mTXAV62xi277OQZroHiDRGsgeANf1c79PULn0+b+0Jt7RAjpzoYue2/rOO5pT3terHfsaYHvts3eJqnI8zV4qIBXYNnEM8vhmRzJhpcYeKQPDJH4AOHsOR7p2nZv7Zzcp639wbd2LoRsa6/vubXXT1sbqzXvmvm8+fLSs2HrIbUSePJYHlp+RqzxtJcfRbP3JaRD4mE0P4keXv9Q80NbctqcHHyOrWzn9t5G8tMe/9B7fJsk0o1O++2929ngv78tn1RvLs6aVSqGb0PxRlpblsVz73TLMhPBl81yven1cjFtd2VJby+nx6t2hlxJBz+kiCZLvYWH7rHPR+6zX5r2tFm883iXq3VRXJexJFnGAlz8ci1i7VhAn/cRci1jU/zyXpJ6nTcPq/a6eBVxv4oIXsn4RXVb0h1Kp7XQpZV+0a804Hpl4hcbvzjfPXyr8FsN3wJVbxeBEevu78uJt0iz9sRLeMeu97v5D4tE20Y0iWna6+lG7Fen7kfcvi9vVyljwHrLh27Mk/Y6KtJwhLxHtdZHwqpytVNOlabuTgNv+hKuk7Z2oqpd5eGmsnDU4JySurZSuUqr7qzwlrqu+YGEJfcWlnyIsMrHKvA+VFTysNZCOuNqbzelNi7KShitlDb+n6q1FL2o5KErS2GkKp2tnN+T1Y8iK7W3rNRDZMX9Xf/rx9tYUtuqVLqypee+VTqISx5Kq4QwHmqUFaWDneX3m9RO1coYUfXgfcSVx9lfdx7xOJ6txlJzvDHKR8tdxLvvUSsgfYg7da6XUPdxBJbw3pHr/LQ5Wk3DtN+36/aocxVRGh/wQNaZ2kkj/F9dlbozljfBmelayFr6f7o22ptSOA+zulKVsVVlqsrvWMll3WNOvJ8PotrZdH5HZWAyXFx2L+YdYqNjH/eiA/MILiNT4/y7gs293JlPUPp/QtelEFbIO4oYopv1vD32Hc/bRY/2fNrZQVMOYWMxPVov55eb5vWsO6f+ajnrJR4XftUeb85eTioT4hyPN55O2v5Lv8tRf8+Wq/b9crHBTV90vHgV1GznNVri1itRxtTRs+WOCrlngN3Lt4+xUdqZcd4R86Qh9eu7Rzx6PxWRT2E0CaP3jKLz+K0Lqcfitz7AziO4vcLtO1kW+XiWZXvs9dHale6mg5+1YZHMsMjcsOyIzzPDcvfofMSwbNeQJ7PyALMykmsEu5LlGr1ZGck2Ht+uqMezK7flCR+tZZHlzzxkUcyyqNyy7MgmM8ty91xyxLLcpiNPtmWbbdE+BqntXeKWPD3uLMxIegyBS5Yg72dhsgT5C69m08WsWXtda+bzdtMMh1Cx7T9Dwvus6ELo/yp+1e/g7ixorIPc1UFhhz9Pih1nRmOru/sR0BYbtith/qgOdHKJfb+ats0XMaGBysbJ3KfLn3wS85zA4U8/7Z7MV346xubUu3CsW13MzfnRct7OSEWo2BKMPJI47s4LOc4L+TBe3BLGf4S8OP4ieo1RXqj78WLA+nHyYsul/J8vF56QxL9CQeB1HrG/ud2tzjpspAj45u4XTI+41ce73+J+1gqDFnF/ryqiVz3I3erdfOc302+C7wweUeMpmLntFOxiuvKC3qx2nYPdTRHyAOtiP0W4eFKEn7QiyK2K8HY/RXj7pAg/aUUAizDN9GC1o0icKsJqV5H4dk3AKrF0D76q6QcJdXfcbfNhNMUPFD5DckYL22VEqu6K6j+uDRlRnR1lwEx1dpUBb1ed7XXAj+E2rA+mGKWxlTbO59PK+ZxaaPOjaYbaqhk7yjiZZuwq49yuGY94TcBPXDeUqVyt/YeprPOfj6oaeVq2aa43TczT/+Ht5XLz67/9pbi6ujq8uNmcLRcH85tZ0xx6NQiNkzwn61BMEnx314Vym5nIM7EP7V1Olp7Gtc83T3DJ6/Z983W3Fhe+ezHYSeR7nHe0dNxViZ0MVx1I/3k3yWgmmVhvKrDeVIjis6L7FzoU/1iwSon/DQ1vovxGkupcgPrONdnqlgDh4RfOPViE22UhVC8KdYeSVs8Ss0sSEiQxLgp5X1GYh4ji0RzuDy8IUd5VEnaXJNSoJLBMdF9J2IdI4hEd3AeQhcueR+EDgcXaU9gj7n6fNst+Gb/5f1BLBwhCeMBXySIAAKrQAABQSwECFAAUAAgICAAFFYNSRczeXRoAAAAYAAAAFgAAAAAAAAAAAAAAAAAAAAAAZ2VvZ2VicmFfamF2YXNjcmlwdC5qc1BLAQIUABQACAgIAAUVg1IA0aEo7AQAAFkmAAAXAAAAAAAAAAAAAAAAAF4AAABnZW9nZWJyYV9kZWZhdWx0czJkLnhtbFBLAQIUABQACAgIAAUVg1JBvOVH4QIAAAgNAAAXAAAAAAAAAAAAAAAAAI8FAABnZW9nZWJyYV9kZWZhdWx0czNkLnhtbFBLAQIUABQACAgIAAUVg1JCeMBXySIAAKrQAAAMAAAAAAAAAAAAAAAAALUIAABnZW9nZWJyYS54bWxQSwUGAAAAAAQABAAIAQAAuCsAAAAA\"\n",
       "\t\t\t\t\tdata-param-enableRightClick=\"false\"\n",
       "\t\t\t\t\tdata-param-enableLabelDrags=\"false\"\n",
       "\t\t\t\t\tdata-param-enableShiftDragZoom=\"false\"\n",
       "\t\t\t\t\tdata-param-showMenuBar=\"false\"\n",
       "\t\t\t\t\tdata-param-showToolBar=\"true\"\n",
       "\t\t\t\t\tdata-param-showAlgebraInput=\"false\"\n",
       "\t\t\t\t\tdata-param-showResetIcon=\"true\"\n",
       "\t\t\t\t\tdata-param-useBrowserForJS=\"true\"> \n",
       "\t\t\t\t\t\t\t\t\n",
       "\t\t\t\t</article>\n",
       "\t\t\t</div>\n",
       "\t\t</center>\n",
       "\t</body>\n",
       "</html>\n"
      ],
      "text/plain": [
       "<IPython.core.display.HTML object>"
      ]
     },
     "metadata": {},
     "output_type": "display_data"
    }
   ],
   "source": [
    "#Sélectionner cette zone puis SHIFT+ENTREE\n",
    "from IPython.display import display, HTML ; display(HTML('fig_dyn_GeoGebra/Geolocalisation3.html'))"
   ]
  },
  {
   "cell_type": "markdown",
   "metadata": {},
   "source": [
    "<strong>\n",
    "<ul>\n",
    "    <li>À l'aide des curseurs, régler le plus précisément possible les distances des satellites obtenues à la question précédente.<br>Pour chaque satellite, on obtient ainsi une sphère correspondant au signal émis.</li><br>\n",
    "    <li>Observer l'intersection des sphères obtenues et indiquer dans quel continent puis dans quel pays se trouve le point cherché.</li><br>\n",
    "    <li>Sachant que ce point est une capitale, donner le nom de cette ville.</li>\n",
    "</ul></strong>\n",
    "\n",
    "<span style=\"color:red\">L'intersection des sphères se situe en Espagne, et la capitale cherchée est donc Madrid.</span>"
   ]
  },
  {
   "cell_type": "markdown",
   "metadata": {},
   "source": [
    "*(C) Copyright Franck CHEVRIER 2019-2021 http://www.python-lycee.com/*\n"
   ]
  }
 ],
 "metadata": {
  "celltoolbar": "Raw Cell Format",
  "kernelspec": {
   "display_name": "Python 3",
   "language": "python",
   "name": "python3"
  },
  "language_info": {
   "codemirror_mode": {
    "name": "ipython",
    "version": 3
   },
   "file_extension": ".py",
   "mimetype": "text/x-python",
   "name": "python",
   "nbconvert_exporter": "python",
   "pygments_lexer": "ipython3",
   "version": "3.7.10"
  }
 },
 "nbformat": 4,
 "nbformat_minor": 2
}
