{
 "cells": [
  {
   "cell_type": "markdown",
   "metadata": {},
   "source": [
    "![En tête general](https://raw.githubusercontent.com/PythonLycee/PyLyc/master/img/En_tete_general.png)\n",
    "\n",
    "\n",
    "<i>© Copyright Franck CHEVRIER 2019-2021 https://www.python-lycee.com.</i><br>\n",
    "<i>Les activités partagées sur <a href=\"https://capytale2.ac-paris.fr/web/accueil\"><strong>Capytale</strong></a> sont sous licence <a href=\"https://creativecommons.org/licenses/by-sa/3.0/fr/\">Creative Commons</a>.</i>\n",
    "\n",
    "<span style=\"color: #9317B4\"> Pour exécuter une saisie Python, sélectionner la cellule et valider avec </span><span style=\"color: #B317B4\"><strong>SHIFT+Entrée</strong></span>.\n"
   ]
  },
  {
   "cell_type": "markdown",
   "metadata": {},
   "source": [
    "<BLOCKQUOTE style=\"background-color:#C5DCE9; color:#054265; font-size:36pt;\">\n",
    "<br>Exerciseur : Calculs de dérivées <br><br>\n",
    "</BLOCKQUOTE>\n",
    "<span style=\"color:#2E86C1;\">(version (très) Bêta)</span><br>\n",
    "Ceci est une version très Bêta d'un Exerciseur qui génère aléatoirement des exercices de dérivation.<br>\n",
    "N'hésitez pas à me signaler des bugs ou me suggérer des améliorations possibles : <a href=\"mailto:franck-jean-nic.chevrier@ac-strasbourg.fr\"> Envoyer un mail </a>.\n"
   ]
  },
  {
   "cell_type": "markdown",
   "metadata": {},
   "source": [
    "<BLOCKQUOTE style=\"background-color:#C5DCE9; color:#054265;\">\n",
    "    Activer la cellule ci-dessous pour afficher le menu de paramétrage des <strong>options</strong>.    \n",
    "</BLOCKQUOTE>"
   ]
  },
  {
   "cell_type": "code",
   "execution_count": null,
   "metadata": {
    "scrolled": true
   },
   "outputs": [],
   "source": [
    "# SHIFT + Entrée pour afficher le paramétrage des options\n",
    "import Derivation_Options"
   ]
  },
  {
   "cell_type": "markdown",
   "metadata": {},
   "source": [
    "<BLOCKQUOTE style=\"background-color:#C5DCE9; color:#054265;\">\n",
    "    Activer la cellule ci-dessous pour démarrer l'<strong>exercice</strong> avec les options choisies.    \n",
    "</BLOCKQUOTE>"
   ]
  },
  {
   "cell_type": "code",
   "execution_count": null,
   "metadata": {
    "scrolled": false
   },
   "outputs": [],
   "source": [
    "# SHIFT + Entrée pour démarrer l'exercice\n",
    "import Derivation_Console ; Derivation_Console.Exerciceur_Derivation(Derivation_Options.Options_exercices)"
   ]
  },
  {
   "cell_type": "markdown",
   "metadata": {},
   "source": [
    "<i>© Copyright Franck CHEVRIER 2019-2021 https://www.python-lycee.com.</i><br>\n",
    "<i>Les activités partagées sur <a href=\"https://capytale2.ac-paris.fr/web/accueil\"><strong>Capytale</strong></a> sont sous licence <a href=\"https://creativecommons.org/licenses/by-sa/3.0/fr/\">Creative Commons</a>.</i>"
   ]
  }
 ],
 "metadata": {
  "celltoolbar": "Raw Cell Format",
  "kernelspec": {
   "display_name": "Python 3",
   "language": "python",
   "name": "python3"
  },
  "language_info": {
   "codemirror_mode": {
    "name": "ipython",
    "version": 3
   },
   "file_extension": ".py",
   "mimetype": "text/x-python",
   "name": "python",
   "nbconvert_exporter": "python",
   "pygments_lexer": "ipython3",
   "version": "3.8.5"
  }
 },
 "nbformat": 4,
 "nbformat_minor": 2
}
