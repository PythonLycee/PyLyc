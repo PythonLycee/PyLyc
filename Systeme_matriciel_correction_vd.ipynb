{
 "cells": [
  {
   "cell_type": "markdown",
   "metadata": {},
   "source": [
    "![En tête general](https://raw.githubusercontent.com/PythonLycee/PyLyc/master/img/En_tete_general.png)\n",
    "\n",
    "\n",
    "<i>© Copyright Franck CHEVRIER 2019-2021 https://www.python-lycee.com.</i><br>\n",
    "<i>Les activités partagées sur <a href=\"https://capytale2.ac-paris.fr/web/accueil\"><strong>Capytale</strong></a> sont sous licence <a href=\"https://creativecommons.org/licenses/by-sa/3.0/fr/\">Creative Commons</a>.</i>\n",
    "\n",
    "<span style=\"color: #9317B4\"> Pour exécuter une saisie Python, sélectionner la cellule et valider avec </span><span style=\"color: #B317B4\"><strong>SHIFT+Entrée</strong></span>.\n"
   ]
  },
  {
   "cell_type": "markdown",
   "metadata": {},
   "source": [
    "# <span style=\"color:#6C3483\">Résolution matricielle de systèmes</span> <span style=\"color:red\">(corrigé)</span>"
   ]
  },
  {
   "cell_type": "markdown",
   "metadata": {},
   "source": [
    "### <span style=\"color:#8E44AD\">Sommaire</span>\n",
    "\n",
    "<span style=\"color:#8E44AD\">I.</span> <a href=\"#I\">Football</a><br>\n",
    "<span style=\"color:#8E44AD\">II.</span> <a href=\"#II\">Volleyball</a><br><br>\n"
   ]
  },
  {
   "cell_type": "markdown",
   "metadata": {},
   "source": [
    "## <span style=\"color:#6C3483\" id=\"I\"> I. Football</span>"
   ]
  },
  {
   "cell_type": "markdown",
   "metadata": {},
   "source": [
    "<figure style=\"float: right;\">\n",
    "    <img src=\"https://raw.githubusercontent.com/PythonLycee/PyLyc/master/img/Stadefoot.jpg\">\n",
    "</figure>\n",
    "Un joueur de foot, situé à $18 m$ du but, effectue un tir en cloche.<br>\n",
    "On modélise la situation dans un repère orthonormé (l'unité choisie est le mètre).<br><br>\n",
    "On suppose que :\n",
    "<ul>\n",
    "    <li>la trajectoire du ballon est <strong>parabolique</strong> et passe par les points $A(-18\\;;0)$ et $B(-14\\;;3,2)$.</li>\n",
    "    <li>la tangente à la courbe en $A$ forme un angle de $45°$ avec l'horizontale.</li>\n",
    "</ul>\n",
    "\n",
    "L'animation ci-dessous permet d'obtenir la représentation graphique (incomplète) de ce tir.<br> \n",
    "<br>\n",
    "<span style=\"color: #FF0000\">Pour faire apparaître et activer l'animation, sélectionner la cellule ci-dessous et valider avec <strong>SHIFT+Entrée</strong>.</span>\n",
    "\n",
    "<span style=\"color: #BDBFBF\">Vous pouvez ensuite utiliser les menus cinématiques :</span>\n",
    "\n",
    "![Menus_animation](https://raw.githubusercontent.com/PythonLycee/PyLyc/master/img/menus_animation_GeoGebra.png)\n",
    "\n"
   ]
  },
  {
   "cell_type": "code",
   "execution_count": null,
   "metadata": {},
   "outputs": [],
   "source": [
    "#Sélectionner cette zone puis SHIFT+ENTREE\n",
    "from IPython.display import HTML ; HTML(\"\"\"<iframe scrolling=\"no\" title=\"Foot\" src=\"https://www.geogebra.org/material/iframe/id/gj2e9nj3/width/880/height/400/border/888888/sfsb/true/smb/false/stb/false/stbh/false/ai/false/asb/false/sri/false/rc/false/ld/false/sdz/false/ctl/false\" width=\"900px\" height=\"500px\" style=\"border:0px;\"> </iframe>\"\"\")"
   ]
  },
  {
   "cell_type": "markdown",
   "metadata": {},
   "source": [
    "<strong>\n",
    "On note $f$ la fonction qui à l'abscisse $x$ de la balle associe son ordonnée $f(x)$.<br>\n",
    "Comme la trajectoire est supposée parabolique, $f$ est une fonction polynôme du second degré.<br>\n",
    "On note $f(x)=ax^2+bx+c$ où $a$, $b$ et $c$ sont trois réels à déterminer.<br>\n",
    "<br>  \n",
    "1. a. Donner les valeurs de $f(-18)$ ; $f(-14)$ et $f'(-18)$.<br><br>\n",
    "$\\;\\;\\;$b. En déduire un système $(S)$ de 3 équations à 3 inconnues dont le triplet $(a\\;;b\\;;c)$ est solution.<br><br>\n",
    "$\\;\\;\\;$c. Écrire le système $(S)$ sous forme matricielle $AX=B$.<br>\n",
    "$\\quad\\;\\;$(où $A$ est une matrice carrée d'ordre 3 et où $B$ et $X$ sont des matrices colonnes de dimension 3)<br>\n",
    "$\\quad\\;\\;$Résoudre ce système $(S)$ et donner l'expression de $f(x)$ en fonction de $x$.\n",
    "</strong>\n",
    "<br>\n",
    "<br>\n",
    "<span style=\"color:red\">\n",
    "1. a. $f(-18)=0$ ; $f(-14)=3,2$ et $f'(-18)=1$<br> \n",
    "$\\;\\;\\;$b. $f'(x)=2ax+b$ donc:<br>\n",
    "$\\quad\\;\\;$ $\\begin{Bmatrix} f(-18) & = & 0 \\\\ f(-14) & = & 3,2 \\\\ f'(-18) & = & 1 \\end{Bmatrix}$<br>\n",
    "$\\quad\\;\\;$ $\\Longleftrightarrow \\begin{Bmatrix} (-18)^2a-18b+c & = & 0 \\\\ (-14)^2a-14b+c & = & 3,2 \\\\ 2\\times(-18)a+b & = & 1 \\end{Bmatrix}$<br>\n",
    "$\\quad\\;\\;$ $\\Longleftrightarrow \\begin{Bmatrix} 324a-18b+c & = & 0 \\\\ 196a-14b+c & = & 3,2 \\\\ -36a+b & = & 1 \\end{Bmatrix}$<br>    \n",
    "$\\quad\\;\\;$ $\\Longleftrightarrow AX=B$<br>     \n",
    "$\\quad\\;\\;$ avec $A=\\begin{pmatrix} 324 & -18 & 1 \\\\ 196 & -14 & 1 \\\\ -36 & 1 & 0 \\end{pmatrix}$ ; $X=\\begin{pmatrix} a \\\\ b \\\\ c \\end{pmatrix}$ et $B=\\begin{pmatrix} 0 \\\\ 3,2 \\\\ 1 \\end{pmatrix}$<br>\n",
    "$A$ est inversible et $A^{-1}=\\frac{1}{16} \\begin{pmatrix} -1 & 1 & -4 \\\\ -36 & 36 & -128 \\\\ -308 & 324 & -1008 \\end{pmatrix}$<br>\n",
    "En multipliant $AX=B$ à gauche par $A^{-1}$, on obtient $X=A^{-1}B=\\begin{pmatrix} -0,05 \\\\ -0,8 \\\\ 1,8 \\end{pmatrix}$<br>\n",
    "On en déduit que $\\begin{pmatrix} a \\\\ b \\\\ c \\end{pmatrix} =\\begin{pmatrix} -0,05 \\\\ -0,8 \\\\ 1,8 \\end{pmatrix}$ et donc que $f(x)=-0,05x²-0,8x+1,8$.\n",
    "</span>"
   ]
  },
  {
   "cell_type": "markdown",
   "metadata": {},
   "source": [
    "<strong>\n",
    "2. Compléter les définitions des matrices Python <mark style=\"font-family: Consolas;\">A</mark> et <mark style=\"font-family: Consolas;\">B</mark> de la cellule suivante.<br>\n",
    "$\\;\\;\\;$Exécuter ensuite les cellules Python pour vérifier les résultats de la question 1.c.\n",
    "</strong>\n",
    "<BLOCKQUOTE style='background-color:#E9DDF7;'>\n",
    "        Le module <mark style=\"font-family: Consolas;\">sympy</mark> permet :\n",
    "        <ul>\n",
    "            <li>de créer des matrices avec la syntaxe <mark style=\"font-family: Consolas;\">Matrix</mark> ;</li>\n",
    "            <li>de multiplier des matrices avec la syntaxe <mark style=\"font-family: Consolas;\">*</mark> ;</li>\n",
    "            <li>de calculer l'inverse d'une matrice avec la syntaxe <mark style=\"font-family: Consolas;\">**-1</mark>.</li>\n",
    "        </ul>\n",
    "</BLOCKQUOTE>                \n",
    "                "
   ]
  },
  {
   "cell_type": "code",
   "execution_count": null,
   "metadata": {},
   "outputs": [],
   "source": [
    "from sympy import Matrix    # import des fonctionnalités pour le calcul matriciel\n",
    "\n",
    "# Compléter les saisies de A et B\n",
    "\n",
    "A = Matrix([[ 324 , -18 , 1 ],\n",
    "            [ 196 , -14 , 1 ],\n",
    "            [ -36 ,   1 , 0 ]])\n",
    "\n",
    "B = Matrix([[ 0  ],\n",
    "            [ 3.2],\n",
    "            [ 1  ]]) \n"
   ]
  },
  {
   "cell_type": "code",
   "execution_count": null,
   "metadata": {},
   "outputs": [],
   "source": [
    "# Calcul de la matrice U, inverse de A\n",
    "U = A**-1\n",
    "U"
   ]
  },
  {
   "cell_type": "code",
   "execution_count": null,
   "metadata": {},
   "outputs": [],
   "source": [
    "# Calcul du produit de U par B\n",
    "U*B"
   ]
  },
  {
   "cell_type": "markdown",
   "metadata": {},
   "source": [
    "<strong>\n",
    "3. a. À quelle hauteur maximale le ballon va-t-il s'élever ?<br><br>\n",
    "$\\;\\;\\;$b. Sachant que le but a une hauteur de $2,44m$, le tir est-il cadré ?"
   ]
  },
  {
   "cell_type": "markdown",
   "metadata": {},
   "source": [
    "<span style=\"color:red\">\n",
    "3. a. $\\displaystyle \\alpha = -\\frac{b}{2a} = -\\frac{-0,8}{2\\times(-0,05)} =-8$ et $\\displaystyle \\beta = f(\\alpha) = f(-8)= 5$<br>\n",
    "$\\quad\\;\\;$La hauteur maximale atteinte par le ballon est $5m$.<br>\n",
    "<br>\n",
    "$\\;\\;\\;$b. $f(0)=1,8<2,44$ donc le tir est cadré.   \n",
    "</span>"
   ]
  },
  {
   "cell_type": "markdown",
   "metadata": {},
   "source": [
    "## <span style=\"color:#6C3483\" id=\"II\"> II. Volleyball</span>"
   ]
  },
  {
   "cell_type": "markdown",
   "metadata": {},
   "source": [
    "<figure style=\"float: right;\">\n",
    "    <img src=\"https://raw.githubusercontent.com/PythonLycee/PyLyc/master/img/Volley_terrain.png\">\n",
    "</figure>\n",
    "<strong>\n",
    "On donne ci-contre les dimensions d’un terrain de Volley-Ball.<br>\n",
    "<br>\n",
    "Un joueur effectue un smash !<br>\n",
    "Passant au dessus du filet, la balle suit une trajectoire parabolique.<br>\n",
    "<br>\n",
    "Un appareil photo à déclenchement en rafales a permis de déterminer que la balle est passée par les points $A(-2\\;;2)$ ; $B(-1\\;;2,5)$ et $C(4\\;;3,2)$ dans le repère ci-contre défini à partir du filet.\n",
    "</strong>"
   ]
  },
  {
   "cell_type": "markdown",
   "metadata": {},
   "source": [
    "<img src=\"https://raw.githubusercontent.com/PythonLycee/PyLyc/master/img/Volley_repere.png\">\n",
    "<strong>\n",
    "On souhaite répondre aux questions suivantes:<br>\n",
    "<ul>\n",
    "    <li>Placé à $6m$ du filet, un joueur saute et s’interpose jusqu’à la hauteur de $2,55m$.<br>\n",
    "        Justifier qu'il n'intercepte pas la balle.</li>\n",
    "    <li>Où la balle retombera-t-elle ?</li>\n",
    "    <li>Le point sera-t-il marqué ?</li>\n",
    "</ul>\n",
    "On pourra résoudre le système d'équations à l'aide de saisies Python, en utilisant les cellules ci-dessous.\n",
    "</strong>\n",
    "<br><br>\n",
    "<span style=\"color:red\">\n",
    "<ul>\n",
    "    <li>Si on modélise la trajectoire à l'aide de la fonction $g$ telle que $g(x)=ax^2+bx+c$, alors on obtient le système :<br>\n",
    "    $\\begin{Bmatrix} 4a-2b+c & = & 2 \\\\ a-b+c & = & 2,45 \\\\ 16a+4b+c & = & 3,2 \\end{Bmatrix} \\Longleftrightarrow AX=B$<br>     \n",
    "        $\\quad\\;\\;$ avec $A=\\begin{pmatrix} 4 & -2 & 1 \\\\ 1 & -1 & 1 \\\\ 16 & 4 & 1 \\end{pmatrix}$ ; $X=\\begin{pmatrix} a \\\\ b \\\\ c \\end{pmatrix}$ et $B=\\begin{pmatrix} 2 \\\\ 2,45 \\\\ 3,2 \\end{pmatrix}$.<br>\n",
    "    La résolution Python permet d'obtenir $\\begin{pmatrix} a \\\\ b \\\\ c \\end{pmatrix} = \\begin{pmatrix} -0,06 \\\\ 0,32 \\\\ 2,88 \\end{pmatrix} $ et donc $g(x)=-0,06x^2+0,32x+2,88$.<br>  \n",
    "    </li>\n",
    "    <li>$g(6)=2,64>2,55$ donc la balle n'est pas interceptée par le joueur.\n",
    "    </li>    \n",
    "    <li>\n",
    "        On détermine les abscisses des intersections de la courbe avec l'axe des abscisses :<br>\n",
    "        $\\Delta = 0,32^2-4\\times(-0,06)\\times2,88 = 0,7936$<br>\n",
    "        $\\displaystyle x_1=\\frac{-0,32-\\sqrt{0,7936}}{2\\times(-0,06)} \\approx 10,09$<br>\n",
    "        $\\displaystyle x_2=\\frac{-0,32-\\sqrt{0,7936}}{2\\times(-0,06)} \\approx -4,75$<br>\n",
    "        Ainsi la balle retombe à $10,09m$ après le filet et le point n'est pas marqué, puisqu'elle retombe hors des limites du terrain.\n",
    "    </li>\n",
    "</span>   "
   ]
  },
  {
   "cell_type": "code",
   "execution_count": null,
   "metadata": {},
   "outputs": [],
   "source": [
    "from sympy import Matrix    # import des fonctionnalités pour le calcul matriciel\n",
    "\n",
    "# Définition des matrices A et B\n",
    "\n",
    "A = Matrix([[  4 , -2 , 1 ],\n",
    "            [  1 , -1 , 1 ],\n",
    "            [ 16 ,  4 , 1 ]])\n",
    "\n",
    "B = Matrix([[ 2   ],\n",
    "            [ 2.5 ],\n",
    "            [ 3.2 ]]) \n"
   ]
  },
  {
   "cell_type": "code",
   "execution_count": null,
   "metadata": {},
   "outputs": [],
   "source": [
    "# Calcul de la matrice U, inverse de A\n",
    "U=A**-1\n",
    "U"
   ]
  },
  {
   "cell_type": "code",
   "execution_count": null,
   "metadata": {},
   "outputs": [],
   "source": [
    "# Calcul du produit de U par B\n",
    "U*B"
   ]
  },
  {
   "cell_type": "markdown",
   "metadata": {},
   "source": [
    "<i>© Copyright Franck CHEVRIER 2019-2021 https://www.python-lycee.com.</i><br>\n",
    "<i>Les activités partagées sur <a href=\"https://capytale2.ac-paris.fr/web/accueil\"><strong>Capytale</strong></a> sont sous licence <a href=\"https://creativecommons.org/licenses/by-sa/3.0/fr/\">Creative Commons</a>.</i>"
   ]
  }
 ],
 "metadata": {
  "celltoolbar": "Raw Cell Format",
  "kernelspec": {
   "display_name": "Python 3",
   "language": "python",
   "name": "python3"
  },
  "language_info": {
   "codemirror_mode": {
    "name": "ipython",
    "version": 3
   },
   "file_extension": ".py",
   "mimetype": "text/x-python",
   "name": "python",
   "nbconvert_exporter": "python",
   "pygments_lexer": "ipython3",
   "version": "3.7.10"
  }
 },
 "nbformat": 4,
 "nbformat_minor": 2
}
