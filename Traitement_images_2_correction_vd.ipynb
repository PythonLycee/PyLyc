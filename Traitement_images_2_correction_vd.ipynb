{
 "cells": [
  {
   "cell_type": "markdown",
   "metadata": {},
   "source": [
    "![En tête general](https://raw.githubusercontent.com/PythonLycee/PyLyc/master/img/En_tete_general.png)\n",
    "\n",
    "\n",
    "<i>© Copyright Franck CHEVRIER 2019-2021 https://www.python-lycee.com.</i><br>\n",
    "<i>Les activités partagées sur <a href=\"https://capytale2.ac-paris.fr/web/accueil\"><strong>Capytale</strong></a> sont sous licence <a href=\"https://creativecommons.org/licenses/by-sa/3.0/fr/\">Creative Commons</a>.</i>\n",
    "\n",
    "<span style=\"color: #9317B4\"> Pour exécuter une saisie Python, sélectionner la cellule et valider avec </span><span style=\"color: #B317B4\"><strong>SHIFT+Entrée</strong></span>.\n"
   ]
  },
  {
   "cell_type": "markdown",
   "metadata": {},
   "source": [
    "# Composition d'images <span style=\"color: red\"> (corrigé)</span>\n",
    "\n",
    "### Activité sur le traitement d'images n°2"
   ]
  },
  {
   "cell_type": "markdown",
   "metadata": {},
   "source": [
    "Le but de cette activité est d'apprendre à composer une nouvelles image à partir de deux images initiales.<br>\n",
    "Cette activité fait suite à l'<a href=\"https://mybinder.org/v2/gh/PythonLycee/PyLyc/master?filepath=Traitement_images_1.ipynb\">activité sur les traitements d'images n°1 (Application de filtres)</a>.\n",
    "<br>\n",
    "Dans chacun des cas, les images qui seront composées entre elles auront les mêmes dimensions.\n",
    "\n",
    "\n",
    "### <span style=\"color:#8E44AD\">Sommaire</span>\n",
    "\n",
    "<span style=\"color:#8E44AD\">1.</span> <a href=\"#1\">Superposition d'images</a><br>\n",
    "<span style=\"color:#8E44AD\">2.</span> <a href=\"#2\">Réalisation d'un anaglyphe</a><br>\n",
    "<span style=\"color:#8E44AD\">3.</span> <a href=\"#3\">Incrustation sur fond vert</a><br>\n"
   ]
  },
  {
   "cell_type": "markdown",
   "metadata": {},
   "source": [
    "## <span style=\"color:#8E44AD\" id=\"1\">1. Superposition d'images</span>\n",
    "\n",
    "Dans cette partie, on souhaite obtenir une nouvelle image par superposition de deux images."
   ]
  },
  {
   "cell_type": "markdown",
   "metadata": {},
   "source": [
    "<strong>1.1. Exécuter les cellules ci-dessous, qui permettent chacune :\n",
    "- d'ouvrir un fichier et de stocker l'image dans un objet Python de type Image;\n",
    "- d'afficher le format, le type de codage et la dimension de l'image;\n",
    "- d'afficher l'image.</strong>\n"
   ]
  },
  {
   "cell_type": "code",
   "execution_count": null,
   "metadata": {
    "scrolled": false
   },
   "outputs": [],
   "source": [
    "# import du module permettant la gestion des images\n",
    "from PIL import Image\n",
    "import requests\n",
    "from io import BytesIO\n",
    "\n",
    "#ouverture de l'image 1\n",
    "Im1 = Image.open(BytesIO(requests.get('https://raw.githubusercontent.com/PythonLycee/PyLyc/master/img/Compo/oiseau.jpg').content))\n",
    "\n",
    "\n",
    "#affichage du format, du type et de la dimension de l'image 2\n",
    "print(\"Nom: Im1\",\"\\nFormat:\",Im1.format,\"\\nMode:\",Im1.mode,\"\\nDimensions:\",Im1.size) ; \n",
    "\n",
    "#affichage de l'image\n",
    "Im1"
   ]
  },
  {
   "cell_type": "code",
   "execution_count": null,
   "metadata": {
    "scrolled": false
   },
   "outputs": [],
   "source": [
    "\n",
    "#ouverture de l'image 2\n",
    "Im2 = Image.open(BytesIO(requests.get('https://raw.githubusercontent.com/PythonLycee/PyLyc/master/img/Compo/montagne.jpg').content))\n",
    "\n",
    "#affichage du format, du type et de la dimension de l'image 2\n",
    "print(\"Nom: Im2\",\"\\nFormat:\",Im2.format,\"\\nMode:\",Im2.mode,\"\\nDimensions:\",Im2.size) ; \n",
    "\n",
    "#affichage de l'image\n",
    "Im2"
   ]
  },
  {
   "cell_type": "markdown",
   "metadata": {},
   "source": [
    "__1.2. Superposition par saturation.__<br>\n",
    "$\\;\\;\\;\\;\\;$__On donne la fonction Python <mark>sup_saturation</mark> ci-dessous.__<br>\n",
    "$\\;\\;\\;\\;\\;$__a. On suppose que les codes R,G,B de deux pixels correspondants dans les images originales sont (50,200,70) et (40,120,30).__<br>\n",
    "$\\;\\;\\;\\;\\;\\;\\;\\;$__Quel sera le code R,G,B du pixel de l'image obtenue?__<br>\n",
    "$\\;\\;\\;\\;\\;$__b. Exécuter les deux cellules ci-dessous pour tester la fonction <mark>sup_saturation</mark>.__<br>\n",
    "$\\;\\;\\;\\;\\;$__c. Que peux-t-on dire de la luminosité de l'image obtenue par rapport à celles des images originales?__\n"
   ]
  },
  {
   "cell_type": "code",
   "execution_count": null,
   "metadata": {},
   "outputs": [],
   "source": [
    "def sup_saturation(im_or1,im_or2):\n",
    "    \"\"\"\n",
    "    fonction qui superpose deux images par saturation\n",
    "    \"\"\"\n",
    "    \n",
    "    # vérification que les images sont de même format et taille\n",
    "    if (im_or1.format,im_or1.mode,im_or1.size) != (im_or2.format,im_or2.mode,im_or2.size): return \"Images incompatibles\"\n",
    "        \n",
    "    # récupération des dimensions des images originales\n",
    "    L,H = im_or1.size\n",
    "    \n",
    "    # création d'une image vierge, de même format et même taille que les images initiales\n",
    "    im_composee = Image.new( mode=im_or1.mode , size=(L,H) )\n",
    "    \n",
    "    # ouverture de l'accès aux pixels des images \n",
    "    pix_or1 = im_or1.load()\n",
    "    pix_or2 = im_or2.load()\n",
    "    pix_composee = im_composee.load()\n",
    "    \n",
    "    # on parcourt tous les pixels des images\n",
    "    for x in range(L):\n",
    "        for y in range(H):\n",
    "            R1,G1,B1 = pix_or1[x,y] #récupération des composantes R,G,B du pixel original de l'image originale im_or1\n",
    "            R2,G2,B2 = pix_or2[x,y] #récupération des composantes R,G,B du pixel original de l'image originale im_or2\n",
    "                        \n",
    "            R = R1+R2\n",
    "            G = G1+G2\n",
    "            B = B1+B2\n",
    "            \n",
    "            pix_composee[x,y] = R,G,B #écriture des composantes R,G,B du pixel modifié\n",
    "    \n",
    "    # on renvoie l'image modifiée\n",
    "    return im_composee\n",
    "    "
   ]
  },
  {
   "cell_type": "code",
   "execution_count": null,
   "metadata": {
    "scrolled": false
   },
   "outputs": [],
   "source": [
    "sup_saturation(Im1,Im2)"
   ]
  },
  {
   "cell_type": "markdown",
   "metadata": {},
   "source": [
    "__1.3. Superposition par maximum.__<br>\n",
    "$\\;\\;\\;\\;\\;$__On souhaite construire les composantes des pixels de la nouvelle image en prenant la plus grande des composantes des deux images.__<br>\n",
    "$\\;\\;\\;\\;\\;$__Écrire la fonction Python <mark>sup_max</mark> qui convient.__ <br>\n",
    "$\\;\\;\\;\\;\\;$Aide : On peut utiliser la fonction Python <mark>max</mark> pour le calcul d'un maximum.\n"
   ]
  },
  {
   "cell_type": "code",
   "execution_count": null,
   "metadata": {},
   "outputs": [],
   "source": [
    "# Écrire ici la fonction sup_max\n",
    "\n",
    "def sup_max(im_or1,im_or2):\n",
    "    \"\"\"\n",
    "    fonction qui superpose deux images par moyenne\n",
    "    \"\"\"\n",
    "    \n",
    "    # vérification que les images sont de même format et taille\n",
    "    if (im_or1.format,im_or1.mode,im_or1.size) != (im_or2.format,im_or2.mode,im_or2.size): return \"Images incompatibles\"\n",
    "        \n",
    "    # récupération des dimensions des images originales\n",
    "    L,H = im_or1.size\n",
    "    \n",
    "    # création d'une image vierge, de même format et même taille que les images initiales\n",
    "    im_composee = Image.new( mode=im_or1.mode , size=(L,H) )\n",
    "    \n",
    "    # ouverture de l'accès aux pixels des images \n",
    "    pix_or1 = im_or1.load()\n",
    "    pix_or2 = im_or2.load()\n",
    "    pix_composee = im_composee.load()\n",
    "    \n",
    "    # on parcourt tous les pixels des images\n",
    "    for x in range(L):\n",
    "        for y in range(H):\n",
    "            R1,G1,B1 = pix_or1[x,y] #récupération des composantes R,G,B du pixel original de l'image originale im_or1\n",
    "            R2,G2,B2 = pix_or2[x,y] #récupération des composantes R,G,B du pixel original de l'image originale im_or2\n",
    "            \n",
    "            R = max(R1,R2)\n",
    "            G = max(G1,G2)\n",
    "            B = max(B1,B2)\n",
    "            \n",
    "            pix_composee[x,y] = R,G,B #écriture des composantes R,G,B du pixel modifié\n",
    "    \n",
    "    # on renvoie l'image modifiée\n",
    "    return im_composee"
   ]
  },
  {
   "cell_type": "code",
   "execution_count": null,
   "metadata": {
    "scrolled": false
   },
   "outputs": [],
   "source": [
    "# Tester ici un appel à la fonction sup_max\n",
    "\n",
    "sup_max(Im1,Im2)"
   ]
  },
  {
   "cell_type": "markdown",
   "metadata": {},
   "source": [
    "__1.4. Superposition par la moyenne.__<br>\n",
    "$\\;\\;\\;\\;\\;$__On souhaite construire les composantes des pixels de la nouvelle image par calculs des moyennes des composantes des pixels initiaux.__<br>\n",
    "$\\;\\;\\;\\;\\;$__Écrire la fonction Python <mark>sup_moyenne</mark> qui convient.__ \n"
   ]
  },
  {
   "cell_type": "code",
   "execution_count": null,
   "metadata": {},
   "outputs": [],
   "source": [
    "# Écrire ici la fonction sup_moyenne\n",
    "\n",
    "def sup_moyenne(im_or1,im_or2):\n",
    "    \"\"\"\n",
    "    fonction qui superpose deux images par moyenne\n",
    "    \"\"\"\n",
    "    \n",
    "    # vérification que les images sont de même format et taille\n",
    "    if (im_or1.format,im_or1.mode,im_or1.size) != (im_or2.format,im_or2.mode,im_or2.size): return \"Images incompatibles\"\n",
    "        \n",
    "    # récupération des dimensions des images originales\n",
    "    L,H = im_or1.size\n",
    "    \n",
    "    # création d'une image vierge, de même format et même taille que les images initiales\n",
    "    im_composee = Image.new( mode=im_or1.mode , size=(L,H) )\n",
    "    \n",
    "    # ouverture de l'accès aux pixels des images \n",
    "    pix_or1 = im_or1.load()\n",
    "    pix_or2 = im_or2.load()\n",
    "    pix_composee = im_composee.load()\n",
    "    \n",
    "    # on parcourt tous les pixels des images\n",
    "    for x in range(L):\n",
    "        for y in range(H):\n",
    "            R1,G1,B1 = pix_or1[x,y] #récupération des composantes R,G,B du pixel original de l'image originale im_or1\n",
    "            R2,G2,B2 = pix_or2[x,y] #récupération des composantes R,G,B du pixel original de l'image originale im_or2\n",
    "            \n",
    "            R = (R1+R2)//2 # ou int((R1+R2)*0.5)\n",
    "            G = (G1+G2)//2\n",
    "            B = (B1+B2)//2\n",
    "            \n",
    "            pix_composee[x,y] = R,G,B #écriture des composantes R,G,B du pixel modifié\n",
    "    \n",
    "    # on renvoie l'image modifiée\n",
    "    return im_composee\n",
    "        "
   ]
  },
  {
   "cell_type": "code",
   "execution_count": null,
   "metadata": {},
   "outputs": [],
   "source": [
    "# Tester ici la fonction sup_moyenne\n",
    "sup_moyenne(Im1,Im2)"
   ]
  },
  {
   "cell_type": "markdown",
   "metadata": {},
   "source": [
    "## <span style=\"color:#8E44AD\" id=\"2\">2. Réalisation d'un anaglyphe</span>\n",
    "\n",
    "<br>\n",
    "Un anaglyphe est une image permettant de donner l'illusion de la 3ème dimension à l'aide de lunettes à filtres bleu-rouge.<br>\n",
    "Pour réaliser un anaglyphe, on commence par prendre deux photos de la même scène, avec un léger décalage de l'appareil (correspondant aux images perçues par les deux yeux de l'individu).\n",
    "<br>\n",
    "\n",
    "![anaglyphe](https://raw.githubusercontent.com/PythonLycee/PyLyc/master/img/Compo/Illu_anaglyphe.png)\n",
    "\n",
    "\n",
    "<p style='background-color:#E0EDF0;'>\n",
    "<strong>\n",
    "<br>- Si vous disposez de deux images (de mêmes type et dimensions), allez à la question 2.1.a.<br><br>\n",
    "- Si vous ne disposez pas d'images, passez directement à la question 2.1.b. pour utiliser les images fournies.\n",
    "</strong>\n",
    "<br><br>\n",
    "</p>\n",
    "\n"
   ]
  },
  {
   "cell_type": "markdown",
   "metadata": {},
   "source": [
    "__2.1.a. TELECHARGEMENT DE VOS IMAGES__<br>\n",
    "$\\;\\;\\;\\;\\;\\;\\;\\;$__Exécuter successivement les cellules ci-dessous pour télécharger des images personnelles.__<br>\n",
    "$\\;\\;\\;\\;\\;\\;\\;\\;$__Elles seront stockées respectivement dans les variables <mark>image_gauche</mark> et <mark>image_droite</mark>.<br>__\n",
    "$\\;\\;\\;\\;\\;\\;\\;\\;$__<span style='color:red'>Passer ensuite directement à la question 2.2.</span>__"
   ]
  },
  {
   "cell_type": "code",
   "execution_count": null,
   "metadata": {},
   "outputs": [],
   "source": [
    "#Cellule pour le téléchargement de votre image de gauche\n",
    "from PIL import Image\n",
    "import ipywidgets as widgets\n",
    "\n",
    "uploader1 = widgets.FileUpload(accept='image/*',multiple=False)\n",
    "print(\"Cliquer pour charger l'image de gauche :\")\n",
    "display(uploader1)"
   ]
  },
  {
   "cell_type": "code",
   "execution_count": null,
   "metadata": {},
   "outputs": [],
   "source": [
    "#Cellule pour la mise en mémoire de votre image de gauche\n",
    "from io import BytesIO\n",
    "try:\n",
    "    [uploaded_file1] = uploader1.value\n",
    "    image_gauche = Image.open(BytesIO(uploader1.value[uploaded_file1]['content']))\n",
    "    print(\"Nom: image_gauche\",\"\\nFormat:\",image_gauche.format,\"\\nMode:\",image_gauche.mode,\"\\nDimensions:\",image_gauche.size)\n",
    "    display(image_gauche)\n",
    "except:\n",
    "    print(\"Vous n'avez pas chargé d'image ou son format n'est pas reconnu\")"
   ]
  },
  {
   "cell_type": "code",
   "execution_count": null,
   "metadata": {},
   "outputs": [],
   "source": [
    "#Cellule pour le téléchargement de votre image de droite\n",
    "\n",
    "uploader2 = widgets.FileUpload(accept='image/*',multiple=False)\n",
    "print(\"Cliquer pour charger l'image de droite :\")\n",
    "display(uploader2)"
   ]
  },
  {
   "cell_type": "code",
   "execution_count": null,
   "metadata": {},
   "outputs": [],
   "source": [
    "#Cellule pour la mise en mémoire de votre image de droite\n",
    "\n",
    "try:\n",
    "    [uploaded_file2] = uploader2.value\n",
    "    image_droite = Image.open(BytesIO(uploader2.value[uploaded_file2]['content']))\n",
    "    print(\"Nom: image_droite\",\"\\nFormat:\",image_droite.format,\"\\nMode:\",image_droite.mode,\"\\nDimensions:\",image_droite.size)\n",
    "    display(image_droite)\n",
    "except:\n",
    "    print(\"Vous n'avez pas chargé d'image ou son format n'est pas reconnu\")"
   ]
  },
  {
   "cell_type": "markdown",
   "metadata": {},
   "source": [
    "__2.1.b. TELECHARGEMENT DES IMAGES FOURNIES__<br>\n",
    "$\\;\\;\\;\\;\\;\\;\\;\\;$__Exécuter la cellule ci-dessous pour télécharger les images fournies.__<br>\n",
    "$\\;\\;\\;\\;\\;\\;\\;\\;$__Elles seront stockées respectivement dans les variables <mark>image_gauche</mark> et <mark>image_droite</mark>.__"
   ]
  },
  {
   "cell_type": "code",
   "execution_count": null,
   "metadata": {
    "scrolled": false
   },
   "outputs": [],
   "source": [
    "# Cellule pour charger les images fournies\n",
    "from PIL import Image\n",
    "import requests\n",
    "from io import BytesIO\n",
    "\n",
    "image_gauche = Image.open(BytesIO(requests.get('https://raw.githubusercontent.com/PythonLycee/PyLyc/master/img/Compo/test_gauche.jpg').content))\n",
    "image_droite = Image.open(BytesIO(requests.get('https://raw.githubusercontent.com/PythonLycee/PyLyc/master/img/Compo/test_droite.jpg').content))\n",
    "print(\"Nom: image_gauche\",\"\\nFormat:\",image_gauche.format,\"\\nMode:\",image_gauche.mode,\"\\nDimensions:\",image_gauche.size) ; display(image_gauche) \n",
    "print(\"Nom: image_droite\",\"\\nFormat:\",image_droite.format,\"\\nMode:\",image_droite.mode,\"\\nDimensions:\",image_droite.size) ; display(image_droite)\n"
   ]
  },
  {
   "cell_type": "markdown",
   "metadata": {},
   "source": [
    "__2.2. Anaglyphe rapide : On souhaite réaliser l'anaglyphe de la façon suivante :__<br><br>\n",
    "Pour chaque pixel de l’image à créer, on lui attribue la composante rouge de l'image de gauche, et les composantes bleue et verte de l'image de droite. </li>\n",
    "\n",
    "\n",
    "![anaglyphe](https://raw.githubusercontent.com/PythonLycee/PyLyc/master/img/Compo/Illu_anaglyphe_2.png)\n",
    "\n",
    "\n",
    "$\\;\\;\\;\\;\\;$__a. Écrire la fonction Python <mark>anaglyphe_rapide</mark> qui convient.__"
   ]
  },
  {
   "cell_type": "code",
   "execution_count": null,
   "metadata": {},
   "outputs": [],
   "source": [
    "# Écrire ici la fonction anaglyphe_rapide\n",
    "\n",
    "def anaglyphe_rapide(image_gauche,image_droite):\n",
    "    \"\"\"\n",
    "    fonction qui réalise un anaglyphe rapide\n",
    "    \"\"\"\n",
    "    \n",
    "    # vérification que les images sont de même format et taille\n",
    "    if (image_gauche.format,image_gauche.mode,image_gauche.size) != (image_droite.format,image_droite.mode,image_droite.size): return \"Images incompatibles\"\n",
    "        \n",
    "    # récupération des dimensions des images originales\n",
    "    L,H = image_gauche.size\n",
    "    \n",
    "    # création d'une image vierge, de même format et même taille que les images initiales\n",
    "    anaglyphe = Image.new( mode=image_gauche.mode , size=(L,H) )\n",
    "    \n",
    "    # ouverture de l'accès aux pixels des images \n",
    "    pix_gauche = image_gauche.load()\n",
    "    pix_droit = image_droite.load()\n",
    "    pix_anaglyphe = anaglyphe.load()\n",
    "    \n",
    "    # on parcourt tous les pixels des images\n",
    "    for x in range(L):\n",
    "        for y in range(H):  \n",
    "            Rg,Gg,Bg = pix_gauche[x,y] #récupération des composantes R,G,B du pixel de l'image de gauche\n",
    "            Rd,Gd,Bd = pix_droit[x,y] #récupération des composantes R,G,B du pixel de l'image de droite\n",
    "            \n",
    "            R = Rg\n",
    "            G = Gd\n",
    "            B = Bd\n",
    "                        \n",
    "            pix_anaglyphe[x,y] = R,G,B\n",
    "    \n",
    "    # on renvoie l'image modifiée\n",
    "    return anaglyphe"
   ]
  },
  {
   "cell_type": "markdown",
   "metadata": {},
   "source": [
    "$\\;\\;\\;\\;\\;$__b. Tester la fonction <mark>anaglyphe_rapide</mark>.__<br>\n"
   ]
  },
  {
   "cell_type": "code",
   "execution_count": null,
   "metadata": {
    "scrolled": false
   },
   "outputs": [],
   "source": [
    "# Tester ici la fonction anaglyphe_rapide\n",
    "\n",
    "anaglyphe_rapide(image_gauche,image_droite)"
   ]
  },
  {
   "cell_type": "markdown",
   "metadata": {},
   "source": [
    "__2.3. Anaglyphe précis :__<br>\n",
    "\n",
    "On souhaite diminuer l'altération des couleurs de l'anaglyphe réalisé.<br>\n",
    "Pour cela, on calcule les composantes R,G,B du pixel de l'anaglyphe à l'aide du tableau suivant.<br>\n",
    "\n",
    "| Anaglyphe            |$\\;\\;$| $\\color{red}{R_g}$ | $\\color{green}{G_g}$ | $\\color{blue}{B_g}$ | | $\\color{red}{R_d}$ | $\\color{green}{G_d}$ | $\\color{blue}{B_d}$ |\n",
    "|:--------------------:|:----:|:-----:|:-----:|:-----:| |:-----:|:-----:|:-----:|\n",
    "|   $\\color{red}{R}$   |$\\;\\;$| $41$% | $47$% | $16$% | |$-1$% | $-3$% | $0$%  |\n",
    "|   $\\color{green}{G}$ |$\\;\\;$| $-4$% | $-4$% | $-2$% | |$38$% | $73$% | $1$%  | \n",
    "|   $\\color{blue}{B}$  |$\\;\\;$| $-5$% | $-6$% |  $1$% | |$-6$% | $-13$%| $130$%| \n",
    "\n",
    "Par exemple, la composante rouge <mark>R</mark> de l'anaglyphe se calcule à l'aide de la formule : <mark>R = int(0.41\\*Rg+0.47\\*Gg+0.16\\*Bg-0.01\\*Rd-0.03\\*Gd)</mark>.\n",
    "\n",
    "\n",
    "\n",
    "\n",
    "$\\;\\;\\;\\;\\;$__a. Écrire la fonction Python <mark>anaglyphe_precis</mark> qui convient.__"
   ]
  },
  {
   "cell_type": "code",
   "execution_count": null,
   "metadata": {},
   "outputs": [],
   "source": [
    "# Écrire ici la fonction anaglyphe_precis\n",
    "\n",
    "def anaglyphe_precis(image_gauche,image_droite):\n",
    "    \"\"\"\n",
    "    fonction qui réalise un anaglyphe precis\n",
    "    \"\"\"\n",
    "    \n",
    "    # vérification que les images sont de même format et taille\n",
    "    if (image_gauche.format,image_gauche.mode,image_gauche.size) != (image_droite.format,image_droite.mode,image_droite.size): return \"Images incompatibles\"\n",
    "        \n",
    "    # récupération des dimensions des images originales\n",
    "    L,H = image_gauche.size\n",
    "    \n",
    "    # création d'une image vierge, de même format et même taille que les images initiales\n",
    "    anaglyphe = Image.new( mode=image_gauche.mode , size=(L,H) )\n",
    "    \n",
    "    # ouverture de l'accès aux pixels des images \n",
    "    pix_gauche = image_gauche.load()\n",
    "    pix_droit = image_droite.load()\n",
    "    pix_anaglyphe = anaglyphe.load()\n",
    "    \n",
    "    # on parcourt tous les pixels des images\n",
    "    for x in range(L):\n",
    "        for y in range(H):  \n",
    "            Rg,Gg,Bg = pix_gauche[x,y] #récupération des composantes R,G,B du pixel de l'image de gauche\n",
    "            Rd,Gd,Bd = pix_droit[x,y] #récupération des composantes R,G,B du pixel de l'image de droite\n",
    "            \n",
    "            R = int(0.41*Rg+0.47*Gg+0.16*Bg-0.01*Rd-0.03*Gd)\n",
    "            G = int(-0.04*Rg-0.04*Gg-0.02*Bg+0.38*Rd+0.73*Gd+0.01*Bd)\n",
    "            B = int(-0.05*Rg-0.06*Gg-0.01*Bg-0.06*Rd-0.13*Gd+1.30*Bd)\n",
    "                        \n",
    "            pix_anaglyphe[x,y] = R,G,B\n",
    "    \n",
    "    # on renvoie l'image modifiée\n",
    "    return anaglyphe"
   ]
  },
  {
   "cell_type": "markdown",
   "metadata": {},
   "source": [
    "$\\;\\;\\;\\;\\;$__b. Tester la fonction <mark>anaglyphe_precis</mark>.__<br>\n"
   ]
  },
  {
   "cell_type": "code",
   "execution_count": null,
   "metadata": {
    "scrolled": false
   },
   "outputs": [],
   "source": [
    "# Tester ici la fonction anaglyphe_precis\n",
    "\n",
    "anaglyphe_precis(image_gauche,image_droite)"
   ]
  },
  {
   "cell_type": "markdown",
   "metadata": {},
   "source": [
    "## <span style=\"color:#8E44AD\" id=\"3\">3. Incrustation sur fond vert</span>\n",
    "\n",
    "<br>\n",
    "Le procédé d’incrustation sur fond vert consiste à remplacer tous les pixels de l’image sur fond vert dont la composante verte est « dominante » par rapport aux deux autres par les pixels de l’image du fond à incruster.<br>\n",
    "\n",
    "![fond_vert](https://raw.githubusercontent.com/PythonLycee/PyLyc/master/img/Compo/Illu_incrustation_fond_vert.png)\n",
    "\n",
    "\n",
    "<p style='background-color:#E0EDF0;'>\n",
    "<strong>\n",
    "<br>- Si vous disposez d'une image sur fond vert et d'une image de paysage (de mêmes type et dimensions), allez à la question 3.1.a.<br><br>\n",
    "- Si vous ne disposez pas d'images, passez directement à la question 3.1.b. pour utiliser les images fournies.\n",
    "</strong>\n",
    "<br><br>\n",
    "</p>\n"
   ]
  },
  {
   "cell_type": "markdown",
   "metadata": {},
   "source": [
    "__3.1.a. TELECHARGEMENT DE VOS IMAGES__<br>\n",
    "$\\;\\;\\;\\;\\;\\;\\;\\;$__Exécuter successivement les cellules ci-dessous pour télécharger des images personnelles.__<br>\n",
    "$\\;\\;\\;\\;\\;\\;\\;\\;$__Elles seront stockées respectivement dans les variables <mark>fond_vert</mark> et <mark>paysage</mark>.<br>__\n",
    "$\\;\\;\\;\\;\\;\\;\\;\\;$__<span style='color:red'>Passer ensuite directement à la question 3.2.</span>__"
   ]
  },
  {
   "cell_type": "code",
   "execution_count": null,
   "metadata": {
    "scrolled": true
   },
   "outputs": [],
   "source": [
    "#Cellule pour le téléchargement de votre image sur fond vert\n",
    "from PIL import Image\n",
    "import ipywidgets as widgets\n",
    "\n",
    "uploader3 = widgets.FileUpload(accept='image/*',multiple=False)\n",
    "print(\"Cliquer pour charger l'image sur fond vert :\")\n",
    "display(uploader3)"
   ]
  },
  {
   "cell_type": "code",
   "execution_count": null,
   "metadata": {
    "scrolled": false
   },
   "outputs": [],
   "source": [
    "#Cellule pour la mise en mémoire de votre image sur fond vert\n",
    "from io import BytesIO\n",
    "try:\n",
    "    [uploaded_file3] = uploader3.value\n",
    "    fond_vert = Image.open(BytesIO(uploader3.value[uploaded_file3]['content']))\n",
    "    print(\"Nom: fond_vert\",\"\\nFormat:\",fond_vert.format,\"\\nMode:\",fond_vert.mode,\"\\nDimensions:\",fond_vert.size)\n",
    "    display(fond_vert)\n",
    "except:\n",
    "    print(\"Vous n'avez pas chargé d'image ou son format n'est pas reconnu\")"
   ]
  },
  {
   "cell_type": "code",
   "execution_count": null,
   "metadata": {
    "scrolled": true
   },
   "outputs": [],
   "source": [
    "#Cellule pour le téléchargement de votre image de paysage\n",
    "\n",
    "uploader4 = widgets.FileUpload(accept='image/*',multiple=False)\n",
    "print(\"Cliquer pour charger l'image de paysage :\")\n",
    "display(uploader4)"
   ]
  },
  {
   "cell_type": "code",
   "execution_count": null,
   "metadata": {},
   "outputs": [],
   "source": [
    "#Cellule pour la mise en mémoire de votre image de paysage\n",
    "\n",
    "try:\n",
    "    [uploaded_file4] = uploader4.value\n",
    "    paysage = Image.open(BytesIO(uploader4.value[uploaded_file4]['content']))\n",
    "    print(\"Nom: paysage\",\"\\nFormat:\",paysage.format,\"\\nMode:\",paysage.mode,\"\\nDimensions:\",paysage.size)\n",
    "    display(paysage)\n",
    "except:\n",
    "    print(\"Vous n'avez pas chargé d'image ou son format n'est pas reconnu\")"
   ]
  },
  {
   "cell_type": "markdown",
   "metadata": {},
   "source": [
    "__3.1.b. TELECHARGEMENT DES IMAGES FOURNIES__<br>\n",
    "$\\;\\;\\;\\;\\;\\;\\;\\;$__Exécuter la cellule ci-dessous pour télécharger les images fournies.__<br>\n",
    "$\\;\\;\\;\\;\\;\\;\\;\\;$__Elles seront stockées respectivement dans les variables <mark>fond_vert</mark> et <mark>paysage</mark>.__"
   ]
  },
  {
   "cell_type": "code",
   "execution_count": null,
   "metadata": {
    "scrolled": false
   },
   "outputs": [],
   "source": [
    "# Cellule pour charger les images fournies\n",
    "from PIL import Image\n",
    "import requests\n",
    "from io import BytesIO\n",
    "\n",
    "fond_vert = Image.open(BytesIO(requests.get('https://raw.githubusercontent.com/PythonLycee/PyLyc/master/img/Compo/personnage_test.jpg').content)) \n",
    "paysage = Image.open(BytesIO(requests.get('https://raw.githubusercontent.com/PythonLycee/PyLyc/master/img/Compo/paysage_test.jpg').content))\n",
    "print(\"Nom: fond_vert\",\"\\nFormat:\",fond_vert.format,\"\\nMode:\",fond_vert.mode,\"\\nDimensions:\",fond_vert.size) ; display(fond_vert) \n",
    "print(\"Nom: paysage\",\"\\nFormat:\",paysage.format,\"\\nMode:\",paysage.mode,\"\\nDimensions:\",paysage.size) ; display(paysage) \n"
   ]
  },
  {
   "cell_type": "markdown",
   "metadata": {},
   "source": [
    "__3.2. On souhaite réaliser l'incrustation sur fond vert de la façon suivante :__\n",
    "<li> On fixe des coefficients de seuils $C_R=1,3$ et $C_B=1,3$.</li>\n",
    "<li> Pour chaque pixel de l’image sur fond vert, si ses composantes $R$, $G$, $B$ vérifient $G>C_R\\times R$ et $G>C_B\\times B$, alors on récupère le pixel du paysage, sinon on conserve le pixel de l'image sur fond vert. </li>\n",
    "<br>\n",
    "\n",
    "![fond_vert](https://raw.githubusercontent.com/PythonLycee/PyLyc/master/img/Compo/Illu_incrustation_fond_vert.png)\n",
    "\n",
    "\n",
    "$\\;\\;\\;\\;\\;$__a. Écrire la fonction Python <mark>incrustation</mark> qui convient.__"
   ]
  },
  {
   "cell_type": "code",
   "execution_count": null,
   "metadata": {},
   "outputs": [],
   "source": [
    "# Écrire ici la fonction incrustation\n",
    "\n",
    "def incrustation(fond_vert,paysage,CR=1.3,CB=1.3):\n",
    "    \"\"\"\n",
    "    fonction qui réalise l'incrustation de l'image sur fond vert dans le paysage\n",
    "    \"\"\"\n",
    "    \n",
    "    # vérification que les images sont de même format et taille\n",
    "    if (fond_vert.format,fond_vert.mode,fond_vert.size) != (paysage.format,paysage.mode,paysage.size): return \"Images incompatibles\"\n",
    "        \n",
    "    # récupération des dimensions des images originales\n",
    "    L,H = fond_vert.size\n",
    "    \n",
    "    # création d'une image vierge, de même format et même taille que les images initiales\n",
    "    im_incrust = Image.new( mode=fond_vert.mode , size=(L,H) )\n",
    "    \n",
    "    # ouverture de l'accès aux pixels des images \n",
    "    pix_fond_vert = fond_vert.load()\n",
    "    pix_paysage = paysage.load()\n",
    "    pix_incrust = im_incrust.load()\n",
    "    \n",
    "    # on parcourt tous les pixels des images\n",
    "    for x in range(L):\n",
    "        for y in range(H):  \n",
    "            Rv,Gv,Bv = pix_fond_vert[x,y] #récupération des composantes R,G,B du pixel original de l'image sur fond vert\n",
    "            Rp,Gp,Bp = pix_paysage[x,y] #récupération des composantes R,G,B du pixel original de l'image paysage\n",
    "            \n",
    "            if Gv > CR*Rv and Gv > CB*Bv:\n",
    "                pix_incrust[x,y] = Rp,Gp,Bp\n",
    "            else:\n",
    "                pix_incrust[x,y] = Rv,Gv,Bv\n",
    "    \n",
    "    # on renvoie l'image modifiée\n",
    "    return im_incrust"
   ]
  },
  {
   "cell_type": "markdown",
   "metadata": {},
   "source": [
    "$\\;\\;\\;\\;\\;$__b. Tester la fonction <mark>incrustation</mark>.__<br>\n",
    "$\\;\\;\\;\\;\\;\\;\\;\\;$__Si nécessaire, on pourra modifier les valeurs des coefficients de seuil $C_R$ et $C_B$.__"
   ]
  },
  {
   "cell_type": "code",
   "execution_count": null,
   "metadata": {},
   "outputs": [],
   "source": [
    "# Tester ici la fonction incrustation\n",
    "\n",
    "incrustation(fond_vert,paysage)"
   ]
  },
  {
   "cell_type": "markdown",
   "metadata": {},
   "source": [
    "<i>© Copyright Franck CHEVRIER 2019-2021 https://www.python-lycee.com.</i><br>\n",
    "<i>Les activités partagées sur <a href=\"https://capytale2.ac-paris.fr/web/accueil\"><strong>Capytale</strong></a> sont sous licence <a href=\"https://creativecommons.org/licenses/by-sa/3.0/fr/\">Creative Commons</a>.</i>"
   ]
  }
 ],
 "metadata": {
  "celltoolbar": "Raw Cell Format",
  "kernelspec": {
   "display_name": "Python 3",
   "language": "python",
   "name": "python3"
  },
  "language_info": {
   "codemirror_mode": {
    "name": "ipython",
    "version": 3
   },
   "file_extension": ".py",
   "mimetype": "text/x-python",
   "name": "python",
   "nbconvert_exporter": "python",
   "pygments_lexer": "ipython3",
   "version": "3.7.10"
  }
 },
 "nbformat": 4,
 "nbformat_minor": 2
}
