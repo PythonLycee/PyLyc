{
 "cells": [
  {
   "cell_type": "markdown",
   "metadata": {},
   "source": [
    "![En tête general](https://raw.githubusercontent.com/PythonLycee/PyLyc/master/img/En_tete_general.png)\n",
    "\n",
    "\n",
    "<i>© Copyright Franck CHEVRIER 2019-2021 https://www.python-lycee.com.</i><br>\n",
    "<i>Les activités partagées sur <a href=\"https://capytale2.ac-paris.fr/web/accueil\"><strong>Capytale</strong></a> sont sous licence <a href=\"https://creativecommons.org/licenses/by-sa/3.0/fr/\">Creative Commons</a>.</i>\n",
    "\n",
    "<span style=\"color: #9317B4\"> Pour exécuter une saisie Python, sélectionner la cellule et valider avec </span><span style=\"color: #B317B4\"><strong>SHIFT+Entrée</strong></span>.\n"
   ]
  },
  {
   "cell_type": "markdown",
   "metadata": {},
   "source": [
    "# Le flocon de Von Koch <span style=\"color: red\"> (corrigé)</span>"
   ]
  },
  {
   "cell_type": "markdown",
   "metadata": {},
   "source": [
    "### <span style=\"color:#8E44AD\">Sommaire</span>\n",
    "\n",
    "<span style=\"color:#8E44AD\">1.</span> <a href=\"#1\">Construction géométrique et notations</a><br>\n",
    "<span style=\"color:#8E44AD\">2.</span> <a href=\"#2\">Étude du périmètre du flocon de Von Koch </a><br>\n",
    "<span style=\"color:#8E44AD\">3.</span> <a href=\"#3\">Étude de l'aire du flocon de Von Koch</a><br>\n"
   ]
  },
  {
   "cell_type": "markdown",
   "metadata": {},
   "source": [
    "## <span id=\"1\">1. Construction géométrique et notations</span>"
   ]
  },
  {
   "cell_type": "markdown",
   "metadata": {},
   "source": [
    "<BLOCKQUOTE style='background-color:#DDEEEE;'>\n",
    "    <strong>Description de la construction :</strong><br><br>\n",
    "    La figure initiale est un triangle équilatéral $P_0$ de côté $1$.<br><br>\n",
    "    À chaque étape, le polygone $P_n$ étant construit avec des côtés de longueur $a_n$, on obtient le polygone $P_{n+1}$ en remplaçant chaque côté par une ligne polygonale à quatre segments de longueur $a_{n+1}=\\displaystyle \\frac{a_n}{3}$ , vers l’extérieur.<br><br>\n",
    "</BLOCKQUOTE>        \n",
    "    Activer la figure dynamique ci-dessous, qui permet de visualiser les polygones $P_n$ pour les premières valeurs de $n$.<br>\n",
    "    <i style=\"color: #FF0000\">(Pour faire apparaître et activer la figure dynamique, sélectionner la cellule et valider avec <strong>SHIFT+Entrée</strong>).</i>"
   ]
  },
  {
   "cell_type": "code",
   "execution_count": null,
   "metadata": {},
   "outputs": [],
   "source": [
    "#Sélectionner cette zone puis SHIFT+ENTREE\n",
    "from IPython.display import HTML ; HTML(\"\"\"<iframe scrolling=\"no\" title=\"Flocon de Von Koch\" src=\"https://www.geogebra.org/material/iframe/id/phgsjuu3/width/431/height/543/border/888888/sfsb/true/smb/false/stb/false/stbh/false/ai/false/asb/false/sri/false/rc/false/ld/false/sdz/false/ctl/false\" width=\"431px\" height=\"543px\" style=\"border:0px;\"> </iframe>\"\"\")"
   ]
  },
  {
   "cell_type": "markdown",
   "metadata": {},
   "source": [
    "<BLOCKQUOTE style='background-color:#DDEEEE;'>\n",
    "    <figure style=\"float: right;\">\n",
    "        <img src=\"https://raw.githubusercontent.com/PythonLycee/PyLyc/master/img/Von_Koch_notations.gif\">\n",
    "    </figure>\n",
    "    <strong>Notations :</strong><br><br>\n",
    "Pour tout $n \\in \\mathbb{N}$, on note :\n",
    "    <ul>\n",
    "        <li>$\\color{#3F48CC}{c_n}$ le <strong style=\"color:#3F48CC\">nombre de côtés</strong> du polygone $P_n$ ;</li>    \n",
    "        <li>$\\color{#22B14C}{a_n}$ la <strong style=\"color:#22B14C\">longueur des côtés</strong> du polygone $P_n$ ;</li> \n",
    "        <li>$\\color{#A349A4}{p_n}$ le <strong style=\"color:#A349A4\">périmètre</strong> du polygone $P_n$ ;</li> \n",
    "        <li>$\\color{#E36C0A}{A_n}$ l'<strong style=\"color:#E36C0A\">aire</strong> du polygone $P_n$.</li>\n",
    "    </ul>\n",
    "</BLOCKQUOTE> "
   ]
  },
  {
   "cell_type": "markdown",
   "metadata": {},
   "source": [
    "## <span id=\"2\">2. Étude du périmètre du flocon de Von Koch</span>"
   ]
  },
  {
   "cell_type": "markdown",
   "metadata": {},
   "source": [
    "<strong>2.1. $\\;$a. Donner les valeurs de $c_0$ ; $c_1$ et $c_2$.<br>\n",
    "$\\quad\\;\\;$ b. Quelle est la nature de la suite $(c_n)_{n\\geq0}$ ? Exprimer $c_n$ en fonction de $n$.<br>\n",
    "$\\quad\\;\\;$ c. Combien le polygone $P_5$ a-t-il de côtés ?<br>\n",
    "$\\quad\\;\\;$ d. Déterminer $\\displaystyle\\lim\\limits_{n \\to +\\infty}{c_n}$.<br>\n",
    "$\\quad\\;\\;$ e. Écrire une fonction Python <mark style=\"font-family: Consolas;\">c</mark> d'argument <mark style=\"font-family: Consolas;\">n</mark> permettant le calcul de $c(n)$.<br>\n",
    "$\\quad\\quad\\;$ Effectuer ensuite les saisies nécessaires pour vérifier le résultat de la question 2.1.c.\n",
    "</strong>\n",
    "<br><br>\n",
    "<span style=\"color:red;\">\n",
    "a. $c_0=3$ ; $c_1=3\\times4=12$ ; $c_2=12\\times4=48$.<br>\n",
    "b. $(c_n)_{n\\geq0}$ est géométrique de premier terme $c_0=3$ et de raison $q=4$ donc $c_n=3\\times4^n$.<br>\n",
    "c. $P_5$ a $c_5=3\\times4^5=3072$ côtés.<br>\n",
    "d. $c_0=3>0$ et $q=4>1$ donc $\\displaystyle\\lim\\limits_{n \\to +\\infty}{c_n}=+\\infty$.<br>    \n",
    "</span>"
   ]
  },
  {
   "cell_type": "code",
   "execution_count": null,
   "metadata": {},
   "outputs": [],
   "source": [
    "# Écrire ici la fonction c permettant le calcul de c(n)\n",
    "\n",
    "def c(n):\n",
    "    \"Fonction qui calcule le nombre de côtés du polygone P_n\"\n",
    "    return 3*4**n"
   ]
  },
  {
   "cell_type": "code",
   "execution_count": null,
   "metadata": {},
   "outputs": [],
   "source": [
    "# Effectuer ici la saisie pour vérifier le résultat de la question 2.1.c.\n",
    "c(5)"
   ]
  },
  {
   "cell_type": "markdown",
   "metadata": {},
   "source": [
    "<strong>2.2. $\\;$a. Donner les valeurs exactes de $a_0$ ; $a_1$ et $a_2$.<br>\n",
    "$\\quad\\;\\;$ b. Quelle est la nature de la suite $(a_n)_{n\\geq0}$ ? Exprimer $a_n$ en fonction de $n$.<br>\n",
    "$\\quad\\;\\;$ c. Quelle est la longueur des côtés du polygone $P_5$ ?<br>\n",
    "$\\quad\\;\\;$ d. Déterminer $\\displaystyle\\lim\\limits_{n \\to +\\infty}{a_n}$.<br>\n",
    "$\\quad\\;\\;$ e. La fonction Python <mark style=\"font-family: Consolas;\">a</mark> d'argument <mark style=\"font-family: Consolas;\">n</mark> donnée ci-dessous permet le calcul de la valeur exacte de $a(n)$.<br>\n",
    "$\\quad\\quad\\;$ Effectuer la saisie nécessaire pour vérifier le résultats de la questions 2.2.c.\n",
    "</strong>\n",
    "<br><br>\n",
    "<span style=\"color:red;\">\n",
    "a. $a_0=1$ ; $\\displaystyle a_1=\\frac{a_0}{3}=\\frac{1}{3}$ ; $\\displaystyle a_2=\\frac{a_1}{3}=\\frac{1}{9}$.<br>\n",
    "b. $(a_n)_{n\\geq0}$ est géométrique de premier terme $a_0=1$ et de raison $q=\\displaystyle \\frac{1}{3}$ donc $\\displaystyle a_n=\\frac{1}{3^n}$.<br>\n",
    "c. La longueur des côtés de $P_5$ est $\\displaystyle a_5=\\frac{1}{3^5}=\\frac{1}{243}$.<br>\n",
    "d. $a_0=1>0$ et $0<q=\\frac{1}{3}<1$ donc $\\displaystyle\\lim\\limits_{n \\to +\\infty}{a_n}=0$.<br>    \n",
    "</span>"
   ]
  },
  {
   "cell_type": "code",
   "execution_count": null,
   "metadata": {},
   "outputs": [],
   "source": [
    "from sympy import Rational \n",
    "# Cet import permet d'utiliser la fonction Rational pour effectuer des calculs de fractions sous forme exacte\n",
    "\n",
    "def a(n):\n",
    "    \"Fonction qui calcule la longueur des côtés du polygone P_n\"\n",
    "    return Rational(1,3**n)"
   ]
  },
  {
   "cell_type": "code",
   "execution_count": null,
   "metadata": {
    "scrolled": true
   },
   "outputs": [],
   "source": [
    "# Effectuer ici la saisie pour vérifier le résultat de la question 2.2.c.\n",
    "a(5)"
   ]
  },
  {
   "cell_type": "markdown",
   "metadata": {},
   "source": [
    "<strong>2.3. $\\;$a. Exprimer $p_n$ en fonction de $c_n$ et $a_n$.<br>\n",
    "$\\quad\\;\\;$ b. Déterminer la valeur exacte du périmètre de $P_5$.<br>\n",
    "$\\quad\\;\\;$ c. Écrire une fonction Python <mark style=\"font-family: Consolas;\">p</mark> d'argument <mark style=\"font-family: Consolas;\">n</mark> permettant le calcul de la valeur exacte de $p_n$<br>\n",
    "$\\quad\\quad\\;$ (on effectuera des appels aux fonctions précédentes avec les syntaxes <mark style=\"font-family: Consolas;\">c(n)</mark> et <mark style=\"font-family: Consolas;\">a(n)</mark>).   \n",
    "$\\quad\\quad\\;$ Effectuer la saisie nécessaire pour vérifier le résultat de la question 2.3.b.\n",
    "</strong>\n",
    "<br><br>\n",
    "<span style=\"color:red;\">\n",
    "a. $p_n=c_n\\times a_n$.<br>\n",
    "b. Le périmètre de $P_5$ est $\\displaystyle p_5=c_5\\times a_5=\\frac{3\\times4^5}{3^5}=\\frac{4^5}{3^4}=\\frac{1024}{81}$.<br>\n",
    "</span>"
   ]
  },
  {
   "cell_type": "code",
   "execution_count": null,
   "metadata": {},
   "outputs": [],
   "source": [
    "# Écrire ici la fonction p permettant le calcul de p(n) sous forme exacte\n",
    "\n",
    "def p(n):\n",
    "    \"Fonction qui calcule le périmètre du polygone P_n\"\n",
    "    return a(n)*c(n)"
   ]
  },
  {
   "cell_type": "code",
   "execution_count": null,
   "metadata": {},
   "outputs": [],
   "source": [
    "# Effectuer ici la saisie pour vérifier le résultat de la question 2.3.b.\n",
    "p(5)"
   ]
  },
  {
   "cell_type": "markdown",
   "metadata": {},
   "source": [
    "<strong>\n",
    "$\\quad$ d. Exprimer $p_n$ en fonction de $n$. Justifier que la suite $(p_n)_{n\\geq0}$ est géométrique. <br>    \n",
    "$\\quad$ e. Déterminer $\\displaystyle\\lim\\limits_{n \\to +\\infty}{p_n}$. Donner une interprétation géométrique de ce résultat.\n",
    "</strong>\n",
    "<br><br>\n",
    "<span style=\"color:red;\">\n",
    "a. $\\displaystyle p_n=c_n\\times a_n=3\\times4^n\\times\\frac{1}{3^n}=3\\times \\left( \\frac{4}{3} \\right)^n$.<br>\n",
    "$\\;\\;\\;$On obtient l'expression d'une suite géométrique de premier terme $p_0=3$ et de raison $\\displaystyle q=\\frac{4}{3}$.<br>\n",
    "b. $p_0=3>0$ et $q=\\frac{4}{3}>1$ donc $\\displaystyle\\lim\\limits_{n \\to +\\infty}{a_n}=+\\infty$.<br>\n",
    "$\\;\\;\\;$Le périmètre de $P_n$ peut être aussi grand qu'on le souhaite, pour $n$ \"assez grand\".<br>\n",
    "$\\;\\;\\;$Ainsi le flocon de Von Koch a un contour de longueur infinie.\n",
    "</span>"
   ]
  },
  {
   "cell_type": "markdown",
   "metadata": {},
   "source": [
    "## <span id=\"3\">3. Étude de l'aire du flocon de Von Koch</span>"
   ]
  },
  {
   "cell_type": "markdown",
   "metadata": {},
   "source": [
    "<strong>3.1. $\\;$Démontrer qu'un triangle équilatéral de côté $a>0$ a pour aire $\\displaystyle \\frac{\\sqrt{3}}{4}a^2$.<br> \n",
    "3.2. $\\;$Donner la valeur de $A_0$.<br>\n",
    "3.3. $\\;$a. Combien de triangles sont ajoutés lorsqu'on passe de la figure $P_0$ à $P_1$ ? Que vaut l'aire ajoutée ? En déduire la valeur de $A_1$.<br>\n",
    "$\\quad\\;\\;$ b. On fournit ci-dessous la fonction Python <mark style=\"font-family: Consolas;\">AireEqui</mark> d'argument <mark style=\"font-family: Consolas;\">a</mark> qui permet le calcul de la valeur exacte d'un triangle de côté $a$.<br>\n",
    "$\\quad\\quad\\;$ Effectuer la saisie nécessaire pour effectuer le calcul de $A_1$ de la question 3.3.a.<br>\n",
    "$\\quad\\quad\\;$ (on utilisera respectivement les syntaxes <mark style=\"font-family: Consolas;\">a(0)</mark> et <mark style=\"font-family: Consolas;\">a(1)</mark> pour les longueurs des côtés de $P_0$ et $P_1$)\n",
    "</strong>\n",
    "<br><br>    \n",
    "<span style=\"color:red;\">\n",
    "3.1. La hauteur d'un triangle équilatéral de côté $a$ vaut $\\displaystyle \\frac{a\\sqrt{3}}{2}$ (peut s'établir à l'aide du théorème de Pythagore ou à l'aide de résultats de trigonométrie).<br>\n",
    "$\\quad\\;$ Ainsi l'aire d'un tel triangle vaut $\\displaystyle \\frac{a\\times \\frac{a\\sqrt{3}}{2}}{2}=\\frac{a^2\\sqrt{3}}{4}.$<br>\n",
    "3.2. $\\displaystyle A_0=\\frac{a_0^2\\sqrt{3}}{4}=\\frac{\\sqrt{3}}{4}$.<br>   \n",
    "3.3.a. Lorsqu'on passe de la figure $P_0$ à $P_1$ on ajoute $c_0=3$ triangles équilatéraux de côté $\\displaystyle a_1=\\frac{1}{3}$.<br>\n",
    "$\\quad\\;\\;\\;$ L'aire ajoutée vaut donc $\\displaystyle 3\\times \\frac{ \\left( \\frac{1}{3} \\right) ^2\\sqrt{3}}{4}=\\frac{\\sqrt{3}}{12}.$<br>\n",
    "$\\quad\\;\\;\\;$ On en déduit $\\displaystyle A_1=A_0+\\frac{\\sqrt{3}}{12}=\\frac{\\sqrt{3}}{4}+\\frac{\\sqrt{3}}{12}=\\frac{\\sqrt{3}}{3}$.<br>\n",
    "</span>     "
   ]
  },
  {
   "cell_type": "code",
   "execution_count": null,
   "metadata": {},
   "outputs": [],
   "source": [
    "from sympy import sqrt\n",
    "# Cet import permet d'utiliser la fonction sqrt pour effectuer des calculs avec racines carrées sous forme exacte\n",
    "\n",
    "def AireEqui(a):\n",
    "    \"Fonction qui calcule l'aire d'un triangle équilatéral de côté a (sous forme exacte)\"\n",
    "    return sqrt(3)*Rational(a**2,4)"
   ]
  },
  {
   "cell_type": "code",
   "execution_count": null,
   "metadata": {},
   "outputs": [],
   "source": [
    "# Effectuer ici la saisie pour retrouver le résultat de la question 3.3.a.\n",
    "AireEqui(a(0))+3*AireEqui(a(1))"
   ]
  },
  {
   "cell_type": "markdown",
   "metadata": {},
   "source": [
    "<figure style=\"float: right;\">\n",
    "    <img src=\"https://raw.githubusercontent.com/PythonLycee/PyLyc/master/img/Von_Koch_passage.gif\">\n",
    "</figure>\n",
    "<strong>3.4. On effectue maintenant un raisonnement similaire à celui de la question 3.2. dans le cas général.<br>\n",
    "$\\quad\\;\\;$ a. On considère un entier $n>0$.<br>\n",
    "$\\quad\\quad\\;\\;$ En raisonnant sur les aires ajoutées lorsqu'on passe de la figure $P_{n-1}$ à $P_n$, justifier que :<br>\n",
    "$\\quad\\quad\\;\\;$ $\\displaystyle A_n = A_{n-1}+c_{n-1}\\times \\frac{\\sqrt{3}}{4}{a_n}^2$<br>\n",
    "$\\quad\\;\\;$ b. On fournit ci-dessous la fonction Python <mark style=\"font-family: Consolas;\">A</mark> d'argument <mark style=\"font-family: Consolas;\">n</mark> permettant le calcul de $A_n$..<br> \n",
    "$\\quad\\quad\\;\\;$ Exécuter les saisies proposées pour obtenir la valeur exacte de $A_1$ et sa valeur décimale approchée.<br>\n",
    "$\\quad\\quad\\;\\;$ Vérifier la cohérence avec les résultats des questions 3.3.a. et 3.3.b.\n",
    "</strong>\n",
    "<br><br>\n",
    "<span style=\"color:red;\">\n",
    "3.4.a. Lorsqu'on passe de la figure $P_{n-1}$ à $P_n$ on ajoute $c_{n-1}$ triangles équilatéraux de côté $\\displaystyle a_n$, d'où le résultat.<br>\n",
    "</span>"
   ]
  },
  {
   "cell_type": "code",
   "execution_count": null,
   "metadata": {},
   "outputs": [],
   "source": [
    "def A(n):\n",
    "    \"fonction qui calcule l'aire du polygone P_n (sous forme exacte)\"\n",
    "    if n==0: return AireEqui(1)\n",
    "    return A(n-1)+c(n-1)*sqrt(3)*Rational(a(n)**2,4)"
   ]
  },
  {
   "cell_type": "code",
   "execution_count": null,
   "metadata": {},
   "outputs": [],
   "source": [
    "A(1)"
   ]
  },
  {
   "cell_type": "code",
   "execution_count": null,
   "metadata": {},
   "outputs": [],
   "source": [
    "A(1).evalf()"
   ]
  },
  {
   "cell_type": "markdown",
   "metadata": {},
   "source": [
    "<strong>\n",
    "$\\quad\\;\\;$ d. Effectuer des saisies pour évaluer $A_5$, $A_{10}$ et $A_{100}$.<br>\n",
    "$\\quad\\quad\\;\\;$ Que peut-on conjecturer pour la suite $(A_n)_{n\\geq0}$ ?<br>\n",
    "$\\quad\\quad\\;\\;$ Interpréter géométriquement ce résultat.<br>\n",
    "</strong>\n",
    "<br><br>\n",
    "<span style=\"color:red;\">\n",
    "Il semble que la suite $(A_n)_{n\\geq0}$ soit majorée et admette une limite finie.<br>\n",
    "Ainsi, le flocon de Von Koch a une aire finie, bien que délimité par un contour de longueur infini.\n",
    "</span>"
   ]
  },
  {
   "cell_type": "code",
   "execution_count": null,
   "metadata": {},
   "outputs": [],
   "source": [
    "# Utiliser ces zones pour les saisies demandées\n",
    "A(5)"
   ]
  },
  {
   "cell_type": "code",
   "execution_count": null,
   "metadata": {},
   "outputs": [],
   "source": [
    "A(5).evalf()"
   ]
  },
  {
   "cell_type": "code",
   "execution_count": null,
   "metadata": {},
   "outputs": [],
   "source": [
    "A(10)"
   ]
  },
  {
   "cell_type": "code",
   "execution_count": null,
   "metadata": {},
   "outputs": [],
   "source": [
    "A(10).evalf()"
   ]
  },
  {
   "cell_type": "code",
   "execution_count": null,
   "metadata": {},
   "outputs": [],
   "source": [
    "A(100)"
   ]
  },
  {
   "cell_type": "code",
   "execution_count": null,
   "metadata": {},
   "outputs": [],
   "source": [
    "A(100).evalf()"
   ]
  },
  {
   "cell_type": "markdown",
   "metadata": {},
   "source": [
    "![Von_Koch](https://raw.githubusercontent.com/PythonLycee/PyLyc/master/img/Von_Koch.png)\n",
    "\n",
    "<center> <a href=\"https://fr.wikipedia.org/wiki/Helge_von_Koch\">Niels Fabian Helge von Koch</a> (1870-1924)</center>"
   ]
  },
  {
   "cell_type": "markdown",
   "metadata": {},
   "source": [
    "<i>© Copyright Franck CHEVRIER 2019-2021 https://www.python-lycee.com.</i><br>\n",
    "<i>Les activités partagées sur <a href=\"https://capytale2.ac-paris.fr/web/accueil\"><strong>Capytale</strong></a> sont sous licence <a href=\"https://creativecommons.org/licenses/by-sa/3.0/fr/\">Creative Commons</a>.</i>"
   ]
  }
 ],
 "metadata": {
  "celltoolbar": "Raw Cell Format",
  "kernelspec": {
   "display_name": "Python 3",
   "language": "python",
   "name": "python3"
  },
  "language_info": {
   "codemirror_mode": {
    "name": "ipython",
    "version": 3
   },
   "file_extension": ".py",
   "mimetype": "text/x-python",
   "name": "python",
   "nbconvert_exporter": "python",
   "pygments_lexer": "ipython3",
   "version": "3.7.10"
  }
 },
 "nbformat": 4,
 "nbformat_minor": 2
}
