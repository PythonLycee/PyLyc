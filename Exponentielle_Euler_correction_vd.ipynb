{
 "cells": [
  {
   "cell_type": "markdown",
   "metadata": {},
   "source": [
    "![En tête general](https://raw.githubusercontent.com/PythonLycee/PyLyc/master/img/En_tete_general.png)\n",
    "\n",
    "\n",
    "<i>© Copyright Franck CHEVRIER 2019-2021 https://www.python-lycee.com.</i><br>\n",
    "<i>Les activités partagées sur <a href=\"https://capytale2.ac-paris.fr/web/accueil\"><strong>Capytale</strong></a> sont sous licence <a href=\"https://creativecommons.org/licenses/by-sa/3.0/fr/\">Creative Commons</a>.</i>\n",
    "\n",
    "<span style=\"color: #9317B4\"> Pour exécuter une saisie Python, sélectionner la cellule et valider avec </span><span style=\"color: #B317B4\"><strong>SHIFT+Entrée</strong></span>.\n"
   ]
  },
  {
   "cell_type": "markdown",
   "metadata": {},
   "source": [
    "# <span style=\"color:#6C3483\">Construction de l'exponentielle par la méthode d'Euler </span> <span style=\"color:red;\">(corrigé)</span>\n"
   ]
  },
  {
   "cell_type": "markdown",
   "metadata": {},
   "source": [
    "### <span style=\"color:#8E44AD\">Sommaire</span>\n",
    "\n",
    "<span style=\"color:#8E44AD\">0.</span> <a href=\"#0\">Introduction et présentation de la méthode</a><br>\n",
    "<span style=\"color:#8E44AD\">1.</span> <a href=\"#1\">Construction des abscisses</a><br>\n",
    "<span style=\"color:#8E44AD\">2.</span> <a href=\"#2\">Construction des ordonnées</a><br>\n",
    "<span style=\"color:#8E44AD\">3.</span> <a href=\"#3\">Représentation graphique</a><br>"
   ]
  },
  {
   "cell_type": "markdown",
   "metadata": {},
   "source": [
    "## <span style=\"color:#8E44AD\" id=\"0\">0. Introduction et présentation de la méthode</span>"
   ]
  },
  {
   "cell_type": "markdown",
   "metadata": {},
   "source": [
    "<BLOCKQUOTE style=\"background-color:Lavender;\">\n",
    "Dans cette activité, on admet qu'il existe une unique fonction $f$ dérivable sur $\\mathbb{R}$ vérifiant :\n",
    "<ul>\n",
    "    <li>$f'=f$</li>\n",
    "    <li>$f(0)=1$</li>\n",
    "</ul>\n",
    "</BLOCKQUOTE>\n",
    "$\\quad\\quad$NB : Cette fonction est la <strong>fonction exponentielle</strong> et se note $\\exp$.\n",
    "<br><br><br>\n",
    "<strong>\n",
    "Le but de cette activité est d'<strong>obtenir une représentation graphique approchée de $C_f$</strong>, courbe représentative de cette fonction $f$.<br>\n",
    "Visionner la vidéo ci-dessous, qui explique le principe de la méthode d'Euler pour obtenir la courbe représentative de cette fonction.</strong>\n",
    "<br><br>\n",
    "<video controls src=\"https://raw.githubusercontent.com/PythonLycee/PyLyc/master/video/Methode_euler.mp4\" width=\"960\" height=\"540\" />"
   ]
  },
  {
   "cell_type": "markdown",
   "metadata": {},
   "source": [
    "<br><br>\n",
    "\n",
    "## <span style=\"color:#8E44AD\" id=\"1\">1. Construction des abscisses</span>"
   ]
  },
  {
   "cell_type": "markdown",
   "metadata": {},
   "source": [
    "<BLOCKQUOTE style=\"background-color:Lavender;\">\n",
    "$h>0$ étant fixé, les abscisses $(x_n)_{n \\geq 0}$ des points $(M_n)_{n \\geq 0}$ vérifient :\n",
    "<ul>\n",
    "    <li>$x_0=0$</li>\n",
    "    <li>$x_{n+1}=x_n+h$ pour tout $n \\in \\mathbb{N}$</li>\n",
    "</ul>\n",
    "</BLOCKQUOTE>"
   ]
  },
  {
   "cell_type": "markdown",
   "metadata": {},
   "source": [
    "<strong>1.1. Donner la nature de la suite $(x_n)_{n \\geq 0}$, et en déduire une expression de $x_n$ en fonction de $h$ et $n$.</strong>\n",
    "<br><br>\n",
    "<span style=\"color:red;\">La suite $(x_n)_{n \\geq 0}$ est arithmétique :</span>\n",
    "<ul style=\"color:red;\">\n",
    "    <li>de premier terme $x_0=0$ ;</li>\n",
    "    <li>de raison $h$.</li>\n",
    "</ul>\n",
    "<span style=\"color:red;\">On en déduit que $\\forall n \\in \\mathbb{N}$ ; $x_n=nh$.</span>\n",
    "</span>"
   ]
  },
  {
   "cell_type": "markdown",
   "metadata": {},
   "source": [
    "<strong>1.2. Écrire une fonction Python <mark style=\"font-family: Consolas;\">x</mark> d'arguments <mark style=\"font-family: Consolas;\">h</mark> et <mark style=\"font-family: Consolas;\">n</mark> (dans cet ordre) qui renvoie la valeur $x_n$.</strong>"
   ]
  },
  {
   "cell_type": "code",
   "execution_count": 1,
   "metadata": {},
   "outputs": [],
   "source": [
    "# Écrire ici la fonction x d'arguments h et n\n",
    "\n",
    "def x(h,n):\n",
    "    \"\"\"\n",
    "    fonction qui renvoie la valeur de l'abscisse x_n du point A_n\n",
    "    \"\"\"\n",
    "    return n*h"
   ]
  },
  {
   "cell_type": "markdown",
   "metadata": {},
   "source": [
    "<br><br>\n",
    "\n",
    "## <span style=\"color:#8E44AD\" id=\"2\">2. Construction des ordonnées</span>"
   ]
  },
  {
   "cell_type": "markdown",
   "metadata": {},
   "source": [
    "<BLOCKQUOTE style=\"background-color:Lavender;\">\n",
    "$h>0$ étant fixé, on note $(y_n)_{n \\geq 0}$ les ordonnées des points $(M_n)_{n \\geq 0}$ que l'on cherche à construire.<br>\n",
    "Comme $x_0=0$ et $f(0)=1$, on pose $y_0=1$.\n",
    "</BLOCKQUOTE>"
   ]
  },
  {
   "cell_type": "markdown",
   "metadata": {},
   "source": [
    "<img width=35%; height=35%; style=\"float: right;\" src=\"https://raw.githubusercontent.com/PythonLycee/PyLyc/master/img/Illustration_meth_Euler.png\">\n",
    "<strong>On suppose un point $M_n(x_n;y_n)$ construit, avec $y_n = f(x_n)$.<br>\n",
    "On souhaite déterminer une valeur approchée de $y_{n+1}$, ordonnée du point suivant $M_{n+1}$.\n",
    "</strong>\n",
    "<br><br>\n",
    "<strong>2.1. On note $T$ la tangente à la courbe $C_f$ au point $M_n$ d'abscisse $x_n$.<br>\n",
    "$\\quad\\;\\;$On note $S$ le point de la droite $T$ qui a pour abscisse $x_{n+1}$.<br> \n",
    "<br>\n",
    "$\\quad\\;$ a. Démontrer que la tangente $T$ a pour équation $y = y_n(x-x_n)+y_n$.<br>\n",
    "$\\quad\\;$ b. En déduire que $S$ a pour ordonnée $(1+h)y_n$.    \n",
    "</strong>\n",
    "<br><br>\n",
    "<span style=\"color:red;\">\n",
    "a. La tangente $T$ a pour équation $y = f'(x_n)(x-x_n)+f(x_n)$<br>\n",
    "$\\;\\;\\;$Comme $f'=f$, on en déduit que $f'(x_n)=f(x_n) = y_n$.<br>\n",
    "$\\;\\;\\;$Ainsi $T$ a pour équation $y = y_n(x-x_n)+y_n$\n",
    "<br><br> \n",
    "b. Comme $S$ a pour abscisse $x_{n+1}$ et appartient à $T$, son ordonnée vaut :\n",
    "$y_S= y_n(x_{n+1}-x_n)+y_n = y_n h + y_n = (1+h) y_n$.\n",
    "</span>    "
   ]
  },
  {
   "cell_type": "markdown",
   "metadata": {},
   "source": [
    "<strong>2.2. En considérant que $h$ est fixé \"suffisamment petit\", on estime que les points $M_{n+1}$ et $S$ sont très proches, c'est à dire que $y_{n+1} = (1+h)y_n$.<br>\n",
    "$\\quad\\;$ a. Donner la nature de la suite $(y_n)_{n \\geq 0}$.<br>\n",
    "$\\quad\\;$ b. En déduire l'expression de $y_n$ en fonction de $h$ et $n$.<br>\n",
    "$\\quad\\;$ c. Écrire une fonction Python <mark style=\"font-family: Consolas;\">y</mark> d'arguments <mark style=\"font-family: Consolas;\">h</mark> et <mark style=\"font-family: Consolas;\">n</mark> (dans cet ordre) qui renvoie la valeur $y_n$.</strong>\n",
    "<br>\n",
    "<br>\n",
    "<span style=\"color:red;\">a. La suite $(y_n)_{n \\geq 0}$ est géométrique :</span>\n",
    "<ul style=\"color:red;\">\n",
    "    <li>de premier terme $y_0=1$ ;</li>\n",
    "    <li>de raison $1+h$.</li>\n",
    "</ul>\n",
    "<span style=\"color:red;\">b. On en déduit que $\\forall n \\in \\mathbb{N}$ ; $y_n = (1+h)^n$.</span>\n",
    "</span>"
   ]
  },
  {
   "cell_type": "code",
   "execution_count": 2,
   "metadata": {},
   "outputs": [],
   "source": [
    "# Écrire ici la fonction y d'arguments h et n\n",
    "\n",
    "def y(h,n):\n",
    "    \"\"\"\n",
    "    fonction qui renvoie une valeur approchée de l'ordonnée y_n du point A_n\n",
    "    \"\"\"\n",
    "    return (1+h)**n"
   ]
  },
  {
   "cell_type": "markdown",
   "metadata": {},
   "source": [
    "<br><br>\n",
    "\n",
    "## <span style=\"color:#8E44AD\" id=\"3\">3. Représentation graphique</span>"
   ]
  },
  {
   "cell_type": "markdown",
   "metadata": {},
   "source": [
    "<strong>3.1.a. Exécuter la cellule ci-dessous, qui permet de générer la liste des abscisses $x_0$, $x_1$, $x_2$ pour $h=0,1$.</strong> "
   ]
  },
  {
   "cell_type": "code",
   "execution_count": 3,
   "metadata": {},
   "outputs": [
    {
     "data": {
      "text/plain": [
       "[0.0, 0.1, 0.2]"
      ]
     },
     "execution_count": 3,
     "metadata": {},
     "output_type": "execute_result"
    }
   ],
   "source": [
    "# Exécuter cette cellule\n",
    "\n",
    "h = 0.1\n",
    "\n",
    "[ x(h,n) for n in range(3) ]\n"
   ]
  },
  {
   "cell_type": "markdown",
   "metadata": {},
   "source": [
    "<strong>$\\quad\\;$b. Écrire une fonction Python <mark style=\"font-family: Consolas;\">L_x</mark> qui reçoit <mark style=\"font-family: Consolas;\">h</mark> et <mark style=\"font-family: Consolas;\">N</mark> en arguments (dans cet ordre) et qui renvoie la liste des abscisses $x_0$, $x_1$, ..., $x_N$.</strong> "
   ]
  },
  {
   "cell_type": "code",
   "execution_count": 4,
   "metadata": {},
   "outputs": [],
   "source": [
    "# Écrire ici la fonction L_x\n",
    "\n",
    "def L_x(h,N):\n",
    "    \"\"\"\n",
    "    fonction qui renvoie les N+1 premières abscisses\n",
    "    \"\"\"\n",
    "    return [ x(h,n) for n in range(N+1) ]\n"
   ]
  },
  {
   "cell_type": "markdown",
   "metadata": {},
   "source": [
    "<strong>$\\quad\\;$c. Écrire une fonction Python <mark style=\"font-family: Consolas;\">L_y</mark> qui reçoit <mark style=\"font-family: Consolas;\">h</mark> et <mark style=\"font-family: Consolas;\">N</mark> en arguments (dans cet ordre) et qui renvoie la liste des ordonnées $y_0$, $y_1$, ..., $y_N$.</strong> "
   ]
  },
  {
   "cell_type": "code",
   "execution_count": 5,
   "metadata": {},
   "outputs": [],
   "source": [
    "# Écrire ici la fonction L_y\n",
    "\n",
    "def L_y(h,N):\n",
    "    \"\"\"\n",
    "    fonction qui renvoie les N+1 premières abscisses\n",
    "    \"\"\"\n",
    "    return [ y(h,n) for n in range(N+1) ]\n"
   ]
  },
  {
   "cell_type": "markdown",
   "metadata": {},
   "source": [
    "<strong>La fonction <mark style=\"font-family: Consolas;\">Graphique_Euler</mark> fournie ci-dessous permet de représenter les points $M_n$ pour $0 \\leq n \\leq N$ dans un repère.<br>\n",
    "L'appel effectué permet d'obtenir des curseurs permettant de paramétrer :\n",
    "<ul>\n",
    "    <li>la valeur $h$ ;</li>\n",
    "    <li>la valeur $N$ ;</li>\n",
    "    <li>les extrêma $x_{min}$ , $x_{max}$ , $y_{min}$ et $y_{max}$ de la fenêtre d'affichage.\n",
    "</ul>    \n",
    "</strong>\n"
   ]
  },
  {
   "cell_type": "markdown",
   "metadata": {},
   "source": [
    "<strong>3.2. Exécuter la cellule ci-dessous. À l'aide des curseurs, observer le nuage de points obtenu, et en particulier le gain en précision lorsqu'on prend des valeurs de $h$ \"suffisamment petites\".</strong><br>\n",
    "NB : L'exécution de cette cellule nécessite que les fonctions <mark style=\"font-family: Consolas;\">L_x</mark> et <mark style=\"font-family: Consolas;\">L_y</mark> aient été préalablement définies."
   ]
  },
  {
   "cell_type": "code",
   "execution_count": 6,
   "metadata": {},
   "outputs": [
    {
     "data": {
      "application/vnd.jupyter.widget-view+json": {
       "model_id": "5d49c22bb5354efb92f1ba113ab66202",
       "version_major": 2,
       "version_minor": 0
      },
      "text/plain": [
       "interactive(children=(FloatSlider(value=0.25, description='h', max=0.5, min=0.01, step=0.01), IntSlider(value=…"
      ]
     },
     "metadata": {},
     "output_type": "display_data"
    },
    {
     "data": {
      "text/plain": [
       "<function __main__.Graphique_Euler(h, N, xmin, xmax, ymin, ymax)>"
      ]
     },
     "execution_count": 6,
     "metadata": {},
     "output_type": "execute_result"
    }
   ],
   "source": [
    "import matplotlib.pyplot as plt\n",
    "from ipywidgets import interact, widgets\n",
    "\n",
    "def Graphique_Euler(h,N,xmin,xmax,ymin,ymax):\n",
    "    \n",
    "    # initialisation du graphique\n",
    "    fig = plt.figure()    \n",
    "\n",
    "    # paramétrage des axes\n",
    "    ax = fig.gca()\n",
    "    ax.set_xticks([x for x in range(xmin,xmax+1,1 if xmax-xmin<25 else 5)])\n",
    "    ax.set_yticks([y for y in range(ymin,ymax+1,1 if ymax-ymin<25 else 5)])   \n",
    "    plt.plot([xmin,xmax],[0,0],color='black')\n",
    "    plt.plot([0,0],[ymin,ymax],color='black')\n",
    "    plt.axis([xmin,xmax,ymin,ymax]) \n",
    "    plt.grid()\n",
    "    \n",
    "    # représentation graphique des points\n",
    "    plt.scatter( L_x(h,N), L_y(h,N), s=10, color='purple' )\n",
    "    plt.show()\n",
    "       \n",
    "interact(Graphique_Euler,\n",
    "         h    = widgets.FloatSlider (min=.01, max=0.5, step=.01, value=.25),\n",
    "         N    = widgets.IntSlider   (min=0  , max=100, step=5  , value=5  ),\n",
    "         xmin = widgets.IntSlider   (min=-20, max=-5 , step=5  , value=-3 ),\n",
    "         xmax = widgets.IntSlider   (min=0  , max=20 , step=5  , value=10 ),\n",
    "         ymin = widgets.IntSlider   (min=-15, max=-5 , step=5  , value=-2 ),\n",
    "         ymax = widgets.IntSlider   (min=0  , max=100, step=5  , value=10 ),\n",
    "        )\n"
   ]
  },
  {
   "cell_type": "markdown",
   "metadata": {},
   "source": [
    "<strong>3.3. On admet que la même méthode permet d'approcher la courbe $C_f$ par des points d'abscisses négatives, en prenant $h<0$.<br>\n",
    "$\\quad\\;\\;$Exécuter la cellule ci-dessous pour observer un tel nuage de points.</strong>"
   ]
  },
  {
   "cell_type": "code",
   "execution_count": 7,
   "metadata": {},
   "outputs": [
    {
     "data": {
      "application/vnd.jupyter.widget-view+json": {
       "model_id": "4e6549d0029a4de29ea79910c98336cd",
       "version_major": 2,
       "version_minor": 0
      },
      "text/plain": [
       "interactive(children=(FloatSlider(value=-0.25, description='h', max=-0.01, min=-0.5, step=0.01), IntSlider(val…"
      ]
     },
     "metadata": {},
     "output_type": "display_data"
    },
    {
     "data": {
      "text/plain": [
       "<function __main__.Graphique_Euler(h, N, xmin, xmax, ymin, ymax)>"
      ]
     },
     "execution_count": 7,
     "metadata": {},
     "output_type": "execute_result"
    }
   ],
   "source": [
    "interact(Graphique_Euler,\n",
    "         h    = widgets.FloatSlider (min=-0.5, max=-0.01, step=.01, value=-.25),\n",
    "         N    = widgets.IntSlider   (min=0   , max=100  , step=5  , value=5   ),\n",
    "         xmin = widgets.IntSlider   (min=-20 , max=-5   , step=5  , value=-3  ),\n",
    "         xmax = widgets.IntSlider   (min=0   , max=20   , step=5  , value=10  ),\n",
    "         ymin = widgets.IntSlider   (min=-15 , max=-5   , step=5  , value=-2  ),\n",
    "         ymax = widgets.IntSlider   (min=0   , max=100  , step=5  , value=10  ),\n",
    "        )"
   ]
  },
  {
   "cell_type": "markdown",
   "metadata": {},
   "source": [
    "<br><br>\n",
    "\n",
    "## <span style=\"color:#8E44AD\" id=\"4\">4. Nombre d'Euler</span>"
   ]
  },
  {
   "cell_type": "markdown",
   "metadata": {},
   "source": [
    "<BLOCKQUOTE style=\"background-color:Lavender;\">\n",
    "    On appelle <strong>nombre d'Euler</strong> (et on note $e$) l'image de 1 par la fonction $f$, c'est à dire $e = f(1) = \\exp (1)$\n",
    "</BLOCKQUOTE>\n"
   ]
  },
  {
   "cell_type": "markdown",
   "metadata": {},
   "source": [
    "<strong>4.1. On fixe $N \\in \\mathbb{N}^*$ et on pose $h=\\displaystyle \\frac{1}{N}$.<br>\n",
    "$\\quad\\;\\;$Déterminer la valeur de $x_N$, et en déduire que $y_N \\approx e$.<br>\n",
    "<br>\n",
    "<span style=\"color:red;\">\n",
    "$\\displaystyle x_N=Nh=N\\times \\frac{1}{N}=1$ et $y_N \\approx f(x_N)=f(1)=e$.\n",
    "</span>"
   ]
  },
  {
   "cell_type": "markdown",
   "metadata": {},
   "source": [
    "<strong>4.2. À l'aide d'un appel à la fonction <mark style=\"font-family: Consolas;\">L_y</mark>, déterminer une valeur approchée de $e$ en prenant $N=10000$.</strong><br>\n",
    "$\\quad\\;\\;$Aide : Pour une liste Python <mark style=\"font-family: Consolas;\">L</mark>, la syntaxe <mark style=\"font-family: Consolas;\">L[-1]</mark> permet d'obtenir la valeur du dernier élément de la liste."
   ]
  },
  {
   "cell_type": "code",
   "execution_count": 8,
   "metadata": {},
   "outputs": [
    {
     "data": {
      "text/plain": [
       "2.7181459268249255"
      ]
     },
     "execution_count": 8,
     "metadata": {},
     "output_type": "execute_result"
    }
   ],
   "source": [
    "# Effectuer ici un appel à la fonction L_y\n",
    "\n",
    "L_y(1/10000,10000)[-1]"
   ]
  },
  {
   "cell_type": "markdown",
   "metadata": {},
   "source": [
    "![Euler](https://raw.githubusercontent.com/PythonLycee/PyLyc/master/img/Leonhard_Euler.jpg) \n",
    "\n",
    "<center> <a href=\"https://fr.wikipedia.org/wiki/Leonhard_Euler\">Leonhard Euler</a> (1707-1783)</center>"
   ]
  },
  {
   "cell_type": "markdown",
   "metadata": {},
   "source": [
    "<i>© Copyright Franck CHEVRIER 2019-2021 https://www.python-lycee.com.</i><br>\n",
    "<i>Les activités partagées sur <a href=\"https://capytale2.ac-paris.fr/web/accueil\"><strong>Capytale</strong></a> sont sous licence <a href=\"https://creativecommons.org/licenses/by-sa/3.0/fr/\">Creative Commons</a>.</i>\n"
   ]
  }
 ],
 "metadata": {
  "celltoolbar": "Raw Cell Format",
  "kernelspec": {
   "display_name": "Python 3",
   "language": "python",
   "name": "python3"
  },
  "language_info": {
   "codemirror_mode": {
    "name": "ipython",
    "version": 3
   },
   "file_extension": ".py",
   "mimetype": "text/x-python",
   "name": "python",
   "nbconvert_exporter": "python",
   "pygments_lexer": "ipython3",
   "version": "3.8.5"
  }
 },
 "nbformat": 4,
 "nbformat_minor": 2
}
