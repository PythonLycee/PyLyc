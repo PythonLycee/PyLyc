{
 "cells": [
  {
   "cell_type": "markdown",
   "metadata": {},
   "source": [
    "![En tête general](img/En_tete_general.png)\n",
    "\n",
    "\n",
    "*(C) Copyright Franck CHEVRIER 2019-2021 http://www.python-lycee.com/*\n",
    "\n",
    "<span style=\"color: #9317B4\"> Pour exécuter une saisie Python, sélectionner la cellule et valider avec </span><span style=\"color: #B317B4\"><strong>SHIFT+Entrée</strong></span>.\n"
   ]
  },
  {
   "cell_type": "markdown",
   "metadata": {},
   "source": [
    "# <span style=\"color:#6C3483\">La suite de Fibonacci </span>\n"
   ]
  },
  {
   "cell_type": "markdown",
   "metadata": {},
   "source": [
    "### <span style=\"color:#8E44AD\">Sommaire</span>\n",
    "\n",
    "<span style=\"color:#8E44AD\">1.</span> <a href=\"#1\">Définition par récurrence de la suite de Fibonacci.</a><br>\n",
    "<span style=\"color:#8E44AD\">2.</span> <a href=\"#2\">Formule de Binet : calculs directs des termes de la suite.</a><br>\n",
    "<span style=\"color:#8E44AD\">3.</span> <a href=\"#3\">Complément sur la suite de Fibonacci : Quotients de termes successifs.</a> <span style=\"background-color:#FAFBDC; color:#7B5802; font-size:0.6em;\">(T<sup>ale</sup> Spé Math)</span><br>\n",
    "\n"
   ]
  },
  {
   "cell_type": "markdown",
   "metadata": {},
   "source": [
    "## <span style=\"color:#8E44AD\" id=\"1\">1. Définition par récurrence de la suite de Fibonacci.</span>"
   ]
  },
  {
   "cell_type": "markdown",
   "metadata": {},
   "source": [
    "<BLOCKQUOTE style=\"background-color:#E9E2EC; color:#4B026B;\">\n",
    "On considère l'évolution d'une population (fictive) de lapins, régie par les règles suivantes :\n",
    "<ul>\n",
    "    <li> Initialement, il y a un couple de jeunes lapins ;</li> \n",
    "    <li> Un nouveau couple de lapins doit attendre 1 mois avant d'être adulte et de pouvoir se reproduire ;</li> \n",
    "    <li> Chaque mois, chaque couple de lapins adulte donne naissance à un nouveau couple de jeunes lapins ;</li> \n",
    "    <li> Les couples de lapins ne meurent jamais.</li>\n",
    "</ul>\n",
    "</BLOCKQUOTE>\n",
    "Activer la cellule ci-dessous pour obtenir une illustration dynamique des premiers mois d'observation.<br>\n",
    "<span style=\"color: #FF0000\">Pour faire apparaître et activer l'animation, sélectionner la cellule ci-dessous et valider avec <strong>SHIFT+Entrée</strong>.</span><br>\n",
    "<span style=\"color: #BDBFBF\">Vous pouvez ensuite utiliser les menus cinématiques :</span>\n",
    "\n",
    "![Menus_animation](img/menus_animation_GeoGebra.png)\n"
   ]
  },
  {
   "cell_type": "code",
   "execution_count": null,
   "metadata": {},
   "outputs": [],
   "source": [
    "#Sélectionner cette zone puis SHIFT+ENTREE\n",
    "from IPython.display import display, HTML ; display(HTML('fig_dyn_GeoGebra/Fibonacci.html'))"
   ]
  },
  {
   "cell_type": "markdown",
   "metadata": {},
   "source": [
    "<BLOCKQUOTE style=\"background-color:#E9E2EC; color:#4B026B;\">\n",
    "On note $F_n$ le nombre de couples de lapins à l'étape $n$, où $n \\in \\mathbb{N}$ est le rang du mois de l'observation (en considérant que $n=0$ correspond à l'étape initiale).\n",
    "</BLOCKQUOTE>"
   ]
  },
  {
   "cell_type": "markdown",
   "metadata": {},
   "source": [
    "__1.1. Soit $n \\in \\mathbb{N}$. Exprimer $F_{n+2}$ en fonction de $F_{n+1}$ et $F_n$.__\n"
   ]
  },
  {
   "cell_type": "markdown",
   "metadata": {},
   "source": [
    "__1.2. Exécuter les cellules Python suivantes. Pour chacune, expliquer ce que permet d'obtenir la syntaxe proposée.__\n"
   ]
  },
  {
   "cell_type": "code",
   "execution_count": null,
   "metadata": {},
   "outputs": [],
   "source": [
    "Fibo = [1,1,2,3,5]\n",
    "Fibo "
   ]
  },
  {
   "cell_type": "code",
   "execution_count": null,
   "metadata": {},
   "outputs": [],
   "source": [
    "Fibo[-1]"
   ]
  },
  {
   "cell_type": "code",
   "execution_count": null,
   "metadata": {},
   "outputs": [],
   "source": [
    "Fibo[-2]"
   ]
  },
  {
   "cell_type": "code",
   "execution_count": null,
   "metadata": {},
   "outputs": [],
   "source": [
    "a = Fibo[-1]+Fibo[-2]\n",
    "Fibo.append(a)\n",
    "\n",
    "Fibo"
   ]
  },
  {
   "cell_type": "markdown",
   "metadata": {},
   "source": [
    "__1.3. Écrire une fonction Python <mark style=\"font-family: Consolas;\">Fibonacci</mark> qui reçoit <mark style=\"font-family: Consolas;\">N</mark> non nul en argument et qui renvoie la liste des termes $F_n$ pour $0 \\leq n \\leq N$.__\n",
    "<br>\n",
    "$\\quad\\;$Aide : On pourra initialiser une suite <mark style=\"font-family: Consolas;\">[1,1]</mark> que l'on complètera ensuite progressivement à l'aide d'une boucle."
   ]
  },
  {
   "cell_type": "code",
   "execution_count": null,
   "metadata": {},
   "outputs": [],
   "source": [
    "# Écrire ici la fonction Fibonacci\n",
    "\n"
   ]
  },
  {
   "cell_type": "markdown",
   "metadata": {},
   "source": [
    "__1.4. À l'aide la fonction <mark style=\"font-family: Consolas;\">Fibonacci</mark>, obtenir la liste des 30 premiers termes de la suite de Fibonacci $(F_n)_{n \\geq 0}$.__"
   ]
  },
  {
   "cell_type": "code",
   "execution_count": null,
   "metadata": {},
   "outputs": [],
   "source": [
    "# Écrire ici un appel à la fonction Fibonacci\n",
    "\n"
   ]
  },
  {
   "cell_type": "markdown",
   "metadata": {},
   "source": [
    "## <span style=\"color:#8E44AD\" id=\"2\">2. Formule de Binet : calculs directs des termes de la suite.</span>"
   ]
  },
  {
   "cell_type": "markdown",
   "metadata": {},
   "source": [
    "<BLOCKQUOTE style=\"align:center; float:right; background-color:#FCF7E7; color:#BA4A00; font-size:0.8em;\">\n",
    "    <strong>Notations :</strong>\n",
    "    <ul>\n",
    "        <li> $\\displaystyle \\phi$ est une lettre grecque qui se lit \"<strong>phi</strong>\" ;</li>\n",
    "        <li> $\\displaystyle \\psi$ est une lettre grecque qui se lit \"<strong>psi</strong>\".</li>\n",
    "    </ul>\n",
    "    <strong>Remarque :</strong><br>\n",
    "    Le nombre $\\phi$ ainsi défini s'appelle le <strong>nombre d'or</strong>.\n",
    "</BLOCKQUOTE>\n",
    "\n",
    "\n",
    "<BLOCKQUOTE style=\"background-color:#E9E2EC; color:#4B026B;\">\n",
    "On pose $\\displaystyle \\phi=\\frac{1+\\sqrt{5}}{2}$ et $\\displaystyle \\psi=\\frac{1-\\sqrt{5}}{2}$, et on considère :\n",
    "<ul>\n",
    "    <li>la suite $(u_n)_{n \\geq 0}$ géométrique de premier terme $u_0=\\phi$ et de raison $\\displaystyle \\phi$.</li>\n",
    "    <li>la suite $(v_n)_{n \\geq 0}$ géométrique de premier terme $v_0=\\psi$ et de raison $\\displaystyle \\psi$.</li>\n",
    "</ul>\n",
    "</BLOCKQUOTE>"
   ]
  },
  {
   "cell_type": "markdown",
   "metadata": {},
   "source": [
    "__2.0 Valider la cellule suivante.__<br>\n",
    "$\\;\\;\\;$__Les fonctionnalités importées de <mark style=\"font-family: Consolas;\">sympy</mark> permettront d'effectuer des calculs avec racines carrées en valeurs exactes.__"
   ]
  },
  {
   "cell_type": "code",
   "execution_count": null,
   "metadata": {},
   "outputs": [],
   "source": [
    "from sympy import sqrt,simplify\n",
    "\n",
    "sqrt(5) # syntaxe pour la racine carrée de 5"
   ]
  },
  {
   "cell_type": "markdown",
   "metadata": {},
   "source": [
    "__2.1. Créer des variables Python <mark style=\"font-family: Consolas;\">phi</mark> et <mark style=\"font-family: Consolas;\">psi</mark> correspondant respectivement à $\\phi$ et $\\psi$.<br>\n",
    "$\\quad\\;\\;$Écrire ensuite des fonctions Python <mark style=\"font-family: Consolas;\">u</mark> et <mark style=\"font-family: Consolas;\">v</mark> d'argument <mark style=\"font-family: Consolas;\">n</mark> permettant le calcul de $u_n$ et $v_n$.__"
   ]
  },
  {
   "cell_type": "code",
   "execution_count": null,
   "metadata": {},
   "outputs": [],
   "source": [
    "#Utiliser ces zones de saisies pour créer phi et psi, puis pour définir u et v\n"
   ]
  },
  {
   "cell_type": "code",
   "execution_count": null,
   "metadata": {},
   "outputs": [],
   "source": [
    "\n"
   ]
  },
  {
   "cell_type": "code",
   "execution_count": null,
   "metadata": {},
   "outputs": [],
   "source": [
    "\n"
   ]
  },
  {
   "cell_type": "code",
   "execution_count": null,
   "metadata": {},
   "outputs": [],
   "source": [
    "\n"
   ]
  },
  {
   "cell_type": "markdown",
   "metadata": {},
   "source": [
    "__2.2. Exécuter les cellules suivantes. Qu'observe-t-on ?__\n"
   ]
  },
  {
   "cell_type": "code",
   "execution_count": null,
   "metadata": {},
   "outputs": [],
   "source": [
    "simplify( (u(3)-v(3))/sqrt(5) )"
   ]
  },
  {
   "cell_type": "code",
   "execution_count": null,
   "metadata": {},
   "outputs": [],
   "source": [
    "simplify( (u(4)-v(4))/sqrt(5) )"
   ]
  },
  {
   "cell_type": "markdown",
   "metadata": {},
   "source": [
    "<BLOCKQUOTE style=\"background-color:#E9E2EC; color:#4B026B;\">\n",
    "La <strong>formule de Binet</strong> affirme que pour tout $n \\in \\mathbb{N}$ ; $\\displaystyle F_{n} = \\frac{u_{n}-v_{n}}{\\sqrt{5}} $. \n",
    "</BLOCKQUOTE>\n",
    "\n",
    "<strong>2.3. Question différenciée suivant le niveau :</strong>\n",
    "<BLOCKQUOTE style=\"background-color:#F8F1FB;\">\n",
    "\n",
    "<BLOCKQUOTE style=\"background-color:#E2F2C8; color:#365405;\">\n",
    "    <strong>Version 1<sup>ère</sup> Spé Math</strong><br>\n",
    "    À l'aide de saisies Python, calculer $\\displaystyle \\frac{u_{n}-v_{n}}{\\sqrt{5}}$ pour tous les entiers $n$ de 0 jusqu'à 29.\n",
    "    <br>(on appliquera la fonction <mark style=\"font-family: Consolas;\">simplify</mark>)\n",
    "    <br>Comparer les résultats avec ceux de la question 1.4.\n",
    "    <br>Pour la suite, on admettra que la formule de Binet est vraie pour tout $n \\in \\mathbb{N}$.\n",
    "</BLOCKQUOTE>    \n",
    "<BLOCKQUOTE style=\"background-color:#FAFBDC; color:#7B5802;\">\n",
    "    <strong>Version T<sup>ale</sup> Spé Math</strong><br>\n",
    "    <strong>a.</strong> Démontrer que $\\phi$ et $\\psi$ sont les racines du polynôme $x²-x-1$.<br>\n",
    "    $\\quad$ ($\\phi$ et $\\psi$ vérifient donc $1+\\phi=\\phi^2$ et $1+\\psi=\\psi^2$).<br>\n",
    "    <strong>b.</strong> À l'aide d'un raisonnement par récurrence, démontrer que la formule de Binet est vraie pour tout $n \\in \\mathbb{N}$.\n",
    "</BLOCKQUOTE> \n",
    "    \n",
    "</BLOCKQUOTE>    \n",
    "\n"
   ]
  },
  {
   "cell_type": "code",
   "execution_count": null,
   "metadata": {},
   "outputs": [],
   "source": [
    "# Zone pour les saisies Python (version 1ère Spé Math)\n",
    "\n"
   ]
  },
  {
   "cell_type": "markdown",
   "metadata": {},
   "source": [
    "__2.4.a. À l'aide des fonctions Python <mark style=\"font-family: Consolas;\">u</mark> et <mark style=\"font-family: Consolas;\">v</mark>, écrire une fonction Python <mark style=\"font-family: Consolas;\">F</mark> d'argument <mark style=\"font-family: Consolas;\">n</mark> qui permet le calcul direct de $F_n$.__"
   ]
  },
  {
   "cell_type": "code",
   "execution_count": null,
   "metadata": {},
   "outputs": [],
   "source": [
    "# Écrire ici la fonction F\n",
    "\n"
   ]
  },
  {
   "cell_type": "markdown",
   "metadata": {},
   "source": [
    "$\\quad$__b. Effectuer une saisie Python pour calculer $F_{10}$, puis pour calculer $F_{50}$.__"
   ]
  },
  {
   "cell_type": "code",
   "execution_count": null,
   "metadata": {},
   "outputs": [],
   "source": [
    "# Effectuer ici les appels à la fonction F\n",
    "\n"
   ]
  },
  {
   "cell_type": "markdown",
   "metadata": {},
   "source": [
    "## <span style=\"color:#8E44AD\" id=\"3\">3. Complément sur la suite de Fibonacci : Quotients de termes successifs.</span> <span style=\"background-color:#FAFBDC; color:#7B5802; font-size:0.6em;\"> (T<sup>ale</sup> Spé Math)</span>"
   ]
  },
  {
   "cell_type": "markdown",
   "metadata": {},
   "source": [
    "__3.1. Exécuter les cellules Python suivantes.__<br>\n",
    "$\\quad\\;\\;$__Indiquer ce que permet d'obtenir chaque cellule. Quelle conjecture permettent-elles d'énoncer ?__\n"
   ]
  },
  {
   "cell_type": "code",
   "execution_count": null,
   "metadata": {},
   "outputs": [],
   "source": [
    "float(F(21)/F(20))"
   ]
  },
  {
   "cell_type": "code",
   "execution_count": null,
   "metadata": {},
   "outputs": [],
   "source": [
    "float(F(101)/F(100))"
   ]
  },
  {
   "cell_type": "code",
   "execution_count": null,
   "metadata": {},
   "outputs": [],
   "source": [
    "float(phi)"
   ]
  },
  {
   "cell_type": "markdown",
   "metadata": {},
   "source": [
    "__3.2.a. Vérifier que $\\displaystyle \\left| \\frac{\\psi}{\\phi} \\right|<1$ et en déduire la limite de $\\displaystyle \\left( \\frac{\\psi}{\\phi} \\right)^n$ quand $n$ tend vers $+\\infty$.__\n"
   ]
  },
  {
   "cell_type": "markdown",
   "metadata": {},
   "source": [
    "$\\quad\\;$__b. Démontrer que pour tout $n \\in \\mathbb{N}$ ; $\\displaystyle \\frac{F_{n+1}}{F_n}= \\phi \\times \\frac{1-\\left( \\frac{\\psi}{\\phi} \\right)^{n+2}}{1-\\left( \\frac{\\psi}{\\phi} \\right)^{n+1}}$.__\n"
   ]
  },
  {
   "cell_type": "markdown",
   "metadata": {},
   "source": [
    "$\\quad\\;$__c. Conclure : Quelle est la limite de $\\displaystyle \\frac{F_{n+1}}{F_n}$ quand $n$ tend vers $+\\infty$ ?__\n"
   ]
  },
  {
   "cell_type": "markdown",
   "metadata": {},
   "source": [
    "![Fibonacci](img/Leonardo_Fibonacci.jpg)\n",
    "\n",
    "<center> <a href=\"https://fr.wikipedia.org/wiki/Leonardo_Fibonacci\">Leonardo Fibonacci</a> (env. 1175 - env. 1250) est un mathématicien italien qui a donné son nom à <a href=\"https://fr.wikipedia.org/wiki/Suite_de_Fibonacci\">la suite de Fibonacci.</a></center>"
   ]
  },
  {
   "cell_type": "markdown",
   "metadata": {},
   "source": [
    "*(C) Copyright Franck CHEVRIER 2019-2021 http://www.python-lycee.com/*\n"
   ]
  }
 ],
 "metadata": {
  "celltoolbar": "Raw Cell Format",
  "kernelspec": {
   "display_name": "Python 3",
   "language": "python",
   "name": "python3"
  },
  "language_info": {
   "codemirror_mode": {
    "name": "ipython",
    "version": 3
   },
   "file_extension": ".py",
   "mimetype": "text/x-python",
   "name": "python",
   "nbconvert_exporter": "python",
   "pygments_lexer": "ipython3",
   "version": "3.7.10"
  }
 },
 "nbformat": 4,
 "nbformat_minor": 2
}
