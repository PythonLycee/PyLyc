{
 "cells": [
  {
   "cell_type": "markdown",
   "metadata": {},
   "source": [
    "![En tête general](https://raw.githubusercontent.com/PythonLycee/PyLyc/master/img/En_tete_general.png)\n",
    "\n",
    "\n",
    "<i>© Copyright Franck CHEVRIER 2019-2021 https://www.python-lycee.com.</i><br>\n",
    "<i>Activité réalisée en collaboration avec Carole BOURGON.</i><br>\n",
    "<i>Les activités partagées sur <a href=\"https://capytale2.ac-paris.fr/web/accueil\"><strong>Capytale</strong></a> sont sous licence <a href=\"https://creativecommons.org/licenses/by-sa/3.0/fr/\">Creative Commons</a>.</i>\n",
    "\n",
    "<span style=\"color: #9317B4\"> Pour exécuter une saisie Python, sélectionner la cellule et valider avec </span><span style=\"color: #B317B4\"><strong>SHIFT+Entrée</strong></span>.\n"
   ]
  },
  {
   "cell_type": "markdown",
   "metadata": {},
   "source": [
    "# Chute d'une pierre <span style=\"color:red;\">(Corrigé) - VERSION EN CONSTRUCTION</span>"
   ]
  },
  {
   "cell_type": "markdown",
   "metadata": {},
   "source": [
    "<BLOCKQUOTE style=\"background-color:#D7DBDD;\">\n",
    "Les objectifs de cette activité sont : \t\t\n",
    "<ul>\n",
    "    <li>Choisir un référentiel pour décrire le mouvement d’un système.</li> \n",
    "<li>Décrire le mouvement d’un système par celui d’un point et caractériser cette modélisation en termes de perte d’informations.</li> \n",
    "<li>Représenter les positions successives d’un système modélisé par un point lors d’une évolution unidimensionnelle ou bidimensionnelle à l’aide du langage de programmation Python.</li> \n",
    "</li>\n",
    "</BLOCKQUOTE>"
   ]
  },
  {
   "cell_type": "markdown",
   "metadata": {},
   "source": [
    "### <span style=\"color:#8E44AD\">Sommaire</span>\n",
    "\n",
    "<span style=\"color:#8E44AD\">1.</span> <a href=\"#1\">Contexte historique : La pierre et le bateau</a><br>\n",
    "<span style=\"color:#8E44AD\">2.</span> <a href=\"#2\">Le vélo et la balle</a><br>\n"
   ]
  },
  {
   "cell_type": "markdown",
   "metadata": {},
   "source": [
    "## <span style=\"color:#8E44AD\" id=\"1\">1. Contexte historique : La pierre et le bateau</span>\n",
    "\n",
    "<a href=\"https://fr.wikipedia.org/wiki/Dialogue_sur_les_deux_grands_syst%C3%A8mes_du_monde\">\n",
    "<figure style=\"float: right;\">\n",
    "    <img width=50%; height=50%; src=\"https://raw.githubusercontent.com/PythonLycee/PyLyc/master/img/couv_livre_Galilee_reduit.jpg\">\n",
    "    <figcaption><FONT size=0.2px><center>\"Dialogue concernant les deux plus grands<br> systèmes du monde\" de Galilée (1632)</center></FONT></figcaption>\n",
    "</figure>\n",
    "</a>\n",
    "<br><br>\n",
    "<p style=\"text-align:justify;\">\n",
    "Dès le début du XVIIe siècle, Galiléo Galiléi est convaincu par le modèle héliocentrique du monde. L’un des arguments principaux des détracteurs de Galilée, consiste à affirmer que nous devrions nous rendre compte d’un mouvement éventuel de la Terre. Par l’intermédiaire du dialogue entre les deux personnages fictifs - Simplicio et Salviati- Galilée essaie de réfuter cet argument.\n",
    "</p<"
   ]
  },
  {
   "cell_type": "markdown",
   "metadata": {},
   "source": [
    "<BLOCKQUOTE style=\"background-color:#F7F2F8;\">\n",
    "<strong>Document 1 :</strong> Extrait du \"Dialogue concernant les deux plus grands systèmes du monde\" de Galilée (édité en 1632)\n",
    "\n",
    "« <strong>Simplicio :</strong> Laissons tomber une boule de plomb du haut d’un mât d’un navire au repos et notons l’endroit où elle arrive, tout près du pied du mât : si du même endroit, on laisse tomber la même boule quand le navire est en mouvement, le lieu de sa percussion sera éloigné de l’autre (c’est-à-dire du pied du mât du navire) d’une distance égale à celle que le navire aura parcouru pendant le temps de chute, et tout simplement parce que le mouvement naturel de la boule, laissée à sa liberté se fait en ligne droite vers le centre de la Terre.<br><br>\n",
    "<strong>Salviati :</strong> Très bien. N’avez-vous jamais fait l’expérience du navire ?<br><br>\n",
    "<strong>Simplicio :</strong> Je ne l’ai jamais faite, mais je crois vraiment que les auteurs qui la présentent en ont fait soigneusement l’observation …<br><br>\n",
    "<strong>Salviati :</strong> … Que n’importe qui la fasse et il trouvera en effet que l’expérience montre le contraire de ce qui est écrit : la boule tombe au même endroit du navire, que celui-ci soit à l’arrêt ou avance à n’importe quelle vitesse. Le même raisonnement valant pour le navire et pour la Terre, si la pierre tombe toujours à la verticale au pied de la tour, on ne peut rien en conclure quant au mouvement ou au repos de la Terre… »\n",
    "\n",
    "</BLOCKQUOTE>"
   ]
  },
  {
   "cell_type": "markdown",
   "metadata": {},
   "source": [
    "<BLOCKQUOTE style=\"background-color:#F7F2F8;\">\n",
    "<strong>Document 2 :</strong> Trajectoire, référentiel et système.<br><br>\n",
    "La trajectoire d'un corps est l'ensemble des positions successives occupées par cet objet au cours du temps : Par exemple, les traces du skieur dans la neige. L’objet dont on étudie le mouvement est appelé le système. Un référentiel est un objet par rapport auquel on étudie le mouvement du système. Le référentiel terrestre est défini par rapport à tout objet fixe par rapport au sol terrestre.\n",
    "</BLOCKQUOTE>"
   ]
  },
  {
   "cell_type": "markdown",
   "metadata": {},
   "source": [
    "<BLOCKQUOTE style=\"background-color:#F7F2F8;\">\n",
    "<strong>Document 3 :</strong> Vocabulaire pour décrire le mouvement d’un système dans un référentiel<br><br>\n",
    "<table style=\"background-color:#ECECEC; font-size: 14px; text-align:center; color:#27063E;\">\n",
    "    <tr>\n",
    "        <td ROWSPAN=\"6\" style=\"background-color:#ECECEC\"><center><strong>Qualifier la trajectoire</strong></center></td>\n",
    "    </tr>\n",
    "    <tr>\n",
    "        <td width=400 style=\"text-align:center;\">Mouvement rectiligne</td>\n",
    "        <td width=400 style=\"text-align:center;\">la trajectoire est une droite</td>\n",
    "    </tr>    \n",
    "    <tr>\n",
    "    </tr>\n",
    "    <tr>\n",
    "        <td width=400 style=\"text-align:center;\">Mouvement circulaire</td>\n",
    "        <td width=400 style=\"text-align:center;\">la trajectoire est un cercle</td>\n",
    "    </tr> \n",
    "    <tr>\n",
    "    </tr>\n",
    "    <tr>\n",
    "        <td width=400 style=\"text-align:center;\">Mouvement curviligne</td>\n",
    "        <td width=400 style=\"text-align:center;\">la trajectoire est une courbe quelconque</td>\n",
    "    </tr>\n",
    "    <tr>\n",
    "    </tr>\n",
    "</table>    \n",
    "<br>\n",
    "<table style=\"background-color:#ECECEC; font-size: 14px; text-align:center; color:#27063E;\">\n",
    "    <tr>\n",
    "        <td ROWSPAN=\"6\" style=\"background-color:#ECECEC;\"><center><strong>Qualifier la vitesse</strong></center></td>\n",
    "    </tr>\n",
    "    <tr>\n",
    "        <td width=400 style=\"text-align:center;\">Mouvement uniforme</td>\n",
    "        <td width=400 style=\"text-align:center;\">la vitesse est constante</td>\n",
    "    </tr>    \n",
    "    <tr>\n",
    "    </tr>\n",
    "    <tr>\n",
    "        <td width=400 style=\"text-align:center;\">Mouvement décéléré ou ralenti</td>\n",
    "        <td width=400 style=\"text-align:center;\">la vitesse diminue</td>\n",
    "    </tr> \n",
    "    <tr>\n",
    "    </tr>\n",
    "    <tr>\n",
    "        <td width=400 style=\"text-align:center;\">Mouvement accéléré</td>\n",
    "        <td width=400 style=\"text-align:center;\">la vitesse augmente</td>\n",
    "    </tr>\n",
    "    <tr>\n",
    "    </tr>\n",
    "</table>  \n",
    "</BLOCKQUOTE>"
   ]
  },
  {
   "cell_type": "markdown",
   "metadata": {},
   "source": [
    "<BLOCKQUOTE style=\"background-color:#F1DCFE; color:#200134;\">\n",
    "<ul>\n",
    "    <li><strong>Question 1 :</strong> Indiquer la signification du terme héliocentrique.</li>\n",
    "    <li><strong>Question 2 :</strong> Indiquer le système étudié dans le document 1.</li>\n",
    "    <li><strong>Question 3 :</strong> Expliquer pourquoi le mouvement de la pierre est étudié par rapport à son centre.</li> \n",
    "    <li><strong>Question 4 :</strong> Donner deux adjectifs pour décrire le mouvement du bateau ci-après.<br>$\\quad\\quad\\quad\\quad\\;\\;$(Le même intervalle de temps sépare les différentes positions du bateau)</li>\n",
    "</ul>    \n",
    "<span style=\"color:red;\">insérer figure</span>\n",
    "<ul>\n",
    "    <li><strong>Question 5 :</strong> Attribuer à chaque schéma ci-dessous, le point de vue de Simplicio ou de Salviati.</li>\n",
    "</ul>\n",
    "<span style=\"color:red;\">insérer figure</span>\n",
    "</BLOCKQUOTE>"
   ]
  },
  {
   "cell_type": "markdown",
   "metadata": {},
   "source": [
    "\n",
    "## <span style=\"color:#8E44AD\" id=\"2\">2. Le vélo et la balle</span>\n"
   ]
  },
  {
   "cell_type": "markdown",
   "metadata": {},
   "source": [
    "Comme le conseille Salviati, on réalise l’expérience en remplaçant le navire par un vélo se déplaçant en ligne droite à vitesse pratiquement constante. \n",
    "\n",
    "<span style=\"color:red;\"> TEXTE À ACTUALISER \n",
    "\tExécuter le logiciel \"Latis-Pro\", puis cliquer sur l'icône\n",
    "\tOuvrir la vidéo \"TPsecondeRelativitémouvement\" \n",
    "\tSélectionner l'origine : prendre un point au niveau du sol (par exemple sur la zone de contact entre la roue avant du vélo et le sol). Sélectionner l'étalon (le diamètre de la roue mesure 0,68 m)\n",
    "\tChoisir le sens des axes :\n",
    "Dans un premier temps, on souhaite suivre le mouvement de la balle :\n",
    "\tSélectionner manuellement les points en cliquant sur la position du centre de la balle occupée image par image (s'aider de la loupe pour que le pointage soit le plus précis possible)\n",
    "</span>\n",
    "<br><br><br>\n",
    "<strong style=\"color:red;\"> INSERER LES ELEMENTS DYNAMIQUES POUR GENERER LES COORDONNEES</strong>\n"
   ]
  },
  {
   "cell_type": "markdown",
   "metadata": {},
   "source": [
    "<BLOCKQUOTE style=\"background-color:#F1DCFE; color:#200134;\">\n",
    "<ul>\n",
    "    <li><strong>Question 6 :</strong><br>Compléter les listes ci-dessous avec les abscisses et ordonnées de la balle et du guidon du vélo dans le référentiel terrestre.<br>Les abscisses et ordonnées de la <strong>balle</strong> et du <strong>guidon</strong> seront stockées respectivement dans <mark style=\"font-family: Consolas;\">xb</mark> et <mark style=\"font-family: Consolas;\">yb</mark>, et dans <mark style=\"font-family: Consolas;\">xg</mark> et <mark style=\"font-family: Consolas;\">yg</mark>.</li>\n",
    "</ul>\n",
    "</BLOCKQUOTE>"
   ]
  },
  {
   "cell_type": "code",
   "execution_count": 1,
   "metadata": {},
   "outputs": [
    {
     "data": {
      "text/plain": [
       "([0.343, 0.504, 0.673, 0.826, 0.978, 1.139, 1.291, 1.452, 1.613, 1.756],\n",
       " [1.495, 1.444, 1.368, 1.292, 1.199, 1.081, 0.937, 0.794, 0.616, 0.438],\n",
       " [0.166, 0.318, 0.462, 0.614, 0.758, 0.902, 1.054, 1.206, 1.35, 1.511],\n",
       " [0.87, 0.87, 0.878, 0.87, 0.861, 0.87, 0.87, 0.87, 0.861, 0.861])"
      ]
     },
     "execution_count": 1,
     "metadata": {},
     "output_type": "execute_result"
    }
   ],
   "source": [
    "xb = [] # compléter avec les abscisses de la balle\n",
    "yb = [] # compléter avec les ordonnées de la balle\n",
    "\n",
    "xg = [] # compléter avec les abscisses du guidon\n",
    "yg = [] # compléter avec les ordonnées du guidon\n",
    "\n",
    "\n",
    "\n",
    "# !!!\n",
    "# ces valeurs sont des valeurs test pour la suite\n",
    "# !!!\n",
    "\n",
    "xb=[0.343,0.504,0.673,0.826,0.978,1.139,1.291,1.452,1.613,1.756]\n",
    "yb=[1.495,1.444,1.368,1.292,1.199,1.081,0.937,0.794,0.616,0.438]\n",
    "\n",
    "xg=[0.166,0.318,0.462,0.614,0.758,0.902,1.054,1.206,1.35,1.511]\n",
    "yg=[0.87,0.87,0.878,0.87,0.861,0.87,0.87,0.87,0.861,0.861]\n",
    "\n",
    "xb,yb,xg,yg"
   ]
  },
  {
   "cell_type": "markdown",
   "metadata": {},
   "source": [
    "<BLOCKQUOTE style=\"background-color:#F1DCFE; color:#200134;\">\n",
    "<ul>\n",
    "    <li><strong>Question 6 :</strong><br>\n",
    "    <ul><li>Lire les commentaires de la fonction Python <mark style=\"font-family: Consolas;\">graphique</mark> ci-dessous, et observer la deuxième cellule.</li>\n",
    "        <li>De quel objet va-t-on ainsi observer la trajectoire ? Dans quel référentiel ?</li>\n",
    "        <li>Compléter le <mark style=\"font-family: Consolas;\">titre</mark> dans la deuxième cellule, et exécuter ensuite les deux cellules.</li>\n",
    "        <li>Expliquer comment ont été faits les choix des valeurs de <mark style=\"font-family: Consolas;\">xmin</mark>,<mark style=\"font-family: Consolas;\">xmax</mark>,<mark style=\"font-family: Consolas;\">ymin</mark> et <mark style=\"font-family: Consolas;\">ymax</mark>.</li>\n",
    "    </ul>\n",
    "</ul>\n",
    "</BLOCKQUOTE>"
   ]
  },
  {
   "cell_type": "markdown",
   "metadata": {},
   "source": [
    "<strong style=\"color:red;\">Remarque pour Carole : Les deux saisies Python suivantes seront <u>fournies</u> à l'élève.</strong>"
   ]
  },
  {
   "cell_type": "code",
   "execution_count": 2,
   "metadata": {},
   "outputs": [],
   "source": [
    "# Définition de la fonction graphique\n",
    "\n",
    "from matplotlib import pyplot as plt\n",
    "\n",
    "def graphique(\n",
    "                xmin=0 ,xmax=2, ymin=0, ymax=2,\n",
    "                titre='',\n",
    "                L_x=[] ,L_y=[],\n",
    "                unite='m'\n",
    "             ):   \n",
    "    \"\"\"\n",
    "    Cette fonction permet d'afficher une liste de points dans un repère\n",
    "    \n",
    "    xmin,xmax,ymin,ymax : coordonnées minimales et maximales observables sur le graphique\n",
    "    titre : titre du graphique\n",
    "    L_x   : liste des abscisses des points dans le repère\n",
    "    L_y   : liste des ordonnées dans le repère\n",
    "    unite : unité des axes (en mètre par défaut)\n",
    "    \"\"\"\n",
    "    # création du graphique\n",
    "    plt.figure()          \n",
    "    \n",
    "    # réglage des bornes des axes\n",
    "    plt.xlim(xmin,xmax) ; plt.ylim(ymin,ymax)   \n",
    "    \n",
    "    # affichage de la grille\n",
    "    plt.grid(True)\n",
    "    \n",
    "    # affichage des points\n",
    "    plt.plot(L_x,L_y,\"co\") \n",
    "    \n",
    "    # insertion du titre\n",
    "    plt.title(titre,color='blue',fontsize=14)\n",
    "    \n",
    "    # insertion de la légende du graphique\n",
    "    plt.xlabel('x en '+unite,color='grey',fontsize=10)\n",
    "    plt.ylabel('y en '+unite,color='grey',fontsize=10)\n",
    "    \n",
    "    # affichage du graphique\n",
    "    plt.show()"
   ]
  },
  {
   "cell_type": "code",
   "execution_count": 3,
   "metadata": {},
   "outputs": [
    {
     "data": {
      "image/png": "[encoded data removed]",
      "text/plain": [
       "<Figure size 432x288 with 1 Axes>"
      ]
     },
     "metadata": {
      "needs_background": "light"
     },
     "output_type": "display_data"
    }
   ],
   "source": [
    "# Appel à la fonction graphique (compléter le titre avec la description qui convient)\n",
    "\n",
    "graphique(\n",
    "    xmin = 0.3 , \n",
    "    xmax = 1.76 ,\n",
    "    ymin = 0.4 ,\n",
    "    ymax = 1.5 ,\n",
    "    titre = ' !!! écrire ici le titre qui convient !!! ' ,\n",
    "    L_x = xb ,\n",
    "    L_y = yb\n",
    "    )"
   ]
  },
  {
   "cell_type": "markdown",
   "metadata": {},
   "source": [
    "<BLOCKQUOTE style=\"background-color:#F1DCFE; color:#200134;\">\n",
    "<ul>\n",
    "    <li><strong>Question 7 :</strong><br> Effectuer un appel à la fonction <mark style=\"font-family: Consolas;\">graphique</mark> pour obtenir la représentation de la trajectoire du guidon du vélo dans le référentiel terrestre.</li>\n",
    "    </ul>\n",
    "</BLOCKQUOTE>"
   ]
  },
  {
   "cell_type": "markdown",
   "metadata": {},
   "source": [
    "<strong style=\"color:red;\">Remarque pour Carole : La saisie suivante devra être saisie <u>par l'élève</u> (par copier/coller de la précédente).</strong>"
   ]
  },
  {
   "cell_type": "code",
   "execution_count": 4,
   "metadata": {},
   "outputs": [
    {
     "data": {
      "image/png": "[encoded data removed]",
      "text/plain": [
       "<Figure size 432x288 with 1 Axes>"
      ]
     },
     "metadata": {
      "needs_background": "light"
     },
     "output_type": "display_data"
    }
   ],
   "source": [
    "# Effectuer ici un appel à la fonction graphique\n",
    "\n",
    "graphique(\n",
    "    xmin = 0.16 , \n",
    "    xmax = 1.52 ,\n",
    "    ymin = 0 ,\n",
    "    ymax = 0.9 ,\n",
    "    titre = ' Trajectoire du guidon dans le référentiel terrestre ' ,\n",
    "    L_x = xg ,\n",
    "    L_y = yg\n",
    "    )"
   ]
  },
  {
   "cell_type": "markdown",
   "metadata": {},
   "source": [
    "<BLOCKQUOTE style=\"background-color:#F1DCFE; color:#200134;\">\n",
    "<ul>\n",
    "    <li><strong>Question 8a :</strong><br>\n",
    "        La saisie Python suivante permet de calculer de nouvelles coordonnées par soustractions.<br>\n",
    "        De quel objet calcule-t-on ainsi les coordonnées ? Dans quel référentiel ?</li>\n",
    "    <li><strong>Question 8b :</strong><br>\n",
    "        Effectuer dans la zone Python prévue une saisie pour observer cette trajectoire.</li>\n",
    "    </ul>\n",
    "</BLOCKQUOTE>"
   ]
  },
  {
   "cell_type": "markdown",
   "metadata": {},
   "source": [
    "<strong style=\"color:red;\">Remarque pour Carole : La première zone Python suivante sera <u>fournie</u> à l'élève.</strong>\n",
    "<br><br>\n",
    "<strong style=\"color:red;\">J'ai écrit une syntaxe de liste \"en compréhension\", un peu compliquée, mais on peut aussi écrire une boucle (pas sûr que ce soit plus simple).</strong>"
   ]
  },
  {
   "cell_type": "code",
   "execution_count": 5,
   "metadata": {},
   "outputs": [
    {
     "data": {
      "text/plain": [
       "([0.17700000000000002,\n",
       "  0.186,\n",
       "  0.21100000000000002,\n",
       "  0.21199999999999997,\n",
       "  0.21999999999999997,\n",
       "  0.237,\n",
       "  0.23699999999999988,\n",
       "  0.246,\n",
       "  0.2629999999999999,\n",
       "  0.2450000000000001],\n",
       " [0.6250000000000001,\n",
       "  0.574,\n",
       "  0.4900000000000001,\n",
       "  0.42200000000000004,\n",
       "  0.3380000000000001,\n",
       "  0.21099999999999997,\n",
       "  0.06700000000000006,\n",
       "  -0.07599999999999996,\n",
       "  -0.245,\n",
       "  -0.423])"
      ]
     },
     "execution_count": 5,
     "metadata": {},
     "output_type": "execute_result"
    }
   ],
   "source": [
    "# Exécuter la cellule suivante pour créer les listes xn et yn\n",
    "\n",
    "xn = [ xb[k]-xg[k] for k in range(len(xb)) ]\n",
    "yn = [ yb[k]-yg[k] for k in range(len(yb)) ]\n",
    "\n",
    "xn,yn"
   ]
  },
  {
   "cell_type": "markdown",
   "metadata": {},
   "source": [
    "<strong style=\"color:red;\">Remarque pour Carole : La saisie suivante devra être saisie <u>par l'élève</u> (par copier/coller de la précédente).</strong>"
   ]
  },
  {
   "cell_type": "code",
   "execution_count": 6,
   "metadata": {},
   "outputs": [
    {
     "data": {
      "image/png": "[encoded data removed]",
      "text/plain": [
       "<Figure size 432x288 with 1 Axes>"
      ]
     },
     "metadata": {
      "needs_background": "light"
     },
     "output_type": "display_data"
    }
   ],
   "source": [
    "# Effectuer ici un appel à la fonction graphique\n",
    "\n",
    "graphique(\n",
    "    xmin = 0 , \n",
    "    xmax = 3 ,\n",
    "    ymin = -0.5 ,\n",
    "    ymax = 0.7 ,\n",
    "    titre = ' Trajectoire de la balle dans le référentiel du guidon ' ,\n",
    "    L_x = xn ,\n",
    "    L_y = yn\n",
    "    )"
   ]
  },
  {
   "cell_type": "markdown",
   "metadata": {},
   "source": [
    "<BLOCKQUOTE style=\"background-color:#F1DCFE; color:#200134;\">\n",
    "<ul>\n",
    "    <li><strong>Question 9 :</strong><br>\n",
    "        Indiquer la nature du mouvement de la balle dans le référentiel du vélo. Justifier. </li>\n",
    "    <br>\n",
    "    <li><strong>Question 10 :</strong><br>\n",
    "        Préciser qui de Simplicio ou Salviati avait formulé la bonne hypothèse. Justifier.</li>\n",
    "    <br>\n",
    "    <li><strong>Question 11 :</strong><br>\n",
    "        Expliquer pourquoi on dit que le mouvement est relatif au référentiel d’étude. Illustrer la réponse par un exemple.</li>\n",
    "    </ul>\n",
    "</BLOCKQUOTE>"
   ]
  },
  {
   "cell_type": "markdown",
   "metadata": {},
   "source": [
    "![Galilee](https://raw.githubusercontent.com/PythonLycee/PyLyc/master/img/Galilee_reduit.jpg)\n",
    "\n",
    "<center> <a href=\"https://fr.wikipedia.org/wiki/Galil%C3%A9e_(savant)\">Galilée</a> (1564 - 1642) </a></center>"
   ]
  },
  {
   "cell_type": "markdown",
   "metadata": {},
   "source": [
    "<i>© Copyright Franck CHEVRIER 2019-2021 https://www.python-lycee.com.</i><br>\n",
    "<i>Les activités partagées sur <a href=\"https://capytale2.ac-paris.fr/web/accueil\"><strong>Capytale</strong></a> sont sous licence <a href=\"https://creativecommons.org/licenses/by-sa/3.0/fr/\">Creative Commons</a>.</i>\n"
   ]
  }
 ],
 "metadata": {
  "celltoolbar": "Raw Cell Format",
  "kernelspec": {
   "display_name": "Python 3",
   "language": "python",
   "name": "python3"
  },
  "language_info": {
   "codemirror_mode": {
    "name": "ipython",
    "version": 3
   },
   "file_extension": ".py",
   "mimetype": "text/x-python",
   "name": "python",
   "nbconvert_exporter": "python",
   "pygments_lexer": "ipython3",
   "version": "3.8.5"
  }
 },
 "nbformat": 4,
 "nbformat_minor": 2
}
