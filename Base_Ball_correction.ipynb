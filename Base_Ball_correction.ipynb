{
 "cells": [
  {
   "cell_type": "markdown",
   "metadata": {},
   "source": [
    "![En tête general](img/En_tete_general.png)\n",
    "\n",
    "\n",
    "*(C) Copyright Franck CHEVRIER 2019-2020 http://www.python-lycee.com/*\n",
    "\n",
    "<span style=\"color: #9317B4\"> Pour exécuter une saisie Python, sélectionner la cellule et valider avec </span><span style=\"color: #B317B4\"><strong>SHIFT+Entrée</strong></span>.\n"
   ]
  },
  {
   "cell_type": "markdown",
   "metadata": {},
   "source": [
    "![Base_Ball](img/BaseBall_titre.png)"
   ]
  },
  {
   "cell_type": "markdown",
   "metadata": {},
   "source": [
    "# <span style=\"color: red\"> (corrigé)</span> \n",
    "\n",
    "Dans cette activité, on observe à l'aide d'un appareil photographique à déclenchement en rafale la trajectoire d'une balle lancée par un joueur de Baseball. Ceci permet d'obtenir des images de la scène à intervalle de temps constant.\n",
    "\n",
    "L'animation ci-dessous permet d'obtenir de cette façon une <a href=\"https://fr.wikipedia.org/wiki/Chronophotographie\">chronophotographie</a> de ce lancer. Les distances et les temps sont respectivement exprimés en mètre et en seconde.\n",
    "\n",
    "\n",
    "<span style=\"color: #FF0000\">Pour faire apparaître et activer l'animation, sélectionner la cellule ci-dessous et valider avec <strong>SHIFT+Entrée</strong>.</span>\n",
    "\n",
    "\n",
    "<span style=\"color: #BDBFBF\">Vous pouvez ensuite utiliser les menus cinématiques :</span>\n",
    "\n",
    "\n",
    "![Menus_animation](img/menus_animation_GeoGebra.png)\n",
    "\n"
   ]
  },
  {
   "cell_type": "code",
   "execution_count": 1,
   "metadata": {},
   "outputs": [
    {
     "data": {
      "text/html": [
       "fig_dyn_GeoGebra/Base_Ball.html"
      ],
      "text/plain": [
       "<IPython.core.display.HTML object>"
      ]
     },
     "metadata": {},
     "output_type": "display_data"
    }
   ],
   "source": [
    "#Sélectionner cette zone puis SHIFT+ENTREE\n",
    "from IPython.display import display, HTML ; display(HTML('fig_dyn_GeoGebra/Base_Ball.html'))"
   ]
  },
  {
   "cell_type": "markdown",
   "metadata": {},
   "source": [
    "__1. Compléter les saisies ci dessous pour stocker les valeurs des abscisses et des ordonnées obtenues par ce pointage dans les listes Python nommées <mark>x</mark> et <mark>y</mark>. Vérifier que la valeur <mark>Dt</mark> correspond bien à l'intervalle de temps $\\Delta t$ paramétré dans votre pointage.__\n",
    "\n",
    "<span style=\"color: #A9AAAA\">Ne pas oublier de valider cette zone de saisie Python et les suivantes avec <strong>SHIFT+Entrée</strong>.</span>\n"
   ]
  },
  {
   "cell_type": "code",
   "execution_count": 2,
   "metadata": {},
   "outputs": [],
   "source": [
    "#liste des abscisses des points (à compléter)\n",
    "x = [0,2.68,5.36,8.04,10.72,13.4,16.08,18.75,21.43]\n",
    "\n",
    "#liste des ordonnées des points (à compléter)\n",
    "y = [1.6,3.49,4.99,6.08,6.77,7.07,6.96,6.45,5.55]\n",
    "\n",
    "#intervalle de temps entre deux prises de vue\n",
    "Dt = 0.2 \n"
   ]
  },
  {
   "cell_type": "markdown",
   "metadata": {},
   "source": [
    "__2. Pour chaque point $M_i(x_i;y_i)$, on fait l'estimation que les coordonnées du vecteur vitesse $\\vec{v_i}$ vérifient :__\n",
    "  \n",
    "  \n",
    "<font size=\"3\"> $\\displaystyle \\left( \\vec{v_i} \\right)_x = \\frac{x_{i+1}-x_i}{Δt}$ </font>  <strong>et</strong>\n",
    " \n",
    "<font size=\"3\"> $\\displaystyle \\left( \\vec{v_i} \\right)_y = \\frac{y_{i+1}-y_i}{Δt}$ </font>.\n",
    "\n",
    "__On a défini ci-dessous la liste <mark>vx</mark> des abscisses de ces vecteurs. Définir de la même façon la liste <mark>vy</mark> de leurs ordonnées.__"
   ]
  },
  {
   "cell_type": "code",
   "execution_count": 3,
   "metadata": {},
   "outputs": [],
   "source": [
    "# liste des abscisses des vecteurs vitesse\n",
    "vx = [ (x[i+1]-x[i])/Dt for i in range(len(x)-1) ]\n",
    "\n",
    "# liste des ordonnées des vecteurs vitesse (à créer)\n",
    "vy = [ (y[i+1]-y[i])/Dt for i in range(len(y)-1) ]\n"
   ]
  },
  {
   "cell_type": "markdown",
   "metadata": {},
   "source": [
    "__3. En chaque point $M_{i+1}$, on définit le vecteur variation de vitesse $ \\overrightarrow{ \\Delta v }_{ i \\rightarrow i+1 }$ dont les coordonnées vérifient:__\n",
    "  \n",
    "  \n",
    "<font size=\"3\"> $ \\left( \\overrightarrow{  \\Delta v }_{ i \\rightarrow i+1 } \\right)_x = \\left( \\overrightarrow{v_{i+1}} \\right)_x- \\left(\\vec{v_i} \\right)_x$ </font>   <strong>et</strong>    \n",
    " \n",
    "<font size=\"3\"> $ \\left( \\overrightarrow{  \\Delta v }_{ i \\rightarrow i+1 } \\right)_y = \\left( \\overrightarrow{v_{i+1}} \\right)_y- \\left(\\vec{v_i} \\right)_y$ </font>.  \n",
    " \n",
    "__On a défini ci-dessous la liste <mark>Dvx</mark> des abscisses de ces vecteurs. Définir de la même façon la liste <mark>Dvy</mark> de leurs ordonnées.__"
   ]
  },
  {
   "cell_type": "code",
   "execution_count": 4,
   "metadata": {},
   "outputs": [],
   "source": [
    "# liste des abscisses des vecteurs variation de vitesse\n",
    "Dvx = [ vx[i+1]-vx[i] for i in range(len(vx)-1) ]\n",
    "\n",
    "# liste des ordonnées des vecteurs variation vitesse (à créer)\n",
    "Dvy = [ vy[i+1]-vy[i] for i in range(len(vy)-1) ]\n"
   ]
  },
  {
   "cell_type": "markdown",
   "metadata": {},
   "source": [
    "__4. La fonction Python <mark>Pointage</mark> ci-dessous permet d'obtenir le tracé des <span style=\"color: #0000FF\">vecteurs vitesse</span> et des <span style=\"color: #FF7711\">vecteurs variation de vitesse</span> pour le <span style=\"color: #FF0000\">pointage</span>. Exécuter cette cellule et la suivante pour observer le graphique.__"
   ]
  },
  {
   "cell_type": "code",
   "execution_count": 5,
   "metadata": {},
   "outputs": [],
   "source": [
    "#Exécuter cette cellule\n",
    "import matplotlib.pyplot as plt\n",
    "\n",
    "def Pointage():\n",
    "    \n",
    "    # réglage des axes\n",
    "    plt.figure(num=0, figsize=(12,8), dpi=80) ; fig,ax = plt.subplots(num=0)  \n",
    "    ax.set_xlim(( 0,max(x[i]+vx[i]+0.5 for i in range(len(vx))))) ; ax.set_ylim((0,max(y[i]+vy[i]+0.5 for i in range(len(vy))))) ;\n",
    "        \n",
    "    # représentation des points\n",
    "    plt.scatter(x,y,color='red') \n",
    "    \n",
    "    # représentation des vecteurs vitesse\n",
    "    for i in range(len(vx)):\n",
    "        plt.arrow( x[i] , y[i] , vx[i] , vy[i] , head_width=0.2, head_length=0.2, fc='lightblue', ec='blue')\n",
    "        \n",
    "    # représentation des vecteurs variation de vitesse     \n",
    "    for i in range(len(Dvx)):\n",
    "        plt.arrow( x[i+1] , y[i+1] , Dvx[i] , Dvy[i] , head_width=0.2, head_length=0.2, fc='coral', ec='orangered')\n",
    "    \n",
    "    # affichage\n",
    "    plt.show()\n",
    "    "
   ]
  },
  {
   "cell_type": "code",
   "execution_count": 6,
   "metadata": {},
   "outputs": [
    {
     "data": {
      "image/png": "[encoded data removed]",
      "text/plain": [
       "<matplotlib.figure.Figure at 0x2d06d89b470>"
      ]
     },
     "metadata": {},
     "output_type": "display_data"
    }
   ],
   "source": [
    "#Exécuter cette cellule pour appeler la fonction Pointage\n",
    "Pointage()"
   ]
  },
  {
   "cell_type": "markdown",
   "metadata": {},
   "source": [
    "__5. a. A l'aide du graphique obtenu et des résultats des deux saisies Python suivantes, justifier que le vecteur variation de vitesse peut être considéré comme constant, et préciser une valeur approchée de sa norme.__\n",
    "\n",
    "<span style=\"color: red\"> D'après le graphique et les valeurs obtenues, il semble que les vecteurs variation de vitesse sont tous verticaux, orientés vers le bas et égaux, de norme environ $2$ (ce qui correspond donc à une variation de vitesse de $2$ $\\mathrm{m} \\cdot \\mathrm{s}^{-1}$ sur chaque intervalle de temps de durée $\\Delta t$). </span> "
   ]
  },
  {
   "cell_type": "code",
   "execution_count": 7,
   "metadata": {},
   "outputs": [
    {
     "data": {
      "text/plain": [
       "[0.0,\n",
       " -7.105427357601002e-15,\n",
       " 1.4210854715202004e-14,\n",
       " -8.881784197001252e-15,\n",
       " -8.881784197001252e-15,\n",
       " -0.04999999999998117,\n",
       " 0.04999999999999005]"
      ]
     },
     "execution_count": 7,
     "metadata": {},
     "output_type": "execute_result"
    }
   ],
   "source": [
    "#Exécuter cette cellule\n",
    "Dvx"
   ]
  },
  {
   "cell_type": "code",
   "execution_count": 8,
   "metadata": {},
   "outputs": [
    {
     "data": {
      "text/plain": [
       "[-1.9499999999999993,\n",
       " -2.0500000000000007,\n",
       " -2.0000000000000018,\n",
       " -1.949999999999994,\n",
       " -2.050000000000005,\n",
       " -1.9999999999999973,\n",
       " -1.9500000000000028]"
      ]
     },
     "execution_count": 8,
     "metadata": {},
     "output_type": "execute_result"
    }
   ],
   "source": [
    "#Exécuter cette cellule\n",
    "Dvy"
   ]
  },
  {
   "cell_type": "markdown",
   "metadata": {},
   "source": [
    "__5. b. On admet que la balle de Baseball a une masse de $145$ $\\mathrm{g}$.__ \n",
    "\n",
    "__A l'aide d'une saisie Python, déterminer l'intensité du poids exercé sur cette balle.__\n",
    "\n",
    "On prendra $g=10$ $\\mathrm{N} \\cdot \\mathrm{kg}^{-1}$ pour l'intensité de la pesanteur.\n",
    "\n",
    "<span style=\"color: red\"> $P=mg=145 \\times 10^{-3} \\times 10=1,45$ $\\mathrm{N}$</span>\n",
    " "
   ]
  },
  {
   "cell_type": "code",
   "execution_count": 9,
   "metadata": {},
   "outputs": [
    {
     "data": {
      "text/plain": [
       "1.45"
      ]
     },
     "execution_count": 9,
     "metadata": {},
     "output_type": "execute_result"
    }
   ],
   "source": [
    "#Effectuer ici la saisie nécessaire pour déterminer l'intensité du poids\n",
    "145*10**-3*10"
   ]
  },
  {
   "cell_type": "markdown",
   "metadata": {},
   "source": [
    "__5.c A l'aide de l'égalité $\\displaystyle \\sum{ \\vec{F}}=m \\; \\frac{\\overrightarrow{\\Delta v}}{\\Delta t}$, justifier qu'on peut considérer que seule la force du vecteur poids s'applique sur la balle.__ \n",
    "\n",
    "__Que peut-on en déduire concernant le mouvement de la balle ?__\n",
    "\n",
    "On pourra utiliser la cellule ci-dessous pour effectuer les calculs utiles.\n",
    "\n",
    "<span style=\"color: red\"> $\\displaystyle \\sum{ \\vec{F}}=m \\; \\frac{\\overrightarrow{\\Delta v}}{\\Delta t}$ a pour intensité $145 \\times 10^{-3} \\times \\frac{2}{0,2} =1,45$ $\\mathrm{N}$, et on retrouve l'intensité du poids. </span>\n",
    "\n",
    "<span style=\"color: red\">Seul le poids s'applique à la balle et on peut donc considérer que celle-ci est en chute libre. </span>"
   ]
  },
  {
   "cell_type": "code",
   "execution_count": 10,
   "metadata": {},
   "outputs": [
    {
     "data": {
      "text/plain": [
       "1.4499999999999997"
      ]
     },
     "execution_count": 10,
     "metadata": {},
     "output_type": "execute_result"
    }
   ],
   "source": [
    "#Effectuer ici les calculs utiles\n",
    "145*10**-3*2/0.2"
   ]
  },
  {
   "cell_type": "markdown",
   "metadata": {},
   "source": [
    "__6. Reprendre les questions précédentes pour un autre pointage, obtenu avec d'autres valeurs pour les paramètres $h_0$ (hauteur initiale), $v_0$ (vitesse initiale) et $\\alpha$ (angle du lancer par rapport à l'horizontale).__"
   ]
  },
  {
   "cell_type": "markdown",
   "metadata": {},
   "source": [
    "*(C) Copyright Franck CHEVRIER 2019-2020 http://www.python-lycee.com/*\n"
   ]
  },
  {
   "cell_type": "markdown",
   "metadata": {},
   "source": [
    "<span style=\"color:#AA00AA\">*Remerciements particuliers à Nicolas EHRSAM pour son aide précieuse.*</span>"
   ]
  }
 ],
 "metadata": {
  "celltoolbar": "Raw Cell Format",
  "kernelspec": {
   "display_name": "Python 3",
   "language": "python",
   "name": "python3"
  },
  "language_info": {
   "codemirror_mode": {
    "name": "ipython",
    "version": 3
   },
   "file_extension": ".py",
   "mimetype": "text/x-python",
   "name": "python",
   "nbconvert_exporter": "python",
   "pygments_lexer": "ipython3",
   "version": "3.7.9"
  }
 },
 "nbformat": 4,
 "nbformat_minor": 2
}
