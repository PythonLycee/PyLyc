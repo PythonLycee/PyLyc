{
 "cells": [
  {
   "cell_type": "markdown",
   "metadata": {},
   "source": [
    "![En tête general](img/En_tete_general.png)\n",
    "\n",
    "\n",
    "*(C) Copyright Franck CHEVRIER 2019-2021 http://www.python-lycee.com/*\n",
    "\n",
    "<span style=\"color: #9317B4\"> Pour exécuter une saisie Python, sélectionner la cellule et valider avec </span><span style=\"color: #B317B4\"><strong>SHIFT+Entrée</strong></span>.\n"
   ]
  },
  {
   "cell_type": "markdown",
   "metadata": {},
   "source": [
    "# <span style=\"color:#6C3483\">Systèmes matriciels</span> <span style=\"color:red\">(corrigé)</span>"
   ]
  },
  {
   "cell_type": "markdown",
   "metadata": {},
   "source": [
    "### <span style=\"color:#8E44AD\">Sommaire</span>\n",
    "\n",
    "<span style=\"color:#8E44AD\">I.</span> <a href=\"#I\">Football</a><br>\n",
    "<span style=\"color:#8E44AD\">II.</span> <a href=\"#II\">Volleyball</a><br><br>\n"
   ]
  },
  {
   "cell_type": "markdown",
   "metadata": {},
   "source": [
    "## <span style=\"color:#6C3483\" id=\"I\"> I. Football</span>"
   ]
  },
  {
   "cell_type": "markdown",
   "metadata": {},
   "source": [
    "<figure style=\"float: right;\">\n",
    "    <img src=\"img/Stadefoot.jpg\">\n",
    "</figure>\n",
    "Un joueur de foot, situé à $18 m$ du but, effectue un tir en cloche.<br>\n",
    "On modélise la situation dans un repère orthonormé (l'unité choisie est le mètre).<br><br>\n",
    "On suppose que :\n",
    "<ul>\n",
    "    <li>la trajectoire du ballon est <strong>parabolique</strong> et passe par les points $A(-18\\;;0)$ et $B(-14\\;;3,2)$.</li>\n",
    "    <li>la tangente à la courbe en $A$ forme un angle de $45°$ avec l'horizontale.</li>\n",
    "</ul>\n",
    "\n",
    "L'animation ci-dessous permet d'obtenir la représentation graphique (incomplète) de ce tir. Les distances seront exprimées en mètre.\n",
    "\n",
    "<span style=\"color: #FF0000\">Pour faire apparaître et activer l'animation, sélectionner la cellule ci-dessous et valider avec <strong>SHIFT+Entrée</strong>.</span>\n",
    "\n",
    "<span style=\"color: #BDBFBF\">Vous pouvez ensuite utiliser les menus cinématiques :</span>\n",
    "\n",
    "![Menus_animation](img/menus_animation_GeoGebra.png)\n",
    "\n"
   ]
  },
  {
   "cell_type": "code",
   "execution_count": 1,
   "metadata": {},
   "outputs": [
    {
     "data": {
      "text/html": [
       "fig_dyn_GeoGebra/Base_Ball.html"
      ],
      "text/plain": [
       "<IPython.core.display.HTML object>"
      ]
     },
     "metadata": {},
     "output_type": "display_data"
    }
   ],
   "source": [
    "#Sélectionner cette zone puis SHIFT+ENTREE\n",
    "from IPython.display import display, HTML ; display(HTML('fig_dyn_GeoGebra/figfootball.html'))"
   ]
  },
  {
   "cell_type": "markdown",
   "metadata": {},
   "source": [
    "<strong>\n",
    "On note $f$ la fonction qui à l'abscisse $x$ de la balle associe son ordonnée $f(x)$.__<br>\n",
    "Comme la trajectoire est supposée parabolique, la fonction $f$ est une fonction polynôme du second degré.<br>\n",
    "$\\;\\;\\;$On note $f(x)=ax^2+bx+c$ où $a$, $b$ et $c$ sont trois réels à déterminer.<br>\n",
    "<br>  \n",
    "1. a. À l'aide de l'énoncé, donner les valeurs de $f(-18)$ ; $f(-14)$ et $f'(-18)$.<br><br>\n",
    "$\\;\\;\\;$b. En déduire un système $(S)$ de 3 équations à 3 inconnues dont le triplet $(a;b;c)$ est solution.<br><br>\n",
    "$\\;\\;\\;$c. Écrire le système $(S)$ sous forme matricielle $AX=B$.<br>\n",
    "$\\quad\\;\\;$(où $A$ est une matrice carrée d'ordre 3 et où $B$ et $X$ sont des matrices colonnes de dimension 3)<br>\n",
    "$\\quad\\;\\;$Résoudre ce système $(S)$ et donner l'expression de $f(x)$ en fonction de $x$.<br><br>\n",
    "2. Compléter les matrices <mark style=\"font-family: Consolas;\">A</mark> et <mark style=\"font-family: Consolas;\">B</mark> de la cellule Python suivante.<br>\n",
    "$\\;\\;\\;$Exécuter ensuite les cellules Python pour vérifier les résultats de la question 1."
   ]
  },
  {
   "cell_type": "code",
   "execution_count": null,
   "metadata": {},
   "outputs": [],
   "source": [
    "from numpy import array,dot         # import des fonctionnalités pour créer et multiplier des matrices\n",
    "from numpy.linalg import inv        # import de la fonction permettant de calculer l'inverse d'une matrice\n",
    "\n",
    "# Compléter ici les matrices apparaissant dans le système obtenu dans la question 1.c\n",
    "A = array([[ , , ],\n",
    "           [ , , ],\n",
    "           [ , , ]])\n",
    "\n",
    "B = array([[ ],\n",
    "           [ ],\n",
    "           [ ]])\n",
    "\n",
    "A,B"
   ]
  },
  {
   "cell_type": "code",
   "execution_count": null,
   "metadata": {},
   "outputs": [],
   "source": [
    "# Cette syntaxe permet de calculer la matrice U, inverse de A\n",
    "U=inv(A)"
   ]
  },
  {
   "cell_type": "code",
   "execution_count": null,
   "metadata": {},
   "outputs": [],
   "source": [
    "# Cette syntaxe permet de calculer le produit matriciel UB\n",
    "dot(U,B)"
   ]
  },
  {
   "cell_type": "markdown",
   "metadata": {},
   "source": [
    "<span style=\"color:#6C3483\" id=\"I\">"
   ]
  },
  {
   "cell_type": "markdown",
   "metadata": {},
   "source": [
    "<strong>\n",
    "2. a. À quelle hauteur maximale le ballon va-t-il s'élever ?<br><br>\n",
    "$\\;\\;\\;$b. Sachant que le but a une hauteur de $2,44m$, le tir est-il cadré ?"
   ]
  },
  {
   "cell_type": "markdown",
   "metadata": {},
   "source": [
    "## <span style=\"color:#6C3483\" id=\"II\"> II. Volleyball</span>"
   ]
  },
  {
   "cell_type": "markdown",
   "metadata": {},
   "source": [
    "<figure style=\"float: right;\">\n",
    "    <img src=\"img/Volleyterrain.png\">\n",
    "</figure>\n",
    "<strong>\n",
    "On donne ci-contre les dimensions d’un terrain de Volley-Ball.<br>\n",
    "<br>\n",
    "Un joueur effectue un smash !<br>\n",
    "Passant au dessus du filet, la balle suit une trajectoire parabolique.<br>\n",
    "<br>\n",
    "Un appareil photo à déclenchement en rafales a permis de déterminer que la balle est passée par les points $A(-2\\;;2)$ ; $B(-1\\;;2,45)$ et $C(4\\;;3,2)$ dans le repère ci-contre défini à partir du filet.\n",
    "</strong>"
   ]
  },
  {
   "cell_type": "markdown",
   "metadata": {},
   "source": [
    "<figure style=\"float: right;\">\n",
    "    <img src=\"img/Volleyrepere.png\">\n",
    "</figure>\n",
    "<strong>\n",
    "On souhaite répondre aux questions suivantes:<br>\n",
    "<ul>\n",
    "    <li>Placé à $6m$ du filet, un joueur saute et s’interpose jusqu’à la hauteur de $2,55m$.<br>\n",
    "        Va-t-il intercepter la balle ?</li>\n",
    "    <li>Où la balle retombera-t-elle ?</li>\n",
    "    <li>Le point sera-t-il marqué ?</li>\n",
    "</ul>\n",
    "On pourra résoudre le système d'équations à l'aide de saisies Python, en utilisant les cellules ci-dessous.\n",
    "</strong>"
   ]
  },
  {
   "cell_type": "code",
   "execution_count": null,
   "metadata": {},
   "outputs": [],
   "source": [
    "#On pourra utiliser cette zone Python pour vérifier la résolution du système qu'on est amené à résoudre dans cet exercice\n",
    "from numpy import*\n",
    "from numpy.linalg import*\n",
    "\n"
   ]
  },
  {
   "cell_type": "code",
   "execution_count": null,
   "metadata": {},
   "outputs": [],
   "source": [
    "\n"
   ]
  },
  {
   "cell_type": "code",
   "execution_count": null,
   "metadata": {},
   "outputs": [],
   "source": [
    "\n"
   ]
  },
  {
   "cell_type": "markdown",
   "metadata": {},
   "source": [
    "*(C) Copyright Franck CHEVRIER 2019-2021 http://www.python-lycee.com/*\n"
   ]
  }
 ],
 "metadata": {
  "celltoolbar": "Raw Cell Format",
  "kernelspec": {
   "display_name": "Python 3",
   "language": "python",
   "name": "python3"
  },
  "language_info": {
   "codemirror_mode": {
    "name": "ipython",
    "version": 3
   },
   "file_extension": ".py",
   "mimetype": "text/x-python",
   "name": "python",
   "nbconvert_exporter": "python",
   "pygments_lexer": "ipython3",
   "version": "3.8.5"
  }
 },
 "nbformat": 4,
 "nbformat_minor": 2
}
