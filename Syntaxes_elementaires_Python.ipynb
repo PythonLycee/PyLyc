{
 "cells": [
  {
   "cell_type": "markdown",
   "metadata": {},
   "source": [
    "![En tête general](img/En_tete_general.png)\n",
    "\n",
    "\n",
    "*(C) Copyright Franck CHEVRIER 2019-2020 http://www.python-lycee.com/*\n",
    "\n",
    "<span style=\"color: #9317B4\"> Pour exécuter une saisie Python, sélectionner la cellule et valider avec </span><span style=\"color: #B317B4\"><strong>SHIFT+Entrée</strong></span>."
   ]
  },
  {
   "cell_type": "markdown",
   "metadata": {},
   "source": [
    "<BLOCKQUOTE style='background-color:#DF8E21;'>\n",
    "\n",
    "<h1 style=\"color:#FFFFFF; font-size: 32px; text-align: center\"> SYNTAXES ÉLÉMENTAIRES EN LANGAGE PYTHON </h1>\n",
    "\n",
    "</BLOCKQUOTE>\n",
    "\n",
    "Cette fiche récapitule les principales syntaxes élémentaires utilisées au lycée.<br> Les zones Python sont modifiables et exécutables (sélectionner la cellule et valider avec <strong>SHIFT+Entrée</strong> pour exécuter).\n"
   ]
  },
  {
   "cell_type": "markdown",
   "metadata": {},
   "source": [
    "### Sommaire\n",
    "\n",
    "<ol>\n",
    "    <li><a href=\"#Types\">Les principaux types de variables</a></li>\n",
    "    <li><a href=\"#Instructions_elementaires\">Les instructions élémentaires</a></li>\n",
    "    <li><a href=\"#Structure_fonctionnelle\">La structure fonctionnelle</a></li>\n",
    "    <li><a href=\"#Boucles\">Les boucles</a></li>\n",
    "    <li><a href=\"#Listes\">Gestion des listes</a></li>\n",
    "    <li><a href=\"#Modules\">Utilisation de modules / Bibliothèques</a></li>\n",
    "</ol>\n"
   ]
  },
  {
   "cell_type": "markdown",
   "metadata": {},
   "source": [
    "<BLOCKQUOTE id=\"Types\" style='background-color:#F09822;'>\n",
    "<h3 style=\"font-size: 24px;\">1. Les principaux types de variables</h3>\n",
    "</BLOCKQUOTE>"
   ]
  },
  {
   "cell_type": "markdown",
   "metadata": {},
   "source": [
    "<BLOCKQUOTE style=\"background-color:#F9C988; face='Consolas'\"><font face='Consolas'>\n",
    "<table style=\"font-size: 14px; text-align:center;\">\n",
    "    <tr>\n",
    "        <td > </td>\n",
    "        <td>   </td>\n",
    "        <td width=400 style=\"text-align:center; color:#CE7C0D\"> <strong>Syntaxe Python</strong> </td>\n",
    "        <td> </td>\n",
    "        <td width=400 style=\"text-align:center; color:#CE7C0D\"> <strong>Description</strong> </td>\n",
    "    </tr>\n",
    "    <tr>\n",
    "        <td></td>\n",
    "        <td></td>\n",
    "        <td></td>\n",
    "        <td></td>\n",
    "        <td></td>\n",
    "    </tr>\n",
    "    <tr>\n",
    "        <td style=\"text-align:center;\"> <strong style=\"color:#CE7C0D\">int</strong> </td>\n",
    "        <td>  </td>\n",
    "        <td width=400 style=\"text-align:left;\"> a=-3 $\\quad$ b=7 </td>\n",
    "        <td>  </td>\n",
    "        <td width=400 style=\"text-align:left;\"> Nombres entiers </td>\n",
    "    </tr>\n",
    "    <tr>\n",
    "        <td></td>\n",
    "        <td></td>\n",
    "        <td></td>\n",
    "        <td></td>\n",
    "    </tr>\n",
    "    <tr>\n",
    "        <td style=\"text-align:center;\"> <strong style=\"color:#CE7C0D\">float</strong> </td>\n",
    "        <td> </td>\n",
    "        <td width=400 style=\"text-align:left;\"> a=2/7 $\\quad$ b=7.0 $\\quad$ c=3.3 </td>\n",
    "        <td> </td>\n",
    "        <td width=400 style=\"text-align:left;\"> Nombres flottants<br> (représentation des nombres décimaux) </td>\n",
    "    </tr>\n",
    "    <tr>\n",
    "        <td></td>\n",
    "        <td></td>\n",
    "        <td></td>\n",
    "        <td></td>\n",
    "    </tr>\n",
    "    <tr>\n",
    "        <td style=\"text-align:center;\"> <strong style=\"color:#CE7C0D\">str</strong> </td>\n",
    "        <td> </td>\n",
    "        <td width=400 style=\"text-align:left;\"> text='Hello prof' </td>\n",
    "        <td> </td>\n",
    "        <td width=400 style=\"text-align:left;\"> Chaînes de caractères (string) </td>\n",
    "    </tr>\n",
    "    <tr>\n",
    "        <td></td>\n",
    "        <td></td>\n",
    "        <td></td>\n",
    "        <td></td>\n",
    "    </tr>\n",
    "    <tr>\n",
    "        <td style=\"text-align:center;\"> <strong style=\"color:#CE7C0D\">bool</strong> </td>\n",
    "        <td> </td>\n",
    "        <td width=400 style=\"text-align:left;\"> 2+3==5 $\\quad$ 2.7>=5.5 </td>\n",
    "        <td> </td>\n",
    "        <td width=400 style=\"text-align:left;\"> Booléens (valeur True(=1) ou False(=0))</td>\n",
    "    </tr>\n",
    "     <tr>\n",
    "        <td></td>\n",
    "        <td></td>\n",
    "        <td></td>\n",
    "        <td></td>\n",
    "    </tr>\n",
    "    <tr>\n",
    "        <td style=\"text-align:center;\"> <strong style=\"color:#CE7C0D\">list</strong> </td>\n",
    "        <td> </td>\n",
    "        <td width=400 style=\"text-align:left;\"> L1=[2,5,7] $\\quad$ L2=['salut',3.8,8] </td>\n",
    "        <td> </td>\n",
    "        <td width=400 style=\"text-align:left;\"> Listes d'éléments<br><span style='font-size: 10px;'>NB: Les éléments de la liste peuvent être de tous types</span></td>\n",
    "    </tr>\n",
    "</table>\n",
    "</font></BLOCKQUOTE>\n",
    "\n",
    "<BLOCKQUOTE style=\"background-color:#FADAAD; face='Consolas'; font-size: 12px;\">\n",
    "<ul>\n",
    "<li><strong>Typage :</strong> Python est un langage typé, mais l'utilisateur n'a pas à déclarer le type d'élément qu'il définit et utilise, l'interpréteur Python attribue lui-même le type adéquat. On peut vérifier le type d'un élément avec l'instruction <font face='Consolas'><mark>type( )</mark></font>.</li>\n",
    "<li><strong>Conversion de type :</strong> On peut effectuer une conversion de type avec les instructions <font face='Consolas'><mark>int( )</mark></font> ; <font face='Consolas'><mark>float( )</mark></font> ; <font face='Consolas'><mark>str( )</mark></font> ; …<br>\n",
    "À savoir : Une saisie du type <font face='Consolas'><mark>a=3</mark></font> génère par défaut un int, mais une saisie <font face='Consolas'><mark>a=3.0</mark></font> génère par défaut un float.<br>\n",
    "L’instruction <font face='Consolas'><mark>input()</mark></font> génère automatiquement un élément de type str et il peut donc être nécessaire de convertir le type. En général, on n’utilisera pas l’instruction <font face='Consolas'><mark>input()</mark></font> (ni <font face='Consolas'><mark>print()</mark></font>), préférant la définition de fonctions, éventuellement appelées en console.</li>\n",
    "</ul>\n",
    "</BLOCKQUOTE>\n",
    "\n",
    "<span style=\"color:#CE7C0D; font-size: 10px;\">\n",
    "$\\quad\\quad$Ci-dessous quelques exemples modifiables de syntaxes. Pour exécuter une cellule, sélectionner la cellule puis <strong>SHIFT+Entrée</strong>.\n",
    "</span>"
   ]
  },
  {
   "cell_type": "code",
   "execution_count": 1,
   "metadata": {},
   "outputs": [
    {
     "data": {
      "text/plain": [
       "3"
      ]
     },
     "execution_count": 1,
     "metadata": {},
     "output_type": "execute_result"
    }
   ],
   "source": [
    "a = 3                   # Création d'une variable nommée a de valeur 3\n",
    "\n",
    "a                       # Affichage du contenu de la variable a"
   ]
  },
  {
   "cell_type": "code",
   "execution_count": 2,
   "metadata": {},
   "outputs": [
    {
     "data": {
      "text/plain": [
       "int"
      ]
     },
     "execution_count": 2,
     "metadata": {},
     "output_type": "execute_result"
    }
   ],
   "source": [
    "type(a)                 # Affichage du type de la variable a"
   ]
  },
  {
   "cell_type": "code",
   "execution_count": 3,
   "metadata": {},
   "outputs": [
    {
     "data": {
      "text/plain": [
       "'Hello prof'"
      ]
     },
     "execution_count": 3,
     "metadata": {},
     "output_type": "execute_result"
    }
   ],
   "source": [
    "text = 'Hello prof'     # Création d'une variable nommée text de valeur 'Hello prof'\n",
    "\n",
    "text                    # Affichage du contenu de la variable text"
   ]
  },
  {
   "cell_type": "code",
   "execution_count": 4,
   "metadata": {},
   "outputs": [
    {
     "data": {
      "text/plain": [
       "str"
      ]
     },
     "execution_count": 4,
     "metadata": {},
     "output_type": "execute_result"
    }
   ],
   "source": [
    "type(text)              # Affichage du type de la variable text"
   ]
  },
  {
   "cell_type": "markdown",
   "metadata": {},
   "source": [
    "<BLOCKQUOTE id=\"Instructions_elementaires\" style='background-color:#F09822;'>\n",
    "<h3 style=\"font-size: 24px;\">2. Les instructions élémentaires</h3>\n",
    "</BLOCKQUOTE>"
   ]
  },
  {
   "cell_type": "markdown",
   "metadata": {},
   "source": [
    "<BLOCKQUOTE style=\"background-color:#F9C988; face='Consolas'\"><font face='Consolas'>\n",
    "<table style=\"font-size: 14px; text-align:center;\">\n",
    "    <tr>\n",
    "        <td > </td>\n",
    "        <td>   </td>\n",
    "        <td width=400 style=\"text-align:center; color:#CE7C0D\"> <strong>Syntaxe Python</strong> </td>\n",
    "        <td> </td>\n",
    "        <td width=400 style=\"text-align:center; color:#CE7C0D\"> <strong>Description</strong> </td>\n",
    "    </tr>\n",
    "    <tr>\n",
    "        <td></td>\n",
    "        <td></td>\n",
    "        <td></td>\n",
    "        <td></td>\n",
    "        <td></td>\n",
    "    </tr>\n",
    "    <tr>\n",
    "        <td style=\"text-align:center;\"> <strong style=\"color:#CE7C0D\">Affectation</strong> </td>\n",
    "        <td>  </td>\n",
    "        <td width=400 style=\"text-align:left;\"> a = 7 </td>\n",
    "        <td>  </td>\n",
    "        <td width=400 style=\"text-align:left;\"> Affectation de la valeur 7 à la variable a </td>\n",
    "    </tr>\n",
    "    <tr>\n",
    "        <td></td>\n",
    "        <td></td>\n",
    "        <td></td>\n",
    "        <td></td>\n",
    "    </tr>\n",
    "    <tr>\n",
    "        <td style=\"text-align:center;\"> <strong style=\"color:#CE7C0D\">Opérations<br>élémentaires</strong> </td>\n",
    "        <td> </td>\n",
    "        <td width=400 style=\"text-align:left;\"> a+b $\\quad$ a-b $\\quad$ a*b $\\quad$ a**b<br>a/b $\\quad$ a//b $\\quad$ a%b    </td>\n",
    "        <td> </td>\n",
    "        <td width=400 style=\"text-align:left;\"> Somme, différence, produit, puissance,<br>quotient décimal, quotient et reste de la division euclidienne. </td>\n",
    "    </tr>\n",
    "    <tr>\n",
    "        <td></td>\n",
    "        <td></td>\n",
    "        <td></td>\n",
    "        <td></td>\n",
    "    </tr>\n",
    "    <tr>\n",
    "        <td style=\"text-align:center;\"> <strong style=\"color:#CE7C0D\">Tests</strong> </td>\n",
    "        <td> </td>\n",
    "        <td width=400 style=\"text-align:left;\"> a == b $\\quad$ a != b <br> a < b $\\quad$ a <= b $\\quad$ a > b $\\quad$ a >= b </td>\n",
    "        <td> </td>\n",
    "        <td width=400 style=\"text-align:left;\"> Test d'égalité, de non égalité, de comparaisons.<br>Renvoie un booléen (True ou False)<br><span style='font-size: 10px;'>NB: On peut combiner avec <strong>or</strong>, <strong>and</strong>, <strong>not</strong></span> </td>\n",
    "    </tr>\n",
    "    <tr>\n",
    "        <td></td>\n",
    "        <td></td>\n",
    "        <td></td>\n",
    "        <td></td>\n",
    "    </tr>\n",
    "    <tr>\n",
    "        <td style=\"text-align:center;\"> <strong style=\"color:#CE7C0D\">Instruction<br>conditionnelle</strong> </td>\n",
    "        <td> </td>\n",
    "        <td width=400 style=\"text-align:left;\"> <strong>if</strong> condition<strong>:</strong><br>$\\quad$ |instructions_V<br><strong>else:</strong><br>$\\quad$ |instructions_F </td>\n",
    "        <td> </td>\n",
    "        <td width=400 style=\"text-align:left;\"> Réalisation des <strong>instructions_V</strong> si la <strong>condition</strong> est <strong>True</strong>, et réalisation des <strong>instructions_F</strong> si la <strong>condition</strong> est <strong>False</strong>.<br><span style='font-size: 10px;'>NB1: else est facultatif</span><br><span style='font-size: 10px;'>NB2: dans une série d'instructions conditionnelles imbriquées, \"else if\" se condense en \"elif\".</span></td>\n",
    "    </tr>\n",
    "</table>\n",
    "</font></BLOCKQUOTE>\n",
    "\n",
    "<BLOCKQUOTE style=\"background-color:#FADAAD; face='Consolas'; font-size: 12px;\">\n",
    "<ul>\n",
    "<li><strong>Tests sur flottants :</strong> Le codage des nombres décimaux à l’aide du type float génère des approximations et il faut donc éviter d’effectuer des tests d’égalité sur des éléments de type float. Par exemple, <font face='Consolas'><mark>0.1+0.1+0.1==0.3</mark></font> renvoie <font face='Consolas'><mark>False</mark></font>.</li>\n",
    "<li><strong>Opérations sur chaînes de caractères :</strong> L’opération <font face='Consolas'><mark>'sa'+'lut'</mark></font> effectue la concaténation : <font face='Consolas'><mark>'salut'</mark></font>. L’opération <font face='Consolas'><mark>'miam'*3</mark></font> effectue une répétition : <font face='Consolas'><mark>'miammiammiam'</mark></font>.</li>\n",
    "<li><strong>Bloc conditionnel :</strong> Une syntaxe experte permet de créer un bloc prenant une valeur en fonction de la réalisation ou non d’une condition :<br> <font face='Consolas'><mark>valeur_V <strong>if</strong> Test <strong>else</strong> valeur_F</mark></font> vaut <font face='Consolas'><mark>valeur_V</mark></font> si le <font face='Consolas'><mark>Test</mark></font> vaut <font face='Consolas'><mark>True</mark></font> et vaut <font face='Consolas'><mark>valeur_F</mark></font> sinon.</li>\n",
    "</ul>\n",
    "</BLOCKQUOTE>\n",
    "\n",
    "\n",
    "<span style=\"color:#CE7C0D; font-size: 10px;\">\n",
    "$\\quad\\quad$Ci-dessous quelques exemples modifiables de syntaxes. Pour exécuter une cellule, sélectionner la cellule puis <strong>SHIFT+Entrée</strong>.\n",
    "</span>"
   ]
  },
  {
   "cell_type": "code",
   "execution_count": 5,
   "metadata": {},
   "outputs": [],
   "source": [
    "a = 7 ; b = 3                # Affectation des valeurs 3 et 7 aux variables respectivement nommées a et b"
   ]
  },
  {
   "cell_type": "code",
   "execution_count": 6,
   "metadata": {},
   "outputs": [
    {
     "data": {
      "text/plain": [
       "10"
      ]
     },
     "execution_count": 6,
     "metadata": {},
     "output_type": "execute_result"
    }
   ],
   "source": [
    "a+b                          # Calcul de la somme de a et b"
   ]
  },
  {
   "cell_type": "code",
   "execution_count": 7,
   "metadata": {},
   "outputs": [
    {
     "data": {
      "text/plain": [
       "343"
      ]
     },
     "execution_count": 7,
     "metadata": {},
     "output_type": "execute_result"
    }
   ],
   "source": [
    "a**b                         # Calcul de a puissance b"
   ]
  },
  {
   "cell_type": "code",
   "execution_count": 8,
   "metadata": {},
   "outputs": [
    {
     "data": {
      "text/plain": [
       "False"
      ]
     },
     "execution_count": 8,
     "metadata": {},
     "output_type": "execute_result"
    }
   ],
   "source": [
    "a == b                       # Test d'égalité de a et b"
   ]
  },
  {
   "cell_type": "code",
   "execution_count": 9,
   "metadata": {},
   "outputs": [
    {
     "data": {
      "text/plain": [
       "'salut'"
      ]
     },
     "execution_count": 9,
     "metadata": {},
     "output_type": "execute_result"
    }
   ],
   "source": [
    "'sa'+'lut'                   # Concaténation de deux chaînes de caractères"
   ]
  },
  {
   "cell_type": "code",
   "execution_count": 10,
   "metadata": {},
   "outputs": [
    {
     "name": "stdout",
     "output_type": "stream",
     "text": [
      "a>b\n"
     ]
    }
   ],
   "source": [
    "if a<=b:                     # exemple d'instruction conditionnelle avec la condition a<=b\n",
    "    print(\"a<=b\")            # Cette instruction est exécutée si a<=b est True\n",
    "else:\n",
    "    print(\"a>b\")             # Cette instruction est exéctuée si a<=b est False"
   ]
  },
  {
   "cell_type": "code",
   "execution_count": 11,
   "metadata": {},
   "outputs": [
    {
     "data": {
      "text/plain": [
       "'a>b'"
      ]
     },
     "execution_count": 11,
     "metadata": {},
     "output_type": "execute_result"
    }
   ],
   "source": [
    "\"a<=b\" if a<=b else \"a>b\"    # Exemple de bloc conditionnel"
   ]
  },
  {
   "cell_type": "markdown",
   "metadata": {},
   "source": [
    "<BLOCKQUOTE id=\"Structure_fonctionnelle\" style='background-color:#F09822;'>\n",
    "<h3 style=\"font-size: 24px;\">3. La structure fonctionnelle</h3>\n",
    "</BLOCKQUOTE>"
   ]
  },
  {
   "cell_type": "markdown",
   "metadata": {},
   "source": [
    "<BLOCKQUOTE style=\"background-color:#F9C988; face='Consolas'\"><font face='Consolas'>\n",
    "<table style=\"font-size: 14px; text-align:center;\">\n",
    "    <tr>\n",
    "        <td > </td>\n",
    "        <td>   </td>\n",
    "        <td width=400 style=\"text-align:center; color:#CE7C0D\"> <strong>Syntaxe Python</strong> </td>\n",
    "        <td> </td>\n",
    "        <td width=400 style=\"text-align:center; color:#CE7C0D\"> <strong>Description</strong> </td>\n",
    "    </tr>\n",
    "    <tr>\n",
    "        <td></td>\n",
    "        <td></td>\n",
    "        <td></td>\n",
    "        <td></td>\n",
    "        <td></td>\n",
    "    </tr>\n",
    "    <tr>\n",
    "        <td style=\"text-align:center;\"> <strong style=\"color:#CE7C0D\">Définition<br>d'une fonction</strong> </td>\n",
    "        <td>  </td>\n",
    "        <td width=400 style=\"text-align:left;\"> <strong>def</strong> f(x)<strong>:<br>$\\quad$</strong> |instructions à réaliser <br>$\\quad$<strong> return</strong> resultat </td>\n",
    "        <td>  </td>\n",
    "        <td width=400 style=\"text-align:left;\"> Définition d'une fonction recevant un/des argument(s) x,... et renvoyant resultat.<br>(arguments et résultat de tous types possibles) </td>\n",
    "    </tr>\n",
    "    <tr>\n",
    "        <td></td>\n",
    "        <td></td>\n",
    "        <td></td>\n",
    "        <td></td>\n",
    "    </tr>\n",
    "    <tr>\n",
    "        <td style=\"text-align:center;\"> <strong style=\"color:#CE7C0D\">Appel à une<br>fonction</strong> </td>\n",
    "        <td> </td>\n",
    "        <td width=400 style=\"text-align:left;\"> f(x) </td>\n",
    "        <td> </td>\n",
    "        <td width=400 style=\"text-align:left;\"> Renvoie la valeur de l'image de x par la fonction f. </td>\n",
    "    </tr>\n",
    "</table>\n",
    "</font></BLOCKQUOTE>\n",
    "\n",
    "<BLOCKQUOTE style=\"background-color:#FADAAD; face='Consolas'; font-size: 12px;\">\n",
    "<ul>\n",
    "<li><strong>Arguments d’une fonction :</strong> Une fonction peut ne pas avoir d’argument, et on écrit dans ce cas <font face='Consolas'><mark>def f():</mark></font>, ou prendre plusieurs valeurs en arguments, par\n",
    "exemple <font face='Consolas'><mark>def milieu(xA,yA,xB,yB):</mark></font>. On peut fixer une valeur par défaut à un argument : <font face='Consolas'><mark>def f(x=0):</mark></font>.\n",
    "<li><strong>Instruction return :</strong> Une fonction peut ne pas renvoyer de résultat (pas de return) et on parle alors plutôt de processus. L’exécution d’un return interrompt\n",
    "l’exécution de la fonction. Ainsi, pour renvoyer plusieurs informations, il faut les associer (par exemple en les séparant par des virgules).</li>\n",
    "<li><strong>Variables locales et globales :</strong> En général et par défaut, une fonction n’altère pas les valeurs des variables globales du programme et agit sur des copies des variables (à l’exception de certaines opérations, notamment sur les listes).</li>\n",
    "</ul>\n",
    "</BLOCKQUOTE>\n",
    "\n",
    "\n",
    "<span style=\"color:#CE7C0D; font-size: 10px;\">\n",
    "$\\quad\\quad$Ci-dessous quelques exemples modifiables de syntaxes. Pour exécuter une cellule, sélectionner la cellule puis <strong>SHIFT+Entrée</strong>.\n",
    "</span>"
   ]
  },
  {
   "cell_type": "code",
   "execution_count": 12,
   "metadata": {},
   "outputs": [],
   "source": [
    "# Exemple élémentaire\n",
    "\n",
    "def f(x):                                      # Définition de la fonction\n",
    "    \"fonction qui calcule le carré de x\"       # Description de la fonction\n",
    "    return x**2                                # Renvoi de la valeur"
   ]
  },
  {
   "cell_type": "code",
   "execution_count": 13,
   "metadata": {},
   "outputs": [
    {
     "data": {
      "text/plain": [
       "9"
      ]
     },
     "execution_count": 13,
     "metadata": {},
     "output_type": "execute_result"
    }
   ],
   "source": [
    "f(3)                                           # Appel à la fonction                             "
   ]
  },
  {
   "cell_type": "code",
   "execution_count": 14,
   "metadata": {},
   "outputs": [],
   "source": [
    "# Exemple de fonction à plusieurs arguments et renvoyant plusieurs valeurs\n",
    "\n",
    "def somme_vecteurs(x1,y1,x2,y2):\n",
    "    \"\"\"\n",
    "    fonction qui renvoie la somme de deux vecteurs u1(x1,y1) et u2(x2,y2)\n",
    "    \"\"\"\n",
    "    x = x1+x2   \n",
    "    y = y1+y2\n",
    "    return x,y   \n",
    "\n",
    "# NB : on peut aussi écrire return x1+x2,y1+y2 \n",
    "# pour éviter les variables intermédiaires x et y   "
   ]
  },
  {
   "cell_type": "code",
   "execution_count": 15,
   "metadata": {},
   "outputs": [
    {
     "data": {
      "text/plain": [
       "(5, -2)"
      ]
     },
     "execution_count": 15,
     "metadata": {},
     "output_type": "execute_result"
    }
   ],
   "source": [
    "somme_vecteurs(2,5,3,-7)                       # Appel à la fonction  "
   ]
  },
  {
   "cell_type": "markdown",
   "metadata": {},
   "source": [
    "<BLOCKQUOTE id=\"Boucles\" style='background-color:#F09822;'>\n",
    "<h3 style=\"font-size: 24px;\">4. Les boucles</h3>\n",
    "</BLOCKQUOTE>"
   ]
  },
  {
   "cell_type": "markdown",
   "metadata": {},
   "source": [
    "<BLOCKQUOTE style=\"background-color:#F9C988; face='Consolas'\"><font face='Consolas'>\n",
    "<table style=\"font-size: 14px; text-align:center;\">\n",
    "    <tr>\n",
    "        <td > </td>\n",
    "        <td>   </td>\n",
    "        <td width=400 style=\"text-align:center; color:#CE7C0D\"> <strong>Syntaxe Python</strong> </td>\n",
    "        <td> </td>\n",
    "        <td width=400 style=\"text-align:center; color:#CE7C0D\"> <strong>Description</strong> </td>\n",
    "    </tr>\n",
    "    <tr>\n",
    "        <td></td>\n",
    "        <td></td>\n",
    "        <td></td>\n",
    "        <td></td>\n",
    "        <td></td>\n",
    "    </tr>\n",
    "    <tr>\n",
    "        <td style=\"text-align:center;\"> <strong style=\"color:#CE7C0D\">Boucle bornée<br>\n",
    "«Pour»</strong> </td>\n",
    "        <td>  </td>\n",
    "        <td width=400 style=\"text-align:left;\"><strong>for</strong> k <strong>in range(</strong>n<strong>):</strong><br>$\\quad$ |instructions à réaliser</td>\n",
    "        <td>  </td>\n",
    "        <td width=400 style=\"text-align:left;\">Boucle effectuée pour k prenant les valeurs entières de 0 inclus à n exclu<br>(0≤k<n donc n valeurs générées)</td>\n",
    "    </tr>\n",
    "    <tr>\n",
    "        <td></td>\n",
    "        <td></td>\n",
    "        <td></td>\n",
    "        <td></td>\n",
    "    </tr>\n",
    "    <tr>\n",
    "        <td style=\"text-align:center;\"> <strong style=\"color:#CE7C0D\">Boucle non bornée<br>\n",
    "«Tant que»</strong> </td>\n",
    "        <td> </td>\n",
    "        <td width=400 style=\"text-align:left;\"><strong>while</strong> condition <strong>:</strong><br>$\\quad$ |instructions à réaliser</td>\n",
    "        <td> </td>\n",
    "        <td width=400 style=\"text-align:left;\">Boucle effectuée tant que la condition (de type bool) est vérifiée.<br>\n",
    "<span style='font-size: 10px;'>NB : Pour créer une condition, voir Tests (Rappel : Il faut éviter les tests d’égalité sur les float)</span></td>\n",
    "    </tr>\n",
    "</table>\n",
    "</font></BLOCKQUOTE>\n",
    "\n",
    "<BLOCKQUOTE style=\"background-color:#FADAAD; face='Consolas'; font-size: 12px;\">\n",
    "<ul>\n",
    "<li><strong>Options du range :</strong>\n",
    "    <ul>\n",
    "        <li><font face='Consolas'><mark>range(n1,n2)</mark></font> permet de générer les entiers k tels que n1≤k<n2 ;</li>\n",
    "        <li><font face='Consolas'><mark>range(n1,n2,p)</mark></font> permet de générer les entiers k tels que n1≤k<n2 avec un pas p entre chaque valeur.</li>\n",
    "    </ul>\n",
    "    </li>\n",
    "<li><strong>Compléments sur for :</strong> <font face='Consolas'><mark>range</mark></font> est une instruction permettant de générer des int, mais on peut aussi faire itérer la boucle for sur une liste prédéfinie avec d’autres typages : <font face='Consolas'><mark>for mot in ['rouge','vert','bleu']</mark></font> ou <font face='Consolas'><mark>for lettre in 'python'</mark></font>.\n",
    "</ul>\n",
    "</BLOCKQUOTE>\n",
    "\n",
    "\n",
    "<span style=\"color:#CE7C0D; font-size: 10px;\">\n",
    "$\\quad\\quad$Ci-dessous quelques exemples modifiables de syntaxes. Pour exécuter une cellule, sélectionner la cellule puis <strong>SHIFT+Entrée</strong>.\n",
    "</span>"
   ]
  },
  {
   "cell_type": "code",
   "execution_count": 16,
   "metadata": {},
   "outputs": [
    {
     "name": "stdout",
     "output_type": "stream",
     "text": [
      "0\n",
      "1\n",
      "2\n",
      "3\n",
      "4\n"
     ]
    }
   ],
   "source": [
    "for k in range(5):       # exemple d'utilisation du range\n",
    "    print(k)             # range(5) génère les entiers à partir de 0 avec un pas de 1 et inférieurs strictement à 5"
   ]
  },
  {
   "cell_type": "code",
   "execution_count": 17,
   "metadata": {},
   "outputs": [
    {
     "name": "stdout",
     "output_type": "stream",
     "text": [
      "4\n",
      "7\n",
      "10\n"
     ]
    }
   ],
   "source": [
    "for k in range(4,12,3):  # exemple d'utilisation du range\n",
    "    print(k)             # range(4,12,3) génère les entiers à partir de 4 avec un pas de 3 et inférieurs strictement à 12"
   ]
  },
  {
   "cell_type": "code",
   "execution_count": 18,
   "metadata": {},
   "outputs": [
    {
     "name": "stdout",
     "output_type": "stream",
     "text": [
      "rouge\n",
      "vert\n",
      "bleu\n"
     ]
    }
   ],
   "source": [
    "for mot in ['rouge','vert','bleu']: # exemple de parcours d'une liste\n",
    "    print(mot)"
   ]
  },
  {
   "cell_type": "code",
   "execution_count": 19,
   "metadata": {},
   "outputs": [
    {
     "name": "stdout",
     "output_type": "stream",
     "text": [
      "p\n",
      "y\n",
      "t\n",
      "h\n",
      "o\n",
      "n\n"
     ]
    }
   ],
   "source": [
    "for lettre in 'python': # exemple de parcours d'une chaîne de caractères\n",
    "    print(lettre)"
   ]
  },
  {
   "cell_type": "code",
   "execution_count": 20,
   "metadata": {},
   "outputs": [
    {
     "name": "stdout",
     "output_type": "stream",
     "text": [
      "10\n",
      "5.0\n",
      "2.5\n",
      "1.25\n",
      "0.625\n",
      "0.3125\n",
      "0.15625\n"
     ]
    }
   ],
   "source": [
    "a = 10\n",
    "\n",
    "while a>0.1: # exemple d'utilisation d'une boucle while\n",
    "    print(a)\n",
    "    a=a/2"
   ]
  },
  {
   "cell_type": "markdown",
   "metadata": {},
   "source": [
    "<BLOCKQUOTE id=\"Listes\" style='background-color:#F09822;'>\n",
    "<h3 style=\"font-size: 24px;\">5. Gestion des listes</h3>\n",
    "</BLOCKQUOTE>"
   ]
  },
  {
   "cell_type": "markdown",
   "metadata": {},
   "source": [
    "<BLOCKQUOTE style=\"background-color:#F9C988; face='Consolas'\"><font face='Consolas'>\n",
    "<table style=\"font-size: 14px; text-align:center;\">\n",
    "    <tr>\n",
    "        <td > </td>\n",
    "        <td>   </td>\n",
    "        <td width=400 style=\"text-align:center; color:#CE7C0D\"> <strong>Syntaxe Python</strong> </td>\n",
    "        <td> </td>\n",
    "        <td width=400 style=\"text-align:center; color:#CE7C0D\"> <strong>Description</strong> </td>\n",
    "    </tr>\n",
    "    <tr>\n",
    "        <td></td>\n",
    "        <td></td>\n",
    "        <td></td>\n",
    "        <td></td>\n",
    "        <td></td>\n",
    "    </tr>\n",
    "    <tr>\n",
    "        <td style=\"text-align:center;\"> <strong style=\"color:#CE7C0D\">Création</strong></td>\n",
    "        <td>  </td>\n",
    "        <td width=400 style=\"text-align:left;\">L=[] <br> L=[2,-7,5,6.3]</td>\n",
    "        <td>  </td>\n",
    "        <td width=400 style=\"text-align:left;\">Création d’une liste vide<br>Création d’une liste contenant 4 éléments </td>\n",
    "    </tr>\n",
    "    <tr>\n",
    "        <td></td>\n",
    "        <td></td>\n",
    "        <td></td>\n",
    "        <td></td>\n",
    "    </tr>\n",
    "    <tr>\n",
    "        <td style=\"text-align:center;\"> <strong style=\"color:#CE7C0D\">Longueur</strong></td>\n",
    "        <td> </td>\n",
    "        <td width=400 style=\"text-align:left;\"><strong>len(</strong>L<strong>)</strong></td>\n",
    "        <td> </td>\n",
    "        <td width=400 style=\"text-align:left;\">Fonction renvoyant le nombre d’éléments de la liste L.<br>\n",
    "<span style='font-size: 10px;'>NB : len = length</span></td>    \n",
    "    <tr>\n",
    "        <td></td>\n",
    "        <td></td>\n",
    "        <td></td>\n",
    "        <td></td>\n",
    "    </tr>\n",
    "    <tr>\n",
    "        <td style=\"text-align:center;\"> <strong style=\"color:#CE7C0D\">Accès à une valeur</strong></td>\n",
    "        <td> </td>\n",
    "        <td width=400 style=\"text-align:left;\"><strong>L[</strong>k<strong>]</strong><br><strong>L[</strong>k<strong>]</strong>=v</td>\n",
    "        <td> </td>\n",
    "        <td width=400 style=\"text-align:left;\">Donne accès à la valeur de rang k de la liste L<br>Affecte la valeur v au terme de rang k de la liste L<br>\n",
    "<span style='font-size: 10px;'>Atention : Les rangs sont indexés à partir de 0 donc la valeur de rang k est la k+1 ème valeur de la liste.</span></td>\n",
    "    <tr>\n",
    "        <td></td>\n",
    "        <td></td>\n",
    "        <td></td>\n",
    "        <td></td>\n",
    "    </tr>\n",
    "    <tr>\n",
    "        <td style=\"text-align:center;\"> <strong style=\"color:#CE7C0D\">Test</strong></td>\n",
    "        <td> </td>\n",
    "        <td width=400 style=\"text-align:left;\">v <strong>in</strong> L</td>\n",
    "        <td> </td>\n",
    "        <td width=400 style=\"text-align:left;\">Renvoie un booléen indiquant si la valeur v est dans la liste L.</td>\n",
    "    </tr>\n",
    "    <tr>\n",
    "        <td></td>\n",
    "        <td></td>\n",
    "        <td></td>\n",
    "        <td></td>\n",
    "    </tr>\n",
    "    <tr>\n",
    "        <td style=\"text-align:center;\"> <strong style=\"color:#CE7C0D\">Ajout et suppression<br> d'éléments</strong></td>\n",
    "        <td> </td>\n",
    "        <td width=400 style=\"text-align:left;\">L<strong>.append(</strong>v<strong>)</strong><br>L<strong>.remove(</strong>v<strong>)</strong><br>L<strong>.pop(</strong>k<strong>)</strong></td>\n",
    "        <td> </td>\n",
    "        <td width=400 style=\"text-align:left;\"><strong>append :</strong> Place la valeur v à la fin de la liste L (ajout d’un élément).<br><strong>remove :</strong> Supprime la première apparition de la valeur v dans la liste L.<br><strong>pop :</strong> Supprime (et renvoie) la valeur de rang k de la liste L.</td>\n",
    "    </tr>\n",
    "    <tr>\n",
    "        <td></td>\n",
    "        <td></td>\n",
    "        <td></td>\n",
    "        <td></td>\n",
    "    </tr>\n",
    "    <tr>\n",
    "        <td style=\"text-align:center;\"> <strong style=\"color:#CE7C0D\">Création d'une liste par extensions successives et par compréhension</strong></td>\n",
    "        <td> </td>\n",
    "        <td width=400 style=\"text-align:left;\">L=[]<br><strong>for</strong> k <strong>in range(</strong>11<strong>):</strong><br>$\\quad$ L<strong>.append(</strong>k**2<strong>)</strong><br><br><span style=\"color:#888888\">est équivalent à</span><br><br>L=[k**2 <strong>for</strong> k <strong>in range(</strong>11<strong>)</strong>]</td>\n",
    "        <td> </td>\n",
    "        <td width=400 style=\"text-align:left;\">Création d’une liste à partir d’une liste vide, par extensions successives (ici, création de la liste des carrés des entiers de 0 à 10)\n",
    "et son équivalent en syntaxe rapide, par compréhension.</td>   \n",
    "    </tr>\n",
    "    <tr>\n",
    "        <td></td>\n",
    "        <td></td>\n",
    "        <td></td>\n",
    "        <td></td>\n",
    "    </tr>\n",
    "    <tr>\n",
    "        <td style=\"text-align:center;\"> <strong style=\"color:#CE7C0D\">Création d'une liste par extensions successives et par compréhension, avec condition</strong></td>\n",
    "        <td> </td>\n",
    "        <td width=400 style=\"text-align:left;\">L=[]<br><strong>for</strong> k <strong>in range(</strong>11<strong>):</strong><br>$\\quad$ <strong>if</strong> k%2<strong>:</strong><br> $\\quad\\quad\\;\\;$ L<strong>.append(</strong>k**2<strong>)</strong><br><br><span style=\"color:#888888\">est équivalent à</span><br><br>L=[k**2 <strong>for</strong> k <strong>in range(</strong>11<strong>) if</strong> k%2]</td>\n",
    "        <td> </td>\n",
    "        <td width=400 style=\"text-align:left;\">Création d’une liste à partir d’une liste vide, par extensions successives sous condition (ici, création de la liste des carrés des entiers k de 0 à 10 pour k impair) et son équivalent en syntaxe rapide, par compréhension avec condition.</td>     </tr>\n",
    "</table>\n",
    "</font></BLOCKQUOTE>\n",
    "\n",
    "<BLOCKQUOTE style=\"background-color:#FADAAD; face='Consolas'; font-size: 12px;\">\n",
    "<ul>\n",
    "    <li><strong>Listes et tuples :</strong> La liste est un type d’objet de taille dynamique, contrairement à un élément de type tuple (équivalent d’un tableau), dont la taille est fixée. Ce type tuple peut être utile notamment pour stocker des coordonnées en dimension fixée (2 ou 3 par exemple), mais la valeur est ensuite non modifiable.</li>\n",
    "    <li><strong>Autres types de collections :</strong> Il existe en Python d’autres types de collections que les listes, par exemple les dictionnaires (type dict). Mais dans les programmes officiels du lycée, il est indiqué : « Afin d’éviter les confusions, on se limite aux listes dans présenter d’autres types de collections ».</li>\n",
    "    <li><strong>Gestion des tuples :</strong></li>\n",
    "    <table style=\"font-size: 12px; text-align:center;\">\n",
    "    <tr>\n",
    "        <td > </td>\n",
    "        <td>   </td>\n",
    "        <td width=400 style=\"text-align:center; color:#CE7C0D\"> <strong>Syntaxe Python</strong> </td>\n",
    "        <td> </td>\n",
    "        <td width=400 style=\"text-align:center; color:#CE7C0D\"> <strong>Description</strong> </td>\n",
    "    </tr>\n",
    "    <tr>\n",
    "        <td></td>\n",
    "        <td></td>\n",
    "        <td></td>\n",
    "        <td></td>\n",
    "        <td></td>\n",
    "    </tr>\n",
    "    <tr>\n",
    "        <td>Création</td>\n",
    "        <td></td>\n",
    "        <td style='text-align:left;'>t = (2,-3,1) <span style=\"color:#888888\">ou</span> t = 2,-3,1</td>\n",
    "        <td></td>\n",
    "        <td>Création d'un 3-uplet contenant les 3 valeurs 2; -3 et 1.</td>\n",
    "    </tr>\n",
    "    <tr>\n",
    "        <td></td>\n",
    "        <td></td>\n",
    "        <td></td>\n",
    "        <td></td>\n",
    "        <td></td>\n",
    "    </tr>\n",
    "    <tr>\n",
    "        <td>Accès à une valeur</td>\n",
    "        <td></td>\n",
    "        <td style='text-align:left;'>t[k]<br>a,b,c = t</td>\n",
    "        <td></td>\n",
    "        <td>Donne accès à la valeur de rang k du tuple t<br>Stocke dans a,b,c les valeurs du tuple t</td>\n",
    "    </tr>  \n",
    "</table>\n",
    "</ul>\n",
    "</BLOCKQUOTE>\n",
    "\n",
    "\n",
    "<span style=\"color:#CE7C0D; font-size: 10px;\">\n",
    "$\\quad\\quad$Ci-dessous quelques exemples modifiables de syntaxes. Pour exécuter une cellule, sélectionner la cellule puis <strong>SHIFT+Entrée</strong>.\n",
    "</span>"
   ]
  },
  {
   "cell_type": "code",
   "execution_count": 21,
   "metadata": {},
   "outputs": [
    {
     "data": {
      "text/plain": [
       "[2, -7, 5, 6.3]"
      ]
     },
     "execution_count": 21,
     "metadata": {},
     "output_type": "execute_result"
    }
   ],
   "source": [
    "L=[2,-7,5,6.3]             # création d'une liste contenant 4 valeurs\n",
    "L                          # affichage de la liste"
   ]
  },
  {
   "cell_type": "code",
   "execution_count": 22,
   "metadata": {},
   "outputs": [
    {
     "data": {
      "text/plain": [
       "4"
      ]
     },
     "execution_count": 22,
     "metadata": {},
     "output_type": "execute_result"
    }
   ],
   "source": [
    "len(L)                     # affichage de la taille de la liste"
   ]
  },
  {
   "cell_type": "code",
   "execution_count": 23,
   "metadata": {},
   "outputs": [
    {
     "data": {
      "text/plain": [
       "-7"
      ]
     },
     "execution_count": 23,
     "metadata": {},
     "output_type": "execute_result"
    }
   ],
   "source": [
    "L[1]                       # affichage de l'élément de rang 1 de la liste"
   ]
  },
  {
   "cell_type": "code",
   "execution_count": 24,
   "metadata": {},
   "outputs": [
    {
     "data": {
      "text/plain": [
       "[2, 4, 5, 6.3]"
      ]
     },
     "execution_count": 24,
     "metadata": {},
     "output_type": "execute_result"
    }
   ],
   "source": [
    "L[1] = 4                   # affectation d'une nouvelle valeur à l'élément de rang 1 de la liste\n",
    "L                          # affichage de la liste"
   ]
  },
  {
   "cell_type": "code",
   "execution_count": 25,
   "metadata": {},
   "outputs": [
    {
     "data": {
      "text/plain": [
       "True"
      ]
     },
     "execution_count": 25,
     "metadata": {},
     "output_type": "execute_result"
    }
   ],
   "source": [
    "5 in L                     # test de l'appartenance d'une valeur à la liste"
   ]
  },
  {
   "cell_type": "code",
   "execution_count": 26,
   "metadata": {},
   "outputs": [
    {
     "data": {
      "text/plain": [
       "[2, 4, 5, 6.3, 7]"
      ]
     },
     "execution_count": 26,
     "metadata": {},
     "output_type": "execute_result"
    }
   ],
   "source": [
    "L.append(7)                # ajout d'une valeur dans la liste\n",
    "L                          # affichage de la liste"
   ]
  },
  {
   "cell_type": "code",
   "execution_count": 27,
   "metadata": {},
   "outputs": [
    {
     "data": {
      "text/plain": [
       "[2, 4, 6.3, 7]"
      ]
     },
     "execution_count": 27,
     "metadata": {},
     "output_type": "execute_result"
    }
   ],
   "source": [
    "L.remove(5)                # suppression d'une valeur de la liste\n",
    "L                          # affichage de la liste"
   ]
  },
  {
   "cell_type": "code",
   "execution_count": 28,
   "metadata": {},
   "outputs": [
    {
     "data": {
      "text/plain": [
       "[2, 6.3, 7]"
      ]
     },
     "execution_count": 28,
     "metadata": {},
     "output_type": "execute_result"
    }
   ],
   "source": [
    "L.pop(1)                   # suppression de l'élément de rang 1 de la liste\n",
    "L                          # affichage de la liste"
   ]
  },
  {
   "cell_type": "code",
   "execution_count": 29,
   "metadata": {},
   "outputs": [
    {
     "data": {
      "text/plain": [
       "[0, 1, 4, 9, 16, 25, 36, 49, 64, 81, 100]"
      ]
     },
     "execution_count": 29,
     "metadata": {},
     "output_type": "execute_result"
    }
   ],
   "source": [
    "#génération d'une liste par extensions successives\n",
    "\n",
    "L=[ ]\n",
    "for k in range(11):\n",
    "    L.append(k**2)\n",
    "\n",
    "L                          # affichage de la liste        "
   ]
  },
  {
   "cell_type": "code",
   "execution_count": 30,
   "metadata": {},
   "outputs": [
    {
     "data": {
      "text/plain": [
       "[0, 1, 4, 9, 16, 25, 36, 49, 64, 81, 100]"
      ]
     },
     "execution_count": 30,
     "metadata": {},
     "output_type": "execute_result"
    }
   ],
   "source": [
    "#génération d'une liste par compréhension\n",
    "\n",
    "L=[ k**2 for k in range(11) ]\n",
    "\n",
    "L                          # affichage de la liste   "
   ]
  },
  {
   "cell_type": "code",
   "execution_count": 31,
   "metadata": {},
   "outputs": [
    {
     "data": {
      "text/plain": [
       "[1, 9, 25, 49, 81]"
      ]
     },
     "execution_count": 31,
     "metadata": {},
     "output_type": "execute_result"
    }
   ],
   "source": [
    "#génération d'une liste par extensions successives avec condition\n",
    "\n",
    "L=[ ]\n",
    "for k in range(11):\n",
    "    if k%2:\n",
    "        L.append(k**2)\n",
    "\n",
    "L                          # affichage de la liste    "
   ]
  },
  {
   "cell_type": "code",
   "execution_count": 32,
   "metadata": {},
   "outputs": [
    {
     "data": {
      "text/plain": [
       "[1, 9, 25, 49, 81]"
      ]
     },
     "execution_count": 32,
     "metadata": {},
     "output_type": "execute_result"
    }
   ],
   "source": [
    "#génération d'une liste par compréhension sous condition\n",
    "\n",
    "L=[ k**2 for k in range(11) if k%2]\n",
    "\n",
    "L                          # affichage de la liste "
   ]
  },
  {
   "cell_type": "markdown",
   "metadata": {},
   "source": [
    "<BLOCKQUOTE id=\"Modules\" style='background-color:#F09822;'>\n",
    "<h3 style=\"font-size: 24px;\">6. Utilisation de modules / Bibliothèques</h3>\n",
    "</BLOCKQUOTE>"
   ]
  },
  {
   "cell_type": "markdown",
   "metadata": {},
   "source": [
    "<BLOCKQUOTE style=\"background-color:#F9C988; face='Consolas'\"><font face='Consolas'>\n",
    "<table style=\"font-size: 14px; text-align:center;\">\n",
    "    <tr>\n",
    "        <td > </td>\n",
    "        <td>   </td>\n",
    "        <td width=400 style=\"text-align:center; color:#CE7C0D\"> <strong>Syntaxe Python</strong> </td>\n",
    "        <td> </td>\n",
    "        <td width=400 style=\"text-align:center; color:#CE7C0D\"> <strong>Description</strong> </td>\n",
    "    </tr>\n",
    "    <tr>\n",
    "        <td></td>\n",
    "        <td></td>\n",
    "        <td></td>\n",
    "        <td></td>\n",
    "        <td></td>\n",
    "    </tr>\n",
    "    <tr>\n",
    "        <td style=\"text-align:center;\"> <strong style=\"color:#CE7C0D\">Module math</strong></td>\n",
    "        <td>  </td>\n",
    "        <td width=400 style=\"text-align:left;\"><strong>from</strong> math <strong>import</strong>*</td>\n",
    "        <td>  </td>\n",
    "        <td width=400 style=\"text-align:left;\">Permet de récupérer toutes les fonctions et constantes du module math (* signifie tout)</td>\n",
    "    </tr>\n",
    "    <tr>\n",
    "        <td></td>\n",
    "        <td></td>\n",
    "        <td></td>\n",
    "        <td></td>\n",
    "    </tr>\n",
    "    <tr>\n",
    "        <td style=\"text-align:center;\"> <strong style=\"color:#CE7C0D\"> </strong></td>\n",
    "        <td>  </td>\n",
    "        <td width=400 style=\"text-align:left;\"><span style=\"color:#888888\">avec le module math :</span><br>pi$\\quad$e<br>log(x)$\\quad$exp(x)<br>cos(x)$\\quad$sin(x)$\\quad$tan(x)<br>sqrt(x)</td>\n",
    "        <td>  </td>\n",
    "        <td width=400 style=\"text-align:left;\">$\\;$<br>Valeurs approchées de $\\pi$ et de e<br>logarithme népérien et exponentielle de x<br>cosinus, sinus et tangente de x<br>racine carrée de x</td>\n",
    "    </tr>\n",
    "    <tr>\n",
    "        <td></td>\n",
    "        <td></td>\n",
    "        <td></td>\n",
    "        <td></td>\n",
    "    </tr>\n",
    "    <tr>\n",
    "        <td style=\"text-align:center;\"> <strong style=\"color:#CE7C0D\">Module random</strong> </td>\n",
    "        <td> </td>\n",
    "        <td width=400 style=\"text-align:left;\"><strong>from</strong> random <strong>import</strong>*</td>\n",
    "        <td> </td>\n",
    "        <td width=400 style=\"text-align:left;\">Permet de récupérer toutes les fonctions et constantes du module random (* signifie tout)</span></td>\n",
    "    </tr>\n",
    "    <tr>\n",
    "        <td></td>\n",
    "        <td></td>\n",
    "        <td></td>\n",
    "        <td></td>\n",
    "    </tr>\n",
    "    <tr>\n",
    "        <td style=\"text-align:center;\"> <strong style=\"color:#CE7C0D\"> </strong></td>\n",
    "        <td>  </td>\n",
    "        <td width=400 style=\"text-align:left;\"><span style=\"color:#888888\">avec le module random :</span><br>random()<br>randint(a,b)</td>\n",
    "        <td>  </td>\n",
    "        <td width=400 style=\"text-align:left;\">$\\;$<br>Nombre flottant aléatoire dans [0;1[<br>Nombre int aléatoire compris entre a et b</td>\n",
    "    </tr>\n",
    "</table>\n",
    "</font></BLOCKQUOTE>\n",
    "\n",
    "<BLOCKQUOTE style=\"background-color:#FADAAD; face='Consolas'; font-size: 12px;\">\n",
    "<ul>\n",
    "<li><strong>Installation d'une bibliothèque :</strong> <br>Pour ajouter certaines bibliothèques à l'environnement Python, il faux exécuter une seule fois en console l'instruction <font face='Consolas'><mark><strong>pip install</strong> nom_du_module</mark></font></li>\n",
    "<li><strong>Utilisation d’une bibliothèque :</strong> <br>Il convient d’importer en début de programme les fonctions du module à l’aide de l’instruction <font face='Consolas'><mark><strong>from</strong> nom_module <strong>import</strong>*</mark></font> (* signifie toutes les fonctions)<br>\n",
    "NB : On peut aussi importer les fonctions du module à l’aide de l’instruction <font face='Consolas'><mark><strong>import </strong>nom_module</mark></font> mais les fonctions devront ensuite être appelées avec la syntaxe <font face='Consolas'><mark>nom_module.nom_fonction()</mark></font>, moins pratique à l’usage mais évitant les ambiguités si des fonctions de deux bibliothèques portaient le même nom.</li>\n",
    "    <li><strong>Import sélectif :</strong><br> Si on ne souhaite récupérer que certaines fonctions ou variables d'un module, on peut également utiliser une syntaxe du type <font face='Consolas'><mark>from math import sqrt,pi</mark></font> en listant les éléments souhaités.</li>\n",
    "</ul>\n",
    "</BLOCKQUOTE>\n",
    "\n",
    "\n",
    "<span style=\"color:#CE7C0D; font-size: 10px;\">\n",
    "$\\quad\\quad$Ci-dessous quelques exemples modifiables de syntaxes. Pour exécuter une cellule, sélectionner la cellule puis <strong>SHIFT+Entrée</strong>.\n",
    "</span>"
   ]
  },
  {
   "cell_type": "code",
   "execution_count": 33,
   "metadata": {},
   "outputs": [],
   "source": [
    "from math import*           # import du module math"
   ]
  },
  {
   "cell_type": "code",
   "execution_count": 34,
   "metadata": {},
   "outputs": [
    {
     "data": {
      "text/plain": [
       "3.141592653589793"
      ]
     },
     "execution_count": 34,
     "metadata": {},
     "output_type": "execute_result"
    }
   ],
   "source": [
    "pi                          # valeur approchée de pi"
   ]
  },
  {
   "cell_type": "code",
   "execution_count": 35,
   "metadata": {},
   "outputs": [
    {
     "data": {
      "text/plain": [
       "2.718281828459045"
      ]
     },
     "execution_count": 35,
     "metadata": {},
     "output_type": "execute_result"
    }
   ],
   "source": [
    "e                           # valeur approchée de e (nombre d'Euler)"
   ]
  },
  {
   "cell_type": "code",
   "execution_count": 36,
   "metadata": {},
   "outputs": [
    {
     "data": {
      "text/plain": [
       "0.6931471805599453"
      ]
     },
     "execution_count": 36,
     "metadata": {},
     "output_type": "execute_result"
    }
   ],
   "source": [
    "log(2)                      # logarithme népérien"
   ]
  },
  {
   "cell_type": "code",
   "execution_count": 37,
   "metadata": {},
   "outputs": [
    {
     "data": {
      "text/plain": [
       "7.38905609893065"
      ]
     },
     "execution_count": 37,
     "metadata": {},
     "output_type": "execute_result"
    }
   ],
   "source": [
    "exp(2)                      # exponentielle"
   ]
  },
  {
   "cell_type": "code",
   "execution_count": 38,
   "metadata": {},
   "outputs": [
    {
     "data": {
      "text/plain": [
       "1.4142135623730951"
      ]
     },
     "execution_count": 38,
     "metadata": {},
     "output_type": "execute_result"
    }
   ],
   "source": [
    "sqrt(2)                     # racine carrée"
   ]
  },
  {
   "cell_type": "code",
   "execution_count": 39,
   "metadata": {},
   "outputs": [],
   "source": [
    "from random import*         # import du module random"
   ]
  },
  {
   "cell_type": "code",
   "execution_count": 40,
   "metadata": {},
   "outputs": [
    {
     "data": {
      "text/plain": [
       "0.15537491729049413"
      ]
     },
     "execution_count": 40,
     "metadata": {},
     "output_type": "execute_result"
    }
   ],
   "source": [
    "random()                    # nombre aléatoire dans [0;1["
   ]
  },
  {
   "cell_type": "code",
   "execution_count": 41,
   "metadata": {},
   "outputs": [
    {
     "data": {
      "text/plain": [
       "3"
      ]
     },
     "execution_count": 41,
     "metadata": {},
     "output_type": "execute_result"
    }
   ],
   "source": [
    "randint(1,6)                # entier aléatoire compris entre 1 et 6 (1 et 6 inclus)"
   ]
  },
  {
   "cell_type": "markdown",
   "metadata": {},
   "source": [
    "*(C) Copyright Franck CHEVRIER 2019-2020 http://www.python-lycee.com/*"
   ]
  }
 ],
 "metadata": {
  "kernelspec": {
   "display_name": "Python 3",
   "language": "python",
   "name": "python3"
  },
  "language_info": {
   "codemirror_mode": {
    "name": "ipython",
    "version": 3
   },
   "file_extension": ".py",
   "mimetype": "text/x-python",
   "name": "python",
   "nbconvert_exporter": "python",
   "pygments_lexer": "ipython3",
   "version": "3.7.9"
  }
 },
 "nbformat": 4,
 "nbformat_minor": 2
}
