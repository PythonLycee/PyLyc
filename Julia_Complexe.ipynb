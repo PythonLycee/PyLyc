{
 "cells": [
  {
   "cell_type": "markdown",
   "metadata": {},
   "source": [
    "![En tête general](img/En_tete_general.png)\n",
    "\n",
    "\n",
    "*(C) Copyright Franck CHEVRIER 2019-2020 http://www.python-lycee.com/*\n",
    "\n",
    "<span style=\"color: #9317B4\"> Pour exécuter une saisie Python, sélectionner la cellule et valider avec </span><span style=\"color: #B317B4\"><strong>SHIFT+Entrée</strong></span>.\n"
   ]
  },
  {
   "cell_type": "markdown",
   "metadata": {},
   "source": [
    "# <span style=\"color:#6C3483\">Les ensembles de Julia </span>\n",
    "<a href=\"https://mybinder.org/v2/gh/PythonLycee/PyLyc/master?filepath=Mandelbrot_Complexe.ipynb\">\n",
    "<figure style=\"float: right;\">\n",
    "    <img src=\"img/Mandelbrot.gif\">\n",
    "    <figcaption><FONT size=\"1pt\">Ensemble de Mandelbrot</FONT></figcaption>\n",
    "</figure>\n",
    "</a>\n",
    "<span style=\"color:#6C3483\">Notes : \n",
    "<ul style=\"color:#6C3483\">\n",
    "    <li>Cette activité <u>ne</u> nécessite <u>pas</u> la connaissance de l'écriture exponentielle d'un nombre complexe.</li>\n",
    "    <li>Il est conseillé de réaliser cette activité <strong>après</strong> celle sur l'<a href=\"https://mybinder.org/v2/gh/PythonLycee/PyLyc/master?filepath=Mandelbrot_Complexe.ipynb\">ensemble de Mandelbrot</a>.</li>\n",
    "</span>\n",
    "    "
   ]
  },
  {
   "cell_type": "markdown",
   "metadata": {},
   "source": [
    "### <span style=\"color:#8E44AD\">Sommaire</span>\n",
    "\n",
    "<span style=\"color:#8E44AD\">0.</span> <a href=\"#0\">Définition des ensembles de Julia.</a><br>\n",
    "<span style=\"color:#8E44AD\">1.</span> <a href=\"#1\">Algorithme de calcul des termes de la suite $(z_n)_{n\\geq0}$ et applications directes.</a><br>\n",
    "<span style=\"color:#8E44AD\">2.</span> <a href=\"#2\">Représentation graphique d'un ensemble de Julia.</a><br>\n"
   ]
  },
  {
   "cell_type": "markdown",
   "metadata": {},
   "source": [
    "## <span style=\"color:#8E44AD\" id=\"0\">0. Définition des ensembles de Julia.</span>"
   ]
  },
  {
   "cell_type": "markdown",
   "metadata": {},
   "source": [
    "<BLOCKQUOTE style='background-color:#F1CFF1;'><strong>Pour tout $c \\in \\mathbb{C}$ et tout $a \\in \\mathbb{C}$, on considère la suite de nombres complexes $(z_n)_{n \\geq 0}$ définie par :\n",
    "<ul>\n",
    "    <li>$z_0=a$ ;</li>\n",
    "    <li>$\\forall n \\in \\mathbb{N}$ ; $\\displaystyle z_{n+1}=z_n^2+c$.</li>\n",
    "</ul>\n",
    "et on pose :</strong><br><br>\n",
    "$\\forall n \\in \\mathbb{N}$ ; $r_n = \\lvert z_n \\rvert$.<br><br>\n",
    "</BLOCKQUOTE>\n",
    "<BLOCKQUOTE style='background-color:#E1AFE1;'>\n",
    "On considère que $c$ est fixé.<br>\n",
    "Pour chaque valeur de $a$, la suite $(r_n)_{n \\geq 0}$ est soit bornée soit non bornée.<br><br>\n",
    "L'<strong>ensemble de Julia</strong> $\\mathcal{J}_c$ est l'ensemble des nombres complexes $a$ tels que la suite $(r_n)_{n \\geq 0}$ est bornée.\n",
    "</BLOCKQUOTE>    \n"
   ]
  },
  {
   "cell_type": "markdown",
   "metadata": {},
   "source": [
    "## <span style=\"color:#8E44AD\" id=\"1\">1. Algorithme de calcul des termes de la suite $(z_n)_{n \\geq 0}$ et applications directes</span>"
   ]
  },
  {
   "cell_type": "markdown",
   "metadata": {},
   "source": [
    "__1.1. Écrire une fonction Python <mark>z</mark> qui reçoit en arguments <mark>n,a,c</mark> (dans cet ordre) et qui renvoie le terme $z_n$.__"
   ]
  },
  {
   "cell_type": "code",
   "execution_count": null,
   "metadata": {},
   "outputs": [],
   "source": [
    "# Écrire ici la fonction Python z\n",
    "def z(n,a,c):\n",
    "    m = a\n",
    "    for k in range(n):\n",
    "        m = m**2 + c\n",
    "    return m\n"
   ]
  },
  {
   "cell_type": "markdown",
   "metadata": {},
   "source": [
    "__1.2. Dans cette question, on fixe $c=0,25+0,5i$.__<br>\n",
    "$\\quad\\;$__Exécuter la cellule suivante. Que représentent les valeurs obtenues dans la liste ?__<br>\n",
    "$\\quad\\;$__Le nombre $a=i$ semble-t-il appartenir à $\\mathcal{J}_{0,25+0,5i}$ ? Justifier.__<br>\n",
    "$\\quad\\;$Aide : La fonction Python <mark>abs</mark> permet de calculer le module d'un nombre complexe.\n"
   ]
  },
  {
   "cell_type": "code",
   "execution_count": null,
   "metadata": {},
   "outputs": [],
   "source": [
    "c = 0.25+0.5j\n",
    "a = 1j\n",
    "\n",
    "[abs(z(n,a,c)) for n in range(21)]"
   ]
  },
  {
   "cell_type": "markdown",
   "metadata": {},
   "source": [
    "__1.3. Effectuer une(des) saisie(s) permettant de conjecturer si le nombre $a=0,25$ appartient à $\\mathcal{J}_{0,25+0,5i}$.__<br>\n",
    "$\\quad\\;\\;$__Faire de même pour conjecturer si $a=0,9i$ appartient à $\\mathcal{J}_{0,25+0,5i}$.__\n"
   ]
  },
  {
   "cell_type": "code",
   "execution_count": null,
   "metadata": {},
   "outputs": [],
   "source": [
    "c = 0.25+0.5j\n",
    "a = 0.25\n",
    "\n",
    "[abs(z(n,a,c)) for n in range(21)]"
   ]
  },
  {
   "cell_type": "code",
   "execution_count": null,
   "metadata": {},
   "outputs": [],
   "source": [
    "c = 0.25+0.5j\n",
    "a = 0.9j\n",
    "\n",
    "[abs(z(n,a,c)) for n in range(21)]"
   ]
  },
  {
   "cell_type": "markdown",
   "metadata": {},
   "source": [
    "## <span style=\"color:#8E44AD\" id=\"2\">2. Représentation graphique d'un ensemble de Julia.</span>"
   ]
  },
  {
   "cell_type": "markdown",
   "metadata": {},
   "source": [
    "__Dans cette partie, on souhaite représenter dans le plan complexe un ensemble de Julia $\\mathcal{J}_c$.__<br>\n",
    "__Pour cela, pour chaque valeur de $a$, on calcule $M=r_{20}=\\lvert z_{20} \\rvert$.__<br>\n",
    "\n",
    "__On fait l'approximation que plus la valeur $M$ est élevée, plus la probabilité que $a$ appartienne à $\\mathcal{J}_c$ est faible.__"
   ]
  },
  {
   "cell_type": "markdown",
   "metadata": {},
   "source": [
    "__2.1. Dans cette question, on pose $c=0,25+0,5i$.__<br>\n",
    "$\\quad\\;\\;$__Effectuer une saisie Python pour calculer $M$ dans le cas où $a=0,2+0,3i$.__<br>\n",
    "$\\quad\\;\\;$__Le nombre $a=0,2+0,3i$ semble-t-il appartenir à $\\mathcal{J}_{0,25+0,5i}$ ?__<br>\n",
    "$\\quad\\;\\;$Aide : La fonction Python <mark>max</mark> permet de calculer le maximum d'une liste de valeurs.\n"
   ]
  },
  {
   "cell_type": "code",
   "execution_count": null,
   "metadata": {},
   "outputs": [],
   "source": [
    "c = 0.25+0.5j\n",
    "a = 0.2+0.3j\n",
    "\n",
    "M =abs(z(20,a,c)) \n",
    "M"
   ]
  },
  {
   "cell_type": "markdown",
   "metadata": {},
   "source": [
    "__2.2. Écrire une fonction Python <mark>M</mark> qui reçoit en arguments <mark>a,c</mark> (dans cet ordre) et renvoie la valeur de $M=r_{20}$ correspondante. Effectuer un appel à cette fonction pour retrouver la valeur de $M$ de la question 2.1.__"
   ]
  },
  {
   "cell_type": "code",
   "execution_count": null,
   "metadata": {},
   "outputs": [],
   "source": [
    "# Écrire ici la fonction Python M\n",
    "\"\"\"\n",
    "def M(a,c):\n",
    "    return max( [abs(z(n,a,c)) for n in range(21)] )\n",
    "\n",
    "\"\"\"\n",
    "def M(a,c):\n",
    "    return abs(z(20,a,c)) "
   ]
  },
  {
   "cell_type": "code",
   "execution_count": null,
   "metadata": {},
   "outputs": [],
   "source": [
    "# Tester ici la fonction M\n",
    "M(0.2+0.3j,0.25+0.5j)"
   ]
  },
  {
   "cell_type": "markdown",
   "metadata": {},
   "source": [
    "__2.3. Exécuter la cellule ci-dessous. La fonction Python <mark>graph_Julia</mark> ci-dessous permettra la représentation graphique d'un ensemble de Julia (elle utilise les valeurs fournies par la fonction Python <mark>M</mark>).__"
   ]
  },
  {
   "cell_type": "code",
   "execution_count": null,
   "metadata": {
    "scrolled": false
   },
   "outputs": [],
   "source": [
    "#import des modules nécessaires\n",
    "from PIL import Image, ImageDraw\n",
    "\n",
    "def graph_Julia(c,M=M,xmin=-2,xmax=2,ymin=-2,ymax=2,pix_unite=150,couleur_fond=(240,245,255),couleur_figure=(80,0,80),couleur_axes=(50,10,10)):\n",
    "    \"\"\"\n",
    "    REPRESENTATION GRAPHIQUE D'UN ENSEMBLE DE COMPLEXES\n",
    "    M: fonction booléenne qui indique si un complexe appartient à l'ensemble représenté\n",
    "    xmin, xmax, ymin, ymax : paramètres de réglage de la fenêtre de visualisation\n",
    "    pix_unite: nombre de pixels par unité\n",
    "    couleur_figure: couleur de l'ensemble représenté\n",
    "    couleur_axes: couleur des axes\n",
    "    \"\"\"\n",
    "    # fonction pour le dégradé de couleur de la figure\n",
    "    def couleur(t,r,g,b,rmax,gmax,bmax,coeff=100):\n",
    "        degrad=int(t*coeff)\n",
    "        return min(degrad+r,rmax),min(degrad+g,gmax),min(degrad+b,bmax)\n",
    "    \n",
    "    # création du graphique\n",
    "    largeur=pix_unite*(xmax-xmin)+1 ; hauteur=pix_unite*(ymax-ymin)+1       \n",
    "    Graphique = Image.new('RGB', (largeur,hauteur) , color=couleur_fond )           \n",
    "    Curseur = ImageDraw.Draw(Graphique)\n",
    "        \n",
    "    # tracé de l'ensemble M\n",
    "    for X in range(largeur):\n",
    "        for Y in range(hauteur):\n",
    "            # création des coordonnées mathématiques correspondant aux coordonnées de l'image\n",
    "            x,y = xmin+X*(xmax-xmin)/largeur,ymin+(hauteur-Y)*(ymax-ymin)/hauteur\n",
    "            # construction du complexe a\n",
    "            a = complex(x,y)\n",
    "            # coloration du point si a appartient à Jc\n",
    "            try:\n",
    "                Curseur.point([X, Y], couleur(M(a,c),*couleur_figure,*couleur_fond))\n",
    "            except:\n",
    "                Curseur.point([X, Y], couleur_fond)\n",
    "\n",
    "    def conv_coord(x,y):\n",
    "        \"fonction qui convertit une coordonnée du repère mathématique en coordonnée sur l'image\"\n",
    "        return (x-xmin)*pix_unite,(y-ymin)*pix_unite,\n",
    "    \n",
    "    # tracé des axes\n",
    "    Curseur.line([conv_coord(xmin,0),conv_coord(xmax,0)],fill=couleur_axes)\n",
    "    Curseur.line([conv_coord(0,ymin),conv_coord(0,ymax)],fill=couleur_axes)\n",
    "    \n",
    "    # création des graduations annotées\n",
    "    for x in range(int(xmin),int(xmax)+1):\n",
    "        Curseur.line([conv_coord(x,-0.02),conv_coord(x,0.02)], fill=couleur_axes)    \n",
    "        Curseur.text(conv_coord(x+(-0.05 if x>=0 else 0.03),0.02),str(x),fill=couleur_axes)\n",
    "    for y in range(int(ymin),int(ymax)+1):\n",
    "        Curseur.line([conv_coord(-0.02,y),conv_coord(0.02,y)], fill=couleur_axes)    \n",
    "        Curseur.text(conv_coord(0.02,y+(-0.07 if y>=0 else 0.03)),str(-y),fill=couleur_axes)\n",
    "    \n",
    "    # écriture du titre / nom de la figure\n",
    "    Curseur.text((0,0),\"Ensemble de Julia\\navec c=\"+str(c),fill=couleur_figure)\n",
    "        \n",
    "    return Graphique\n"
   ]
  },
  {
   "cell_type": "markdown",
   "metadata": {},
   "source": [
    "__a. Exécuter la cellule ci-dessous pour obtenir une représentation de $\\mathcal{J}_{0,25+0,5i}$.__<br>\n",
    "$\\quad$__Vérifier graphiquement vos réponses aux questions 1.2 , 1.3 et 2.1.__"
   ]
  },
  {
   "cell_type": "code",
   "execution_count": null,
   "metadata": {},
   "outputs": [],
   "source": [
    "graph_Julia(0.25+0.5j)"
   ]
  },
  {
   "cell_type": "markdown",
   "metadata": {},
   "source": [
    "__b. Exécuter les cellules ci-dessous pour obtenir des représentations d'autres ensembles de Julia.__<br>\n",
    "$\\quad$__Tester ensuite d'autres valeurs pour $c$...__"
   ]
  },
  {
   "cell_type": "code",
   "execution_count": null,
   "metadata": {},
   "outputs": [],
   "source": [
    "graph_Julia(0.285+0.01j)"
   ]
  },
  {
   "cell_type": "code",
   "execution_count": null,
   "metadata": {},
   "outputs": [],
   "source": [
    "graph_Julia(-0.8+0.156j)"
   ]
  },
  {
   "cell_type": "code",
   "execution_count": null,
   "metadata": {},
   "outputs": [],
   "source": [
    "graph_Julia(0.35+0.2j)"
   ]
  },
  {
   "cell_type": "code",
   "execution_count": null,
   "metadata": {
    "scrolled": false
   },
   "outputs": [],
   "source": [
    "graph_Julia(0.3+0.5j)"
   ]
  },
  {
   "cell_type": "code",
   "execution_count": null,
   "metadata": {},
   "outputs": [],
   "source": [
    "graph_Julia(0.25-0.005j)"
   ]
  },
  {
   "cell_type": "markdown",
   "metadata": {},
   "source": [
    "![Gaston_Maurice_Julia](img/Gaston_Maurice_Julia.jpg)\n",
    "\n",
    "<center> <a href=\"https://fr.wikipedia.org/wiki/Gaston_Julia\">Gaston Maurice Julia</a> (1893-1978) </center>"
   ]
  },
  {
   "cell_type": "markdown",
   "metadata": {},
   "source": [
    "*(C) Copyright Franck CHEVRIER 2019-2020 http://www.python-lycee.com/*\n"
   ]
  }
 ],
 "metadata": {
  "celltoolbar": "Raw Cell Format",
  "kernelspec": {
   "display_name": "Python 3",
   "language": "python",
   "name": "python3"
  },
  "language_info": {
   "codemirror_mode": {
    "name": "ipython",
    "version": 3
   },
   "file_extension": ".py",
   "mimetype": "text/x-python",
   "name": "python",
   "nbconvert_exporter": "python",
   "pygments_lexer": "ipython3",
   "version": "3.7.9"
  }
 },
 "nbformat": 4,
 "nbformat_minor": 2
}
